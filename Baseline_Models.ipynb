{
 "cells": [
  {
   "cell_type": "markdown",
   "source": [
    "# Note"
   ],
   "metadata": {
    "collapsed": false,
    "pycharm": {
     "name": "#%% md\n"
    }
   }
  },
  {
   "cell_type": "markdown",
   "source": [
    "**Since only one molecular function was selected by feature selection we decided to just outright ignore it and build models with just the selected drug descriptors and protein sequence descriptors.**"
   ],
   "metadata": {
    "collapsed": false,
    "pycharm": {
     "name": "#%% md\n"
    }
   }
  },
  {
   "cell_type": "markdown",
   "source": [
    "# Imports"
   ],
   "metadata": {
    "collapsed": false,
    "pycharm": {
     "name": "#%% md\n"
    }
   }
  },
  {
   "cell_type": "code",
   "execution_count": 74,
   "metadata": {
    "pycharm": {
     "name": "#%%\n"
    }
   },
   "outputs": [],
   "source": [
    "# General Imports\n",
    "import os\n",
    "import pandas as pd\n",
    "import numpy as np\n",
    "from modify_dataset import load_from_pickle, load_to_pickle\n",
    "\n",
    "# Plotting libraries\n",
    "import plotly.express as px\n",
    "\n",
    "# Dimensionality reduction\n",
    "from sklearn.decomposition import PCA\n",
    "\n",
    "# Scalers\n",
    "from sklearn.preprocessing import StandardScaler\n",
    "\n",
    "# Metrics\n",
    "from sklearn.metrics import make_scorer\n",
    "from sklearn.metrics import precision_score, recall_score, f1_score, accuracy_score, matthews_corrcoef\n",
    "from sklearn.metrics import mean_absolute_error, r2_score\n",
    "\n",
    "# Classification Models\n",
    "from sklearn.dummy import DummyClassifier\n",
    "from sklearn.neighbors import KNeighborsClassifier\n",
    "from sklearn.linear_model import LogisticRegression, SGDClassifier\n",
    "from sklearn.ensemble import RandomForestClassifier\n",
    "from sklearn.tree import DecisionTreeClassifier\n",
    "from sklearn.svm import LinearSVC\n",
    "\n",
    "# Regression Models\n",
    "from sklearn.dummy import DummyRegressor\n",
    "from sklearn.neighbors import KNeighborsRegressor\n",
    "from sklearn.linear_model import LinearRegression, SGDRegressor\n",
    "from sklearn.ensemble import RandomForestRegressor\n",
    "from sklearn.tree import DecisionTreeRegressor\n",
    "from sklearn.svm import SVR\n",
    "\n",
    "# Error Analysis\n",
    "# import eli5\n",
    "# from lime.lime_tabular import LimeTabularExplainer\n",
    "\n",
    "# Scikit-optimize\n",
    "from skopt import BayesSearchCV\n",
    "from skopt.space import Real, Categorical, Integer\n",
    "\n",
    "# Other Model Stuff\n",
    "from joblib import dump, load\n",
    "from sklearn.model_selection import train_test_split\n",
    "from sklearn.pipeline import Pipeline"
   ]
  },
  {
   "cell_type": "markdown",
   "metadata": {
    "pycharm": {
     "name": "#%% md\n"
    }
   },
   "source": [
    "# Training & Test Sets"
   ]
  },
  {
   "cell_type": "code",
   "execution_count": 75,
   "metadata": {
    "pycharm": {
     "name": "#%%\n"
    }
   },
   "outputs": [],
   "source": [
    "feature_selection_columns = np.load(\"Dataset_Files/Feature_Selection/features_dd_psd_list.npy\",\n",
    "                                    allow_pickle=True)"
   ]
  },
  {
   "cell_type": "code",
   "execution_count": 76,
   "metadata": {
    "pycharm": {
     "name": "#%%\n"
    }
   },
   "outputs": [],
   "source": [
    "X_train = np.load(\"Dataset_Files/Training_Test_Sets/X_train_dd_psd_feature_selection.npy\")\n",
    "y_train = np.load(\"Dataset_Files/Training_Test_Sets/y_train_dd_psd.npy\")\n",
    "\n",
    "X_test_classification = np.load(\"Dataset_Files/Training_Test_Sets/X_test_classification_dd_psd_feature_selection.npy\")\n",
    "y_test_classification = np.load(\"Dataset_Files/Training_Test_Sets/y_test_classification.npy\")"
   ]
  },
  {
   "cell_type": "code",
   "execution_count": 77,
   "metadata": {
    "pycharm": {
     "name": "#%%\n"
    }
   },
   "outputs": [
    {
     "name": "stdout",
     "output_type": "stream",
     "text": [
      "X_train shape: (134734, 1044)\n",
      "y_train shape: 134734\n",
      "X_test_classification shape: (30141, 1044)\n",
      "y_test_classification shape: 30141 (Binding Count: 22001, Non-Binding Count: 8140)\n"
     ]
    }
   ],
   "source": [
    "# Useful Information & Sanity Checks\n",
    "print(f\"X_train shape: {X_train.shape}\")\n",
    "print(f\"y_train shape: {y_train.shape[0]}\")\n",
    "\n",
    "print(f\"X_test_classification shape: {X_test_classification.shape}\")\n",
    "print(f\"y_test_classification shape: {y_test_classification.shape[0]} \", end=\"\")\n",
    "print(f\"(Binding Count: {y_test_classification[y_test_classification == 1].shape[0]}, \", end=\"\")\n",
    "print(f\"Non-Binding Count: {y_test_classification[y_test_classification == 0].shape[0]})\")"
   ]
  },
  {
   "cell_type": "markdown",
   "metadata": {
    "pycharm": {
     "name": "#%% md\n"
    }
   },
   "source": [
    "# Helper Functions"
   ]
  },
  {
   "cell_type": "code",
   "execution_count": 78,
   "metadata": {
    "pycharm": {
     "name": "#%%\n"
    }
   },
   "outputs": [],
   "source": [
    "def calculate_metrics_classification(y_true, y_pred):\n",
    "    recall = recall_score(y_true, y_pred)\n",
    "    precision = precision_score(y_true, y_pred)\n",
    "    f1 = f1_score(y_true, y_pred)\n",
    "    accuracy = accuracy_score(y_true, y_pred)\n",
    "    mcc = matthews_corrcoef(y_true, y_pred)\n",
    "\n",
    "    print(f\"F1 score: {f1}\")\n",
    "    print(f\"Matthews Correlation Coefficient: {mcc}\")\n",
    "    print(f\"Accuracy score: {accuracy}\")\n",
    "    print(f\"Recall score: {recall}\")\n",
    "    print(f\"Precision score: {precision}\")\n",
    "\n",
    "def prediction_category_classification(df):\n",
    "    if df['True Class'] == df['Prediction']:\n",
    "        return 'Correct'\n",
    "    elif (df['True Class'] == 0) and (df['Prediction'] == 1):\n",
    "        return 'False Positive'\n",
    "    else:\n",
    "        return 'False Negative'\n",
    "\n",
    "\n",
    "def error_analysis_classification(y_pred):\n",
    "    X_set = pd.DataFrame(X_test_classification, columns=feature_selection_columns)\n",
    "    y_set = pd.Series(y_test_classification, name=\"Activity_Binary\")\n",
    "\n",
    "    # Combining data into one dataframe\n",
    "    y_pred_series = pd.Series(y_pred, index=y_set.index)\n",
    "\n",
    "    error_analysis_dataframe = pd.concat([X_set, y_set], axis=1)\n",
    "    error_analysis_dataframe = pd.concat([error_analysis_dataframe, y_pred_series], axis=1)\n",
    "    error_analysis_dataframe.rename(columns={\"Activity_Binary\": \"True Class\", 0: \"Prediction\"}, inplace=True)\n",
    "    error_analysis_dataframe[\"Is the prediction correct?\"] = error_analysis_dataframe.apply(\n",
    "        prediction_category_classification, axis=1)\n",
    "\n",
    "    # Scaling\n",
    "    scaler = StandardScaler()\n",
    "    scaler.fit(error_analysis_dataframe.loc[:, feature_selection_columns])\n",
    "    scaled_data = scaler.transform(error_analysis_dataframe.loc[:, feature_selection_columns])\n",
    "\n",
    "    # PCA\n",
    "    pca = PCA(n_components=2, random_state=0)\n",
    "    pca.fit(scaled_data)\n",
    "    pca_data = pca.transform(scaled_data)\n",
    "    pca_dataframe_2d = pd.DataFrame(pca_data, columns=[\"PCA_Dimension_1\", \"PCA_Dimension_2\"], index=y_set.index)\n",
    "\n",
    "    # Joining dataframes\n",
    "    error_analysis_dataframe = pd.concat([error_analysis_dataframe, pca_dataframe_2d], axis=1)\n",
    "\n",
    "    # Plot\n",
    "    fig = px.scatter(error_analysis_dataframe, x=\"PCA_Dimension_1\", y=\"PCA_Dimension_2\",\n",
    "                     color=\"Is the prediction correct?\",\n",
    "                     symbol=\"Is the prediction correct?\",\n",
    "                     hover_data=['MW', 'TPSA', 'XLogP', 'NHD', 'NHA', 'NRB', 'True Class', 'Prediction'],\n",
    "                     title=\"Correct Classifications vs Misclassifications\")\n",
    "    fig.show()\n",
    "\n",
    "    # Useful stats\n",
    "    print(\n",
    "        f\"Number of correct classifications: {len(error_analysis_dataframe[error_analysis_dataframe['Is the prediction correct?'] == 'Correct'])}\")\n",
    "    print(\n",
    "        f\"Number of misclassifications: {len(error_analysis_dataframe[error_analysis_dataframe['Is the prediction correct?'] != 'Correct'])}\")\n",
    "    print(\n",
    "        f\"False Positives (True class:0, Prediction:1): {len(error_analysis_dataframe[(error_analysis_dataframe['True Class'] == 0) & (error_analysis_dataframe['Prediction'] == 1)])}\")\n",
    "    print(\n",
    "        f\"False Negatives (True class:1, Prediction:0): {len(error_analysis_dataframe[(error_analysis_dataframe['True Class'] == 1) & (error_analysis_dataframe['Prediction'] == 0)])}\")\n",
    "\n",
    "    return error_analysis_dataframe.sort_values('Is the prediction correct?')\n",
    "\n",
    "# def model_weights_classification(model, classification_group):\n",
    "#     if classification_group == 'cd':\n",
    "#         return eli5.show_weights(model,\n",
    "#                                  feature_names=X_train_cd.columns,\n",
    "#                                  target_names={1:\"BBB+\",0:\"BBB-\"})\n",
    "#     elif classification_group == 'cd_se_i':\n",
    "#         return eli5.show_weights(model,\n",
    "#                                  feature_names=X_train_cd_se_i.loc[:,feature_selection_support].columns,\n",
    "#                                  target_names={1:\"BBB+\",0:\"BBB-\"})\n",
    "#     else:\n",
    "#         raise ValueError(\"Invalid group. Please choose 'cd' or 'cd_se_i'\")\n",
    "\n",
    "# def get_lime_explainer_classification(classification_group):\n",
    "#     if classification_group == 'cd':\n",
    "#         X_train = X_train_cd\n",
    "#         y_train = y_train_cd\n",
    "#     elif classification_group == 'cd_se_i':\n",
    "#         X_train = X_train_cd_se_i.loc[:,feature_selection_support]\n",
    "#         y_train = y_train_cd_se_i\n",
    "#     else:\n",
    "#         raise ValueError(\"Invalid group. Please choose 'cd' or 'cd_se_i'\")\n",
    "#\n",
    "#     explainer = LimeTabularExplainer(training_data=np.array(X_train),\n",
    "#                                      mode='classification',\n",
    "#                                      feature_names=list(X_train.columns),\n",
    "#                                      training_labels=y_train,\n",
    "#                                      class_names=['BBB-','BBB+'],\n",
    "#                                      random_state=42)\n",
    "#     return explainer"
   ]
  },
  {
   "cell_type": "markdown",
   "metadata": {
    "pycharm": {
     "name": "#%% md\n"
    }
   },
   "source": [
    "# Model Training & Testing"
   ]
  },
  {
   "cell_type": "code",
   "execution_count": 79,
   "outputs": [],
   "source": [
    "def on_step(optim_result):\n",
    "    global index\n",
    "    print(f\"Iteration Completed: {index}\")\n",
    "    index += 1"
   ],
   "metadata": {
    "collapsed": false,
    "pycharm": {
     "name": "#%%\n"
    }
   }
  },
  {
   "cell_type": "markdown",
   "metadata": {
    "pycharm": {
     "name": "#%% md\n"
    }
   },
   "source": [
    "## Dummy Classifier (DC)"
   ]
  },
  {
   "cell_type": "code",
   "execution_count": 80,
   "metadata": {
    "pycharm": {
     "name": "#%%\n"
    }
   },
   "outputs": [
    {
     "data": {
      "text/plain": "{'memory': None,\n 'steps': [('scale', StandardScaler()),\n  ('model', DummyClassifier(random_state=42))],\n 'verbose': False,\n 'scale': StandardScaler(),\n 'model': DummyClassifier(random_state=42),\n 'scale__copy': True,\n 'scale__with_mean': True,\n 'scale__with_std': True,\n 'model__constant': None,\n 'model__random_state': 42,\n 'model__strategy': 'prior'}"
     },
     "execution_count": 80,
     "metadata": {},
     "output_type": "execute_result"
    }
   ],
   "source": [
    "dummy_classifier = Pipeline(\n",
    "    [\n",
    "        ('scale', StandardScaler()),\n",
    "        ('model', DummyClassifier(random_state=42))\n",
    "    ]\n",
    ")\n",
    "dummy_classifier.get_params()"
   ]
  },
  {
   "cell_type": "markdown",
   "metadata": {
    "pycharm": {
     "name": "#%% md\n"
    }
   },
   "source": [
    "### Training"
   ]
  },
  {
   "cell_type": "code",
   "execution_count": 81,
   "metadata": {
    "pycharm": {
     "name": "#%%\n"
    }
   },
   "outputs": [],
   "source": [
    "# dummy_classifier.fit(X_train, y_train)\n",
    "#\n",
    "# y_train_pred = dummy_classifier.predict(X_train)\n",
    "# calculate_metrics_classification(y_train, y_train_pred)\n",
    "#\n",
    "# # Save Model\n",
    "# dump(dummy_classifier, 'Dataset_Files/Classification_Models/dc.joblib')"
   ]
  },
  {
   "cell_type": "code",
   "execution_count": 82,
   "outputs": [
    {
     "name": "stdout",
     "output_type": "stream",
     "text": [
      "F1 score: 0.8459466288646107\n",
      "Matthews Correlation Coefficient: 0.0\n",
      "Accuracy score: 0.7330221028099811\n",
      "Recall score: 1.0\n",
      "Precision score: 0.7330221028099811\n"
     ]
    }
   ],
   "source": [
    "# Load Model\n",
    "dummy_classifier = load('Dataset_Files/Classification_Models/dc.joblib')\n",
    "y_train_pred = dummy_classifier.predict(X_train)\n",
    "calculate_metrics_classification(y_train, y_train_pred)"
   ],
   "metadata": {
    "collapsed": false,
    "pycharm": {
     "name": "#%%\n"
    }
   }
  },
  {
   "cell_type": "markdown",
   "metadata": {
    "pycharm": {
     "name": "#%% md\n"
    }
   },
   "source": [
    "### Testing"
   ]
  },
  {
   "cell_type": "code",
   "execution_count": 83,
   "metadata": {
    "pycharm": {
     "name": "#%%\n"
    }
   },
   "outputs": [
    {
     "name": "stdout",
     "output_type": "stream",
     "text": [
      "F1 score: 0.8438878447316942\n",
      "Matthews Correlation Coefficient: 0.0\n",
      "Accuracy score: 0.729935967618858\n",
      "Recall score: 1.0\n",
      "Precision score: 0.729935967618858\n"
     ]
    }
   ],
   "source": [
    "# Load Model\n",
    "dummy_classifier = load('Dataset_Files/Classification_Models/dc.joblib')\n",
    "\n",
    "y_test_pred = dummy_classifier.predict(X_test_classification)\n",
    "calculate_metrics_classification(y_test_classification, y_test_pred)"
   ]
  },
  {
   "cell_type": "markdown",
   "metadata": {
    "pycharm": {
     "name": "#%% md\n"
    }
   },
   "source": [
    "## Logistic Regression (LR)"
   ]
  },
  {
   "cell_type": "code",
   "execution_count": 84,
   "metadata": {
    "pycharm": {
     "name": "#%%\n"
    }
   },
   "outputs": [
    {
     "data": {
      "text/plain": "{'memory': None,\n 'steps': [('scale', StandardScaler()),\n  ('model', LogisticRegression(random_state=42))],\n 'verbose': False,\n 'scale': StandardScaler(),\n 'model': LogisticRegression(random_state=42),\n 'scale__copy': True,\n 'scale__with_mean': True,\n 'scale__with_std': True,\n 'model__C': 1.0,\n 'model__class_weight': None,\n 'model__dual': False,\n 'model__fit_intercept': True,\n 'model__intercept_scaling': 1,\n 'model__l1_ratio': None,\n 'model__max_iter': 100,\n 'model__multi_class': 'auto',\n 'model__n_jobs': None,\n 'model__penalty': 'l2',\n 'model__random_state': 42,\n 'model__solver': 'lbfgs',\n 'model__tol': 0.0001,\n 'model__verbose': 0,\n 'model__warm_start': False}"
     },
     "execution_count": 84,
     "metadata": {},
     "output_type": "execute_result"
    }
   ],
   "source": [
    "pipe = Pipeline(\n",
    "    [\n",
    "        ('scale', StandardScaler()),\n",
    "        ('model', LogisticRegression(random_state=42))\n",
    "    ]\n",
    ")\n",
    "pipe.get_params()"
   ]
  },
  {
   "cell_type": "code",
   "execution_count": 85,
   "metadata": {
    "pycharm": {
     "name": "#%%\n"
    }
   },
   "outputs": [],
   "source": [
    "model = BayesSearchCV(estimator=pipe,\n",
    "                      search_spaces=[\n",
    "                          {'model__C': Real(1e-6, 1e+2, prior='log-uniform'),\n",
    "                           'model__solver': Categorical(['newton-cg', 'lbfgs', 'sag']),\n",
    "                           'model__penalty': Categorical(['none', 'l2']),\n",
    "                           'model__max_iter': Integer(50, 5000),\n",
    "                           'model__class_weight': Categorical([None, \"balanced\"])},\n",
    "                          {'model__C': Real(1e-6, 1e+2, prior='log-uniform'),\n",
    "                           'model__solver': Categorical(['liblinear']),\n",
    "                           'model__penalty': Categorical(['l2', 'l1']),\n",
    "                           'model__max_iter': Integer(50, 5000),\n",
    "                           'model__class_weight': Categorical([None, \"balanced\"])},\n",
    "                          {'model__C': Real(1e-6, 1e+2, prior='log-uniform'),\n",
    "                           'model__l1_ratio': Real(0, 1),\n",
    "                           'model__solver': Categorical(['saga']),\n",
    "                           'model__penalty': Categorical(['none', 'l2', 'l1', 'elasticnet']),\n",
    "                           'model__max_iter': Integer(50, 5000),\n",
    "                           'model__class_weight': Categorical([None, \"balanced\"])},\n",
    "                      ],\n",
    "                      scoring='f1',\n",
    "                      cv=5,\n",
    "                      error_score=np.nan,\n",
    "                      n_jobs=-1,\n",
    "                      pre_dispatch='2*n_jobs',\n",
    "                      random_state=42)"
   ]
  },
  {
   "cell_type": "markdown",
   "metadata": {
    "pycharm": {
     "name": "#%% md\n"
    }
   },
   "source": [
    "### Training"
   ]
  },
  {
   "cell_type": "code",
   "execution_count": 86,
   "metadata": {
    "pycharm": {
     "name": "#%%\n"
    }
   },
   "outputs": [],
   "source": [
    "# index = 1\n",
    "# model.fit(X_train, y_train, callback=on_step)\n",
    "#\n",
    "# optimised_lr = model.best_estimator_\n",
    "#\n",
    "# y_train_pred = optimised_lr.predict(X_train)\n",
    "# calculate_metrics_classification(y_train, y_train_pred)\n",
    "#\n",
    "# # Save Model & CV Results\n",
    "# dump(optimised_lr, 'Dataset_Files/Classification_Models/optimised_lr.joblib')\n",
    "# np.save(\"Dataset_Files/Classification_Models/optimised_lr_cv_results\", model.cv_results_)"
   ]
  },
  {
   "cell_type": "code",
   "execution_count": 87,
   "outputs": [],
   "source": [
    "# Load Model\n",
    "optimised_lr = load('Dataset_Files/Classification_Models/optimised_lr.joblib')"
   ],
   "metadata": {
    "collapsed": false,
    "pycharm": {
     "name": "#%%\n"
    }
   }
  },
  {
   "cell_type": "code",
   "execution_count": 88,
   "outputs": [
    {
     "name": "stdout",
     "output_type": "stream",
     "text": [
      "F1 score: 0.8459466288646107\n",
      "Matthews Correlation Coefficient: 0.0\n",
      "Accuracy score: 0.7330221028099811\n",
      "Recall score: 1.0\n",
      "Precision score: 0.7330221028099811\n"
     ]
    }
   ],
   "source": [
    "y_train_pred = optimised_lr.predict(X_train)\n",
    "calculate_metrics_classification(y_train, y_train_pred)"
   ],
   "metadata": {
    "collapsed": false,
    "pycharm": {
     "name": "#%%\n"
    }
   }
  },
  {
   "cell_type": "code",
   "execution_count": 89,
   "outputs": [
    {
     "data": {
      "text/plain": "{'memory': None,\n 'steps': [('scale', StandardScaler()),\n  ('model',\n   LogisticRegression(C=7.917317677303884e-05, l1_ratio=0.6288012896974549,\n                      max_iter=1418, penalty='elasticnet', random_state=42,\n                      solver='saga'))],\n 'verbose': False,\n 'scale': StandardScaler(),\n 'model': LogisticRegression(C=7.917317677303884e-05, l1_ratio=0.6288012896974549,\n                    max_iter=1418, penalty='elasticnet', random_state=42,\n                    solver='saga'),\n 'scale__copy': True,\n 'scale__with_mean': True,\n 'scale__with_std': True,\n 'model__C': 7.917317677303884e-05,\n 'model__class_weight': None,\n 'model__dual': False,\n 'model__fit_intercept': True,\n 'model__intercept_scaling': 1,\n 'model__l1_ratio': 0.6288012896974549,\n 'model__max_iter': 1418,\n 'model__multi_class': 'auto',\n 'model__n_jobs': None,\n 'model__penalty': 'elasticnet',\n 'model__random_state': 42,\n 'model__solver': 'saga',\n 'model__tol': 0.0001,\n 'model__verbose': 0,\n 'model__warm_start': False}"
     },
     "execution_count": 89,
     "metadata": {},
     "output_type": "execute_result"
    }
   ],
   "source": [
    "optimised_lr.get_params()"
   ],
   "metadata": {
    "collapsed": false,
    "pycharm": {
     "name": "#%%\n"
    }
   }
  },
  {
   "cell_type": "code",
   "execution_count": 90,
   "metadata": {
    "pycharm": {
     "name": "#%%\n"
    }
   },
   "outputs": [
    {
     "data": {
      "text/plain": "     mean_fit_time  std_fit_time  mean_score_time  std_score_time  \\\n112       6.799620      0.521389         0.196508        0.023222   \n132      44.996725     22.659496         0.178698        0.028082   \n104      29.651265      9.177187         0.128871        0.011190   \n134      12.147855      0.475676         0.203419        0.031986   \n136      11.290133      1.609216         0.151347        0.001474   \n..             ...           ...              ...             ...   \n118       7.092249      1.348663         0.223602        0.045031   \n52        8.937596      0.651621         0.254229        0.043727   \n53        8.252943      0.957555         0.247983        0.054812   \n64        8.779870      1.490101         0.262463        0.063719   \n90        8.835256      0.426986         0.290409        0.068269   \n\n    param_model__C param_model__class_weight param_model__max_iter  \\\n112       0.000001                      None                  1650   \n132       0.000116                      None                  1581   \n104       0.000079                      None                  1418   \n134       0.000043                      None                  5000   \n136       0.000047                      None                  5000   \n..             ...                       ...                   ...   \n118       0.000001                  balanced                    50   \n52        0.000003                  balanced                  1140   \n53        0.000013                  balanced                  1723   \n64        0.000001                  balanced                  5000   \n90        0.000001                      None                  2407   \n\n    param_model__penalty param_model__solver param_model__l1_ratio  \\\n112           elasticnet                saga                   1.0   \n132                   l1                saga                   0.0   \n104           elasticnet                saga              0.628801   \n134                   l1                saga              0.541709   \n136           elasticnet                saga              0.916342   \n..                   ...                 ...                   ...   \n118           elasticnet                saga              0.473951   \n52                    l1           liblinear                   NaN   \n53                    l1           liblinear                   NaN   \n64                    l1           liblinear                   NaN   \n90                    l1           liblinear                   NaN   \n\n                                                params  split0_test_score  \\\n112  {'model__C': 1e-06, 'model__class_weight': Non...           0.845953   \n132  {'model__C': 0.00011592831105101897, 'model__c...           0.845953   \n104  {'model__C': 7.917317677303884e-05, 'model__cl...           0.845953   \n134  {'model__C': 4.2813708334205274e-05, 'model__c...           0.845953   \n136  {'model__C': 4.729328825945751e-05, 'model__cl...           0.845953   \n..                                                 ...                ...   \n118  {'model__C': 1e-06, 'model__class_weight': 'ba...           0.000000   \n52   {'model__C': 2.512509104389348e-06, 'model__cl...           0.000000   \n53   {'model__C': 1.293129412008041e-05, 'model__cl...           0.000000   \n64   {'model__C': 1e-06, 'model__class_weight': 'ba...           0.000000   \n90   {'model__C': 1e-06, 'model__class_weight': Non...           0.000000   \n\n     split1_test_score  split2_test_score  split3_test_score  \\\n112           0.845953           0.845953           0.845928   \n132           0.845953           0.845953           0.845928   \n104           0.845953           0.845953           0.845928   \n134           0.845953           0.845953           0.845928   \n136           0.845953           0.845953           0.845928   \n..                 ...                ...                ...   \n118           0.000000           0.845953           0.000000   \n52            0.000000           0.000000           0.000000   \n53            0.000000           0.000000           0.000000   \n64            0.000000           0.000000           0.000000   \n90            0.000000           0.000000           0.000000   \n\n     split4_test_score  mean_test_score  std_test_score  rank_test_score  \n112           0.845946         0.845947        0.000010                1  \n132           0.845946         0.845947        0.000010                1  \n104           0.845946         0.845947        0.000010                1  \n134           0.845946         0.845947        0.000010                1  \n136           0.845946         0.845947        0.000010                1  \n..                 ...              ...             ...              ...  \n118           0.000000         0.169191        0.338381              146  \n52            0.000000         0.000000        0.000000              147  \n53            0.000000         0.000000        0.000000              147  \n64            0.000000         0.000000        0.000000              147  \n90            0.000000         0.000000        0.000000              147  \n\n[150 rows x 19 columns]",
      "text/html": "<div>\n<style scoped>\n    .dataframe tbody tr th:only-of-type {\n        vertical-align: middle;\n    }\n\n    .dataframe tbody tr th {\n        vertical-align: top;\n    }\n\n    .dataframe thead th {\n        text-align: right;\n    }\n</style>\n<table border=\"1\" class=\"dataframe\">\n  <thead>\n    <tr style=\"text-align: right;\">\n      <th></th>\n      <th>mean_fit_time</th>\n      <th>std_fit_time</th>\n      <th>mean_score_time</th>\n      <th>std_score_time</th>\n      <th>param_model__C</th>\n      <th>param_model__class_weight</th>\n      <th>param_model__max_iter</th>\n      <th>param_model__penalty</th>\n      <th>param_model__solver</th>\n      <th>param_model__l1_ratio</th>\n      <th>params</th>\n      <th>split0_test_score</th>\n      <th>split1_test_score</th>\n      <th>split2_test_score</th>\n      <th>split3_test_score</th>\n      <th>split4_test_score</th>\n      <th>mean_test_score</th>\n      <th>std_test_score</th>\n      <th>rank_test_score</th>\n    </tr>\n  </thead>\n  <tbody>\n    <tr>\n      <th>112</th>\n      <td>6.799620</td>\n      <td>0.521389</td>\n      <td>0.196508</td>\n      <td>0.023222</td>\n      <td>0.000001</td>\n      <td>None</td>\n      <td>1650</td>\n      <td>elasticnet</td>\n      <td>saga</td>\n      <td>1.0</td>\n      <td>{'model__C': 1e-06, 'model__class_weight': Non...</td>\n      <td>0.845953</td>\n      <td>0.845953</td>\n      <td>0.845953</td>\n      <td>0.845928</td>\n      <td>0.845946</td>\n      <td>0.845947</td>\n      <td>0.000010</td>\n      <td>1</td>\n    </tr>\n    <tr>\n      <th>132</th>\n      <td>44.996725</td>\n      <td>22.659496</td>\n      <td>0.178698</td>\n      <td>0.028082</td>\n      <td>0.000116</td>\n      <td>None</td>\n      <td>1581</td>\n      <td>l1</td>\n      <td>saga</td>\n      <td>0.0</td>\n      <td>{'model__C': 0.00011592831105101897, 'model__c...</td>\n      <td>0.845953</td>\n      <td>0.845953</td>\n      <td>0.845953</td>\n      <td>0.845928</td>\n      <td>0.845946</td>\n      <td>0.845947</td>\n      <td>0.000010</td>\n      <td>1</td>\n    </tr>\n    <tr>\n      <th>104</th>\n      <td>29.651265</td>\n      <td>9.177187</td>\n      <td>0.128871</td>\n      <td>0.011190</td>\n      <td>0.000079</td>\n      <td>None</td>\n      <td>1418</td>\n      <td>elasticnet</td>\n      <td>saga</td>\n      <td>0.628801</td>\n      <td>{'model__C': 7.917317677303884e-05, 'model__cl...</td>\n      <td>0.845953</td>\n      <td>0.845953</td>\n      <td>0.845953</td>\n      <td>0.845928</td>\n      <td>0.845946</td>\n      <td>0.845947</td>\n      <td>0.000010</td>\n      <td>1</td>\n    </tr>\n    <tr>\n      <th>134</th>\n      <td>12.147855</td>\n      <td>0.475676</td>\n      <td>0.203419</td>\n      <td>0.031986</td>\n      <td>0.000043</td>\n      <td>None</td>\n      <td>5000</td>\n      <td>l1</td>\n      <td>saga</td>\n      <td>0.541709</td>\n      <td>{'model__C': 4.2813708334205274e-05, 'model__c...</td>\n      <td>0.845953</td>\n      <td>0.845953</td>\n      <td>0.845953</td>\n      <td>0.845928</td>\n      <td>0.845946</td>\n      <td>0.845947</td>\n      <td>0.000010</td>\n      <td>1</td>\n    </tr>\n    <tr>\n      <th>136</th>\n      <td>11.290133</td>\n      <td>1.609216</td>\n      <td>0.151347</td>\n      <td>0.001474</td>\n      <td>0.000047</td>\n      <td>None</td>\n      <td>5000</td>\n      <td>elasticnet</td>\n      <td>saga</td>\n      <td>0.916342</td>\n      <td>{'model__C': 4.729328825945751e-05, 'model__cl...</td>\n      <td>0.845953</td>\n      <td>0.845953</td>\n      <td>0.845953</td>\n      <td>0.845928</td>\n      <td>0.845946</td>\n      <td>0.845947</td>\n      <td>0.000010</td>\n      <td>1</td>\n    </tr>\n    <tr>\n      <th>...</th>\n      <td>...</td>\n      <td>...</td>\n      <td>...</td>\n      <td>...</td>\n      <td>...</td>\n      <td>...</td>\n      <td>...</td>\n      <td>...</td>\n      <td>...</td>\n      <td>...</td>\n      <td>...</td>\n      <td>...</td>\n      <td>...</td>\n      <td>...</td>\n      <td>...</td>\n      <td>...</td>\n      <td>...</td>\n      <td>...</td>\n      <td>...</td>\n    </tr>\n    <tr>\n      <th>118</th>\n      <td>7.092249</td>\n      <td>1.348663</td>\n      <td>0.223602</td>\n      <td>0.045031</td>\n      <td>0.000001</td>\n      <td>balanced</td>\n      <td>50</td>\n      <td>elasticnet</td>\n      <td>saga</td>\n      <td>0.473951</td>\n      <td>{'model__C': 1e-06, 'model__class_weight': 'ba...</td>\n      <td>0.000000</td>\n      <td>0.000000</td>\n      <td>0.845953</td>\n      <td>0.000000</td>\n      <td>0.000000</td>\n      <td>0.169191</td>\n      <td>0.338381</td>\n      <td>146</td>\n    </tr>\n    <tr>\n      <th>52</th>\n      <td>8.937596</td>\n      <td>0.651621</td>\n      <td>0.254229</td>\n      <td>0.043727</td>\n      <td>0.000003</td>\n      <td>balanced</td>\n      <td>1140</td>\n      <td>l1</td>\n      <td>liblinear</td>\n      <td>NaN</td>\n      <td>{'model__C': 2.512509104389348e-06, 'model__cl...</td>\n      <td>0.000000</td>\n      <td>0.000000</td>\n      <td>0.000000</td>\n      <td>0.000000</td>\n      <td>0.000000</td>\n      <td>0.000000</td>\n      <td>0.000000</td>\n      <td>147</td>\n    </tr>\n    <tr>\n      <th>53</th>\n      <td>8.252943</td>\n      <td>0.957555</td>\n      <td>0.247983</td>\n      <td>0.054812</td>\n      <td>0.000013</td>\n      <td>balanced</td>\n      <td>1723</td>\n      <td>l1</td>\n      <td>liblinear</td>\n      <td>NaN</td>\n      <td>{'model__C': 1.293129412008041e-05, 'model__cl...</td>\n      <td>0.000000</td>\n      <td>0.000000</td>\n      <td>0.000000</td>\n      <td>0.000000</td>\n      <td>0.000000</td>\n      <td>0.000000</td>\n      <td>0.000000</td>\n      <td>147</td>\n    </tr>\n    <tr>\n      <th>64</th>\n      <td>8.779870</td>\n      <td>1.490101</td>\n      <td>0.262463</td>\n      <td>0.063719</td>\n      <td>0.000001</td>\n      <td>balanced</td>\n      <td>5000</td>\n      <td>l1</td>\n      <td>liblinear</td>\n      <td>NaN</td>\n      <td>{'model__C': 1e-06, 'model__class_weight': 'ba...</td>\n      <td>0.000000</td>\n      <td>0.000000</td>\n      <td>0.000000</td>\n      <td>0.000000</td>\n      <td>0.000000</td>\n      <td>0.000000</td>\n      <td>0.000000</td>\n      <td>147</td>\n    </tr>\n    <tr>\n      <th>90</th>\n      <td>8.835256</td>\n      <td>0.426986</td>\n      <td>0.290409</td>\n      <td>0.068269</td>\n      <td>0.000001</td>\n      <td>None</td>\n      <td>2407</td>\n      <td>l1</td>\n      <td>liblinear</td>\n      <td>NaN</td>\n      <td>{'model__C': 1e-06, 'model__class_weight': Non...</td>\n      <td>0.000000</td>\n      <td>0.000000</td>\n      <td>0.000000</td>\n      <td>0.000000</td>\n      <td>0.000000</td>\n      <td>0.000000</td>\n      <td>0.000000</td>\n      <td>147</td>\n    </tr>\n  </tbody>\n</table>\n<p>150 rows × 19 columns</p>\n</div>"
     },
     "execution_count": 90,
     "metadata": {},
     "output_type": "execute_result"
    }
   ],
   "source": [
    "logistic_regression_grid_search_dataframe = pd.DataFrame(\n",
    "    np.load(\"Dataset_Files/Classification_Models/optimised_lr_cv_results.npy\", allow_pickle=True).tolist())\n",
    "logistic_regression_grid_search_dataframe.sort_values(by=[\"rank_test_score\"], inplace=True)\n",
    "logistic_regression_grid_search_dataframe"
   ]
  },
  {
   "cell_type": "markdown",
   "metadata": {
    "pycharm": {
     "name": "#%% md\n"
    }
   },
   "source": [
    "### Testing"
   ]
  },
  {
   "cell_type": "code",
   "execution_count": 91,
   "outputs": [
    {
     "name": "stdout",
     "output_type": "stream",
     "text": [
      "F1 score: 0.8438878447316942\n",
      "Matthews Correlation Coefficient: 0.0\n",
      "Accuracy score: 0.729935967618858\n",
      "Recall score: 1.0\n",
      "Precision score: 0.729935967618858\n"
     ]
    }
   ],
   "source": [
    "y_test_pred = optimised_lr.predict(X_test_classification)\n",
    "calculate_metrics_classification(y_test_classification, y_test_pred)"
   ],
   "metadata": {
    "collapsed": false,
    "pycharm": {
     "name": "#%%\n"
    }
   }
  },
  {
   "cell_type": "markdown",
   "source": [
    "## Linear Support Vector Classification (LSVC)"
   ],
   "metadata": {
    "collapsed": false,
    "pycharm": {
     "name": "#%% md\n"
    }
   }
  },
  {
   "cell_type": "code",
   "execution_count": 92,
   "outputs": [
    {
     "data": {
      "text/plain": "{'memory': None,\n 'steps': [('scale', StandardScaler()), ('model', LinearSVC(random_state=42))],\n 'verbose': False,\n 'scale': StandardScaler(),\n 'model': LinearSVC(random_state=42),\n 'scale__copy': True,\n 'scale__with_mean': True,\n 'scale__with_std': True,\n 'model__C': 1.0,\n 'model__class_weight': None,\n 'model__dual': True,\n 'model__fit_intercept': True,\n 'model__intercept_scaling': 1,\n 'model__loss': 'squared_hinge',\n 'model__max_iter': 1000,\n 'model__multi_class': 'ovr',\n 'model__penalty': 'l2',\n 'model__random_state': 42,\n 'model__tol': 0.0001,\n 'model__verbose': 0}"
     },
     "execution_count": 92,
     "metadata": {},
     "output_type": "execute_result"
    }
   ],
   "source": [
    "pipe = Pipeline(\n",
    "    [\n",
    "        ('scale', StandardScaler()),\n",
    "        ('model', LinearSVC(random_state=42, penalty='l2'))\n",
    "    ]\n",
    ")\n",
    "pipe.get_params()"
   ],
   "metadata": {
    "collapsed": false,
    "pycharm": {
     "name": "#%%\n"
    }
   }
  },
  {
   "cell_type": "code",
   "execution_count": 93,
   "outputs": [],
   "source": [
    "model = BayesSearchCV(estimator=pipe,\n",
    "                      search_spaces={'model__loss': Categorical(['hinge', 'squared_hinge']),\n",
    "                                     'model__C': Real(1e-6, 1e+2, prior='log-uniform'),\n",
    "                                     'model__class_weight': Categorical([None, \"balanced\"]),\n",
    "                                     'model__max_iter': Integer(500, 5000)},\n",
    "                      scoring='f1',\n",
    "                      cv=5,\n",
    "                      error_score=np.nan,\n",
    "                      n_jobs=-1,\n",
    "                      pre_dispatch='2*n_jobs',\n",
    "                      random_state=42)"
   ],
   "metadata": {
    "collapsed": false,
    "pycharm": {
     "name": "#%%\n"
    }
   }
  },
  {
   "cell_type": "markdown",
   "source": [
    "### Training"
   ],
   "metadata": {
    "collapsed": false,
    "pycharm": {
     "name": "#%% md\n"
    }
   }
  },
  {
   "cell_type": "code",
   "execution_count": 94,
   "outputs": [],
   "source": [
    "# index = 1\n",
    "# model.fit(X_train, y_train, callback=on_step)\n",
    "#\n",
    "# optimised_lsvc = model.best_estimator_\n",
    "#\n",
    "# y_train_pred = optimised_lsvc.predict(X_train)\n",
    "# calculate_metrics_classification(y_train, y_train_pred)\n",
    "#\n",
    "# # Save Model & CV Results\n",
    "# dump(optimised_lsvc, 'Dataset_Files/Classification_Models/optimised_lsvc.joblib')\n",
    "# np.save(\"Dataset_Files/Classification_Models/optimised_lsvc_cv_results.npy\", model.cv_results_)"
   ],
   "metadata": {
    "collapsed": false,
    "pycharm": {
     "name": "#%%\n"
    }
   }
  },
  {
   "cell_type": "code",
   "execution_count": 95,
   "outputs": [],
   "source": [
    "# Load Model\n",
    "optimised_lsvc = load('Dataset_Files/Classification_Models/optimised_lsvc.joblib')"
   ],
   "metadata": {
    "collapsed": false,
    "pycharm": {
     "name": "#%%\n"
    }
   }
  },
  {
   "cell_type": "code",
   "execution_count": 96,
   "outputs": [
    {
     "name": "stdout",
     "output_type": "stream",
     "text": [
      "F1 score: 0.8901331161591188\n",
      "Matthews Correlation Coefficient: 0.5430409417411312\n",
      "Accuracy score: 0.8317870767586504\n",
      "Recall score: 0.9296092666281908\n",
      "Precision score: 0.853873124819806\n"
     ]
    }
   ],
   "source": [
    "y_train_pred = optimised_lsvc.predict(X_train)\n",
    "calculate_metrics_classification(y_train, y_train_pred)"
   ],
   "metadata": {
    "collapsed": false,
    "pycharm": {
     "name": "#%%\n"
    }
   }
  },
  {
   "cell_type": "code",
   "execution_count": 97,
   "outputs": [
    {
     "data": {
      "text/plain": "{'memory': None,\n 'steps': [('scale', StandardScaler()),\n  ('model',\n   LinearSVC(C=4.37617353977782e-05, loss='hinge', max_iter=5000, random_state=42))],\n 'verbose': False,\n 'scale': StandardScaler(),\n 'model': LinearSVC(C=4.37617353977782e-05, loss='hinge', max_iter=5000, random_state=42),\n 'scale__copy': True,\n 'scale__with_mean': True,\n 'scale__with_std': True,\n 'model__C': 4.37617353977782e-05,\n 'model__class_weight': None,\n 'model__dual': True,\n 'model__fit_intercept': True,\n 'model__intercept_scaling': 1,\n 'model__loss': 'hinge',\n 'model__max_iter': 5000,\n 'model__multi_class': 'ovr',\n 'model__penalty': 'l2',\n 'model__random_state': 42,\n 'model__tol': 0.0001,\n 'model__verbose': 0}"
     },
     "execution_count": 97,
     "metadata": {},
     "output_type": "execute_result"
    }
   ],
   "source": [
    "optimised_lsvc.get_params()"
   ],
   "metadata": {
    "collapsed": false,
    "pycharm": {
     "name": "#%%\n"
    }
   }
  },
  {
   "cell_type": "code",
   "execution_count": 98,
   "outputs": [
    {
     "data": {
      "text/plain": "    mean_fit_time  std_fit_time  mean_score_time  std_score_time  \\\n47       6.908560      0.756084         0.183487        0.024159   \n46       7.650003      1.278189         0.155842        0.011783   \n20       6.818466      0.229713         0.194947        0.009321   \n33       7.679219      0.851501         0.154826        0.009959   \n35       7.424501      0.568367         0.159260        0.010370   \n45       6.767816      0.593612         0.164230        0.017540   \n44       7.176641      0.539984         0.165959        0.021393   \n43       7.706792      1.547533         0.153423        0.008456   \n42       7.030630      0.644369         0.166711        0.014084   \n41       7.304444      0.804840         0.156810        0.013060   \n40       7.127082      0.365445         0.178648        0.031442   \n39       7.457722      0.480536         0.179638        0.020723   \n36       8.221216      1.382769         0.169883        0.016136   \n49       6.684325      0.274053         0.194644        0.036838   \n38       6.792666      0.447487         0.166309        0.020466   \n37       7.218214      0.339044         0.173328        0.007837   \n13       8.103833      0.374960         0.174460        0.015709   \n34       8.229492      0.202424         0.199149        0.013715   \n23       6.660278      0.457100         0.153119        0.010571   \n29       6.607907      0.245253         0.203115        0.049476   \n27       6.909855      0.568315         0.159448        0.010008   \n21       7.480359      0.846905         0.198224        0.045226   \n17       8.046084      0.124349         0.220764        0.044261   \n30       8.253138      0.228883         0.161325        0.004314   \n16       8.062776      0.231803         0.177130        0.023059   \n15      10.901866      0.740443         0.165775        0.015116   \n24       9.032975      0.603134         0.166268        0.015014   \n19     100.990392      8.543016         0.153285        0.009025   \n32     174.267260      5.729646         0.149612        0.008227   \n12    1068.547413     51.101460         0.152265        0.009447   \n3     1500.424259     27.077584         0.151175        0.007722   \n4      966.188461     32.632788         0.154524        0.009628   \n18      22.526561      3.112659         0.157256        0.010414   \n28     114.145750      9.709307         0.152407        0.009480   \n48    1282.829678     21.332130         0.150819        0.009080   \n25     734.173151     12.656534         0.150902        0.006838   \n8      643.915332     14.138306         0.152991        0.009266   \n14       7.826944      0.232521         0.173999        0.025880   \n22    1015.403478     31.234645         0.150418        0.008340   \n10     143.858989      3.260305         0.152041        0.007920   \n26       7.122708      0.485553         0.180168        0.021141   \n31       9.223140      0.115197         0.218264        0.027573   \n0      124.412320     28.246642         0.214386        0.024636   \n11       6.022990      0.349975         0.170736        0.018469   \n1     1848.515600     30.095660         0.230465        0.041288   \n2       37.878896      2.086229         0.224731        0.025238   \n9        7.976528      0.334920         0.192551        0.022745   \n7       77.611804      6.785727         0.153634        0.009852   \n6      191.152564     17.489979         0.154507        0.010349   \n5      328.867725     10.397048         0.150874        0.008221   \n\n   param_model__C param_model__class_weight param_model__loss  \\\n47       0.000044                      None             hinge   \n46       0.000044                      None             hinge   \n20        0.00004                      None             hinge   \n33       0.000056                      None             hinge   \n35       0.000054                      None             hinge   \n45       0.000032                      None             hinge   \n44       0.000032                      None             hinge   \n43       0.000032                      None             hinge   \n42       0.000032                      None             hinge   \n41       0.000032                      None             hinge   \n40       0.000032                      None             hinge   \n39       0.000032                      None             hinge   \n36       0.000032                      None             hinge   \n49       0.000032                      None             hinge   \n38       0.000032                      None             hinge   \n37       0.000032                      None             hinge   \n13       0.000017                      None     squared_hinge   \n34       0.000013                      None     squared_hinge   \n23       0.000031                      None             hinge   \n29       0.000029                      None             hinge   \n27       0.000026                      None             hinge   \n21       0.000114                      None             hinge   \n17       0.000032                      None     squared_hinge   \n30       0.000007                      None     squared_hinge   \n16       0.000037                      None     squared_hinge   \n15       0.000177                      None     squared_hinge   \n24       0.000552                      None             hinge   \n19       0.005944                      None     squared_hinge   \n32       0.037873                      None     squared_hinge   \n12       0.274582                      None     squared_hinge   \n3        3.156225                      None     squared_hinge   \n4        2.491309                      None     squared_hinge   \n18       0.006841                      None             hinge   \n28       0.115132                      None             hinge   \n48      98.373168                      None             hinge   \n25          100.0                  balanced             hinge   \n8       44.037625                  balanced     squared_hinge   \n14       0.000001                      None     squared_hinge   \n22       4.612801                      None             hinge   \n10          100.0                      None     squared_hinge   \n26       0.000037                  balanced             hinge   \n31       0.000057                  balanced     squared_hinge   \n0        0.001909                  balanced     squared_hinge   \n11       0.000001                      None             hinge   \n1        5.001576                  balanced             hinge   \n2         0.00362                  balanced             hinge   \n9        0.000001                  balanced     squared_hinge   \n7        0.022245                  balanced             hinge   \n6        0.086424                  balanced             hinge   \n5        0.745116                  balanced             hinge   \n\n   param_model__max_iter                                             params  \\\n47                  5000  {'model__C': 4.37617353977782e-05, 'model__cla...   \n46                  5000  {'model__C': 4.39209291215761e-05, 'model__cla...   \n20                   500  {'model__C': 4.0427363544850065e-05, 'model__c...   \n33                  5000  {'model__C': 5.555864028680978e-05, 'model__cl...   \n35                   500  {'model__C': 5.406787237844887e-05, 'model__cl...   \n45                  5000  {'model__C': 3.240241537571675e-05, 'model__cl...   \n44                  5000  {'model__C': 3.237600998194821e-05, 'model__cl...   \n43                  5000  {'model__C': 3.2346484596066533e-05, 'model__c...   \n42                  5000  {'model__C': 3.231171021097408e-05, 'model__cl...   \n41                  5000  {'model__C': 3.22776815632846e-05, 'model__cla...   \n40                  5000  {'model__C': 3.224093232303641e-05, 'model__cl...   \n39                  5000  {'model__C': 3.221100755119597e-05, 'model__cl...   \n36                  5000  {'model__C': 3.1554605245822464e-05, 'model__c...   \n49                  5000  {'model__C': 3.2091405139466105e-05, 'model__c...   \n38                  5000  {'model__C': 3.2074678786294925e-05, 'model__c...   \n37                  5000  {'model__C': 3.198894938842815e-05, 'model__cl...   \n13                  5000  {'model__C': 1.726052335928197e-05, 'model__cl...   \n34                   500  {'model__C': 1.346633619709343e-05, 'model__cl...   \n23                   500  {'model__C': 3.072536364687361e-05, 'model__cl...   \n29                   500  {'model__C': 2.911454042020135e-05, 'model__cl...   \n27                   500  {'model__C': 2.6154383283915823e-05, 'model__c...   \n21                   500  {'model__C': 0.00011423021724205176, 'model__c...   \n17                  5000  {'model__C': 3.1572914603333595e-05, 'model__c...   \n30                   659  {'model__C': 7.133966209019221e-06, 'model__cl...   \n16                   500  {'model__C': 3.7415751703374256e-05, 'model__c...   \n15                  4954  {'model__C': 0.00017653480325438022, 'model__c...   \n24                   500  {'model__C': 0.0005521483268555224, 'model__cl...   \n19                   500  {'model__C': 0.005943830479827734, 'model__cla...   \n32                   777  {'model__C': 0.03787285615575753, 'model__clas...   \n12                  4990  {'model__C': 0.2745817608998623, 'model__class...   \n3                   4112  {'model__C': 3.1562246465541888, 'model__class...   \n4                   3721  {'model__C': 2.491308632420524, 'model__class_...   \n18                   735  {'model__C': 0.006840734983769733, 'model__cla...   \n28                  1002  {'model__C': 0.11513211912438356, 'model__clas...   \n48                  4811  {'model__C': 98.37316810426123, 'model__class_...   \n25                  2698  {'model__C': 100.0, 'model__class_weight': 'ba...   \n8                   2371  {'model__C': 44.037625157309144, 'model__class...   \n14                  5000  {'model__C': 1e-06, 'model__class_weight': Non...   \n22                  4067  {'model__C': 4.612800648088616, 'model__class_...   \n10                   500  {'model__C': 100.0, 'model__class_weight': Non...   \n26                  4875  {'model__C': 3.6882617239760304e-05, 'model__c...   \n31                   882  {'model__C': 5.7021266759750494e-05, 'model__c...   \n0                   1921  {'model__C': 0.0019091131576909443, 'model__cl...   \n11                  5000  {'model__C': 1e-06, 'model__class_weight': Non...   \n1                   4781  {'model__C': 5.001575677983704, 'model__class_...   \n2                   2450  {'model__C': 0.003619595990038508, 'model__cla...   \n9                   1645  {'model__C': 1.0691593986059968e-06, 'model__c...   \n7                   4269  {'model__C': 0.022244596968016832, 'model__cla...   \n6                   4434  {'model__C': 0.08642410048155082, 'model__clas...   \n5                   1348  {'model__C': 0.7451164370027008, 'model__class...   \n\n    split0_test_score  split1_test_score  split2_test_score  \\\n47           0.704096           0.711332           0.834057   \n46           0.704083           0.711241           0.833989   \n20           0.702974           0.709114           0.835492   \n33           0.704236           0.717300           0.829335   \n35           0.704041           0.716445           0.830031   \n45           0.699418           0.703263           0.840303   \n44           0.699310           0.703190           0.840351   \n43           0.699330           0.703117           0.840351   \n42           0.699350           0.703044           0.840371   \n41           0.699312           0.702934           0.840343   \n40           0.699332           0.702828           0.840343   \n39           0.699221           0.702738           0.840343   \n36           0.698930           0.701870           0.840793   \n49           0.699091           0.702339           0.840285   \n38           0.699037           0.702339           0.840257   \n37           0.698888           0.702159           0.840421   \n13           0.709114           0.729379           0.816656   \n34           0.705272           0.727952           0.820220   \n23           0.697724           0.700975           0.841180   \n29           0.696006           0.699149           0.843177   \n27           0.690018           0.694228           0.844999   \n21           0.704884           0.726280           0.813896   \n17           0.712590           0.725471           0.805895   \n30           0.686090           0.714038           0.827925   \n16           0.712778           0.723454           0.803152   \n15           0.704316           0.704943           0.771101   \n24           0.683727           0.682425           0.770521   \n19           0.673979           0.673425           0.734625   \n32           0.672802           0.670177           0.730321   \n12           0.672198           0.669453           0.729442   \n3            0.649057           0.716695           0.694208   \n4            0.666085           0.634862           0.743157   \n18           0.652169           0.633920           0.722388   \n28           0.650330           0.606037           0.710411   \n48           0.679731           0.647114           0.701263   \n25           0.655308           0.612454           0.727746   \n8            0.620970           0.635543           0.696897   \n14           0.537904           0.505374           0.806632   \n22           0.631946           0.614662           0.681757   \n10           0.632551           0.625236           0.647189   \n26           0.564821           0.531828           0.713705   \n31           0.589423           0.568044           0.683109   \n0            0.568045           0.537386           0.647779   \n11           0.433261           0.378378           0.801448   \n1            0.593795           0.504276           0.633300   \n2            0.566754           0.507825           0.638603   \n9            0.454556           0.392728           0.736992   \n7            0.570377           0.502404           0.632101   \n6            0.570351           0.496736           0.629393   \n5            0.580322           0.494028           0.617505   \n\n    split3_test_score  split4_test_score  mean_test_score  std_test_score  \\\n47           0.806010           0.833461         0.777791        0.058154   \n46           0.806020           0.833371         0.777741        0.058148   \n20           0.806549           0.833623         0.777550        0.059308   \n33           0.803114           0.833356         0.777468        0.055596   \n35           0.803270           0.833548         0.777467        0.056016   \n45           0.808994           0.833480         0.777092        0.062733   \n44           0.808994           0.833506         0.777070        0.062791   \n43           0.809049           0.833480         0.777065        0.062804   \n42           0.809049           0.833480         0.777059        0.062821   \n41           0.809076           0.833521         0.777037        0.062860   \n40           0.809095           0.833487         0.777017        0.062876   \n39           0.809095           0.833487         0.776977        0.062925   \n36           0.809441           0.833461         0.776899        0.063323   \n49           0.809177           0.833495         0.776877        0.063049   \n38           0.809177           0.833495         0.776861        0.063057   \n37           0.809250           0.833495         0.776843        0.063177   \n13           0.798598           0.830346         0.776819        0.048499   \n34           0.799026           0.831120         0.776718        0.050660   \n23           0.809877           0.833457         0.776643        0.063955   \n29           0.810040           0.833408         0.776356        0.065225   \n27           0.810303           0.834167         0.774743        0.068400   \n21           0.795177           0.829912         0.774030        0.049438   \n17           0.793593           0.827402         0.772990        0.045550   \n30           0.800734           0.833178         0.772393        0.060721   \n16           0.792132           0.827361         0.771776        0.045397   \n15           0.771319           0.819583         0.754252        0.044200   \n24           0.768689           0.818335         0.744739        0.053405   \n19           0.742002           0.800819         0.724970        0.047735   \n32           0.739122           0.799453         0.722375        0.047889   \n12           0.738348           0.799981         0.721884        0.048260   \n3            0.726678           0.788361         0.715000        0.045391   \n4            0.735993           0.791647         0.714349        0.056429   \n18           0.738395           0.810178         0.711410        0.063432   \n28           0.725221           0.803138         0.699027        0.067340   \n48           0.683767           0.783009         0.698977        0.045515   \n25           0.707961           0.778103         0.696315        0.057493   \n8            0.714085           0.785872         0.690673        0.059241   \n14           0.777634           0.822672         0.690043        0.138639   \n22           0.721175           0.788635         0.687635        0.062908   \n10           0.711681           0.773080         0.677948        0.056522   \n26           0.748443           0.798038         0.671367        0.104500   \n31           0.716537           0.787391         0.668901        0.081240   \n0            0.680039           0.766902         0.640030        0.081823   \n11           0.768099           0.808512         0.637939        0.190807   \n1            0.645410           0.773569         0.630070        0.087152   \n2            0.659609           0.774760         0.629510        0.090368   \n9            0.745974           0.807101         0.627470        0.169298   \n7            0.654316           0.760342         0.623908        0.086296   \n6            0.654014           0.756586         0.621416        0.086660   \n5            0.649261           0.753527         0.618929        0.085005   \n\n    rank_test_score  \n47                1  \n46                2  \n20                3  \n33                4  \n35                5  \n45                6  \n44                7  \n43                8  \n42                9  \n41               10  \n40               11  \n39               12  \n36               13  \n49               14  \n38               15  \n37               16  \n13               17  \n34               18  \n23               19  \n29               20  \n27               21  \n21               22  \n17               23  \n30               24  \n16               25  \n15               26  \n24               27  \n19               28  \n32               29  \n12               30  \n3                31  \n4                32  \n18               33  \n28               34  \n48               35  \n25               36  \n8                37  \n14               38  \n22               39  \n10               40  \n26               41  \n31               42  \n0                43  \n11               44  \n1                45  \n2                46  \n9                47  \n7                48  \n6                49  \n5                50  ",
      "text/html": "<div>\n<style scoped>\n    .dataframe tbody tr th:only-of-type {\n        vertical-align: middle;\n    }\n\n    .dataframe tbody tr th {\n        vertical-align: top;\n    }\n\n    .dataframe thead th {\n        text-align: right;\n    }\n</style>\n<table border=\"1\" class=\"dataframe\">\n  <thead>\n    <tr style=\"text-align: right;\">\n      <th></th>\n      <th>mean_fit_time</th>\n      <th>std_fit_time</th>\n      <th>mean_score_time</th>\n      <th>std_score_time</th>\n      <th>param_model__C</th>\n      <th>param_model__class_weight</th>\n      <th>param_model__loss</th>\n      <th>param_model__max_iter</th>\n      <th>params</th>\n      <th>split0_test_score</th>\n      <th>split1_test_score</th>\n      <th>split2_test_score</th>\n      <th>split3_test_score</th>\n      <th>split4_test_score</th>\n      <th>mean_test_score</th>\n      <th>std_test_score</th>\n      <th>rank_test_score</th>\n    </tr>\n  </thead>\n  <tbody>\n    <tr>\n      <th>47</th>\n      <td>6.908560</td>\n      <td>0.756084</td>\n      <td>0.183487</td>\n      <td>0.024159</td>\n      <td>0.000044</td>\n      <td>None</td>\n      <td>hinge</td>\n      <td>5000</td>\n      <td>{'model__C': 4.37617353977782e-05, 'model__cla...</td>\n      <td>0.704096</td>\n      <td>0.711332</td>\n      <td>0.834057</td>\n      <td>0.806010</td>\n      <td>0.833461</td>\n      <td>0.777791</td>\n      <td>0.058154</td>\n      <td>1</td>\n    </tr>\n    <tr>\n      <th>46</th>\n      <td>7.650003</td>\n      <td>1.278189</td>\n      <td>0.155842</td>\n      <td>0.011783</td>\n      <td>0.000044</td>\n      <td>None</td>\n      <td>hinge</td>\n      <td>5000</td>\n      <td>{'model__C': 4.39209291215761e-05, 'model__cla...</td>\n      <td>0.704083</td>\n      <td>0.711241</td>\n      <td>0.833989</td>\n      <td>0.806020</td>\n      <td>0.833371</td>\n      <td>0.777741</td>\n      <td>0.058148</td>\n      <td>2</td>\n    </tr>\n    <tr>\n      <th>20</th>\n      <td>6.818466</td>\n      <td>0.229713</td>\n      <td>0.194947</td>\n      <td>0.009321</td>\n      <td>0.00004</td>\n      <td>None</td>\n      <td>hinge</td>\n      <td>500</td>\n      <td>{'model__C': 4.0427363544850065e-05, 'model__c...</td>\n      <td>0.702974</td>\n      <td>0.709114</td>\n      <td>0.835492</td>\n      <td>0.806549</td>\n      <td>0.833623</td>\n      <td>0.777550</td>\n      <td>0.059308</td>\n      <td>3</td>\n    </tr>\n    <tr>\n      <th>33</th>\n      <td>7.679219</td>\n      <td>0.851501</td>\n      <td>0.154826</td>\n      <td>0.009959</td>\n      <td>0.000056</td>\n      <td>None</td>\n      <td>hinge</td>\n      <td>5000</td>\n      <td>{'model__C': 5.555864028680978e-05, 'model__cl...</td>\n      <td>0.704236</td>\n      <td>0.717300</td>\n      <td>0.829335</td>\n      <td>0.803114</td>\n      <td>0.833356</td>\n      <td>0.777468</td>\n      <td>0.055596</td>\n      <td>4</td>\n    </tr>\n    <tr>\n      <th>35</th>\n      <td>7.424501</td>\n      <td>0.568367</td>\n      <td>0.159260</td>\n      <td>0.010370</td>\n      <td>0.000054</td>\n      <td>None</td>\n      <td>hinge</td>\n      <td>500</td>\n      <td>{'model__C': 5.406787237844887e-05, 'model__cl...</td>\n      <td>0.704041</td>\n      <td>0.716445</td>\n      <td>0.830031</td>\n      <td>0.803270</td>\n      <td>0.833548</td>\n      <td>0.777467</td>\n      <td>0.056016</td>\n      <td>5</td>\n    </tr>\n    <tr>\n      <th>45</th>\n      <td>6.767816</td>\n      <td>0.593612</td>\n      <td>0.164230</td>\n      <td>0.017540</td>\n      <td>0.000032</td>\n      <td>None</td>\n      <td>hinge</td>\n      <td>5000</td>\n      <td>{'model__C': 3.240241537571675e-05, 'model__cl...</td>\n      <td>0.699418</td>\n      <td>0.703263</td>\n      <td>0.840303</td>\n      <td>0.808994</td>\n      <td>0.833480</td>\n      <td>0.777092</td>\n      <td>0.062733</td>\n      <td>6</td>\n    </tr>\n    <tr>\n      <th>44</th>\n      <td>7.176641</td>\n      <td>0.539984</td>\n      <td>0.165959</td>\n      <td>0.021393</td>\n      <td>0.000032</td>\n      <td>None</td>\n      <td>hinge</td>\n      <td>5000</td>\n      <td>{'model__C': 3.237600998194821e-05, 'model__cl...</td>\n      <td>0.699310</td>\n      <td>0.703190</td>\n      <td>0.840351</td>\n      <td>0.808994</td>\n      <td>0.833506</td>\n      <td>0.777070</td>\n      <td>0.062791</td>\n      <td>7</td>\n    </tr>\n    <tr>\n      <th>43</th>\n      <td>7.706792</td>\n      <td>1.547533</td>\n      <td>0.153423</td>\n      <td>0.008456</td>\n      <td>0.000032</td>\n      <td>None</td>\n      <td>hinge</td>\n      <td>5000</td>\n      <td>{'model__C': 3.2346484596066533e-05, 'model__c...</td>\n      <td>0.699330</td>\n      <td>0.703117</td>\n      <td>0.840351</td>\n      <td>0.809049</td>\n      <td>0.833480</td>\n      <td>0.777065</td>\n      <td>0.062804</td>\n      <td>8</td>\n    </tr>\n    <tr>\n      <th>42</th>\n      <td>7.030630</td>\n      <td>0.644369</td>\n      <td>0.166711</td>\n      <td>0.014084</td>\n      <td>0.000032</td>\n      <td>None</td>\n      <td>hinge</td>\n      <td>5000</td>\n      <td>{'model__C': 3.231171021097408e-05, 'model__cl...</td>\n      <td>0.699350</td>\n      <td>0.703044</td>\n      <td>0.840371</td>\n      <td>0.809049</td>\n      <td>0.833480</td>\n      <td>0.777059</td>\n      <td>0.062821</td>\n      <td>9</td>\n    </tr>\n    <tr>\n      <th>41</th>\n      <td>7.304444</td>\n      <td>0.804840</td>\n      <td>0.156810</td>\n      <td>0.013060</td>\n      <td>0.000032</td>\n      <td>None</td>\n      <td>hinge</td>\n      <td>5000</td>\n      <td>{'model__C': 3.22776815632846e-05, 'model__cla...</td>\n      <td>0.699312</td>\n      <td>0.702934</td>\n      <td>0.840343</td>\n      <td>0.809076</td>\n      <td>0.833521</td>\n      <td>0.777037</td>\n      <td>0.062860</td>\n      <td>10</td>\n    </tr>\n    <tr>\n      <th>40</th>\n      <td>7.127082</td>\n      <td>0.365445</td>\n      <td>0.178648</td>\n      <td>0.031442</td>\n      <td>0.000032</td>\n      <td>None</td>\n      <td>hinge</td>\n      <td>5000</td>\n      <td>{'model__C': 3.224093232303641e-05, 'model__cl...</td>\n      <td>0.699332</td>\n      <td>0.702828</td>\n      <td>0.840343</td>\n      <td>0.809095</td>\n      <td>0.833487</td>\n      <td>0.777017</td>\n      <td>0.062876</td>\n      <td>11</td>\n    </tr>\n    <tr>\n      <th>39</th>\n      <td>7.457722</td>\n      <td>0.480536</td>\n      <td>0.179638</td>\n      <td>0.020723</td>\n      <td>0.000032</td>\n      <td>None</td>\n      <td>hinge</td>\n      <td>5000</td>\n      <td>{'model__C': 3.221100755119597e-05, 'model__cl...</td>\n      <td>0.699221</td>\n      <td>0.702738</td>\n      <td>0.840343</td>\n      <td>0.809095</td>\n      <td>0.833487</td>\n      <td>0.776977</td>\n      <td>0.062925</td>\n      <td>12</td>\n    </tr>\n    <tr>\n      <th>36</th>\n      <td>8.221216</td>\n      <td>1.382769</td>\n      <td>0.169883</td>\n      <td>0.016136</td>\n      <td>0.000032</td>\n      <td>None</td>\n      <td>hinge</td>\n      <td>5000</td>\n      <td>{'model__C': 3.1554605245822464e-05, 'model__c...</td>\n      <td>0.698930</td>\n      <td>0.701870</td>\n      <td>0.840793</td>\n      <td>0.809441</td>\n      <td>0.833461</td>\n      <td>0.776899</td>\n      <td>0.063323</td>\n      <td>13</td>\n    </tr>\n    <tr>\n      <th>49</th>\n      <td>6.684325</td>\n      <td>0.274053</td>\n      <td>0.194644</td>\n      <td>0.036838</td>\n      <td>0.000032</td>\n      <td>None</td>\n      <td>hinge</td>\n      <td>5000</td>\n      <td>{'model__C': 3.2091405139466105e-05, 'model__c...</td>\n      <td>0.699091</td>\n      <td>0.702339</td>\n      <td>0.840285</td>\n      <td>0.809177</td>\n      <td>0.833495</td>\n      <td>0.776877</td>\n      <td>0.063049</td>\n      <td>14</td>\n    </tr>\n    <tr>\n      <th>38</th>\n      <td>6.792666</td>\n      <td>0.447487</td>\n      <td>0.166309</td>\n      <td>0.020466</td>\n      <td>0.000032</td>\n      <td>None</td>\n      <td>hinge</td>\n      <td>5000</td>\n      <td>{'model__C': 3.2074678786294925e-05, 'model__c...</td>\n      <td>0.699037</td>\n      <td>0.702339</td>\n      <td>0.840257</td>\n      <td>0.809177</td>\n      <td>0.833495</td>\n      <td>0.776861</td>\n      <td>0.063057</td>\n      <td>15</td>\n    </tr>\n    <tr>\n      <th>37</th>\n      <td>7.218214</td>\n      <td>0.339044</td>\n      <td>0.173328</td>\n      <td>0.007837</td>\n      <td>0.000032</td>\n      <td>None</td>\n      <td>hinge</td>\n      <td>5000</td>\n      <td>{'model__C': 3.198894938842815e-05, 'model__cl...</td>\n      <td>0.698888</td>\n      <td>0.702159</td>\n      <td>0.840421</td>\n      <td>0.809250</td>\n      <td>0.833495</td>\n      <td>0.776843</td>\n      <td>0.063177</td>\n      <td>16</td>\n    </tr>\n    <tr>\n      <th>13</th>\n      <td>8.103833</td>\n      <td>0.374960</td>\n      <td>0.174460</td>\n      <td>0.015709</td>\n      <td>0.000017</td>\n      <td>None</td>\n      <td>squared_hinge</td>\n      <td>5000</td>\n      <td>{'model__C': 1.726052335928197e-05, 'model__cl...</td>\n      <td>0.709114</td>\n      <td>0.729379</td>\n      <td>0.816656</td>\n      <td>0.798598</td>\n      <td>0.830346</td>\n      <td>0.776819</td>\n      <td>0.048499</td>\n      <td>17</td>\n    </tr>\n    <tr>\n      <th>34</th>\n      <td>8.229492</td>\n      <td>0.202424</td>\n      <td>0.199149</td>\n      <td>0.013715</td>\n      <td>0.000013</td>\n      <td>None</td>\n      <td>squared_hinge</td>\n      <td>500</td>\n      <td>{'model__C': 1.346633619709343e-05, 'model__cl...</td>\n      <td>0.705272</td>\n      <td>0.727952</td>\n      <td>0.820220</td>\n      <td>0.799026</td>\n      <td>0.831120</td>\n      <td>0.776718</td>\n      <td>0.050660</td>\n      <td>18</td>\n    </tr>\n    <tr>\n      <th>23</th>\n      <td>6.660278</td>\n      <td>0.457100</td>\n      <td>0.153119</td>\n      <td>0.010571</td>\n      <td>0.000031</td>\n      <td>None</td>\n      <td>hinge</td>\n      <td>500</td>\n      <td>{'model__C': 3.072536364687361e-05, 'model__cl...</td>\n      <td>0.697724</td>\n      <td>0.700975</td>\n      <td>0.841180</td>\n      <td>0.809877</td>\n      <td>0.833457</td>\n      <td>0.776643</td>\n      <td>0.063955</td>\n      <td>19</td>\n    </tr>\n    <tr>\n      <th>29</th>\n      <td>6.607907</td>\n      <td>0.245253</td>\n      <td>0.203115</td>\n      <td>0.049476</td>\n      <td>0.000029</td>\n      <td>None</td>\n      <td>hinge</td>\n      <td>500</td>\n      <td>{'model__C': 2.911454042020135e-05, 'model__cl...</td>\n      <td>0.696006</td>\n      <td>0.699149</td>\n      <td>0.843177</td>\n      <td>0.810040</td>\n      <td>0.833408</td>\n      <td>0.776356</td>\n      <td>0.065225</td>\n      <td>20</td>\n    </tr>\n    <tr>\n      <th>27</th>\n      <td>6.909855</td>\n      <td>0.568315</td>\n      <td>0.159448</td>\n      <td>0.010008</td>\n      <td>0.000026</td>\n      <td>None</td>\n      <td>hinge</td>\n      <td>500</td>\n      <td>{'model__C': 2.6154383283915823e-05, 'model__c...</td>\n      <td>0.690018</td>\n      <td>0.694228</td>\n      <td>0.844999</td>\n      <td>0.810303</td>\n      <td>0.834167</td>\n      <td>0.774743</td>\n      <td>0.068400</td>\n      <td>21</td>\n    </tr>\n    <tr>\n      <th>21</th>\n      <td>7.480359</td>\n      <td>0.846905</td>\n      <td>0.198224</td>\n      <td>0.045226</td>\n      <td>0.000114</td>\n      <td>None</td>\n      <td>hinge</td>\n      <td>500</td>\n      <td>{'model__C': 0.00011423021724205176, 'model__c...</td>\n      <td>0.704884</td>\n      <td>0.726280</td>\n      <td>0.813896</td>\n      <td>0.795177</td>\n      <td>0.829912</td>\n      <td>0.774030</td>\n      <td>0.049438</td>\n      <td>22</td>\n    </tr>\n    <tr>\n      <th>17</th>\n      <td>8.046084</td>\n      <td>0.124349</td>\n      <td>0.220764</td>\n      <td>0.044261</td>\n      <td>0.000032</td>\n      <td>None</td>\n      <td>squared_hinge</td>\n      <td>5000</td>\n      <td>{'model__C': 3.1572914603333595e-05, 'model__c...</td>\n      <td>0.712590</td>\n      <td>0.725471</td>\n      <td>0.805895</td>\n      <td>0.793593</td>\n      <td>0.827402</td>\n      <td>0.772990</td>\n      <td>0.045550</td>\n      <td>23</td>\n    </tr>\n    <tr>\n      <th>30</th>\n      <td>8.253138</td>\n      <td>0.228883</td>\n      <td>0.161325</td>\n      <td>0.004314</td>\n      <td>0.000007</td>\n      <td>None</td>\n      <td>squared_hinge</td>\n      <td>659</td>\n      <td>{'model__C': 7.133966209019221e-06, 'model__cl...</td>\n      <td>0.686090</td>\n      <td>0.714038</td>\n      <td>0.827925</td>\n      <td>0.800734</td>\n      <td>0.833178</td>\n      <td>0.772393</td>\n      <td>0.060721</td>\n      <td>24</td>\n    </tr>\n    <tr>\n      <th>16</th>\n      <td>8.062776</td>\n      <td>0.231803</td>\n      <td>0.177130</td>\n      <td>0.023059</td>\n      <td>0.000037</td>\n      <td>None</td>\n      <td>squared_hinge</td>\n      <td>500</td>\n      <td>{'model__C': 3.7415751703374256e-05, 'model__c...</td>\n      <td>0.712778</td>\n      <td>0.723454</td>\n      <td>0.803152</td>\n      <td>0.792132</td>\n      <td>0.827361</td>\n      <td>0.771776</td>\n      <td>0.045397</td>\n      <td>25</td>\n    </tr>\n    <tr>\n      <th>15</th>\n      <td>10.901866</td>\n      <td>0.740443</td>\n      <td>0.165775</td>\n      <td>0.015116</td>\n      <td>0.000177</td>\n      <td>None</td>\n      <td>squared_hinge</td>\n      <td>4954</td>\n      <td>{'model__C': 0.00017653480325438022, 'model__c...</td>\n      <td>0.704316</td>\n      <td>0.704943</td>\n      <td>0.771101</td>\n      <td>0.771319</td>\n      <td>0.819583</td>\n      <td>0.754252</td>\n      <td>0.044200</td>\n      <td>26</td>\n    </tr>\n    <tr>\n      <th>24</th>\n      <td>9.032975</td>\n      <td>0.603134</td>\n      <td>0.166268</td>\n      <td>0.015014</td>\n      <td>0.000552</td>\n      <td>None</td>\n      <td>hinge</td>\n      <td>500</td>\n      <td>{'model__C': 0.0005521483268555224, 'model__cl...</td>\n      <td>0.683727</td>\n      <td>0.682425</td>\n      <td>0.770521</td>\n      <td>0.768689</td>\n      <td>0.818335</td>\n      <td>0.744739</td>\n      <td>0.053405</td>\n      <td>27</td>\n    </tr>\n    <tr>\n      <th>19</th>\n      <td>100.990392</td>\n      <td>8.543016</td>\n      <td>0.153285</td>\n      <td>0.009025</td>\n      <td>0.005944</td>\n      <td>None</td>\n      <td>squared_hinge</td>\n      <td>500</td>\n      <td>{'model__C': 0.005943830479827734, 'model__cla...</td>\n      <td>0.673979</td>\n      <td>0.673425</td>\n      <td>0.734625</td>\n      <td>0.742002</td>\n      <td>0.800819</td>\n      <td>0.724970</td>\n      <td>0.047735</td>\n      <td>28</td>\n    </tr>\n    <tr>\n      <th>32</th>\n      <td>174.267260</td>\n      <td>5.729646</td>\n      <td>0.149612</td>\n      <td>0.008227</td>\n      <td>0.037873</td>\n      <td>None</td>\n      <td>squared_hinge</td>\n      <td>777</td>\n      <td>{'model__C': 0.03787285615575753, 'model__clas...</td>\n      <td>0.672802</td>\n      <td>0.670177</td>\n      <td>0.730321</td>\n      <td>0.739122</td>\n      <td>0.799453</td>\n      <td>0.722375</td>\n      <td>0.047889</td>\n      <td>29</td>\n    </tr>\n    <tr>\n      <th>12</th>\n      <td>1068.547413</td>\n      <td>51.101460</td>\n      <td>0.152265</td>\n      <td>0.009447</td>\n      <td>0.274582</td>\n      <td>None</td>\n      <td>squared_hinge</td>\n      <td>4990</td>\n      <td>{'model__C': 0.2745817608998623, 'model__class...</td>\n      <td>0.672198</td>\n      <td>0.669453</td>\n      <td>0.729442</td>\n      <td>0.738348</td>\n      <td>0.799981</td>\n      <td>0.721884</td>\n      <td>0.048260</td>\n      <td>30</td>\n    </tr>\n    <tr>\n      <th>3</th>\n      <td>1500.424259</td>\n      <td>27.077584</td>\n      <td>0.151175</td>\n      <td>0.007722</td>\n      <td>3.156225</td>\n      <td>None</td>\n      <td>squared_hinge</td>\n      <td>4112</td>\n      <td>{'model__C': 3.1562246465541888, 'model__class...</td>\n      <td>0.649057</td>\n      <td>0.716695</td>\n      <td>0.694208</td>\n      <td>0.726678</td>\n      <td>0.788361</td>\n      <td>0.715000</td>\n      <td>0.045391</td>\n      <td>31</td>\n    </tr>\n    <tr>\n      <th>4</th>\n      <td>966.188461</td>\n      <td>32.632788</td>\n      <td>0.154524</td>\n      <td>0.009628</td>\n      <td>2.491309</td>\n      <td>None</td>\n      <td>squared_hinge</td>\n      <td>3721</td>\n      <td>{'model__C': 2.491308632420524, 'model__class_...</td>\n      <td>0.666085</td>\n      <td>0.634862</td>\n      <td>0.743157</td>\n      <td>0.735993</td>\n      <td>0.791647</td>\n      <td>0.714349</td>\n      <td>0.056429</td>\n      <td>32</td>\n    </tr>\n    <tr>\n      <th>18</th>\n      <td>22.526561</td>\n      <td>3.112659</td>\n      <td>0.157256</td>\n      <td>0.010414</td>\n      <td>0.006841</td>\n      <td>None</td>\n      <td>hinge</td>\n      <td>735</td>\n      <td>{'model__C': 0.006840734983769733, 'model__cla...</td>\n      <td>0.652169</td>\n      <td>0.633920</td>\n      <td>0.722388</td>\n      <td>0.738395</td>\n      <td>0.810178</td>\n      <td>0.711410</td>\n      <td>0.063432</td>\n      <td>33</td>\n    </tr>\n    <tr>\n      <th>28</th>\n      <td>114.145750</td>\n      <td>9.709307</td>\n      <td>0.152407</td>\n      <td>0.009480</td>\n      <td>0.115132</td>\n      <td>None</td>\n      <td>hinge</td>\n      <td>1002</td>\n      <td>{'model__C': 0.11513211912438356, 'model__clas...</td>\n      <td>0.650330</td>\n      <td>0.606037</td>\n      <td>0.710411</td>\n      <td>0.725221</td>\n      <td>0.803138</td>\n      <td>0.699027</td>\n      <td>0.067340</td>\n      <td>34</td>\n    </tr>\n    <tr>\n      <th>48</th>\n      <td>1282.829678</td>\n      <td>21.332130</td>\n      <td>0.150819</td>\n      <td>0.009080</td>\n      <td>98.373168</td>\n      <td>None</td>\n      <td>hinge</td>\n      <td>4811</td>\n      <td>{'model__C': 98.37316810426123, 'model__class_...</td>\n      <td>0.679731</td>\n      <td>0.647114</td>\n      <td>0.701263</td>\n      <td>0.683767</td>\n      <td>0.783009</td>\n      <td>0.698977</td>\n      <td>0.045515</td>\n      <td>35</td>\n    </tr>\n    <tr>\n      <th>25</th>\n      <td>734.173151</td>\n      <td>12.656534</td>\n      <td>0.150902</td>\n      <td>0.006838</td>\n      <td>100.0</td>\n      <td>balanced</td>\n      <td>hinge</td>\n      <td>2698</td>\n      <td>{'model__C': 100.0, 'model__class_weight': 'ba...</td>\n      <td>0.655308</td>\n      <td>0.612454</td>\n      <td>0.727746</td>\n      <td>0.707961</td>\n      <td>0.778103</td>\n      <td>0.696315</td>\n      <td>0.057493</td>\n      <td>36</td>\n    </tr>\n    <tr>\n      <th>8</th>\n      <td>643.915332</td>\n      <td>14.138306</td>\n      <td>0.152991</td>\n      <td>0.009266</td>\n      <td>44.037625</td>\n      <td>balanced</td>\n      <td>squared_hinge</td>\n      <td>2371</td>\n      <td>{'model__C': 44.037625157309144, 'model__class...</td>\n      <td>0.620970</td>\n      <td>0.635543</td>\n      <td>0.696897</td>\n      <td>0.714085</td>\n      <td>0.785872</td>\n      <td>0.690673</td>\n      <td>0.059241</td>\n      <td>37</td>\n    </tr>\n    <tr>\n      <th>14</th>\n      <td>7.826944</td>\n      <td>0.232521</td>\n      <td>0.173999</td>\n      <td>0.025880</td>\n      <td>0.000001</td>\n      <td>None</td>\n      <td>squared_hinge</td>\n      <td>5000</td>\n      <td>{'model__C': 1e-06, 'model__class_weight': Non...</td>\n      <td>0.537904</td>\n      <td>0.505374</td>\n      <td>0.806632</td>\n      <td>0.777634</td>\n      <td>0.822672</td>\n      <td>0.690043</td>\n      <td>0.138639</td>\n      <td>38</td>\n    </tr>\n    <tr>\n      <th>22</th>\n      <td>1015.403478</td>\n      <td>31.234645</td>\n      <td>0.150418</td>\n      <td>0.008340</td>\n      <td>4.612801</td>\n      <td>None</td>\n      <td>hinge</td>\n      <td>4067</td>\n      <td>{'model__C': 4.612800648088616, 'model__class_...</td>\n      <td>0.631946</td>\n      <td>0.614662</td>\n      <td>0.681757</td>\n      <td>0.721175</td>\n      <td>0.788635</td>\n      <td>0.687635</td>\n      <td>0.062908</td>\n      <td>39</td>\n    </tr>\n    <tr>\n      <th>10</th>\n      <td>143.858989</td>\n      <td>3.260305</td>\n      <td>0.152041</td>\n      <td>0.007920</td>\n      <td>100.0</td>\n      <td>None</td>\n      <td>squared_hinge</td>\n      <td>500</td>\n      <td>{'model__C': 100.0, 'model__class_weight': Non...</td>\n      <td>0.632551</td>\n      <td>0.625236</td>\n      <td>0.647189</td>\n      <td>0.711681</td>\n      <td>0.773080</td>\n      <td>0.677948</td>\n      <td>0.056522</td>\n      <td>40</td>\n    </tr>\n    <tr>\n      <th>26</th>\n      <td>7.122708</td>\n      <td>0.485553</td>\n      <td>0.180168</td>\n      <td>0.021141</td>\n      <td>0.000037</td>\n      <td>balanced</td>\n      <td>hinge</td>\n      <td>4875</td>\n      <td>{'model__C': 3.6882617239760304e-05, 'model__c...</td>\n      <td>0.564821</td>\n      <td>0.531828</td>\n      <td>0.713705</td>\n      <td>0.748443</td>\n      <td>0.798038</td>\n      <td>0.671367</td>\n      <td>0.104500</td>\n      <td>41</td>\n    </tr>\n    <tr>\n      <th>31</th>\n      <td>9.223140</td>\n      <td>0.115197</td>\n      <td>0.218264</td>\n      <td>0.027573</td>\n      <td>0.000057</td>\n      <td>balanced</td>\n      <td>squared_hinge</td>\n      <td>882</td>\n      <td>{'model__C': 5.7021266759750494e-05, 'model__c...</td>\n      <td>0.589423</td>\n      <td>0.568044</td>\n      <td>0.683109</td>\n      <td>0.716537</td>\n      <td>0.787391</td>\n      <td>0.668901</td>\n      <td>0.081240</td>\n      <td>42</td>\n    </tr>\n    <tr>\n      <th>0</th>\n      <td>124.412320</td>\n      <td>28.246642</td>\n      <td>0.214386</td>\n      <td>0.024636</td>\n      <td>0.001909</td>\n      <td>balanced</td>\n      <td>squared_hinge</td>\n      <td>1921</td>\n      <td>{'model__C': 0.0019091131576909443, 'model__cl...</td>\n      <td>0.568045</td>\n      <td>0.537386</td>\n      <td>0.647779</td>\n      <td>0.680039</td>\n      <td>0.766902</td>\n      <td>0.640030</td>\n      <td>0.081823</td>\n      <td>43</td>\n    </tr>\n    <tr>\n      <th>11</th>\n      <td>6.022990</td>\n      <td>0.349975</td>\n      <td>0.170736</td>\n      <td>0.018469</td>\n      <td>0.000001</td>\n      <td>None</td>\n      <td>hinge</td>\n      <td>5000</td>\n      <td>{'model__C': 1e-06, 'model__class_weight': Non...</td>\n      <td>0.433261</td>\n      <td>0.378378</td>\n      <td>0.801448</td>\n      <td>0.768099</td>\n      <td>0.808512</td>\n      <td>0.637939</td>\n      <td>0.190807</td>\n      <td>44</td>\n    </tr>\n    <tr>\n      <th>1</th>\n      <td>1848.515600</td>\n      <td>30.095660</td>\n      <td>0.230465</td>\n      <td>0.041288</td>\n      <td>5.001576</td>\n      <td>balanced</td>\n      <td>hinge</td>\n      <td>4781</td>\n      <td>{'model__C': 5.001575677983704, 'model__class_...</td>\n      <td>0.593795</td>\n      <td>0.504276</td>\n      <td>0.633300</td>\n      <td>0.645410</td>\n      <td>0.773569</td>\n      <td>0.630070</td>\n      <td>0.087152</td>\n      <td>45</td>\n    </tr>\n    <tr>\n      <th>2</th>\n      <td>37.878896</td>\n      <td>2.086229</td>\n      <td>0.224731</td>\n      <td>0.025238</td>\n      <td>0.00362</td>\n      <td>balanced</td>\n      <td>hinge</td>\n      <td>2450</td>\n      <td>{'model__C': 0.003619595990038508, 'model__cla...</td>\n      <td>0.566754</td>\n      <td>0.507825</td>\n      <td>0.638603</td>\n      <td>0.659609</td>\n      <td>0.774760</td>\n      <td>0.629510</td>\n      <td>0.090368</td>\n      <td>46</td>\n    </tr>\n    <tr>\n      <th>9</th>\n      <td>7.976528</td>\n      <td>0.334920</td>\n      <td>0.192551</td>\n      <td>0.022745</td>\n      <td>0.000001</td>\n      <td>balanced</td>\n      <td>squared_hinge</td>\n      <td>1645</td>\n      <td>{'model__C': 1.0691593986059968e-06, 'model__c...</td>\n      <td>0.454556</td>\n      <td>0.392728</td>\n      <td>0.736992</td>\n      <td>0.745974</td>\n      <td>0.807101</td>\n      <td>0.627470</td>\n      <td>0.169298</td>\n      <td>47</td>\n    </tr>\n    <tr>\n      <th>7</th>\n      <td>77.611804</td>\n      <td>6.785727</td>\n      <td>0.153634</td>\n      <td>0.009852</td>\n      <td>0.022245</td>\n      <td>balanced</td>\n      <td>hinge</td>\n      <td>4269</td>\n      <td>{'model__C': 0.022244596968016832, 'model__cla...</td>\n      <td>0.570377</td>\n      <td>0.502404</td>\n      <td>0.632101</td>\n      <td>0.654316</td>\n      <td>0.760342</td>\n      <td>0.623908</td>\n      <td>0.086296</td>\n      <td>48</td>\n    </tr>\n    <tr>\n      <th>6</th>\n      <td>191.152564</td>\n      <td>17.489979</td>\n      <td>0.154507</td>\n      <td>0.010349</td>\n      <td>0.086424</td>\n      <td>balanced</td>\n      <td>hinge</td>\n      <td>4434</td>\n      <td>{'model__C': 0.08642410048155082, 'model__clas...</td>\n      <td>0.570351</td>\n      <td>0.496736</td>\n      <td>0.629393</td>\n      <td>0.654014</td>\n      <td>0.756586</td>\n      <td>0.621416</td>\n      <td>0.086660</td>\n      <td>49</td>\n    </tr>\n    <tr>\n      <th>5</th>\n      <td>328.867725</td>\n      <td>10.397048</td>\n      <td>0.150874</td>\n      <td>0.008221</td>\n      <td>0.745116</td>\n      <td>balanced</td>\n      <td>hinge</td>\n      <td>1348</td>\n      <td>{'model__C': 0.7451164370027008, 'model__class...</td>\n      <td>0.580322</td>\n      <td>0.494028</td>\n      <td>0.617505</td>\n      <td>0.649261</td>\n      <td>0.753527</td>\n      <td>0.618929</td>\n      <td>0.085005</td>\n      <td>50</td>\n    </tr>\n  </tbody>\n</table>\n</div>"
     },
     "execution_count": 98,
     "metadata": {},
     "output_type": "execute_result"
    }
   ],
   "source": [
    "lsvc_grid_search_dataframe = pd.DataFrame(\n",
    "    np.load(\"Dataset_Files/Classification_Models/optimised_lsvc_cv_results.npy\", allow_pickle=True).tolist())\n",
    "lsvc_grid_search_dataframe.sort_values(by=[\"rank_test_score\"], inplace=True)\n",
    "lsvc_grid_search_dataframe"
   ],
   "metadata": {
    "collapsed": false,
    "pycharm": {
     "name": "#%%\n"
    }
   }
  },
  {
   "cell_type": "markdown",
   "source": [
    "### Testing"
   ],
   "metadata": {
    "collapsed": false,
    "pycharm": {
     "name": "#%% md\n"
    }
   }
  },
  {
   "cell_type": "code",
   "execution_count": 99,
   "outputs": [
    {
     "name": "stdout",
     "output_type": "stream",
     "text": [
      "F1 score: 0.8850744968197264\n",
      "Matthews Correlation Coefficient: 0.5286481499884806\n",
      "Accuracy score: 0.8249560399455891\n",
      "Recall score: 0.9234125721558111\n",
      "Precision score: 0.8497929476722299\n"
     ]
    }
   ],
   "source": [
    "y_test_pred = optimised_lsvc.predict(X_test_classification)\n",
    "calculate_metrics_classification(y_test_classification, y_test_pred)"
   ],
   "metadata": {
    "collapsed": false,
    "pycharm": {
     "name": "#%%\n"
    }
   }
  },
  {
   "cell_type": "markdown",
   "source": [
    "## K-Nearest Neighbors Classifier (KNNC)"
   ],
   "metadata": {
    "collapsed": false,
    "pycharm": {
     "name": "#%% md\n"
    }
   }
  },
  {
   "cell_type": "code",
   "execution_count": 100,
   "outputs": [
    {
     "data": {
      "text/plain": "{'memory': None,\n 'steps': [('scale', StandardScaler()), ('model', KNeighborsClassifier())],\n 'verbose': False,\n 'scale': StandardScaler(),\n 'model': KNeighborsClassifier(),\n 'scale__copy': True,\n 'scale__with_mean': True,\n 'scale__with_std': True,\n 'model__algorithm': 'auto',\n 'model__leaf_size': 30,\n 'model__metric': 'minkowski',\n 'model__metric_params': None,\n 'model__n_jobs': None,\n 'model__n_neighbors': 5,\n 'model__p': 2,\n 'model__weights': 'uniform'}"
     },
     "execution_count": 100,
     "metadata": {},
     "output_type": "execute_result"
    }
   ],
   "source": [
    "pipe = Pipeline(\n",
    "    [\n",
    "        ('scale', StandardScaler()),\n",
    "        ('model', KNeighborsClassifier())\n",
    "    ]\n",
    ")\n",
    "pipe.get_params()"
   ],
   "metadata": {
    "collapsed": false,
    "pycharm": {
     "name": "#%%\n"
    }
   }
  },
  {
   "cell_type": "code",
   "execution_count": 101,
   "outputs": [],
   "source": [
    "model = BayesSearchCV(estimator=pipe,\n",
    "                      search_spaces=\n",
    "                      {'model__n_neighbors': Integer(4, 20),\n",
    "                       'model__weights': Categorical(['uniform', 'distance']),\n",
    "                       'model__algorithm': Categorical(['auto', 'ball_tree', 'kd_tree', 'brute']),\n",
    "                       },\n",
    "                      scoring='f1',\n",
    "                      cv=5,\n",
    "                      error_score=np.nan,\n",
    "                      n_jobs=-1,\n",
    "                      pre_dispatch='2*n_jobs',\n",
    "                      random_state=42)"
   ],
   "metadata": {
    "collapsed": false,
    "pycharm": {
     "name": "#%%\n"
    }
   }
  },
  {
   "cell_type": "markdown",
   "source": [
    "### Training"
   ],
   "metadata": {
    "collapsed": false,
    "pycharm": {
     "name": "#%% md\n"
    }
   }
  },
  {
   "cell_type": "code",
   "execution_count": 102,
   "outputs": [],
   "source": [
    "# index = 1\n",
    "# model.fit(X_train, y_train, callback=on_step)\n",
    "#\n",
    "# optimised_knnc = model.best_estimator_\n",
    "#\n",
    "# y_train_pred = optimised_knnc.predict(X_train)\n",
    "# calculate_metrics_classification(y_train, y_train_pred)\n",
    "#\n",
    "# # Save Model & CV Results\n",
    "# dump(optimised_knnc, 'Dataset_Files/Classification_Models/optimised_knnc.joblib')\n",
    "# np.save(\"Dataset_Files/Classification_Models/optimised_knnc_cv_results.npy\", model.cv_results_)"
   ],
   "metadata": {
    "collapsed": false,
    "pycharm": {
     "name": "#%%\n"
    }
   }
  },
  {
   "cell_type": "code",
   "execution_count": 103,
   "outputs": [],
   "source": [
    "# Load Model\n",
    "optimised_knnc = load('Dataset_Files/Classification_Models/optimised_knnc.joblib')"
   ],
   "metadata": {
    "collapsed": false,
    "pycharm": {
     "name": "#%%\n"
    }
   }
  },
  {
   "cell_type": "code",
   "execution_count": 104,
   "outputs": [
    {
     "name": "stdout",
     "output_type": "stream",
     "text": [
      "F1 score: 0.9414310617749013\n",
      "Matthews Correlation Coefficient: 0.7747306535746232\n",
      "Accuracy score: 0.913221607018273\n",
      "Recall score: 0.9514494294422\n",
      "Precision score: 0.9316214742477569\n"
     ]
    }
   ],
   "source": [
    "if os.path.exists(\"Dataset_Files/Classification_Models/optimised_knnc_y_train_pred.npy\"):\n",
    "    y_train_pred = np.load(\"Dataset_Files/Classification_Models/optimised_knnc_y_train_pred.npy\")\n",
    "else:\n",
    "    y_train_pred = optimised_knnc.predict(X_train)\n",
    "    np.save(\"Dataset_Files/Classification_Models/optimised_knnc_y_train_pred.npy\", y_train_pred)\n",
    "\n",
    "calculate_metrics_classification(y_train, y_train_pred)"
   ],
   "metadata": {
    "collapsed": false,
    "pycharm": {
     "name": "#%%\n"
    }
   }
  },
  {
   "cell_type": "code",
   "execution_count": 105,
   "outputs": [
    {
     "data": {
      "text/plain": "{'memory': None,\n 'steps': [('scale', StandardScaler()),\n  ('model', KNeighborsClassifier(algorithm='kd_tree', n_neighbors=19))],\n 'verbose': False,\n 'scale': StandardScaler(),\n 'model': KNeighborsClassifier(algorithm='kd_tree', n_neighbors=19),\n 'scale__copy': True,\n 'scale__with_mean': True,\n 'scale__with_std': True,\n 'model__algorithm': 'kd_tree',\n 'model__leaf_size': 30,\n 'model__metric': 'minkowski',\n 'model__metric_params': None,\n 'model__n_jobs': None,\n 'model__n_neighbors': 19,\n 'model__p': 2,\n 'model__weights': 'uniform'}"
     },
     "execution_count": 105,
     "metadata": {},
     "output_type": "execute_result"
    }
   ],
   "source": [
    "optimised_knnc.get_params()"
   ],
   "metadata": {
    "collapsed": false,
    "pycharm": {
     "name": "#%%\n"
    }
   }
  },
  {
   "cell_type": "code",
   "execution_count": 106,
   "outputs": [
    {
     "data": {
      "text/plain": "    mean_fit_time  std_fit_time  mean_score_time  std_score_time  \\\n49       1.825007      0.138253       102.614121        2.309688   \n31       1.844019      0.216043        98.452453        2.959144   \n33      14.516480      1.234510      3757.279202       56.727425   \n21       1.781852      0.093442       101.883838        3.232928   \n20      14.251192      1.246291      3743.388045       62.238347   \n35       1.799546      0.096984       102.924750        2.300177   \n39      14.346333      1.081688      3742.341087       62.568789   \n40       1.830748      0.055993       103.154682        2.611640   \n48      14.333448      1.225579      3749.428631       66.386132   \n42       1.818891      0.178948       104.319416        2.326520   \n41      14.306463      1.093862      3763.444921       80.109547   \n43      14.295309      0.934671      3753.423650       58.733971   \n44       1.800851      0.162132       103.969656        3.110699   \n46      14.174914      1.150560      3755.087472       70.293988   \n47       1.811226      0.047670       102.300603        2.868270   \n30      13.958093      1.397008      3687.379374       58.935445   \n9        1.782238      0.053209       103.371918        2.005358   \n16      14.230393      1.259353      3752.186221       63.472729   \n17      14.219305      1.351063      3721.638380       54.569061   \n13       1.842718      0.156020        99.549855        2.675356   \n8       13.869795      0.878132      3651.436053       74.221413   \n11       1.812795      0.139382        99.640589        3.127036   \n7        1.813489      0.137259       103.544663        3.025954   \n5        1.845054      0.181520       100.737041        2.931996   \n2       11.461694      1.616361      3216.781299       61.985352   \n34      14.302307      1.472437      3646.562833       79.892789   \n0       11.492615      1.344725      3228.804890       54.172663   \n1       14.150175      0.840913      3736.080605       65.062142   \n12      14.446822      1.419192      3712.440244       66.693273   \n6        1.814672      0.145173        98.788106        2.925725   \n10       1.783206      0.071534       102.994628        2.833292   \n19       1.816370      0.139564       102.354986        3.105385   \n4        1.764788      0.146153       103.951367        2.653526   \n28      14.117047      1.205675      3694.903660       68.258087   \n26      14.287930      1.298458      3669.608126       81.206642   \n23       1.846018      0.145629       103.280411        2.256956   \n45      14.345019      1.068271      3595.033449      106.377286   \n18      14.302728      1.396304      3656.589431       82.433230   \n25       1.684549      0.146992       102.462734        1.885456   \n22      14.227297      1.316684      3608.156000       79.170523   \n36      13.991987      0.699625      3618.451149       96.384387   \n15       1.816430      0.163455       102.486250        2.354157   \n3        1.830992      0.103546       103.841131        2.972111   \n32       1.767159      0.055459       103.519351        2.768840   \n27      14.242055      1.501146      3569.998473      102.171962   \n38       1.768144      0.052040       103.810248        2.765241   \n29      14.239766      1.170573      3464.224122      135.101857   \n24      14.410035      1.124410      3518.906880      113.678860   \n37       1.839953      0.060127       103.409545        2.729209   \n14       1.779191      0.060088       103.252801        2.750959   \n\n   param_model__algorithm param_model__n_neighbors param_model__weights  \\\n49                   auto                       19              uniform   \n31                   auto                       19              uniform   \n33                kd_tree                       19              uniform   \n21                   auto                       19              uniform   \n20                kd_tree                       19              uniform   \n35                   auto                       19              uniform   \n39                kd_tree                       19              uniform   \n40                   auto                       19              uniform   \n48                kd_tree                       19              uniform   \n42                   auto                       19              uniform   \n41                kd_tree                       19              uniform   \n43                kd_tree                       19              uniform   \n44                   auto                       19              uniform   \n46                kd_tree                       19              uniform   \n47                   auto                       19              uniform   \n30                kd_tree                       19              uniform   \n9                    auto                       17              uniform   \n16                kd_tree                       20              uniform   \n17                kd_tree                       20              uniform   \n13                   auto                       18              uniform   \n8                 kd_tree                       15              uniform   \n11                  brute                       20             distance   \n7                   brute                       19             distance   \n5                   brute                       19             distance   \n2               ball_tree                       19             distance   \n34                kd_tree                       13              uniform   \n0               ball_tree                       16              uniform   \n1                 kd_tree                       18             distance   \n12                kd_tree                       17             distance   \n6                   brute                       16             distance   \n10                   auto                       14              uniform   \n19                   auto                       15             distance   \n4                   brute                       11              uniform   \n28                kd_tree                       14             distance   \n26                kd_tree                       13             distance   \n23                   auto                       12              uniform   \n45                kd_tree                        9              uniform   \n18                kd_tree                       12             distance   \n25                   auto                       11             distance   \n22                kd_tree                       10              uniform   \n36                kd_tree                       10             distance   \n15                   auto                        9             distance   \n3                   brute                        7              uniform   \n32                   auto                        8             distance   \n27                kd_tree                        8              uniform   \n38                   auto                        7             distance   \n29                kd_tree                        5              uniform   \n24                kd_tree                        6             distance   \n37                   auto                        6              uniform   \n14                   auto                        4             distance   \n\n                                               params  split0_test_score  \\\n49  {'model__algorithm': 'auto', 'model__n_neighbo...           0.616333   \n31  {'model__algorithm': 'auto', 'model__n_neighbo...           0.616333   \n33  {'model__algorithm': 'kd_tree', 'model__n_neig...           0.616333   \n21  {'model__algorithm': 'auto', 'model__n_neighbo...           0.616333   \n20  {'model__algorithm': 'kd_tree', 'model__n_neig...           0.616333   \n35  {'model__algorithm': 'auto', 'model__n_neighbo...           0.616333   \n39  {'model__algorithm': 'kd_tree', 'model__n_neig...           0.616333   \n40  {'model__algorithm': 'auto', 'model__n_neighbo...           0.616333   \n48  {'model__algorithm': 'kd_tree', 'model__n_neig...           0.616333   \n42  {'model__algorithm': 'auto', 'model__n_neighbo...           0.616333   \n41  {'model__algorithm': 'kd_tree', 'model__n_neig...           0.616333   \n43  {'model__algorithm': 'kd_tree', 'model__n_neig...           0.616333   \n44  {'model__algorithm': 'auto', 'model__n_neighbo...           0.616333   \n46  {'model__algorithm': 'kd_tree', 'model__n_neig...           0.616333   \n47  {'model__algorithm': 'auto', 'model__n_neighbo...           0.616333   \n30  {'model__algorithm': 'kd_tree', 'model__n_neig...           0.616333   \n9   {'model__algorithm': 'auto', 'model__n_neighbo...           0.611845   \n16  {'model__algorithm': 'kd_tree', 'model__n_neig...           0.609682   \n17  {'model__algorithm': 'kd_tree', 'model__n_neig...           0.609682   \n13  {'model__algorithm': 'auto', 'model__n_neighbo...           0.604911   \n8   {'model__algorithm': 'kd_tree', 'model__n_neig...           0.607823   \n11  {'model__algorithm': 'brute', 'model__n_neighb...           0.609680   \n7   {'model__algorithm': 'brute', 'model__n_neighb...           0.606385   \n5   {'model__algorithm': 'brute', 'model__n_neighb...           0.606385   \n2   {'model__algorithm': 'ball_tree', 'model__n_ne...           0.606385   \n34  {'model__algorithm': 'kd_tree', 'model__n_neig...           0.602333   \n0   {'model__algorithm': 'ball_tree', 'model__n_ne...           0.599859   \n1   {'model__algorithm': 'kd_tree', 'model__n_neig...           0.605707   \n12  {'model__algorithm': 'kd_tree', 'model__n_neig...           0.604347   \n6   {'model__algorithm': 'brute', 'model__n_neighb...           0.603068   \n10  {'model__algorithm': 'auto', 'model__n_neighbo...           0.593171   \n19  {'model__algorithm': 'auto', 'model__n_neighbo...           0.600332   \n4   {'model__algorithm': 'brute', 'model__n_neighb...           0.598843   \n28  {'model__algorithm': 'kd_tree', 'model__n_neig...           0.597876   \n26  {'model__algorithm': 'kd_tree', 'model__n_neig...           0.593788   \n23  {'model__algorithm': 'auto', 'model__n_neighbo...           0.586396   \n45  {'model__algorithm': 'kd_tree', 'model__n_neig...           0.594812   \n18  {'model__algorithm': 'kd_tree', 'model__n_neig...           0.593605   \n25  {'model__algorithm': 'auto', 'model__n_neighbo...           0.591228   \n22  {'model__algorithm': 'kd_tree', 'model__n_neig...           0.582630   \n36  {'model__algorithm': 'kd_tree', 'model__n_neig...           0.589548   \n15  {'model__algorithm': 'auto', 'model__n_neighbo...           0.585751   \n3   {'model__algorithm': 'brute', 'model__n_neighb...           0.584140   \n32  {'model__algorithm': 'auto', 'model__n_neighbo...           0.581864   \n27  {'model__algorithm': 'kd_tree', 'model__n_neig...           0.570206   \n38  {'model__algorithm': 'auto', 'model__n_neighbo...           0.577250   \n29  {'model__algorithm': 'kd_tree', 'model__n_neig...           0.569493   \n24  {'model__algorithm': 'kd_tree', 'model__n_neig...           0.568275   \n37  {'model__algorithm': 'auto', 'model__n_neighbo...           0.547991   \n14  {'model__algorithm': 'auto', 'model__n_neighbo...           0.534100   \n\n    split1_test_score  split2_test_score  split3_test_score  \\\n49           0.509407           0.618646           0.677035   \n31           0.509407           0.618646           0.677035   \n33           0.509407           0.618646           0.677035   \n21           0.509407           0.618646           0.677035   \n20           0.509407           0.618646           0.677035   \n35           0.509407           0.618646           0.677035   \n39           0.509407           0.618646           0.677035   \n40           0.509407           0.618646           0.677035   \n48           0.509407           0.618646           0.677035   \n42           0.509407           0.618646           0.677035   \n41           0.509407           0.618646           0.677035   \n43           0.509407           0.618646           0.677035   \n44           0.509407           0.618646           0.677035   \n46           0.509407           0.618646           0.677035   \n47           0.509407           0.618646           0.677035   \n30           0.509407           0.618646           0.677035   \n9            0.504074           0.609972           0.671583   \n16           0.496633           0.612388           0.669548   \n17           0.496633           0.612388           0.669548   \n13           0.488972           0.601900           0.663330   \n8            0.490294           0.596624           0.656744   \n11           0.485862           0.589406           0.655119   \n7            0.484056           0.586383           0.653153   \n5            0.484056           0.586383           0.653153   \n2            0.484056           0.586383           0.653153   \n34           0.479902           0.583770           0.645856   \n0            0.476396           0.589047           0.648388   \n1            0.477385           0.577642           0.645910   \n12           0.474180           0.573264           0.643739   \n6            0.469801           0.563847           0.635355   \n10           0.464998           0.575001           0.635876   \n19           0.466570           0.560126           0.633723   \n4            0.467158           0.564928           0.632506   \n28           0.458842           0.550065           0.622713   \n26           0.454251           0.546962           0.619302   \n23           0.449684           0.555653           0.620522   \n45           0.446520           0.536994           0.613378   \n18           0.443002           0.531795           0.607558   \n25           0.437391           0.527126           0.603224   \n22           0.426219           0.527703           0.599191   \n36           0.425301           0.511581           0.589176   \n15           0.416127           0.506548           0.582197   \n3            0.409955           0.507998           0.581718   \n32           0.396113           0.490125           0.559411   \n27           0.389744           0.495964           0.565639   \n38           0.386213           0.486033           0.555629   \n29           0.372177           0.479046           0.552236   \n24           0.360343           0.462038           0.539477   \n37           0.351002           0.463765           0.534225   \n14           0.322999           0.417491           0.507491   \n\n    split4_test_score  mean_test_score  std_test_score  rank_test_score  \n49           0.792526         0.642789        0.092377                1  \n31           0.792526         0.642789        0.092377                1  \n33           0.792526         0.642789        0.092377                1  \n21           0.792526         0.642789        0.092377                1  \n20           0.792526         0.642789        0.092377                1  \n35           0.792526         0.642789        0.092377                1  \n39           0.792526         0.642789        0.092377                1  \n40           0.792526         0.642789        0.092377                1  \n48           0.792526         0.642789        0.092377                1  \n42           0.792526         0.642789        0.092377                1  \n41           0.792526         0.642789        0.092377                1  \n43           0.792526         0.642789        0.092377                1  \n44           0.792526         0.642789        0.092377                1  \n46           0.792526         0.642789        0.092377                1  \n47           0.792526         0.642789        0.092377                1  \n30           0.792526         0.642789        0.092377                1  \n9            0.790920         0.637679        0.093721               17  \n16           0.788411         0.635333        0.094895               18  \n17           0.788411         0.635333        0.094895               18  \n13           0.785888         0.629000        0.096659               20  \n8            0.790197         0.628337        0.097456               21  \n11           0.791023         0.626218        0.099322               22  \n7            0.791804         0.624356        0.100317               23  \n5            0.791804         0.624356        0.100317               23  \n2            0.791804         0.624356        0.100317               23  \n34           0.787865         0.619945        0.100099               26  \n0            0.784058         0.619549        0.099705               27  \n1            0.790100         0.619349        0.101922               28  \n12           0.790253         0.617157        0.103152               29  \n6            0.788827         0.612180        0.104338               30  \n10           0.782520         0.610313        0.102923               31  \n19           0.789493         0.610049        0.105767               32  \n4            0.785982         0.609883        0.103958               33  \n28           0.786797         0.603259        0.107498               34  \n26           0.787143         0.600289        0.109077               35  \n23           0.778839         0.598219        0.106897               36  \n45           0.780335         0.594408        0.109632               37  \n18           0.785310         0.592254        0.112640               38  \n25           0.785408         0.588876        0.114540               39  \n22           0.770818         0.581312        0.112394               40  \n36           0.779935         0.579108        0.117268               41  \n15           0.779486         0.574022        0.119920               42  \n3            0.773665         0.571495        0.119385               43  \n32           0.773722         0.560247        0.124817               44  \n27           0.762601         0.556831        0.121836               45  \n38           0.772725         0.555570        0.127392               46  \n29           0.764827         0.547556        0.128966               47  \n24           0.764678         0.538962        0.133887               48  \n37           0.749602         0.529317        0.130377               49  \n14           0.758697         0.508156        0.145566               50  ",
      "text/html": "<div>\n<style scoped>\n    .dataframe tbody tr th:only-of-type {\n        vertical-align: middle;\n    }\n\n    .dataframe tbody tr th {\n        vertical-align: top;\n    }\n\n    .dataframe thead th {\n        text-align: right;\n    }\n</style>\n<table border=\"1\" class=\"dataframe\">\n  <thead>\n    <tr style=\"text-align: right;\">\n      <th></th>\n      <th>mean_fit_time</th>\n      <th>std_fit_time</th>\n      <th>mean_score_time</th>\n      <th>std_score_time</th>\n      <th>param_model__algorithm</th>\n      <th>param_model__n_neighbors</th>\n      <th>param_model__weights</th>\n      <th>params</th>\n      <th>split0_test_score</th>\n      <th>split1_test_score</th>\n      <th>split2_test_score</th>\n      <th>split3_test_score</th>\n      <th>split4_test_score</th>\n      <th>mean_test_score</th>\n      <th>std_test_score</th>\n      <th>rank_test_score</th>\n    </tr>\n  </thead>\n  <tbody>\n    <tr>\n      <th>49</th>\n      <td>1.825007</td>\n      <td>0.138253</td>\n      <td>102.614121</td>\n      <td>2.309688</td>\n      <td>auto</td>\n      <td>19</td>\n      <td>uniform</td>\n      <td>{'model__algorithm': 'auto', 'model__n_neighbo...</td>\n      <td>0.616333</td>\n      <td>0.509407</td>\n      <td>0.618646</td>\n      <td>0.677035</td>\n      <td>0.792526</td>\n      <td>0.642789</td>\n      <td>0.092377</td>\n      <td>1</td>\n    </tr>\n    <tr>\n      <th>31</th>\n      <td>1.844019</td>\n      <td>0.216043</td>\n      <td>98.452453</td>\n      <td>2.959144</td>\n      <td>auto</td>\n      <td>19</td>\n      <td>uniform</td>\n      <td>{'model__algorithm': 'auto', 'model__n_neighbo...</td>\n      <td>0.616333</td>\n      <td>0.509407</td>\n      <td>0.618646</td>\n      <td>0.677035</td>\n      <td>0.792526</td>\n      <td>0.642789</td>\n      <td>0.092377</td>\n      <td>1</td>\n    </tr>\n    <tr>\n      <th>33</th>\n      <td>14.516480</td>\n      <td>1.234510</td>\n      <td>3757.279202</td>\n      <td>56.727425</td>\n      <td>kd_tree</td>\n      <td>19</td>\n      <td>uniform</td>\n      <td>{'model__algorithm': 'kd_tree', 'model__n_neig...</td>\n      <td>0.616333</td>\n      <td>0.509407</td>\n      <td>0.618646</td>\n      <td>0.677035</td>\n      <td>0.792526</td>\n      <td>0.642789</td>\n      <td>0.092377</td>\n      <td>1</td>\n    </tr>\n    <tr>\n      <th>21</th>\n      <td>1.781852</td>\n      <td>0.093442</td>\n      <td>101.883838</td>\n      <td>3.232928</td>\n      <td>auto</td>\n      <td>19</td>\n      <td>uniform</td>\n      <td>{'model__algorithm': 'auto', 'model__n_neighbo...</td>\n      <td>0.616333</td>\n      <td>0.509407</td>\n      <td>0.618646</td>\n      <td>0.677035</td>\n      <td>0.792526</td>\n      <td>0.642789</td>\n      <td>0.092377</td>\n      <td>1</td>\n    </tr>\n    <tr>\n      <th>20</th>\n      <td>14.251192</td>\n      <td>1.246291</td>\n      <td>3743.388045</td>\n      <td>62.238347</td>\n      <td>kd_tree</td>\n      <td>19</td>\n      <td>uniform</td>\n      <td>{'model__algorithm': 'kd_tree', 'model__n_neig...</td>\n      <td>0.616333</td>\n      <td>0.509407</td>\n      <td>0.618646</td>\n      <td>0.677035</td>\n      <td>0.792526</td>\n      <td>0.642789</td>\n      <td>0.092377</td>\n      <td>1</td>\n    </tr>\n    <tr>\n      <th>35</th>\n      <td>1.799546</td>\n      <td>0.096984</td>\n      <td>102.924750</td>\n      <td>2.300177</td>\n      <td>auto</td>\n      <td>19</td>\n      <td>uniform</td>\n      <td>{'model__algorithm': 'auto', 'model__n_neighbo...</td>\n      <td>0.616333</td>\n      <td>0.509407</td>\n      <td>0.618646</td>\n      <td>0.677035</td>\n      <td>0.792526</td>\n      <td>0.642789</td>\n      <td>0.092377</td>\n      <td>1</td>\n    </tr>\n    <tr>\n      <th>39</th>\n      <td>14.346333</td>\n      <td>1.081688</td>\n      <td>3742.341087</td>\n      <td>62.568789</td>\n      <td>kd_tree</td>\n      <td>19</td>\n      <td>uniform</td>\n      <td>{'model__algorithm': 'kd_tree', 'model__n_neig...</td>\n      <td>0.616333</td>\n      <td>0.509407</td>\n      <td>0.618646</td>\n      <td>0.677035</td>\n      <td>0.792526</td>\n      <td>0.642789</td>\n      <td>0.092377</td>\n      <td>1</td>\n    </tr>\n    <tr>\n      <th>40</th>\n      <td>1.830748</td>\n      <td>0.055993</td>\n      <td>103.154682</td>\n      <td>2.611640</td>\n      <td>auto</td>\n      <td>19</td>\n      <td>uniform</td>\n      <td>{'model__algorithm': 'auto', 'model__n_neighbo...</td>\n      <td>0.616333</td>\n      <td>0.509407</td>\n      <td>0.618646</td>\n      <td>0.677035</td>\n      <td>0.792526</td>\n      <td>0.642789</td>\n      <td>0.092377</td>\n      <td>1</td>\n    </tr>\n    <tr>\n      <th>48</th>\n      <td>14.333448</td>\n      <td>1.225579</td>\n      <td>3749.428631</td>\n      <td>66.386132</td>\n      <td>kd_tree</td>\n      <td>19</td>\n      <td>uniform</td>\n      <td>{'model__algorithm': 'kd_tree', 'model__n_neig...</td>\n      <td>0.616333</td>\n      <td>0.509407</td>\n      <td>0.618646</td>\n      <td>0.677035</td>\n      <td>0.792526</td>\n      <td>0.642789</td>\n      <td>0.092377</td>\n      <td>1</td>\n    </tr>\n    <tr>\n      <th>42</th>\n      <td>1.818891</td>\n      <td>0.178948</td>\n      <td>104.319416</td>\n      <td>2.326520</td>\n      <td>auto</td>\n      <td>19</td>\n      <td>uniform</td>\n      <td>{'model__algorithm': 'auto', 'model__n_neighbo...</td>\n      <td>0.616333</td>\n      <td>0.509407</td>\n      <td>0.618646</td>\n      <td>0.677035</td>\n      <td>0.792526</td>\n      <td>0.642789</td>\n      <td>0.092377</td>\n      <td>1</td>\n    </tr>\n    <tr>\n      <th>41</th>\n      <td>14.306463</td>\n      <td>1.093862</td>\n      <td>3763.444921</td>\n      <td>80.109547</td>\n      <td>kd_tree</td>\n      <td>19</td>\n      <td>uniform</td>\n      <td>{'model__algorithm': 'kd_tree', 'model__n_neig...</td>\n      <td>0.616333</td>\n      <td>0.509407</td>\n      <td>0.618646</td>\n      <td>0.677035</td>\n      <td>0.792526</td>\n      <td>0.642789</td>\n      <td>0.092377</td>\n      <td>1</td>\n    </tr>\n    <tr>\n      <th>43</th>\n      <td>14.295309</td>\n      <td>0.934671</td>\n      <td>3753.423650</td>\n      <td>58.733971</td>\n      <td>kd_tree</td>\n      <td>19</td>\n      <td>uniform</td>\n      <td>{'model__algorithm': 'kd_tree', 'model__n_neig...</td>\n      <td>0.616333</td>\n      <td>0.509407</td>\n      <td>0.618646</td>\n      <td>0.677035</td>\n      <td>0.792526</td>\n      <td>0.642789</td>\n      <td>0.092377</td>\n      <td>1</td>\n    </tr>\n    <tr>\n      <th>44</th>\n      <td>1.800851</td>\n      <td>0.162132</td>\n      <td>103.969656</td>\n      <td>3.110699</td>\n      <td>auto</td>\n      <td>19</td>\n      <td>uniform</td>\n      <td>{'model__algorithm': 'auto', 'model__n_neighbo...</td>\n      <td>0.616333</td>\n      <td>0.509407</td>\n      <td>0.618646</td>\n      <td>0.677035</td>\n      <td>0.792526</td>\n      <td>0.642789</td>\n      <td>0.092377</td>\n      <td>1</td>\n    </tr>\n    <tr>\n      <th>46</th>\n      <td>14.174914</td>\n      <td>1.150560</td>\n      <td>3755.087472</td>\n      <td>70.293988</td>\n      <td>kd_tree</td>\n      <td>19</td>\n      <td>uniform</td>\n      <td>{'model__algorithm': 'kd_tree', 'model__n_neig...</td>\n      <td>0.616333</td>\n      <td>0.509407</td>\n      <td>0.618646</td>\n      <td>0.677035</td>\n      <td>0.792526</td>\n      <td>0.642789</td>\n      <td>0.092377</td>\n      <td>1</td>\n    </tr>\n    <tr>\n      <th>47</th>\n      <td>1.811226</td>\n      <td>0.047670</td>\n      <td>102.300603</td>\n      <td>2.868270</td>\n      <td>auto</td>\n      <td>19</td>\n      <td>uniform</td>\n      <td>{'model__algorithm': 'auto', 'model__n_neighbo...</td>\n      <td>0.616333</td>\n      <td>0.509407</td>\n      <td>0.618646</td>\n      <td>0.677035</td>\n      <td>0.792526</td>\n      <td>0.642789</td>\n      <td>0.092377</td>\n      <td>1</td>\n    </tr>\n    <tr>\n      <th>30</th>\n      <td>13.958093</td>\n      <td>1.397008</td>\n      <td>3687.379374</td>\n      <td>58.935445</td>\n      <td>kd_tree</td>\n      <td>19</td>\n      <td>uniform</td>\n      <td>{'model__algorithm': 'kd_tree', 'model__n_neig...</td>\n      <td>0.616333</td>\n      <td>0.509407</td>\n      <td>0.618646</td>\n      <td>0.677035</td>\n      <td>0.792526</td>\n      <td>0.642789</td>\n      <td>0.092377</td>\n      <td>1</td>\n    </tr>\n    <tr>\n      <th>9</th>\n      <td>1.782238</td>\n      <td>0.053209</td>\n      <td>103.371918</td>\n      <td>2.005358</td>\n      <td>auto</td>\n      <td>17</td>\n      <td>uniform</td>\n      <td>{'model__algorithm': 'auto', 'model__n_neighbo...</td>\n      <td>0.611845</td>\n      <td>0.504074</td>\n      <td>0.609972</td>\n      <td>0.671583</td>\n      <td>0.790920</td>\n      <td>0.637679</td>\n      <td>0.093721</td>\n      <td>17</td>\n    </tr>\n    <tr>\n      <th>16</th>\n      <td>14.230393</td>\n      <td>1.259353</td>\n      <td>3752.186221</td>\n      <td>63.472729</td>\n      <td>kd_tree</td>\n      <td>20</td>\n      <td>uniform</td>\n      <td>{'model__algorithm': 'kd_tree', 'model__n_neig...</td>\n      <td>0.609682</td>\n      <td>0.496633</td>\n      <td>0.612388</td>\n      <td>0.669548</td>\n      <td>0.788411</td>\n      <td>0.635333</td>\n      <td>0.094895</td>\n      <td>18</td>\n    </tr>\n    <tr>\n      <th>17</th>\n      <td>14.219305</td>\n      <td>1.351063</td>\n      <td>3721.638380</td>\n      <td>54.569061</td>\n      <td>kd_tree</td>\n      <td>20</td>\n      <td>uniform</td>\n      <td>{'model__algorithm': 'kd_tree', 'model__n_neig...</td>\n      <td>0.609682</td>\n      <td>0.496633</td>\n      <td>0.612388</td>\n      <td>0.669548</td>\n      <td>0.788411</td>\n      <td>0.635333</td>\n      <td>0.094895</td>\n      <td>18</td>\n    </tr>\n    <tr>\n      <th>13</th>\n      <td>1.842718</td>\n      <td>0.156020</td>\n      <td>99.549855</td>\n      <td>2.675356</td>\n      <td>auto</td>\n      <td>18</td>\n      <td>uniform</td>\n      <td>{'model__algorithm': 'auto', 'model__n_neighbo...</td>\n      <td>0.604911</td>\n      <td>0.488972</td>\n      <td>0.601900</td>\n      <td>0.663330</td>\n      <td>0.785888</td>\n      <td>0.629000</td>\n      <td>0.096659</td>\n      <td>20</td>\n    </tr>\n    <tr>\n      <th>8</th>\n      <td>13.869795</td>\n      <td>0.878132</td>\n      <td>3651.436053</td>\n      <td>74.221413</td>\n      <td>kd_tree</td>\n      <td>15</td>\n      <td>uniform</td>\n      <td>{'model__algorithm': 'kd_tree', 'model__n_neig...</td>\n      <td>0.607823</td>\n      <td>0.490294</td>\n      <td>0.596624</td>\n      <td>0.656744</td>\n      <td>0.790197</td>\n      <td>0.628337</td>\n      <td>0.097456</td>\n      <td>21</td>\n    </tr>\n    <tr>\n      <th>11</th>\n      <td>1.812795</td>\n      <td>0.139382</td>\n      <td>99.640589</td>\n      <td>3.127036</td>\n      <td>brute</td>\n      <td>20</td>\n      <td>distance</td>\n      <td>{'model__algorithm': 'brute', 'model__n_neighb...</td>\n      <td>0.609680</td>\n      <td>0.485862</td>\n      <td>0.589406</td>\n      <td>0.655119</td>\n      <td>0.791023</td>\n      <td>0.626218</td>\n      <td>0.099322</td>\n      <td>22</td>\n    </tr>\n    <tr>\n      <th>7</th>\n      <td>1.813489</td>\n      <td>0.137259</td>\n      <td>103.544663</td>\n      <td>3.025954</td>\n      <td>brute</td>\n      <td>19</td>\n      <td>distance</td>\n      <td>{'model__algorithm': 'brute', 'model__n_neighb...</td>\n      <td>0.606385</td>\n      <td>0.484056</td>\n      <td>0.586383</td>\n      <td>0.653153</td>\n      <td>0.791804</td>\n      <td>0.624356</td>\n      <td>0.100317</td>\n      <td>23</td>\n    </tr>\n    <tr>\n      <th>5</th>\n      <td>1.845054</td>\n      <td>0.181520</td>\n      <td>100.737041</td>\n      <td>2.931996</td>\n      <td>brute</td>\n      <td>19</td>\n      <td>distance</td>\n      <td>{'model__algorithm': 'brute', 'model__n_neighb...</td>\n      <td>0.606385</td>\n      <td>0.484056</td>\n      <td>0.586383</td>\n      <td>0.653153</td>\n      <td>0.791804</td>\n      <td>0.624356</td>\n      <td>0.100317</td>\n      <td>23</td>\n    </tr>\n    <tr>\n      <th>2</th>\n      <td>11.461694</td>\n      <td>1.616361</td>\n      <td>3216.781299</td>\n      <td>61.985352</td>\n      <td>ball_tree</td>\n      <td>19</td>\n      <td>distance</td>\n      <td>{'model__algorithm': 'ball_tree', 'model__n_ne...</td>\n      <td>0.606385</td>\n      <td>0.484056</td>\n      <td>0.586383</td>\n      <td>0.653153</td>\n      <td>0.791804</td>\n      <td>0.624356</td>\n      <td>0.100317</td>\n      <td>23</td>\n    </tr>\n    <tr>\n      <th>34</th>\n      <td>14.302307</td>\n      <td>1.472437</td>\n      <td>3646.562833</td>\n      <td>79.892789</td>\n      <td>kd_tree</td>\n      <td>13</td>\n      <td>uniform</td>\n      <td>{'model__algorithm': 'kd_tree', 'model__n_neig...</td>\n      <td>0.602333</td>\n      <td>0.479902</td>\n      <td>0.583770</td>\n      <td>0.645856</td>\n      <td>0.787865</td>\n      <td>0.619945</td>\n      <td>0.100099</td>\n      <td>26</td>\n    </tr>\n    <tr>\n      <th>0</th>\n      <td>11.492615</td>\n      <td>1.344725</td>\n      <td>3228.804890</td>\n      <td>54.172663</td>\n      <td>ball_tree</td>\n      <td>16</td>\n      <td>uniform</td>\n      <td>{'model__algorithm': 'ball_tree', 'model__n_ne...</td>\n      <td>0.599859</td>\n      <td>0.476396</td>\n      <td>0.589047</td>\n      <td>0.648388</td>\n      <td>0.784058</td>\n      <td>0.619549</td>\n      <td>0.099705</td>\n      <td>27</td>\n    </tr>\n    <tr>\n      <th>1</th>\n      <td>14.150175</td>\n      <td>0.840913</td>\n      <td>3736.080605</td>\n      <td>65.062142</td>\n      <td>kd_tree</td>\n      <td>18</td>\n      <td>distance</td>\n      <td>{'model__algorithm': 'kd_tree', 'model__n_neig...</td>\n      <td>0.605707</td>\n      <td>0.477385</td>\n      <td>0.577642</td>\n      <td>0.645910</td>\n      <td>0.790100</td>\n      <td>0.619349</td>\n      <td>0.101922</td>\n      <td>28</td>\n    </tr>\n    <tr>\n      <th>12</th>\n      <td>14.446822</td>\n      <td>1.419192</td>\n      <td>3712.440244</td>\n      <td>66.693273</td>\n      <td>kd_tree</td>\n      <td>17</td>\n      <td>distance</td>\n      <td>{'model__algorithm': 'kd_tree', 'model__n_neig...</td>\n      <td>0.604347</td>\n      <td>0.474180</td>\n      <td>0.573264</td>\n      <td>0.643739</td>\n      <td>0.790253</td>\n      <td>0.617157</td>\n      <td>0.103152</td>\n      <td>29</td>\n    </tr>\n    <tr>\n      <th>6</th>\n      <td>1.814672</td>\n      <td>0.145173</td>\n      <td>98.788106</td>\n      <td>2.925725</td>\n      <td>brute</td>\n      <td>16</td>\n      <td>distance</td>\n      <td>{'model__algorithm': 'brute', 'model__n_neighb...</td>\n      <td>0.603068</td>\n      <td>0.469801</td>\n      <td>0.563847</td>\n      <td>0.635355</td>\n      <td>0.788827</td>\n      <td>0.612180</td>\n      <td>0.104338</td>\n      <td>30</td>\n    </tr>\n    <tr>\n      <th>10</th>\n      <td>1.783206</td>\n      <td>0.071534</td>\n      <td>102.994628</td>\n      <td>2.833292</td>\n      <td>auto</td>\n      <td>14</td>\n      <td>uniform</td>\n      <td>{'model__algorithm': 'auto', 'model__n_neighbo...</td>\n      <td>0.593171</td>\n      <td>0.464998</td>\n      <td>0.575001</td>\n      <td>0.635876</td>\n      <td>0.782520</td>\n      <td>0.610313</td>\n      <td>0.102923</td>\n      <td>31</td>\n    </tr>\n    <tr>\n      <th>19</th>\n      <td>1.816370</td>\n      <td>0.139564</td>\n      <td>102.354986</td>\n      <td>3.105385</td>\n      <td>auto</td>\n      <td>15</td>\n      <td>distance</td>\n      <td>{'model__algorithm': 'auto', 'model__n_neighbo...</td>\n      <td>0.600332</td>\n      <td>0.466570</td>\n      <td>0.560126</td>\n      <td>0.633723</td>\n      <td>0.789493</td>\n      <td>0.610049</td>\n      <td>0.105767</td>\n      <td>32</td>\n    </tr>\n    <tr>\n      <th>4</th>\n      <td>1.764788</td>\n      <td>0.146153</td>\n      <td>103.951367</td>\n      <td>2.653526</td>\n      <td>brute</td>\n      <td>11</td>\n      <td>uniform</td>\n      <td>{'model__algorithm': 'brute', 'model__n_neighb...</td>\n      <td>0.598843</td>\n      <td>0.467158</td>\n      <td>0.564928</td>\n      <td>0.632506</td>\n      <td>0.785982</td>\n      <td>0.609883</td>\n      <td>0.103958</td>\n      <td>33</td>\n    </tr>\n    <tr>\n      <th>28</th>\n      <td>14.117047</td>\n      <td>1.205675</td>\n      <td>3694.903660</td>\n      <td>68.258087</td>\n      <td>kd_tree</td>\n      <td>14</td>\n      <td>distance</td>\n      <td>{'model__algorithm': 'kd_tree', 'model__n_neig...</td>\n      <td>0.597876</td>\n      <td>0.458842</td>\n      <td>0.550065</td>\n      <td>0.622713</td>\n      <td>0.786797</td>\n      <td>0.603259</td>\n      <td>0.107498</td>\n      <td>34</td>\n    </tr>\n    <tr>\n      <th>26</th>\n      <td>14.287930</td>\n      <td>1.298458</td>\n      <td>3669.608126</td>\n      <td>81.206642</td>\n      <td>kd_tree</td>\n      <td>13</td>\n      <td>distance</td>\n      <td>{'model__algorithm': 'kd_tree', 'model__n_neig...</td>\n      <td>0.593788</td>\n      <td>0.454251</td>\n      <td>0.546962</td>\n      <td>0.619302</td>\n      <td>0.787143</td>\n      <td>0.600289</td>\n      <td>0.109077</td>\n      <td>35</td>\n    </tr>\n    <tr>\n      <th>23</th>\n      <td>1.846018</td>\n      <td>0.145629</td>\n      <td>103.280411</td>\n      <td>2.256956</td>\n      <td>auto</td>\n      <td>12</td>\n      <td>uniform</td>\n      <td>{'model__algorithm': 'auto', 'model__n_neighbo...</td>\n      <td>0.586396</td>\n      <td>0.449684</td>\n      <td>0.555653</td>\n      <td>0.620522</td>\n      <td>0.778839</td>\n      <td>0.598219</td>\n      <td>0.106897</td>\n      <td>36</td>\n    </tr>\n    <tr>\n      <th>45</th>\n      <td>14.345019</td>\n      <td>1.068271</td>\n      <td>3595.033449</td>\n      <td>106.377286</td>\n      <td>kd_tree</td>\n      <td>9</td>\n      <td>uniform</td>\n      <td>{'model__algorithm': 'kd_tree', 'model__n_neig...</td>\n      <td>0.594812</td>\n      <td>0.446520</td>\n      <td>0.536994</td>\n      <td>0.613378</td>\n      <td>0.780335</td>\n      <td>0.594408</td>\n      <td>0.109632</td>\n      <td>37</td>\n    </tr>\n    <tr>\n      <th>18</th>\n      <td>14.302728</td>\n      <td>1.396304</td>\n      <td>3656.589431</td>\n      <td>82.433230</td>\n      <td>kd_tree</td>\n      <td>12</td>\n      <td>distance</td>\n      <td>{'model__algorithm': 'kd_tree', 'model__n_neig...</td>\n      <td>0.593605</td>\n      <td>0.443002</td>\n      <td>0.531795</td>\n      <td>0.607558</td>\n      <td>0.785310</td>\n      <td>0.592254</td>\n      <td>0.112640</td>\n      <td>38</td>\n    </tr>\n    <tr>\n      <th>25</th>\n      <td>1.684549</td>\n      <td>0.146992</td>\n      <td>102.462734</td>\n      <td>1.885456</td>\n      <td>auto</td>\n      <td>11</td>\n      <td>distance</td>\n      <td>{'model__algorithm': 'auto', 'model__n_neighbo...</td>\n      <td>0.591228</td>\n      <td>0.437391</td>\n      <td>0.527126</td>\n      <td>0.603224</td>\n      <td>0.785408</td>\n      <td>0.588876</td>\n      <td>0.114540</td>\n      <td>39</td>\n    </tr>\n    <tr>\n      <th>22</th>\n      <td>14.227297</td>\n      <td>1.316684</td>\n      <td>3608.156000</td>\n      <td>79.170523</td>\n      <td>kd_tree</td>\n      <td>10</td>\n      <td>uniform</td>\n      <td>{'model__algorithm': 'kd_tree', 'model__n_neig...</td>\n      <td>0.582630</td>\n      <td>0.426219</td>\n      <td>0.527703</td>\n      <td>0.599191</td>\n      <td>0.770818</td>\n      <td>0.581312</td>\n      <td>0.112394</td>\n      <td>40</td>\n    </tr>\n    <tr>\n      <th>36</th>\n      <td>13.991987</td>\n      <td>0.699625</td>\n      <td>3618.451149</td>\n      <td>96.384387</td>\n      <td>kd_tree</td>\n      <td>10</td>\n      <td>distance</td>\n      <td>{'model__algorithm': 'kd_tree', 'model__n_neig...</td>\n      <td>0.589548</td>\n      <td>0.425301</td>\n      <td>0.511581</td>\n      <td>0.589176</td>\n      <td>0.779935</td>\n      <td>0.579108</td>\n      <td>0.117268</td>\n      <td>41</td>\n    </tr>\n    <tr>\n      <th>15</th>\n      <td>1.816430</td>\n      <td>0.163455</td>\n      <td>102.486250</td>\n      <td>2.354157</td>\n      <td>auto</td>\n      <td>9</td>\n      <td>distance</td>\n      <td>{'model__algorithm': 'auto', 'model__n_neighbo...</td>\n      <td>0.585751</td>\n      <td>0.416127</td>\n      <td>0.506548</td>\n      <td>0.582197</td>\n      <td>0.779486</td>\n      <td>0.574022</td>\n      <td>0.119920</td>\n      <td>42</td>\n    </tr>\n    <tr>\n      <th>3</th>\n      <td>1.830992</td>\n      <td>0.103546</td>\n      <td>103.841131</td>\n      <td>2.972111</td>\n      <td>brute</td>\n      <td>7</td>\n      <td>uniform</td>\n      <td>{'model__algorithm': 'brute', 'model__n_neighb...</td>\n      <td>0.584140</td>\n      <td>0.409955</td>\n      <td>0.507998</td>\n      <td>0.581718</td>\n      <td>0.773665</td>\n      <td>0.571495</td>\n      <td>0.119385</td>\n      <td>43</td>\n    </tr>\n    <tr>\n      <th>32</th>\n      <td>1.767159</td>\n      <td>0.055459</td>\n      <td>103.519351</td>\n      <td>2.768840</td>\n      <td>auto</td>\n      <td>8</td>\n      <td>distance</td>\n      <td>{'model__algorithm': 'auto', 'model__n_neighbo...</td>\n      <td>0.581864</td>\n      <td>0.396113</td>\n      <td>0.490125</td>\n      <td>0.559411</td>\n      <td>0.773722</td>\n      <td>0.560247</td>\n      <td>0.124817</td>\n      <td>44</td>\n    </tr>\n    <tr>\n      <th>27</th>\n      <td>14.242055</td>\n      <td>1.501146</td>\n      <td>3569.998473</td>\n      <td>102.171962</td>\n      <td>kd_tree</td>\n      <td>8</td>\n      <td>uniform</td>\n      <td>{'model__algorithm': 'kd_tree', 'model__n_neig...</td>\n      <td>0.570206</td>\n      <td>0.389744</td>\n      <td>0.495964</td>\n      <td>0.565639</td>\n      <td>0.762601</td>\n      <td>0.556831</td>\n      <td>0.121836</td>\n      <td>45</td>\n    </tr>\n    <tr>\n      <th>38</th>\n      <td>1.768144</td>\n      <td>0.052040</td>\n      <td>103.810248</td>\n      <td>2.765241</td>\n      <td>auto</td>\n      <td>7</td>\n      <td>distance</td>\n      <td>{'model__algorithm': 'auto', 'model__n_neighbo...</td>\n      <td>0.577250</td>\n      <td>0.386213</td>\n      <td>0.486033</td>\n      <td>0.555629</td>\n      <td>0.772725</td>\n      <td>0.555570</td>\n      <td>0.127392</td>\n      <td>46</td>\n    </tr>\n    <tr>\n      <th>29</th>\n      <td>14.239766</td>\n      <td>1.170573</td>\n      <td>3464.224122</td>\n      <td>135.101857</td>\n      <td>kd_tree</td>\n      <td>5</td>\n      <td>uniform</td>\n      <td>{'model__algorithm': 'kd_tree', 'model__n_neig...</td>\n      <td>0.569493</td>\n      <td>0.372177</td>\n      <td>0.479046</td>\n      <td>0.552236</td>\n      <td>0.764827</td>\n      <td>0.547556</td>\n      <td>0.128966</td>\n      <td>47</td>\n    </tr>\n    <tr>\n      <th>24</th>\n      <td>14.410035</td>\n      <td>1.124410</td>\n      <td>3518.906880</td>\n      <td>113.678860</td>\n      <td>kd_tree</td>\n      <td>6</td>\n      <td>distance</td>\n      <td>{'model__algorithm': 'kd_tree', 'model__n_neig...</td>\n      <td>0.568275</td>\n      <td>0.360343</td>\n      <td>0.462038</td>\n      <td>0.539477</td>\n      <td>0.764678</td>\n      <td>0.538962</td>\n      <td>0.133887</td>\n      <td>48</td>\n    </tr>\n    <tr>\n      <th>37</th>\n      <td>1.839953</td>\n      <td>0.060127</td>\n      <td>103.409545</td>\n      <td>2.729209</td>\n      <td>auto</td>\n      <td>6</td>\n      <td>uniform</td>\n      <td>{'model__algorithm': 'auto', 'model__n_neighbo...</td>\n      <td>0.547991</td>\n      <td>0.351002</td>\n      <td>0.463765</td>\n      <td>0.534225</td>\n      <td>0.749602</td>\n      <td>0.529317</td>\n      <td>0.130377</td>\n      <td>49</td>\n    </tr>\n    <tr>\n      <th>14</th>\n      <td>1.779191</td>\n      <td>0.060088</td>\n      <td>103.252801</td>\n      <td>2.750959</td>\n      <td>auto</td>\n      <td>4</td>\n      <td>distance</td>\n      <td>{'model__algorithm': 'auto', 'model__n_neighbo...</td>\n      <td>0.534100</td>\n      <td>0.322999</td>\n      <td>0.417491</td>\n      <td>0.507491</td>\n      <td>0.758697</td>\n      <td>0.508156</td>\n      <td>0.145566</td>\n      <td>50</td>\n    </tr>\n  </tbody>\n</table>\n</div>"
     },
     "execution_count": 106,
     "metadata": {},
     "output_type": "execute_result"
    }
   ],
   "source": [
    "knnc_grid_search_dataframe = pd.DataFrame(\n",
    "    np.load(\"Dataset_Files/Classification_Models/optimised_knnc_cv_results.npy\", allow_pickle=True).tolist())\n",
    "knnc_grid_search_dataframe.sort_values(by=[\"rank_test_score\"], inplace=True)\n",
    "knnc_grid_search_dataframe"
   ],
   "metadata": {
    "collapsed": false,
    "pycharm": {
     "name": "#%%\n"
    }
   }
  },
  {
   "cell_type": "markdown",
   "source": [
    "### Testing"
   ],
   "metadata": {
    "collapsed": false,
    "pycharm": {
     "name": "#%% md\n"
    }
   }
  },
  {
   "cell_type": "code",
   "execution_count": 107,
   "outputs": [
    {
     "name": "stdout",
     "output_type": "stream",
     "text": [
      "F1 score: 0.9319247246708386\n",
      "Matthews Correlation Coefficient: 0.7396520734806343\n",
      "Accuracy score: 0.8993065923492917\n",
      "Recall score: 0.944229807736012\n",
      "Precision score: 0.9199362323974847\n"
     ]
    }
   ],
   "source": [
    "if os.path.exists(\"Dataset_Files/Classification_Models/optimised_knnc_y_test_pred.npy\"):\n",
    "    y_test_pred = np.load(\"Dataset_Files/Classification_Models/optimised_knnc_y_test_pred.npy\")\n",
    "else:\n",
    "    y_test_pred = optimised_knnc.predict(X_test_classification)\n",
    "    np.save(\"Dataset_Files/Classification_Models/optimised_knnc_y_test_pred.npy\", y_test_pred)\n",
    "\n",
    "calculate_metrics_classification(y_test_classification, y_test_pred)"
   ],
   "metadata": {
    "collapsed": false,
    "pycharm": {
     "name": "#%%\n"
    }
   }
  },
  {
   "cell_type": "markdown",
   "source": [
    "## Decision Tree Classifier (DTC)"
   ],
   "metadata": {
    "collapsed": false,
    "pycharm": {
     "name": "#%% md\n"
    }
   }
  },
  {
   "cell_type": "code",
   "execution_count": 108,
   "outputs": [
    {
     "data": {
      "text/plain": "{'memory': None,\n 'steps': [('scale', StandardScaler()),\n  ('model', DecisionTreeClassifier(random_state=42))],\n 'verbose': False,\n 'scale': StandardScaler(),\n 'model': DecisionTreeClassifier(random_state=42),\n 'scale__copy': True,\n 'scale__with_mean': True,\n 'scale__with_std': True,\n 'model__ccp_alpha': 0.0,\n 'model__class_weight': None,\n 'model__criterion': 'gini',\n 'model__max_depth': None,\n 'model__max_features': None,\n 'model__max_leaf_nodes': None,\n 'model__min_impurity_decrease': 0.0,\n 'model__min_samples_leaf': 1,\n 'model__min_samples_split': 2,\n 'model__min_weight_fraction_leaf': 0.0,\n 'model__random_state': 42,\n 'model__splitter': 'best'}"
     },
     "execution_count": 108,
     "metadata": {},
     "output_type": "execute_result"
    }
   ],
   "source": [
    "pipe = Pipeline(\n",
    "    [\n",
    "        ('scale', StandardScaler()),\n",
    "        ('model', DecisionTreeClassifier(random_state=42))\n",
    "    ]\n",
    ")\n",
    "pipe.get_params()"
   ],
   "metadata": {
    "collapsed": false,
    "pycharm": {
     "name": "#%%\n"
    }
   }
  },
  {
   "cell_type": "code",
   "execution_count": 109,
   "outputs": [],
   "source": [
    "model = BayesSearchCV(estimator=pipe,\n",
    "                      search_spaces=\n",
    "                      {'model__criterion': Categorical(['gini', 'entropy']),\n",
    "                       'model__splitter': Categorical(['best', 'random']),\n",
    "                       'model__max_features': Categorical([None, 'sqrt', 'log2']),\n",
    "                       'model__class_weight': Categorical([None, 'balanced'])\n",
    "                       },\n",
    "                      scoring='f1',\n",
    "                      cv=5,\n",
    "                      error_score=np.nan,\n",
    "                      n_jobs=-1,\n",
    "                      pre_dispatch='2*n_jobs',\n",
    "                      random_state=42)"
   ],
   "metadata": {
    "collapsed": false,
    "pycharm": {
     "name": "#%%\n"
    }
   }
  },
  {
   "cell_type": "markdown",
   "source": [
    "### Training"
   ],
   "metadata": {
    "collapsed": false,
    "pycharm": {
     "name": "#%% md\n"
    }
   }
  },
  {
   "cell_type": "code",
   "execution_count": 110,
   "outputs": [],
   "source": [
    "# index = 1\n",
    "# model.fit(X_train, y_train, callback=on_step)\n",
    "#\n",
    "# optimised_dtc = model.best_estimator_\n",
    "#\n",
    "# y_train_pred = optimised_dtc.predict(X_train)\n",
    "# calculate_metrics_classification(y_train, y_train_pred)\n",
    "#\n",
    "# # Save Model & CV Results\n",
    "# dump(optimised_dtc, 'Dataset_Files/Classification_Models/optimised_dtc.joblib')\n",
    "# np.save(\"Dataset_Files/Classification_Models/optimised_dtc_cv_results.npy\", model.cv_results_)"
   ],
   "metadata": {
    "collapsed": false,
    "pycharm": {
     "name": "#%%\n"
    }
   }
  },
  {
   "cell_type": "code",
   "execution_count": 111,
   "outputs": [],
   "source": [
    "# Load Model\n",
    "optimised_dtc = load('Dataset_Files/Classification_Models/optimised_dtc.joblib')"
   ],
   "metadata": {
    "collapsed": false,
    "pycharm": {
     "name": "#%%\n"
    }
   }
  },
  {
   "cell_type": "code",
   "execution_count": 112,
   "outputs": [
    {
     "name": "stdout",
     "output_type": "stream",
     "text": [
      "F1 score: 0.9999949373497026\n",
      "Matthews Correlation Coefficient: 0.9999810376365187\n",
      "Accuracy score: 0.9999925779684415\n",
      "Recall score: 0.9999898747506657\n",
      "Precision score: 1.0\n"
     ]
    }
   ],
   "source": [
    "y_train_pred = optimised_dtc.predict(X_train)\n",
    "calculate_metrics_classification(y_train, y_train_pred)"
   ],
   "metadata": {
    "collapsed": false,
    "pycharm": {
     "name": "#%%\n"
    }
   }
  },
  {
   "cell_type": "code",
   "execution_count": 113,
   "outputs": [
    {
     "data": {
      "text/plain": "{'memory': None,\n 'steps': [('scale', StandardScaler()),\n  ('model',\n   DecisionTreeClassifier(criterion='entropy', max_features='log2',\n                          random_state=42, splitter='random'))],\n 'verbose': False,\n 'scale': StandardScaler(),\n 'model': DecisionTreeClassifier(criterion='entropy', max_features='log2',\n                        random_state=42, splitter='random'),\n 'scale__copy': True,\n 'scale__with_mean': True,\n 'scale__with_std': True,\n 'model__ccp_alpha': 0.0,\n 'model__class_weight': None,\n 'model__criterion': 'entropy',\n 'model__max_depth': None,\n 'model__max_features': 'log2',\n 'model__max_leaf_nodes': None,\n 'model__min_impurity_decrease': 0.0,\n 'model__min_samples_leaf': 1,\n 'model__min_samples_split': 2,\n 'model__min_weight_fraction_leaf': 0.0,\n 'model__random_state': 42,\n 'model__splitter': 'random'}"
     },
     "execution_count": 113,
     "metadata": {},
     "output_type": "execute_result"
    }
   ],
   "source": [
    "optimised_dtc.get_params()"
   ],
   "metadata": {
    "collapsed": false,
    "pycharm": {
     "name": "#%%\n"
    }
   }
  },
  {
   "cell_type": "code",
   "execution_count": 114,
   "outputs": [
    {
     "data": {
      "text/plain": "    mean_fit_time  std_fit_time  mean_score_time  std_score_time  \\\n49       1.962907      0.027542         0.125217        0.004432   \n29       1.970825      0.101165         0.108212        0.005262   \n32       2.004859      0.097391         0.109537        0.005384   \n27       1.951181      0.061655         0.112754        0.007601   \n33       1.962594      0.060569         0.111840        0.006574   \n34       1.991534      0.099330         0.107633        0.005263   \n48       1.968533      0.065223         0.107409        0.003843   \n23       1.952895      0.110128         0.107195        0.005618   \n35       1.959555      0.079155         0.106977        0.006517   \n36       1.980895      0.089248         0.108180        0.002840   \n19       1.957150      0.100456         0.107685        0.004826   \n37       1.958696      0.065690         0.111068        0.005039   \n38       1.979734      0.101258         0.108615        0.002746   \n16       1.970621      0.081201         0.109789        0.007874   \n30       1.938794      0.112745         0.105952        0.004439   \n39       1.962883      0.079714         0.107889        0.004034   \n13       1.994907      0.096426         0.107008        0.003427   \n40       1.958054      0.098806         0.105435        0.003987   \n41       1.980248      0.093649         0.108138        0.006390   \n42       1.976135      0.063238         0.109187        0.006838   \n43       1.948182      0.092001         0.106417        0.003536   \n44       1.973704      0.105006         0.106641        0.003981   \n45       1.955567      0.094565         0.107183        0.004728   \n46       1.939752      0.081932         0.108016        0.004841   \n47       1.958396      0.067662         0.109023        0.004645   \n31       1.977939      0.057453         0.109187        0.003562   \n11       1.965158      0.101631         0.107167        0.005087   \n4        2.295109      0.095115         0.107455        0.003841   \n3        2.288378      0.101195         0.106746        0.004953   \n10       2.282531      0.119547         0.103371        0.002696   \n20       1.971083      0.076358         0.107129        0.003886   \n14       1.993735      0.103340         0.108694        0.006552   \n24       2.284555      0.068756         0.105548        0.005187   \n1        2.271139      0.108069         0.100664        0.003632   \n7        2.297010      0.107825         0.102210        0.001920   \n6        2.235590      0.076924         0.103689        0.005821   \n26      19.788040      1.663488         0.098589        0.003560   \n12      14.398538      0.686880         0.096694        0.002435   \n21      15.032422      0.843449         0.095562        0.003625   \n17      28.506263      3.758931         0.100126        0.004136   \n5       55.766035      8.423692         0.095556        0.001751   \n15      33.671793      0.641665         0.098117        0.002125   \n28      36.316064      2.132752         0.095526        0.003236   \n2       83.505183      8.126882         0.100278        0.006887   \n18       2.688566      0.120304         0.101286        0.001647   \n25       2.930778      0.152839         0.099705        0.002622   \n9        3.319754      0.209657         0.099168        0.004189   \n8        2.099065      0.081623         0.101873        0.003493   \n22       2.112915      0.107157         0.102402        0.005184   \n0        2.151113      0.041985         0.110634        0.002044   \n\n   param_model__class_weight param_model__criterion param_model__max_features  \\\n49                      None                entropy                      log2   \n29                      None                entropy                      log2   \n32                      None                entropy                      log2   \n27                      None                entropy                      log2   \n33                      None                entropy                      log2   \n34                      None                entropy                      log2   \n48                      None                entropy                      log2   \n23                      None                entropy                      log2   \n35                      None                entropy                      log2   \n36                      None                entropy                      log2   \n19                      None                entropy                      log2   \n37                      None                entropy                      log2   \n38                      None                entropy                      log2   \n16                      None                entropy                      log2   \n30                      None                entropy                      log2   \n39                      None                entropy                      log2   \n13                      None                entropy                      log2   \n40                      None                entropy                      log2   \n41                      None                entropy                      log2   \n42                      None                entropy                      log2   \n43                      None                entropy                      log2   \n44                      None                entropy                      log2   \n45                      None                entropy                      log2   \n46                      None                entropy                      log2   \n47                      None                entropy                      log2   \n31                      None                entropy                      log2   \n11                  balanced                entropy                      log2   \n4                   balanced                entropy                      sqrt   \n3                   balanced                entropy                      sqrt   \n10                      None                entropy                      sqrt   \n20                  balanced                   gini                      log2   \n14                      None                   gini                      log2   \n24                      None                   gini                      sqrt   \n1                   balanced                   gini                      sqrt   \n7                   balanced                   gini                      sqrt   \n6                   balanced                   gini                      sqrt   \n26                  balanced                   gini                      None   \n12                  balanced                entropy                      None   \n21                      None                entropy                      None   \n17                      None                   gini                      None   \n5                   balanced                   gini                      None   \n15                  balanced                entropy                      None   \n28                      None                entropy                      None   \n2                       None                   gini                      None   \n18                  balanced                entropy                      sqrt   \n25                  balanced                   gini                      sqrt   \n9                       None                   gini                      sqrt   \n8                   balanced                   gini                      log2   \n22                      None                entropy                      log2   \n0                       None                   gini                      log2   \n\n   param_model__splitter                                             params  \\\n49                random  {'model__class_weight': None, 'model__criterio...   \n29                random  {'model__class_weight': None, 'model__criterio...   \n32                random  {'model__class_weight': None, 'model__criterio...   \n27                random  {'model__class_weight': None, 'model__criterio...   \n33                random  {'model__class_weight': None, 'model__criterio...   \n34                random  {'model__class_weight': None, 'model__criterio...   \n48                random  {'model__class_weight': None, 'model__criterio...   \n23                random  {'model__class_weight': None, 'model__criterio...   \n35                random  {'model__class_weight': None, 'model__criterio...   \n36                random  {'model__class_weight': None, 'model__criterio...   \n19                random  {'model__class_weight': None, 'model__criterio...   \n37                random  {'model__class_weight': None, 'model__criterio...   \n38                random  {'model__class_weight': None, 'model__criterio...   \n16                random  {'model__class_weight': None, 'model__criterio...   \n30                random  {'model__class_weight': None, 'model__criterio...   \n39                random  {'model__class_weight': None, 'model__criterio...   \n13                random  {'model__class_weight': None, 'model__criterio...   \n40                random  {'model__class_weight': None, 'model__criterio...   \n41                random  {'model__class_weight': None, 'model__criterio...   \n42                random  {'model__class_weight': None, 'model__criterio...   \n43                random  {'model__class_weight': None, 'model__criterio...   \n44                random  {'model__class_weight': None, 'model__criterio...   \n45                random  {'model__class_weight': None, 'model__criterio...   \n46                random  {'model__class_weight': None, 'model__criterio...   \n47                random  {'model__class_weight': None, 'model__criterio...   \n31                random  {'model__class_weight': None, 'model__criterio...   \n11                random  {'model__class_weight': 'balanced', 'model__cr...   \n4                 random  {'model__class_weight': 'balanced', 'model__cr...   \n3                 random  {'model__class_weight': 'balanced', 'model__cr...   \n10                random  {'model__class_weight': None, 'model__criterio...   \n20                random  {'model__class_weight': 'balanced', 'model__cr...   \n14                random  {'model__class_weight': None, 'model__criterio...   \n24                random  {'model__class_weight': None, 'model__criterio...   \n1                 random  {'model__class_weight': 'balanced', 'model__cr...   \n7                 random  {'model__class_weight': 'balanced', 'model__cr...   \n6                 random  {'model__class_weight': 'balanced', 'model__cr...   \n26                random  {'model__class_weight': 'balanced', 'model__cr...   \n12                random  {'model__class_weight': 'balanced', 'model__cr...   \n21                random  {'model__class_weight': None, 'model__criterio...   \n17                random  {'model__class_weight': None, 'model__criterio...   \n5                   best  {'model__class_weight': 'balanced', 'model__cr...   \n15                  best  {'model__class_weight': 'balanced', 'model__cr...   \n28                  best  {'model__class_weight': None, 'model__criterio...   \n2                   best  {'model__class_weight': None, 'model__criterio...   \n18                  best  {'model__class_weight': 'balanced', 'model__cr...   \n25                  best  {'model__class_weight': 'balanced', 'model__cr...   \n9                   best  {'model__class_weight': None, 'model__criterio...   \n8                   best  {'model__class_weight': 'balanced', 'model__cr...   \n22                  best  {'model__class_weight': None, 'model__criterio...   \n0                   best  {'model__class_weight': None, 'model__criterio...   \n\n    split0_test_score  split1_test_score  split2_test_score  \\\n49           0.570013           0.615882           0.531489   \n29           0.570013           0.615882           0.531489   \n32           0.570013           0.615882           0.531489   \n27           0.570013           0.615882           0.531489   \n33           0.570013           0.615882           0.531489   \n34           0.570013           0.615882           0.531489   \n48           0.570013           0.615882           0.531489   \n23           0.570013           0.615882           0.531489   \n35           0.570013           0.615882           0.531489   \n36           0.570013           0.615882           0.531489   \n19           0.570013           0.615882           0.531489   \n37           0.570013           0.615882           0.531489   \n38           0.570013           0.615882           0.531489   \n16           0.570013           0.615882           0.531489   \n30           0.570013           0.615882           0.531489   \n39           0.570013           0.615882           0.531489   \n13           0.570013           0.615882           0.531489   \n40           0.570013           0.615882           0.531489   \n41           0.570013           0.615882           0.531489   \n42           0.570013           0.615882           0.531489   \n43           0.570013           0.615882           0.531489   \n44           0.570013           0.615882           0.531489   \n45           0.570013           0.615882           0.531489   \n46           0.570013           0.615882           0.531489   \n47           0.570013           0.615882           0.531489   \n31           0.570013           0.615882           0.531489   \n11           0.649844           0.493372           0.548092   \n4            0.605404           0.423562           0.568090   \n3            0.605404           0.423562           0.568090   \n10           0.594467           0.423065           0.591581   \n20           0.609902           0.473608           0.480957   \n14           0.576779           0.483367           0.508926   \n24           0.520758           0.493382           0.516404   \n1            0.526253           0.411991           0.528280   \n7            0.526253           0.411991           0.528280   \n6            0.526253           0.411991           0.528280   \n26           0.522375           0.357573           0.496318   \n12           0.470040           0.350154           0.487366   \n21           0.484880           0.389581           0.456675   \n17           0.496733           0.463051           0.374939   \n5            0.491453           0.352835           0.437139   \n15           0.496841           0.320606           0.409619   \n28           0.469557           0.305681           0.393417   \n2            0.483756           0.244391           0.387797   \n18           0.460532           0.263985           0.349664   \n25           0.447495           0.243137           0.382657   \n9            0.424130           0.237196           0.405706   \n8            0.426732           0.235310           0.328169   \n22           0.433667           0.196714           0.302856   \n0            0.419516           0.201187           0.332947   \n\n    split3_test_score  split4_test_score  mean_test_score  std_test_score  \\\n49           0.615077           0.750259         0.616544        0.073867   \n29           0.615077           0.750259         0.616544        0.073867   \n32           0.615077           0.750259         0.616544        0.073867   \n27           0.615077           0.750259         0.616544        0.073867   \n33           0.615077           0.750259         0.616544        0.073867   \n34           0.615077           0.750259         0.616544        0.073867   \n48           0.615077           0.750259         0.616544        0.073867   \n23           0.615077           0.750259         0.616544        0.073867   \n35           0.615077           0.750259         0.616544        0.073867   \n36           0.615077           0.750259         0.616544        0.073867   \n19           0.615077           0.750259         0.616544        0.073867   \n37           0.615077           0.750259         0.616544        0.073867   \n38           0.615077           0.750259         0.616544        0.073867   \n16           0.615077           0.750259         0.616544        0.073867   \n30           0.615077           0.750259         0.616544        0.073867   \n39           0.615077           0.750259         0.616544        0.073867   \n13           0.615077           0.750259         0.616544        0.073867   \n40           0.615077           0.750259         0.616544        0.073867   \n41           0.615077           0.750259         0.616544        0.073867   \n42           0.615077           0.750259         0.616544        0.073867   \n43           0.615077           0.750259         0.616544        0.073867   \n44           0.615077           0.750259         0.616544        0.073867   \n45           0.615077           0.750259         0.616544        0.073867   \n46           0.615077           0.750259         0.616544        0.073867   \n47           0.615077           0.750259         0.616544        0.073867   \n31           0.615077           0.750259         0.616544        0.073867   \n11           0.591511           0.757075         0.607979        0.090526   \n4            0.605385           0.749520         0.590392        0.104021   \n3            0.605385           0.749520         0.590392        0.104021   \n10           0.593140           0.731695         0.586790        0.097904   \n20           0.625528           0.724406         0.582880        0.094771   \n14           0.599928           0.717171         0.577234        0.081945   \n24           0.549524           0.741554         0.564325        0.090395   \n1            0.578117           0.729421         0.554812        0.102907   \n7            0.578117           0.729421         0.554812        0.102907   \n6            0.578117           0.729421         0.554812        0.102907   \n26           0.523620           0.750109         0.529999        0.126026   \n12           0.509828           0.762781         0.516034        0.135186   \n21           0.490318           0.756549         0.515601        0.125692   \n17           0.492208           0.723938         0.510174        0.115505   \n5            0.504825           0.739645         0.505179        0.128842   \n15           0.519669           0.741087         0.497564        0.140600   \n28           0.457569           0.748143         0.474873        0.148503   \n2            0.493083           0.740242         0.469854        0.162117   \n18           0.479719           0.744189         0.459618        0.162325   \n25           0.454495           0.739285         0.453414        0.161853   \n9            0.437570           0.732460         0.447412        0.159888   \n8            0.400084           0.721069         0.422273        0.163464   \n22           0.425701           0.730311         0.417850        0.178924   \n0            0.406210           0.715399         0.415052        0.168989   \n\n    rank_test_score  \n49                1  \n29                1  \n32                1  \n27                1  \n33                1  \n34                1  \n48                1  \n23                1  \n35                1  \n36                1  \n19                1  \n37                1  \n38                1  \n16                1  \n30                1  \n39                1  \n13                1  \n40                1  \n41                1  \n42                1  \n43                1  \n44                1  \n45                1  \n46                1  \n47                1  \n31                1  \n11               27  \n4                28  \n3                28  \n10               30  \n20               31  \n14               32  \n24               33  \n1                34  \n7                34  \n6                34  \n26               37  \n12               38  \n21               39  \n17               40  \n5                41  \n15               42  \n28               43  \n2                44  \n18               45  \n25               46  \n9                47  \n8                48  \n22               49  \n0                50  ",
      "text/html": "<div>\n<style scoped>\n    .dataframe tbody tr th:only-of-type {\n        vertical-align: middle;\n    }\n\n    .dataframe tbody tr th {\n        vertical-align: top;\n    }\n\n    .dataframe thead th {\n        text-align: right;\n    }\n</style>\n<table border=\"1\" class=\"dataframe\">\n  <thead>\n    <tr style=\"text-align: right;\">\n      <th></th>\n      <th>mean_fit_time</th>\n      <th>std_fit_time</th>\n      <th>mean_score_time</th>\n      <th>std_score_time</th>\n      <th>param_model__class_weight</th>\n      <th>param_model__criterion</th>\n      <th>param_model__max_features</th>\n      <th>param_model__splitter</th>\n      <th>params</th>\n      <th>split0_test_score</th>\n      <th>split1_test_score</th>\n      <th>split2_test_score</th>\n      <th>split3_test_score</th>\n      <th>split4_test_score</th>\n      <th>mean_test_score</th>\n      <th>std_test_score</th>\n      <th>rank_test_score</th>\n    </tr>\n  </thead>\n  <tbody>\n    <tr>\n      <th>49</th>\n      <td>1.962907</td>\n      <td>0.027542</td>\n      <td>0.125217</td>\n      <td>0.004432</td>\n      <td>None</td>\n      <td>entropy</td>\n      <td>log2</td>\n      <td>random</td>\n      <td>{'model__class_weight': None, 'model__criterio...</td>\n      <td>0.570013</td>\n      <td>0.615882</td>\n      <td>0.531489</td>\n      <td>0.615077</td>\n      <td>0.750259</td>\n      <td>0.616544</td>\n      <td>0.073867</td>\n      <td>1</td>\n    </tr>\n    <tr>\n      <th>29</th>\n      <td>1.970825</td>\n      <td>0.101165</td>\n      <td>0.108212</td>\n      <td>0.005262</td>\n      <td>None</td>\n      <td>entropy</td>\n      <td>log2</td>\n      <td>random</td>\n      <td>{'model__class_weight': None, 'model__criterio...</td>\n      <td>0.570013</td>\n      <td>0.615882</td>\n      <td>0.531489</td>\n      <td>0.615077</td>\n      <td>0.750259</td>\n      <td>0.616544</td>\n      <td>0.073867</td>\n      <td>1</td>\n    </tr>\n    <tr>\n      <th>32</th>\n      <td>2.004859</td>\n      <td>0.097391</td>\n      <td>0.109537</td>\n      <td>0.005384</td>\n      <td>None</td>\n      <td>entropy</td>\n      <td>log2</td>\n      <td>random</td>\n      <td>{'model__class_weight': None, 'model__criterio...</td>\n      <td>0.570013</td>\n      <td>0.615882</td>\n      <td>0.531489</td>\n      <td>0.615077</td>\n      <td>0.750259</td>\n      <td>0.616544</td>\n      <td>0.073867</td>\n      <td>1</td>\n    </tr>\n    <tr>\n      <th>27</th>\n      <td>1.951181</td>\n      <td>0.061655</td>\n      <td>0.112754</td>\n      <td>0.007601</td>\n      <td>None</td>\n      <td>entropy</td>\n      <td>log2</td>\n      <td>random</td>\n      <td>{'model__class_weight': None, 'model__criterio...</td>\n      <td>0.570013</td>\n      <td>0.615882</td>\n      <td>0.531489</td>\n      <td>0.615077</td>\n      <td>0.750259</td>\n      <td>0.616544</td>\n      <td>0.073867</td>\n      <td>1</td>\n    </tr>\n    <tr>\n      <th>33</th>\n      <td>1.962594</td>\n      <td>0.060569</td>\n      <td>0.111840</td>\n      <td>0.006574</td>\n      <td>None</td>\n      <td>entropy</td>\n      <td>log2</td>\n      <td>random</td>\n      <td>{'model__class_weight': None, 'model__criterio...</td>\n      <td>0.570013</td>\n      <td>0.615882</td>\n      <td>0.531489</td>\n      <td>0.615077</td>\n      <td>0.750259</td>\n      <td>0.616544</td>\n      <td>0.073867</td>\n      <td>1</td>\n    </tr>\n    <tr>\n      <th>34</th>\n      <td>1.991534</td>\n      <td>0.099330</td>\n      <td>0.107633</td>\n      <td>0.005263</td>\n      <td>None</td>\n      <td>entropy</td>\n      <td>log2</td>\n      <td>random</td>\n      <td>{'model__class_weight': None, 'model__criterio...</td>\n      <td>0.570013</td>\n      <td>0.615882</td>\n      <td>0.531489</td>\n      <td>0.615077</td>\n      <td>0.750259</td>\n      <td>0.616544</td>\n      <td>0.073867</td>\n      <td>1</td>\n    </tr>\n    <tr>\n      <th>48</th>\n      <td>1.968533</td>\n      <td>0.065223</td>\n      <td>0.107409</td>\n      <td>0.003843</td>\n      <td>None</td>\n      <td>entropy</td>\n      <td>log2</td>\n      <td>random</td>\n      <td>{'model__class_weight': None, 'model__criterio...</td>\n      <td>0.570013</td>\n      <td>0.615882</td>\n      <td>0.531489</td>\n      <td>0.615077</td>\n      <td>0.750259</td>\n      <td>0.616544</td>\n      <td>0.073867</td>\n      <td>1</td>\n    </tr>\n    <tr>\n      <th>23</th>\n      <td>1.952895</td>\n      <td>0.110128</td>\n      <td>0.107195</td>\n      <td>0.005618</td>\n      <td>None</td>\n      <td>entropy</td>\n      <td>log2</td>\n      <td>random</td>\n      <td>{'model__class_weight': None, 'model__criterio...</td>\n      <td>0.570013</td>\n      <td>0.615882</td>\n      <td>0.531489</td>\n      <td>0.615077</td>\n      <td>0.750259</td>\n      <td>0.616544</td>\n      <td>0.073867</td>\n      <td>1</td>\n    </tr>\n    <tr>\n      <th>35</th>\n      <td>1.959555</td>\n      <td>0.079155</td>\n      <td>0.106977</td>\n      <td>0.006517</td>\n      <td>None</td>\n      <td>entropy</td>\n      <td>log2</td>\n      <td>random</td>\n      <td>{'model__class_weight': None, 'model__criterio...</td>\n      <td>0.570013</td>\n      <td>0.615882</td>\n      <td>0.531489</td>\n      <td>0.615077</td>\n      <td>0.750259</td>\n      <td>0.616544</td>\n      <td>0.073867</td>\n      <td>1</td>\n    </tr>\n    <tr>\n      <th>36</th>\n      <td>1.980895</td>\n      <td>0.089248</td>\n      <td>0.108180</td>\n      <td>0.002840</td>\n      <td>None</td>\n      <td>entropy</td>\n      <td>log2</td>\n      <td>random</td>\n      <td>{'model__class_weight': None, 'model__criterio...</td>\n      <td>0.570013</td>\n      <td>0.615882</td>\n      <td>0.531489</td>\n      <td>0.615077</td>\n      <td>0.750259</td>\n      <td>0.616544</td>\n      <td>0.073867</td>\n      <td>1</td>\n    </tr>\n    <tr>\n      <th>19</th>\n      <td>1.957150</td>\n      <td>0.100456</td>\n      <td>0.107685</td>\n      <td>0.004826</td>\n      <td>None</td>\n      <td>entropy</td>\n      <td>log2</td>\n      <td>random</td>\n      <td>{'model__class_weight': None, 'model__criterio...</td>\n      <td>0.570013</td>\n      <td>0.615882</td>\n      <td>0.531489</td>\n      <td>0.615077</td>\n      <td>0.750259</td>\n      <td>0.616544</td>\n      <td>0.073867</td>\n      <td>1</td>\n    </tr>\n    <tr>\n      <th>37</th>\n      <td>1.958696</td>\n      <td>0.065690</td>\n      <td>0.111068</td>\n      <td>0.005039</td>\n      <td>None</td>\n      <td>entropy</td>\n      <td>log2</td>\n      <td>random</td>\n      <td>{'model__class_weight': None, 'model__criterio...</td>\n      <td>0.570013</td>\n      <td>0.615882</td>\n      <td>0.531489</td>\n      <td>0.615077</td>\n      <td>0.750259</td>\n      <td>0.616544</td>\n      <td>0.073867</td>\n      <td>1</td>\n    </tr>\n    <tr>\n      <th>38</th>\n      <td>1.979734</td>\n      <td>0.101258</td>\n      <td>0.108615</td>\n      <td>0.002746</td>\n      <td>None</td>\n      <td>entropy</td>\n      <td>log2</td>\n      <td>random</td>\n      <td>{'model__class_weight': None, 'model__criterio...</td>\n      <td>0.570013</td>\n      <td>0.615882</td>\n      <td>0.531489</td>\n      <td>0.615077</td>\n      <td>0.750259</td>\n      <td>0.616544</td>\n      <td>0.073867</td>\n      <td>1</td>\n    </tr>\n    <tr>\n      <th>16</th>\n      <td>1.970621</td>\n      <td>0.081201</td>\n      <td>0.109789</td>\n      <td>0.007874</td>\n      <td>None</td>\n      <td>entropy</td>\n      <td>log2</td>\n      <td>random</td>\n      <td>{'model__class_weight': None, 'model__criterio...</td>\n      <td>0.570013</td>\n      <td>0.615882</td>\n      <td>0.531489</td>\n      <td>0.615077</td>\n      <td>0.750259</td>\n      <td>0.616544</td>\n      <td>0.073867</td>\n      <td>1</td>\n    </tr>\n    <tr>\n      <th>30</th>\n      <td>1.938794</td>\n      <td>0.112745</td>\n      <td>0.105952</td>\n      <td>0.004439</td>\n      <td>None</td>\n      <td>entropy</td>\n      <td>log2</td>\n      <td>random</td>\n      <td>{'model__class_weight': None, 'model__criterio...</td>\n      <td>0.570013</td>\n      <td>0.615882</td>\n      <td>0.531489</td>\n      <td>0.615077</td>\n      <td>0.750259</td>\n      <td>0.616544</td>\n      <td>0.073867</td>\n      <td>1</td>\n    </tr>\n    <tr>\n      <th>39</th>\n      <td>1.962883</td>\n      <td>0.079714</td>\n      <td>0.107889</td>\n      <td>0.004034</td>\n      <td>None</td>\n      <td>entropy</td>\n      <td>log2</td>\n      <td>random</td>\n      <td>{'model__class_weight': None, 'model__criterio...</td>\n      <td>0.570013</td>\n      <td>0.615882</td>\n      <td>0.531489</td>\n      <td>0.615077</td>\n      <td>0.750259</td>\n      <td>0.616544</td>\n      <td>0.073867</td>\n      <td>1</td>\n    </tr>\n    <tr>\n      <th>13</th>\n      <td>1.994907</td>\n      <td>0.096426</td>\n      <td>0.107008</td>\n      <td>0.003427</td>\n      <td>None</td>\n      <td>entropy</td>\n      <td>log2</td>\n      <td>random</td>\n      <td>{'model__class_weight': None, 'model__criterio...</td>\n      <td>0.570013</td>\n      <td>0.615882</td>\n      <td>0.531489</td>\n      <td>0.615077</td>\n      <td>0.750259</td>\n      <td>0.616544</td>\n      <td>0.073867</td>\n      <td>1</td>\n    </tr>\n    <tr>\n      <th>40</th>\n      <td>1.958054</td>\n      <td>0.098806</td>\n      <td>0.105435</td>\n      <td>0.003987</td>\n      <td>None</td>\n      <td>entropy</td>\n      <td>log2</td>\n      <td>random</td>\n      <td>{'model__class_weight': None, 'model__criterio...</td>\n      <td>0.570013</td>\n      <td>0.615882</td>\n      <td>0.531489</td>\n      <td>0.615077</td>\n      <td>0.750259</td>\n      <td>0.616544</td>\n      <td>0.073867</td>\n      <td>1</td>\n    </tr>\n    <tr>\n      <th>41</th>\n      <td>1.980248</td>\n      <td>0.093649</td>\n      <td>0.108138</td>\n      <td>0.006390</td>\n      <td>None</td>\n      <td>entropy</td>\n      <td>log2</td>\n      <td>random</td>\n      <td>{'model__class_weight': None, 'model__criterio...</td>\n      <td>0.570013</td>\n      <td>0.615882</td>\n      <td>0.531489</td>\n      <td>0.615077</td>\n      <td>0.750259</td>\n      <td>0.616544</td>\n      <td>0.073867</td>\n      <td>1</td>\n    </tr>\n    <tr>\n      <th>42</th>\n      <td>1.976135</td>\n      <td>0.063238</td>\n      <td>0.109187</td>\n      <td>0.006838</td>\n      <td>None</td>\n      <td>entropy</td>\n      <td>log2</td>\n      <td>random</td>\n      <td>{'model__class_weight': None, 'model__criterio...</td>\n      <td>0.570013</td>\n      <td>0.615882</td>\n      <td>0.531489</td>\n      <td>0.615077</td>\n      <td>0.750259</td>\n      <td>0.616544</td>\n      <td>0.073867</td>\n      <td>1</td>\n    </tr>\n    <tr>\n      <th>43</th>\n      <td>1.948182</td>\n      <td>0.092001</td>\n      <td>0.106417</td>\n      <td>0.003536</td>\n      <td>None</td>\n      <td>entropy</td>\n      <td>log2</td>\n      <td>random</td>\n      <td>{'model__class_weight': None, 'model__criterio...</td>\n      <td>0.570013</td>\n      <td>0.615882</td>\n      <td>0.531489</td>\n      <td>0.615077</td>\n      <td>0.750259</td>\n      <td>0.616544</td>\n      <td>0.073867</td>\n      <td>1</td>\n    </tr>\n    <tr>\n      <th>44</th>\n      <td>1.973704</td>\n      <td>0.105006</td>\n      <td>0.106641</td>\n      <td>0.003981</td>\n      <td>None</td>\n      <td>entropy</td>\n      <td>log2</td>\n      <td>random</td>\n      <td>{'model__class_weight': None, 'model__criterio...</td>\n      <td>0.570013</td>\n      <td>0.615882</td>\n      <td>0.531489</td>\n      <td>0.615077</td>\n      <td>0.750259</td>\n      <td>0.616544</td>\n      <td>0.073867</td>\n      <td>1</td>\n    </tr>\n    <tr>\n      <th>45</th>\n      <td>1.955567</td>\n      <td>0.094565</td>\n      <td>0.107183</td>\n      <td>0.004728</td>\n      <td>None</td>\n      <td>entropy</td>\n      <td>log2</td>\n      <td>random</td>\n      <td>{'model__class_weight': None, 'model__criterio...</td>\n      <td>0.570013</td>\n      <td>0.615882</td>\n      <td>0.531489</td>\n      <td>0.615077</td>\n      <td>0.750259</td>\n      <td>0.616544</td>\n      <td>0.073867</td>\n      <td>1</td>\n    </tr>\n    <tr>\n      <th>46</th>\n      <td>1.939752</td>\n      <td>0.081932</td>\n      <td>0.108016</td>\n      <td>0.004841</td>\n      <td>None</td>\n      <td>entropy</td>\n      <td>log2</td>\n      <td>random</td>\n      <td>{'model__class_weight': None, 'model__criterio...</td>\n      <td>0.570013</td>\n      <td>0.615882</td>\n      <td>0.531489</td>\n      <td>0.615077</td>\n      <td>0.750259</td>\n      <td>0.616544</td>\n      <td>0.073867</td>\n      <td>1</td>\n    </tr>\n    <tr>\n      <th>47</th>\n      <td>1.958396</td>\n      <td>0.067662</td>\n      <td>0.109023</td>\n      <td>0.004645</td>\n      <td>None</td>\n      <td>entropy</td>\n      <td>log2</td>\n      <td>random</td>\n      <td>{'model__class_weight': None, 'model__criterio...</td>\n      <td>0.570013</td>\n      <td>0.615882</td>\n      <td>0.531489</td>\n      <td>0.615077</td>\n      <td>0.750259</td>\n      <td>0.616544</td>\n      <td>0.073867</td>\n      <td>1</td>\n    </tr>\n    <tr>\n      <th>31</th>\n      <td>1.977939</td>\n      <td>0.057453</td>\n      <td>0.109187</td>\n      <td>0.003562</td>\n      <td>None</td>\n      <td>entropy</td>\n      <td>log2</td>\n      <td>random</td>\n      <td>{'model__class_weight': None, 'model__criterio...</td>\n      <td>0.570013</td>\n      <td>0.615882</td>\n      <td>0.531489</td>\n      <td>0.615077</td>\n      <td>0.750259</td>\n      <td>0.616544</td>\n      <td>0.073867</td>\n      <td>1</td>\n    </tr>\n    <tr>\n      <th>11</th>\n      <td>1.965158</td>\n      <td>0.101631</td>\n      <td>0.107167</td>\n      <td>0.005087</td>\n      <td>balanced</td>\n      <td>entropy</td>\n      <td>log2</td>\n      <td>random</td>\n      <td>{'model__class_weight': 'balanced', 'model__cr...</td>\n      <td>0.649844</td>\n      <td>0.493372</td>\n      <td>0.548092</td>\n      <td>0.591511</td>\n      <td>0.757075</td>\n      <td>0.607979</td>\n      <td>0.090526</td>\n      <td>27</td>\n    </tr>\n    <tr>\n      <th>4</th>\n      <td>2.295109</td>\n      <td>0.095115</td>\n      <td>0.107455</td>\n      <td>0.003841</td>\n      <td>balanced</td>\n      <td>entropy</td>\n      <td>sqrt</td>\n      <td>random</td>\n      <td>{'model__class_weight': 'balanced', 'model__cr...</td>\n      <td>0.605404</td>\n      <td>0.423562</td>\n      <td>0.568090</td>\n      <td>0.605385</td>\n      <td>0.749520</td>\n      <td>0.590392</td>\n      <td>0.104021</td>\n      <td>28</td>\n    </tr>\n    <tr>\n      <th>3</th>\n      <td>2.288378</td>\n      <td>0.101195</td>\n      <td>0.106746</td>\n      <td>0.004953</td>\n      <td>balanced</td>\n      <td>entropy</td>\n      <td>sqrt</td>\n      <td>random</td>\n      <td>{'model__class_weight': 'balanced', 'model__cr...</td>\n      <td>0.605404</td>\n      <td>0.423562</td>\n      <td>0.568090</td>\n      <td>0.605385</td>\n      <td>0.749520</td>\n      <td>0.590392</td>\n      <td>0.104021</td>\n      <td>28</td>\n    </tr>\n    <tr>\n      <th>10</th>\n      <td>2.282531</td>\n      <td>0.119547</td>\n      <td>0.103371</td>\n      <td>0.002696</td>\n      <td>None</td>\n      <td>entropy</td>\n      <td>sqrt</td>\n      <td>random</td>\n      <td>{'model__class_weight': None, 'model__criterio...</td>\n      <td>0.594467</td>\n      <td>0.423065</td>\n      <td>0.591581</td>\n      <td>0.593140</td>\n      <td>0.731695</td>\n      <td>0.586790</td>\n      <td>0.097904</td>\n      <td>30</td>\n    </tr>\n    <tr>\n      <th>20</th>\n      <td>1.971083</td>\n      <td>0.076358</td>\n      <td>0.107129</td>\n      <td>0.003886</td>\n      <td>balanced</td>\n      <td>gini</td>\n      <td>log2</td>\n      <td>random</td>\n      <td>{'model__class_weight': 'balanced', 'model__cr...</td>\n      <td>0.609902</td>\n      <td>0.473608</td>\n      <td>0.480957</td>\n      <td>0.625528</td>\n      <td>0.724406</td>\n      <td>0.582880</td>\n      <td>0.094771</td>\n      <td>31</td>\n    </tr>\n    <tr>\n      <th>14</th>\n      <td>1.993735</td>\n      <td>0.103340</td>\n      <td>0.108694</td>\n      <td>0.006552</td>\n      <td>None</td>\n      <td>gini</td>\n      <td>log2</td>\n      <td>random</td>\n      <td>{'model__class_weight': None, 'model__criterio...</td>\n      <td>0.576779</td>\n      <td>0.483367</td>\n      <td>0.508926</td>\n      <td>0.599928</td>\n      <td>0.717171</td>\n      <td>0.577234</td>\n      <td>0.081945</td>\n      <td>32</td>\n    </tr>\n    <tr>\n      <th>24</th>\n      <td>2.284555</td>\n      <td>0.068756</td>\n      <td>0.105548</td>\n      <td>0.005187</td>\n      <td>None</td>\n      <td>gini</td>\n      <td>sqrt</td>\n      <td>random</td>\n      <td>{'model__class_weight': None, 'model__criterio...</td>\n      <td>0.520758</td>\n      <td>0.493382</td>\n      <td>0.516404</td>\n      <td>0.549524</td>\n      <td>0.741554</td>\n      <td>0.564325</td>\n      <td>0.090395</td>\n      <td>33</td>\n    </tr>\n    <tr>\n      <th>1</th>\n      <td>2.271139</td>\n      <td>0.108069</td>\n      <td>0.100664</td>\n      <td>0.003632</td>\n      <td>balanced</td>\n      <td>gini</td>\n      <td>sqrt</td>\n      <td>random</td>\n      <td>{'model__class_weight': 'balanced', 'model__cr...</td>\n      <td>0.526253</td>\n      <td>0.411991</td>\n      <td>0.528280</td>\n      <td>0.578117</td>\n      <td>0.729421</td>\n      <td>0.554812</td>\n      <td>0.102907</td>\n      <td>34</td>\n    </tr>\n    <tr>\n      <th>7</th>\n      <td>2.297010</td>\n      <td>0.107825</td>\n      <td>0.102210</td>\n      <td>0.001920</td>\n      <td>balanced</td>\n      <td>gini</td>\n      <td>sqrt</td>\n      <td>random</td>\n      <td>{'model__class_weight': 'balanced', 'model__cr...</td>\n      <td>0.526253</td>\n      <td>0.411991</td>\n      <td>0.528280</td>\n      <td>0.578117</td>\n      <td>0.729421</td>\n      <td>0.554812</td>\n      <td>0.102907</td>\n      <td>34</td>\n    </tr>\n    <tr>\n      <th>6</th>\n      <td>2.235590</td>\n      <td>0.076924</td>\n      <td>0.103689</td>\n      <td>0.005821</td>\n      <td>balanced</td>\n      <td>gini</td>\n      <td>sqrt</td>\n      <td>random</td>\n      <td>{'model__class_weight': 'balanced', 'model__cr...</td>\n      <td>0.526253</td>\n      <td>0.411991</td>\n      <td>0.528280</td>\n      <td>0.578117</td>\n      <td>0.729421</td>\n      <td>0.554812</td>\n      <td>0.102907</td>\n      <td>34</td>\n    </tr>\n    <tr>\n      <th>26</th>\n      <td>19.788040</td>\n      <td>1.663488</td>\n      <td>0.098589</td>\n      <td>0.003560</td>\n      <td>balanced</td>\n      <td>gini</td>\n      <td>None</td>\n      <td>random</td>\n      <td>{'model__class_weight': 'balanced', 'model__cr...</td>\n      <td>0.522375</td>\n      <td>0.357573</td>\n      <td>0.496318</td>\n      <td>0.523620</td>\n      <td>0.750109</td>\n      <td>0.529999</td>\n      <td>0.126026</td>\n      <td>37</td>\n    </tr>\n    <tr>\n      <th>12</th>\n      <td>14.398538</td>\n      <td>0.686880</td>\n      <td>0.096694</td>\n      <td>0.002435</td>\n      <td>balanced</td>\n      <td>entropy</td>\n      <td>None</td>\n      <td>random</td>\n      <td>{'model__class_weight': 'balanced', 'model__cr...</td>\n      <td>0.470040</td>\n      <td>0.350154</td>\n      <td>0.487366</td>\n      <td>0.509828</td>\n      <td>0.762781</td>\n      <td>0.516034</td>\n      <td>0.135186</td>\n      <td>38</td>\n    </tr>\n    <tr>\n      <th>21</th>\n      <td>15.032422</td>\n      <td>0.843449</td>\n      <td>0.095562</td>\n      <td>0.003625</td>\n      <td>None</td>\n      <td>entropy</td>\n      <td>None</td>\n      <td>random</td>\n      <td>{'model__class_weight': None, 'model__criterio...</td>\n      <td>0.484880</td>\n      <td>0.389581</td>\n      <td>0.456675</td>\n      <td>0.490318</td>\n      <td>0.756549</td>\n      <td>0.515601</td>\n      <td>0.125692</td>\n      <td>39</td>\n    </tr>\n    <tr>\n      <th>17</th>\n      <td>28.506263</td>\n      <td>3.758931</td>\n      <td>0.100126</td>\n      <td>0.004136</td>\n      <td>None</td>\n      <td>gini</td>\n      <td>None</td>\n      <td>random</td>\n      <td>{'model__class_weight': None, 'model__criterio...</td>\n      <td>0.496733</td>\n      <td>0.463051</td>\n      <td>0.374939</td>\n      <td>0.492208</td>\n      <td>0.723938</td>\n      <td>0.510174</td>\n      <td>0.115505</td>\n      <td>40</td>\n    </tr>\n    <tr>\n      <th>5</th>\n      <td>55.766035</td>\n      <td>8.423692</td>\n      <td>0.095556</td>\n      <td>0.001751</td>\n      <td>balanced</td>\n      <td>gini</td>\n      <td>None</td>\n      <td>best</td>\n      <td>{'model__class_weight': 'balanced', 'model__cr...</td>\n      <td>0.491453</td>\n      <td>0.352835</td>\n      <td>0.437139</td>\n      <td>0.504825</td>\n      <td>0.739645</td>\n      <td>0.505179</td>\n      <td>0.128842</td>\n      <td>41</td>\n    </tr>\n    <tr>\n      <th>15</th>\n      <td>33.671793</td>\n      <td>0.641665</td>\n      <td>0.098117</td>\n      <td>0.002125</td>\n      <td>balanced</td>\n      <td>entropy</td>\n      <td>None</td>\n      <td>best</td>\n      <td>{'model__class_weight': 'balanced', 'model__cr...</td>\n      <td>0.496841</td>\n      <td>0.320606</td>\n      <td>0.409619</td>\n      <td>0.519669</td>\n      <td>0.741087</td>\n      <td>0.497564</td>\n      <td>0.140600</td>\n      <td>42</td>\n    </tr>\n    <tr>\n      <th>28</th>\n      <td>36.316064</td>\n      <td>2.132752</td>\n      <td>0.095526</td>\n      <td>0.003236</td>\n      <td>None</td>\n      <td>entropy</td>\n      <td>None</td>\n      <td>best</td>\n      <td>{'model__class_weight': None, 'model__criterio...</td>\n      <td>0.469557</td>\n      <td>0.305681</td>\n      <td>0.393417</td>\n      <td>0.457569</td>\n      <td>0.748143</td>\n      <td>0.474873</td>\n      <td>0.148503</td>\n      <td>43</td>\n    </tr>\n    <tr>\n      <th>2</th>\n      <td>83.505183</td>\n      <td>8.126882</td>\n      <td>0.100278</td>\n      <td>0.006887</td>\n      <td>None</td>\n      <td>gini</td>\n      <td>None</td>\n      <td>best</td>\n      <td>{'model__class_weight': None, 'model__criterio...</td>\n      <td>0.483756</td>\n      <td>0.244391</td>\n      <td>0.387797</td>\n      <td>0.493083</td>\n      <td>0.740242</td>\n      <td>0.469854</td>\n      <td>0.162117</td>\n      <td>44</td>\n    </tr>\n    <tr>\n      <th>18</th>\n      <td>2.688566</td>\n      <td>0.120304</td>\n      <td>0.101286</td>\n      <td>0.001647</td>\n      <td>balanced</td>\n      <td>entropy</td>\n      <td>sqrt</td>\n      <td>best</td>\n      <td>{'model__class_weight': 'balanced', 'model__cr...</td>\n      <td>0.460532</td>\n      <td>0.263985</td>\n      <td>0.349664</td>\n      <td>0.479719</td>\n      <td>0.744189</td>\n      <td>0.459618</td>\n      <td>0.162325</td>\n      <td>45</td>\n    </tr>\n    <tr>\n      <th>25</th>\n      <td>2.930778</td>\n      <td>0.152839</td>\n      <td>0.099705</td>\n      <td>0.002622</td>\n      <td>balanced</td>\n      <td>gini</td>\n      <td>sqrt</td>\n      <td>best</td>\n      <td>{'model__class_weight': 'balanced', 'model__cr...</td>\n      <td>0.447495</td>\n      <td>0.243137</td>\n      <td>0.382657</td>\n      <td>0.454495</td>\n      <td>0.739285</td>\n      <td>0.453414</td>\n      <td>0.161853</td>\n      <td>46</td>\n    </tr>\n    <tr>\n      <th>9</th>\n      <td>3.319754</td>\n      <td>0.209657</td>\n      <td>0.099168</td>\n      <td>0.004189</td>\n      <td>None</td>\n      <td>gini</td>\n      <td>sqrt</td>\n      <td>best</td>\n      <td>{'model__class_weight': None, 'model__criterio...</td>\n      <td>0.424130</td>\n      <td>0.237196</td>\n      <td>0.405706</td>\n      <td>0.437570</td>\n      <td>0.732460</td>\n      <td>0.447412</td>\n      <td>0.159888</td>\n      <td>47</td>\n    </tr>\n    <tr>\n      <th>8</th>\n      <td>2.099065</td>\n      <td>0.081623</td>\n      <td>0.101873</td>\n      <td>0.003493</td>\n      <td>balanced</td>\n      <td>gini</td>\n      <td>log2</td>\n      <td>best</td>\n      <td>{'model__class_weight': 'balanced', 'model__cr...</td>\n      <td>0.426732</td>\n      <td>0.235310</td>\n      <td>0.328169</td>\n      <td>0.400084</td>\n      <td>0.721069</td>\n      <td>0.422273</td>\n      <td>0.163464</td>\n      <td>48</td>\n    </tr>\n    <tr>\n      <th>22</th>\n      <td>2.112915</td>\n      <td>0.107157</td>\n      <td>0.102402</td>\n      <td>0.005184</td>\n      <td>None</td>\n      <td>entropy</td>\n      <td>log2</td>\n      <td>best</td>\n      <td>{'model__class_weight': None, 'model__criterio...</td>\n      <td>0.433667</td>\n      <td>0.196714</td>\n      <td>0.302856</td>\n      <td>0.425701</td>\n      <td>0.730311</td>\n      <td>0.417850</td>\n      <td>0.178924</td>\n      <td>49</td>\n    </tr>\n    <tr>\n      <th>0</th>\n      <td>2.151113</td>\n      <td>0.041985</td>\n      <td>0.110634</td>\n      <td>0.002044</td>\n      <td>None</td>\n      <td>gini</td>\n      <td>log2</td>\n      <td>best</td>\n      <td>{'model__class_weight': None, 'model__criterio...</td>\n      <td>0.419516</td>\n      <td>0.201187</td>\n      <td>0.332947</td>\n      <td>0.406210</td>\n      <td>0.715399</td>\n      <td>0.415052</td>\n      <td>0.168989</td>\n      <td>50</td>\n    </tr>\n  </tbody>\n</table>\n</div>"
     },
     "execution_count": 114,
     "metadata": {},
     "output_type": "execute_result"
    }
   ],
   "source": [
    "dtc_grid_search_dataframe = pd.DataFrame(\n",
    "    np.load(\"Dataset_Files/Classification_Models/optimised_dtc_cv_results.npy\", allow_pickle=True).tolist())\n",
    "dtc_grid_search_dataframe.sort_values(by=[\"rank_test_score\"], inplace=True)\n",
    "dtc_grid_search_dataframe"
   ],
   "metadata": {
    "collapsed": false,
    "pycharm": {
     "name": "#%%\n"
    }
   }
  },
  {
   "cell_type": "markdown",
   "source": [
    "### Testing"
   ],
   "metadata": {
    "collapsed": false,
    "pycharm": {
     "name": "#%% md\n"
    }
   }
  },
  {
   "cell_type": "code",
   "execution_count": 115,
   "outputs": [
    {
     "name": "stdout",
     "output_type": "stream",
     "text": [
      "F1 score: 0.924736055099914\n",
      "Matthews Correlation Coefficient: 0.7190178962152716\n",
      "Accuracy score: 0.8897846786768853\n",
      "Recall score: 0.9275942002636244\n",
      "Precision score: 0.9218954691240909\n"
     ]
    }
   ],
   "source": [
    "y_test_pred = optimised_dtc.predict(X_test_classification)\n",
    "calculate_metrics_classification(y_test_classification, y_test_pred)"
   ],
   "metadata": {
    "collapsed": false,
    "pycharm": {
     "name": "#%%\n"
    }
   }
  },
  {
   "cell_type": "markdown",
   "metadata": {
    "pycharm": {
     "name": "#%% md\n"
    }
   },
   "source": [
    "## Random Forest Classifier (RFC)"
   ]
  },
  {
   "cell_type": "code",
   "execution_count": 5,
   "metadata": {
    "pycharm": {
     "name": "#%%\n"
    }
   },
   "outputs": [
    {
     "data": {
      "text/plain": [
       "{'memory': None,\n",
       " 'steps': [('scale', StandardScaler()),\n",
       "  ('model', RandomForestClassifier(random_state=42))],\n",
       " 'verbose': False,\n",
       " 'scale': StandardScaler(),\n",
       " 'model': RandomForestClassifier(random_state=42),\n",
       " 'scale__copy': True,\n",
       " 'scale__with_mean': True,\n",
       " 'scale__with_std': True,\n",
       " 'model__bootstrap': True,\n",
       " 'model__ccp_alpha': 0.0,\n",
       " 'model__class_weight': None,\n",
       " 'model__criterion': 'gini',\n",
       " 'model__max_depth': None,\n",
       " 'model__max_features': 'sqrt',\n",
       " 'model__max_leaf_nodes': None,\n",
       " 'model__max_samples': None,\n",
       " 'model__min_impurity_decrease': 0.0,\n",
       " 'model__min_samples_leaf': 1,\n",
       " 'model__min_samples_split': 2,\n",
       " 'model__min_weight_fraction_leaf': 0.0,\n",
       " 'model__n_estimators': 100,\n",
       " 'model__n_jobs': None,\n",
       " 'model__oob_score': False,\n",
       " 'model__random_state': 42,\n",
       " 'model__verbose': 0,\n",
       " 'model__warm_start': False}"
      ]
     },
     "execution_count": 5,
     "metadata": {},
     "output_type": "execute_result"
    }
   ],
   "source": [
    "pipe = Pipeline(\n",
    "    [\n",
    "        ('scale', StandardScaler()),\n",
    "        ('model', RandomForestClassifier(random_state=42))\n",
    "    ]\n",
    ")\n",
    "pipe.get_params()"
   ]
  },
  {
   "cell_type": "code",
   "execution_count": 6,
   "metadata": {
    "pycharm": {
     "name": "#%%\n"
    }
   },
   "outputs": [],
   "source": [
    "model = BayesSearchCV(estimator=pipe,\n",
    "                      search_spaces=\n",
    "                      {'model__n_estimators': Integer(100, 800),\n",
    "                       'model__criterion': Categorical(['gini', 'entropy', 'log_loss']),\n",
    "                       'model__max_features': Categorical([None, 'sqrt', 'log2']),\n",
    "                       'model__class_weight': Categorical([None, 'balanced', 'balanced_subsample'])\n",
    "                       },\n",
    "                      scoring='f1',\n",
    "                      cv=5,\n",
    "                      error_score=np.nan,\n",
    "                      n_jobs=-1,\n",
    "                      pre_dispatch='2*n_jobs',\n",
    "                      random_state=42)"
   ]
  },
  {
   "cell_type": "markdown",
   "source": [
    "### Training"
   ],
   "metadata": {
    "collapsed": false,
    "pycharm": {
     "name": "#%% md\n"
    }
   }
  },
  {
   "cell_type": "code",
   "execution_count": null,
   "metadata": {
    "pycharm": {
     "is_executing": true,
     "name": "#%%\n"
    }
   },
   "outputs": [
    {
     "name": "stdout",
     "output_type": "stream",
     "text": [
      "Fitting 10 folds for each of 135 candidates, totalling 1350 fits\n"
     ]
    }
   ],
   "source": [
    "# index = 1\n",
    "# model.fit(X_train, y_train, callback=on_step)\n",
    "#\n",
    "# optimised_rfc = model.best_estimator_\n",
    "#\n",
    "# y_train_pred = optimised_rfc.predict(X_train)\n",
    "# calculate_metrics_classification(y_train, y_train_pred)\n",
    "#\n",
    "# # Save Model\n",
    "# dump(optimised_rfc, 'Dataset_Files/Classification_Models/optimised_rfc.joblib')\n",
    "# np.save(\"Dataset_Files/Classification_Models/optimised_rfc_cv_results.npy\", model.cv_results_)"
   ]
  },
  {
   "cell_type": "code",
   "execution_count": null,
   "outputs": [],
   "source": [
    "# Load Model\n",
    "optimised_rfc = load('Dataset_Files/Classification_Models/optimised_rfc.joblib')"
   ],
   "metadata": {
    "collapsed": false,
    "pycharm": {
     "name": "#%%\n"
    }
   }
  },
  {
   "cell_type": "code",
   "execution_count": null,
   "outputs": [],
   "source": [
    "y_train_pred = optimised_rfc.predict(X_train)\n",
    "calculate_metrics_classification(y_train, y_train_pred)"
   ],
   "metadata": {
    "collapsed": false,
    "pycharm": {
     "name": "#%%\n"
    }
   }
  },
  {
   "cell_type": "code",
   "execution_count": null,
   "outputs": [],
   "source": [
    "optimised_rfc.get_params()"
   ],
   "metadata": {
    "collapsed": false,
    "pycharm": {
     "name": "#%%\n"
    }
   }
  },
  {
   "cell_type": "code",
   "execution_count": null,
   "outputs": [],
   "source": [
    "rfc_grid_search_dataframe = pd.DataFrame(\n",
    "    np.load(\"Dataset_Files/Classification_Models/optimised_rfc_cv_results.npy\", allow_pickle=True).tolist())\n",
    "rfc_grid_search_dataframe.sort_values(by=[\"rank_test_score\"], inplace=True)\n",
    "rfc_grid_search_dataframe"
   ],
   "metadata": {
    "collapsed": false,
    "pycharm": {
     "name": "#%%\n"
    }
   }
  },
  {
   "cell_type": "markdown",
   "source": [
    "### Testing"
   ],
   "metadata": {
    "collapsed": false,
    "pycharm": {
     "name": "#%% md\n"
    }
   }
  },
  {
   "cell_type": "code",
   "execution_count": null,
   "outputs": [],
   "source": [
    "y_test_pred = optimised_rfc.predict(X_test_classification)\n",
    "calculate_metrics_classification(y_test_classification, y_test_pred)"
   ],
   "metadata": {
    "collapsed": false,
    "pycharm": {
     "name": "#%%\n"
    }
   }
  },
  {
   "cell_type": "markdown",
   "source": [
    "## Stochastic Gradient Descent Classifier (SGDC)"
   ],
   "metadata": {
    "collapsed": false,
    "pycharm": {
     "name": "#%% md\n"
    }
   }
  },
  {
   "cell_type": "code",
   "execution_count": 8,
   "outputs": [
    {
     "data": {
      "text/plain": "{'memory': None,\n 'steps': [('scale', StandardScaler()),\n  ('model', SGDClassifier(random_state=42))],\n 'verbose': False,\n 'scale': StandardScaler(),\n 'model': SGDClassifier(random_state=42),\n 'scale__copy': True,\n 'scale__with_mean': True,\n 'scale__with_std': True,\n 'model__alpha': 0.0001,\n 'model__average': False,\n 'model__class_weight': None,\n 'model__early_stopping': False,\n 'model__epsilon': 0.1,\n 'model__eta0': 0.0,\n 'model__fit_intercept': True,\n 'model__l1_ratio': 0.15,\n 'model__learning_rate': 'optimal',\n 'model__loss': 'hinge',\n 'model__max_iter': 1000,\n 'model__n_iter_no_change': 5,\n 'model__n_jobs': None,\n 'model__penalty': 'l2',\n 'model__power_t': 0.5,\n 'model__random_state': 42,\n 'model__shuffle': True,\n 'model__tol': 0.001,\n 'model__validation_fraction': 0.1,\n 'model__verbose': 0,\n 'model__warm_start': False}"
     },
     "execution_count": 8,
     "metadata": {},
     "output_type": "execute_result"
    }
   ],
   "source": [
    "pipe = Pipeline(\n",
    "    [\n",
    "        ('scale', StandardScaler()),\n",
    "        ('model', SGDClassifier(random_state=42))\n",
    "    ]\n",
    ")\n",
    "pipe.get_params()"
   ],
   "metadata": {
    "collapsed": false,
    "pycharm": {
     "name": "#%%\n"
    }
   }
  },
  {
   "cell_type": "code",
   "execution_count": null,
   "outputs": [],
   "source": [
    "model = BayesSearchCV(estimator=pipe,\n",
    "                      search_spaces=\n",
    "                      {'model__loss': Categorical(\n",
    "                          ['hinge', 'log_loss', 'modified_huber', 'squared_hinge', 'perceptron', 'squared_error',\n",
    "                           'huber', 'epsilon_insensitive', 'squared_epsilon_insensitive']),\n",
    "                          'model__penalty': Categorical(['l2', 'l1', 'elasticnet']),\n",
    "                          'model__alpha': Real(1e-6, 1e-1, prior='log-uniform'),\n",
    "                          'model__learning_rate': Categorical(['constant', 'optimal', 'invscaling', 'adaptive']),\n",
    "                          'model__class_weight': Categorical([None, 'balanced'])\n",
    "                      },\n",
    "                      scoring='f1',\n",
    "                      cv=5,\n",
    "                      error_score=np.nan,\n",
    "                      n_jobs=-1,\n",
    "                      pre_dispatch='2*n_jobs',\n",
    "                      random_state=42)"
   ],
   "metadata": {
    "collapsed": false,
    "pycharm": {
     "name": "#%%\n"
    }
   }
  },
  {
   "cell_type": "markdown",
   "source": [
    "### Training"
   ],
   "metadata": {
    "collapsed": false,
    "pycharm": {
     "name": "#%% md\n"
    }
   }
  },
  {
   "cell_type": "code",
   "execution_count": null,
   "outputs": [],
   "source": [
    "index = 1\n",
    "model.fit(X_train, y_train, callback=on_step)\n",
    "\n",
    "optimised_sgdc = model.best_estimator_\n",
    "\n",
    "y_train_pred = optimised_sgdc.predict(X_train)\n",
    "calculate_metrics_classification(y_train, y_train_pred)\n",
    "\n",
    "# Save Model\n",
    "dump(optimised_sgdc, 'Dataset_Files/Classification_Models/optimised_sgdc.joblib')\n",
    "np.save(\"Dataset_Files/Classification_Models/optimised_sgdc_cv_results.npy\", model.cv_results_)"
   ],
   "metadata": {
    "collapsed": false,
    "pycharm": {
     "name": "#%%\n"
    }
   }
  },
  {
   "cell_type": "code",
   "execution_count": null,
   "outputs": [],
   "source": [
    "# Load Model\n",
    "optimised_sgdc = load('Dataset_Files/Classification_Models/optimised_sgdc.joblib')"
   ],
   "metadata": {
    "collapsed": false,
    "pycharm": {
     "name": "#%%\n"
    }
   }
  },
  {
   "cell_type": "code",
   "execution_count": null,
   "outputs": [],
   "source": [
    "y_train_pred = optimised_sgdc.predict(X_train)\n",
    "calculate_metrics_classification(y_train, y_train_pred)"
   ],
   "metadata": {
    "collapsed": false,
    "pycharm": {
     "name": "#%%\n"
    }
   }
  },
  {
   "cell_type": "code",
   "execution_count": null,
   "outputs": [],
   "source": [
    "optimised_sgdc.get_params()"
   ],
   "metadata": {
    "collapsed": false,
    "pycharm": {
     "name": "#%%\n"
    }
   }
  },
  {
   "cell_type": "code",
   "execution_count": null,
   "outputs": [],
   "source": [
    "sgdc_grid_search_dataframe = pd.DataFrame(\n",
    "    np.load(\"Dataset_Files/Classification_Models/optimised_sgdc_cv_results.npy\", allow_pickle=True).tolist())\n",
    "sgdc_grid_search_dataframe.sort_values(by=[\"rank_test_score\"], inplace=True)\n",
    "sgdc_grid_search_dataframe"
   ],
   "metadata": {
    "collapsed": false,
    "pycharm": {
     "name": "#%%\n"
    }
   }
  },
  {
   "cell_type": "markdown",
   "source": [
    "### Testing"
   ],
   "metadata": {
    "collapsed": false,
    "pycharm": {
     "name": "#%% md\n"
    }
   }
  },
  {
   "cell_type": "code",
   "execution_count": null,
   "outputs": [],
   "source": [
    "y_test_pred = optimised_sgdc.predict(X_test_classification)\n",
    "calculate_metrics_classification(y_test_classification, y_test_pred)"
   ],
   "metadata": {
    "collapsed": false,
    "pycharm": {
     "name": "#%%\n"
    }
   }
  }
 ],
 "metadata": {
  "kernelspec": {
   "display_name": "AlphaFold Project Environment",
   "language": "python",
   "name": "alphafold_dataset_drug_binding_prediction"
  },
  "language_info": {
   "codemirror_mode": {
    "name": "ipython",
    "version": 3
   },
   "file_extension": ".py",
   "mimetype": "text/x-python",
   "name": "python",
   "nbconvert_exporter": "python",
   "pygments_lexer": "ipython3",
   "version": "3.9.13"
  }
 },
 "nbformat": 4,
 "nbformat_minor": 1
}