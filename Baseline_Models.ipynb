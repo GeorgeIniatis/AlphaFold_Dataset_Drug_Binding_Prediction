{
 "cells": [
  {
   "cell_type": "markdown",
   "source": [
    "# Note"
   ],
   "metadata": {
    "collapsed": false,
    "pycharm": {
     "name": "#%% md\n"
    }
   }
  },
  {
   "cell_type": "markdown",
   "source": [
    "**Since only one molecular function was selected by feature selection we decided to just outright ignore it and build models with just the selected drug descriptors and protein sequence descriptors.**"
   ],
   "metadata": {
    "collapsed": false,
    "pycharm": {
     "name": "#%% md\n"
    }
   }
  },
  {
   "cell_type": "markdown",
   "source": [
    "# Imports"
   ],
   "metadata": {
    "collapsed": false,
    "pycharm": {
     "name": "#%% md\n"
    }
   }
  },
  {
   "cell_type": "code",
   "execution_count": 27,
   "metadata": {
    "pycharm": {
     "name": "#%%\n"
    }
   },
   "outputs": [],
   "source": [
    "# General Imports\n",
    "import pandas as pd\n",
    "import numpy as np\n",
    "from modify_dataset import load_from_pickle, load_to_pickle\n",
    "\n",
    "# Plotting libraries\n",
    "import plotly.express as px\n",
    "\n",
    "# Dimensionality reduction\n",
    "from sklearn.decomposition import PCA\n",
    "\n",
    "# Model selection\n",
    "from sklearn.model_selection import permutation_test_score\n",
    "\n",
    "# Scalers\n",
    "from sklearn.preprocessing import StandardScaler\n",
    "\n",
    "# Metrics\n",
    "from sklearn.metrics import make_scorer\n",
    "from sklearn.metrics import precision_score, recall_score, f1_score, accuracy_score, matthews_corrcoef\n",
    "from sklearn.metrics import mean_absolute_error, r2_score\n",
    "\n",
    "# Classification Models\n",
    "from sklearn.dummy import DummyClassifier\n",
    "from sklearn.neighbors import KNeighborsClassifier\n",
    "from sklearn.linear_model import LogisticRegression, SGDClassifier\n",
    "from sklearn.ensemble import RandomForestClassifier\n",
    "from sklearn.tree import DecisionTreeClassifier\n",
    "from sklearn.svm import SVC\n",
    "\n",
    "# Regression Models\n",
    "from sklearn.dummy import DummyRegressor\n",
    "from sklearn.neighbors import KNeighborsRegressor\n",
    "from sklearn.linear_model import LinearRegression, SGDRegressor\n",
    "from sklearn.ensemble import RandomForestRegressor\n",
    "from sklearn.tree import DecisionTreeRegressor\n",
    "from sklearn.svm import SVR\n",
    "\n",
    "# Error Analysis\n",
    "# import eli5\n",
    "# from lime.lime_tabular import LimeTabularExplainer\n",
    "\n",
    "# Scikit-optimize\n",
    "from skopt import BayesSearchCV\n",
    "from skopt.space import Real, Categorical, Integer\n",
    "\n",
    "# Other Model Stuff\n",
    "from joblib import dump, load\n",
    "from sklearn.model_selection import train_test_split\n",
    "from sklearn.pipeline import Pipeline"
   ]
  },
  {
   "cell_type": "markdown",
   "metadata": {
    "pycharm": {
     "name": "#%% md\n"
    }
   },
   "source": [
    "# Training & Test Sets"
   ]
  },
  {
   "cell_type": "code",
   "execution_count": 28,
   "metadata": {
    "pycharm": {
     "name": "#%%\n"
    }
   },
   "outputs": [],
   "source": [
    "feature_selection_columns = np.load(\"Dataset_Files/Feature_Selection/features_dd_psd_list.npy\",\n",
    "                                    allow_pickle=True)"
   ]
  },
  {
   "cell_type": "code",
   "execution_count": 29,
   "metadata": {
    "pycharm": {
     "name": "#%%\n"
    }
   },
   "outputs": [],
   "source": [
    "X_train = np.load(\"Dataset_Files/Training_Test_Sets/X_train_dd_psd_feature_selection.npy\")\n",
    "y_train = np.load(\"Dataset_Files/Training_Test_Sets/y_train_dd_psd.npy\")\n",
    "\n",
    "X_test_classification = np.load(\"Dataset_Files/Training_Test_Sets/X_test_classification_dd_psd_feature_selection.npy\")\n",
    "y_test_classification = np.load(\"Dataset_Files/Training_Test_Sets/y_test_classification.npy\")"
   ]
  },
  {
   "cell_type": "code",
   "execution_count": 30,
   "metadata": {
    "pycharm": {
     "name": "#%%\n"
    }
   },
   "outputs": [
    {
     "name": "stdout",
     "output_type": "stream",
     "text": [
      "X_train shape: (134734, 1044)\n",
      "y_train shape: 134734\n",
      "X_test_classification shape: (30141, 1044)\n",
      "y_test_classification shape: 30141 (Binding Count: 22001, Non-Binding Count: 8140)\n"
     ]
    }
   ],
   "source": [
    "# Useful Information & Sanity Checks\n",
    "print(f\"X_train shape: {X_train.shape}\")\n",
    "print(f\"y_train shape: {y_train.shape[0]}\")\n",
    "\n",
    "print(f\"X_test_classification shape: {X_test_classification.shape}\")\n",
    "print(f\"y_test_classification shape: {y_test_classification.shape[0]} \", end=\"\")\n",
    "print(f\"(Binding Count: {y_test_classification[y_test_classification == 1].shape[0]}, \", end=\"\")\n",
    "print(f\"Non-Binding Count: {y_test_classification[y_test_classification == 0].shape[0]})\")"
   ]
  },
  {
   "cell_type": "markdown",
   "metadata": {
    "pycharm": {
     "name": "#%% md\n"
    }
   },
   "source": [
    "# Helper Functions"
   ]
  },
  {
   "cell_type": "code",
   "execution_count": 31,
   "metadata": {
    "pycharm": {
     "name": "#%%\n"
    }
   },
   "outputs": [],
   "source": [
    "# Called when gridsearch is not used\n",
    "def calculate_metrics_classification(y_true, y_pred):\n",
    "    recall = recall_score(y_true, y_pred)\n",
    "    precision = precision_score(y_true, y_pred)\n",
    "    f1 = f1_score(y_true, y_pred)\n",
    "    accuracy = accuracy_score(y_true, y_pred)\n",
    "    mcc = matthews_corrcoef(y_true, y_pred)\n",
    "\n",
    "    print(f\"F1 score: {f1}\")\n",
    "    print(f\"Matthews Correlation Coefficient: {mcc}\")\n",
    "    print(f\"Accuracy score: {accuracy}\")\n",
    "    print(f\"Recall score: {recall}\")\n",
    "    print(f\"Precision score: {precision}\")\n",
    "\n",
    "\n",
    "# Called when gridsearch is used\n",
    "def best_model_information_classification(model):\n",
    "    print(f\"Best model index: {model.best_index_}\")\n",
    "    print(f\"Best parameters: {model.best_params_}\")\n",
    "    print(f\"Best F1 score: {model.best_score_}\")\n",
    "    print(f\"Matthews Correlation Coefficient: {model.cv_results_['mean_test_mcc'][model.best_index_]}\")\n",
    "    print(f\"Accuracy score: {model.cv_results_['mean_test_accuracy'][model.best_index_]}\")\n",
    "    print(f\"Recall score: {model.cv_results_['mean_test_recall'][model.best_index_]}\")\n",
    "    print(f\"Precision score: {model.cv_results_['mean_test_precision'][model.best_index_]}\")\n",
    "\n",
    "\n",
    "# The common p-value of 0.0099009900990099011 is returned when no model with the shuffled labels produces a better score\n",
    "# https://github.com/scikit-learn/scikit-learn/issues/8379\n",
    "def permutation_test_classification(model, repetitions=100):\n",
    "    score, perm_scores, pvalue = permutation_test_score(model,\n",
    "                                                        X_train,\n",
    "                                                        y_train,\n",
    "                                                        scoring=make_scorer(matthews_corrcoef),\n",
    "                                                        cv=10,\n",
    "                                                        n_permutations=repetitions,\n",
    "                                                        n_jobs=-1,\n",
    "                                                        random_state=42,\n",
    "                                                        )\n",
    "\n",
    "    permutation_test_dataframe = pd.DataFrame(data={\"score\": score,\n",
    "                                                    \"perm_scores\": perm_scores,\n",
    "                                                    \"pvalue\": pvalue}\n",
    "                                              )\n",
    "\n",
    "    fig = px.histogram(permutation_test_dataframe,\n",
    "                       x=\"perm_scores\",\n",
    "                       histnorm='probability density',\n",
    "                       labels={'probability density': 'Probability Density',\n",
    "                               'perm_scores': 'Perm Scores'}\n",
    "                       )\n",
    "    fig.update_xaxes(range=[0, 1], dtick=0.1)\n",
    "    fig.add_vline(x=score,\n",
    "                  line_dash='dash',\n",
    "                  line_color='firebrick',\n",
    "                  annotation_text=f\"Original Data MCC: {round(score, 4)} <br> (P-Value: {round(pvalue, 6)})\",\n",
    "                  annotation_position=\"top right\",\n",
    "                  annotation_font_size=14)\n",
    "    fig.show()\n",
    "\n",
    "\n",
    "def prediction_category_classification(df):\n",
    "    if df['True Class'] == df['Prediction']:\n",
    "        return 'Correct'\n",
    "    elif (df['True Class'] == 0) and (df['Prediction'] == 1):\n",
    "        return 'False Positive'\n",
    "    else:\n",
    "        return 'False Negative'\n",
    "\n",
    "\n",
    "def error_analysis_classification(y_pred):\n",
    "    X_set = pd.DataFrame(X_test_classification, columns=feature_selection_columns)\n",
    "    y_set = pd.Series(y_test_classification, name=\"Activity_Binary\")\n",
    "\n",
    "    # Combining data into one dataframe\n",
    "    y_pred_series = pd.Series(y_pred, index=y_set.index)\n",
    "\n",
    "    error_analysis_dataframe = pd.concat([X_set, y_set], axis=1)\n",
    "    error_analysis_dataframe = pd.concat([error_analysis_dataframe, y_pred_series], axis=1)\n",
    "    error_analysis_dataframe.rename(columns={\"Activity_Binary\": \"True Class\", 0: \"Prediction\"}, inplace=True)\n",
    "    error_analysis_dataframe[\"Is the prediction correct?\"] = error_analysis_dataframe.apply(\n",
    "        prediction_category_classification, axis=1)\n",
    "\n",
    "    # Scaling\n",
    "    scaler = StandardScaler()\n",
    "    scaler.fit(error_analysis_dataframe.loc[:, feature_selection_columns])\n",
    "    scaled_data = scaler.transform(error_analysis_dataframe.loc[:, feature_selection_columns])\n",
    "\n",
    "    # PCA\n",
    "    pca = PCA(n_components=2, random_state=0)\n",
    "    pca.fit(scaled_data)\n",
    "    pca_data = pca.transform(scaled_data)\n",
    "    pca_dataframe_2d = pd.DataFrame(pca_data, columns=[\"PCA_Dimension_1\", \"PCA_Dimension_2\"], index=y_set.index)\n",
    "\n",
    "    # Joining dataframes\n",
    "    error_analysis_dataframe = pd.concat([error_analysis_dataframe, pca_dataframe_2d], axis=1)\n",
    "\n",
    "    # Plot\n",
    "    fig = px.scatter(error_analysis_dataframe, x=\"PCA_Dimension_1\", y=\"PCA_Dimension_2\",\n",
    "                     color=\"Is the prediction correct?\",\n",
    "                     symbol=\"Is the prediction correct?\",\n",
    "                     hover_data=['MW', 'TPSA', 'XLogP', 'NHD', 'NHA', 'NRB', 'True Class', 'Prediction'],\n",
    "                     title=\"Correct Classifications vs Misclassifications\")\n",
    "    fig.show()\n",
    "\n",
    "    # Useful stats\n",
    "    print(\n",
    "        f\"Number of correct classifications: {len(error_analysis_dataframe[error_analysis_dataframe['Is the prediction correct?'] == 'Correct'])}\")\n",
    "    print(\n",
    "        f\"Number of misclassifications: {len(error_analysis_dataframe[error_analysis_dataframe['Is the prediction correct?'] != 'Correct'])}\")\n",
    "    print(\n",
    "        f\"False Positives (True class:0, Prediction:1): {len(error_analysis_dataframe[(error_analysis_dataframe['True Class'] == 0) & (error_analysis_dataframe['Prediction'] == 1)])}\")\n",
    "    print(\n",
    "        f\"False Negatives (True class:1, Prediction:0): {len(error_analysis_dataframe[(error_analysis_dataframe['True Class'] == 1) & (error_analysis_dataframe['Prediction'] == 0)])}\")\n",
    "\n",
    "    return error_analysis_dataframe.sort_values('Is the prediction correct?')\n",
    "\n",
    "\n",
    "# def model_weights_classification(model, classification_group):\n",
    "#     if classification_group == 'cd':\n",
    "#         return eli5.show_weights(model,\n",
    "#                                  feature_names=X_train_cd.columns,\n",
    "#                                  target_names={1:\"BBB+\",0:\"BBB-\"})\n",
    "#     elif classification_group == 'cd_se_i':\n",
    "#         return eli5.show_weights(model,\n",
    "#                                  feature_names=X_train_cd_se_i.loc[:,feature_selection_support].columns,\n",
    "#                                  target_names={1:\"BBB+\",0:\"BBB-\"})\n",
    "#     else:\n",
    "#         raise ValueError(\"Invalid group. Please choose 'cd' or 'cd_se_i'\")\n",
    "\n",
    "# def get_lime_explainer_classification(classification_group):\n",
    "#     if classification_group == 'cd':\n",
    "#         X_train = X_train_cd\n",
    "#         y_train = y_train_cd\n",
    "#     elif classification_group == 'cd_se_i':\n",
    "#         X_train = X_train_cd_se_i.loc[:,feature_selection_support]\n",
    "#         y_train = y_train_cd_se_i\n",
    "#     else:\n",
    "#         raise ValueError(\"Invalid group. Please choose 'cd' or 'cd_se_i'\")\n",
    "#\n",
    "#     explainer = LimeTabularExplainer(training_data=np.array(X_train),\n",
    "#                                      mode='classification',\n",
    "#                                      feature_names=list(X_train.columns),\n",
    "#                                      training_labels=y_train,\n",
    "#                                      class_names=['BBB-','BBB+'],\n",
    "#                                      random_state=42)\n",
    "#     return explainer\n",
    "\n",
    "grid_search_scoring_dict = {\n",
    "    'precision': make_scorer(precision_score),\n",
    "    'recall': make_scorer(recall_score),\n",
    "    'f1': make_scorer(f1_score),\n",
    "    'accuracy': make_scorer(accuracy_score),\n",
    "    'mcc': make_scorer(matthews_corrcoef),\n",
    "}"
   ]
  },
  {
   "cell_type": "markdown",
   "metadata": {
    "pycharm": {
     "name": "#%% md\n"
    }
   },
   "source": [
    "# Model Training & Testing"
   ]
  },
  {
   "cell_type": "code",
   "execution_count": 32,
   "outputs": [],
   "source": [
    "def on_step(optim_result):\n",
    "    global index\n",
    "    print(f\"Iteration Completed: {index}:{model.total_iterations}\")\n",
    "    index += 1"
   ],
   "metadata": {
    "collapsed": false,
    "pycharm": {
     "name": "#%%\n"
    }
   }
  },
  {
   "cell_type": "markdown",
   "metadata": {
    "pycharm": {
     "name": "#%% md\n"
    }
   },
   "source": [
    "## Dummy Classifier (DC)"
   ]
  },
  {
   "cell_type": "code",
   "execution_count": 33,
   "metadata": {
    "pycharm": {
     "name": "#%%\n"
    }
   },
   "outputs": [
    {
     "data": {
      "text/plain": "{'memory': None,\n 'steps': [('scale', StandardScaler()),\n  ('model', DummyClassifier(random_state=42))],\n 'verbose': False,\n 'scale': StandardScaler(),\n 'model': DummyClassifier(random_state=42),\n 'scale__copy': True,\n 'scale__with_mean': True,\n 'scale__with_std': True,\n 'model__constant': None,\n 'model__random_state': 42,\n 'model__strategy': 'prior'}"
     },
     "execution_count": 33,
     "metadata": {},
     "output_type": "execute_result"
    }
   ],
   "source": [
    "dummy_classifier = Pipeline(\n",
    "    [\n",
    "        ('scale', StandardScaler()),\n",
    "        ('model', DummyClassifier(random_state=42))\n",
    "    ]\n",
    ")\n",
    "dummy_classifier.get_params()"
   ]
  },
  {
   "cell_type": "markdown",
   "metadata": {
    "pycharm": {
     "name": "#%% md\n"
    }
   },
   "source": [
    "### Training"
   ]
  },
  {
   "cell_type": "code",
   "execution_count": 34,
   "metadata": {
    "pycharm": {
     "name": "#%%\n"
    }
   },
   "outputs": [
    {
     "name": "stdout",
     "output_type": "stream",
     "text": [
      "F1 score: 0.8459466288646107\n",
      "Matthews Correlation Coefficient: 0.0\n",
      "Accuracy score: 0.7330221028099811\n",
      "Recall score: 1.0\n",
      "Precision score: 0.7330221028099811\n"
     ]
    },
    {
     "data": {
      "text/plain": "['Dataset_Files/Classification_Models/dc.joblib']"
     },
     "execution_count": 34,
     "metadata": {},
     "output_type": "execute_result"
    }
   ],
   "source": [
    "dummy_classifier.fit(X_train, y_train)\n",
    "\n",
    "y_train_pred = dummy_classifier.predict(X_train)\n",
    "calculate_metrics_classification(y_train, y_train_pred)\n",
    "\n",
    "# Save Model\n",
    "dump(dummy_classifier, 'Dataset_Files/Classification_Models/dc.joblib')"
   ]
  },
  {
   "cell_type": "markdown",
   "metadata": {
    "pycharm": {
     "name": "#%% md\n"
    }
   },
   "source": [
    "### Testing"
   ]
  },
  {
   "cell_type": "code",
   "execution_count": 35,
   "metadata": {
    "pycharm": {
     "name": "#%%\n"
    }
   },
   "outputs": [
    {
     "name": "stdout",
     "output_type": "stream",
     "text": [
      "F1 score: 0.8438878447316942\n",
      "Matthews Correlation Coefficient: 0.0\n",
      "Accuracy score: 0.729935967618858\n",
      "Recall score: 1.0\n",
      "Precision score: 0.729935967618858\n"
     ]
    }
   ],
   "source": [
    "# Load Model\n",
    "dummy_classifier = load('Dataset_Files/Classification_Models/dc.joblib')\n",
    "\n",
    "y_test_pred = dummy_classifier.predict(X_test_classification)\n",
    "calculate_metrics_classification(y_test_classification, y_test_pred)"
   ]
  },
  {
   "cell_type": "markdown",
   "metadata": {
    "pycharm": {
     "name": "#%% md\n"
    }
   },
   "source": [
    "## Logistic Regression (LR)"
   ]
  },
  {
   "cell_type": "code",
   "execution_count": 11,
   "metadata": {
    "pycharm": {
     "name": "#%%\n"
    }
   },
   "outputs": [
    {
     "data": {
      "text/plain": [
       "{'memory': None,\n",
       " 'steps': [('scale', StandardScaler()),\n",
       "  ('model', LogisticRegression(random_state=42))],\n",
       " 'verbose': False,\n",
       " 'scale': StandardScaler(),\n",
       " 'model': LogisticRegression(random_state=42),\n",
       " 'scale__copy': True,\n",
       " 'scale__with_mean': True,\n",
       " 'scale__with_std': True,\n",
       " 'model__C': 1.0,\n",
       " 'model__class_weight': None,\n",
       " 'model__dual': False,\n",
       " 'model__fit_intercept': True,\n",
       " 'model__intercept_scaling': 1,\n",
       " 'model__l1_ratio': None,\n",
       " 'model__max_iter': 100,\n",
       " 'model__multi_class': 'auto',\n",
       " 'model__n_jobs': None,\n",
       " 'model__penalty': 'l2',\n",
       " 'model__random_state': 42,\n",
       " 'model__solver': 'lbfgs',\n",
       " 'model__tol': 0.0001,\n",
       " 'model__verbose': 0,\n",
       " 'model__warm_start': False}"
      ]
     },
     "execution_count": 11,
     "metadata": {},
     "output_type": "execute_result"
    }
   ],
   "source": [
    "pipe = Pipeline(\n",
    "    [\n",
    "        ('scale', StandardScaler()),\n",
    "        ('model', LogisticRegression(random_state=42))\n",
    "    ]\n",
    ")\n",
    "pipe.get_params()"
   ]
  },
  {
   "cell_type": "code",
   "execution_count": 12,
   "metadata": {
    "pycharm": {
     "name": "#%%\n"
    }
   },
   "outputs": [],
   "source": [
    "model = BayesSearchCV(estimator=pipe,\n",
    "                      search_spaces=[\n",
    "                          {'model__C': Real(1e-6, 1e+2, prior='log-uniform'),\n",
    "                           'model__solver': Categorical(['newton-cg','lbfgs','sag']),\n",
    "                           'model__penalty': Categorical(['none', 'l2']),\n",
    "                           'model__max_iter': Integer(50, 5000),\n",
    "                           'model__class_weight': Categorical([None, \"balanced\"])},\n",
    "                          {'model__C': Real(1e-6, 1e+2, prior='log-uniform'),\n",
    "                           'model__solver': Categorical(['liblinear']),\n",
    "                           'model__penalty': Categorical(['l2', 'l1']),\n",
    "                           'model__max_iter': Integer(50, 5000),\n",
    "                           'model__class_weight': Categorical([None, \"balanced\"])},\n",
    "                          {'model__C': Real(1e-6, 1e+2, prior='log-uniform'),\n",
    "                           'model__l1_ratio': Real(0,1),\n",
    "                           'model__solver': Categorical(['saga']),\n",
    "                           'model__penalty': Categorical(['none', 'l2', 'l1', 'elasticnet']),\n",
    "                           'model__max_iter': Integer(50, 5000),\n",
    "                           'model__class_weight': Categorical([None, \"balanced\"])},\n",
    "                      ],\n",
    "                      scoring='f1',\n",
    "                      cv=5,\n",
    "                      error_score=np.nan,\n",
    "                      n_jobs=-1,\n",
    "                      pre_dispatch='2*n_jobs',\n",
    "                      random_state=42)"
   ]
  },
  {
   "cell_type": "markdown",
   "metadata": {
    "pycharm": {
     "name": "#%% md\n"
    }
   },
   "source": [
    "### Training"
   ]
  },
  {
   "cell_type": "code",
   "execution_count": null,
   "metadata": {
    "pycharm": {
     "is_executing": true,
     "name": "#%%\n"
    }
   },
   "outputs": [
    {
     "name": "stdout",
     "output_type": "stream",
     "text": [
      "Fitting 10 folds for each of 400 candidates, totalling 4000 fits\n"
     ]
    }
   ],
   "source": [
    "index = 1\n",
    "model.fit(X_train, y_train)\n",
    "\n",
    "optimised_lr = model.best_estimator_\n",
    "best_model_information_classification(model)\n",
    "\n",
    "# Save Model & CV Results\n",
    "dump(optimised_lr, 'Classification_Models/optimised_lr.joblib')\n",
    "np.save(\"Dataset_Files/Classification_Models/optimised_lr_cv_results\", model.cv_results_)"
   ]
  },
  {
   "cell_type": "code",
   "execution_count": null,
   "metadata": {
    "pycharm": {
     "name": "#%%\n"
    }
   },
   "outputs": [],
   "source": [
    "logistic_regression_grid_search_dataframe = pd.DataFrame(\n",
    "    np.load(\"Dataset_Files/Classification_Models/optimised_lr_cv_results\").tolist())\n",
    "logistic_regression_grid_search_dataframe.sort_values(by=[\"rank_test_f1\"], inplace=True)\n",
    "logistic_regression_grid_search_dataframe"
   ]
  },
  {
   "cell_type": "markdown",
   "metadata": {
    "pycharm": {
     "name": "#%% md\n"
    }
   },
   "source": [
    "### Permutation Testing"
   ]
  },
  {
   "cell_type": "code",
   "execution_count": null,
   "metadata": {
    "pycharm": {
     "name": "#%%\n"
    }
   },
   "outputs": [],
   "source": [
    "# Load Model\n",
    "optimised_lr = load('Dataset_Files/Classification_Models/optimised_lr.joblib')\n",
    "permutation_test_classification(optimised_lr)"
   ]
  },
  {
   "cell_type": "markdown",
   "metadata": {
    "pycharm": {
     "name": "#%% md\n"
    }
   },
   "source": [
    "### Testing"
   ]
  },
  {
   "cell_type": "code",
   "execution_count": null,
   "outputs": [],
   "source": [
    "# Load Model\n",
    "optimised_lr = load('Dataset_Files/Classification_Models/optimised_lr.joblib')\n",
    "\n",
    "y_test_pred = optimised_lr.predict(X_test_classification)\n",
    "calculate_metrics_classification(y_test_classification, y_test_pred)"
   ],
   "metadata": {
    "collapsed": false,
    "pycharm": {
     "name": "#%%\n"
    }
   }
  },
  {
   "cell_type": "markdown",
   "source": [
    "## Support Vector Classification (SVC)"
   ],
   "metadata": {
    "collapsed": false,
    "pycharm": {
     "name": "#%% md\n"
    }
   }
  },
  {
   "cell_type": "code",
   "execution_count": null,
   "outputs": [],
   "source": [
    "pipe = Pipeline(\n",
    "    [\n",
    "        ('scale', StandardScaler()),\n",
    "        ('model', SVC(random_state=42))\n",
    "    ]\n",
    ")\n",
    "pipe.get_params()"
   ],
   "metadata": {
    "collapsed": false,
    "pycharm": {
     "name": "#%%\n"
    }
   }
  },
  {
   "cell_type": "code",
   "execution_count": null,
   "outputs": [],
   "source": [
    "model = BayesSearchCV(estimator=pipe,\n",
    "                      search_spaces=\n",
    "                      {'model__C': Real(1e-6, 1e+2, prior='log-uniform'),\n",
    "                       'model__kernel': Categorical(['linear', 'poly', 'rbf', 'sigmoid', 'precomputed']),\n",
    "                       'model__degree': Integer(2, 8),\n",
    "                       'model__gamma': Categorical(['scale', 'auto']),\n",
    "                       'model__class_weight': Categorical([None, \"balanced\"])},\n",
    "                      scoring='f1',\n",
    "                      cv=5,\n",
    "                      error_score=np.nan,\n",
    "                      n_jobs=-1,\n",
    "                      pre_dispatch='2*n_jobs',\n",
    "                      random_state=42)"
   ],
   "metadata": {
    "collapsed": false,
    "pycharm": {
     "name": "#%%\n"
    }
   }
  },
  {
   "cell_type": "markdown",
   "source": [
    "### Training"
   ],
   "metadata": {
    "collapsed": false,
    "pycharm": {
     "name": "#%% md\n"
    }
   }
  },
  {
   "cell_type": "code",
   "execution_count": null,
   "outputs": [],
   "source": [
    "index = 1\n",
    "model.fit(X_train, y_train)\n",
    "\n",
    "optimised_svc = model.best_estimator_\n",
    "best_model_information_classification(model)\n",
    "\n",
    "# Save Model & CV Results\n",
    "dump(optimised_svc, 'Classification_Models/optimised_svc.joblib')\n",
    "np.save(\"Dataset_Files/Classification_Models/optimised_svc_cv_results\", model.cv_results_)"
   ],
   "metadata": {
    "collapsed": false,
    "pycharm": {
     "name": "#%%\n"
    }
   }
  },
  {
   "cell_type": "code",
   "execution_count": null,
   "outputs": [],
   "source": [
    "svc_grid_search_dataframe = pd.DataFrame(\n",
    "    np.load(\"Dataset_Files/Classification_Models/optimised_svc_cv_results\").tolist())\n",
    "svc_grid_search_dataframe.sort_values(by=[\"rank_test_f1\"], inplace=True)\n",
    "svc_grid_search_dataframe"
   ],
   "metadata": {
    "collapsed": false,
    "pycharm": {
     "name": "#%%\n"
    }
   }
  },
  {
   "cell_type": "markdown",
   "source": [
    "### Permutation Testing"
   ],
   "metadata": {
    "collapsed": false,
    "pycharm": {
     "name": "#%% md\n"
    }
   }
  },
  {
   "cell_type": "code",
   "execution_count": null,
   "outputs": [],
   "source": [
    "# Load Model\n",
    "optimised_svc = load('Dataset_Files/Classification_Models/optimised_svc.joblib')\n",
    "permutation_test_classification(optimised_svc)"
   ],
   "metadata": {
    "collapsed": false,
    "pycharm": {
     "name": "#%%\n"
    }
   }
  },
  {
   "cell_type": "markdown",
   "source": [
    "### Testing"
   ],
   "metadata": {
    "collapsed": false,
    "pycharm": {
     "name": "#%% md\n"
    }
   }
  },
  {
   "cell_type": "code",
   "execution_count": null,
   "outputs": [],
   "source": [
    "# Load Model\n",
    "optimised_svc = load('Dataset_Files/Classification_Models/optimised_svc.joblib')\n",
    "\n",
    "y_test_pred = optimised_svc.predict(X_test_classification)\n",
    "calculate_metrics_classification(y_test_classification, y_test_pred)"
   ],
   "metadata": {
    "collapsed": false,
    "pycharm": {
     "name": "#%%\n"
    }
   }
  },
  {
   "cell_type": "markdown",
   "source": [
    "## K-Nearest Neighbors Classifier (KNNC)"
   ],
   "metadata": {
    "collapsed": false,
    "pycharm": {
     "name": "#%% md\n"
    }
   }
  },
  {
   "cell_type": "code",
   "execution_count": null,
   "outputs": [],
   "source": [
    "pipe = Pipeline(\n",
    "    [\n",
    "        ('scale', StandardScaler()),\n",
    "        ('model', KNeighborsClassifier())\n",
    "    ]\n",
    ")\n",
    "pipe.get_params()"
   ],
   "metadata": {
    "collapsed": false,
    "pycharm": {
     "name": "#%%\n"
    }
   }
  },
  {
   "cell_type": "code",
   "execution_count": null,
   "outputs": [],
   "source": [
    "model = BayesSearchCV(estimator=pipe,\n",
    "                      search_spaces=\n",
    "                      {'model__n_neighbors': Integer(4, 20),\n",
    "                       'model__weights': Categorical(['uniform', 'distance']),\n",
    "                       'model__algorithm': Categorical(['auto', 'ball_tree', 'kd_tree', 'brute']),\n",
    "                       },\n",
    "                      scoring='f1',\n",
    "                      cv=5,\n",
    "                      error_score=np.nan,\n",
    "                      n_jobs=-1,\n",
    "                      pre_dispatch='2*n_jobs',\n",
    "                      random_state=42)"
   ],
   "metadata": {
    "collapsed": false,
    "pycharm": {
     "name": "#%%\n"
    }
   }
  },
  {
   "cell_type": "markdown",
   "source": [
    "### Training"
   ],
   "metadata": {
    "collapsed": false,
    "pycharm": {
     "name": "#%% md\n"
    }
   }
  },
  {
   "cell_type": "code",
   "execution_count": null,
   "outputs": [],
   "source": [
    "index = 1\n",
    "model.fit(X_train, y_train)\n",
    "\n",
    "optimised_knnc = model.best_estimator_\n",
    "best_model_information_classification(model)\n",
    "\n",
    "# Save Model & CV Results\n",
    "dump(optimised_knnc, 'Classification_Models/optimised_knnc.joblib')\n",
    "np.save(\"Dataset_Files/Classification_Models/optimised_knnc_cv_results\", model.cv_results_)"
   ],
   "metadata": {
    "collapsed": false,
    "pycharm": {
     "name": "#%%\n"
    }
   }
  },
  {
   "cell_type": "code",
   "execution_count": null,
   "outputs": [],
   "source": [
    "knnc_grid_search_dataframe = pd.DataFrame(\n",
    "    np.load(\"Dataset_Files/Classification_Models/optimised_knnc_cv_results\").tolist())\n",
    "knnc_grid_search_dataframe.sort_values(by=[\"rank_test_f1\"], inplace=True)\n",
    "knnc_grid_search_dataframe"
   ],
   "metadata": {
    "collapsed": false,
    "pycharm": {
     "name": "#%%\n"
    }
   }
  },
  {
   "cell_type": "markdown",
   "source": [
    "### Permutation Testing"
   ],
   "metadata": {
    "collapsed": false,
    "pycharm": {
     "name": "#%% md\n"
    }
   }
  },
  {
   "cell_type": "code",
   "execution_count": null,
   "outputs": [],
   "source": [
    "# Load Model\n",
    "optimised_knnc = load('Dataset_Files/Classification_Models/optimised_knnc.joblib')\n",
    "permutation_test_classification(optimised_knnc)"
   ],
   "metadata": {
    "collapsed": false,
    "pycharm": {
     "name": "#%%\n"
    }
   }
  },
  {
   "cell_type": "markdown",
   "source": [
    "### Testing"
   ],
   "metadata": {
    "collapsed": false,
    "pycharm": {
     "name": "#%% md\n"
    }
   }
  },
  {
   "cell_type": "code",
   "execution_count": null,
   "outputs": [],
   "source": [
    "# Load Model\n",
    "optimised_knnc = load('Dataset_Files/Classification_Models/optimised_knnc.joblib')\n",
    "\n",
    "y_test_pred = optimised_knnc.predict(X_test_classification)\n",
    "calculate_metrics_classification(y_test_classification, y_test_pred)"
   ],
   "metadata": {
    "collapsed": false,
    "pycharm": {
     "name": "#%%\n"
    }
   }
  },
  {
   "cell_type": "markdown",
   "source": [
    "## Decision Tree Classifier (DTC)"
   ],
   "metadata": {
    "collapsed": false,
    "pycharm": {
     "name": "#%% md\n"
    }
   }
  },
  {
   "cell_type": "code",
   "execution_count": null,
   "outputs": [],
   "source": [
    "pipe = Pipeline(\n",
    "    [\n",
    "        ('scale', StandardScaler()),\n",
    "        ('model', DecisionTreeClassifier(random_state=42))\n",
    "    ]\n",
    ")\n",
    "pipe.get_params()"
   ],
   "metadata": {
    "collapsed": false,
    "pycharm": {
     "name": "#%%\n"
    }
   }
  },
  {
   "cell_type": "code",
   "execution_count": null,
   "outputs": [],
   "source": [
    "model = BayesSearchCV(estimator=pipe,\n",
    "                      search_spaces=\n",
    "                      {'model__criterion': Categorical(['gini', 'entropy']),\n",
    "                       'model__splitter': Categorical(['best', 'random']),\n",
    "                       'model__max_features': Categorical([None, 'sqrt', 'log2']),\n",
    "                       'model__class_weight': Categorical([None, 'balanced'])\n",
    "                       },\n",
    "                      scoring='f1',\n",
    "                      cv=5,\n",
    "                      error_score=np.nan,\n",
    "                      n_jobs=-1,\n",
    "                      pre_dispatch='2*n_jobs',\n",
    "                      random_state=42)"
   ],
   "metadata": {
    "collapsed": false,
    "pycharm": {
     "name": "#%%\n"
    }
   }
  },
  {
   "cell_type": "markdown",
   "source": [
    "### Training"
   ],
   "metadata": {
    "collapsed": false,
    "pycharm": {
     "name": "#%% md\n"
    }
   }
  },
  {
   "cell_type": "code",
   "execution_count": null,
   "outputs": [],
   "source": [
    "index = 1\n",
    "model.fit(X_train, y_train)\n",
    "\n",
    "optimised_dtc = model.best_estimator_\n",
    "best_model_information_classification(model)\n",
    "\n",
    "# Save Model & CV Results\n",
    "dump(optimised_dtc, 'Classification_Models/optimised_dtc.joblib')\n",
    "np.save(\"Dataset_Files/Classification_Models/optimised_dtc_cv_results\", model.cv_results_)"
   ],
   "metadata": {
    "collapsed": false,
    "pycharm": {
     "name": "#%%\n"
    }
   }
  },
  {
   "cell_type": "code",
   "execution_count": null,
   "outputs": [],
   "source": [
    "dtc_grid_search_dataframe = pd.DataFrame(\n",
    "    np.load(\"Dataset_Files/Classification_Models/optimised_dtc_cv_results\").tolist())\n",
    "dtc_grid_search_dataframe.sort_values(by=[\"rank_test_f1\"], inplace=True)\n",
    "dtc_grid_search_dataframe"
   ],
   "metadata": {
    "collapsed": false,
    "pycharm": {
     "name": "#%%\n"
    }
   }
  },
  {
   "cell_type": "markdown",
   "source": [
    "### Permutation Testing"
   ],
   "metadata": {
    "collapsed": false,
    "pycharm": {
     "name": "#%% md\n"
    }
   }
  },
  {
   "cell_type": "code",
   "execution_count": null,
   "outputs": [],
   "source": [
    "# Load Model\n",
    "optimised_dtc = load('Dataset_Files/Classification_Models/optimised_dtc.joblib')\n",
    "permutation_test_classification(optimised_dtc)"
   ],
   "metadata": {
    "collapsed": false,
    "pycharm": {
     "name": "#%%\n"
    }
   }
  },
  {
   "cell_type": "markdown",
   "source": [
    "### Testing"
   ],
   "metadata": {
    "collapsed": false,
    "pycharm": {
     "name": "#%% md\n"
    }
   }
  },
  {
   "cell_type": "code",
   "execution_count": null,
   "outputs": [],
   "source": [
    "# Load Model\n",
    "optimised_dtc = load('Dataset_Files/Classification_Models/optimised_dtc.joblib')\n",
    "\n",
    "y_test_pred = optimised_dtc.predict(X_test_classification)\n",
    "calculate_metrics_classification(y_test_classification, y_test_pred)"
   ],
   "metadata": {
    "collapsed": false,
    "pycharm": {
     "name": "#%%\n"
    }
   }
  },
  {
   "cell_type": "markdown",
   "metadata": {
    "pycharm": {
     "name": "#%% md\n"
    }
   },
   "source": [
    "## Random Forest Classifier (RFC)"
   ]
  },
  {
   "cell_type": "code",
   "execution_count": 5,
   "metadata": {
    "pycharm": {
     "name": "#%%\n"
    }
   },
   "outputs": [
    {
     "data": {
      "text/plain": [
       "{'memory': None,\n",
       " 'steps': [('scale', StandardScaler()),\n",
       "  ('model', RandomForestClassifier(random_state=42))],\n",
       " 'verbose': False,\n",
       " 'scale': StandardScaler(),\n",
       " 'model': RandomForestClassifier(random_state=42),\n",
       " 'scale__copy': True,\n",
       " 'scale__with_mean': True,\n",
       " 'scale__with_std': True,\n",
       " 'model__bootstrap': True,\n",
       " 'model__ccp_alpha': 0.0,\n",
       " 'model__class_weight': None,\n",
       " 'model__criterion': 'gini',\n",
       " 'model__max_depth': None,\n",
       " 'model__max_features': 'sqrt',\n",
       " 'model__max_leaf_nodes': None,\n",
       " 'model__max_samples': None,\n",
       " 'model__min_impurity_decrease': 0.0,\n",
       " 'model__min_samples_leaf': 1,\n",
       " 'model__min_samples_split': 2,\n",
       " 'model__min_weight_fraction_leaf': 0.0,\n",
       " 'model__n_estimators': 100,\n",
       " 'model__n_jobs': None,\n",
       " 'model__oob_score': False,\n",
       " 'model__random_state': 42,\n",
       " 'model__verbose': 0,\n",
       " 'model__warm_start': False}"
      ]
     },
     "execution_count": 5,
     "metadata": {},
     "output_type": "execute_result"
    }
   ],
   "source": [
    "pipe = Pipeline(\n",
    "    [\n",
    "        ('scale', StandardScaler()),\n",
    "        ('model', RandomForestClassifier(random_state=42))\n",
    "    ]\n",
    ")\n",
    "pipe.get_params()"
   ]
  },
  {
   "cell_type": "code",
   "execution_count": 6,
   "metadata": {
    "pycharm": {
     "name": "#%%\n"
    }
   },
   "outputs": [],
   "source": [
    "model = BayesSearchCV(estimator=pipe,\n",
    "                      search_spaces=\n",
    "                      {'model__n_estimators': Integer(100, 800),\n",
    "                       'model__criterion': Categorical(['gini', 'entropy', 'log_loss']),\n",
    "                       'model__max_features': Categorical([None, 'sqrt', 'log2']),\n",
    "                       'model__class_weight': Categorical([None, 'balanced', 'balanced_subsample'])\n",
    "                       },\n",
    "                      scoring='f1',\n",
    "                      cv=5,\n",
    "                      error_score=np.nan,\n",
    "                      n_jobs=-1,\n",
    "                      pre_dispatch='2*n_jobs',\n",
    "                      random_state=42)"
   ]
  },
  {
   "cell_type": "markdown",
   "source": [
    "### Training"
   ],
   "metadata": {
    "collapsed": false,
    "pycharm": {
     "name": "#%% md\n"
    }
   }
  },
  {
   "cell_type": "code",
   "execution_count": null,
   "metadata": {
    "pycharm": {
     "is_executing": true,
     "name": "#%%\n"
    }
   },
   "outputs": [
    {
     "name": "stdout",
     "output_type": "stream",
     "text": [
      "Fitting 10 folds for each of 135 candidates, totalling 1350 fits\n"
     ]
    }
   ],
   "source": [
    "index = 1\n",
    "model.fit(X_train, y_train)\n",
    "\n",
    "optimised_rfc = model.best_estimator_\n",
    "best_model_information_classification(model)\n",
    "\n",
    "# Save Model\n",
    "dump(optimised_rfc, 'Classification_Models/optimised_rfc.joblib')\n",
    "np.save(\"Dataset_Files/Classification_Models/optimised_rfc_cv_results\", model.cv_results_)"
   ]
  },
  {
   "cell_type": "code",
   "execution_count": null,
   "metadata": {
    "pycharm": {
     "name": "#%%\n"
    }
   },
   "outputs": [],
   "source": [
    "rfc_grid_search_dataframe = pd.DataFrame(\n",
    "    np.load(\"Dataset_Files/Classification_Models/optimised_rfc_cv_results\").tolist())\n",
    "rfc_grid_search_dataframe.sort_values(by=[\"rank_test_f1\"], inplace=True)\n",
    "rfc_grid_search_dataframe"
   ]
  },
  {
   "cell_type": "markdown",
   "source": [
    "### Permutation Testing"
   ],
   "metadata": {
    "collapsed": false,
    "pycharm": {
     "name": "#%% md\n"
    }
   }
  },
  {
   "cell_type": "code",
   "execution_count": null,
   "outputs": [],
   "source": [
    "# Load Model\n",
    "optimised_rfc = load('Dataset_Files/Classification_Models/optimised_rfc.joblib')\n",
    "permutation_test_classification(optimised_rfc)"
   ],
   "metadata": {
    "collapsed": false,
    "pycharm": {
     "name": "#%%\n"
    }
   }
  },
  {
   "cell_type": "markdown",
   "source": [
    "### Testing"
   ],
   "metadata": {
    "collapsed": false,
    "pycharm": {
     "name": "#%% md\n"
    }
   }
  },
  {
   "cell_type": "code",
   "execution_count": null,
   "outputs": [],
   "source": [
    "# Load Model\n",
    "optimised_rfc = load('Dataset_Files/Classification_Models/optimised_rfc.joblib')\n",
    "\n",
    "y_test_pred = optimised_rfc.predict(X_test_classification)\n",
    "calculate_metrics_classification(y_test_classification, y_test_pred)"
   ],
   "metadata": {
    "collapsed": false,
    "pycharm": {
     "name": "#%%\n"
    }
   }
  },
  {
   "cell_type": "markdown",
   "source": [
    "## Stochastic Gradient Descent Classifier (SGDC)"
   ],
   "metadata": {
    "collapsed": false,
    "pycharm": {
     "name": "#%% md\n"
    }
   }
  },
  {
   "cell_type": "code",
   "execution_count": 8,
   "outputs": [
    {
     "data": {
      "text/plain": "{'memory': None,\n 'steps': [('scale', StandardScaler()),\n  ('model', SGDClassifier(random_state=42))],\n 'verbose': False,\n 'scale': StandardScaler(),\n 'model': SGDClassifier(random_state=42),\n 'scale__copy': True,\n 'scale__with_mean': True,\n 'scale__with_std': True,\n 'model__alpha': 0.0001,\n 'model__average': False,\n 'model__class_weight': None,\n 'model__early_stopping': False,\n 'model__epsilon': 0.1,\n 'model__eta0': 0.0,\n 'model__fit_intercept': True,\n 'model__l1_ratio': 0.15,\n 'model__learning_rate': 'optimal',\n 'model__loss': 'hinge',\n 'model__max_iter': 1000,\n 'model__n_iter_no_change': 5,\n 'model__n_jobs': None,\n 'model__penalty': 'l2',\n 'model__power_t': 0.5,\n 'model__random_state': 42,\n 'model__shuffle': True,\n 'model__tol': 0.001,\n 'model__validation_fraction': 0.1,\n 'model__verbose': 0,\n 'model__warm_start': False}"
     },
     "execution_count": 8,
     "metadata": {},
     "output_type": "execute_result"
    }
   ],
   "source": [
    "pipe = Pipeline(\n",
    "    [\n",
    "        ('scale', StandardScaler()),\n",
    "        ('model', SGDClassifier(random_state=42))\n",
    "    ]\n",
    ")\n",
    "pipe.get_params()"
   ],
   "metadata": {
    "collapsed": false,
    "pycharm": {
     "name": "#%%\n"
    }
   }
  },
  {
   "cell_type": "code",
   "execution_count": null,
   "outputs": [],
   "source": [
    "model = BayesSearchCV(estimator=pipe,\n",
    "                      search_spaces=\n",
    "                      {'model__loss': Categorical(\n",
    "                          ['hinge', 'log_loss', 'modified_huber', 'squared_hinge', 'perceptron', 'squared_error',\n",
    "                           'huber', 'epsilon_insensitive', 'squared_epsilon_insensitive']),\n",
    "                       'model__penalty': Categorical(['l2', 'l1', 'elasticnet']),\n",
    "                       'model__alpha': Real(1e-6, 1e-1, prior='log-uniform'),\n",
    "                       'model__learning_rate': Categorical(['constant', 'optimal', 'invscaling', 'adaptive']),\n",
    "                       'model__class_weight': Categorical([None, 'balanced'])\n",
    "                       },\n",
    "                      scoring='f1',\n",
    "                      cv=5,\n",
    "                      error_score=np.nan,\n",
    "                      n_jobs=-1,\n",
    "                      pre_dispatch='2*n_jobs',\n",
    "                      random_state=42)"
   ],
   "metadata": {
    "collapsed": false,
    "pycharm": {
     "name": "#%%\n"
    }
   }
  },
  {
   "cell_type": "markdown",
   "source": [
    "### Training"
   ],
   "metadata": {
    "collapsed": false,
    "pycharm": {
     "name": "#%% md\n"
    }
   }
  },
  {
   "cell_type": "code",
   "execution_count": null,
   "outputs": [],
   "source": [
    "index = 1\n",
    "model.fit(X_train, y_train)\n",
    "\n",
    "optimised_sgdc = model.best_estimator_\n",
    "best_model_information_classification(model)\n",
    "\n",
    "# Save Model\n",
    "dump(optimised_sgdc, 'Classification_Models/optimised_sgdc.joblib')\n",
    "np.save(\"Dataset_Files/Classification_Models/optimised_sgdc_cv_results\", model.cv_results_)"
   ],
   "metadata": {
    "collapsed": false,
    "pycharm": {
     "name": "#%%\n"
    }
   }
  },
  {
   "cell_type": "code",
   "execution_count": null,
   "outputs": [],
   "source": [
    "sgdc_grid_search_dataframe = pd.DataFrame(\n",
    "    np.load(\"Dataset_Files/Classification_Models/optimised_sgdc_cv_results\").tolist())\n",
    "sgdc_grid_search_dataframe.sort_values(by=[\"rank_test_f1\"], inplace=True)\n",
    "sgdc_grid_search_dataframe"
   ],
   "metadata": {
    "collapsed": false,
    "pycharm": {
     "name": "#%%\n"
    }
   }
  },
  {
   "cell_type": "markdown",
   "source": [
    "### Permutation Testing"
   ],
   "metadata": {
    "collapsed": false,
    "pycharm": {
     "name": "#%% md\n"
    }
   }
  },
  {
   "cell_type": "code",
   "execution_count": null,
   "outputs": [],
   "source": [
    "# Load Model\n",
    "optimised_sgdc = load('Dataset_Files/Classification_Models/optimised_sgdc.joblib')\n",
    "permutation_test_classification(optimised_sgdc)"
   ],
   "metadata": {
    "collapsed": false,
    "pycharm": {
     "name": "#%%\n"
    }
   }
  },
  {
   "cell_type": "markdown",
   "source": [
    "### Testing"
   ],
   "metadata": {
    "collapsed": false,
    "pycharm": {
     "name": "#%% md\n"
    }
   }
  },
  {
   "cell_type": "code",
   "execution_count": null,
   "outputs": [],
   "source": [
    "# Load Model\n",
    "optimised_sgdc = load('Dataset_Files/Classification_Models/optimised_sgdc.joblib')\n",
    "\n",
    "y_test_pred = optimised_sgdc.predict(X_test_classification)\n",
    "calculate_metrics_classification(y_test_classification, y_test_pred)"
   ],
   "metadata": {
    "collapsed": false,
    "pycharm": {
     "name": "#%%\n"
    }
   }
  }
 ],
 "metadata": {
  "kernelspec": {
   "display_name": "AlphaFold Project Environment",
   "language": "python",
   "name": "alphafold_dataset_drug_binding_prediction"
  },
  "language_info": {
   "codemirror_mode": {
    "name": "ipython",
    "version": 3
   },
   "file_extension": ".py",
   "mimetype": "text/x-python",
   "name": "python",
   "nbconvert_exporter": "python",
   "pygments_lexer": "ipython3",
   "version": "3.9.13"
  }
 },
 "nbformat": 4,
 "nbformat_minor": 1
}