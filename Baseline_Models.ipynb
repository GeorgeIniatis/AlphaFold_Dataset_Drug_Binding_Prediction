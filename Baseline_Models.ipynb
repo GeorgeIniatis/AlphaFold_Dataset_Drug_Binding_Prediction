{
 "cells": [
  {
   "cell_type": "markdown",
   "metadata": {
    "pycharm": {
     "name": "#%% md\n"
    }
   },
   "source": [
    "# Imports"
   ]
  },
  {
   "cell_type": "code",
   "execution_count": 1,
   "metadata": {
    "pycharm": {
     "name": "#%%\n"
    }
   },
   "outputs": [],
   "source": [
    "# General Imports\n",
    "import pandas as pd\n",
    "import numpy as np\n",
    "from modify_dataset import load_from_pickle, load_to_pickle\n",
    "\n",
    "# Plotting libraries\n",
    "import plotly.express as px\n",
    "\n",
    "# Dimensionality reduction\n",
    "from sklearn.decomposition import PCA\n",
    "\n",
    "# Model selection\n",
    "from sklearn.model_selection import permutation_test_score\n",
    "\n",
    "# Scalers\n",
    "from sklearn.preprocessing import StandardScaler\n",
    "\n",
    "# Metrics\n",
    "from sklearn.metrics import make_scorer\n",
    "from sklearn.metrics import precision_score, recall_score, f1_score, accuracy_score, matthews_corrcoef\n",
    "from sklearn.metrics import mean_absolute_error, r2_score\n",
    "\n",
    "# Classification Models\n",
    "from sklearn.dummy import DummyClassifier\n",
    "from sklearn.neighbors import KNeighborsClassifier\n",
    "from sklearn.linear_model import LogisticRegression, SGDClassifier\n",
    "from sklearn.ensemble import RandomForestClassifier\n",
    "from sklearn.svm import SVC\n",
    "\n",
    "# Regression Models\n",
    "from sklearn.dummy import DummyRegressor\n",
    "from sklearn.neighbors import KNeighborsRegressor\n",
    "from sklearn.linear_model import LinearRegression, SGDRegressor\n",
    "from sklearn.ensemble import RandomForestRegressor\n",
    "from sklearn.svm import SVR\n",
    "\n",
    "# Error Analysis\n",
    "# import eli5\n",
    "# from lime.lime_tabular import LimeTabularExplainer\n",
    "\n",
    "# Other Model Stuff\n",
    "from joblib import dump, load\n",
    "from sklearn.model_selection import train_test_split\n",
    "from sklearn.pipeline import Pipeline\n",
    "from sklearn.model_selection import GridSearchCV"
   ]
  },
  {
   "cell_type": "markdown",
   "metadata": {
    "pycharm": {
     "name": "#%% md\n"
    }
   },
   "source": [
    "# Training & Test Sets"
   ]
  },
  {
   "cell_type": "code",
   "execution_count": 2,
   "metadata": {
    "pycharm": {
     "name": "#%%\n"
    }
   },
   "outputs": [],
   "source": [
    "feature_selection_columns_dd_psd_mf = np.load(\"Dataset_Files/Feature_Selection/features_dd_psd_mf_list.npy\",\n",
    "                                              allow_pickle=True)\n",
    "feature_selection_columns_dd_psd = np.load(\"Dataset_Files/Feature_Selection/features_dd_psd_list.npy\",\n",
    "                                           allow_pickle=True)"
   ]
  },
  {
   "cell_type": "code",
   "execution_count": 3,
   "metadata": {
    "pycharm": {
     "name": "#%%\n"
    }
   },
   "outputs": [],
   "source": [
    "X_train_dd_psd_mf_feature_selection = np.load(\n",
    "    \"Dataset_Files/Training_Test_Sets/X_train_dd_psd_mf_feature_selection.npy\")\n",
    "y_train_dd_psd_mf = np.load(\n",
    "    \"Dataset_Files/Training_Test_Sets/y_train_dd_psd_mf.npy\")\n",
    "\n",
    "X_train_dd_psd_feature_selection = np.load(\n",
    "    \"Dataset_Files/Training_Test_Sets/X_train_dd_psd_feature_selection.npy\")\n",
    "y_train_dd_psd = np.load(\n",
    "    \"Dataset_Files/Training_Test_Sets/y_train_dd_psd.npy\")\n",
    "\n",
    "X_test_classification_dd_psd_mf_feature_selection = np.load(\n",
    "    \"Dataset_Files/Training_Test_Sets/X_test_classification_dd_psd_mf_feature_selection.npy\")\n",
    "X_test_classification_dd_psd_feature_selection = np.load(\n",
    "    \"Dataset_Files/Training_Test_Sets/X_test_classification_dd_psd_feature_selection.npy\")\n",
    "y_test_classification = np.load(\n",
    "    \"Dataset_Files/Training_Test_Sets/y_test_classification.npy\")\n"
   ]
  },
  {
   "cell_type": "code",
   "execution_count": 4,
   "metadata": {
    "pycharm": {
     "name": "#%%\n"
    }
   },
   "outputs": [
    {
     "name": "stdout",
     "output_type": "stream",
     "text": [
      "X_train_molecular_functions shape: (120561, 1045)\n",
      "y_train_molecular_functions shape: (120561,)\n",
      "X_train_without_molecular_functions shape: (134734, 1044)\n",
      "y_train_without_molecular_functions shape: 134734\n",
      "X_test_classification_molecular_functions shape: (30141, 1045)\n",
      "X_test_classification_without_molecular_functions shape: (30141, 1044)\n",
      "y_test_classification shape: 30141 (Binding Count: 22001, Non-Binding Count: 8140)\n"
     ]
    }
   ],
   "source": [
    "# Useful Information & Sanity Checks\n",
    "print(f\"X_train_molecular_functions shape: {X_train_dd_psd_mf_feature_selection.shape}\")\n",
    "print(f\"y_train_molecular_functions shape: {y_train_dd_psd_mf.shape}\")\n",
    "print(f\"X_train_without_molecular_functions shape: {X_train_dd_psd_feature_selection.shape}\")\n",
    "print(f\"y_train_without_molecular_functions shape: {y_train_dd_psd.shape[0]}\")\n",
    "print(f\"X_test_classification_molecular_functions shape: \"\n",
    "      f\"{X_test_classification_dd_psd_mf_feature_selection.shape}\")\n",
    "print(\n",
    "    f\"X_test_classification_without_molecular_functions shape: \"\n",
    "    f\"{X_test_classification_dd_psd_feature_selection.shape}\")\n",
    "print(\n",
    "    f\"y_test_classification shape: {y_test_classification.shape[0]} (Binding Count: {y_test_classification[y_test_classification == 1].shape[0]}, Non-Binding Count: {y_test_classification[y_test_classification == 0].shape[0]})\")"
   ]
  },
  {
   "cell_type": "markdown",
   "metadata": {
    "pycharm": {
     "name": "#%% md\n"
    }
   },
   "source": [
    "# Helper Functions"
   ]
  },
  {
   "cell_type": "code",
   "execution_count": 5,
   "metadata": {
    "pycharm": {
     "name": "#%%\n"
    }
   },
   "outputs": [],
   "source": [
    "# Called when gridsearch is not used\n",
    "def calculate_metrics_classification(y_true, y_pred):\n",
    "    recall = recall_score(y_true, y_pred)\n",
    "    precision = precision_score(y_true, y_pred)\n",
    "    f1 = f1_score(y_true, y_pred)\n",
    "    accuracy = accuracy_score(y_true, y_pred)\n",
    "    mcc = matthews_corrcoef(y_true, y_pred)\n",
    "\n",
    "    print(f\"F1 score: {f1}\")\n",
    "    print(f\"Matthews Correlation Coefficient: {mcc}\")\n",
    "    print(f\"Accuracy score: {accuracy}\")\n",
    "    print(f\"Recall score: {recall}\")\n",
    "    print(f\"Precision score: {precision}\")\n",
    "\n",
    "\n",
    "# Called when gridsearch is used\n",
    "def best_model_information_classification(model):\n",
    "    print(f\"Best model index: {model.best_index_}\")\n",
    "    print(f\"Best parameters: {model.best_params_}\")\n",
    "    print(f\"Best F1 score: {model.best_score_}\")\n",
    "    print(f\"Matthews Correlation Coefficient: {model.cv_results_['mean_test_mcc'][model.best_index_]}\")\n",
    "    print(f\"Accuracy score: {model.cv_results_['mean_test_accuracy'][model.best_index_]}\")\n",
    "    print(f\"Recall score: {model.cv_results_['mean_test_recall'][model.best_index_]}\")\n",
    "    print(f\"Precision score: {model.cv_results_['mean_test_precision'][model.best_index_]}\")\n",
    "\n",
    "\n",
    "# The common p-value of 0.0099009900990099011 is returned when no model with the shuffled labels produces a better score\n",
    "# https://github.com/scikit-learn/scikit-learn/issues/8379\n",
    "def permutation_test_classification(model, classification_group, repetitions=100):\n",
    "    if classification_group == \"dd_psd\":\n",
    "        X_train = X_train_dd_psd_feature_selection\n",
    "        y_train = y_train_dd_psd\n",
    "    elif classification_group == \"dd_psd_mf\":\n",
    "        X_train = X_train_dd_psd_mf_feature_selection\n",
    "        y_train = y_train_dd_psd_mf\n",
    "    else:\n",
    "        raise ValueError(\"Invalid group. Please choose 'dd_psd' or 'dd_psd_mf'\")\n",
    "\n",
    "    score, perm_scores, pvalue = permutation_test_score(model,\n",
    "                                                        X_train,\n",
    "                                                        y_train,\n",
    "                                                        scoring=make_scorer(matthews_corrcoef),\n",
    "                                                        cv=10,\n",
    "                                                        n_permutations=repetitions,\n",
    "                                                        n_jobs=-1,\n",
    "                                                        random_state=42,\n",
    "                                                        )\n",
    "\n",
    "    permutation_test_dataframe = pd.DataFrame(data={\"score\": score,\n",
    "                                                    \"perm_scores\": perm_scores,\n",
    "                                                    \"pvalue\": pvalue}\n",
    "                                              )\n",
    "\n",
    "    fig = px.histogram(permutation_test_dataframe,\n",
    "                       x=\"perm_scores\",\n",
    "                       histnorm='probability density',\n",
    "                       labels={'probability density': 'Probability Density',\n",
    "                               'perm_scores': 'Perm Scores'}\n",
    "                       )\n",
    "    fig.update_xaxes(range=[0, 1], dtick=0.1)\n",
    "    fig.add_vline(x=score,\n",
    "                  line_dash='dash',\n",
    "                  line_color='firebrick',\n",
    "                  annotation_text=f\"Original Data MCC: {round(score, 4)} <br> (P-Value: {round(pvalue, 6)})\",\n",
    "                  annotation_position=\"top right\",\n",
    "                  annotation_font_size=14)\n",
    "    fig.show()\n",
    "\n",
    "\n",
    "def prediction_category_classification(df):\n",
    "    if df['True Class'] == df['Prediction']:\n",
    "        return 'Correct'\n",
    "    elif (df['True Class'] == 0) and (df['Prediction'] == 1):\n",
    "        return 'False Positive'\n",
    "    else:\n",
    "        return 'False Negative'\n",
    "\n",
    "\n",
    "def error_analysis_classification(y_pred, classification_group):\n",
    "    if classification_group == 'dd_psd':\n",
    "        X_set = pd.DataFrame(X_test_classification_dd_psd_feature_selection, columns=feature_selection_columns_dd_psd)\n",
    "        y_set = pd.Series(y_test_classification, name=\"Activity_Binary\")\n",
    "\n",
    "    elif classification_group == 'dd_psd_mf':\n",
    "        X_set = pd.DataFrame(X_test_classification_dd_psd_mf_feature_selection,\n",
    "                             columns=feature_selection_columns_dd_psd_mf)\n",
    "        y_set = pd.Series(y_test_classification, name=\"Activity_Binary\")\n",
    "    else:\n",
    "        raise ValueError(\"Invalid group. Please choose 'dd_psd' or 'dd_psd_mf'\")\n",
    "\n",
    "    # Combining data into one dataframe\n",
    "    y_pred_series = pd.Series(y_pred, index=y_set.index)\n",
    "\n",
    "    error_analysis_dataframe = pd.concat([X_set, y_set], axis=1)\n",
    "    error_analysis_dataframe = pd.concat([error_analysis_dataframe, y_pred_series], axis=1)\n",
    "    error_analysis_dataframe.rename(columns={\"Activity_Binary\": \"True Class\", 0: \"Prediction\"}, inplace=True)\n",
    "    error_analysis_dataframe[\"Is the prediction correct?\"] = error_analysis_dataframe.apply(\n",
    "        prediction_category_classification, axis=1)\n",
    "\n",
    "    # Scaling\n",
    "    scaler = StandardScaler()\n",
    "    scaler.fit(error_analysis_dataframe.loc[:, feature_selection_columns_dd_psd])\n",
    "    scaled_data = scaler.transform(error_analysis_dataframe.loc[:, feature_selection_columns_dd_psd])\n",
    "\n",
    "    # PCA\n",
    "    pca = PCA(n_components=2, random_state=0)\n",
    "    pca.fit(scaled_data)\n",
    "    pca_data = pca.transform(scaled_data)\n",
    "    pca_dataframe_2d = pd.DataFrame(pca_data, columns=[\"PCA_Dimension_1\", \"PCA_Dimension_2\"], index=y_set.index)\n",
    "\n",
    "    # Joining dataframes\n",
    "    error_analysis_dataframe = pd.concat([error_analysis_dataframe, pca_dataframe_2d], axis=1)\n",
    "\n",
    "    # Plot\n",
    "    fig = px.scatter(error_analysis_dataframe, x=\"PCA_Dimension_1\", y=\"PCA_Dimension_2\",\n",
    "                     color=\"Is the prediction correct?\",\n",
    "                     symbol=\"Is the prediction correct?\",\n",
    "                     hover_data=['MW', 'TPSA', 'XLogP', 'NHD', 'NHA', 'NRB', 'True Class', 'Prediction'],\n",
    "                     title=\"Correct Classifications vs Misclassifications\")\n",
    "    fig.show()\n",
    "\n",
    "    # Useful stats\n",
    "    print(\n",
    "        f\"Number of correct classifications: {len(error_analysis_dataframe[error_analysis_dataframe['Is the prediction correct?'] == 'Correct'])}\")\n",
    "    print(\n",
    "        f\"Number of misclassifications: {len(error_analysis_dataframe[error_analysis_dataframe['Is the prediction correct?'] != 'Correct'])}\")\n",
    "    print(\n",
    "        f\"False Positives (True class:0, Prediction:1): {len(error_analysis_dataframe[(error_analysis_dataframe['True Class'] == 0) & (error_analysis_dataframe['Prediction'] == 1)])}\")\n",
    "    print(\n",
    "        f\"False Negatives (True class:1, Prediction:0): {len(error_analysis_dataframe[(error_analysis_dataframe['True Class'] == 1) & (error_analysis_dataframe['Prediction'] == 0)])}\")\n",
    "\n",
    "    return error_analysis_dataframe.sort_values('Is the prediction correct?')\n",
    "\n",
    "\n",
    "# def model_weights_classification(model, classification_group):\n",
    "#     if classification_group == 'cd':\n",
    "#         return eli5.show_weights(model,\n",
    "#                                  feature_names=X_train_cd.columns,\n",
    "#                                  target_names={1:\"BBB+\",0:\"BBB-\"})\n",
    "#     elif classification_group == 'cd_se_i':\n",
    "#         return eli5.show_weights(model,\n",
    "#                                  feature_names=X_train_cd_se_i.loc[:,feature_selection_support].columns,\n",
    "#                                  target_names={1:\"BBB+\",0:\"BBB-\"})\n",
    "#     else:\n",
    "#         raise ValueError(\"Invalid group. Please choose 'cd' or 'cd_se_i'\")\n",
    "\n",
    "# def get_lime_explainer_classification(classification_group):\n",
    "#     if classification_group == 'cd':\n",
    "#         X_train = X_train_cd\n",
    "#         y_train = y_train_cd\n",
    "#     elif classification_group == 'cd_se_i':\n",
    "#         X_train = X_train_cd_se_i.loc[:,feature_selection_support]\n",
    "#         y_train = y_train_cd_se_i\n",
    "#     else:\n",
    "#         raise ValueError(\"Invalid group. Please choose 'cd' or 'cd_se_i'\")\n",
    "#\n",
    "#     explainer = LimeTabularExplainer(training_data=np.array(X_train),\n",
    "#                                      mode='classification',\n",
    "#                                      feature_names=list(X_train.columns),\n",
    "#                                      training_labels=y_train,\n",
    "#                                      class_names=['BBB-','BBB+'],\n",
    "#                                      random_state=42)\n",
    "#     return explainer\n",
    "\n",
    "grid_search_scoring_dict = {\n",
    "    'precision': make_scorer(precision_score),\n",
    "    'recall': make_scorer(recall_score),\n",
    "    'f1': make_scorer(f1_score),\n",
    "    'accuracy': make_scorer(accuracy_score),\n",
    "    'mcc': make_scorer(matthews_corrcoef),\n",
    "}"
   ]
  },
  {
   "cell_type": "markdown",
   "metadata": {
    "pycharm": {
     "name": "#%% md\n"
    }
   },
   "source": [
    "# Do Molecular Functions Improve our Predictive Performance?"
   ]
  },
  {
   "cell_type": "markdown",
   "metadata": {
    "pycharm": {
     "name": "#%% md\n"
    }
   },
   "source": [
    "## Dummy Classifier (DC)"
   ]
  },
  {
   "cell_type": "code",
   "execution_count": 6,
   "metadata": {
    "pycharm": {
     "name": "#%%\n"
    }
   },
   "outputs": [
    {
     "data": {
      "text/plain": [
       "{'memory': None,\n",
       " 'steps': [('scale', StandardScaler()),\n",
       "  ('model', DummyClassifier(random_state=42))],\n",
       " 'verbose': False,\n",
       " 'scale': StandardScaler(),\n",
       " 'model': DummyClassifier(random_state=42),\n",
       " 'scale__copy': True,\n",
       " 'scale__with_mean': True,\n",
       " 'scale__with_std': True,\n",
       " 'model__constant': None,\n",
       " 'model__random_state': 42,\n",
       " 'model__strategy': 'prior'}"
      ]
     },
     "execution_count": 6,
     "metadata": {},
     "output_type": "execute_result"
    }
   ],
   "source": [
    "dummy_classifier = Pipeline(\n",
    "    [\n",
    "        ('scale', StandardScaler()),\n",
    "        ('model', DummyClassifier(random_state=42))\n",
    "    ]\n",
    ")\n",
    "dummy_classifier.get_params()"
   ]
  },
  {
   "cell_type": "markdown",
   "metadata": {
    "pycharm": {
     "name": "#%% md\n"
    }
   },
   "source": [
    "### Drug Descriptors, Protein Sequence Descriptors"
   ]
  },
  {
   "cell_type": "markdown",
   "metadata": {
    "pycharm": {
     "name": "#%% md\n"
    }
   },
   "source": [
    "#### Training"
   ]
  },
  {
   "cell_type": "code",
   "execution_count": 7,
   "metadata": {
    "pycharm": {
     "name": "#%%\n"
    }
   },
   "outputs": [
    {
     "name": "stdout",
     "output_type": "stream",
     "text": [
      "F1 score: 0.8459466288646107\n",
      "Matthews Correlation Coefficient: 0.0\n",
      "Accuracy score: 0.7330221028099811\n",
      "Recall score: 1.0\n",
      "Precision score: 0.7330221028099811\n"
     ]
    },
    {
     "data": {
      "text/plain": [
       "['Dataset_Files/Classification_Models/dc_dd_psd.joblib']"
      ]
     },
     "execution_count": 7,
     "metadata": {},
     "output_type": "execute_result"
    }
   ],
   "source": [
    "dummy_classifier.fit(X_train_dd_psd_feature_selection, y_train_dd_psd)\n",
    "\n",
    "y_train_pred = dummy_classifier.predict(X_train_dd_psd_feature_selection)\n",
    "calculate_metrics_classification(y_train_dd_psd, y_train_pred)\n",
    "\n",
    "# Save Model\n",
    "dump(dummy_classifier, 'Dataset_Files/Classification_Models/dc_dd_psd.joblib')"
   ]
  },
  {
   "cell_type": "markdown",
   "metadata": {
    "pycharm": {
     "name": "#%% md\n"
    }
   },
   "source": [
    "#### Testing"
   ]
  },
  {
   "cell_type": "code",
   "execution_count": 8,
   "metadata": {
    "pycharm": {
     "name": "#%%\n"
    }
   },
   "outputs": [
    {
     "name": "stdout",
     "output_type": "stream",
     "text": [
      "F1 score: 0.8438878447316942\n",
      "Matthews Correlation Coefficient: 0.0\n",
      "Accuracy score: 0.729935967618858\n",
      "Recall score: 1.0\n",
      "Precision score: 0.729935967618858\n"
     ]
    }
   ],
   "source": [
    "# Load Model\n",
    "dummy_classifier = load('Dataset_Files/Classification_Models/dc_dd_psd.joblib')\n",
    "\n",
    "y_test_pred = dummy_classifier.predict(X_test_classification_dd_psd_feature_selection)\n",
    "calculate_metrics_classification(y_test_classification, y_test_pred)"
   ]
  },
  {
   "cell_type": "markdown",
   "metadata": {
    "pycharm": {
     "name": "#%% md\n"
    }
   },
   "source": [
    "### Drug Descriptors, Protein Sequence Descriptors, Molecular Functions"
   ]
  },
  {
   "cell_type": "markdown",
   "metadata": {
    "pycharm": {
     "name": "#%% md\n"
    }
   },
   "source": [
    "#### Training"
   ]
  },
  {
   "cell_type": "code",
   "execution_count": 9,
   "metadata": {
    "pycharm": {
     "name": "#%%\n"
    }
   },
   "outputs": [
    {
     "name": "stdout",
     "output_type": "stream",
     "text": [
      "F1 score: 0.8438944400759479\n",
      "Matthews Correlation Coefficient: 0.0\n",
      "Accuracy score: 0.7299458365474739\n",
      "Recall score: 1.0\n",
      "Precision score: 0.7299458365474739\n"
     ]
    },
    {
     "data": {
      "text/plain": [
       "['Dataset_Files/Classification_Models/dc_dd_psd_mf.joblib']"
      ]
     },
     "execution_count": 9,
     "metadata": {},
     "output_type": "execute_result"
    }
   ],
   "source": [
    "dummy_classifier.fit(X_train_dd_psd_mf_feature_selection, y_train_dd_psd_mf)\n",
    "\n",
    "y_train_pred = dummy_classifier.predict(X_train_dd_psd_mf_feature_selection)\n",
    "calculate_metrics_classification(y_train_dd_psd_mf, y_train_pred)\n",
    "\n",
    "# Save Model\n",
    "dump(dummy_classifier, 'Dataset_Files/Classification_Models/dc_dd_psd_mf.joblib')"
   ]
  },
  {
   "cell_type": "markdown",
   "metadata": {
    "pycharm": {
     "name": "#%% md\n"
    }
   },
   "source": [
    "#### Testing"
   ]
  },
  {
   "cell_type": "code",
   "execution_count": 10,
   "metadata": {
    "pycharm": {
     "name": "#%%\n"
    }
   },
   "outputs": [
    {
     "name": "stdout",
     "output_type": "stream",
     "text": [
      "F1 score: 0.8438878447316942\n",
      "Matthews Correlation Coefficient: 0.0\n",
      "Accuracy score: 0.729935967618858\n",
      "Recall score: 1.0\n",
      "Precision score: 0.729935967618858\n"
     ]
    }
   ],
   "source": [
    "# Load Model\n",
    "dummy_classifier = load('Dataset_Files/Classification_Models/dc_dd_psd_mf.joblib')\n",
    "\n",
    "y_test_pred = dummy_classifier.predict(X_test_classification_dd_psd_mf_feature_selection)\n",
    "calculate_metrics_classification(y_test_classification, y_test_pred)"
   ]
  },
  {
   "cell_type": "markdown",
   "metadata": {
    "pycharm": {
     "name": "#%% md\n"
    }
   },
   "source": [
    "## Logistic Regression (LR)"
   ]
  },
  {
   "cell_type": "code",
   "execution_count": 11,
   "metadata": {
    "pycharm": {
     "name": "#%%\n"
    }
   },
   "outputs": [
    {
     "data": {
      "text/plain": [
       "{'memory': None,\n",
       " 'steps': [('scale', StandardScaler()),\n",
       "  ('model', LogisticRegression(random_state=42))],\n",
       " 'verbose': False,\n",
       " 'scale': StandardScaler(),\n",
       " 'model': LogisticRegression(random_state=42),\n",
       " 'scale__copy': True,\n",
       " 'scale__with_mean': True,\n",
       " 'scale__with_std': True,\n",
       " 'model__C': 1.0,\n",
       " 'model__class_weight': None,\n",
       " 'model__dual': False,\n",
       " 'model__fit_intercept': True,\n",
       " 'model__intercept_scaling': 1,\n",
       " 'model__l1_ratio': None,\n",
       " 'model__max_iter': 100,\n",
       " 'model__multi_class': 'auto',\n",
       " 'model__n_jobs': None,\n",
       " 'model__penalty': 'l2',\n",
       " 'model__random_state': 42,\n",
       " 'model__solver': 'lbfgs',\n",
       " 'model__tol': 0.0001,\n",
       " 'model__verbose': 0,\n",
       " 'model__warm_start': False}"
      ]
     },
     "execution_count": 11,
     "metadata": {},
     "output_type": "execute_result"
    }
   ],
   "source": [
    "pipe = Pipeline(\n",
    "    [\n",
    "        ('scale', StandardScaler()),\n",
    "        ('model', LogisticRegression(random_state=42))\n",
    "    ]\n",
    ")\n",
    "pipe.get_params()"
   ]
  },
  {
   "cell_type": "code",
   "execution_count": 12,
   "metadata": {
    "pycharm": {
     "name": "#%%\n"
    }
   },
   "outputs": [],
   "source": [
    "model = GridSearchCV(estimator=pipe,\n",
    "                     param_grid={\n",
    "                         'model__solver': ['newton-cg', 'lbfgs', 'liblinear', 'sag', 'saga'],\n",
    "                         'model__penalty': ['none', 'l2', 'l1', 'elasticnet'],\n",
    "                         'model__max_iter': [50, 100, 200, 400, 600, 800, 1000, 2000, 4000, 8000],\n",
    "                         'model__class_weight': [None, \"balanced\"],\n",
    "                     },\n",
    "                     scoring=grid_search_scoring_dict,\n",
    "                     refit='f1',  # Optimise for F1 Score\n",
    "                     return_train_score=False,\n",
    "                     cv=10,\n",
    "                     n_jobs=-1,\n",
    "                     verbose=1)"
   ]
  },
  {
   "cell_type": "markdown",
   "metadata": {
    "pycharm": {
     "name": "#%% md\n"
    }
   },
   "source": [
    "### Drug Descriptors, Protein Sequence Descriptors"
   ]
  },
  {
   "cell_type": "markdown",
   "metadata": {
    "pycharm": {
     "name": "#%% md\n"
    }
   },
   "source": [
    "#### Training"
   ]
  },
  {
   "cell_type": "code",
   "execution_count": null,
   "metadata": {
    "pycharm": {
     "is_executing": true,
     "name": "#%%\n"
    }
   },
   "outputs": [
    {
     "name": "stdout",
     "output_type": "stream",
     "text": [
      "Fitting 10 folds for each of 400 candidates, totalling 4000 fits\n"
     ]
    }
   ],
   "source": [
    "model.fit(X_train_dd_psd_feature_selection, y_train_dd_psd)\n",
    "\n",
    "optimised_lr_dd_psd = model.best_estimator_\n",
    "best_model_information_classification(model)\n",
    "\n",
    "# Save Model & CV Results\n",
    "dump(optimised_lr_dd_psd, 'Classification_Models/optimised_lr_dd_psd.joblib')\n",
    "np.save(\"Dataset_Files/Classification_Models/optimised_lr_dd_psd_cv_results\", model.cv_results_)"
   ]
  },
  {
   "cell_type": "code",
   "execution_count": null,
   "metadata": {
    "pycharm": {
     "name": "#%%\n"
    }
   },
   "outputs": [],
   "source": [
    "logistic_regression_grid_search_dataframe = pd.DataFrame(\n",
    "    np.load(\"Dataset_Files/Classification_Models/optimised_lr_dd_psd_cv_results\").tolist())\n",
    "logistic_regression_grid_search_dataframe.sort_values(by=[\"rank_test_f1\"], inplace=True)\n",
    "logistic_regression_grid_search_dataframe"
   ]
  },
  {
   "cell_type": "markdown",
   "metadata": {
    "pycharm": {
     "name": "#%% md\n"
    }
   },
   "source": [
    "#### Permutation Testing"
   ]
  },
  {
   "cell_type": "code",
   "execution_count": null,
   "metadata": {
    "pycharm": {
     "name": "#%%\n"
    }
   },
   "outputs": [],
   "source": [
    "# Load Model\n",
    "optimised_lr_dd_psd = load('Dataset_Files/Classification_Models/optimised_lr_dd_psd.joblib')\n",
    "permutation_test_classification(optimised_lr_dd_psd, \"dd_psd\")"
   ]
  },
  {
   "cell_type": "markdown",
   "metadata": {
    "pycharm": {
     "name": "#%% md\n"
    }
   },
   "source": [
    "#### Testing"
   ]
  },
  {
   "cell_type": "code",
   "execution_count": null,
   "outputs": [],
   "source": [
    "# Load Model\n",
    "optimised_lr_dd_psd = load('Dataset_Files/Classification_Models/optimised_lr_dd_psd.joblib')\n",
    "\n",
    "y_test_pred = optimised_lr_dd_psd.predict(X_test_classification_dd_psd_feature_selection)\n",
    "calculate_metrics_classification(y_test_classification, y_test_pred)"
   ],
   "metadata": {
    "collapsed": false,
    "pycharm": {
     "name": "#%%\n"
    }
   }
  },
  {
   "cell_type": "markdown",
   "metadata": {
    "pycharm": {
     "name": "#%% md\n"
    }
   },
   "source": [
    "### Drug Descriptors, Protein Sequence Descriptors, Molecular Functions"
   ]
  },
  {
   "cell_type": "markdown",
   "metadata": {
    "pycharm": {
     "name": "#%% md\n"
    }
   },
   "source": [
    "#### Training"
   ]
  },
  {
   "cell_type": "code",
   "execution_count": null,
   "outputs": [],
   "source": [
    "model.fit(X_train_dd_psd_mf_feature_selection, y_train_dd_psd_mf)\n",
    "\n",
    "optimised_lr_dd_psd_mf = model.best_estimator_\n",
    "best_model_information_classification(model)\n",
    "\n",
    "# Save Model & CV Results\n",
    "dump(optimised_lr_dd_psd_mf, 'Classification_Models/optimised_lr_dd_psd_mf.joblib')\n",
    "np.save(\"Dataset_Files/Classification_Models/optimised_lr_dd_psd_mf_cv_results\", model.cv_results_)"
   ],
   "metadata": {
    "collapsed": false,
    "pycharm": {
     "name": "#%%\n"
    }
   }
  },
  {
   "cell_type": "code",
   "execution_count": null,
   "outputs": [],
   "source": [
    "logistic_regression_grid_search_dataframe = pd.DataFrame(\n",
    "    np.load(\"Dataset_Files/Classification_Models/optimised_lr_dd_psd_mf_cv_results\").tolist())\n",
    "logistic_regression_grid_search_dataframe.sort_values(by=[\"rank_test_f1\"], inplace=True)\n",
    "logistic_regression_grid_search_dataframe"
   ],
   "metadata": {
    "collapsed": false,
    "pycharm": {
     "name": "#%%\n"
    }
   }
  },
  {
   "cell_type": "markdown",
   "source": [
    "#### Permutation Testing"
   ],
   "metadata": {
    "collapsed": false,
    "pycharm": {
     "name": "#%% md\n"
    }
   }
  },
  {
   "cell_type": "code",
   "execution_count": null,
   "outputs": [],
   "source": [
    "# Load Model\n",
    "optimised_lr_dd_psd_mf = load('Dataset_Files/Classification_Models/optimised_lr_dd_psd_mf.joblib')\n",
    "permutation_test_classification(optimised_lr_dd_psd_mf, \"dd_psd_mf\")"
   ],
   "metadata": {
    "collapsed": false,
    "pycharm": {
     "name": "#%%\n"
    }
   }
  },
  {
   "cell_type": "markdown",
   "metadata": {
    "pycharm": {
     "name": "#%% md\n"
    }
   },
   "source": [
    "#### Testing"
   ]
  },
  {
   "cell_type": "code",
   "execution_count": null,
   "outputs": [],
   "source": [
    "# Load Model\n",
    "optimised_lr_dd_psd_mf = load('Dataset_Files/Classification_Models/optimised_lr_dd_psd_mf.joblib')\n",
    "\n",
    "y_test_pred = optimised_lr_dd_psd_mf.predict(X_test_classification_dd_psd_mf_feature_selection)\n",
    "calculate_metrics_classification(y_test_classification, y_test_pred)"
   ],
   "metadata": {
    "collapsed": false,
    "pycharm": {
     "name": "#%%\n"
    }
   }
  },
  {
   "cell_type": "markdown",
   "source": [
    "## Support Vector Classification (SVC)"
   ],
   "metadata": {
    "collapsed": false,
    "pycharm": {
     "name": "#%% md\n"
    }
   }
  },
  {
   "cell_type": "code",
   "execution_count": null,
   "outputs": [],
   "source": [
    "pipe = Pipeline(\n",
    "    [\n",
    "        ('scale', StandardScaler()),\n",
    "        ('model', SVC(random_state=42))\n",
    "    ]\n",
    ")\n",
    "pipe.get_params()"
   ],
   "metadata": {
    "collapsed": false,
    "pycharm": {
     "name": "#%%\n"
    }
   }
  },
  {
   "cell_type": "code",
   "execution_count": null,
   "outputs": [],
   "source": [
    "model = GridSearchCV(estimator=pipe,\n",
    "                     param_grid={\n",
    "                         'model__kernel': ['linear', 'poly', 'rbf', 'sigmoid', 'precomputed'],\n",
    "                         'model__degree': [3, 4, 5, 6],\n",
    "                         'model__gamma': ['scale', 'auto'],\n",
    "                         'model__class_weight': [None, \"balanced\"],\n",
    "                     },\n",
    "                     scoring=grid_search_scoring_dict,\n",
    "                     refit='f1',  # Optimise for F1 Score\n",
    "                     return_train_score=False,\n",
    "                     cv=10,\n",
    "                     n_jobs=-1)"
   ],
   "metadata": {
    "collapsed": false,
    "pycharm": {
     "name": "#%%\n"
    }
   }
  },
  {
   "cell_type": "markdown",
   "source": [
    "### Drug Descriptors, Protein Sequence Descriptors"
   ],
   "metadata": {
    "collapsed": false,
    "pycharm": {
     "name": "#%% md\n"
    }
   }
  },
  {
   "cell_type": "markdown",
   "source": [
    "#### Training"
   ],
   "metadata": {
    "collapsed": false,
    "pycharm": {
     "name": "#%% md\n"
    }
   }
  },
  {
   "cell_type": "code",
   "execution_count": null,
   "outputs": [],
   "source": [
    "model.fit(X_train_dd_psd_feature_selection, y_train_dd_psd)\n",
    "\n",
    "optimised_svc_dd_psd = model.best_estimator_\n",
    "best_model_information_classification(model)\n",
    "\n",
    "# Save Model & CV Results\n",
    "dump(optimised_svc_dd_psd, 'Classification_Models/optimised_svc_dd_psd.joblib')\n",
    "np.save(\"Dataset_Files/Classification_Models/optimised_svc_dd_psd_cv_results\", model.cv_results_)"
   ],
   "metadata": {
    "collapsed": false,
    "pycharm": {
     "name": "#%%\n"
    }
   }
  },
  {
   "cell_type": "code",
   "execution_count": null,
   "outputs": [],
   "source": [
    "svc_grid_search_dataframe = pd.DataFrame(\n",
    "    np.load(\"Dataset_Files/Classification_Models/optimised_svc_dd_psd_cv_results\").tolist())\n",
    "svc_grid_search_dataframe.sort_values(by=[\"rank_test_f1\"], inplace=True)\n",
    "svc_grid_search_dataframe"
   ],
   "metadata": {
    "collapsed": false,
    "pycharm": {
     "name": "#%%\n"
    }
   }
  },
  {
   "cell_type": "markdown",
   "source": [
    "#### Permutation Testing"
   ],
   "metadata": {
    "collapsed": false,
    "pycharm": {
     "name": "#%% md\n"
    }
   }
  },
  {
   "cell_type": "code",
   "execution_count": null,
   "outputs": [],
   "source": [
    "# Load Model\n",
    "optimised_svc_dd_psd = load('Dataset_Files/Classification_Models/optimised_svc_dd_psd.joblib')\n",
    "permutation_test_classification(optimised_svc_dd_psd, \"dd_psd\")"
   ],
   "metadata": {
    "collapsed": false,
    "pycharm": {
     "name": "#%%\n"
    }
   }
  },
  {
   "cell_type": "markdown",
   "source": [
    "#### Testing"
   ],
   "metadata": {
    "collapsed": false,
    "pycharm": {
     "name": "#%% md\n"
    }
   }
  },
  {
   "cell_type": "code",
   "execution_count": null,
   "outputs": [],
   "source": [
    "# Load Model\n",
    "optimised_svc_dd_psd = load('Dataset_Files/Classification_Models/optimised_svc_dd_psd.joblib')\n",
    "\n",
    "y_test_pred = optimised_svc_dd_psd.predict(X_test_classification_dd_psd_feature_selection)\n",
    "calculate_metrics_classification(y_test_classification, y_test_pred)"
   ],
   "metadata": {
    "collapsed": false,
    "pycharm": {
     "name": "#%%\n"
    }
   }
  },
  {
   "cell_type": "markdown",
   "source": [
    "### Drug Descriptors, Protein Sequence Descriptors, Molecular Functions"
   ],
   "metadata": {
    "collapsed": false,
    "pycharm": {
     "name": "#%% md\n"
    }
   }
  },
  {
   "cell_type": "markdown",
   "source": [
    "#### Training"
   ],
   "metadata": {
    "collapsed": false,
    "pycharm": {
     "name": "#%% md\n"
    }
   }
  },
  {
   "cell_type": "code",
   "execution_count": null,
   "outputs": [],
   "source": [
    "model.fit(X_train_dd_psd_mf_feature_selection, y_train_dd_psd_mf)\n",
    "\n",
    "optimised_svc_dd_psd_mf = model.best_estimator_\n",
    "best_model_information_classification(model)\n",
    "\n",
    "# Save Model & CV Results\n",
    "dump(optimised_svc_dd_psd_mf, 'Classification_Models/optimised_svc_dd_psd_mf.joblib')\n",
    "np.save(\"Dataset_Files/Classification_Models/optimised_svc_dd_psd_mf_cv_results\", model.cv_results_)"
   ],
   "metadata": {
    "collapsed": false,
    "pycharm": {
     "name": "#%%\n"
    }
   }
  },
  {
   "cell_type": "code",
   "execution_count": null,
   "outputs": [],
   "source": [
    "svc_grid_search_dataframe = pd.DataFrame(\n",
    "    np.load(\"Dataset_Files/Classification_Models/optimised_svc_dd_psd_mf_cv_results\").tolist())\n",
    "svc_grid_search_dataframe.sort_values(by=[\"rank_test_f1\"], inplace=True)\n",
    "svc_grid_search_dataframe"
   ],
   "metadata": {
    "collapsed": false,
    "pycharm": {
     "name": "#%%\n"
    }
   }
  },
  {
   "cell_type": "markdown",
   "source": [
    "#### Permutation Testing"
   ],
   "metadata": {
    "collapsed": false,
    "pycharm": {
     "name": "#%% md\n"
    }
   }
  },
  {
   "cell_type": "code",
   "execution_count": null,
   "outputs": [],
   "source": [
    "# Load Model\n",
    "optimised_svc_dd_psd_mf = load('Dataset_Files/Classification_Models/optimised_svc_dd_psd_mf.joblib')\n",
    "permutation_test_classification(optimised_svc_dd_psd_mf, \"dd_psd_mf\")"
   ],
   "metadata": {
    "collapsed": false,
    "pycharm": {
     "name": "#%%\n"
    }
   }
  },
  {
   "cell_type": "markdown",
   "source": [
    "#### Testing"
   ],
   "metadata": {
    "collapsed": false,
    "pycharm": {
     "name": "#%% md\n"
    }
   }
  },
  {
   "cell_type": "code",
   "execution_count": null,
   "outputs": [],
   "source": [
    "# Load Model\n",
    "optimised_svc_dd_psd_mf = load('Dataset_Files/Classification_Models/optimised_svc_dd_psd_mf.joblib')\n",
    "\n",
    "y_test_pred = optimised_svc_dd_psd_mf.predict(X_test_classification_dd_psd_mf_feature_selection)\n",
    "calculate_metrics_classification(y_test_classification, y_test_pred)"
   ],
   "metadata": {
    "collapsed": false,
    "pycharm": {
     "name": "#%%\n"
    }
   }
  },
  {
   "cell_type": "markdown",
   "metadata": {
    "pycharm": {
     "name": "#%% md\n"
    }
   },
   "source": [
    "## Random Forest Classifier (RFC)"
   ]
  },
  {
   "cell_type": "code",
   "execution_count": 5,
   "metadata": {
    "pycharm": {
     "name": "#%%\n"
    }
   },
   "outputs": [
    {
     "data": {
      "text/plain": [
       "{'memory': None,\n",
       " 'steps': [('scale', StandardScaler()),\n",
       "  ('model', RandomForestClassifier(random_state=42))],\n",
       " 'verbose': False,\n",
       " 'scale': StandardScaler(),\n",
       " 'model': RandomForestClassifier(random_state=42),\n",
       " 'scale__copy': True,\n",
       " 'scale__with_mean': True,\n",
       " 'scale__with_std': True,\n",
       " 'model__bootstrap': True,\n",
       " 'model__ccp_alpha': 0.0,\n",
       " 'model__class_weight': None,\n",
       " 'model__criterion': 'gini',\n",
       " 'model__max_depth': None,\n",
       " 'model__max_features': 'sqrt',\n",
       " 'model__max_leaf_nodes': None,\n",
       " 'model__max_samples': None,\n",
       " 'model__min_impurity_decrease': 0.0,\n",
       " 'model__min_samples_leaf': 1,\n",
       " 'model__min_samples_split': 2,\n",
       " 'model__min_weight_fraction_leaf': 0.0,\n",
       " 'model__n_estimators': 100,\n",
       " 'model__n_jobs': None,\n",
       " 'model__oob_score': False,\n",
       " 'model__random_state': 42,\n",
       " 'model__verbose': 0,\n",
       " 'model__warm_start': False}"
      ]
     },
     "execution_count": 5,
     "metadata": {},
     "output_type": "execute_result"
    }
   ],
   "source": [
    "pipe = Pipeline(\n",
    "    [\n",
    "        ('scale', StandardScaler()),\n",
    "        ('model', RandomForestClassifier(random_state=42))\n",
    "    ]\n",
    ")\n",
    "pipe.get_params()"
   ]
  },
  {
   "cell_type": "code",
   "execution_count": 6,
   "metadata": {
    "pycharm": {
     "name": "#%%\n"
    }
   },
   "outputs": [],
   "source": [
    "model = GridSearchCV(estimator=pipe,\n",
    "                     param_grid={\n",
    "                         'model__n_estimators': [100, 200, 400, 600, 800],\n",
    "                         'model__criterion': ['gini', 'entropy', 'log_loss'],\n",
    "                         'model__max_features': [None, 'sqrt', 'log2'],\n",
    "                         'model__class_weight': [None, 'balanced', 'balanced_subsample'],\n",
    "                     },\n",
    "                     scoring=grid_search_scoring_dict,\n",
    "                     refit='f1',  # Optimise for F1 Score\n",
    "                     return_train_score=False,\n",
    "                     cv=10,\n",
    "                     n_jobs=-1,\n",
    "                     verbose=2)"
   ]
  },
  {
   "cell_type": "markdown",
   "metadata": {
    "pycharm": {
     "name": "#%% md\n"
    }
   },
   "source": [
    "### Without Molecular Functions"
   ]
  },
  {
   "cell_type": "code",
   "execution_count": null,
   "metadata": {
    "pycharm": {
     "is_executing": true,
     "name": "#%%\n"
    }
   },
   "outputs": [
    {
     "name": "stdout",
     "output_type": "stream",
     "text": [
      "Fitting 10 folds for each of 135 candidates, totalling 1350 fits\n"
     ]
    }
   ],
   "source": [
    "model.fit(X_train_without_molecular_functions, y_train_without_molecular_functions)\n",
    "\n",
    "optimised_rfc_without_molecular_functions = model.best_estimator_\n",
    "best_model_information_classification(model)\n",
    "\n",
    "# Save Model\n",
    "dump(optimised_rfc_without_molecular_functions,\n",
    "     'Classification_Models/optimised_rfc_without_molecular_functions.joblib')"
   ]
  },
  {
   "cell_type": "code",
   "execution_count": null,
   "metadata": {
    "pycharm": {
     "name": "#%%\n"
    }
   },
   "outputs": [],
   "source": [
    "rfc_grid_search_dataframe = pd.DataFrame(model.cv_results_)\n",
    "rfc_grid_search_dataframe.sort_values(by=[\"rank_test_f1\"], inplace=True)\n",
    "load_to_pickle(rfc_grid_search_dataframe, \"rfc_grid_search_dataframe_without_molecular_functions\")\n",
    "rfc_grid_search_dataframe"
   ]
  },
  {
   "cell_type": "markdown",
   "metadata": {
    "pycharm": {
     "name": "#%% md\n"
    }
   },
   "source": [
    "#### Testing Without Feature Selection"
   ]
  },
  {
   "cell_type": "code",
   "execution_count": null,
   "metadata": {
    "pycharm": {
     "name": "#%%\n"
    }
   },
   "outputs": [],
   "source": [
    "optimised_rfc_without_molecular_functions = load(\n",
    "    'Classification_Models/optimised_rfc_without_molecular_functions.joblib')\n",
    "\n",
    "y_test_pred = optimised_rfc_without_molecular_functions.predict(X_test_classification.loc[:, \"MW\":\"NRB\"])\n",
    "calculate_metrics_classification(y_test_classification, y_test_pred)"
   ]
  },
  {
   "cell_type": "markdown",
   "metadata": {
    "pycharm": {
     "name": "#%% md\n"
    }
   },
   "source": [
    "### With Molecular Functions"
   ]
  },
  {
   "cell_type": "code",
   "execution_count": null,
   "metadata": {
    "pycharm": {
     "name": "#%%\n"
    }
   },
   "outputs": [],
   "source": [
    "model.fit(X_train_molecular_functions, y_train_molecular_functions)\n",
    "\n",
    "optimised_rfc_without_molecular_functions = model.best_estimator_\n",
    "best_model_information_classification(model)\n",
    "\n",
    "# Save Model\n",
    "dump(optimised_rfc_without_molecular_functions,\n",
    "     'Classification_Models/optimised_rfc_without_molecular_functions.joblib')"
   ]
  },
  {
   "cell_type": "code",
   "execution_count": null,
   "metadata": {
    "pycharm": {
     "name": "#%%\n"
    }
   },
   "outputs": [],
   "source": [
    "rfc_grid_search_dataframe = pd.DataFrame(model.cv_results_)\n",
    "rfc_grid_search_dataframe.sort_values(by=[\"rank_test_f1\"], inplace=True)\n",
    "load_to_pickle(rfc_grid_search_dataframe, \"rfc_grid_search_dataframe_without_molecular_functions\")\n",
    "rfc_grid_search_dataframe"
   ]
  },
  {
   "cell_type": "code",
   "execution_count": 3,
   "metadata": {
    "pycharm": {
     "name": "#%%\n"
    }
   },
   "outputs": [
    {
     "ename": "NameError",
     "evalue": "name 'feature_selection_support' is not defined",
     "output_type": "error",
     "traceback": [
      "\u001B[1;31m---------------------------------------------------------------------------\u001B[0m",
      "\u001B[1;31mNameError\u001B[0m                                 Traceback (most recent call last)",
      "Input \u001B[1;32mIn [3]\u001B[0m, in \u001B[0;36m<cell line: 5>\u001B[1;34m()\u001B[0m\n\u001B[0;32m      1\u001B[0m X_train_molecular_functions_dataframe \u001B[38;5;241m=\u001B[39m pd\u001B[38;5;241m.\u001B[39mDataFrame(\n\u001B[0;32m      2\u001B[0m     np\u001B[38;5;241m.\u001B[39mload(\u001B[38;5;124m\"\u001B[39m\u001B[38;5;124mDataset_Files/Training_Test_Sets/X_train_molecular_functions.npy\u001B[39m\u001B[38;5;124m\"\u001B[39m),\n\u001B[0;32m      3\u001B[0m     columns\u001B[38;5;241m=\u001B[39mload_from_pickle(\u001B[38;5;124m\"\u001B[39m\u001B[38;5;124mSubset_with_molecular_functions\u001B[39m\u001B[38;5;124m\"\u001B[39m)\u001B[38;5;241m.\u001B[39mloc[\u001B[38;5;241m0\u001B[39m, \u001B[38;5;124m\"\u001B[39m\u001B[38;5;124mMolecularWeight\u001B[39m\u001B[38;5;124m\"\u001B[39m:]\u001B[38;5;241m.\u001B[39mindex)\n\u001B[0;32m      5\u001B[0m X_train_molecular_functions_dataframe_best_features \u001B[38;5;241m=\u001B[39m X_train_molecular_functions_dataframe\u001B[38;5;241m.\u001B[39mloc[:,\n\u001B[1;32m----> 6\u001B[0m                                                       \u001B[43mfeature_selection_support\u001B[49m]\n\u001B[0;32m      7\u001B[0m X_train_molecular_functions_dataframe_best_features\n",
      "\u001B[1;31mNameError\u001B[0m: name 'feature_selection_support' is not defined"
     ]
    }
   ],
   "source": []
  }
 ],
 "metadata": {
  "kernelspec": {
   "display_name": "AlphaFold Project Environment",
   "language": "python",
   "name": "alphafold_dataset_drug_binding_prediction"
  },
  "language_info": {
   "codemirror_mode": {
    "name": "ipython",
    "version": 3
   },
   "file_extension": ".py",
   "mimetype": "text/x-python",
   "name": "python",
   "nbconvert_exporter": "python",
   "pygments_lexer": "ipython3",
   "version": "3.9.13"
  }
 },
 "nbformat": 4,
 "nbformat_minor": 1
}