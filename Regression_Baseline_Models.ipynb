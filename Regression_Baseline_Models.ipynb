{
 "cells": [
  {
   "cell_type": "markdown",
   "source": [
    "# Imports"
   ],
   "metadata": {
    "collapsed": false,
    "pycharm": {
     "name": "#%% md\n"
    }
   }
  },
  {
   "cell_type": "code",
   "execution_count": 1,
   "outputs": [
    {
     "name": "stderr",
     "output_type": "stream",
     "text": [
      "Intel(R) Extension for Scikit-learn* enabled (https://github.com/intel/scikit-learn-intelex)\n"
     ]
    }
   ],
   "source": [
    "# General Imports\n",
    "from models_utils import *\n",
    "\n",
    "# Regression Models\n",
    "from sklearn.dummy import DummyRegressor\n",
    "from sklearn.neighbors import KNeighborsRegressor\n",
    "from sklearn.linear_model import LinearRegression, SGDRegressor\n",
    "from sklearn.ensemble import RandomForestRegressor\n",
    "from sklearn.tree import DecisionTreeRegressor\n",
    "from sklearn.svm import LinearSVR"
   ],
   "metadata": {
    "collapsed": false,
    "pycharm": {
     "name": "#%%\n"
    }
   }
  },
  {
   "cell_type": "markdown",
   "source": [
    "# Training & Test Sets\n"
   ],
   "metadata": {
    "collapsed": false,
    "pycharm": {
     "name": "#%% md\n"
    }
   }
  },
  {
   "cell_type": "code",
   "execution_count": 2,
   "outputs": [],
   "source": [
    "feature_selection_columns = load_from_pickle(\"Training_Test_Sets/Regression/X_train_feature_selection\").loc[:,\n",
    "                            \"MolecularWeight\":].columns"
   ],
   "metadata": {
    "collapsed": false,
    "pycharm": {
     "name": "#%%\n"
    }
   }
  },
  {
   "cell_type": "code",
   "execution_count": 3,
   "outputs": [],
   "source": [
    "X_train = load_from_pickle(\"Training_Test_Sets/Regression/X_train_feature_selection\")\n",
    "X_train.drop(columns=[\"Protein_Accession\", \"Drug_CID\", \"Activity_Name\"], inplace=True)\n",
    "X_train = X_train.to_numpy()\n",
    "\n",
    "y_train = load_from_pickle(\"Training_Test_Sets/Regression/y_train\")\n",
    "y_train_binary = y_train.loc[:, \"Activity_Binary\"]\n",
    "y_train.drop(columns=[\"Activity_Binary\"], inplace=True)\n",
    "y_train = y_train.to_numpy().flatten()"
   ],
   "metadata": {
    "collapsed": false,
    "pycharm": {
     "name": "#%%\n"
    }
   }
  },
  {
   "cell_type": "code",
   "execution_count": 4,
   "outputs": [],
   "source": [
    "X_test = load_from_pickle(\"Training_Test_Sets/Regression/X_test_feature_selection\")\n",
    "X_test.drop(columns=[\"Protein_Accession\", \"Drug_CID\", \"Activity_Name\"], inplace=True)\n",
    "X_test = X_test.to_numpy()\n",
    "\n",
    "y_test = load_from_pickle(\"Training_Test_Sets/Regression/y_test\")\n",
    "y_test_binary = y_test.loc[:, \"Activity_Binary\"]\n",
    "y_test.drop(columns=[\"Activity_Binary\"], inplace=True)\n",
    "y_test = y_test.to_numpy().flatten()"
   ],
   "metadata": {
    "collapsed": false,
    "pycharm": {
     "name": "#%%\n"
    }
   }
  },
  {
   "cell_type": "code",
   "execution_count": 5,
   "outputs": [
    {
     "name": "stdout",
     "output_type": "stream",
     "text": [
      "X_train shape: (10956, 693)\n",
      "y_train shape: 10956 (Binding Count: 3796, Non-Binding Count: 7160)\n",
      "X_test shape: (102, 693)\n",
      "y_test shape: 102 (Binding Count: 27, Non-Binding Count: 75)\n"
     ]
    }
   ],
   "source": [
    "# Useful Information & Sanity Checks\n",
    "print(f\"X_train shape: {X_train.shape}\")\n",
    "print(f\"y_train shape: {y_train.shape[0]} \", end=\"\")\n",
    "print(f\"(Binding Count: {y_train_binary[y_train_binary == 1].shape[0]}, \", end=\"\")\n",
    "print(f\"Non-Binding Count: {y_train_binary[y_train_binary == 0].shape[0]})\")\n",
    "\n",
    "print(f\"X_test shape: {X_test.shape}\")\n",
    "print(f\"y_test shape: {y_test.shape[0]} \", end=\"\")\n",
    "print(f\"(Binding Count: {y_test_binary[y_test_binary == 1].shape[0]}, \", end=\"\")\n",
    "print(f\"Non-Binding Count: {y_test_binary[y_test_binary == 0].shape[0]})\")"
   ],
   "metadata": {
    "collapsed": false,
    "pycharm": {
     "name": "#%%\n"
    }
   }
  },
  {
   "cell_type": "markdown",
   "source": [
    "# Model Training & Testing"
   ],
   "metadata": {
    "collapsed": false,
    "pycharm": {
     "name": "#%% md\n"
    }
   }
  },
  {
   "cell_type": "code",
   "execution_count": 6,
   "outputs": [],
   "source": [
    "def on_step(optim_result):\n",
    "    global index\n",
    "    print(f\"Iteration Completed: {index}\")\n",
    "    index += 1"
   ],
   "metadata": {
    "collapsed": false,
    "pycharm": {
     "name": "#%%\n"
    }
   }
  },
  {
   "cell_type": "markdown",
   "source": [
    "## Dummy Regressor (DR)"
   ],
   "metadata": {
    "collapsed": false,
    "pycharm": {
     "name": "#%% md\n"
    }
   }
  },
  {
   "cell_type": "code",
   "execution_count": 7,
   "outputs": [
    {
     "data": {
      "text/plain": "{'memory': None,\n 'steps': [('scale', StandardScaler()), ('model', DummyRegressor())],\n 'verbose': False,\n 'scale': StandardScaler(),\n 'model': DummyRegressor(),\n 'scale__copy': True,\n 'scale__with_mean': True,\n 'scale__with_std': True,\n 'model__constant': None,\n 'model__quantile': None,\n 'model__strategy': 'mean'}"
     },
     "execution_count": 7,
     "metadata": {},
     "output_type": "execute_result"
    }
   ],
   "source": [
    "dummy_regressor = Pipeline(\n",
    "    [\n",
    "        ('scale', StandardScaler()),\n",
    "        ('model', DummyRegressor()),\n",
    "    ]\n",
    ")\n",
    "dummy_regressor.get_params()"
   ],
   "metadata": {
    "collapsed": false,
    "pycharm": {
     "name": "#%%\n"
    }
   }
  },
  {
   "cell_type": "markdown",
   "source": [
    "### Training"
   ],
   "metadata": {
    "collapsed": false,
    "pycharm": {
     "name": "#%% md\n"
    }
   }
  },
  {
   "cell_type": "code",
   "execution_count": 8,
   "outputs": [],
   "source": [
    "# dummy_regressor.fit(X_train, y_train)\n",
    "#\n",
    "# y_train_pred = dummy_regressor.predict(X_train)\n",
    "# calculate_metrics_regression(y_train, y_train_pred)\n",
    "#\n",
    "# # Save Model\n",
    "# dump(dummy_regressor, 'Dataset_Files/Baseline_Models/Regression/dr.joblib')"
   ],
   "metadata": {
    "collapsed": false,
    "pycharm": {
     "name": "#%%\n"
    }
   }
  },
  {
   "cell_type": "code",
   "execution_count": 9,
   "outputs": [],
   "source": [
    "# Load Model\n",
    "dummy_regressor = load('Dataset_Files/Baseline_Models/Regression/dr.joblib')"
   ],
   "metadata": {
    "collapsed": false,
    "pycharm": {
     "name": "#%%\n"
    }
   }
  },
  {
   "cell_type": "code",
   "execution_count": 10,
   "outputs": [
    {
     "name": "stdout",
     "output_type": "stream",
     "text": [
      "Metrics after 1000 bootstrapped samples of size 1000\n",
      "--------------------------------------------------------\n",
      "Median Negated-MAE: -2.10 with a 95% confidence interval of [-2.21,-2.00]\n",
      "Median R2: -0.00 with a 95% confidence interval of [-0.01,0.00]\n"
     ]
    }
   ],
   "source": [
    "get_confidence_intervals(dummy_regressor, X_train, y_train, 1000, \"Regression\")"
   ],
   "metadata": {
    "collapsed": false,
    "pycharm": {
     "name": "#%%\n"
    }
   }
  },
  {
   "cell_type": "markdown",
   "source": [
    "### Testing"
   ],
   "metadata": {
    "collapsed": false,
    "pycharm": {
     "name": "#%% md\n"
    }
   }
  },
  {
   "cell_type": "code",
   "execution_count": 11,
   "outputs": [
    {
     "name": "stdout",
     "output_type": "stream",
     "text": [
      "Metrics after 1000 bootstrapped samples of size 50\n",
      "--------------------------------------------------------\n",
      "Median Negated-MAE: -1.99 with a 95% confidence interval of [-2.35,-1.68]\n",
      "Median R2: -0.03 with a 95% confidence interval of [-0.31,-0.00]\n"
     ]
    }
   ],
   "source": [
    "get_confidence_intervals(dummy_regressor, X_test, y_test, 50, \"Regression\")"
   ],
   "metadata": {
    "collapsed": false,
    "pycharm": {
     "name": "#%%\n"
    }
   }
  },
  {
   "cell_type": "markdown",
   "source": [
    "## Linear Regression (LR)"
   ],
   "metadata": {
    "collapsed": false,
    "pycharm": {
     "name": "#%% md\n"
    }
   }
  },
  {
   "cell_type": "code",
   "execution_count": 12,
   "outputs": [
    {
     "data": {
      "text/plain": "{'memory': None,\n 'steps': [('scale', StandardScaler()),\n  ('model', LinearRegression(n_jobs=-1))],\n 'verbose': False,\n 'scale': StandardScaler(),\n 'model': LinearRegression(n_jobs=-1),\n 'scale__copy': True,\n 'scale__with_mean': True,\n 'scale__with_std': True,\n 'model__copy_X': True,\n 'model__fit_intercept': True,\n 'model__n_jobs': -1,\n 'model__positive': False}"
     },
     "execution_count": 12,
     "metadata": {},
     "output_type": "execute_result"
    }
   ],
   "source": [
    "linear_regression = Pipeline(\n",
    "    [\n",
    "        ('scale', StandardScaler()),\n",
    "        ('model', LinearRegression(n_jobs=-1))\n",
    "    ]\n",
    ")\n",
    "linear_regression.get_params()"
   ],
   "metadata": {
    "collapsed": false,
    "pycharm": {
     "name": "#%%\n"
    }
   }
  },
  {
   "cell_type": "markdown",
   "source": [
    "### Training"
   ],
   "metadata": {
    "collapsed": false,
    "pycharm": {
     "name": "#%% md\n"
    }
   }
  },
  {
   "cell_type": "code",
   "execution_count": 13,
   "outputs": [],
   "source": [
    "# linear_regression.fit(X_train, y_train)\n",
    "#\n",
    "# y_train_pred = linear_regression.predict(X_train)\n",
    "# calculate_metrics_regression(y_train, y_train_pred)\n",
    "#\n",
    "# # Save Model\n",
    "# dump(linear_regression, 'Dataset_Files/Baseline_Models/Regression/lr.joblib')"
   ],
   "metadata": {
    "collapsed": false,
    "pycharm": {
     "name": "#%%\n"
    }
   }
  },
  {
   "cell_type": "code",
   "execution_count": 14,
   "outputs": [],
   "source": [
    "# Load Model\n",
    "linear_regression = load('Dataset_Files/Baseline_Models/Regression/lr.joblib')"
   ],
   "metadata": {
    "collapsed": false,
    "pycharm": {
     "name": "#%%\n"
    }
   }
  },
  {
   "cell_type": "code",
   "execution_count": 15,
   "outputs": [
    {
     "name": "stdout",
     "output_type": "stream",
     "text": [
      "Metrics after 1000 bootstrapped samples of size 1000\n",
      "--------------------------------------------------------\n",
      "Median Negated-MAE: -1.02 with a 95% confidence interval of [-1.10,-0.95]\n",
      "Median R2: 0.64 with a 95% confidence interval of [0.58,0.69]\n"
     ]
    }
   ],
   "source": [
    "get_confidence_intervals(linear_regression, X_train, y_train, 1000, \"Regression\")"
   ],
   "metadata": {
    "collapsed": false,
    "pycharm": {
     "name": "#%%\n"
    }
   }
  },
  {
   "cell_type": "markdown",
   "source": [
    "### Testing"
   ],
   "metadata": {
    "collapsed": false,
    "pycharm": {
     "name": "#%% md\n"
    }
   }
  },
  {
   "cell_type": "code",
   "execution_count": 16,
   "outputs": [
    {
     "name": "stdout",
     "output_type": "stream",
     "text": [
      "Metrics after 1000 bootstrapped samples of size 50\n",
      "--------------------------------------------------------\n",
      "Median Negated-MAE: -3.71 with a 95% confidence interval of [-4.46,-2.96]\n",
      "Median R2: -3.23 with a 95% confidence interval of [-7.21,-1.37]\n"
     ]
    }
   ],
   "source": [
    "get_confidence_intervals(linear_regression, X_test, y_test, 50, \"Regression\")"
   ],
   "metadata": {
    "collapsed": false,
    "pycharm": {
     "name": "#%%\n"
    }
   }
  },
  {
   "cell_type": "markdown",
   "source": [
    "## Linear Support Vector Regression (LSVR)"
   ],
   "metadata": {
    "collapsed": false,
    "pycharm": {
     "name": "#%% md\n"
    }
   }
  },
  {
   "cell_type": "code",
   "execution_count": 17,
   "outputs": [
    {
     "data": {
      "text/plain": "{'memory': None,\n 'steps': [('scale', StandardScaler()), ('model', LinearSVR(random_state=42))],\n 'verbose': False,\n 'scale': StandardScaler(),\n 'model': LinearSVR(random_state=42),\n 'scale__copy': True,\n 'scale__with_mean': True,\n 'scale__with_std': True,\n 'model__C': 1.0,\n 'model__dual': True,\n 'model__epsilon': 0.0,\n 'model__fit_intercept': True,\n 'model__intercept_scaling': 1.0,\n 'model__loss': 'epsilon_insensitive',\n 'model__max_iter': 1000,\n 'model__random_state': 42,\n 'model__tol': 0.0001,\n 'model__verbose': 0}"
     },
     "execution_count": 17,
     "metadata": {},
     "output_type": "execute_result"
    }
   ],
   "source": [
    "pipe = Pipeline(\n",
    "    [\n",
    "        ('scale', StandardScaler()),\n",
    "        ('model', LinearSVR(random_state=42))\n",
    "    ]\n",
    ")\n",
    "pipe.get_params()"
   ],
   "metadata": {
    "collapsed": false,
    "pycharm": {
     "name": "#%%\n"
    }
   }
  },
  {
   "cell_type": "code",
   "execution_count": 18,
   "outputs": [],
   "source": [
    "model = BayesSearchCV(estimator=pipe,\n",
    "                      search_spaces={\n",
    "                          'model__epsilon': Real(1e-6, 1e+2, prior='log-uniform'),\n",
    "                          'model__C': Real(1e-6, 1e+2, prior='log-uniform'),\n",
    "                          'model__loss': Categorical(['epsilon_insensitive','squared_epsilon_insensitive']),\n",
    "                          'model__max_iter': Integer(500, 5000),\n",
    "                      },\n",
    "                      scoring='r2',\n",
    "                      cv=5,\n",
    "                      error_score=np.nan,\n",
    "                      n_jobs=-1,\n",
    "                      pre_dispatch='2*n_jobs',\n",
    "                      random_state=42)"
   ],
   "metadata": {
    "collapsed": false,
    "pycharm": {
     "name": "#%%\n"
    }
   }
  },
  {
   "cell_type": "markdown",
   "source": [
    "### Training"
   ],
   "metadata": {
    "collapsed": false,
    "pycharm": {
     "name": "#%% md\n"
    }
   }
  },
  {
   "cell_type": "code",
   "execution_count": 19,
   "outputs": [],
   "source": [
    "# index = 1\n",
    "# model.fit(X_train, y_train, callback=on_step)\n",
    "#\n",
    "# optimised_lsvr = model.best_estimator_\n",
    "#\n",
    "# y_train_pred = optimised_lsvr.predict(X_train)\n",
    "# calculate_metrics_regression(y_train, y_train_pred)\n",
    "#\n",
    "# # Save Model & CV Results\n",
    "# dump(optimised_lsvr, 'Dataset_Files/Baseline_Models/Regression/optimised_lsvr.joblib')\n",
    "# np.save(\"Dataset_Files/Baseline_Models/Regression/optimised_lsvr_cv_results.npy\", model.cv_results_)"
   ],
   "metadata": {
    "collapsed": false,
    "pycharm": {
     "name": "#%%\n"
    }
   }
  },
  {
   "cell_type": "code",
   "execution_count": 20,
   "outputs": [],
   "source": [
    "# Load Model\n",
    "optimised_lsvr = load('Dataset_Files/Baseline_Models/Regression/optimised_lsvr.joblib')"
   ],
   "metadata": {
    "collapsed": false,
    "pycharm": {
     "name": "#%%\n"
    }
   }
  },
  {
   "cell_type": "code",
   "execution_count": 21,
   "outputs": [
    {
     "name": "stdout",
     "output_type": "stream",
     "text": [
      "Metrics after 1000 bootstrapped samples of size 1000\n",
      "--------------------------------------------------------\n",
      "Median Negated-MAE: -1.08 with a 95% confidence interval of [-1.16,-1.00]\n",
      "Median R2: 0.61 with a 95% confidence interval of [0.56,0.66]\n"
     ]
    }
   ],
   "source": [
    "get_confidence_intervals(optimised_lsvr, X_train, y_train, 1000, \"Regression\")"
   ],
   "metadata": {
    "collapsed": false,
    "pycharm": {
     "name": "#%%\n"
    }
   }
  },
  {
   "cell_type": "code",
   "execution_count": 22,
   "outputs": [
    {
     "data": {
      "text/plain": "{'memory': None,\n 'steps': [('scale', StandardScaler()),\n  ('model',\n   LinearSVR(C=0.001851285810775567, epsilon=1.7367384227116365e-06,\n             loss='squared_epsilon_insensitive', max_iter=5000, random_state=42))],\n 'verbose': False,\n 'scale': StandardScaler(),\n 'model': LinearSVR(C=0.001851285810775567, epsilon=1.7367384227116365e-06,\n           loss='squared_epsilon_insensitive', max_iter=5000, random_state=42),\n 'scale__copy': True,\n 'scale__with_mean': True,\n 'scale__with_std': True,\n 'model__C': 0.001851285810775567,\n 'model__dual': True,\n 'model__epsilon': 1.7367384227116365e-06,\n 'model__fit_intercept': True,\n 'model__intercept_scaling': 1.0,\n 'model__loss': 'squared_epsilon_insensitive',\n 'model__max_iter': 5000,\n 'model__random_state': 42,\n 'model__tol': 0.0001,\n 'model__verbose': 0}"
     },
     "execution_count": 22,
     "metadata": {},
     "output_type": "execute_result"
    }
   ],
   "source": [
    "optimised_lsvr.get_params()"
   ],
   "metadata": {
    "collapsed": false,
    "pycharm": {
     "name": "#%%\n"
    }
   }
  },
  {
   "cell_type": "code",
   "execution_count": 23,
   "outputs": [
    {
     "data": {
      "text/plain": "    mean_fit_time  std_fit_time  mean_score_time  std_score_time  \\\n47       2.047634      0.035547         0.023728        0.005731   \n30       2.933962      0.044377         0.022287        0.005709   \n33       1.780096      0.027043         0.024991        0.005911   \n49       3.408788      0.052016         0.028323        0.005199   \n27       4.213115      0.062348         0.030693        0.006360   \n41       4.505347      0.052740         0.021083        0.003512   \n35       3.965747      0.051097         0.021227        0.004543   \n24       2.638353      0.043957         0.023820        0.005460   \n25       1.303724      0.033677         0.023510        0.004089   \n45       5.643710      0.055622         0.022717        0.004778   \n43       6.035654      0.061741         0.024809        0.004851   \n39       7.060188      0.099597         0.017947        0.002769   \n42       9.805039      0.092338         0.024368        0.004885   \n23       2.293178      0.026594         0.028789        0.003946   \n22       1.233405      0.027235         0.025859        0.003063   \n46      21.170026      0.117191         0.019465        0.003192   \n21      14.750124      0.038732         0.024455        0.003454   \n20      47.367837      0.377675         0.016473        0.002068   \n28      16.484411      0.064090         0.022301        0.002301   \n0        2.106266      0.067140         0.033938        0.026519   \n40      57.351615      0.547394         0.032993        0.012576   \n26      64.859530      0.654437         0.024739        0.003886   \n16       3.756593      0.302151         0.022681        0.005003   \n32       0.657128      0.009686         0.034017        0.004198   \n37      17.410433      0.170554         0.016783        0.003116   \n34      13.945580      0.052075         0.024422        0.007312   \n19     133.256927      0.118925         0.021244        0.003362   \n13     133.780480      0.081937         0.020752        0.003384   \n11       1.231734      0.034050         0.019546        0.004139   \n10       0.962950      0.021599         0.034404        0.007097   \n29      40.915388      0.079267         0.022976        0.005570   \n36       5.420588      0.400799         0.021010        0.005565   \n6       25.354249      1.368888         0.021111        0.005082   \n44       9.705632      0.068969         0.019163        0.002558   \n31      23.496860      1.265959         0.018904        0.004584   \n38       8.500849      0.058191         0.021108        0.004055   \n4      105.974145      0.124039         0.019200        0.002229   \n3      120.046993      0.113711         0.026009        0.006072   \n14       0.621559      0.031419         0.030721        0.003628   \n17      52.254980      0.074387         0.020867        0.004811   \n12      96.224504      0.097768         0.019386        0.000883   \n8       74.054578      0.100154         0.020630        0.004149   \n18     105.097968      0.143534         0.019408        0.003237   \n15       0.644923      0.005749         0.052582        0.001032   \n48       0.484078      0.007519         0.037118        0.003155   \n1        0.497999      0.040818         0.029136        0.003990   \n9        0.550354      0.017541         0.034524        0.005631   \n5        0.365451      0.013950         0.032350        0.004271   \n7        0.383175      0.011801         0.037206        0.003864   \n2        0.325328      0.026491         0.033307        0.009489   \n\n   param_model__C param_model__epsilon            param_model__loss  \\\n47       0.001851             0.000002  squared_epsilon_insensitive   \n30       0.003441             0.000001  squared_epsilon_insensitive   \n33       0.001642             0.045062  squared_epsilon_insensitive   \n49        0.00388              0.00682  squared_epsilon_insensitive   \n27       0.003815             0.072315  squared_epsilon_insensitive   \n41       0.004401             0.039398  squared_epsilon_insensitive   \n35       0.004596             0.025702  squared_epsilon_insensitive   \n24       0.002613             0.179559  squared_epsilon_insensitive   \n25       0.001259             0.097121  squared_epsilon_insensitive   \n45       0.006337             0.000003  squared_epsilon_insensitive   \n43       0.006996             0.001351  squared_epsilon_insensitive   \n39        0.00982             0.000002  squared_epsilon_insensitive   \n42       0.010535             0.000821  squared_epsilon_insensitive   \n23       0.002535             0.418807  squared_epsilon_insensitive   \n22       0.001074             0.297259  squared_epsilon_insensitive   \n46       0.026259             0.000006  squared_epsilon_insensitive   \n21       0.034478             0.002987  squared_epsilon_insensitive   \n20        0.06465             0.004179  squared_epsilon_insensitive   \n28       0.070607             0.000001  squared_epsilon_insensitive   \n0        0.001909             0.663447  squared_epsilon_insensitive   \n40       0.078666             0.000003  squared_epsilon_insensitive   \n26        0.08244             0.001731  squared_epsilon_insensitive   \n16       0.008868             0.741273          epsilon_insensitive   \n32       0.000289             0.000001  squared_epsilon_insensitive   \n37       0.034022              0.77313  squared_epsilon_insensitive   \n34       0.143545             0.000163  squared_epsilon_insensitive   \n19       0.375549             0.000051  squared_epsilon_insensitive   \n13       1.844856              0.00006  squared_epsilon_insensitive   \n11       0.001261              1.06254          epsilon_insensitive   \n10       0.000446             0.758677  squared_epsilon_insensitive   \n29       0.873348             0.000001  squared_epsilon_insensitive   \n36       0.003778             0.039728          epsilon_insensitive   \n6        0.086424             1.595567          epsilon_insensitive   \n44       0.009624             0.001155          epsilon_insensitive   \n31       0.011954             0.000002          epsilon_insensitive   \n38       0.003806             0.000001          epsilon_insensitive   \n4        2.491309             0.003193  squared_epsilon_insensitive   \n3        3.156225             0.000024  squared_epsilon_insensitive   \n14       0.000062             0.009625  squared_epsilon_insensitive   \n17       3.499436             0.017472  squared_epsilon_insensitive   \n12       9.871215             0.001291  squared_epsilon_insensitive   \n8       44.037625             0.402691  squared_epsilon_insensitive   \n18          100.0             0.000055          epsilon_insensitive   \n15       0.000002             0.000051  squared_epsilon_insensitive   \n48       0.000001             0.000001  squared_epsilon_insensitive   \n1        5.001576            11.655267          epsilon_insensitive   \n9        0.000001             3.488511  squared_epsilon_insensitive   \n5        0.745116            32.730897          epsilon_insensitive   \n7        0.022245             22.91257          epsilon_insensitive   \n2         0.00362            22.375883          epsilon_insensitive   \n\n   param_model__max_iter                                             params  \\\n47                  5000  {'model__C': 0.001851285810775567, 'model__eps...   \n30                  5000  {'model__C': 0.003441089024486077, 'model__eps...   \n33                   500  {'model__C': 0.0016418132108535026, 'model__ep...   \n49                  5000  {'model__C': 0.003880449566530708, 'model__eps...   \n27                   500  {'model__C': 0.0038154220937046883, 'model__ep...   \n41                  5000  {'model__C': 0.004401485170681522, 'model__eps...   \n35                   500  {'model__C': 0.004595938550345414, 'model__eps...   \n24                   500  {'model__C': 0.0026132614577066555, 'model__ep...   \n25                  5000  {'model__C': 0.001259433299719621, 'model__eps...   \n45                  5000  {'model__C': 0.006337393415600314, 'model__eps...   \n43                  5000  {'model__C': 0.00699582084096577, 'model__epsi...   \n39                   500  {'model__C': 0.009820384752035678, 'model__eps...   \n42                   500  {'model__C': 0.010535027738338056, 'model__eps...   \n23                  5000  {'model__C': 0.002535229354010442, 'model__eps...   \n22                  5000  {'model__C': 0.001074477679296116, 'model__eps...   \n46                  5000  {'model__C': 0.026258553370380938, 'model__eps...   \n21                   500  {'model__C': 0.034478308149681926, 'model__eps...   \n20                  4652  {'model__C': 0.06465040545235363, 'model__epsi...   \n28                   500  {'model__C': 0.07060696769564573, 'model__epsi...   \n0                   1921  {'model__C': 0.0019091131576909443, 'model__ep...   \n40                  5000  {'model__C': 0.07866644633847468, 'model__epsi...   \n26                  5000  {'model__C': 0.08244038951153121, 'model__epsi...   \n16                  2765  {'model__C': 0.008868048877672691, 'model__eps...   \n32                   500  {'model__C': 0.0002892322052300771, 'model__ep...   \n37                  5000  {'model__C': 0.034022490468199496, 'model__eps...   \n34                   500  {'model__C': 0.14354534412004422, 'model__epsi...   \n19                  4902  {'model__C': 0.37554923192814094, 'model__epsi...   \n13                  4579  {'model__C': 1.8448564856349556, 'model__epsil...   \n11                  3493  {'model__C': 0.0012608679998700125, 'model__ep...   \n10                  2249  {'model__C': 0.0004455125218834895, 'model__ep...   \n29                  1401  {'model__C': 0.8733483203976019, 'model__epsil...   \n36                  5000  {'model__C': 0.0037776798342588585, 'model__ep...   \n6                   4434  {'model__C': 0.08642410048155082, 'model__epsi...   \n44                   500  {'model__C': 0.009623547024523789, 'model__eps...   \n31                  5000  {'model__C': 0.0119544520103026, 'model__epsil...   \n38                   500  {'model__C': 0.003806124057699026, 'model__eps...   \n4                   3721  {'model__C': 2.491308632420524, 'model__epsilo...   \n3                   4112  {'model__C': 3.1562246465541888, 'model__epsil...   \n14                  4551  {'model__C': 6.24434576291244e-05, 'model__eps...   \n17                  1746  {'model__C': 3.499436382260593, 'model__epsilo...   \n12                  3386  {'model__C': 9.871214526441658, 'model__epsilo...   \n8                   2371  {'model__C': 44.037625157309144, 'model__epsil...   \n18                  3980  {'model__C': 100.0, 'model__epsilon': 5.516886...   \n15                  4747  {'model__C': 2.455855804873173e-06, 'model__ep...   \n48                  5000  {'model__C': 1e-06, 'model__epsilon': 1e-06, '...   \n1                   4781  {'model__C': 5.001575677983704, 'model__epsilo...   \n9                   1645  {'model__C': 1.0691593986059968e-06, 'model__e...   \n5                   1348  {'model__C': 0.7451164370027008, 'model__epsil...   \n7                   4269  {'model__C': 0.022244596968016832, 'model__eps...   \n2                   2450  {'model__C': 0.003619595990038508, 'model__eps...   \n\n    split0_test_score  split1_test_score  split2_test_score  \\\n47           0.569444           0.555236           0.538904   \n30           0.565942           0.557069           0.540705   \n33           0.569160           0.553814           0.537688   \n49           0.564935           0.557116           0.540788   \n27           0.564574           0.556384           0.539825   \n41           0.563658           0.556870           0.540478   \n35           0.563365           0.557008           0.540705   \n24           0.565350           0.553418           0.537095   \n25           0.568249           0.550509           0.534973   \n45           0.560258           0.556981           0.541142   \n43           0.559149           0.556820           0.541087   \n39           0.555025           0.556035           0.540845   \n42           0.554110           0.555813           0.540739   \n23           0.558301           0.545289           0.530273   \n22           0.560971           0.541060           0.527730   \n46           0.540122           0.551658           0.538876   \n21           0.535385           0.549887           0.538103   \n20           0.523195           0.545626           0.536551   \n28           0.521481           0.544120           0.535923   \n0            0.544094           0.527851           0.515448   \n40           0.519241           0.544161           0.536175   \n26           0.518291           0.543823           0.536057   \n16           0.533225           0.527717           0.527241   \n32           0.548914           0.519178           0.509535   \n37           0.518451           0.528682           0.512081   \n34           0.503218           0.532510           0.530703   \n19           0.488656           0.534272           0.533538   \n13           0.455134           0.518702           0.521839   \n11           0.498718           0.479350           0.470009   \n10           0.500933           0.469969           0.466291   \n29           0.463196           0.506818           0.487002   \n36           0.485162           0.474694           0.472453   \n6            0.478691           0.481959           0.470978   \n44           0.469650           0.469369           0.474434   \n31           0.466400           0.471094           0.474512   \n38           0.476426           0.465347           0.461795   \n4            0.420165           0.482049           0.500759   \n3            0.384904           0.454286           0.479253   \n14           0.408544           0.363211           0.370277   \n17           0.276964           0.310198           0.332585   \n12           0.229274           0.263775           0.340207   \n8            0.296825           0.307299           0.287342   \n18           0.052647           0.206433           0.109336   \n15          -0.156028          -0.230398          -0.191025   \n48          -0.265483          -0.338909          -0.299161   \n1           -0.385866          -0.457134          -0.423029   \n9           -0.399910          -0.473188          -0.432540   \n5           -0.428026          -0.500927          -0.459878   \n7           -0.428026          -0.500927          -0.459878   \n2           -0.428026          -0.500927          -0.459878   \n\n    split3_test_score  split4_test_score  mean_test_score  std_test_score  \\\n47           0.541235           0.514056         0.543775        0.018459   \n30           0.540555           0.511874         0.543229        0.018461   \n33           0.540525           0.514422         0.543122        0.018178   \n49           0.540091           0.511363         0.542859        0.018409   \n27           0.539570           0.511745         0.542419        0.018120   \n41           0.539345           0.510952         0.542261        0.018238   \n35           0.539271           0.510673         0.542204        0.018287   \n24           0.539002           0.513380         0.541649        0.017476   \n25           0.538480           0.514402         0.541323        0.017791   \n45           0.537780           0.508910         0.541014        0.018256   \n43           0.537177           0.508388         0.540524        0.018203   \n39           0.534906           0.506487         0.538660        0.018020   \n42           0.534377           0.506071         0.538222        0.017981   \n23           0.533337           0.511097         0.535659        0.015767   \n22           0.531520           0.511187         0.534494        0.016383   \n46           0.526897           0.499797         0.531470        0.017671   \n21           0.524468           0.497691         0.529107        0.017667   \n20           0.519013           0.492426         0.523362        0.018141   \n28           0.517482           0.492355         0.522272        0.017789   \n0            0.519579           0.502030         0.521800        0.013927   \n40           0.517356           0.490732         0.521533        0.018427   \n26           0.516928           0.490353         0.521090        0.018497   \n16           0.526647           0.481549         0.519276        0.019010   \n32           0.510132           0.498201         0.517192        0.017201   \n37           0.503847           0.495802         0.511772        0.011388   \n34           0.505594           0.485003         0.511406        0.017976   \n19           0.504462           0.479685         0.508123        0.022498   \n13           0.484100           0.461878         0.488331        0.027802   \n11           0.474494           0.453204         0.475155        0.014708   \n10           0.464879           0.463669         0.473148        0.014053   \n29           0.459980           0.445664         0.472532        0.021687   \n36           0.474786           0.436029         0.468625        0.016884   \n6            0.461544           0.442600         0.467154        0.014151   \n44           0.459033           0.432946         0.461086        0.014941   \n31           0.456822           0.433041         0.460374        0.014905   \n38           0.461542           0.429740         0.458970        0.015585   \n4            0.433535           0.417352         0.450772        0.034140   \n3            0.443389           0.437955         0.439957        0.030971   \n14           0.360668           0.385348         0.377610        0.017691   \n17           0.384374           0.338283         0.328481        0.035285   \n12           0.276434           0.272921         0.276522        0.035954   \n8            0.210402           0.265154         0.273404        0.034436   \n18           0.160115           0.088008         0.123308        0.054220   \n15          -0.211171          -0.115669        -0.180858        0.040847   \n48          -0.325033          -0.222051        -0.290127        0.042241   \n1           -0.436774          -0.332523        -0.407065        0.043932   \n9           -0.469375          -0.354339        -0.425870        0.044647   \n5           -0.500749          -0.380634        -0.454043        0.045781   \n7           -0.500749          -0.380634        -0.454043        0.045781   \n2           -0.500749          -0.380634        -0.454043        0.045781   \n\n    rank_test_score  \n47                1  \n30                2  \n33                3  \n49                4  \n27                5  \n41                6  \n35                7  \n24                8  \n25                9  \n45               10  \n43               11  \n39               12  \n42               13  \n23               14  \n22               15  \n46               16  \n21               17  \n20               18  \n28               19  \n0                20  \n40               21  \n26               22  \n16               23  \n32               24  \n37               25  \n34               26  \n19               27  \n13               28  \n11               29  \n10               30  \n29               31  \n36               32  \n6                33  \n44               34  \n31               35  \n38               36  \n4                37  \n3                38  \n14               39  \n17               40  \n12               41  \n8                42  \n18               43  \n15               44  \n48               45  \n1                46  \n9                47  \n5                48  \n7                48  \n2                48  ",
      "text/html": "<div>\n<style scoped>\n    .dataframe tbody tr th:only-of-type {\n        vertical-align: middle;\n    }\n\n    .dataframe tbody tr th {\n        vertical-align: top;\n    }\n\n    .dataframe thead th {\n        text-align: right;\n    }\n</style>\n<table border=\"1\" class=\"dataframe\">\n  <thead>\n    <tr style=\"text-align: right;\">\n      <th></th>\n      <th>mean_fit_time</th>\n      <th>std_fit_time</th>\n      <th>mean_score_time</th>\n      <th>std_score_time</th>\n      <th>param_model__C</th>\n      <th>param_model__epsilon</th>\n      <th>param_model__loss</th>\n      <th>param_model__max_iter</th>\n      <th>params</th>\n      <th>split0_test_score</th>\n      <th>split1_test_score</th>\n      <th>split2_test_score</th>\n      <th>split3_test_score</th>\n      <th>split4_test_score</th>\n      <th>mean_test_score</th>\n      <th>std_test_score</th>\n      <th>rank_test_score</th>\n    </tr>\n  </thead>\n  <tbody>\n    <tr>\n      <th>47</th>\n      <td>2.047634</td>\n      <td>0.035547</td>\n      <td>0.023728</td>\n      <td>0.005731</td>\n      <td>0.001851</td>\n      <td>0.000002</td>\n      <td>squared_epsilon_insensitive</td>\n      <td>5000</td>\n      <td>{'model__C': 0.001851285810775567, 'model__eps...</td>\n      <td>0.569444</td>\n      <td>0.555236</td>\n      <td>0.538904</td>\n      <td>0.541235</td>\n      <td>0.514056</td>\n      <td>0.543775</td>\n      <td>0.018459</td>\n      <td>1</td>\n    </tr>\n    <tr>\n      <th>30</th>\n      <td>2.933962</td>\n      <td>0.044377</td>\n      <td>0.022287</td>\n      <td>0.005709</td>\n      <td>0.003441</td>\n      <td>0.000001</td>\n      <td>squared_epsilon_insensitive</td>\n      <td>5000</td>\n      <td>{'model__C': 0.003441089024486077, 'model__eps...</td>\n      <td>0.565942</td>\n      <td>0.557069</td>\n      <td>0.540705</td>\n      <td>0.540555</td>\n      <td>0.511874</td>\n      <td>0.543229</td>\n      <td>0.018461</td>\n      <td>2</td>\n    </tr>\n    <tr>\n      <th>33</th>\n      <td>1.780096</td>\n      <td>0.027043</td>\n      <td>0.024991</td>\n      <td>0.005911</td>\n      <td>0.001642</td>\n      <td>0.045062</td>\n      <td>squared_epsilon_insensitive</td>\n      <td>500</td>\n      <td>{'model__C': 0.0016418132108535026, 'model__ep...</td>\n      <td>0.569160</td>\n      <td>0.553814</td>\n      <td>0.537688</td>\n      <td>0.540525</td>\n      <td>0.514422</td>\n      <td>0.543122</td>\n      <td>0.018178</td>\n      <td>3</td>\n    </tr>\n    <tr>\n      <th>49</th>\n      <td>3.408788</td>\n      <td>0.052016</td>\n      <td>0.028323</td>\n      <td>0.005199</td>\n      <td>0.00388</td>\n      <td>0.00682</td>\n      <td>squared_epsilon_insensitive</td>\n      <td>5000</td>\n      <td>{'model__C': 0.003880449566530708, 'model__eps...</td>\n      <td>0.564935</td>\n      <td>0.557116</td>\n      <td>0.540788</td>\n      <td>0.540091</td>\n      <td>0.511363</td>\n      <td>0.542859</td>\n      <td>0.018409</td>\n      <td>4</td>\n    </tr>\n    <tr>\n      <th>27</th>\n      <td>4.213115</td>\n      <td>0.062348</td>\n      <td>0.030693</td>\n      <td>0.006360</td>\n      <td>0.003815</td>\n      <td>0.072315</td>\n      <td>squared_epsilon_insensitive</td>\n      <td>500</td>\n      <td>{'model__C': 0.0038154220937046883, 'model__ep...</td>\n      <td>0.564574</td>\n      <td>0.556384</td>\n      <td>0.539825</td>\n      <td>0.539570</td>\n      <td>0.511745</td>\n      <td>0.542419</td>\n      <td>0.018120</td>\n      <td>5</td>\n    </tr>\n    <tr>\n      <th>41</th>\n      <td>4.505347</td>\n      <td>0.052740</td>\n      <td>0.021083</td>\n      <td>0.003512</td>\n      <td>0.004401</td>\n      <td>0.039398</td>\n      <td>squared_epsilon_insensitive</td>\n      <td>5000</td>\n      <td>{'model__C': 0.004401485170681522, 'model__eps...</td>\n      <td>0.563658</td>\n      <td>0.556870</td>\n      <td>0.540478</td>\n      <td>0.539345</td>\n      <td>0.510952</td>\n      <td>0.542261</td>\n      <td>0.018238</td>\n      <td>6</td>\n    </tr>\n    <tr>\n      <th>35</th>\n      <td>3.965747</td>\n      <td>0.051097</td>\n      <td>0.021227</td>\n      <td>0.004543</td>\n      <td>0.004596</td>\n      <td>0.025702</td>\n      <td>squared_epsilon_insensitive</td>\n      <td>500</td>\n      <td>{'model__C': 0.004595938550345414, 'model__eps...</td>\n      <td>0.563365</td>\n      <td>0.557008</td>\n      <td>0.540705</td>\n      <td>0.539271</td>\n      <td>0.510673</td>\n      <td>0.542204</td>\n      <td>0.018287</td>\n      <td>7</td>\n    </tr>\n    <tr>\n      <th>24</th>\n      <td>2.638353</td>\n      <td>0.043957</td>\n      <td>0.023820</td>\n      <td>0.005460</td>\n      <td>0.002613</td>\n      <td>0.179559</td>\n      <td>squared_epsilon_insensitive</td>\n      <td>500</td>\n      <td>{'model__C': 0.0026132614577066555, 'model__ep...</td>\n      <td>0.565350</td>\n      <td>0.553418</td>\n      <td>0.537095</td>\n      <td>0.539002</td>\n      <td>0.513380</td>\n      <td>0.541649</td>\n      <td>0.017476</td>\n      <td>8</td>\n    </tr>\n    <tr>\n      <th>25</th>\n      <td>1.303724</td>\n      <td>0.033677</td>\n      <td>0.023510</td>\n      <td>0.004089</td>\n      <td>0.001259</td>\n      <td>0.097121</td>\n      <td>squared_epsilon_insensitive</td>\n      <td>5000</td>\n      <td>{'model__C': 0.001259433299719621, 'model__eps...</td>\n      <td>0.568249</td>\n      <td>0.550509</td>\n      <td>0.534973</td>\n      <td>0.538480</td>\n      <td>0.514402</td>\n      <td>0.541323</td>\n      <td>0.017791</td>\n      <td>9</td>\n    </tr>\n    <tr>\n      <th>45</th>\n      <td>5.643710</td>\n      <td>0.055622</td>\n      <td>0.022717</td>\n      <td>0.004778</td>\n      <td>0.006337</td>\n      <td>0.000003</td>\n      <td>squared_epsilon_insensitive</td>\n      <td>5000</td>\n      <td>{'model__C': 0.006337393415600314, 'model__eps...</td>\n      <td>0.560258</td>\n      <td>0.556981</td>\n      <td>0.541142</td>\n      <td>0.537780</td>\n      <td>0.508910</td>\n      <td>0.541014</td>\n      <td>0.018256</td>\n      <td>10</td>\n    </tr>\n    <tr>\n      <th>43</th>\n      <td>6.035654</td>\n      <td>0.061741</td>\n      <td>0.024809</td>\n      <td>0.004851</td>\n      <td>0.006996</td>\n      <td>0.001351</td>\n      <td>squared_epsilon_insensitive</td>\n      <td>5000</td>\n      <td>{'model__C': 0.00699582084096577, 'model__epsi...</td>\n      <td>0.559149</td>\n      <td>0.556820</td>\n      <td>0.541087</td>\n      <td>0.537177</td>\n      <td>0.508388</td>\n      <td>0.540524</td>\n      <td>0.018203</td>\n      <td>11</td>\n    </tr>\n    <tr>\n      <th>39</th>\n      <td>7.060188</td>\n      <td>0.099597</td>\n      <td>0.017947</td>\n      <td>0.002769</td>\n      <td>0.00982</td>\n      <td>0.000002</td>\n      <td>squared_epsilon_insensitive</td>\n      <td>500</td>\n      <td>{'model__C': 0.009820384752035678, 'model__eps...</td>\n      <td>0.555025</td>\n      <td>0.556035</td>\n      <td>0.540845</td>\n      <td>0.534906</td>\n      <td>0.506487</td>\n      <td>0.538660</td>\n      <td>0.018020</td>\n      <td>12</td>\n    </tr>\n    <tr>\n      <th>42</th>\n      <td>9.805039</td>\n      <td>0.092338</td>\n      <td>0.024368</td>\n      <td>0.004885</td>\n      <td>0.010535</td>\n      <td>0.000821</td>\n      <td>squared_epsilon_insensitive</td>\n      <td>500</td>\n      <td>{'model__C': 0.010535027738338056, 'model__eps...</td>\n      <td>0.554110</td>\n      <td>0.555813</td>\n      <td>0.540739</td>\n      <td>0.534377</td>\n      <td>0.506071</td>\n      <td>0.538222</td>\n      <td>0.017981</td>\n      <td>13</td>\n    </tr>\n    <tr>\n      <th>23</th>\n      <td>2.293178</td>\n      <td>0.026594</td>\n      <td>0.028789</td>\n      <td>0.003946</td>\n      <td>0.002535</td>\n      <td>0.418807</td>\n      <td>squared_epsilon_insensitive</td>\n      <td>5000</td>\n      <td>{'model__C': 0.002535229354010442, 'model__eps...</td>\n      <td>0.558301</td>\n      <td>0.545289</td>\n      <td>0.530273</td>\n      <td>0.533337</td>\n      <td>0.511097</td>\n      <td>0.535659</td>\n      <td>0.015767</td>\n      <td>14</td>\n    </tr>\n    <tr>\n      <th>22</th>\n      <td>1.233405</td>\n      <td>0.027235</td>\n      <td>0.025859</td>\n      <td>0.003063</td>\n      <td>0.001074</td>\n      <td>0.297259</td>\n      <td>squared_epsilon_insensitive</td>\n      <td>5000</td>\n      <td>{'model__C': 0.001074477679296116, 'model__eps...</td>\n      <td>0.560971</td>\n      <td>0.541060</td>\n      <td>0.527730</td>\n      <td>0.531520</td>\n      <td>0.511187</td>\n      <td>0.534494</td>\n      <td>0.016383</td>\n      <td>15</td>\n    </tr>\n    <tr>\n      <th>46</th>\n      <td>21.170026</td>\n      <td>0.117191</td>\n      <td>0.019465</td>\n      <td>0.003192</td>\n      <td>0.026259</td>\n      <td>0.000006</td>\n      <td>squared_epsilon_insensitive</td>\n      <td>5000</td>\n      <td>{'model__C': 0.026258553370380938, 'model__eps...</td>\n      <td>0.540122</td>\n      <td>0.551658</td>\n      <td>0.538876</td>\n      <td>0.526897</td>\n      <td>0.499797</td>\n      <td>0.531470</td>\n      <td>0.017671</td>\n      <td>16</td>\n    </tr>\n    <tr>\n      <th>21</th>\n      <td>14.750124</td>\n      <td>0.038732</td>\n      <td>0.024455</td>\n      <td>0.003454</td>\n      <td>0.034478</td>\n      <td>0.002987</td>\n      <td>squared_epsilon_insensitive</td>\n      <td>500</td>\n      <td>{'model__C': 0.034478308149681926, 'model__eps...</td>\n      <td>0.535385</td>\n      <td>0.549887</td>\n      <td>0.538103</td>\n      <td>0.524468</td>\n      <td>0.497691</td>\n      <td>0.529107</td>\n      <td>0.017667</td>\n      <td>17</td>\n    </tr>\n    <tr>\n      <th>20</th>\n      <td>47.367837</td>\n      <td>0.377675</td>\n      <td>0.016473</td>\n      <td>0.002068</td>\n      <td>0.06465</td>\n      <td>0.004179</td>\n      <td>squared_epsilon_insensitive</td>\n      <td>4652</td>\n      <td>{'model__C': 0.06465040545235363, 'model__epsi...</td>\n      <td>0.523195</td>\n      <td>0.545626</td>\n      <td>0.536551</td>\n      <td>0.519013</td>\n      <td>0.492426</td>\n      <td>0.523362</td>\n      <td>0.018141</td>\n      <td>18</td>\n    </tr>\n    <tr>\n      <th>28</th>\n      <td>16.484411</td>\n      <td>0.064090</td>\n      <td>0.022301</td>\n      <td>0.002301</td>\n      <td>0.070607</td>\n      <td>0.000001</td>\n      <td>squared_epsilon_insensitive</td>\n      <td>500</td>\n      <td>{'model__C': 0.07060696769564573, 'model__epsi...</td>\n      <td>0.521481</td>\n      <td>0.544120</td>\n      <td>0.535923</td>\n      <td>0.517482</td>\n      <td>0.492355</td>\n      <td>0.522272</td>\n      <td>0.017789</td>\n      <td>19</td>\n    </tr>\n    <tr>\n      <th>0</th>\n      <td>2.106266</td>\n      <td>0.067140</td>\n      <td>0.033938</td>\n      <td>0.026519</td>\n      <td>0.001909</td>\n      <td>0.663447</td>\n      <td>squared_epsilon_insensitive</td>\n      <td>1921</td>\n      <td>{'model__C': 0.0019091131576909443, 'model__ep...</td>\n      <td>0.544094</td>\n      <td>0.527851</td>\n      <td>0.515448</td>\n      <td>0.519579</td>\n      <td>0.502030</td>\n      <td>0.521800</td>\n      <td>0.013927</td>\n      <td>20</td>\n    </tr>\n    <tr>\n      <th>40</th>\n      <td>57.351615</td>\n      <td>0.547394</td>\n      <td>0.032993</td>\n      <td>0.012576</td>\n      <td>0.078666</td>\n      <td>0.000003</td>\n      <td>squared_epsilon_insensitive</td>\n      <td>5000</td>\n      <td>{'model__C': 0.07866644633847468, 'model__epsi...</td>\n      <td>0.519241</td>\n      <td>0.544161</td>\n      <td>0.536175</td>\n      <td>0.517356</td>\n      <td>0.490732</td>\n      <td>0.521533</td>\n      <td>0.018427</td>\n      <td>21</td>\n    </tr>\n    <tr>\n      <th>26</th>\n      <td>64.859530</td>\n      <td>0.654437</td>\n      <td>0.024739</td>\n      <td>0.003886</td>\n      <td>0.08244</td>\n      <td>0.001731</td>\n      <td>squared_epsilon_insensitive</td>\n      <td>5000</td>\n      <td>{'model__C': 0.08244038951153121, 'model__epsi...</td>\n      <td>0.518291</td>\n      <td>0.543823</td>\n      <td>0.536057</td>\n      <td>0.516928</td>\n      <td>0.490353</td>\n      <td>0.521090</td>\n      <td>0.018497</td>\n      <td>22</td>\n    </tr>\n    <tr>\n      <th>16</th>\n      <td>3.756593</td>\n      <td>0.302151</td>\n      <td>0.022681</td>\n      <td>0.005003</td>\n      <td>0.008868</td>\n      <td>0.741273</td>\n      <td>epsilon_insensitive</td>\n      <td>2765</td>\n      <td>{'model__C': 0.008868048877672691, 'model__eps...</td>\n      <td>0.533225</td>\n      <td>0.527717</td>\n      <td>0.527241</td>\n      <td>0.526647</td>\n      <td>0.481549</td>\n      <td>0.519276</td>\n      <td>0.019010</td>\n      <td>23</td>\n    </tr>\n    <tr>\n      <th>32</th>\n      <td>0.657128</td>\n      <td>0.009686</td>\n      <td>0.034017</td>\n      <td>0.004198</td>\n      <td>0.000289</td>\n      <td>0.000001</td>\n      <td>squared_epsilon_insensitive</td>\n      <td>500</td>\n      <td>{'model__C': 0.0002892322052300771, 'model__ep...</td>\n      <td>0.548914</td>\n      <td>0.519178</td>\n      <td>0.509535</td>\n      <td>0.510132</td>\n      <td>0.498201</td>\n      <td>0.517192</td>\n      <td>0.017201</td>\n      <td>24</td>\n    </tr>\n    <tr>\n      <th>37</th>\n      <td>17.410433</td>\n      <td>0.170554</td>\n      <td>0.016783</td>\n      <td>0.003116</td>\n      <td>0.034022</td>\n      <td>0.77313</td>\n      <td>squared_epsilon_insensitive</td>\n      <td>5000</td>\n      <td>{'model__C': 0.034022490468199496, 'model__eps...</td>\n      <td>0.518451</td>\n      <td>0.528682</td>\n      <td>0.512081</td>\n      <td>0.503847</td>\n      <td>0.495802</td>\n      <td>0.511772</td>\n      <td>0.011388</td>\n      <td>25</td>\n    </tr>\n    <tr>\n      <th>34</th>\n      <td>13.945580</td>\n      <td>0.052075</td>\n      <td>0.024422</td>\n      <td>0.007312</td>\n      <td>0.143545</td>\n      <td>0.000163</td>\n      <td>squared_epsilon_insensitive</td>\n      <td>500</td>\n      <td>{'model__C': 0.14354534412004422, 'model__epsi...</td>\n      <td>0.503218</td>\n      <td>0.532510</td>\n      <td>0.530703</td>\n      <td>0.505594</td>\n      <td>0.485003</td>\n      <td>0.511406</td>\n      <td>0.017976</td>\n      <td>26</td>\n    </tr>\n    <tr>\n      <th>19</th>\n      <td>133.256927</td>\n      <td>0.118925</td>\n      <td>0.021244</td>\n      <td>0.003362</td>\n      <td>0.375549</td>\n      <td>0.000051</td>\n      <td>squared_epsilon_insensitive</td>\n      <td>4902</td>\n      <td>{'model__C': 0.37554923192814094, 'model__epsi...</td>\n      <td>0.488656</td>\n      <td>0.534272</td>\n      <td>0.533538</td>\n      <td>0.504462</td>\n      <td>0.479685</td>\n      <td>0.508123</td>\n      <td>0.022498</td>\n      <td>27</td>\n    </tr>\n    <tr>\n      <th>13</th>\n      <td>133.780480</td>\n      <td>0.081937</td>\n      <td>0.020752</td>\n      <td>0.003384</td>\n      <td>1.844856</td>\n      <td>0.00006</td>\n      <td>squared_epsilon_insensitive</td>\n      <td>4579</td>\n      <td>{'model__C': 1.8448564856349556, 'model__epsil...</td>\n      <td>0.455134</td>\n      <td>0.518702</td>\n      <td>0.521839</td>\n      <td>0.484100</td>\n      <td>0.461878</td>\n      <td>0.488331</td>\n      <td>0.027802</td>\n      <td>28</td>\n    </tr>\n    <tr>\n      <th>11</th>\n      <td>1.231734</td>\n      <td>0.034050</td>\n      <td>0.019546</td>\n      <td>0.004139</td>\n      <td>0.001261</td>\n      <td>1.06254</td>\n      <td>epsilon_insensitive</td>\n      <td>3493</td>\n      <td>{'model__C': 0.0012608679998700125, 'model__ep...</td>\n      <td>0.498718</td>\n      <td>0.479350</td>\n      <td>0.470009</td>\n      <td>0.474494</td>\n      <td>0.453204</td>\n      <td>0.475155</td>\n      <td>0.014708</td>\n      <td>29</td>\n    </tr>\n    <tr>\n      <th>10</th>\n      <td>0.962950</td>\n      <td>0.021599</td>\n      <td>0.034404</td>\n      <td>0.007097</td>\n      <td>0.000446</td>\n      <td>0.758677</td>\n      <td>squared_epsilon_insensitive</td>\n      <td>2249</td>\n      <td>{'model__C': 0.0004455125218834895, 'model__ep...</td>\n      <td>0.500933</td>\n      <td>0.469969</td>\n      <td>0.466291</td>\n      <td>0.464879</td>\n      <td>0.463669</td>\n      <td>0.473148</td>\n      <td>0.014053</td>\n      <td>30</td>\n    </tr>\n    <tr>\n      <th>29</th>\n      <td>40.915388</td>\n      <td>0.079267</td>\n      <td>0.022976</td>\n      <td>0.005570</td>\n      <td>0.873348</td>\n      <td>0.000001</td>\n      <td>squared_epsilon_insensitive</td>\n      <td>1401</td>\n      <td>{'model__C': 0.8733483203976019, 'model__epsil...</td>\n      <td>0.463196</td>\n      <td>0.506818</td>\n      <td>0.487002</td>\n      <td>0.459980</td>\n      <td>0.445664</td>\n      <td>0.472532</td>\n      <td>0.021687</td>\n      <td>31</td>\n    </tr>\n    <tr>\n      <th>36</th>\n      <td>5.420588</td>\n      <td>0.400799</td>\n      <td>0.021010</td>\n      <td>0.005565</td>\n      <td>0.003778</td>\n      <td>0.039728</td>\n      <td>epsilon_insensitive</td>\n      <td>5000</td>\n      <td>{'model__C': 0.0037776798342588585, 'model__ep...</td>\n      <td>0.485162</td>\n      <td>0.474694</td>\n      <td>0.472453</td>\n      <td>0.474786</td>\n      <td>0.436029</td>\n      <td>0.468625</td>\n      <td>0.016884</td>\n      <td>32</td>\n    </tr>\n    <tr>\n      <th>6</th>\n      <td>25.354249</td>\n      <td>1.368888</td>\n      <td>0.021111</td>\n      <td>0.005082</td>\n      <td>0.086424</td>\n      <td>1.595567</td>\n      <td>epsilon_insensitive</td>\n      <td>4434</td>\n      <td>{'model__C': 0.08642410048155082, 'model__epsi...</td>\n      <td>0.478691</td>\n      <td>0.481959</td>\n      <td>0.470978</td>\n      <td>0.461544</td>\n      <td>0.442600</td>\n      <td>0.467154</td>\n      <td>0.014151</td>\n      <td>33</td>\n    </tr>\n    <tr>\n      <th>44</th>\n      <td>9.705632</td>\n      <td>0.068969</td>\n      <td>0.019163</td>\n      <td>0.002558</td>\n      <td>0.009624</td>\n      <td>0.001155</td>\n      <td>epsilon_insensitive</td>\n      <td>500</td>\n      <td>{'model__C': 0.009623547024523789, 'model__eps...</td>\n      <td>0.469650</td>\n      <td>0.469369</td>\n      <td>0.474434</td>\n      <td>0.459033</td>\n      <td>0.432946</td>\n      <td>0.461086</td>\n      <td>0.014941</td>\n      <td>34</td>\n    </tr>\n    <tr>\n      <th>31</th>\n      <td>23.496860</td>\n      <td>1.265959</td>\n      <td>0.018904</td>\n      <td>0.004584</td>\n      <td>0.011954</td>\n      <td>0.000002</td>\n      <td>epsilon_insensitive</td>\n      <td>5000</td>\n      <td>{'model__C': 0.0119544520103026, 'model__epsil...</td>\n      <td>0.466400</td>\n      <td>0.471094</td>\n      <td>0.474512</td>\n      <td>0.456822</td>\n      <td>0.433041</td>\n      <td>0.460374</td>\n      <td>0.014905</td>\n      <td>35</td>\n    </tr>\n    <tr>\n      <th>38</th>\n      <td>8.500849</td>\n      <td>0.058191</td>\n      <td>0.021108</td>\n      <td>0.004055</td>\n      <td>0.003806</td>\n      <td>0.000001</td>\n      <td>epsilon_insensitive</td>\n      <td>500</td>\n      <td>{'model__C': 0.003806124057699026, 'model__eps...</td>\n      <td>0.476426</td>\n      <td>0.465347</td>\n      <td>0.461795</td>\n      <td>0.461542</td>\n      <td>0.429740</td>\n      <td>0.458970</td>\n      <td>0.015585</td>\n      <td>36</td>\n    </tr>\n    <tr>\n      <th>4</th>\n      <td>105.974145</td>\n      <td>0.124039</td>\n      <td>0.019200</td>\n      <td>0.002229</td>\n      <td>2.491309</td>\n      <td>0.003193</td>\n      <td>squared_epsilon_insensitive</td>\n      <td>3721</td>\n      <td>{'model__C': 2.491308632420524, 'model__epsilo...</td>\n      <td>0.420165</td>\n      <td>0.482049</td>\n      <td>0.500759</td>\n      <td>0.433535</td>\n      <td>0.417352</td>\n      <td>0.450772</td>\n      <td>0.034140</td>\n      <td>37</td>\n    </tr>\n    <tr>\n      <th>3</th>\n      <td>120.046993</td>\n      <td>0.113711</td>\n      <td>0.026009</td>\n      <td>0.006072</td>\n      <td>3.156225</td>\n      <td>0.000024</td>\n      <td>squared_epsilon_insensitive</td>\n      <td>4112</td>\n      <td>{'model__C': 3.1562246465541888, 'model__epsil...</td>\n      <td>0.384904</td>\n      <td>0.454286</td>\n      <td>0.479253</td>\n      <td>0.443389</td>\n      <td>0.437955</td>\n      <td>0.439957</td>\n      <td>0.030971</td>\n      <td>38</td>\n    </tr>\n    <tr>\n      <th>14</th>\n      <td>0.621559</td>\n      <td>0.031419</td>\n      <td>0.030721</td>\n      <td>0.003628</td>\n      <td>0.000062</td>\n      <td>0.009625</td>\n      <td>squared_epsilon_insensitive</td>\n      <td>4551</td>\n      <td>{'model__C': 6.24434576291244e-05, 'model__eps...</td>\n      <td>0.408544</td>\n      <td>0.363211</td>\n      <td>0.370277</td>\n      <td>0.360668</td>\n      <td>0.385348</td>\n      <td>0.377610</td>\n      <td>0.017691</td>\n      <td>39</td>\n    </tr>\n    <tr>\n      <th>17</th>\n      <td>52.254980</td>\n      <td>0.074387</td>\n      <td>0.020867</td>\n      <td>0.004811</td>\n      <td>3.499436</td>\n      <td>0.017472</td>\n      <td>squared_epsilon_insensitive</td>\n      <td>1746</td>\n      <td>{'model__C': 3.499436382260593, 'model__epsilo...</td>\n      <td>0.276964</td>\n      <td>0.310198</td>\n      <td>0.332585</td>\n      <td>0.384374</td>\n      <td>0.338283</td>\n      <td>0.328481</td>\n      <td>0.035285</td>\n      <td>40</td>\n    </tr>\n    <tr>\n      <th>12</th>\n      <td>96.224504</td>\n      <td>0.097768</td>\n      <td>0.019386</td>\n      <td>0.000883</td>\n      <td>9.871215</td>\n      <td>0.001291</td>\n      <td>squared_epsilon_insensitive</td>\n      <td>3386</td>\n      <td>{'model__C': 9.871214526441658, 'model__epsilo...</td>\n      <td>0.229274</td>\n      <td>0.263775</td>\n      <td>0.340207</td>\n      <td>0.276434</td>\n      <td>0.272921</td>\n      <td>0.276522</td>\n      <td>0.035954</td>\n      <td>41</td>\n    </tr>\n    <tr>\n      <th>8</th>\n      <td>74.054578</td>\n      <td>0.100154</td>\n      <td>0.020630</td>\n      <td>0.004149</td>\n      <td>44.037625</td>\n      <td>0.402691</td>\n      <td>squared_epsilon_insensitive</td>\n      <td>2371</td>\n      <td>{'model__C': 44.037625157309144, 'model__epsil...</td>\n      <td>0.296825</td>\n      <td>0.307299</td>\n      <td>0.287342</td>\n      <td>0.210402</td>\n      <td>0.265154</td>\n      <td>0.273404</td>\n      <td>0.034436</td>\n      <td>42</td>\n    </tr>\n    <tr>\n      <th>18</th>\n      <td>105.097968</td>\n      <td>0.143534</td>\n      <td>0.019408</td>\n      <td>0.003237</td>\n      <td>100.0</td>\n      <td>0.000055</td>\n      <td>epsilon_insensitive</td>\n      <td>3980</td>\n      <td>{'model__C': 100.0, 'model__epsilon': 5.516886...</td>\n      <td>0.052647</td>\n      <td>0.206433</td>\n      <td>0.109336</td>\n      <td>0.160115</td>\n      <td>0.088008</td>\n      <td>0.123308</td>\n      <td>0.054220</td>\n      <td>43</td>\n    </tr>\n    <tr>\n      <th>15</th>\n      <td>0.644923</td>\n      <td>0.005749</td>\n      <td>0.052582</td>\n      <td>0.001032</td>\n      <td>0.000002</td>\n      <td>0.000051</td>\n      <td>squared_epsilon_insensitive</td>\n      <td>4747</td>\n      <td>{'model__C': 2.455855804873173e-06, 'model__ep...</td>\n      <td>-0.156028</td>\n      <td>-0.230398</td>\n      <td>-0.191025</td>\n      <td>-0.211171</td>\n      <td>-0.115669</td>\n      <td>-0.180858</td>\n      <td>0.040847</td>\n      <td>44</td>\n    </tr>\n    <tr>\n      <th>48</th>\n      <td>0.484078</td>\n      <td>0.007519</td>\n      <td>0.037118</td>\n      <td>0.003155</td>\n      <td>0.000001</td>\n      <td>0.000001</td>\n      <td>squared_epsilon_insensitive</td>\n      <td>5000</td>\n      <td>{'model__C': 1e-06, 'model__epsilon': 1e-06, '...</td>\n      <td>-0.265483</td>\n      <td>-0.338909</td>\n      <td>-0.299161</td>\n      <td>-0.325033</td>\n      <td>-0.222051</td>\n      <td>-0.290127</td>\n      <td>0.042241</td>\n      <td>45</td>\n    </tr>\n    <tr>\n      <th>1</th>\n      <td>0.497999</td>\n      <td>0.040818</td>\n      <td>0.029136</td>\n      <td>0.003990</td>\n      <td>5.001576</td>\n      <td>11.655267</td>\n      <td>epsilon_insensitive</td>\n      <td>4781</td>\n      <td>{'model__C': 5.001575677983704, 'model__epsilo...</td>\n      <td>-0.385866</td>\n      <td>-0.457134</td>\n      <td>-0.423029</td>\n      <td>-0.436774</td>\n      <td>-0.332523</td>\n      <td>-0.407065</td>\n      <td>0.043932</td>\n      <td>46</td>\n    </tr>\n    <tr>\n      <th>9</th>\n      <td>0.550354</td>\n      <td>0.017541</td>\n      <td>0.034524</td>\n      <td>0.005631</td>\n      <td>0.000001</td>\n      <td>3.488511</td>\n      <td>squared_epsilon_insensitive</td>\n      <td>1645</td>\n      <td>{'model__C': 1.0691593986059968e-06, 'model__e...</td>\n      <td>-0.399910</td>\n      <td>-0.473188</td>\n      <td>-0.432540</td>\n      <td>-0.469375</td>\n      <td>-0.354339</td>\n      <td>-0.425870</td>\n      <td>0.044647</td>\n      <td>47</td>\n    </tr>\n    <tr>\n      <th>5</th>\n      <td>0.365451</td>\n      <td>0.013950</td>\n      <td>0.032350</td>\n      <td>0.004271</td>\n      <td>0.745116</td>\n      <td>32.730897</td>\n      <td>epsilon_insensitive</td>\n      <td>1348</td>\n      <td>{'model__C': 0.7451164370027008, 'model__epsil...</td>\n      <td>-0.428026</td>\n      <td>-0.500927</td>\n      <td>-0.459878</td>\n      <td>-0.500749</td>\n      <td>-0.380634</td>\n      <td>-0.454043</td>\n      <td>0.045781</td>\n      <td>48</td>\n    </tr>\n    <tr>\n      <th>7</th>\n      <td>0.383175</td>\n      <td>0.011801</td>\n      <td>0.037206</td>\n      <td>0.003864</td>\n      <td>0.022245</td>\n      <td>22.91257</td>\n      <td>epsilon_insensitive</td>\n      <td>4269</td>\n      <td>{'model__C': 0.022244596968016832, 'model__eps...</td>\n      <td>-0.428026</td>\n      <td>-0.500927</td>\n      <td>-0.459878</td>\n      <td>-0.500749</td>\n      <td>-0.380634</td>\n      <td>-0.454043</td>\n      <td>0.045781</td>\n      <td>48</td>\n    </tr>\n    <tr>\n      <th>2</th>\n      <td>0.325328</td>\n      <td>0.026491</td>\n      <td>0.033307</td>\n      <td>0.009489</td>\n      <td>0.00362</td>\n      <td>22.375883</td>\n      <td>epsilon_insensitive</td>\n      <td>2450</td>\n      <td>{'model__C': 0.003619595990038508, 'model__eps...</td>\n      <td>-0.428026</td>\n      <td>-0.500927</td>\n      <td>-0.459878</td>\n      <td>-0.500749</td>\n      <td>-0.380634</td>\n      <td>-0.454043</td>\n      <td>0.045781</td>\n      <td>48</td>\n    </tr>\n  </tbody>\n</table>\n</div>"
     },
     "execution_count": 23,
     "metadata": {},
     "output_type": "execute_result"
    }
   ],
   "source": [
    "lsvr_grid_search_dataframe = pd.DataFrame(\n",
    "    np.load(\"Dataset_Files/Baseline_Models/Regression/optimised_lsvr_cv_results.npy\", allow_pickle=True).tolist())\n",
    "lsvr_grid_search_dataframe.sort_values(by=[\"rank_test_score\"], inplace=True)\n",
    "lsvr_grid_search_dataframe"
   ],
   "metadata": {
    "collapsed": false,
    "pycharm": {
     "name": "#%%\n"
    }
   }
  },
  {
   "cell_type": "markdown",
   "source": [
    "### Testing"
   ],
   "metadata": {
    "collapsed": false,
    "pycharm": {
     "name": "#%% md\n"
    }
   }
  },
  {
   "cell_type": "code",
   "execution_count": 24,
   "outputs": [
    {
     "name": "stdout",
     "output_type": "stream",
     "text": [
      "Metrics after 1000 bootstrapped samples of size 50\n",
      "--------------------------------------------------------\n",
      "Median Negated-MAE: -2.34 with a 95% confidence interval of [-2.92,-1.88]\n",
      "Median R2: -0.75 with a 95% confidence interval of [-2.19,-0.04]\n"
     ]
    }
   ],
   "source": [
    "get_confidence_intervals(optimised_lsvr, X_test, y_test, 50, \"Regression\")"
   ],
   "metadata": {
    "collapsed": false,
    "pycharm": {
     "name": "#%%\n"
    }
   }
  },
  {
   "cell_type": "markdown",
   "source": [
    "## K-Nearest Neighbors Regressor (KNNR)"
   ],
   "metadata": {
    "collapsed": false,
    "pycharm": {
     "name": "#%% md\n"
    }
   }
  },
  {
   "cell_type": "code",
   "execution_count": 25,
   "outputs": [
    {
     "data": {
      "text/plain": "{'memory': None,\n 'steps': [('scale', StandardScaler()), ('model', KNeighborsRegressor())],\n 'verbose': False,\n 'scale': StandardScaler(),\n 'model': KNeighborsRegressor(),\n 'scale__copy': True,\n 'scale__with_mean': True,\n 'scale__with_std': True,\n 'model__algorithm': 'auto',\n 'model__leaf_size': 30,\n 'model__metric': 'minkowski',\n 'model__metric_params': None,\n 'model__n_jobs': None,\n 'model__n_neighbors': 5,\n 'model__p': 2,\n 'model__weights': 'uniform'}"
     },
     "execution_count": 25,
     "metadata": {},
     "output_type": "execute_result"
    }
   ],
   "source": [
    "pipe = Pipeline(\n",
    "    [\n",
    "        ('scale', StandardScaler()),\n",
    "        ('model', KNeighborsRegressor())\n",
    "    ]\n",
    ")\n",
    "pipe.get_params()"
   ],
   "metadata": {
    "collapsed": false,
    "pycharm": {
     "name": "#%%\n"
    }
   }
  },
  {
   "cell_type": "code",
   "execution_count": 26,
   "outputs": [],
   "source": [
    "model = BayesSearchCV(estimator=pipe,\n",
    "                      search_spaces={\n",
    "                          'model__n_neighbors': Integer(4, 20),\n",
    "                          'model__weights': Categorical(['uniform', 'distance']),\n",
    "                          'model__algorithm': Categorical(['auto', 'ball_tree', 'kd_tree', 'brute']),\n",
    "                      },\n",
    "                      scoring='r2',\n",
    "                      cv=5,\n",
    "                      error_score=np.nan,\n",
    "                      n_jobs=-1,\n",
    "                      pre_dispatch='2*n_jobs',\n",
    "                      random_state=42)"
   ],
   "metadata": {
    "collapsed": false,
    "pycharm": {
     "name": "#%%\n"
    }
   }
  },
  {
   "cell_type": "markdown",
   "source": [
    "### Training"
   ],
   "metadata": {
    "collapsed": false,
    "pycharm": {
     "name": "#%% md\n"
    }
   }
  },
  {
   "cell_type": "code",
   "execution_count": 27,
   "outputs": [],
   "source": [
    "# index = 1\n",
    "# model.fit(X_train, y_train, callback=on_step)\n",
    "#\n",
    "# optimised_knnr = model.best_estimator_\n",
    "#\n",
    "# y_train_pred = optimised_knnr.predict(X_train)\n",
    "# calculate_metrics_regression(y_train, y_train_pred)\n",
    "#\n",
    "# # Save Model & CV Results\n",
    "# dump(optimised_knnr, 'Dataset_Files/Baseline_Models/Regression/optimised_knnr.joblib')\n",
    "# np.save(\"Dataset_Files/Baseline_Models/Regression/optimised_knnr_cv_results.npy\", model.cv_results_)"
   ],
   "metadata": {
    "collapsed": false,
    "pycharm": {
     "name": "#%%\n"
    }
   }
  },
  {
   "cell_type": "code",
   "execution_count": 28,
   "outputs": [],
   "source": [
    "# Load Model\n",
    "optimised_knnr = load('Dataset_Files/Baseline_Models/Regression/optimised_knnr.joblib')"
   ],
   "metadata": {
    "collapsed": false,
    "pycharm": {
     "name": "#%%\n"
    }
   }
  },
  {
   "cell_type": "code",
   "execution_count": 29,
   "outputs": [
    {
     "name": "stdout",
     "output_type": "stream",
     "text": [
      "Metrics after 1000 bootstrapped samples of size 1000\n",
      "--------------------------------------------------------\n",
      "Median Negated-MAE: -0.00 with a 95% confidence interval of [-0.00,-0.00]\n",
      "Median R2: 1.00 with a 95% confidence interval of [1.00,1.00]\n"
     ]
    }
   ],
   "source": [
    "if os.path.exists(\"Dataset_Files/Baseline_Models/Regression/optimised_knnr_train_metrics.txt\"):\n",
    "    with open(\"Dataset_Files/Baseline_Models/Regression/optimised_knnr_train_metrics.txt\", \"r\") as file:\n",
    "        print(file.read())\n",
    "else:\n",
    "    get_confidence_intervals(optimised_knnr, X_train, y_train, 1000, \"Regression\", print_iterator=True)"
   ],
   "metadata": {
    "collapsed": false,
    "pycharm": {
     "name": "#%%\n"
    }
   }
  },
  {
   "cell_type": "code",
   "execution_count": 30,
   "outputs": [
    {
     "data": {
      "text/plain": "{'memory': None,\n 'steps': [('scale', StandardScaler()),\n  ('model', KNeighborsRegressor(n_neighbors=7, weights='distance'))],\n 'verbose': False,\n 'scale': StandardScaler(),\n 'model': KNeighborsRegressor(n_neighbors=7, weights='distance'),\n 'scale__copy': True,\n 'scale__with_mean': True,\n 'scale__with_std': True,\n 'model__algorithm': 'auto',\n 'model__leaf_size': 30,\n 'model__metric': 'minkowski',\n 'model__metric_params': None,\n 'model__n_jobs': None,\n 'model__n_neighbors': 7,\n 'model__p': 2,\n 'model__weights': 'distance'}"
     },
     "execution_count": 30,
     "metadata": {},
     "output_type": "execute_result"
    }
   ],
   "source": [
    "optimised_knnr.get_params()"
   ],
   "metadata": {
    "collapsed": false,
    "pycharm": {
     "name": "#%%\n"
    }
   }
  },
  {
   "cell_type": "code",
   "execution_count": 31,
   "outputs": [
    {
     "data": {
      "text/plain": "    mean_fit_time  std_fit_time  mean_score_time  std_score_time  \\\n49       0.320383      0.021621         0.867080        0.031814   \n47       0.299923      0.015475         0.987735        0.024667   \n43       0.347656      0.025942         0.907000        0.026406   \n41       0.365783      0.009927         0.939825        0.008885   \n40       0.355596      0.011428         0.969432        0.029571   \n39       0.339694      0.007711         0.987721        0.026268   \n35       0.290706      0.024584         0.903966        0.016924   \n33       0.302821      0.032408         0.953549        0.019792   \n20       0.879290      0.034991        33.867321        0.466688   \n30       0.917832      0.062593        35.871758        0.202490   \n16       0.945462      0.160935        34.079789        0.290140   \n31       0.858939      0.036773        33.769486        0.082870   \n48       0.884463      0.078657        33.265353        0.158558   \n46       0.789698      0.061684        32.762655        0.448966   \n12       0.411441      0.016966         1.001324        0.017333   \n29       0.946192      0.039355        34.424368        0.078946   \n13       0.247104      0.022768         0.864304        0.016028   \n42       0.890946      0.042300        33.271151        0.777797   \n11       0.838385      0.052622        34.846867        0.538977   \n18       0.282063      0.018135         0.955951        0.020061   \n28       0.756812      0.071690        31.732175        0.059739   \n34       0.371947      0.015349         0.993582        0.023137   \n19       0.261810      0.012486         0.862186        0.027074   \n45       0.312908      0.006557         0.936052        0.029150   \n24       0.787521      0.069786        34.359563        0.250654   \n22       0.670136      0.032807        29.636949        0.106949   \n15       0.230956      0.007109         0.995262        0.022814   \n25       0.801776      0.050134        32.792618        0.445442   \n26       0.292550      0.017760         1.068966        0.031870   \n6        0.425988      0.010862         1.013795        0.036954   \n10       0.767159      0.030715        35.449608        0.353370   \n1        1.445780      0.098499        33.601735        0.175243   \n3        0.305373      0.022053         0.928017        0.032991   \n36       0.315395      0.021908         0.922574        0.022562   \n37       0.325982      0.017254         0.927631        0.032853   \n27       0.849590      0.020291        33.572413        0.099302   \n7        0.356223      0.016807         0.986617        0.024087   \n5        0.326865      0.006215         1.041186        0.040440   \n2        0.330483      0.078797         0.552979        0.126298   \n23       0.753250      0.052960        33.685965        0.222076   \n21       0.853820      0.059500        32.260567        1.074084   \n14       0.240177      0.025201         0.776264        0.017098   \n4        0.300302      0.013516         0.983807        0.025481   \n32       0.274018      0.022150         0.975569        0.021470   \n44       0.337512      0.012883         0.989276        0.012760   \n8        1.393469      0.057935        36.194848        0.371252   \n0        0.574695      0.019298         0.844011        0.041288   \n9        0.257677      0.009374         0.977890        0.047723   \n38       0.814499      0.060688        33.093947        1.069678   \n17       0.766813      0.059032        33.029821        0.076455   \n\n   param_model__algorithm param_model__n_neighbors param_model__weights  \\\n49                   auto                        7             distance   \n47                   auto                        7             distance   \n43                   auto                        7             distance   \n41                   auto                        7             distance   \n40                   auto                        7             distance   \n39                   auto                        7             distance   \n35                   auto                        7             distance   \n33                   auto                        7             distance   \n20                kd_tree                        7             distance   \n30                kd_tree                        7             distance   \n16                kd_tree                        7             distance   \n31                kd_tree                        7             distance   \n48                kd_tree                        7             distance   \n46                kd_tree                        7             distance   \n12                   auto                        8             distance   \n29                kd_tree                        8             distance   \n13                   auto                        9             distance   \n42                kd_tree                        9             distance   \n11                kd_tree                       10             distance   \n18                   auto                        6             distance   \n28                kd_tree                        6             distance   \n34              ball_tree                       11             distance   \n19                   auto                       11             distance   \n45                  brute                        5             distance   \n24                kd_tree                        5             distance   \n22                kd_tree                       12             distance   \n15                   auto                       13             distance   \n25                kd_tree                       14             distance   \n26                   auto                       15             distance   \n6                   brute                       16             distance   \n10                kd_tree                        4             distance   \n1                 kd_tree                       18             distance   \n3                   brute                        7              uniform   \n36                   auto                        6              uniform   \n37                   auto                        5              uniform   \n27                kd_tree                        5              uniform   \n7                   brute                       19             distance   \n5                   brute                       19             distance   \n2               ball_tree                       19             distance   \n23                kd_tree                       20             distance   \n21                kd_tree                        9              uniform   \n14                   auto                        4              uniform   \n4                   brute                       11              uniform   \n32                   auto                       13              uniform   \n44              ball_tree                       13              uniform   \n8                 kd_tree                       15              uniform   \n0               ball_tree                       16              uniform   \n9                    auto                       17              uniform   \n38                kd_tree                       18              uniform   \n17                kd_tree                       20              uniform   \n\n                                               params  split0_test_score  \\\n49  {'model__algorithm': 'auto', 'model__n_neighbo...           0.612459   \n47  {'model__algorithm': 'auto', 'model__n_neighbo...           0.612459   \n43  {'model__algorithm': 'auto', 'model__n_neighbo...           0.612459   \n41  {'model__algorithm': 'auto', 'model__n_neighbo...           0.612459   \n40  {'model__algorithm': 'auto', 'model__n_neighbo...           0.612459   \n39  {'model__algorithm': 'auto', 'model__n_neighbo...           0.612459   \n35  {'model__algorithm': 'auto', 'model__n_neighbo...           0.612459   \n33  {'model__algorithm': 'auto', 'model__n_neighbo...           0.612459   \n20  {'model__algorithm': 'kd_tree', 'model__n_neig...           0.612443   \n30  {'model__algorithm': 'kd_tree', 'model__n_neig...           0.612443   \n16  {'model__algorithm': 'kd_tree', 'model__n_neig...           0.612443   \n31  {'model__algorithm': 'kd_tree', 'model__n_neig...           0.612443   \n48  {'model__algorithm': 'kd_tree', 'model__n_neig...           0.612443   \n46  {'model__algorithm': 'kd_tree', 'model__n_neig...           0.612443   \n12  {'model__algorithm': 'auto', 'model__n_neighbo...           0.610686   \n29  {'model__algorithm': 'kd_tree', 'model__n_neig...           0.610685   \n13  {'model__algorithm': 'auto', 'model__n_neighbo...           0.609777   \n42  {'model__algorithm': 'kd_tree', 'model__n_neig...           0.609754   \n11  {'model__algorithm': 'kd_tree', 'model__n_neig...           0.610425   \n18  {'model__algorithm': 'auto', 'model__n_neighbo...           0.606877   \n28  {'model__algorithm': 'kd_tree', 'model__n_neig...           0.606862   \n34  {'model__algorithm': 'ball_tree', 'model__n_ne...           0.611539   \n19  {'model__algorithm': 'auto', 'model__n_neighbo...           0.611539   \n45  {'model__algorithm': 'brute', 'model__n_neighb...           0.590160   \n24  {'model__algorithm': 'kd_tree', 'model__n_neig...           0.590151   \n22  {'model__algorithm': 'kd_tree', 'model__n_neig...           0.610104   \n15  {'model__algorithm': 'auto', 'model__n_neighbo...           0.606892   \n25  {'model__algorithm': 'kd_tree', 'model__n_neig...           0.605284   \n26  {'model__algorithm': 'auto', 'model__n_neighbo...           0.601251   \n6   {'model__algorithm': 'brute', 'model__n_neighb...           0.599721   \n10  {'model__algorithm': 'kd_tree', 'model__n_neig...           0.566262   \n1   {'model__algorithm': 'kd_tree', 'model__n_neig...           0.595690   \n3   {'model__algorithm': 'brute', 'model__n_neighb...           0.595277   \n36  {'model__algorithm': 'auto', 'model__n_neighbo...           0.593068   \n37  {'model__algorithm': 'auto', 'model__n_neighbo...           0.576574   \n27  {'model__algorithm': 'kd_tree', 'model__n_neig...           0.576560   \n7   {'model__algorithm': 'brute', 'model__n_neighb...           0.591684   \n5   {'model__algorithm': 'brute', 'model__n_neighb...           0.591684   \n2   {'model__algorithm': 'ball_tree', 'model__n_ne...           0.591684   \n23  {'model__algorithm': 'kd_tree', 'model__n_neig...           0.587580   \n21  {'model__algorithm': 'kd_tree', 'model__n_neig...           0.585442   \n14  {'model__algorithm': 'auto', 'model__n_neighbo...           0.554991   \n4   {'model__algorithm': 'brute', 'model__n_neighb...           0.581277   \n32  {'model__algorithm': 'auto', 'model__n_neighbo...           0.571840   \n44  {'model__algorithm': 'ball_tree', 'model__n_ne...           0.571840   \n8   {'model__algorithm': 'kd_tree', 'model__n_neig...           0.561794   \n0   {'model__algorithm': 'ball_tree', 'model__n_ne...           0.557942   \n9   {'model__algorithm': 'auto', 'model__n_neighbo...           0.554401   \n38  {'model__algorithm': 'kd_tree', 'model__n_neig...           0.550009   \n17  {'model__algorithm': 'kd_tree', 'model__n_neig...           0.537485   \n\n    split1_test_score  split2_test_score  split3_test_score  \\\n49           0.572485           0.579084           0.555146   \n47           0.572485           0.579084           0.555146   \n43           0.572485           0.579084           0.555146   \n41           0.572485           0.579084           0.555146   \n40           0.572485           0.579084           0.555146   \n39           0.572485           0.579084           0.555146   \n35           0.572485           0.579084           0.555146   \n33           0.572485           0.579084           0.555146   \n20           0.572485           0.579047           0.555191   \n30           0.572485           0.579047           0.555191   \n16           0.572485           0.579047           0.555191   \n31           0.572485           0.579047           0.555191   \n48           0.572485           0.579047           0.555191   \n46           0.572485           0.579047           0.555191   \n12           0.568855           0.582899           0.555390   \n29           0.568855           0.582842           0.555372   \n13           0.567238           0.581831           0.552392   \n42           0.567238           0.581830           0.552396   \n11           0.564454           0.581983           0.551686   \n18           0.568564           0.573549           0.553353   \n28           0.568564           0.573494           0.553129   \n34           0.559295           0.578969           0.550429   \n19           0.559295           0.578969           0.550429   \n45           0.568789           0.561812           0.553737   \n24           0.568789           0.562057           0.553412   \n22           0.557784           0.576656           0.547917   \n15           0.557649           0.574627           0.545636   \n25           0.556167           0.573599           0.540735   \n26           0.553185           0.569889           0.536472   \n6            0.552695           0.564375           0.531865   \n10           0.563748           0.552405           0.540546   \n1            0.546440           0.556905           0.525616   \n3            0.544954           0.554510           0.522615   \n36           0.543886           0.552684           0.524087   \n37           0.547544           0.542552           0.528743   \n27           0.547544           0.542800           0.528368   \n7            0.543025           0.553009           0.521088   \n5            0.543025           0.553009           0.521088   \n2            0.543025           0.553009           0.521088   \n23           0.541357           0.549629           0.517207   \n21           0.530407           0.550957           0.513577   \n14           0.549177           0.535131           0.520962   \n4            0.514374           0.538877           0.505703   \n32           0.507477           0.527430           0.496965   \n44           0.507477           0.527430           0.496965   \n8            0.498023           0.516670           0.483880   \n0            0.494598           0.506671           0.476808   \n9            0.488796           0.500455           0.471666   \n38           0.482766           0.493836           0.466826   \n17           0.472779           0.482424           0.453401   \n\n    split4_test_score  mean_test_score  std_test_score  rank_test_score  \n49           0.553760         0.574587        0.021310                1  \n47           0.553760         0.574587        0.021310                1  \n43           0.553760         0.574587        0.021310                1  \n41           0.553760         0.574587        0.021310                1  \n40           0.553760         0.574587        0.021310                1  \n39           0.553760         0.574587        0.021310                1  \n35           0.553760         0.574587        0.021310                1  \n33           0.553760         0.574587        0.021310                1  \n20           0.553760         0.574585        0.021295                9  \n30           0.553760         0.574585        0.021295                9  \n16           0.553760         0.574585        0.021295                9  \n31           0.553760         0.574585        0.021295                9  \n48           0.553760         0.574585        0.021295                9  \n46           0.553760         0.574585        0.021295                9  \n12           0.549445         0.573455        0.021906               15  \n29           0.549445         0.573440        0.021904               16  \n13           0.550371         0.572322        0.021901               17  \n42           0.550371         0.572318        0.021892               18  \n11           0.548665         0.571443        0.022754               19  \n18           0.551652         0.570799        0.019926               20  \n28           0.551652         0.570740        0.019958               21  \n34           0.544032         0.568853        0.024377               22  \n19           0.544032         0.568853        0.024377               22  \n45           0.556851         0.566270        0.012983               24  \n24           0.556851         0.566252        0.013026               25  \n22           0.538675         0.566227        0.025297               26  \n15           0.536106         0.564182        0.024932               27  \n25           0.532484         0.561654        0.025942               28  \n26           0.530202         0.558200        0.025578               29  \n6            0.526817         0.555095        0.026164               30  \n10           0.544462         0.553485        0.010184               31  \n1            0.520189         0.548968        0.026929               32  \n3            0.521218         0.547715        0.027011               33  \n36           0.523377         0.547420        0.025481               34  \n37           0.532772         0.545637        0.016859               35  \n27           0.532772         0.545609        0.016921               36  \n7            0.518314         0.545424        0.026572               37  \n5            0.518314         0.545424        0.026572               37  \n2            0.518314         0.545424        0.026572               37  \n23           0.514333         0.542021        0.026519               40  \n21           0.511027         0.538282        0.027568               41  \n14           0.524202         0.536893        0.013389               42  \n4            0.498241         0.527694        0.030082               43  \n32           0.483768         0.517496        0.030697               44  \n44           0.483768         0.517496        0.030697               44  \n8            0.471529         0.506379        0.031519               46  \n0            0.464462         0.500096        0.032347               47  \n9            0.458981         0.494860        0.032980               48  \n38           0.451510         0.488989        0.033709               49  \n17           0.440456         0.477309        0.033459               50  ",
      "text/html": "<div>\n<style scoped>\n    .dataframe tbody tr th:only-of-type {\n        vertical-align: middle;\n    }\n\n    .dataframe tbody tr th {\n        vertical-align: top;\n    }\n\n    .dataframe thead th {\n        text-align: right;\n    }\n</style>\n<table border=\"1\" class=\"dataframe\">\n  <thead>\n    <tr style=\"text-align: right;\">\n      <th></th>\n      <th>mean_fit_time</th>\n      <th>std_fit_time</th>\n      <th>mean_score_time</th>\n      <th>std_score_time</th>\n      <th>param_model__algorithm</th>\n      <th>param_model__n_neighbors</th>\n      <th>param_model__weights</th>\n      <th>params</th>\n      <th>split0_test_score</th>\n      <th>split1_test_score</th>\n      <th>split2_test_score</th>\n      <th>split3_test_score</th>\n      <th>split4_test_score</th>\n      <th>mean_test_score</th>\n      <th>std_test_score</th>\n      <th>rank_test_score</th>\n    </tr>\n  </thead>\n  <tbody>\n    <tr>\n      <th>49</th>\n      <td>0.320383</td>\n      <td>0.021621</td>\n      <td>0.867080</td>\n      <td>0.031814</td>\n      <td>auto</td>\n      <td>7</td>\n      <td>distance</td>\n      <td>{'model__algorithm': 'auto', 'model__n_neighbo...</td>\n      <td>0.612459</td>\n      <td>0.572485</td>\n      <td>0.579084</td>\n      <td>0.555146</td>\n      <td>0.553760</td>\n      <td>0.574587</td>\n      <td>0.021310</td>\n      <td>1</td>\n    </tr>\n    <tr>\n      <th>47</th>\n      <td>0.299923</td>\n      <td>0.015475</td>\n      <td>0.987735</td>\n      <td>0.024667</td>\n      <td>auto</td>\n      <td>7</td>\n      <td>distance</td>\n      <td>{'model__algorithm': 'auto', 'model__n_neighbo...</td>\n      <td>0.612459</td>\n      <td>0.572485</td>\n      <td>0.579084</td>\n      <td>0.555146</td>\n      <td>0.553760</td>\n      <td>0.574587</td>\n      <td>0.021310</td>\n      <td>1</td>\n    </tr>\n    <tr>\n      <th>43</th>\n      <td>0.347656</td>\n      <td>0.025942</td>\n      <td>0.907000</td>\n      <td>0.026406</td>\n      <td>auto</td>\n      <td>7</td>\n      <td>distance</td>\n      <td>{'model__algorithm': 'auto', 'model__n_neighbo...</td>\n      <td>0.612459</td>\n      <td>0.572485</td>\n      <td>0.579084</td>\n      <td>0.555146</td>\n      <td>0.553760</td>\n      <td>0.574587</td>\n      <td>0.021310</td>\n      <td>1</td>\n    </tr>\n    <tr>\n      <th>41</th>\n      <td>0.365783</td>\n      <td>0.009927</td>\n      <td>0.939825</td>\n      <td>0.008885</td>\n      <td>auto</td>\n      <td>7</td>\n      <td>distance</td>\n      <td>{'model__algorithm': 'auto', 'model__n_neighbo...</td>\n      <td>0.612459</td>\n      <td>0.572485</td>\n      <td>0.579084</td>\n      <td>0.555146</td>\n      <td>0.553760</td>\n      <td>0.574587</td>\n      <td>0.021310</td>\n      <td>1</td>\n    </tr>\n    <tr>\n      <th>40</th>\n      <td>0.355596</td>\n      <td>0.011428</td>\n      <td>0.969432</td>\n      <td>0.029571</td>\n      <td>auto</td>\n      <td>7</td>\n      <td>distance</td>\n      <td>{'model__algorithm': 'auto', 'model__n_neighbo...</td>\n      <td>0.612459</td>\n      <td>0.572485</td>\n      <td>0.579084</td>\n      <td>0.555146</td>\n      <td>0.553760</td>\n      <td>0.574587</td>\n      <td>0.021310</td>\n      <td>1</td>\n    </tr>\n    <tr>\n      <th>39</th>\n      <td>0.339694</td>\n      <td>0.007711</td>\n      <td>0.987721</td>\n      <td>0.026268</td>\n      <td>auto</td>\n      <td>7</td>\n      <td>distance</td>\n      <td>{'model__algorithm': 'auto', 'model__n_neighbo...</td>\n      <td>0.612459</td>\n      <td>0.572485</td>\n      <td>0.579084</td>\n      <td>0.555146</td>\n      <td>0.553760</td>\n      <td>0.574587</td>\n      <td>0.021310</td>\n      <td>1</td>\n    </tr>\n    <tr>\n      <th>35</th>\n      <td>0.290706</td>\n      <td>0.024584</td>\n      <td>0.903966</td>\n      <td>0.016924</td>\n      <td>auto</td>\n      <td>7</td>\n      <td>distance</td>\n      <td>{'model__algorithm': 'auto', 'model__n_neighbo...</td>\n      <td>0.612459</td>\n      <td>0.572485</td>\n      <td>0.579084</td>\n      <td>0.555146</td>\n      <td>0.553760</td>\n      <td>0.574587</td>\n      <td>0.021310</td>\n      <td>1</td>\n    </tr>\n    <tr>\n      <th>33</th>\n      <td>0.302821</td>\n      <td>0.032408</td>\n      <td>0.953549</td>\n      <td>0.019792</td>\n      <td>auto</td>\n      <td>7</td>\n      <td>distance</td>\n      <td>{'model__algorithm': 'auto', 'model__n_neighbo...</td>\n      <td>0.612459</td>\n      <td>0.572485</td>\n      <td>0.579084</td>\n      <td>0.555146</td>\n      <td>0.553760</td>\n      <td>0.574587</td>\n      <td>0.021310</td>\n      <td>1</td>\n    </tr>\n    <tr>\n      <th>20</th>\n      <td>0.879290</td>\n      <td>0.034991</td>\n      <td>33.867321</td>\n      <td>0.466688</td>\n      <td>kd_tree</td>\n      <td>7</td>\n      <td>distance</td>\n      <td>{'model__algorithm': 'kd_tree', 'model__n_neig...</td>\n      <td>0.612443</td>\n      <td>0.572485</td>\n      <td>0.579047</td>\n      <td>0.555191</td>\n      <td>0.553760</td>\n      <td>0.574585</td>\n      <td>0.021295</td>\n      <td>9</td>\n    </tr>\n    <tr>\n      <th>30</th>\n      <td>0.917832</td>\n      <td>0.062593</td>\n      <td>35.871758</td>\n      <td>0.202490</td>\n      <td>kd_tree</td>\n      <td>7</td>\n      <td>distance</td>\n      <td>{'model__algorithm': 'kd_tree', 'model__n_neig...</td>\n      <td>0.612443</td>\n      <td>0.572485</td>\n      <td>0.579047</td>\n      <td>0.555191</td>\n      <td>0.553760</td>\n      <td>0.574585</td>\n      <td>0.021295</td>\n      <td>9</td>\n    </tr>\n    <tr>\n      <th>16</th>\n      <td>0.945462</td>\n      <td>0.160935</td>\n      <td>34.079789</td>\n      <td>0.290140</td>\n      <td>kd_tree</td>\n      <td>7</td>\n      <td>distance</td>\n      <td>{'model__algorithm': 'kd_tree', 'model__n_neig...</td>\n      <td>0.612443</td>\n      <td>0.572485</td>\n      <td>0.579047</td>\n      <td>0.555191</td>\n      <td>0.553760</td>\n      <td>0.574585</td>\n      <td>0.021295</td>\n      <td>9</td>\n    </tr>\n    <tr>\n      <th>31</th>\n      <td>0.858939</td>\n      <td>0.036773</td>\n      <td>33.769486</td>\n      <td>0.082870</td>\n      <td>kd_tree</td>\n      <td>7</td>\n      <td>distance</td>\n      <td>{'model__algorithm': 'kd_tree', 'model__n_neig...</td>\n      <td>0.612443</td>\n      <td>0.572485</td>\n      <td>0.579047</td>\n      <td>0.555191</td>\n      <td>0.553760</td>\n      <td>0.574585</td>\n      <td>0.021295</td>\n      <td>9</td>\n    </tr>\n    <tr>\n      <th>48</th>\n      <td>0.884463</td>\n      <td>0.078657</td>\n      <td>33.265353</td>\n      <td>0.158558</td>\n      <td>kd_tree</td>\n      <td>7</td>\n      <td>distance</td>\n      <td>{'model__algorithm': 'kd_tree', 'model__n_neig...</td>\n      <td>0.612443</td>\n      <td>0.572485</td>\n      <td>0.579047</td>\n      <td>0.555191</td>\n      <td>0.553760</td>\n      <td>0.574585</td>\n      <td>0.021295</td>\n      <td>9</td>\n    </tr>\n    <tr>\n      <th>46</th>\n      <td>0.789698</td>\n      <td>0.061684</td>\n      <td>32.762655</td>\n      <td>0.448966</td>\n      <td>kd_tree</td>\n      <td>7</td>\n      <td>distance</td>\n      <td>{'model__algorithm': 'kd_tree', 'model__n_neig...</td>\n      <td>0.612443</td>\n      <td>0.572485</td>\n      <td>0.579047</td>\n      <td>0.555191</td>\n      <td>0.553760</td>\n      <td>0.574585</td>\n      <td>0.021295</td>\n      <td>9</td>\n    </tr>\n    <tr>\n      <th>12</th>\n      <td>0.411441</td>\n      <td>0.016966</td>\n      <td>1.001324</td>\n      <td>0.017333</td>\n      <td>auto</td>\n      <td>8</td>\n      <td>distance</td>\n      <td>{'model__algorithm': 'auto', 'model__n_neighbo...</td>\n      <td>0.610686</td>\n      <td>0.568855</td>\n      <td>0.582899</td>\n      <td>0.555390</td>\n      <td>0.549445</td>\n      <td>0.573455</td>\n      <td>0.021906</td>\n      <td>15</td>\n    </tr>\n    <tr>\n      <th>29</th>\n      <td>0.946192</td>\n      <td>0.039355</td>\n      <td>34.424368</td>\n      <td>0.078946</td>\n      <td>kd_tree</td>\n      <td>8</td>\n      <td>distance</td>\n      <td>{'model__algorithm': 'kd_tree', 'model__n_neig...</td>\n      <td>0.610685</td>\n      <td>0.568855</td>\n      <td>0.582842</td>\n      <td>0.555372</td>\n      <td>0.549445</td>\n      <td>0.573440</td>\n      <td>0.021904</td>\n      <td>16</td>\n    </tr>\n    <tr>\n      <th>13</th>\n      <td>0.247104</td>\n      <td>0.022768</td>\n      <td>0.864304</td>\n      <td>0.016028</td>\n      <td>auto</td>\n      <td>9</td>\n      <td>distance</td>\n      <td>{'model__algorithm': 'auto', 'model__n_neighbo...</td>\n      <td>0.609777</td>\n      <td>0.567238</td>\n      <td>0.581831</td>\n      <td>0.552392</td>\n      <td>0.550371</td>\n      <td>0.572322</td>\n      <td>0.021901</td>\n      <td>17</td>\n    </tr>\n    <tr>\n      <th>42</th>\n      <td>0.890946</td>\n      <td>0.042300</td>\n      <td>33.271151</td>\n      <td>0.777797</td>\n      <td>kd_tree</td>\n      <td>9</td>\n      <td>distance</td>\n      <td>{'model__algorithm': 'kd_tree', 'model__n_neig...</td>\n      <td>0.609754</td>\n      <td>0.567238</td>\n      <td>0.581830</td>\n      <td>0.552396</td>\n      <td>0.550371</td>\n      <td>0.572318</td>\n      <td>0.021892</td>\n      <td>18</td>\n    </tr>\n    <tr>\n      <th>11</th>\n      <td>0.838385</td>\n      <td>0.052622</td>\n      <td>34.846867</td>\n      <td>0.538977</td>\n      <td>kd_tree</td>\n      <td>10</td>\n      <td>distance</td>\n      <td>{'model__algorithm': 'kd_tree', 'model__n_neig...</td>\n      <td>0.610425</td>\n      <td>0.564454</td>\n      <td>0.581983</td>\n      <td>0.551686</td>\n      <td>0.548665</td>\n      <td>0.571443</td>\n      <td>0.022754</td>\n      <td>19</td>\n    </tr>\n    <tr>\n      <th>18</th>\n      <td>0.282063</td>\n      <td>0.018135</td>\n      <td>0.955951</td>\n      <td>0.020061</td>\n      <td>auto</td>\n      <td>6</td>\n      <td>distance</td>\n      <td>{'model__algorithm': 'auto', 'model__n_neighbo...</td>\n      <td>0.606877</td>\n      <td>0.568564</td>\n      <td>0.573549</td>\n      <td>0.553353</td>\n      <td>0.551652</td>\n      <td>0.570799</td>\n      <td>0.019926</td>\n      <td>20</td>\n    </tr>\n    <tr>\n      <th>28</th>\n      <td>0.756812</td>\n      <td>0.071690</td>\n      <td>31.732175</td>\n      <td>0.059739</td>\n      <td>kd_tree</td>\n      <td>6</td>\n      <td>distance</td>\n      <td>{'model__algorithm': 'kd_tree', 'model__n_neig...</td>\n      <td>0.606862</td>\n      <td>0.568564</td>\n      <td>0.573494</td>\n      <td>0.553129</td>\n      <td>0.551652</td>\n      <td>0.570740</td>\n      <td>0.019958</td>\n      <td>21</td>\n    </tr>\n    <tr>\n      <th>34</th>\n      <td>0.371947</td>\n      <td>0.015349</td>\n      <td>0.993582</td>\n      <td>0.023137</td>\n      <td>ball_tree</td>\n      <td>11</td>\n      <td>distance</td>\n      <td>{'model__algorithm': 'ball_tree', 'model__n_ne...</td>\n      <td>0.611539</td>\n      <td>0.559295</td>\n      <td>0.578969</td>\n      <td>0.550429</td>\n      <td>0.544032</td>\n      <td>0.568853</td>\n      <td>0.024377</td>\n      <td>22</td>\n    </tr>\n    <tr>\n      <th>19</th>\n      <td>0.261810</td>\n      <td>0.012486</td>\n      <td>0.862186</td>\n      <td>0.027074</td>\n      <td>auto</td>\n      <td>11</td>\n      <td>distance</td>\n      <td>{'model__algorithm': 'auto', 'model__n_neighbo...</td>\n      <td>0.611539</td>\n      <td>0.559295</td>\n      <td>0.578969</td>\n      <td>0.550429</td>\n      <td>0.544032</td>\n      <td>0.568853</td>\n      <td>0.024377</td>\n      <td>22</td>\n    </tr>\n    <tr>\n      <th>45</th>\n      <td>0.312908</td>\n      <td>0.006557</td>\n      <td>0.936052</td>\n      <td>0.029150</td>\n      <td>brute</td>\n      <td>5</td>\n      <td>distance</td>\n      <td>{'model__algorithm': 'brute', 'model__n_neighb...</td>\n      <td>0.590160</td>\n      <td>0.568789</td>\n      <td>0.561812</td>\n      <td>0.553737</td>\n      <td>0.556851</td>\n      <td>0.566270</td>\n      <td>0.012983</td>\n      <td>24</td>\n    </tr>\n    <tr>\n      <th>24</th>\n      <td>0.787521</td>\n      <td>0.069786</td>\n      <td>34.359563</td>\n      <td>0.250654</td>\n      <td>kd_tree</td>\n      <td>5</td>\n      <td>distance</td>\n      <td>{'model__algorithm': 'kd_tree', 'model__n_neig...</td>\n      <td>0.590151</td>\n      <td>0.568789</td>\n      <td>0.562057</td>\n      <td>0.553412</td>\n      <td>0.556851</td>\n      <td>0.566252</td>\n      <td>0.013026</td>\n      <td>25</td>\n    </tr>\n    <tr>\n      <th>22</th>\n      <td>0.670136</td>\n      <td>0.032807</td>\n      <td>29.636949</td>\n      <td>0.106949</td>\n      <td>kd_tree</td>\n      <td>12</td>\n      <td>distance</td>\n      <td>{'model__algorithm': 'kd_tree', 'model__n_neig...</td>\n      <td>0.610104</td>\n      <td>0.557784</td>\n      <td>0.576656</td>\n      <td>0.547917</td>\n      <td>0.538675</td>\n      <td>0.566227</td>\n      <td>0.025297</td>\n      <td>26</td>\n    </tr>\n    <tr>\n      <th>15</th>\n      <td>0.230956</td>\n      <td>0.007109</td>\n      <td>0.995262</td>\n      <td>0.022814</td>\n      <td>auto</td>\n      <td>13</td>\n      <td>distance</td>\n      <td>{'model__algorithm': 'auto', 'model__n_neighbo...</td>\n      <td>0.606892</td>\n      <td>0.557649</td>\n      <td>0.574627</td>\n      <td>0.545636</td>\n      <td>0.536106</td>\n      <td>0.564182</td>\n      <td>0.024932</td>\n      <td>27</td>\n    </tr>\n    <tr>\n      <th>25</th>\n      <td>0.801776</td>\n      <td>0.050134</td>\n      <td>32.792618</td>\n      <td>0.445442</td>\n      <td>kd_tree</td>\n      <td>14</td>\n      <td>distance</td>\n      <td>{'model__algorithm': 'kd_tree', 'model__n_neig...</td>\n      <td>0.605284</td>\n      <td>0.556167</td>\n      <td>0.573599</td>\n      <td>0.540735</td>\n      <td>0.532484</td>\n      <td>0.561654</td>\n      <td>0.025942</td>\n      <td>28</td>\n    </tr>\n    <tr>\n      <th>26</th>\n      <td>0.292550</td>\n      <td>0.017760</td>\n      <td>1.068966</td>\n      <td>0.031870</td>\n      <td>auto</td>\n      <td>15</td>\n      <td>distance</td>\n      <td>{'model__algorithm': 'auto', 'model__n_neighbo...</td>\n      <td>0.601251</td>\n      <td>0.553185</td>\n      <td>0.569889</td>\n      <td>0.536472</td>\n      <td>0.530202</td>\n      <td>0.558200</td>\n      <td>0.025578</td>\n      <td>29</td>\n    </tr>\n    <tr>\n      <th>6</th>\n      <td>0.425988</td>\n      <td>0.010862</td>\n      <td>1.013795</td>\n      <td>0.036954</td>\n      <td>brute</td>\n      <td>16</td>\n      <td>distance</td>\n      <td>{'model__algorithm': 'brute', 'model__n_neighb...</td>\n      <td>0.599721</td>\n      <td>0.552695</td>\n      <td>0.564375</td>\n      <td>0.531865</td>\n      <td>0.526817</td>\n      <td>0.555095</td>\n      <td>0.026164</td>\n      <td>30</td>\n    </tr>\n    <tr>\n      <th>10</th>\n      <td>0.767159</td>\n      <td>0.030715</td>\n      <td>35.449608</td>\n      <td>0.353370</td>\n      <td>kd_tree</td>\n      <td>4</td>\n      <td>distance</td>\n      <td>{'model__algorithm': 'kd_tree', 'model__n_neig...</td>\n      <td>0.566262</td>\n      <td>0.563748</td>\n      <td>0.552405</td>\n      <td>0.540546</td>\n      <td>0.544462</td>\n      <td>0.553485</td>\n      <td>0.010184</td>\n      <td>31</td>\n    </tr>\n    <tr>\n      <th>1</th>\n      <td>1.445780</td>\n      <td>0.098499</td>\n      <td>33.601735</td>\n      <td>0.175243</td>\n      <td>kd_tree</td>\n      <td>18</td>\n      <td>distance</td>\n      <td>{'model__algorithm': 'kd_tree', 'model__n_neig...</td>\n      <td>0.595690</td>\n      <td>0.546440</td>\n      <td>0.556905</td>\n      <td>0.525616</td>\n      <td>0.520189</td>\n      <td>0.548968</td>\n      <td>0.026929</td>\n      <td>32</td>\n    </tr>\n    <tr>\n      <th>3</th>\n      <td>0.305373</td>\n      <td>0.022053</td>\n      <td>0.928017</td>\n      <td>0.032991</td>\n      <td>brute</td>\n      <td>7</td>\n      <td>uniform</td>\n      <td>{'model__algorithm': 'brute', 'model__n_neighb...</td>\n      <td>0.595277</td>\n      <td>0.544954</td>\n      <td>0.554510</td>\n      <td>0.522615</td>\n      <td>0.521218</td>\n      <td>0.547715</td>\n      <td>0.027011</td>\n      <td>33</td>\n    </tr>\n    <tr>\n      <th>36</th>\n      <td>0.315395</td>\n      <td>0.021908</td>\n      <td>0.922574</td>\n      <td>0.022562</td>\n      <td>auto</td>\n      <td>6</td>\n      <td>uniform</td>\n      <td>{'model__algorithm': 'auto', 'model__n_neighbo...</td>\n      <td>0.593068</td>\n      <td>0.543886</td>\n      <td>0.552684</td>\n      <td>0.524087</td>\n      <td>0.523377</td>\n      <td>0.547420</td>\n      <td>0.025481</td>\n      <td>34</td>\n    </tr>\n    <tr>\n      <th>37</th>\n      <td>0.325982</td>\n      <td>0.017254</td>\n      <td>0.927631</td>\n      <td>0.032853</td>\n      <td>auto</td>\n      <td>5</td>\n      <td>uniform</td>\n      <td>{'model__algorithm': 'auto', 'model__n_neighbo...</td>\n      <td>0.576574</td>\n      <td>0.547544</td>\n      <td>0.542552</td>\n      <td>0.528743</td>\n      <td>0.532772</td>\n      <td>0.545637</td>\n      <td>0.016859</td>\n      <td>35</td>\n    </tr>\n    <tr>\n      <th>27</th>\n      <td>0.849590</td>\n      <td>0.020291</td>\n      <td>33.572413</td>\n      <td>0.099302</td>\n      <td>kd_tree</td>\n      <td>5</td>\n      <td>uniform</td>\n      <td>{'model__algorithm': 'kd_tree', 'model__n_neig...</td>\n      <td>0.576560</td>\n      <td>0.547544</td>\n      <td>0.542800</td>\n      <td>0.528368</td>\n      <td>0.532772</td>\n      <td>0.545609</td>\n      <td>0.016921</td>\n      <td>36</td>\n    </tr>\n    <tr>\n      <th>7</th>\n      <td>0.356223</td>\n      <td>0.016807</td>\n      <td>0.986617</td>\n      <td>0.024087</td>\n      <td>brute</td>\n      <td>19</td>\n      <td>distance</td>\n      <td>{'model__algorithm': 'brute', 'model__n_neighb...</td>\n      <td>0.591684</td>\n      <td>0.543025</td>\n      <td>0.553009</td>\n      <td>0.521088</td>\n      <td>0.518314</td>\n      <td>0.545424</td>\n      <td>0.026572</td>\n      <td>37</td>\n    </tr>\n    <tr>\n      <th>5</th>\n      <td>0.326865</td>\n      <td>0.006215</td>\n      <td>1.041186</td>\n      <td>0.040440</td>\n      <td>brute</td>\n      <td>19</td>\n      <td>distance</td>\n      <td>{'model__algorithm': 'brute', 'model__n_neighb...</td>\n      <td>0.591684</td>\n      <td>0.543025</td>\n      <td>0.553009</td>\n      <td>0.521088</td>\n      <td>0.518314</td>\n      <td>0.545424</td>\n      <td>0.026572</td>\n      <td>37</td>\n    </tr>\n    <tr>\n      <th>2</th>\n      <td>0.330483</td>\n      <td>0.078797</td>\n      <td>0.552979</td>\n      <td>0.126298</td>\n      <td>ball_tree</td>\n      <td>19</td>\n      <td>distance</td>\n      <td>{'model__algorithm': 'ball_tree', 'model__n_ne...</td>\n      <td>0.591684</td>\n      <td>0.543025</td>\n      <td>0.553009</td>\n      <td>0.521088</td>\n      <td>0.518314</td>\n      <td>0.545424</td>\n      <td>0.026572</td>\n      <td>37</td>\n    </tr>\n    <tr>\n      <th>23</th>\n      <td>0.753250</td>\n      <td>0.052960</td>\n      <td>33.685965</td>\n      <td>0.222076</td>\n      <td>kd_tree</td>\n      <td>20</td>\n      <td>distance</td>\n      <td>{'model__algorithm': 'kd_tree', 'model__n_neig...</td>\n      <td>0.587580</td>\n      <td>0.541357</td>\n      <td>0.549629</td>\n      <td>0.517207</td>\n      <td>0.514333</td>\n      <td>0.542021</td>\n      <td>0.026519</td>\n      <td>40</td>\n    </tr>\n    <tr>\n      <th>21</th>\n      <td>0.853820</td>\n      <td>0.059500</td>\n      <td>32.260567</td>\n      <td>1.074084</td>\n      <td>kd_tree</td>\n      <td>9</td>\n      <td>uniform</td>\n      <td>{'model__algorithm': 'kd_tree', 'model__n_neig...</td>\n      <td>0.585442</td>\n      <td>0.530407</td>\n      <td>0.550957</td>\n      <td>0.513577</td>\n      <td>0.511027</td>\n      <td>0.538282</td>\n      <td>0.027568</td>\n      <td>41</td>\n    </tr>\n    <tr>\n      <th>14</th>\n      <td>0.240177</td>\n      <td>0.025201</td>\n      <td>0.776264</td>\n      <td>0.017098</td>\n      <td>auto</td>\n      <td>4</td>\n      <td>uniform</td>\n      <td>{'model__algorithm': 'auto', 'model__n_neighbo...</td>\n      <td>0.554991</td>\n      <td>0.549177</td>\n      <td>0.535131</td>\n      <td>0.520962</td>\n      <td>0.524202</td>\n      <td>0.536893</td>\n      <td>0.013389</td>\n      <td>42</td>\n    </tr>\n    <tr>\n      <th>4</th>\n      <td>0.300302</td>\n      <td>0.013516</td>\n      <td>0.983807</td>\n      <td>0.025481</td>\n      <td>brute</td>\n      <td>11</td>\n      <td>uniform</td>\n      <td>{'model__algorithm': 'brute', 'model__n_neighb...</td>\n      <td>0.581277</td>\n      <td>0.514374</td>\n      <td>0.538877</td>\n      <td>0.505703</td>\n      <td>0.498241</td>\n      <td>0.527694</td>\n      <td>0.030082</td>\n      <td>43</td>\n    </tr>\n    <tr>\n      <th>32</th>\n      <td>0.274018</td>\n      <td>0.022150</td>\n      <td>0.975569</td>\n      <td>0.021470</td>\n      <td>auto</td>\n      <td>13</td>\n      <td>uniform</td>\n      <td>{'model__algorithm': 'auto', 'model__n_neighbo...</td>\n      <td>0.571840</td>\n      <td>0.507477</td>\n      <td>0.527430</td>\n      <td>0.496965</td>\n      <td>0.483768</td>\n      <td>0.517496</td>\n      <td>0.030697</td>\n      <td>44</td>\n    </tr>\n    <tr>\n      <th>44</th>\n      <td>0.337512</td>\n      <td>0.012883</td>\n      <td>0.989276</td>\n      <td>0.012760</td>\n      <td>ball_tree</td>\n      <td>13</td>\n      <td>uniform</td>\n      <td>{'model__algorithm': 'ball_tree', 'model__n_ne...</td>\n      <td>0.571840</td>\n      <td>0.507477</td>\n      <td>0.527430</td>\n      <td>0.496965</td>\n      <td>0.483768</td>\n      <td>0.517496</td>\n      <td>0.030697</td>\n      <td>44</td>\n    </tr>\n    <tr>\n      <th>8</th>\n      <td>1.393469</td>\n      <td>0.057935</td>\n      <td>36.194848</td>\n      <td>0.371252</td>\n      <td>kd_tree</td>\n      <td>15</td>\n      <td>uniform</td>\n      <td>{'model__algorithm': 'kd_tree', 'model__n_neig...</td>\n      <td>0.561794</td>\n      <td>0.498023</td>\n      <td>0.516670</td>\n      <td>0.483880</td>\n      <td>0.471529</td>\n      <td>0.506379</td>\n      <td>0.031519</td>\n      <td>46</td>\n    </tr>\n    <tr>\n      <th>0</th>\n      <td>0.574695</td>\n      <td>0.019298</td>\n      <td>0.844011</td>\n      <td>0.041288</td>\n      <td>ball_tree</td>\n      <td>16</td>\n      <td>uniform</td>\n      <td>{'model__algorithm': 'ball_tree', 'model__n_ne...</td>\n      <td>0.557942</td>\n      <td>0.494598</td>\n      <td>0.506671</td>\n      <td>0.476808</td>\n      <td>0.464462</td>\n      <td>0.500096</td>\n      <td>0.032347</td>\n      <td>47</td>\n    </tr>\n    <tr>\n      <th>9</th>\n      <td>0.257677</td>\n      <td>0.009374</td>\n      <td>0.977890</td>\n      <td>0.047723</td>\n      <td>auto</td>\n      <td>17</td>\n      <td>uniform</td>\n      <td>{'model__algorithm': 'auto', 'model__n_neighbo...</td>\n      <td>0.554401</td>\n      <td>0.488796</td>\n      <td>0.500455</td>\n      <td>0.471666</td>\n      <td>0.458981</td>\n      <td>0.494860</td>\n      <td>0.032980</td>\n      <td>48</td>\n    </tr>\n    <tr>\n      <th>38</th>\n      <td>0.814499</td>\n      <td>0.060688</td>\n      <td>33.093947</td>\n      <td>1.069678</td>\n      <td>kd_tree</td>\n      <td>18</td>\n      <td>uniform</td>\n      <td>{'model__algorithm': 'kd_tree', 'model__n_neig...</td>\n      <td>0.550009</td>\n      <td>0.482766</td>\n      <td>0.493836</td>\n      <td>0.466826</td>\n      <td>0.451510</td>\n      <td>0.488989</td>\n      <td>0.033709</td>\n      <td>49</td>\n    </tr>\n    <tr>\n      <th>17</th>\n      <td>0.766813</td>\n      <td>0.059032</td>\n      <td>33.029821</td>\n      <td>0.076455</td>\n      <td>kd_tree</td>\n      <td>20</td>\n      <td>uniform</td>\n      <td>{'model__algorithm': 'kd_tree', 'model__n_neig...</td>\n      <td>0.537485</td>\n      <td>0.472779</td>\n      <td>0.482424</td>\n      <td>0.453401</td>\n      <td>0.440456</td>\n      <td>0.477309</td>\n      <td>0.033459</td>\n      <td>50</td>\n    </tr>\n  </tbody>\n</table>\n</div>"
     },
     "execution_count": 31,
     "metadata": {},
     "output_type": "execute_result"
    }
   ],
   "source": [
    "knnr_grid_search_dataframe = pd.DataFrame(\n",
    "    np.load(\"Dataset_Files/Baseline_Models/Regression/optimised_knnr_cv_results.npy\", allow_pickle=True).tolist())\n",
    "knnr_grid_search_dataframe.sort_values(by=[\"rank_test_score\"], inplace=True)\n",
    "knnr_grid_search_dataframe"
   ],
   "metadata": {
    "collapsed": false,
    "pycharm": {
     "name": "#%%\n"
    }
   }
  },
  {
   "cell_type": "markdown",
   "source": [
    "### Testing"
   ],
   "metadata": {
    "collapsed": false,
    "pycharm": {
     "name": "#%% md\n"
    }
   }
  },
  {
   "cell_type": "code",
   "execution_count": 32,
   "outputs": [
    {
     "name": "stdout",
     "output_type": "stream",
     "text": [
      "Metrics after 1000 bootstrapped samples of size 50\n",
      "--------------------------------------------------------\n",
      "Median Negated-MAE: -1.53 with a 95% confidence interval of [-2.11,-1.05]\n",
      "Median R2: -0.18 with a 95% confidence interval of [-0.49,0.20]\n"
     ]
    }
   ],
   "source": [
    "if os.path.exists(\"Dataset_Files/Baseline_Models/Regression/optimised_knnr_test_metrics.txt\"):\n",
    "    with open(\"Dataset_Files/Baseline_Models/Regression/optimised_knnr_test_metrics.txt\", \"r\") as file:\n",
    "        print(file.read())\n",
    "else:\n",
    "    get_confidence_intervals(optimised_knnr, X_test, y_test, 50, \"Regression\", print_iterator=True)"
   ],
   "metadata": {
    "collapsed": false,
    "pycharm": {
     "name": "#%%\n"
    }
   }
  },
  {
   "cell_type": "markdown",
   "source": [
    "## Decision Tree Regressor (DTR)"
   ],
   "metadata": {
    "collapsed": false,
    "pycharm": {
     "name": "#%% md\n"
    }
   }
  },
  {
   "cell_type": "code",
   "execution_count": 33,
   "outputs": [
    {
     "data": {
      "text/plain": "{'memory': None,\n 'steps': [('scale', StandardScaler()),\n  ('model', DecisionTreeRegressor(random_state=0))],\n 'verbose': False,\n 'scale': StandardScaler(),\n 'model': DecisionTreeRegressor(random_state=0),\n 'scale__copy': True,\n 'scale__with_mean': True,\n 'scale__with_std': True,\n 'model__ccp_alpha': 0.0,\n 'model__criterion': 'squared_error',\n 'model__max_depth': None,\n 'model__max_features': None,\n 'model__max_leaf_nodes': None,\n 'model__min_impurity_decrease': 0.0,\n 'model__min_samples_leaf': 1,\n 'model__min_samples_split': 2,\n 'model__min_weight_fraction_leaf': 0.0,\n 'model__random_state': 0,\n 'model__splitter': 'best'}"
     },
     "execution_count": 33,
     "metadata": {},
     "output_type": "execute_result"
    }
   ],
   "source": [
    "pipe = Pipeline(\n",
    "    [\n",
    "        ('scale', StandardScaler()),\n",
    "        ('model', DecisionTreeRegressor(random_state=0))\n",
    "    ]\n",
    ")\n",
    "pipe.get_params()"
   ],
   "metadata": {
    "collapsed": false,
    "pycharm": {
     "name": "#%%\n"
    }
   }
  },
  {
   "cell_type": "code",
   "execution_count": 34,
   "outputs": [],
   "source": [
    "model = BayesSearchCV(estimator=pipe,\n",
    "                      search_spaces={\n",
    "                          'model__criterion': Categorical(\n",
    "                              ['squared_error', 'friedman_mse', 'absolute_error']),\n",
    "                          'model__splitter': Categorical(['best', 'random']),\n",
    "                          'model__max_features': Categorical([None, 'sqrt', 'log2']),\n",
    "                      },\n",
    "                      scoring='r2',\n",
    "                      cv=5,\n",
    "                      error_score=np.nan,\n",
    "                      n_jobs=-1,\n",
    "                      pre_dispatch='2*n_jobs',\n",
    "                      random_state=42)"
   ],
   "metadata": {
    "collapsed": false,
    "pycharm": {
     "name": "#%%\n"
    }
   }
  },
  {
   "cell_type": "markdown",
   "source": [
    "### Training"
   ],
   "metadata": {
    "collapsed": false,
    "pycharm": {
     "name": "#%% md\n"
    }
   }
  },
  {
   "cell_type": "code",
   "execution_count": 35,
   "outputs": [],
   "source": [
    "# index = 1\n",
    "# model.fit(X_train, y_train, callback=on_step)\n",
    "#\n",
    "# optimised_dtr = model.best_estimator_\n",
    "#\n",
    "# y_train_pred = optimised_dtr.predict(X_train)\n",
    "# calculate_metrics_regression(y_train, y_train_pred)\n",
    "#\n",
    "# # Save Model & CV Results\n",
    "# dump(optimised_dtr, 'Dataset_Files/Baseline_Models/Regression/optimised_dtr.joblib')\n",
    "# np.save(\"Dataset_Files/Baseline_Models/Regression/optimised_dtr_cv_results.npy\", model.cv_results_)"
   ],
   "metadata": {
    "collapsed": false,
    "pycharm": {
     "name": "#%%\n"
    }
   }
  },
  {
   "cell_type": "code",
   "execution_count": 36,
   "outputs": [],
   "source": [
    "# Load Model\n",
    "optimised_dtr = load('Dataset_Files/Baseline_Models/Regression/optimised_dtr.joblib')"
   ],
   "metadata": {
    "collapsed": false,
    "pycharm": {
     "name": "#%%\n"
    }
   }
  },
  {
   "cell_type": "code",
   "execution_count": 37,
   "outputs": [
    {
     "name": "stdout",
     "output_type": "stream",
     "text": [
      "Metrics after 1000 bootstrapped samples of size 1000\n",
      "--------------------------------------------------------\n",
      "Median Negated-MAE: -0.00 with a 95% confidence interval of [-0.00,0.00]\n",
      "Median R2: 1.00 with a 95% confidence interval of [1.00,1.00]\n"
     ]
    }
   ],
   "source": [
    "get_confidence_intervals(optimised_dtr, X_train, y_train, 1000, \"Regression\")"
   ],
   "metadata": {
    "collapsed": false,
    "pycharm": {
     "name": "#%%\n"
    }
   }
  },
  {
   "cell_type": "code",
   "execution_count": 38,
   "outputs": [
    {
     "data": {
      "text/plain": "{'memory': None,\n 'steps': [('scale', StandardScaler()),\n  ('model', DecisionTreeRegressor(criterion='friedman_mse', random_state=0))],\n 'verbose': False,\n 'scale': StandardScaler(),\n 'model': DecisionTreeRegressor(criterion='friedman_mse', random_state=0),\n 'scale__copy': True,\n 'scale__with_mean': True,\n 'scale__with_std': True,\n 'model__ccp_alpha': 0.0,\n 'model__criterion': 'friedman_mse',\n 'model__max_depth': None,\n 'model__max_features': None,\n 'model__max_leaf_nodes': None,\n 'model__min_impurity_decrease': 0.0,\n 'model__min_samples_leaf': 1,\n 'model__min_samples_split': 2,\n 'model__min_weight_fraction_leaf': 0.0,\n 'model__random_state': 0,\n 'model__splitter': 'best'}"
     },
     "execution_count": 38,
     "metadata": {},
     "output_type": "execute_result"
    }
   ],
   "source": [
    "optimised_dtr.get_params()"
   ],
   "metadata": {
    "collapsed": false,
    "pycharm": {
     "name": "#%%\n"
    }
   }
  },
  {
   "cell_type": "code",
   "execution_count": 39,
   "outputs": [
    {
     "data": {
      "text/plain": "    mean_fit_time  std_fit_time  mean_score_time  std_score_time  \\\n49       6.529446      0.125338         0.012341        0.001286   \n31       6.327717      0.077765         0.012804        0.002484   \n30       6.011005      0.131041         0.013201        0.002486   \n28       6.147258      0.074005         0.014719        0.002345   \n35       6.070777      0.131383         0.014197        0.003121   \n48       5.967787      0.091202         0.017413        0.004867   \n39       6.330829      0.141226         0.013504        0.002862   \n20       6.752951      0.104479         0.013069        0.001747   \n40       5.642217      0.149316         0.012978        0.001959   \n41       6.155995      0.260092         0.011953        0.001889   \n42       6.217094      0.118545         0.013819        0.002642   \n13       6.250728      0.120575         0.014240        0.002297   \n33       6.437382      0.123430         0.012697        0.001316   \n44       6.408828      0.154270         0.014110        0.003423   \n10       6.807102      0.097026         0.014129        0.004518   \n45       5.995904      0.106704         0.015878        0.001249   \n47       6.413623      0.123276         0.013682        0.002215   \n46       6.390646      0.086319         0.011401        0.000801   \n43       5.724214      0.106137         0.012813        0.002700   \n29       3.005642      0.126457         0.011638        0.001395   \n3        4.079504      0.141662         0.014954        0.001933   \n16       3.862313      0.086763         0.012564        0.001740   \n7        0.324440      0.008401         0.019665        0.001017   \n5        0.395552      0.016395         0.018305        0.002287   \n27       0.194687      0.025890         0.011788        0.000752   \n2        0.243163      0.046336         0.014916        0.001839   \n1        0.288076      0.016075         0.018927        0.002044   \n6        0.344734      0.010978         0.018503        0.001634   \n21      30.375103      5.082643         0.013573        0.002434   \n25       0.329338      0.016185         0.012086        0.001551   \n18       0.352743      0.038693         0.013892        0.001034   \n17       0.409970      0.008284         0.018942        0.002607   \n34       0.332576      0.011866         0.013740        0.001025   \n22      22.503506      0.994316         0.015359        0.002999   \n0        0.294398      0.021271         0.018493        0.002806   \n8        0.357067      0.024056         0.016432        0.000865   \n4        0.414705      0.029316         0.025782        0.005142   \n24       0.434572      0.028991         0.020999        0.003519   \n26      53.231964      3.494162         0.012407        0.001128   \n11      56.573813      2.730455         0.013272        0.000993   \n38       0.355705      0.020721         0.028673        0.003808   \n19       0.296023      0.013720         0.021509        0.000945   \n14       0.286286      0.018700         0.017353        0.001832   \n32       0.208828      0.009667         0.014388        0.000497   \n36       4.629669      0.947751         0.011791        0.002133   \n12       4.979486      1.017583         0.013744        0.002450   \n9        4.569224      0.858339         0.012541        0.000971   \n37     934.083876     71.613618         0.014845        0.003006   \n23     929.879193     50.755126         0.015963        0.004153   \n15    1865.149834     54.740055         0.013884        0.001246   \n\n   param_model__criterion param_model__max_features param_model__splitter  \\\n49           friedman_mse                      None                  best   \n31          squared_error                      None                  best   \n30           friedman_mse                      None                  best   \n28          squared_error                      None                  best   \n35           friedman_mse                      None                  best   \n48           friedman_mse                      None                  best   \n39          squared_error                      None                  best   \n20           friedman_mse                      None                  best   \n40           friedman_mse                      None                  best   \n41           friedman_mse                      None                  best   \n42          squared_error                      None                  best   \n13          squared_error                      None                  best   \n33          squared_error                      None                  best   \n44           friedman_mse                      None                  best   \n10           friedman_mse                      None                  best   \n45          squared_error                      None                  best   \n47          squared_error                      None                  best   \n46           friedman_mse                      None                  best   \n43          squared_error                      None                  best   \n29           friedman_mse                      None                random   \n3           squared_error                      None                random   \n16           friedman_mse                      None                random   \n7            friedman_mse                      log2                  best   \n5            friedman_mse                      log2                  best   \n27           friedman_mse                      log2                  best   \n2            friedman_mse                      log2                  best   \n1           squared_error                      log2                  best   \n6            friedman_mse                      log2                  best   \n21         absolute_error                      sqrt                random   \n25           friedman_mse                      sqrt                  best   \n18          squared_error                      sqrt                  best   \n17           friedman_mse                      sqrt                  best   \n34           friedman_mse                      sqrt                  best   \n22         absolute_error                      log2                  best   \n0            friedman_mse                      sqrt                random   \n8           squared_error                      sqrt                random   \n4           squared_error                      sqrt                random   \n24           friedman_mse                      sqrt                random   \n26         absolute_error                      sqrt                  best   \n11         absolute_error                      sqrt                  best   \n38          squared_error                      log2                random   \n19          squared_error                      log2                random   \n14           friedman_mse                      log2                random   \n32           friedman_mse                      log2                random   \n36         absolute_error                      log2                random   \n12         absolute_error                      log2                random   \n9          absolute_error                      log2                random   \n37         absolute_error                      None                random   \n23         absolute_error                      None                random   \n15         absolute_error                      None                  best   \n\n                                               params  split0_test_score  \\\n49  {'model__criterion': 'friedman_mse', 'model__m...           0.313740   \n31  {'model__criterion': 'squared_error', 'model__...           0.313740   \n30  {'model__criterion': 'friedman_mse', 'model__m...           0.313740   \n28  {'model__criterion': 'squared_error', 'model__...           0.313740   \n35  {'model__criterion': 'friedman_mse', 'model__m...           0.313740   \n48  {'model__criterion': 'friedman_mse', 'model__m...           0.313740   \n39  {'model__criterion': 'squared_error', 'model__...           0.313740   \n20  {'model__criterion': 'friedman_mse', 'model__m...           0.313740   \n40  {'model__criterion': 'friedman_mse', 'model__m...           0.313740   \n41  {'model__criterion': 'friedman_mse', 'model__m...           0.313740   \n42  {'model__criterion': 'squared_error', 'model__...           0.313740   \n13  {'model__criterion': 'squared_error', 'model__...           0.313740   \n33  {'model__criterion': 'squared_error', 'model__...           0.313740   \n44  {'model__criterion': 'friedman_mse', 'model__m...           0.313740   \n10  {'model__criterion': 'friedman_mse', 'model__m...           0.313740   \n45  {'model__criterion': 'squared_error', 'model__...           0.313740   \n47  {'model__criterion': 'squared_error', 'model__...           0.313740   \n46  {'model__criterion': 'friedman_mse', 'model__m...           0.313740   \n43  {'model__criterion': 'squared_error', 'model__...           0.313740   \n29  {'model__criterion': 'friedman_mse', 'model__m...           0.296848   \n3   {'model__criterion': 'squared_error', 'model__...           0.296848   \n16  {'model__criterion': 'friedman_mse', 'model__m...           0.296848   \n7   {'model__criterion': 'friedman_mse', 'model__m...           0.293689   \n5   {'model__criterion': 'friedman_mse', 'model__m...           0.293689   \n27  {'model__criterion': 'friedman_mse', 'model__m...           0.293689   \n2   {'model__criterion': 'friedman_mse', 'model__m...           0.293689   \n1   {'model__criterion': 'squared_error', 'model__...           0.293689   \n6   {'model__criterion': 'friedman_mse', 'model__m...           0.293689   \n21  {'model__criterion': 'absolute_error', 'model_...           0.263339   \n25  {'model__criterion': 'friedman_mse', 'model__m...           0.289234   \n18  {'model__criterion': 'squared_error', 'model__...           0.289234   \n17  {'model__criterion': 'friedman_mse', 'model__m...           0.289234   \n34  {'model__criterion': 'friedman_mse', 'model__m...           0.289234   \n22  {'model__criterion': 'absolute_error', 'model_...           0.315333   \n0   {'model__criterion': 'friedman_mse', 'model__m...           0.295519   \n8   {'model__criterion': 'squared_error', 'model__...           0.295519   \n4   {'model__criterion': 'squared_error', 'model__...           0.295519   \n24  {'model__criterion': 'friedman_mse', 'model__m...           0.295519   \n26  {'model__criterion': 'absolute_error', 'model_...           0.259745   \n11  {'model__criterion': 'absolute_error', 'model_...           0.259745   \n38  {'model__criterion': 'squared_error', 'model__...           0.264664   \n19  {'model__criterion': 'squared_error', 'model__...           0.264664   \n14  {'model__criterion': 'friedman_mse', 'model__m...           0.264664   \n32  {'model__criterion': 'friedman_mse', 'model__m...           0.264664   \n36  {'model__criterion': 'absolute_error', 'model_...           0.296902   \n12  {'model__criterion': 'absolute_error', 'model_...           0.296902   \n9   {'model__criterion': 'absolute_error', 'model_...           0.296902   \n37  {'model__criterion': 'absolute_error', 'model_...           0.202877   \n23  {'model__criterion': 'absolute_error', 'model_...           0.202877   \n15  {'model__criterion': 'absolute_error', 'model_...           0.232443   \n\n    split1_test_score  split2_test_score  split3_test_score  \\\n49           0.293883           0.401373           0.300528   \n31           0.293883           0.401373           0.300528   \n30           0.293883           0.401373           0.300528   \n28           0.293883           0.401373           0.300528   \n35           0.293883           0.401373           0.300528   \n48           0.293883           0.401373           0.300528   \n39           0.293883           0.401373           0.300528   \n20           0.293883           0.401373           0.300528   \n40           0.293883           0.401373           0.300528   \n41           0.293883           0.401373           0.300528   \n42           0.293883           0.401373           0.300528   \n13           0.293883           0.401373           0.300528   \n33           0.293883           0.401373           0.300528   \n44           0.293883           0.401373           0.300528   \n10           0.293883           0.401373           0.300528   \n45           0.293883           0.401373           0.300528   \n47           0.293883           0.401373           0.300528   \n46           0.293883           0.401373           0.300528   \n43           0.293883           0.401373           0.300528   \n29           0.327971           0.291616           0.241782   \n3            0.327971           0.291616           0.241782   \n16           0.327971           0.291616           0.241782   \n7            0.290473           0.315982           0.260290   \n5            0.290473           0.315982           0.260290   \n27           0.290473           0.315982           0.260290   \n2            0.290473           0.315982           0.260290   \n1            0.290473           0.315982           0.260290   \n6            0.290473           0.315982           0.260290   \n21           0.272825           0.318048           0.205838   \n25           0.253484           0.309880           0.249127   \n18           0.253484           0.309880           0.249127   \n17           0.253484           0.309880           0.249127   \n34           0.253484           0.309880           0.249127   \n22           0.252926           0.271717           0.270192   \n0            0.310197           0.222329           0.252492   \n8            0.310197           0.222329           0.252492   \n4            0.310197           0.222329           0.252492   \n24           0.310197           0.222329           0.252492   \n26           0.279633           0.283120           0.176227   \n11           0.279633           0.283120           0.176227   \n38           0.264540           0.304881           0.160100   \n19           0.264540           0.304881           0.160100   \n14           0.264540           0.304881           0.160100   \n32           0.264540           0.304881           0.160100   \n36           0.230423           0.292194           0.206496   \n12           0.230423           0.292194           0.206496   \n9            0.230423           0.292194           0.206496   \n37           0.193453           0.287381           0.251805   \n23           0.193453           0.287381           0.251805   \n15           0.209279           0.296233           0.194692   \n\n    split4_test_score  mean_test_score  std_test_score  rank_test_score  \n49           0.341950         0.330295        0.039176                1  \n31           0.341950         0.330295        0.039176                1  \n30           0.341950         0.330295        0.039176                1  \n28           0.341950         0.330295        0.039176                1  \n35           0.341950         0.330295        0.039176                1  \n48           0.341950         0.330295        0.039176                1  \n39           0.341950         0.330295        0.039176                1  \n20           0.341950         0.330295        0.039176                1  \n40           0.341950         0.330295        0.039176                1  \n41           0.341950         0.330295        0.039176                1  \n42           0.341950         0.330295        0.039176                1  \n13           0.341950         0.330295        0.039176                1  \n33           0.341950         0.330295        0.039176                1  \n44           0.341950         0.330295        0.039176                1  \n10           0.341950         0.330295        0.039176                1  \n45           0.341950         0.330295        0.039176                1  \n47           0.341950         0.330295        0.039176                1  \n46           0.341950         0.330295        0.039176                1  \n43           0.341950         0.330295        0.039176                1  \n29           0.364512         0.304546        0.040769               20  \n3            0.364512         0.304546        0.040769               20  \n16           0.364512         0.304546        0.040769               20  \n7            0.292782         0.290643        0.017761               23  \n5            0.292782         0.290643        0.017761               23  \n27           0.292782         0.290643        0.017761               23  \n2            0.292782         0.290643        0.017761               23  \n1            0.292782         0.290643        0.017761               23  \n6            0.292782         0.290643        0.017761               23  \n21           0.323931         0.276796        0.042791               29  \n25           0.267453         0.273836        0.022811               30  \n18           0.267453         0.273836        0.022811               30  \n17           0.267453         0.273836        0.022811               30  \n34           0.267453         0.273836        0.022811               30  \n22           0.217140         0.265462        0.031751               34  \n0            0.242135         0.264534        0.033085               35  \n8            0.242135         0.264534        0.033085               35  \n4            0.242135         0.264534        0.033085               35  \n24           0.242135         0.264534        0.033085               35  \n26           0.307443         0.261234        0.045125               39  \n11           0.307443         0.261234        0.045125               39  \n38           0.293517         0.257540        0.051244               41  \n19           0.293517         0.257540        0.051244               41  \n14           0.293517         0.257540        0.051244               41  \n32           0.293517         0.257540        0.051244               41  \n36           0.237548         0.252712        0.035705               45  \n12           0.237548         0.252712        0.035705               45  \n9            0.237548         0.252712        0.035705               45  \n37           0.211064         0.229316        0.035201               48  \n23           0.211064         0.229316        0.035201               48  \n15           0.205951         0.227719        0.036390               50  ",
      "text/html": "<div>\n<style scoped>\n    .dataframe tbody tr th:only-of-type {\n        vertical-align: middle;\n    }\n\n    .dataframe tbody tr th {\n        vertical-align: top;\n    }\n\n    .dataframe thead th {\n        text-align: right;\n    }\n</style>\n<table border=\"1\" class=\"dataframe\">\n  <thead>\n    <tr style=\"text-align: right;\">\n      <th></th>\n      <th>mean_fit_time</th>\n      <th>std_fit_time</th>\n      <th>mean_score_time</th>\n      <th>std_score_time</th>\n      <th>param_model__criterion</th>\n      <th>param_model__max_features</th>\n      <th>param_model__splitter</th>\n      <th>params</th>\n      <th>split0_test_score</th>\n      <th>split1_test_score</th>\n      <th>split2_test_score</th>\n      <th>split3_test_score</th>\n      <th>split4_test_score</th>\n      <th>mean_test_score</th>\n      <th>std_test_score</th>\n      <th>rank_test_score</th>\n    </tr>\n  </thead>\n  <tbody>\n    <tr>\n      <th>49</th>\n      <td>6.529446</td>\n      <td>0.125338</td>\n      <td>0.012341</td>\n      <td>0.001286</td>\n      <td>friedman_mse</td>\n      <td>None</td>\n      <td>best</td>\n      <td>{'model__criterion': 'friedman_mse', 'model__m...</td>\n      <td>0.313740</td>\n      <td>0.293883</td>\n      <td>0.401373</td>\n      <td>0.300528</td>\n      <td>0.341950</td>\n      <td>0.330295</td>\n      <td>0.039176</td>\n      <td>1</td>\n    </tr>\n    <tr>\n      <th>31</th>\n      <td>6.327717</td>\n      <td>0.077765</td>\n      <td>0.012804</td>\n      <td>0.002484</td>\n      <td>squared_error</td>\n      <td>None</td>\n      <td>best</td>\n      <td>{'model__criterion': 'squared_error', 'model__...</td>\n      <td>0.313740</td>\n      <td>0.293883</td>\n      <td>0.401373</td>\n      <td>0.300528</td>\n      <td>0.341950</td>\n      <td>0.330295</td>\n      <td>0.039176</td>\n      <td>1</td>\n    </tr>\n    <tr>\n      <th>30</th>\n      <td>6.011005</td>\n      <td>0.131041</td>\n      <td>0.013201</td>\n      <td>0.002486</td>\n      <td>friedman_mse</td>\n      <td>None</td>\n      <td>best</td>\n      <td>{'model__criterion': 'friedman_mse', 'model__m...</td>\n      <td>0.313740</td>\n      <td>0.293883</td>\n      <td>0.401373</td>\n      <td>0.300528</td>\n      <td>0.341950</td>\n      <td>0.330295</td>\n      <td>0.039176</td>\n      <td>1</td>\n    </tr>\n    <tr>\n      <th>28</th>\n      <td>6.147258</td>\n      <td>0.074005</td>\n      <td>0.014719</td>\n      <td>0.002345</td>\n      <td>squared_error</td>\n      <td>None</td>\n      <td>best</td>\n      <td>{'model__criterion': 'squared_error', 'model__...</td>\n      <td>0.313740</td>\n      <td>0.293883</td>\n      <td>0.401373</td>\n      <td>0.300528</td>\n      <td>0.341950</td>\n      <td>0.330295</td>\n      <td>0.039176</td>\n      <td>1</td>\n    </tr>\n    <tr>\n      <th>35</th>\n      <td>6.070777</td>\n      <td>0.131383</td>\n      <td>0.014197</td>\n      <td>0.003121</td>\n      <td>friedman_mse</td>\n      <td>None</td>\n      <td>best</td>\n      <td>{'model__criterion': 'friedman_mse', 'model__m...</td>\n      <td>0.313740</td>\n      <td>0.293883</td>\n      <td>0.401373</td>\n      <td>0.300528</td>\n      <td>0.341950</td>\n      <td>0.330295</td>\n      <td>0.039176</td>\n      <td>1</td>\n    </tr>\n    <tr>\n      <th>48</th>\n      <td>5.967787</td>\n      <td>0.091202</td>\n      <td>0.017413</td>\n      <td>0.004867</td>\n      <td>friedman_mse</td>\n      <td>None</td>\n      <td>best</td>\n      <td>{'model__criterion': 'friedman_mse', 'model__m...</td>\n      <td>0.313740</td>\n      <td>0.293883</td>\n      <td>0.401373</td>\n      <td>0.300528</td>\n      <td>0.341950</td>\n      <td>0.330295</td>\n      <td>0.039176</td>\n      <td>1</td>\n    </tr>\n    <tr>\n      <th>39</th>\n      <td>6.330829</td>\n      <td>0.141226</td>\n      <td>0.013504</td>\n      <td>0.002862</td>\n      <td>squared_error</td>\n      <td>None</td>\n      <td>best</td>\n      <td>{'model__criterion': 'squared_error', 'model__...</td>\n      <td>0.313740</td>\n      <td>0.293883</td>\n      <td>0.401373</td>\n      <td>0.300528</td>\n      <td>0.341950</td>\n      <td>0.330295</td>\n      <td>0.039176</td>\n      <td>1</td>\n    </tr>\n    <tr>\n      <th>20</th>\n      <td>6.752951</td>\n      <td>0.104479</td>\n      <td>0.013069</td>\n      <td>0.001747</td>\n      <td>friedman_mse</td>\n      <td>None</td>\n      <td>best</td>\n      <td>{'model__criterion': 'friedman_mse', 'model__m...</td>\n      <td>0.313740</td>\n      <td>0.293883</td>\n      <td>0.401373</td>\n      <td>0.300528</td>\n      <td>0.341950</td>\n      <td>0.330295</td>\n      <td>0.039176</td>\n      <td>1</td>\n    </tr>\n    <tr>\n      <th>40</th>\n      <td>5.642217</td>\n      <td>0.149316</td>\n      <td>0.012978</td>\n      <td>0.001959</td>\n      <td>friedman_mse</td>\n      <td>None</td>\n      <td>best</td>\n      <td>{'model__criterion': 'friedman_mse', 'model__m...</td>\n      <td>0.313740</td>\n      <td>0.293883</td>\n      <td>0.401373</td>\n      <td>0.300528</td>\n      <td>0.341950</td>\n      <td>0.330295</td>\n      <td>0.039176</td>\n      <td>1</td>\n    </tr>\n    <tr>\n      <th>41</th>\n      <td>6.155995</td>\n      <td>0.260092</td>\n      <td>0.011953</td>\n      <td>0.001889</td>\n      <td>friedman_mse</td>\n      <td>None</td>\n      <td>best</td>\n      <td>{'model__criterion': 'friedman_mse', 'model__m...</td>\n      <td>0.313740</td>\n      <td>0.293883</td>\n      <td>0.401373</td>\n      <td>0.300528</td>\n      <td>0.341950</td>\n      <td>0.330295</td>\n      <td>0.039176</td>\n      <td>1</td>\n    </tr>\n    <tr>\n      <th>42</th>\n      <td>6.217094</td>\n      <td>0.118545</td>\n      <td>0.013819</td>\n      <td>0.002642</td>\n      <td>squared_error</td>\n      <td>None</td>\n      <td>best</td>\n      <td>{'model__criterion': 'squared_error', 'model__...</td>\n      <td>0.313740</td>\n      <td>0.293883</td>\n      <td>0.401373</td>\n      <td>0.300528</td>\n      <td>0.341950</td>\n      <td>0.330295</td>\n      <td>0.039176</td>\n      <td>1</td>\n    </tr>\n    <tr>\n      <th>13</th>\n      <td>6.250728</td>\n      <td>0.120575</td>\n      <td>0.014240</td>\n      <td>0.002297</td>\n      <td>squared_error</td>\n      <td>None</td>\n      <td>best</td>\n      <td>{'model__criterion': 'squared_error', 'model__...</td>\n      <td>0.313740</td>\n      <td>0.293883</td>\n      <td>0.401373</td>\n      <td>0.300528</td>\n      <td>0.341950</td>\n      <td>0.330295</td>\n      <td>0.039176</td>\n      <td>1</td>\n    </tr>\n    <tr>\n      <th>33</th>\n      <td>6.437382</td>\n      <td>0.123430</td>\n      <td>0.012697</td>\n      <td>0.001316</td>\n      <td>squared_error</td>\n      <td>None</td>\n      <td>best</td>\n      <td>{'model__criterion': 'squared_error', 'model__...</td>\n      <td>0.313740</td>\n      <td>0.293883</td>\n      <td>0.401373</td>\n      <td>0.300528</td>\n      <td>0.341950</td>\n      <td>0.330295</td>\n      <td>0.039176</td>\n      <td>1</td>\n    </tr>\n    <tr>\n      <th>44</th>\n      <td>6.408828</td>\n      <td>0.154270</td>\n      <td>0.014110</td>\n      <td>0.003423</td>\n      <td>friedman_mse</td>\n      <td>None</td>\n      <td>best</td>\n      <td>{'model__criterion': 'friedman_mse', 'model__m...</td>\n      <td>0.313740</td>\n      <td>0.293883</td>\n      <td>0.401373</td>\n      <td>0.300528</td>\n      <td>0.341950</td>\n      <td>0.330295</td>\n      <td>0.039176</td>\n      <td>1</td>\n    </tr>\n    <tr>\n      <th>10</th>\n      <td>6.807102</td>\n      <td>0.097026</td>\n      <td>0.014129</td>\n      <td>0.004518</td>\n      <td>friedman_mse</td>\n      <td>None</td>\n      <td>best</td>\n      <td>{'model__criterion': 'friedman_mse', 'model__m...</td>\n      <td>0.313740</td>\n      <td>0.293883</td>\n      <td>0.401373</td>\n      <td>0.300528</td>\n      <td>0.341950</td>\n      <td>0.330295</td>\n      <td>0.039176</td>\n      <td>1</td>\n    </tr>\n    <tr>\n      <th>45</th>\n      <td>5.995904</td>\n      <td>0.106704</td>\n      <td>0.015878</td>\n      <td>0.001249</td>\n      <td>squared_error</td>\n      <td>None</td>\n      <td>best</td>\n      <td>{'model__criterion': 'squared_error', 'model__...</td>\n      <td>0.313740</td>\n      <td>0.293883</td>\n      <td>0.401373</td>\n      <td>0.300528</td>\n      <td>0.341950</td>\n      <td>0.330295</td>\n      <td>0.039176</td>\n      <td>1</td>\n    </tr>\n    <tr>\n      <th>47</th>\n      <td>6.413623</td>\n      <td>0.123276</td>\n      <td>0.013682</td>\n      <td>0.002215</td>\n      <td>squared_error</td>\n      <td>None</td>\n      <td>best</td>\n      <td>{'model__criterion': 'squared_error', 'model__...</td>\n      <td>0.313740</td>\n      <td>0.293883</td>\n      <td>0.401373</td>\n      <td>0.300528</td>\n      <td>0.341950</td>\n      <td>0.330295</td>\n      <td>0.039176</td>\n      <td>1</td>\n    </tr>\n    <tr>\n      <th>46</th>\n      <td>6.390646</td>\n      <td>0.086319</td>\n      <td>0.011401</td>\n      <td>0.000801</td>\n      <td>friedman_mse</td>\n      <td>None</td>\n      <td>best</td>\n      <td>{'model__criterion': 'friedman_mse', 'model__m...</td>\n      <td>0.313740</td>\n      <td>0.293883</td>\n      <td>0.401373</td>\n      <td>0.300528</td>\n      <td>0.341950</td>\n      <td>0.330295</td>\n      <td>0.039176</td>\n      <td>1</td>\n    </tr>\n    <tr>\n      <th>43</th>\n      <td>5.724214</td>\n      <td>0.106137</td>\n      <td>0.012813</td>\n      <td>0.002700</td>\n      <td>squared_error</td>\n      <td>None</td>\n      <td>best</td>\n      <td>{'model__criterion': 'squared_error', 'model__...</td>\n      <td>0.313740</td>\n      <td>0.293883</td>\n      <td>0.401373</td>\n      <td>0.300528</td>\n      <td>0.341950</td>\n      <td>0.330295</td>\n      <td>0.039176</td>\n      <td>1</td>\n    </tr>\n    <tr>\n      <th>29</th>\n      <td>3.005642</td>\n      <td>0.126457</td>\n      <td>0.011638</td>\n      <td>0.001395</td>\n      <td>friedman_mse</td>\n      <td>None</td>\n      <td>random</td>\n      <td>{'model__criterion': 'friedman_mse', 'model__m...</td>\n      <td>0.296848</td>\n      <td>0.327971</td>\n      <td>0.291616</td>\n      <td>0.241782</td>\n      <td>0.364512</td>\n      <td>0.304546</td>\n      <td>0.040769</td>\n      <td>20</td>\n    </tr>\n    <tr>\n      <th>3</th>\n      <td>4.079504</td>\n      <td>0.141662</td>\n      <td>0.014954</td>\n      <td>0.001933</td>\n      <td>squared_error</td>\n      <td>None</td>\n      <td>random</td>\n      <td>{'model__criterion': 'squared_error', 'model__...</td>\n      <td>0.296848</td>\n      <td>0.327971</td>\n      <td>0.291616</td>\n      <td>0.241782</td>\n      <td>0.364512</td>\n      <td>0.304546</td>\n      <td>0.040769</td>\n      <td>20</td>\n    </tr>\n    <tr>\n      <th>16</th>\n      <td>3.862313</td>\n      <td>0.086763</td>\n      <td>0.012564</td>\n      <td>0.001740</td>\n      <td>friedman_mse</td>\n      <td>None</td>\n      <td>random</td>\n      <td>{'model__criterion': 'friedman_mse', 'model__m...</td>\n      <td>0.296848</td>\n      <td>0.327971</td>\n      <td>0.291616</td>\n      <td>0.241782</td>\n      <td>0.364512</td>\n      <td>0.304546</td>\n      <td>0.040769</td>\n      <td>20</td>\n    </tr>\n    <tr>\n      <th>7</th>\n      <td>0.324440</td>\n      <td>0.008401</td>\n      <td>0.019665</td>\n      <td>0.001017</td>\n      <td>friedman_mse</td>\n      <td>log2</td>\n      <td>best</td>\n      <td>{'model__criterion': 'friedman_mse', 'model__m...</td>\n      <td>0.293689</td>\n      <td>0.290473</td>\n      <td>0.315982</td>\n      <td>0.260290</td>\n      <td>0.292782</td>\n      <td>0.290643</td>\n      <td>0.017761</td>\n      <td>23</td>\n    </tr>\n    <tr>\n      <th>5</th>\n      <td>0.395552</td>\n      <td>0.016395</td>\n      <td>0.018305</td>\n      <td>0.002287</td>\n      <td>friedman_mse</td>\n      <td>log2</td>\n      <td>best</td>\n      <td>{'model__criterion': 'friedman_mse', 'model__m...</td>\n      <td>0.293689</td>\n      <td>0.290473</td>\n      <td>0.315982</td>\n      <td>0.260290</td>\n      <td>0.292782</td>\n      <td>0.290643</td>\n      <td>0.017761</td>\n      <td>23</td>\n    </tr>\n    <tr>\n      <th>27</th>\n      <td>0.194687</td>\n      <td>0.025890</td>\n      <td>0.011788</td>\n      <td>0.000752</td>\n      <td>friedman_mse</td>\n      <td>log2</td>\n      <td>best</td>\n      <td>{'model__criterion': 'friedman_mse', 'model__m...</td>\n      <td>0.293689</td>\n      <td>0.290473</td>\n      <td>0.315982</td>\n      <td>0.260290</td>\n      <td>0.292782</td>\n      <td>0.290643</td>\n      <td>0.017761</td>\n      <td>23</td>\n    </tr>\n    <tr>\n      <th>2</th>\n      <td>0.243163</td>\n      <td>0.046336</td>\n      <td>0.014916</td>\n      <td>0.001839</td>\n      <td>friedman_mse</td>\n      <td>log2</td>\n      <td>best</td>\n      <td>{'model__criterion': 'friedman_mse', 'model__m...</td>\n      <td>0.293689</td>\n      <td>0.290473</td>\n      <td>0.315982</td>\n      <td>0.260290</td>\n      <td>0.292782</td>\n      <td>0.290643</td>\n      <td>0.017761</td>\n      <td>23</td>\n    </tr>\n    <tr>\n      <th>1</th>\n      <td>0.288076</td>\n      <td>0.016075</td>\n      <td>0.018927</td>\n      <td>0.002044</td>\n      <td>squared_error</td>\n      <td>log2</td>\n      <td>best</td>\n      <td>{'model__criterion': 'squared_error', 'model__...</td>\n      <td>0.293689</td>\n      <td>0.290473</td>\n      <td>0.315982</td>\n      <td>0.260290</td>\n      <td>0.292782</td>\n      <td>0.290643</td>\n      <td>0.017761</td>\n      <td>23</td>\n    </tr>\n    <tr>\n      <th>6</th>\n      <td>0.344734</td>\n      <td>0.010978</td>\n      <td>0.018503</td>\n      <td>0.001634</td>\n      <td>friedman_mse</td>\n      <td>log2</td>\n      <td>best</td>\n      <td>{'model__criterion': 'friedman_mse', 'model__m...</td>\n      <td>0.293689</td>\n      <td>0.290473</td>\n      <td>0.315982</td>\n      <td>0.260290</td>\n      <td>0.292782</td>\n      <td>0.290643</td>\n      <td>0.017761</td>\n      <td>23</td>\n    </tr>\n    <tr>\n      <th>21</th>\n      <td>30.375103</td>\n      <td>5.082643</td>\n      <td>0.013573</td>\n      <td>0.002434</td>\n      <td>absolute_error</td>\n      <td>sqrt</td>\n      <td>random</td>\n      <td>{'model__criterion': 'absolute_error', 'model_...</td>\n      <td>0.263339</td>\n      <td>0.272825</td>\n      <td>0.318048</td>\n      <td>0.205838</td>\n      <td>0.323931</td>\n      <td>0.276796</td>\n      <td>0.042791</td>\n      <td>29</td>\n    </tr>\n    <tr>\n      <th>25</th>\n      <td>0.329338</td>\n      <td>0.016185</td>\n      <td>0.012086</td>\n      <td>0.001551</td>\n      <td>friedman_mse</td>\n      <td>sqrt</td>\n      <td>best</td>\n      <td>{'model__criterion': 'friedman_mse', 'model__m...</td>\n      <td>0.289234</td>\n      <td>0.253484</td>\n      <td>0.309880</td>\n      <td>0.249127</td>\n      <td>0.267453</td>\n      <td>0.273836</td>\n      <td>0.022811</td>\n      <td>30</td>\n    </tr>\n    <tr>\n      <th>18</th>\n      <td>0.352743</td>\n      <td>0.038693</td>\n      <td>0.013892</td>\n      <td>0.001034</td>\n      <td>squared_error</td>\n      <td>sqrt</td>\n      <td>best</td>\n      <td>{'model__criterion': 'squared_error', 'model__...</td>\n      <td>0.289234</td>\n      <td>0.253484</td>\n      <td>0.309880</td>\n      <td>0.249127</td>\n      <td>0.267453</td>\n      <td>0.273836</td>\n      <td>0.022811</td>\n      <td>30</td>\n    </tr>\n    <tr>\n      <th>17</th>\n      <td>0.409970</td>\n      <td>0.008284</td>\n      <td>0.018942</td>\n      <td>0.002607</td>\n      <td>friedman_mse</td>\n      <td>sqrt</td>\n      <td>best</td>\n      <td>{'model__criterion': 'friedman_mse', 'model__m...</td>\n      <td>0.289234</td>\n      <td>0.253484</td>\n      <td>0.309880</td>\n      <td>0.249127</td>\n      <td>0.267453</td>\n      <td>0.273836</td>\n      <td>0.022811</td>\n      <td>30</td>\n    </tr>\n    <tr>\n      <th>34</th>\n      <td>0.332576</td>\n      <td>0.011866</td>\n      <td>0.013740</td>\n      <td>0.001025</td>\n      <td>friedman_mse</td>\n      <td>sqrt</td>\n      <td>best</td>\n      <td>{'model__criterion': 'friedman_mse', 'model__m...</td>\n      <td>0.289234</td>\n      <td>0.253484</td>\n      <td>0.309880</td>\n      <td>0.249127</td>\n      <td>0.267453</td>\n      <td>0.273836</td>\n      <td>0.022811</td>\n      <td>30</td>\n    </tr>\n    <tr>\n      <th>22</th>\n      <td>22.503506</td>\n      <td>0.994316</td>\n      <td>0.015359</td>\n      <td>0.002999</td>\n      <td>absolute_error</td>\n      <td>log2</td>\n      <td>best</td>\n      <td>{'model__criterion': 'absolute_error', 'model_...</td>\n      <td>0.315333</td>\n      <td>0.252926</td>\n      <td>0.271717</td>\n      <td>0.270192</td>\n      <td>0.217140</td>\n      <td>0.265462</td>\n      <td>0.031751</td>\n      <td>34</td>\n    </tr>\n    <tr>\n      <th>0</th>\n      <td>0.294398</td>\n      <td>0.021271</td>\n      <td>0.018493</td>\n      <td>0.002806</td>\n      <td>friedman_mse</td>\n      <td>sqrt</td>\n      <td>random</td>\n      <td>{'model__criterion': 'friedman_mse', 'model__m...</td>\n      <td>0.295519</td>\n      <td>0.310197</td>\n      <td>0.222329</td>\n      <td>0.252492</td>\n      <td>0.242135</td>\n      <td>0.264534</td>\n      <td>0.033085</td>\n      <td>35</td>\n    </tr>\n    <tr>\n      <th>8</th>\n      <td>0.357067</td>\n      <td>0.024056</td>\n      <td>0.016432</td>\n      <td>0.000865</td>\n      <td>squared_error</td>\n      <td>sqrt</td>\n      <td>random</td>\n      <td>{'model__criterion': 'squared_error', 'model__...</td>\n      <td>0.295519</td>\n      <td>0.310197</td>\n      <td>0.222329</td>\n      <td>0.252492</td>\n      <td>0.242135</td>\n      <td>0.264534</td>\n      <td>0.033085</td>\n      <td>35</td>\n    </tr>\n    <tr>\n      <th>4</th>\n      <td>0.414705</td>\n      <td>0.029316</td>\n      <td>0.025782</td>\n      <td>0.005142</td>\n      <td>squared_error</td>\n      <td>sqrt</td>\n      <td>random</td>\n      <td>{'model__criterion': 'squared_error', 'model__...</td>\n      <td>0.295519</td>\n      <td>0.310197</td>\n      <td>0.222329</td>\n      <td>0.252492</td>\n      <td>0.242135</td>\n      <td>0.264534</td>\n      <td>0.033085</td>\n      <td>35</td>\n    </tr>\n    <tr>\n      <th>24</th>\n      <td>0.434572</td>\n      <td>0.028991</td>\n      <td>0.020999</td>\n      <td>0.003519</td>\n      <td>friedman_mse</td>\n      <td>sqrt</td>\n      <td>random</td>\n      <td>{'model__criterion': 'friedman_mse', 'model__m...</td>\n      <td>0.295519</td>\n      <td>0.310197</td>\n      <td>0.222329</td>\n      <td>0.252492</td>\n      <td>0.242135</td>\n      <td>0.264534</td>\n      <td>0.033085</td>\n      <td>35</td>\n    </tr>\n    <tr>\n      <th>26</th>\n      <td>53.231964</td>\n      <td>3.494162</td>\n      <td>0.012407</td>\n      <td>0.001128</td>\n      <td>absolute_error</td>\n      <td>sqrt</td>\n      <td>best</td>\n      <td>{'model__criterion': 'absolute_error', 'model_...</td>\n      <td>0.259745</td>\n      <td>0.279633</td>\n      <td>0.283120</td>\n      <td>0.176227</td>\n      <td>0.307443</td>\n      <td>0.261234</td>\n      <td>0.045125</td>\n      <td>39</td>\n    </tr>\n    <tr>\n      <th>11</th>\n      <td>56.573813</td>\n      <td>2.730455</td>\n      <td>0.013272</td>\n      <td>0.000993</td>\n      <td>absolute_error</td>\n      <td>sqrt</td>\n      <td>best</td>\n      <td>{'model__criterion': 'absolute_error', 'model_...</td>\n      <td>0.259745</td>\n      <td>0.279633</td>\n      <td>0.283120</td>\n      <td>0.176227</td>\n      <td>0.307443</td>\n      <td>0.261234</td>\n      <td>0.045125</td>\n      <td>39</td>\n    </tr>\n    <tr>\n      <th>38</th>\n      <td>0.355705</td>\n      <td>0.020721</td>\n      <td>0.028673</td>\n      <td>0.003808</td>\n      <td>squared_error</td>\n      <td>log2</td>\n      <td>random</td>\n      <td>{'model__criterion': 'squared_error', 'model__...</td>\n      <td>0.264664</td>\n      <td>0.264540</td>\n      <td>0.304881</td>\n      <td>0.160100</td>\n      <td>0.293517</td>\n      <td>0.257540</td>\n      <td>0.051244</td>\n      <td>41</td>\n    </tr>\n    <tr>\n      <th>19</th>\n      <td>0.296023</td>\n      <td>0.013720</td>\n      <td>0.021509</td>\n      <td>0.000945</td>\n      <td>squared_error</td>\n      <td>log2</td>\n      <td>random</td>\n      <td>{'model__criterion': 'squared_error', 'model__...</td>\n      <td>0.264664</td>\n      <td>0.264540</td>\n      <td>0.304881</td>\n      <td>0.160100</td>\n      <td>0.293517</td>\n      <td>0.257540</td>\n      <td>0.051244</td>\n      <td>41</td>\n    </tr>\n    <tr>\n      <th>14</th>\n      <td>0.286286</td>\n      <td>0.018700</td>\n      <td>0.017353</td>\n      <td>0.001832</td>\n      <td>friedman_mse</td>\n      <td>log2</td>\n      <td>random</td>\n      <td>{'model__criterion': 'friedman_mse', 'model__m...</td>\n      <td>0.264664</td>\n      <td>0.264540</td>\n      <td>0.304881</td>\n      <td>0.160100</td>\n      <td>0.293517</td>\n      <td>0.257540</td>\n      <td>0.051244</td>\n      <td>41</td>\n    </tr>\n    <tr>\n      <th>32</th>\n      <td>0.208828</td>\n      <td>0.009667</td>\n      <td>0.014388</td>\n      <td>0.000497</td>\n      <td>friedman_mse</td>\n      <td>log2</td>\n      <td>random</td>\n      <td>{'model__criterion': 'friedman_mse', 'model__m...</td>\n      <td>0.264664</td>\n      <td>0.264540</td>\n      <td>0.304881</td>\n      <td>0.160100</td>\n      <td>0.293517</td>\n      <td>0.257540</td>\n      <td>0.051244</td>\n      <td>41</td>\n    </tr>\n    <tr>\n      <th>36</th>\n      <td>4.629669</td>\n      <td>0.947751</td>\n      <td>0.011791</td>\n      <td>0.002133</td>\n      <td>absolute_error</td>\n      <td>log2</td>\n      <td>random</td>\n      <td>{'model__criterion': 'absolute_error', 'model_...</td>\n      <td>0.296902</td>\n      <td>0.230423</td>\n      <td>0.292194</td>\n      <td>0.206496</td>\n      <td>0.237548</td>\n      <td>0.252712</td>\n      <td>0.035705</td>\n      <td>45</td>\n    </tr>\n    <tr>\n      <th>12</th>\n      <td>4.979486</td>\n      <td>1.017583</td>\n      <td>0.013744</td>\n      <td>0.002450</td>\n      <td>absolute_error</td>\n      <td>log2</td>\n      <td>random</td>\n      <td>{'model__criterion': 'absolute_error', 'model_...</td>\n      <td>0.296902</td>\n      <td>0.230423</td>\n      <td>0.292194</td>\n      <td>0.206496</td>\n      <td>0.237548</td>\n      <td>0.252712</td>\n      <td>0.035705</td>\n      <td>45</td>\n    </tr>\n    <tr>\n      <th>9</th>\n      <td>4.569224</td>\n      <td>0.858339</td>\n      <td>0.012541</td>\n      <td>0.000971</td>\n      <td>absolute_error</td>\n      <td>log2</td>\n      <td>random</td>\n      <td>{'model__criterion': 'absolute_error', 'model_...</td>\n      <td>0.296902</td>\n      <td>0.230423</td>\n      <td>0.292194</td>\n      <td>0.206496</td>\n      <td>0.237548</td>\n      <td>0.252712</td>\n      <td>0.035705</td>\n      <td>45</td>\n    </tr>\n    <tr>\n      <th>37</th>\n      <td>934.083876</td>\n      <td>71.613618</td>\n      <td>0.014845</td>\n      <td>0.003006</td>\n      <td>absolute_error</td>\n      <td>None</td>\n      <td>random</td>\n      <td>{'model__criterion': 'absolute_error', 'model_...</td>\n      <td>0.202877</td>\n      <td>0.193453</td>\n      <td>0.287381</td>\n      <td>0.251805</td>\n      <td>0.211064</td>\n      <td>0.229316</td>\n      <td>0.035201</td>\n      <td>48</td>\n    </tr>\n    <tr>\n      <th>23</th>\n      <td>929.879193</td>\n      <td>50.755126</td>\n      <td>0.015963</td>\n      <td>0.004153</td>\n      <td>absolute_error</td>\n      <td>None</td>\n      <td>random</td>\n      <td>{'model__criterion': 'absolute_error', 'model_...</td>\n      <td>0.202877</td>\n      <td>0.193453</td>\n      <td>0.287381</td>\n      <td>0.251805</td>\n      <td>0.211064</td>\n      <td>0.229316</td>\n      <td>0.035201</td>\n      <td>48</td>\n    </tr>\n    <tr>\n      <th>15</th>\n      <td>1865.149834</td>\n      <td>54.740055</td>\n      <td>0.013884</td>\n      <td>0.001246</td>\n      <td>absolute_error</td>\n      <td>None</td>\n      <td>best</td>\n      <td>{'model__criterion': 'absolute_error', 'model_...</td>\n      <td>0.232443</td>\n      <td>0.209279</td>\n      <td>0.296233</td>\n      <td>0.194692</td>\n      <td>0.205951</td>\n      <td>0.227719</td>\n      <td>0.036390</td>\n      <td>50</td>\n    </tr>\n  </tbody>\n</table>\n</div>"
     },
     "execution_count": 39,
     "metadata": {},
     "output_type": "execute_result"
    }
   ],
   "source": [
    "dtr_grid_search_dataframe = pd.DataFrame(\n",
    "    np.load(\"Dataset_Files/Baseline_Models/Regression/optimised_dtr_cv_results.npy\", allow_pickle=True).tolist())\n",
    "dtr_grid_search_dataframe.sort_values(by=[\"rank_test_score\"], inplace=True)\n",
    "dtr_grid_search_dataframe"
   ],
   "metadata": {
    "collapsed": false,
    "pycharm": {
     "name": "#%%\n"
    }
   }
  },
  {
   "cell_type": "markdown",
   "source": [
    "### Testing"
   ],
   "metadata": {
    "collapsed": false,
    "pycharm": {
     "name": "#%% md\n"
    }
   }
  },
  {
   "cell_type": "code",
   "execution_count": 40,
   "outputs": [
    {
     "name": "stdout",
     "output_type": "stream",
     "text": [
      "Metrics after 1000 bootstrapped samples of size 50\n",
      "--------------------------------------------------------\n",
      "Median Negated-MAE: -3.11 with a 95% confidence interval of [-3.99,-2.36]\n",
      "Median R2: -2.28 with a 95% confidence interval of [-6.37,-0.90]\n"
     ]
    }
   ],
   "source": [
    "get_confidence_intervals(optimised_dtr, X_test, y_test, 50, \"Regression\")"
   ],
   "metadata": {
    "collapsed": false,
    "pycharm": {
     "name": "#%%\n"
    }
   }
  },
  {
   "cell_type": "markdown",
   "source": [
    "## Random Forest Regressor (RFR)"
   ],
   "metadata": {
    "collapsed": false,
    "pycharm": {
     "name": "#%% md\n"
    }
   }
  },
  {
   "cell_type": "code",
   "execution_count": 41,
   "outputs": [
    {
     "data": {
      "text/plain": "{'memory': None,\n 'steps': [('scale', StandardScaler()),\n  ('model', RandomForestRegressor(random_state=42))],\n 'verbose': False,\n 'scale': StandardScaler(),\n 'model': RandomForestRegressor(random_state=42),\n 'scale__copy': True,\n 'scale__with_mean': True,\n 'scale__with_std': True,\n 'model__bootstrap': True,\n 'model__ccp_alpha': 0.0,\n 'model__criterion': 'squared_error',\n 'model__maxBins': 256,\n 'model__max_depth': None,\n 'model__max_features': 'auto',\n 'model__max_leaf_nodes': None,\n 'model__max_samples': None,\n 'model__minBinSize': 1,\n 'model__min_impurity_decrease': 0.0,\n 'model__min_samples_leaf': 1,\n 'model__min_samples_split': 2,\n 'model__min_weight_fraction_leaf': 0.0,\n 'model__n_estimators': 100,\n 'model__n_jobs': None,\n 'model__oob_score': False,\n 'model__random_state': 42,\n 'model__verbose': 0,\n 'model__warm_start': False}"
     },
     "execution_count": 41,
     "metadata": {},
     "output_type": "execute_result"
    }
   ],
   "source": [
    "pipe = Pipeline(\n",
    "    [\n",
    "        ('scale', StandardScaler()),\n",
    "        ('model', RandomForestRegressor(random_state=42))\n",
    "    ]\n",
    ")\n",
    "pipe.get_params()"
   ],
   "metadata": {
    "collapsed": false,
    "pycharm": {
     "name": "#%%\n"
    }
   }
  },
  {
   "cell_type": "code",
   "execution_count": 42,
   "outputs": [],
   "source": [
    "model = BayesSearchCV(estimator=pipe,\n",
    "                      search_spaces={\n",
    "                          'model__n_estimators': Integer(10, 100),\n",
    "                          'model__criterion': Categorical(['squared_error', 'absolute_error']),\n",
    "                          'model__max_features': Categorical([None, 'sqrt', 'log2']),\n",
    "                      },\n",
    "                      scoring='r2',\n",
    "                      cv=5,\n",
    "                      error_score=np.nan,\n",
    "                      n_jobs=-1,\n",
    "                      pre_dispatch='2*n_jobs',\n",
    "                      random_state=42)"
   ],
   "metadata": {
    "collapsed": false,
    "pycharm": {
     "name": "#%%\n"
    }
   }
  },
  {
   "cell_type": "markdown",
   "source": [
    "### Training"
   ],
   "metadata": {
    "collapsed": false,
    "pycharm": {
     "name": "#%% md\n"
    }
   }
  },
  {
   "cell_type": "code",
   "execution_count": 43,
   "outputs": [],
   "source": [
    "# index = 1\n",
    "# model.fit(X_train, y_train, callback=on_step)\n",
    "#\n",
    "# optimised_rfr = model.best_estimator_\n",
    "#\n",
    "# y_train_pred = optimised_rfr.predict(X_train)\n",
    "# calculate_metrics_regression(y_train, y_train_pred)\n",
    "#\n",
    "# # Save Model & CV Results\n",
    "# dump(optimised_rfr, 'Dataset_Files/Baseline_Models/Regression/optimised_rfr.joblib')\n",
    "# np.save(\"Dataset_Files/Baseline_Models/Regression/optimised_rfr_cv_results.npy\", model.cv_results_)"
   ],
   "metadata": {
    "collapsed": false,
    "pycharm": {
     "name": "#%%\n"
    }
   }
  },
  {
   "cell_type": "code",
   "execution_count": 44,
   "outputs": [],
   "source": [
    "# Load Model\n",
    "optimised_rfr = load('Dataset_Files/Baseline_Models/Regression/optimised_rfr.joblib')"
   ],
   "metadata": {
    "collapsed": false,
    "pycharm": {
     "name": "#%%\n"
    }
   }
  },
  {
   "cell_type": "code",
   "execution_count": 45,
   "outputs": [
    {
     "name": "stdout",
     "output_type": "stream",
     "text": [
      "Metrics after 1000 bootstrapped samples of size 1000\n",
      "--------------------------------------------------------\n",
      "Median Negated-MAE: -0.33 with a 95% confidence interval of [-0.36,-0.30]\n",
      "Median R2: 0.95 with a 95% confidence interval of [0.94,0.96]\n"
     ]
    }
   ],
   "source": [
    "get_confidence_intervals(optimised_rfr, X_train, y_train, 1000, \"Regression\")"
   ],
   "metadata": {
    "collapsed": false,
    "pycharm": {
     "name": "#%%\n"
    }
   }
  },
  {
   "cell_type": "code",
   "execution_count": 46,
   "outputs": [
    {
     "data": {
      "text/plain": "{'memory': None,\n 'steps': [('scale', StandardScaler()),\n  ('model', RandomForestRegressor(max_features=None, random_state=42))],\n 'verbose': False,\n 'scale': StandardScaler(),\n 'model': RandomForestRegressor(max_features=None, random_state=42),\n 'scale__copy': True,\n 'scale__with_mean': True,\n 'scale__with_std': True,\n 'model__bootstrap': True,\n 'model__ccp_alpha': 0.0,\n 'model__criterion': 'squared_error',\n 'model__max_depth': None,\n 'model__max_features': None,\n 'model__max_leaf_nodes': None,\n 'model__max_samples': None,\n 'model__min_impurity_decrease': 0.0,\n 'model__min_samples_leaf': 1,\n 'model__min_samples_split': 2,\n 'model__min_weight_fraction_leaf': 0.0,\n 'model__n_estimators': 100,\n 'model__n_jobs': None,\n 'model__oob_score': False,\n 'model__random_state': 42,\n 'model__verbose': 0,\n 'model__warm_start': False}"
     },
     "execution_count": 46,
     "metadata": {},
     "output_type": "execute_result"
    }
   ],
   "source": [
    "optimised_rfr.get_params()"
   ],
   "metadata": {
    "collapsed": false,
    "pycharm": {
     "name": "#%%\n"
    }
   }
  },
  {
   "cell_type": "code",
   "execution_count": 47,
   "outputs": [
    {
     "data": {
      "text/plain": "    mean_fit_time  std_fit_time  mean_score_time  std_score_time  \\\n49     181.662234      2.022586         0.034746        0.000421   \n48     181.358270      1.502864         0.034704        0.000302   \n31     239.278484      2.370420         0.054824        0.021809   \n33     239.610449      2.411718         0.042771        0.005187   \n35     238.164795      1.830128         0.044101        0.009625   \n16     215.209830      1.502497         0.039862        0.002446   \n13     213.660321      1.639433         0.051973        0.029282   \n40     239.577166      3.449644         0.039574        0.000406   \n41     239.814864      2.140951         0.041372        0.002512   \n39     238.539791      2.813930         0.044449        0.006467   \n43     241.541951      2.590068         0.058285        0.024777   \n47     182.312079      2.592150         0.034672        0.000551   \n46     181.346706      2.379992         0.035477        0.000495   \n10     186.701680      1.397527         0.040740        0.013905   \n20     205.944720      3.625738         0.035482        0.001427   \n30     200.996780      1.288820         0.046671        0.023644   \n29     180.903993      1.211369         0.041159        0.015187   \n3      117.223205      0.638203         0.023839        0.000242   \n38     126.579021      1.719495         0.025776        0.001732   \n18      90.209597      0.524984         0.018540        0.000765   \n28      66.921771      1.290266         0.032942        0.034549   \n25       9.349545      0.277661         0.057397        0.013379   \n8        6.109077      0.204781         0.033541        0.000550   \n45       5.082916      0.128166         0.029054        0.000683   \n15   52086.318520   1122.440642         0.087317        0.030963   \n44   42862.904300    692.023154         0.051276        0.000459   \n4        4.050437      0.106737         0.022690        0.000228   \n36       3.985536      0.200942         0.023324        0.002536   \n12   38074.103226    705.026576         0.058772        0.013862   \n0     1663.890624     12.125308         0.058268        0.000186   \n34    1797.607239     21.412956         0.057582        0.003170   \n24       2.593704      0.103221         0.015114        0.000204   \n23    1216.585932     29.012907         0.064117        0.035588   \n21   23387.556157    636.946961         0.038619        0.014066   \n26     744.769679      8.524625         0.026267        0.000532   \n17       3.243153      0.138784         0.043722        0.002204   \n32       2.843546      0.080971         0.037037        0.000390   \n19     744.259035     17.039082         0.073818        0.010508   \n9      496.492912      3.289334         0.047383        0.000393   \n37   17705.388162    424.994884         0.023910        0.000616   \n7        1.554097      0.030643         0.023579        0.000604   \n11      21.385290      1.132751         0.008588        0.000288   \n6        1.202171      0.032682         0.018691        0.000281   \n22     358.890431      6.665494         0.036699        0.001837   \n1        1.072682      0.021390         0.016544        0.000107   \n5        0.778955      0.037305         0.013713        0.002159   \n2      119.349457      3.790190         0.015626        0.000330   \n27       1.019611      0.047682         0.008445        0.000131   \n14    5886.533763    176.593714         0.014802        0.005493   \n42       0.532851      0.011782         0.010643        0.002394   \n\n   param_model__criterion param_model__max_features param_model__n_estimators  \\\n49          squared_error                      None                       100   \n48          squared_error                      None                       100   \n31          squared_error                      None                       100   \n33          squared_error                      None                       100   \n35          squared_error                      None                       100   \n16          squared_error                      None                       100   \n13          squared_error                      None                       100   \n40          squared_error                      None                       100   \n41          squared_error                      None                       100   \n39          squared_error                      None                       100   \n43          squared_error                      None                       100   \n47          squared_error                      None                       100   \n46          squared_error                      None                       100   \n10          squared_error                      None                        89   \n20          squared_error                      None                        95   \n30          squared_error                      None                        84   \n29          squared_error                      None                        76   \n3           squared_error                      None                        64   \n38          squared_error                      None                        53   \n18          squared_error                      None                        41   \n28          squared_error                      None                        28   \n25          squared_error                      sqrt                       100   \n8           squared_error                      sqrt                        88   \n45          squared_error                      sqrt                        73   \n15         absolute_error                      None                       100   \n44         absolute_error                      None                        89   \n4           squared_error                      sqrt                        57   \n36          squared_error                      sqrt                        42   \n12         absolute_error                      None                        75   \n0          absolute_error                      sqrt                        94   \n34         absolute_error                      sqrt                        77   \n24          squared_error                      sqrt                        27   \n23         absolute_error                      sqrt                        59   \n21         absolute_error                      None                        46   \n26         absolute_error                      sqrt                        32   \n17          squared_error                      log2                       100   \n32          squared_error                      log2                        81   \n19         absolute_error                      log2                       100   \n9          absolute_error                      log2                        77   \n37         absolute_error                      None                        30   \n7           squared_error                      log2                        55   \n11          squared_error                      None                        10   \n6           squared_error                      log2                        42   \n22         absolute_error                      log2                        48   \n1           squared_error                      log2                        37   \n5           squared_error                      log2                        25   \n2          absolute_error                      log2                        19   \n27          squared_error                      sqrt                        10   \n14         absolute_error                      None                        10   \n42          squared_error                      log2                        10   \n\n                                               params  split0_test_score  \\\n49  {'model__criterion': 'squared_error', 'model__...           0.663731   \n48  {'model__criterion': 'squared_error', 'model__...           0.663731   \n31  {'model__criterion': 'squared_error', 'model__...           0.663731   \n33  {'model__criterion': 'squared_error', 'model__...           0.663731   \n35  {'model__criterion': 'squared_error', 'model__...           0.663731   \n16  {'model__criterion': 'squared_error', 'model__...           0.663731   \n13  {'model__criterion': 'squared_error', 'model__...           0.663731   \n40  {'model__criterion': 'squared_error', 'model__...           0.663731   \n41  {'model__criterion': 'squared_error', 'model__...           0.663731   \n39  {'model__criterion': 'squared_error', 'model__...           0.663731   \n43  {'model__criterion': 'squared_error', 'model__...           0.663731   \n47  {'model__criterion': 'squared_error', 'model__...           0.663731   \n46  {'model__criterion': 'squared_error', 'model__...           0.663731   \n10  {'model__criterion': 'squared_error', 'model__...           0.664120   \n20  {'model__criterion': 'squared_error', 'model__...           0.663926   \n30  {'model__criterion': 'squared_error', 'model__...           0.664346   \n29  {'model__criterion': 'squared_error', 'model__...           0.663835   \n3   {'model__criterion': 'squared_error', 'model__...           0.664439   \n38  {'model__criterion': 'squared_error', 'model__...           0.662145   \n18  {'model__criterion': 'squared_error', 'model__...           0.662697   \n28  {'model__criterion': 'squared_error', 'model__...           0.665208   \n25  {'model__criterion': 'squared_error', 'model__...           0.649355   \n8   {'model__criterion': 'squared_error', 'model__...           0.648659   \n45  {'model__criterion': 'squared_error', 'model__...           0.646983   \n15  {'model__criterion': 'absolute_error', 'model_...           0.646625   \n44  {'model__criterion': 'absolute_error', 'model_...           0.645630   \n4   {'model__criterion': 'squared_error', 'model__...           0.644615   \n36  {'model__criterion': 'squared_error', 'model__...           0.645030   \n12  {'model__criterion': 'absolute_error', 'model_...           0.643191   \n0   {'model__criterion': 'absolute_error', 'model_...           0.636855   \n34  {'model__criterion': 'absolute_error', 'model_...           0.635322   \n24  {'model__criterion': 'squared_error', 'model__...           0.645749   \n23  {'model__criterion': 'absolute_error', 'model_...           0.634001   \n21  {'model__criterion': 'absolute_error', 'model_...           0.643223   \n26  {'model__criterion': 'absolute_error', 'model_...           0.626338   \n17  {'model__criterion': 'squared_error', 'model__...           0.637088   \n32  {'model__criterion': 'squared_error', 'model__...           0.633664   \n19  {'model__criterion': 'absolute_error', 'model_...           0.633645   \n9   {'model__criterion': 'absolute_error', 'model_...           0.632357   \n37  {'model__criterion': 'absolute_error', 'model_...           0.641350   \n7   {'model__criterion': 'squared_error', 'model__...           0.633256   \n11  {'model__criterion': 'squared_error', 'model__...           0.642613   \n6   {'model__criterion': 'squared_error', 'model__...           0.631407   \n22  {'model__criterion': 'absolute_error', 'model_...           0.627394   \n1   {'model__criterion': 'squared_error', 'model__...           0.631551   \n5   {'model__criterion': 'squared_error', 'model__...           0.625461   \n2   {'model__criterion': 'absolute_error', 'model_...           0.614387   \n27  {'model__criterion': 'squared_error', 'model__...           0.626541   \n14  {'model__criterion': 'absolute_error', 'model_...           0.610793   \n42  {'model__criterion': 'squared_error', 'model__...           0.599201   \n\n    split1_test_score  split2_test_score  split3_test_score  \\\n49           0.641327           0.643616           0.641310   \n48           0.641327           0.643616           0.641310   \n31           0.641327           0.643616           0.641310   \n33           0.641327           0.643616           0.641310   \n35           0.641327           0.643616           0.641310   \n16           0.641327           0.643616           0.641310   \n13           0.641327           0.643616           0.641310   \n40           0.641327           0.643616           0.641310   \n41           0.641327           0.643616           0.641310   \n39           0.641327           0.643616           0.641310   \n43           0.641327           0.643616           0.641310   \n47           0.641327           0.643616           0.641310   \n46           0.641327           0.643616           0.641310   \n10           0.642187           0.643316           0.640804   \n20           0.641498           0.643792           0.640963   \n30           0.642103           0.643350           0.640982   \n29           0.641791           0.643006           0.639316   \n3            0.640367           0.638303           0.638739   \n38           0.639609           0.637421           0.636570   \n18           0.639156           0.635733           0.634782   \n28           0.636759           0.630621           0.628849   \n25           0.628526           0.633205           0.616386   \n8            0.628215           0.633190           0.617171   \n45           0.625579           0.631477           0.618721   \n15           0.618374           0.634117           0.617177   \n44           0.618512           0.633397           0.617669   \n4            0.624851           0.626465           0.616255   \n36           0.626516           0.625666           0.612951   \n12           0.617288           0.632396           0.615443   \n0            0.614567           0.641641           0.618556   \n34           0.612692           0.639832           0.619392   \n24           0.626608           0.616805           0.613111   \n23           0.612902           0.640950           0.616110   \n21           0.611941           0.631343           0.607105   \n26           0.610793           0.636145           0.612949   \n17           0.611278           0.630276           0.600979   \n32           0.611450           0.629573           0.600376   \n19           0.607131           0.635362           0.603266   \n9            0.606887           0.633025           0.603480   \n37           0.608593           0.618568           0.602598   \n7            0.609136           0.627795           0.595844   \n11           0.617431           0.605108           0.603986   \n6            0.608388           0.626934           0.592567   \n22           0.605552           0.628819           0.598401   \n1            0.605571           0.625224           0.589124   \n5            0.599866           0.624585           0.580829   \n2            0.595691           0.623092           0.590619   \n27           0.605047           0.587503           0.577742   \n14           0.572082           0.584013           0.579710   \n42           0.571612           0.603099           0.567740   \n\n    split4_test_score  mean_test_score  std_test_score  rank_test_score  \n49           0.625677         0.643132        0.012131                1  \n48           0.625677         0.643132        0.012131                1  \n31           0.625677         0.643132        0.012131                1  \n33           0.625677         0.643132        0.012131                1  \n35           0.625677         0.643132        0.012131                1  \n16           0.625677         0.643132        0.012131                1  \n13           0.625677         0.643132        0.012131                1  \n40           0.625677         0.643132        0.012131                1  \n41           0.625677         0.643132        0.012131                1  \n39           0.625677         0.643132        0.012131                1  \n43           0.625677         0.643132        0.012131                1  \n47           0.625677         0.643132        0.012131                1  \n46           0.625677         0.643132        0.012131                1  \n10           0.624733         0.643032        0.012532               14  \n20           0.624291         0.642894        0.012609               15  \n30           0.623412         0.642839        0.012994               16  \n29           0.622846         0.642159        0.013052               17  \n3            0.619806         0.640331        0.014206               18  \n38           0.615843         0.638318        0.014686               19  \n18           0.613295         0.637132        0.015706               20  \n28           0.609484         0.634184        0.018002               21  \n25           0.607499         0.626994        0.014377               22  \n8            0.607669         0.626981        0.013994               23  \n45           0.607256         0.626003        0.013227               24  \n15           0.603023         0.623863        0.015049               25  \n44           0.604061         0.623854        0.014310               26  \n4            0.605217         0.623481        0.012986               27  \n36           0.603187         0.622670        0.014127               28  \n12           0.602350         0.622134        0.014201               29  \n0            0.594566         0.621237        0.016872               30  \n34           0.593991         0.620246        0.016481               31  \n24           0.596277         0.619710        0.016289               32  \n23           0.593482         0.619489        0.016747               33  \n21           0.598621         0.618446        0.016396               34  \n26           0.585610         0.614367        0.017084               35  \n17           0.591809         0.614286        0.017128               36  \n32           0.592287         0.613470        0.016071               37  \n19           0.586315         0.613144        0.018801               38  \n9            0.586395         0.612429        0.017944               39  \n37           0.590918         0.612405        0.017019               40  \n7            0.591349         0.611476        0.016707               41  \n11           0.584557         0.610739        0.019097               42  \n6            0.590418         0.609943        0.016941               43  \n22           0.582235         0.608481        0.017722               44  \n1            0.588685         0.608031        0.017814               45  \n5            0.584996         0.603148        0.018952               46  \n2            0.574020         0.599562        0.017440               47  \n27           0.555685         0.590504        0.024060               48  \n14           0.568096         0.582939        0.015004               49  \n42           0.563774         0.581085        0.016615               50  ",
      "text/html": "<div>\n<style scoped>\n    .dataframe tbody tr th:only-of-type {\n        vertical-align: middle;\n    }\n\n    .dataframe tbody tr th {\n        vertical-align: top;\n    }\n\n    .dataframe thead th {\n        text-align: right;\n    }\n</style>\n<table border=\"1\" class=\"dataframe\">\n  <thead>\n    <tr style=\"text-align: right;\">\n      <th></th>\n      <th>mean_fit_time</th>\n      <th>std_fit_time</th>\n      <th>mean_score_time</th>\n      <th>std_score_time</th>\n      <th>param_model__criterion</th>\n      <th>param_model__max_features</th>\n      <th>param_model__n_estimators</th>\n      <th>params</th>\n      <th>split0_test_score</th>\n      <th>split1_test_score</th>\n      <th>split2_test_score</th>\n      <th>split3_test_score</th>\n      <th>split4_test_score</th>\n      <th>mean_test_score</th>\n      <th>std_test_score</th>\n      <th>rank_test_score</th>\n    </tr>\n  </thead>\n  <tbody>\n    <tr>\n      <th>49</th>\n      <td>181.662234</td>\n      <td>2.022586</td>\n      <td>0.034746</td>\n      <td>0.000421</td>\n      <td>squared_error</td>\n      <td>None</td>\n      <td>100</td>\n      <td>{'model__criterion': 'squared_error', 'model__...</td>\n      <td>0.663731</td>\n      <td>0.641327</td>\n      <td>0.643616</td>\n      <td>0.641310</td>\n      <td>0.625677</td>\n      <td>0.643132</td>\n      <td>0.012131</td>\n      <td>1</td>\n    </tr>\n    <tr>\n      <th>48</th>\n      <td>181.358270</td>\n      <td>1.502864</td>\n      <td>0.034704</td>\n      <td>0.000302</td>\n      <td>squared_error</td>\n      <td>None</td>\n      <td>100</td>\n      <td>{'model__criterion': 'squared_error', 'model__...</td>\n      <td>0.663731</td>\n      <td>0.641327</td>\n      <td>0.643616</td>\n      <td>0.641310</td>\n      <td>0.625677</td>\n      <td>0.643132</td>\n      <td>0.012131</td>\n      <td>1</td>\n    </tr>\n    <tr>\n      <th>31</th>\n      <td>239.278484</td>\n      <td>2.370420</td>\n      <td>0.054824</td>\n      <td>0.021809</td>\n      <td>squared_error</td>\n      <td>None</td>\n      <td>100</td>\n      <td>{'model__criterion': 'squared_error', 'model__...</td>\n      <td>0.663731</td>\n      <td>0.641327</td>\n      <td>0.643616</td>\n      <td>0.641310</td>\n      <td>0.625677</td>\n      <td>0.643132</td>\n      <td>0.012131</td>\n      <td>1</td>\n    </tr>\n    <tr>\n      <th>33</th>\n      <td>239.610449</td>\n      <td>2.411718</td>\n      <td>0.042771</td>\n      <td>0.005187</td>\n      <td>squared_error</td>\n      <td>None</td>\n      <td>100</td>\n      <td>{'model__criterion': 'squared_error', 'model__...</td>\n      <td>0.663731</td>\n      <td>0.641327</td>\n      <td>0.643616</td>\n      <td>0.641310</td>\n      <td>0.625677</td>\n      <td>0.643132</td>\n      <td>0.012131</td>\n      <td>1</td>\n    </tr>\n    <tr>\n      <th>35</th>\n      <td>238.164795</td>\n      <td>1.830128</td>\n      <td>0.044101</td>\n      <td>0.009625</td>\n      <td>squared_error</td>\n      <td>None</td>\n      <td>100</td>\n      <td>{'model__criterion': 'squared_error', 'model__...</td>\n      <td>0.663731</td>\n      <td>0.641327</td>\n      <td>0.643616</td>\n      <td>0.641310</td>\n      <td>0.625677</td>\n      <td>0.643132</td>\n      <td>0.012131</td>\n      <td>1</td>\n    </tr>\n    <tr>\n      <th>16</th>\n      <td>215.209830</td>\n      <td>1.502497</td>\n      <td>0.039862</td>\n      <td>0.002446</td>\n      <td>squared_error</td>\n      <td>None</td>\n      <td>100</td>\n      <td>{'model__criterion': 'squared_error', 'model__...</td>\n      <td>0.663731</td>\n      <td>0.641327</td>\n      <td>0.643616</td>\n      <td>0.641310</td>\n      <td>0.625677</td>\n      <td>0.643132</td>\n      <td>0.012131</td>\n      <td>1</td>\n    </tr>\n    <tr>\n      <th>13</th>\n      <td>213.660321</td>\n      <td>1.639433</td>\n      <td>0.051973</td>\n      <td>0.029282</td>\n      <td>squared_error</td>\n      <td>None</td>\n      <td>100</td>\n      <td>{'model__criterion': 'squared_error', 'model__...</td>\n      <td>0.663731</td>\n      <td>0.641327</td>\n      <td>0.643616</td>\n      <td>0.641310</td>\n      <td>0.625677</td>\n      <td>0.643132</td>\n      <td>0.012131</td>\n      <td>1</td>\n    </tr>\n    <tr>\n      <th>40</th>\n      <td>239.577166</td>\n      <td>3.449644</td>\n      <td>0.039574</td>\n      <td>0.000406</td>\n      <td>squared_error</td>\n      <td>None</td>\n      <td>100</td>\n      <td>{'model__criterion': 'squared_error', 'model__...</td>\n      <td>0.663731</td>\n      <td>0.641327</td>\n      <td>0.643616</td>\n      <td>0.641310</td>\n      <td>0.625677</td>\n      <td>0.643132</td>\n      <td>0.012131</td>\n      <td>1</td>\n    </tr>\n    <tr>\n      <th>41</th>\n      <td>239.814864</td>\n      <td>2.140951</td>\n      <td>0.041372</td>\n      <td>0.002512</td>\n      <td>squared_error</td>\n      <td>None</td>\n      <td>100</td>\n      <td>{'model__criterion': 'squared_error', 'model__...</td>\n      <td>0.663731</td>\n      <td>0.641327</td>\n      <td>0.643616</td>\n      <td>0.641310</td>\n      <td>0.625677</td>\n      <td>0.643132</td>\n      <td>0.012131</td>\n      <td>1</td>\n    </tr>\n    <tr>\n      <th>39</th>\n      <td>238.539791</td>\n      <td>2.813930</td>\n      <td>0.044449</td>\n      <td>0.006467</td>\n      <td>squared_error</td>\n      <td>None</td>\n      <td>100</td>\n      <td>{'model__criterion': 'squared_error', 'model__...</td>\n      <td>0.663731</td>\n      <td>0.641327</td>\n      <td>0.643616</td>\n      <td>0.641310</td>\n      <td>0.625677</td>\n      <td>0.643132</td>\n      <td>0.012131</td>\n      <td>1</td>\n    </tr>\n    <tr>\n      <th>43</th>\n      <td>241.541951</td>\n      <td>2.590068</td>\n      <td>0.058285</td>\n      <td>0.024777</td>\n      <td>squared_error</td>\n      <td>None</td>\n      <td>100</td>\n      <td>{'model__criterion': 'squared_error', 'model__...</td>\n      <td>0.663731</td>\n      <td>0.641327</td>\n      <td>0.643616</td>\n      <td>0.641310</td>\n      <td>0.625677</td>\n      <td>0.643132</td>\n      <td>0.012131</td>\n      <td>1</td>\n    </tr>\n    <tr>\n      <th>47</th>\n      <td>182.312079</td>\n      <td>2.592150</td>\n      <td>0.034672</td>\n      <td>0.000551</td>\n      <td>squared_error</td>\n      <td>None</td>\n      <td>100</td>\n      <td>{'model__criterion': 'squared_error', 'model__...</td>\n      <td>0.663731</td>\n      <td>0.641327</td>\n      <td>0.643616</td>\n      <td>0.641310</td>\n      <td>0.625677</td>\n      <td>0.643132</td>\n      <td>0.012131</td>\n      <td>1</td>\n    </tr>\n    <tr>\n      <th>46</th>\n      <td>181.346706</td>\n      <td>2.379992</td>\n      <td>0.035477</td>\n      <td>0.000495</td>\n      <td>squared_error</td>\n      <td>None</td>\n      <td>100</td>\n      <td>{'model__criterion': 'squared_error', 'model__...</td>\n      <td>0.663731</td>\n      <td>0.641327</td>\n      <td>0.643616</td>\n      <td>0.641310</td>\n      <td>0.625677</td>\n      <td>0.643132</td>\n      <td>0.012131</td>\n      <td>1</td>\n    </tr>\n    <tr>\n      <th>10</th>\n      <td>186.701680</td>\n      <td>1.397527</td>\n      <td>0.040740</td>\n      <td>0.013905</td>\n      <td>squared_error</td>\n      <td>None</td>\n      <td>89</td>\n      <td>{'model__criterion': 'squared_error', 'model__...</td>\n      <td>0.664120</td>\n      <td>0.642187</td>\n      <td>0.643316</td>\n      <td>0.640804</td>\n      <td>0.624733</td>\n      <td>0.643032</td>\n      <td>0.012532</td>\n      <td>14</td>\n    </tr>\n    <tr>\n      <th>20</th>\n      <td>205.944720</td>\n      <td>3.625738</td>\n      <td>0.035482</td>\n      <td>0.001427</td>\n      <td>squared_error</td>\n      <td>None</td>\n      <td>95</td>\n      <td>{'model__criterion': 'squared_error', 'model__...</td>\n      <td>0.663926</td>\n      <td>0.641498</td>\n      <td>0.643792</td>\n      <td>0.640963</td>\n      <td>0.624291</td>\n      <td>0.642894</td>\n      <td>0.012609</td>\n      <td>15</td>\n    </tr>\n    <tr>\n      <th>30</th>\n      <td>200.996780</td>\n      <td>1.288820</td>\n      <td>0.046671</td>\n      <td>0.023644</td>\n      <td>squared_error</td>\n      <td>None</td>\n      <td>84</td>\n      <td>{'model__criterion': 'squared_error', 'model__...</td>\n      <td>0.664346</td>\n      <td>0.642103</td>\n      <td>0.643350</td>\n      <td>0.640982</td>\n      <td>0.623412</td>\n      <td>0.642839</td>\n      <td>0.012994</td>\n      <td>16</td>\n    </tr>\n    <tr>\n      <th>29</th>\n      <td>180.903993</td>\n      <td>1.211369</td>\n      <td>0.041159</td>\n      <td>0.015187</td>\n      <td>squared_error</td>\n      <td>None</td>\n      <td>76</td>\n      <td>{'model__criterion': 'squared_error', 'model__...</td>\n      <td>0.663835</td>\n      <td>0.641791</td>\n      <td>0.643006</td>\n      <td>0.639316</td>\n      <td>0.622846</td>\n      <td>0.642159</td>\n      <td>0.013052</td>\n      <td>17</td>\n    </tr>\n    <tr>\n      <th>3</th>\n      <td>117.223205</td>\n      <td>0.638203</td>\n      <td>0.023839</td>\n      <td>0.000242</td>\n      <td>squared_error</td>\n      <td>None</td>\n      <td>64</td>\n      <td>{'model__criterion': 'squared_error', 'model__...</td>\n      <td>0.664439</td>\n      <td>0.640367</td>\n      <td>0.638303</td>\n      <td>0.638739</td>\n      <td>0.619806</td>\n      <td>0.640331</td>\n      <td>0.014206</td>\n      <td>18</td>\n    </tr>\n    <tr>\n      <th>38</th>\n      <td>126.579021</td>\n      <td>1.719495</td>\n      <td>0.025776</td>\n      <td>0.001732</td>\n      <td>squared_error</td>\n      <td>None</td>\n      <td>53</td>\n      <td>{'model__criterion': 'squared_error', 'model__...</td>\n      <td>0.662145</td>\n      <td>0.639609</td>\n      <td>0.637421</td>\n      <td>0.636570</td>\n      <td>0.615843</td>\n      <td>0.638318</td>\n      <td>0.014686</td>\n      <td>19</td>\n    </tr>\n    <tr>\n      <th>18</th>\n      <td>90.209597</td>\n      <td>0.524984</td>\n      <td>0.018540</td>\n      <td>0.000765</td>\n      <td>squared_error</td>\n      <td>None</td>\n      <td>41</td>\n      <td>{'model__criterion': 'squared_error', 'model__...</td>\n      <td>0.662697</td>\n      <td>0.639156</td>\n      <td>0.635733</td>\n      <td>0.634782</td>\n      <td>0.613295</td>\n      <td>0.637132</td>\n      <td>0.015706</td>\n      <td>20</td>\n    </tr>\n    <tr>\n      <th>28</th>\n      <td>66.921771</td>\n      <td>1.290266</td>\n      <td>0.032942</td>\n      <td>0.034549</td>\n      <td>squared_error</td>\n      <td>None</td>\n      <td>28</td>\n      <td>{'model__criterion': 'squared_error', 'model__...</td>\n      <td>0.665208</td>\n      <td>0.636759</td>\n      <td>0.630621</td>\n      <td>0.628849</td>\n      <td>0.609484</td>\n      <td>0.634184</td>\n      <td>0.018002</td>\n      <td>21</td>\n    </tr>\n    <tr>\n      <th>25</th>\n      <td>9.349545</td>\n      <td>0.277661</td>\n      <td>0.057397</td>\n      <td>0.013379</td>\n      <td>squared_error</td>\n      <td>sqrt</td>\n      <td>100</td>\n      <td>{'model__criterion': 'squared_error', 'model__...</td>\n      <td>0.649355</td>\n      <td>0.628526</td>\n      <td>0.633205</td>\n      <td>0.616386</td>\n      <td>0.607499</td>\n      <td>0.626994</td>\n      <td>0.014377</td>\n      <td>22</td>\n    </tr>\n    <tr>\n      <th>8</th>\n      <td>6.109077</td>\n      <td>0.204781</td>\n      <td>0.033541</td>\n      <td>0.000550</td>\n      <td>squared_error</td>\n      <td>sqrt</td>\n      <td>88</td>\n      <td>{'model__criterion': 'squared_error', 'model__...</td>\n      <td>0.648659</td>\n      <td>0.628215</td>\n      <td>0.633190</td>\n      <td>0.617171</td>\n      <td>0.607669</td>\n      <td>0.626981</td>\n      <td>0.013994</td>\n      <td>23</td>\n    </tr>\n    <tr>\n      <th>45</th>\n      <td>5.082916</td>\n      <td>0.128166</td>\n      <td>0.029054</td>\n      <td>0.000683</td>\n      <td>squared_error</td>\n      <td>sqrt</td>\n      <td>73</td>\n      <td>{'model__criterion': 'squared_error', 'model__...</td>\n      <td>0.646983</td>\n      <td>0.625579</td>\n      <td>0.631477</td>\n      <td>0.618721</td>\n      <td>0.607256</td>\n      <td>0.626003</td>\n      <td>0.013227</td>\n      <td>24</td>\n    </tr>\n    <tr>\n      <th>15</th>\n      <td>52086.318520</td>\n      <td>1122.440642</td>\n      <td>0.087317</td>\n      <td>0.030963</td>\n      <td>absolute_error</td>\n      <td>None</td>\n      <td>100</td>\n      <td>{'model__criterion': 'absolute_error', 'model_...</td>\n      <td>0.646625</td>\n      <td>0.618374</td>\n      <td>0.634117</td>\n      <td>0.617177</td>\n      <td>0.603023</td>\n      <td>0.623863</td>\n      <td>0.015049</td>\n      <td>25</td>\n    </tr>\n    <tr>\n      <th>44</th>\n      <td>42862.904300</td>\n      <td>692.023154</td>\n      <td>0.051276</td>\n      <td>0.000459</td>\n      <td>absolute_error</td>\n      <td>None</td>\n      <td>89</td>\n      <td>{'model__criterion': 'absolute_error', 'model_...</td>\n      <td>0.645630</td>\n      <td>0.618512</td>\n      <td>0.633397</td>\n      <td>0.617669</td>\n      <td>0.604061</td>\n      <td>0.623854</td>\n      <td>0.014310</td>\n      <td>26</td>\n    </tr>\n    <tr>\n      <th>4</th>\n      <td>4.050437</td>\n      <td>0.106737</td>\n      <td>0.022690</td>\n      <td>0.000228</td>\n      <td>squared_error</td>\n      <td>sqrt</td>\n      <td>57</td>\n      <td>{'model__criterion': 'squared_error', 'model__...</td>\n      <td>0.644615</td>\n      <td>0.624851</td>\n      <td>0.626465</td>\n      <td>0.616255</td>\n      <td>0.605217</td>\n      <td>0.623481</td>\n      <td>0.012986</td>\n      <td>27</td>\n    </tr>\n    <tr>\n      <th>36</th>\n      <td>3.985536</td>\n      <td>0.200942</td>\n      <td>0.023324</td>\n      <td>0.002536</td>\n      <td>squared_error</td>\n      <td>sqrt</td>\n      <td>42</td>\n      <td>{'model__criterion': 'squared_error', 'model__...</td>\n      <td>0.645030</td>\n      <td>0.626516</td>\n      <td>0.625666</td>\n      <td>0.612951</td>\n      <td>0.603187</td>\n      <td>0.622670</td>\n      <td>0.014127</td>\n      <td>28</td>\n    </tr>\n    <tr>\n      <th>12</th>\n      <td>38074.103226</td>\n      <td>705.026576</td>\n      <td>0.058772</td>\n      <td>0.013862</td>\n      <td>absolute_error</td>\n      <td>None</td>\n      <td>75</td>\n      <td>{'model__criterion': 'absolute_error', 'model_...</td>\n      <td>0.643191</td>\n      <td>0.617288</td>\n      <td>0.632396</td>\n      <td>0.615443</td>\n      <td>0.602350</td>\n      <td>0.622134</td>\n      <td>0.014201</td>\n      <td>29</td>\n    </tr>\n    <tr>\n      <th>0</th>\n      <td>1663.890624</td>\n      <td>12.125308</td>\n      <td>0.058268</td>\n      <td>0.000186</td>\n      <td>absolute_error</td>\n      <td>sqrt</td>\n      <td>94</td>\n      <td>{'model__criterion': 'absolute_error', 'model_...</td>\n      <td>0.636855</td>\n      <td>0.614567</td>\n      <td>0.641641</td>\n      <td>0.618556</td>\n      <td>0.594566</td>\n      <td>0.621237</td>\n      <td>0.016872</td>\n      <td>30</td>\n    </tr>\n    <tr>\n      <th>34</th>\n      <td>1797.607239</td>\n      <td>21.412956</td>\n      <td>0.057582</td>\n      <td>0.003170</td>\n      <td>absolute_error</td>\n      <td>sqrt</td>\n      <td>77</td>\n      <td>{'model__criterion': 'absolute_error', 'model_...</td>\n      <td>0.635322</td>\n      <td>0.612692</td>\n      <td>0.639832</td>\n      <td>0.619392</td>\n      <td>0.593991</td>\n      <td>0.620246</td>\n      <td>0.016481</td>\n      <td>31</td>\n    </tr>\n    <tr>\n      <th>24</th>\n      <td>2.593704</td>\n      <td>0.103221</td>\n      <td>0.015114</td>\n      <td>0.000204</td>\n      <td>squared_error</td>\n      <td>sqrt</td>\n      <td>27</td>\n      <td>{'model__criterion': 'squared_error', 'model__...</td>\n      <td>0.645749</td>\n      <td>0.626608</td>\n      <td>0.616805</td>\n      <td>0.613111</td>\n      <td>0.596277</td>\n      <td>0.619710</td>\n      <td>0.016289</td>\n      <td>32</td>\n    </tr>\n    <tr>\n      <th>23</th>\n      <td>1216.585932</td>\n      <td>29.012907</td>\n      <td>0.064117</td>\n      <td>0.035588</td>\n      <td>absolute_error</td>\n      <td>sqrt</td>\n      <td>59</td>\n      <td>{'model__criterion': 'absolute_error', 'model_...</td>\n      <td>0.634001</td>\n      <td>0.612902</td>\n      <td>0.640950</td>\n      <td>0.616110</td>\n      <td>0.593482</td>\n      <td>0.619489</td>\n      <td>0.016747</td>\n      <td>33</td>\n    </tr>\n    <tr>\n      <th>21</th>\n      <td>23387.556157</td>\n      <td>636.946961</td>\n      <td>0.038619</td>\n      <td>0.014066</td>\n      <td>absolute_error</td>\n      <td>None</td>\n      <td>46</td>\n      <td>{'model__criterion': 'absolute_error', 'model_...</td>\n      <td>0.643223</td>\n      <td>0.611941</td>\n      <td>0.631343</td>\n      <td>0.607105</td>\n      <td>0.598621</td>\n      <td>0.618446</td>\n      <td>0.016396</td>\n      <td>34</td>\n    </tr>\n    <tr>\n      <th>26</th>\n      <td>744.769679</td>\n      <td>8.524625</td>\n      <td>0.026267</td>\n      <td>0.000532</td>\n      <td>absolute_error</td>\n      <td>sqrt</td>\n      <td>32</td>\n      <td>{'model__criterion': 'absolute_error', 'model_...</td>\n      <td>0.626338</td>\n      <td>0.610793</td>\n      <td>0.636145</td>\n      <td>0.612949</td>\n      <td>0.585610</td>\n      <td>0.614367</td>\n      <td>0.017084</td>\n      <td>35</td>\n    </tr>\n    <tr>\n      <th>17</th>\n      <td>3.243153</td>\n      <td>0.138784</td>\n      <td>0.043722</td>\n      <td>0.002204</td>\n      <td>squared_error</td>\n      <td>log2</td>\n      <td>100</td>\n      <td>{'model__criterion': 'squared_error', 'model__...</td>\n      <td>0.637088</td>\n      <td>0.611278</td>\n      <td>0.630276</td>\n      <td>0.600979</td>\n      <td>0.591809</td>\n      <td>0.614286</td>\n      <td>0.017128</td>\n      <td>36</td>\n    </tr>\n    <tr>\n      <th>32</th>\n      <td>2.843546</td>\n      <td>0.080971</td>\n      <td>0.037037</td>\n      <td>0.000390</td>\n      <td>squared_error</td>\n      <td>log2</td>\n      <td>81</td>\n      <td>{'model__criterion': 'squared_error', 'model__...</td>\n      <td>0.633664</td>\n      <td>0.611450</td>\n      <td>0.629573</td>\n      <td>0.600376</td>\n      <td>0.592287</td>\n      <td>0.613470</td>\n      <td>0.016071</td>\n      <td>37</td>\n    </tr>\n    <tr>\n      <th>19</th>\n      <td>744.259035</td>\n      <td>17.039082</td>\n      <td>0.073818</td>\n      <td>0.010508</td>\n      <td>absolute_error</td>\n      <td>log2</td>\n      <td>100</td>\n      <td>{'model__criterion': 'absolute_error', 'model_...</td>\n      <td>0.633645</td>\n      <td>0.607131</td>\n      <td>0.635362</td>\n      <td>0.603266</td>\n      <td>0.586315</td>\n      <td>0.613144</td>\n      <td>0.018801</td>\n      <td>38</td>\n    </tr>\n    <tr>\n      <th>9</th>\n      <td>496.492912</td>\n      <td>3.289334</td>\n      <td>0.047383</td>\n      <td>0.000393</td>\n      <td>absolute_error</td>\n      <td>log2</td>\n      <td>77</td>\n      <td>{'model__criterion': 'absolute_error', 'model_...</td>\n      <td>0.632357</td>\n      <td>0.606887</td>\n      <td>0.633025</td>\n      <td>0.603480</td>\n      <td>0.586395</td>\n      <td>0.612429</td>\n      <td>0.017944</td>\n      <td>39</td>\n    </tr>\n    <tr>\n      <th>37</th>\n      <td>17705.388162</td>\n      <td>424.994884</td>\n      <td>0.023910</td>\n      <td>0.000616</td>\n      <td>absolute_error</td>\n      <td>None</td>\n      <td>30</td>\n      <td>{'model__criterion': 'absolute_error', 'model_...</td>\n      <td>0.641350</td>\n      <td>0.608593</td>\n      <td>0.618568</td>\n      <td>0.602598</td>\n      <td>0.590918</td>\n      <td>0.612405</td>\n      <td>0.017019</td>\n      <td>40</td>\n    </tr>\n    <tr>\n      <th>7</th>\n      <td>1.554097</td>\n      <td>0.030643</td>\n      <td>0.023579</td>\n      <td>0.000604</td>\n      <td>squared_error</td>\n      <td>log2</td>\n      <td>55</td>\n      <td>{'model__criterion': 'squared_error', 'model__...</td>\n      <td>0.633256</td>\n      <td>0.609136</td>\n      <td>0.627795</td>\n      <td>0.595844</td>\n      <td>0.591349</td>\n      <td>0.611476</td>\n      <td>0.016707</td>\n      <td>41</td>\n    </tr>\n    <tr>\n      <th>11</th>\n      <td>21.385290</td>\n      <td>1.132751</td>\n      <td>0.008588</td>\n      <td>0.000288</td>\n      <td>squared_error</td>\n      <td>None</td>\n      <td>10</td>\n      <td>{'model__criterion': 'squared_error', 'model__...</td>\n      <td>0.642613</td>\n      <td>0.617431</td>\n      <td>0.605108</td>\n      <td>0.603986</td>\n      <td>0.584557</td>\n      <td>0.610739</td>\n      <td>0.019097</td>\n      <td>42</td>\n    </tr>\n    <tr>\n      <th>6</th>\n      <td>1.202171</td>\n      <td>0.032682</td>\n      <td>0.018691</td>\n      <td>0.000281</td>\n      <td>squared_error</td>\n      <td>log2</td>\n      <td>42</td>\n      <td>{'model__criterion': 'squared_error', 'model__...</td>\n      <td>0.631407</td>\n      <td>0.608388</td>\n      <td>0.626934</td>\n      <td>0.592567</td>\n      <td>0.590418</td>\n      <td>0.609943</td>\n      <td>0.016941</td>\n      <td>43</td>\n    </tr>\n    <tr>\n      <th>22</th>\n      <td>358.890431</td>\n      <td>6.665494</td>\n      <td>0.036699</td>\n      <td>0.001837</td>\n      <td>absolute_error</td>\n      <td>log2</td>\n      <td>48</td>\n      <td>{'model__criterion': 'absolute_error', 'model_...</td>\n      <td>0.627394</td>\n      <td>0.605552</td>\n      <td>0.628819</td>\n      <td>0.598401</td>\n      <td>0.582235</td>\n      <td>0.608481</td>\n      <td>0.017722</td>\n      <td>44</td>\n    </tr>\n    <tr>\n      <th>1</th>\n      <td>1.072682</td>\n      <td>0.021390</td>\n      <td>0.016544</td>\n      <td>0.000107</td>\n      <td>squared_error</td>\n      <td>log2</td>\n      <td>37</td>\n      <td>{'model__criterion': 'squared_error', 'model__...</td>\n      <td>0.631551</td>\n      <td>0.605571</td>\n      <td>0.625224</td>\n      <td>0.589124</td>\n      <td>0.588685</td>\n      <td>0.608031</td>\n      <td>0.017814</td>\n      <td>45</td>\n    </tr>\n    <tr>\n      <th>5</th>\n      <td>0.778955</td>\n      <td>0.037305</td>\n      <td>0.013713</td>\n      <td>0.002159</td>\n      <td>squared_error</td>\n      <td>log2</td>\n      <td>25</td>\n      <td>{'model__criterion': 'squared_error', 'model__...</td>\n      <td>0.625461</td>\n      <td>0.599866</td>\n      <td>0.624585</td>\n      <td>0.580829</td>\n      <td>0.584996</td>\n      <td>0.603148</td>\n      <td>0.018952</td>\n      <td>46</td>\n    </tr>\n    <tr>\n      <th>2</th>\n      <td>119.349457</td>\n      <td>3.790190</td>\n      <td>0.015626</td>\n      <td>0.000330</td>\n      <td>absolute_error</td>\n      <td>log2</td>\n      <td>19</td>\n      <td>{'model__criterion': 'absolute_error', 'model_...</td>\n      <td>0.614387</td>\n      <td>0.595691</td>\n      <td>0.623092</td>\n      <td>0.590619</td>\n      <td>0.574020</td>\n      <td>0.599562</td>\n      <td>0.017440</td>\n      <td>47</td>\n    </tr>\n    <tr>\n      <th>27</th>\n      <td>1.019611</td>\n      <td>0.047682</td>\n      <td>0.008445</td>\n      <td>0.000131</td>\n      <td>squared_error</td>\n      <td>sqrt</td>\n      <td>10</td>\n      <td>{'model__criterion': 'squared_error', 'model__...</td>\n      <td>0.626541</td>\n      <td>0.605047</td>\n      <td>0.587503</td>\n      <td>0.577742</td>\n      <td>0.555685</td>\n      <td>0.590504</td>\n      <td>0.024060</td>\n      <td>48</td>\n    </tr>\n    <tr>\n      <th>14</th>\n      <td>5886.533763</td>\n      <td>176.593714</td>\n      <td>0.014802</td>\n      <td>0.005493</td>\n      <td>absolute_error</td>\n      <td>None</td>\n      <td>10</td>\n      <td>{'model__criterion': 'absolute_error', 'model_...</td>\n      <td>0.610793</td>\n      <td>0.572082</td>\n      <td>0.584013</td>\n      <td>0.579710</td>\n      <td>0.568096</td>\n      <td>0.582939</td>\n      <td>0.015004</td>\n      <td>49</td>\n    </tr>\n    <tr>\n      <th>42</th>\n      <td>0.532851</td>\n      <td>0.011782</td>\n      <td>0.010643</td>\n      <td>0.002394</td>\n      <td>squared_error</td>\n      <td>log2</td>\n      <td>10</td>\n      <td>{'model__criterion': 'squared_error', 'model__...</td>\n      <td>0.599201</td>\n      <td>0.571612</td>\n      <td>0.603099</td>\n      <td>0.567740</td>\n      <td>0.563774</td>\n      <td>0.581085</td>\n      <td>0.016615</td>\n      <td>50</td>\n    </tr>\n  </tbody>\n</table>\n</div>"
     },
     "execution_count": 47,
     "metadata": {},
     "output_type": "execute_result"
    }
   ],
   "source": [
    "rfr_grid_search_dataframe = pd.DataFrame(\n",
    "    np.load(\"Dataset_Files/Baseline_Models/Regression/optimised_rfr_cv_results.npy\", allow_pickle=True).tolist())\n",
    "rfr_grid_search_dataframe.sort_values(by=[\"rank_test_score\"], inplace=True)\n",
    "rfr_grid_search_dataframe"
   ],
   "metadata": {
    "collapsed": false,
    "pycharm": {
     "name": "#%%\n"
    }
   }
  },
  {
   "cell_type": "markdown",
   "source": [
    "### Testing"
   ],
   "metadata": {
    "collapsed": false,
    "pycharm": {
     "name": "#%% md\n"
    }
   }
  },
  {
   "cell_type": "code",
   "execution_count": 48,
   "outputs": [
    {
     "name": "stdout",
     "output_type": "stream",
     "text": [
      "Metrics after 1000 bootstrapped samples of size 50\n",
      "--------------------------------------------------------\n",
      "Median Negated-MAE: -2.50 with a 95% confidence interval of [-2.83,-2.18]\n",
      "Median R2: -0.46 with a 95% confidence interval of [-1.73,-0.01]\n"
     ]
    }
   ],
   "source": [
    "get_confidence_intervals(optimised_rfr, X_test, y_test, 50, \"Regression\")"
   ],
   "metadata": {
    "collapsed": false,
    "pycharm": {
     "name": "#%%\n"
    }
   }
  },
  {
   "cell_type": "markdown",
   "source": [
    "## Stochastic Gradient Descent Regressor (SGDR)"
   ],
   "metadata": {
    "collapsed": false,
    "pycharm": {
     "name": "#%% md\n"
    }
   }
  },
  {
   "cell_type": "code",
   "execution_count": 49,
   "outputs": [
    {
     "data": {
      "text/plain": "{'memory': None,\n 'steps': [('scale', StandardScaler()),\n  ('model', SGDRegressor(random_state=42))],\n 'verbose': False,\n 'scale': StandardScaler(),\n 'model': SGDRegressor(random_state=42),\n 'scale__copy': True,\n 'scale__with_mean': True,\n 'scale__with_std': True,\n 'model__alpha': 0.0001,\n 'model__average': False,\n 'model__early_stopping': False,\n 'model__epsilon': 0.1,\n 'model__eta0': 0.01,\n 'model__fit_intercept': True,\n 'model__l1_ratio': 0.15,\n 'model__learning_rate': 'invscaling',\n 'model__loss': 'squared_error',\n 'model__max_iter': 1000,\n 'model__n_iter_no_change': 5,\n 'model__penalty': 'l2',\n 'model__power_t': 0.25,\n 'model__random_state': 42,\n 'model__shuffle': True,\n 'model__tol': 0.001,\n 'model__validation_fraction': 0.1,\n 'model__verbose': 0,\n 'model__warm_start': False}"
     },
     "execution_count": 49,
     "metadata": {},
     "output_type": "execute_result"
    }
   ],
   "source": [
    "pipe = Pipeline(\n",
    "    [\n",
    "        ('scale', StandardScaler()),\n",
    "        ('model', SGDRegressor(random_state=42))\n",
    "    ]\n",
    ")\n",
    "pipe.get_params()"
   ],
   "metadata": {
    "collapsed": false,
    "pycharm": {
     "name": "#%%\n"
    }
   }
  },
  {
   "cell_type": "code",
   "execution_count": 50,
   "outputs": [],
   "source": [
    "model = BayesSearchCV(estimator=pipe,\n",
    "                      search_spaces={\n",
    "                          'model__loss': Categorical(\n",
    "                              ['squared_error', 'huber', 'epsilon_insensitive', 'squared_epsilon_insensitive']),\n",
    "                          'model__penalty': Categorical(['l2', 'l1', 'elasticnet']),\n",
    "                          'model__alpha': Real(1e-6, 1e-1, prior='log-uniform'),\n",
    "                          'model__learning_rate': Categorical(['constant', 'optimal', 'invscaling', 'adaptive']),\n",
    "                      },\n",
    "                      scoring='r2',\n",
    "                      cv=5,\n",
    "                      error_score=np.nan,\n",
    "                      n_jobs=-1,\n",
    "                      pre_dispatch='2*n_jobs',\n",
    "                      random_state=42)"
   ],
   "metadata": {
    "collapsed": false,
    "pycharm": {
     "name": "#%%\n"
    }
   }
  },
  {
   "cell_type": "markdown",
   "source": [
    "### Training"
   ],
   "metadata": {
    "collapsed": false,
    "pycharm": {
     "name": "#%% md\n"
    }
   }
  },
  {
   "cell_type": "code",
   "execution_count": 51,
   "outputs": [],
   "source": [
    "# index = 1\n",
    "# model.fit(X_train, y_train, callback=on_step)\n",
    "#\n",
    "# optimised_sgdr = model.best_estimator_\n",
    "#\n",
    "# y_train_pred = optimised_sgdr.predict(X_train)\n",
    "# calculate_metrics_regression(y_train, y_train_pred)\n",
    "#\n",
    "# # Save Model & CV Results\n",
    "# dump(optimised_sgdr, 'Dataset_Files/Baseline_Models/Regression/optimised_sgdr.joblib')\n",
    "# np.save(\"Dataset_Files/Baseline_Models/Regression/optimised_sgdr_cv_results.npy\", model.cv_results_)"
   ],
   "metadata": {
    "collapsed": false,
    "pycharm": {
     "name": "#%%\n"
    }
   }
  },
  {
   "cell_type": "code",
   "execution_count": 52,
   "outputs": [],
   "source": [
    "# Load Model\n",
    "optimised_sgdr = load('Dataset_Files/Baseline_Models/Regression/optimised_sgdr.joblib')"
   ],
   "metadata": {
    "collapsed": false,
    "pycharm": {
     "name": "#%%\n"
    }
   }
  },
  {
   "cell_type": "code",
   "execution_count": 53,
   "outputs": [
    {
     "name": "stdout",
     "output_type": "stream",
     "text": [
      "Metrics after 1000 bootstrapped samples of size 1000\n",
      "--------------------------------------------------------\n",
      "Median Negated-MAE: -0.88 with a 95% confidence interval of [-0.98,-0.78]\n",
      "Median R2: 0.54 with a 95% confidence interval of [0.46,0.60]\n"
     ]
    }
   ],
   "source": [
    "get_confidence_intervals(optimised_sgdr, X_train, y_train, 1000, \"Regression\")"
   ],
   "metadata": {
    "collapsed": false,
    "pycharm": {
     "name": "#%%\n"
    }
   }
  },
  {
   "cell_type": "code",
   "execution_count": 54,
   "outputs": [
    {
     "data": {
      "text/plain": "{'memory': None,\n 'steps': [('scale', StandardScaler()),\n  ('model',\n   SGDRegressor(alpha=0.0046788604247112444, learning_rate='optimal',\n                loss='epsilon_insensitive', penalty='elasticnet', random_state=42))],\n 'verbose': False,\n 'scale': StandardScaler(),\n 'model': SGDRegressor(alpha=0.0046788604247112444, learning_rate='optimal',\n              loss='epsilon_insensitive', penalty='elasticnet', random_state=42),\n 'scale__copy': True,\n 'scale__with_mean': True,\n 'scale__with_std': True,\n 'model__alpha': 0.0046788604247112444,\n 'model__average': False,\n 'model__early_stopping': False,\n 'model__epsilon': 0.1,\n 'model__eta0': 0.01,\n 'model__fit_intercept': True,\n 'model__l1_ratio': 0.15,\n 'model__learning_rate': 'optimal',\n 'model__loss': 'epsilon_insensitive',\n 'model__max_iter': 1000,\n 'model__n_iter_no_change': 5,\n 'model__penalty': 'elasticnet',\n 'model__power_t': 0.25,\n 'model__random_state': 42,\n 'model__shuffle': True,\n 'model__tol': 0.001,\n 'model__validation_fraction': 0.1,\n 'model__verbose': 0,\n 'model__warm_start': False}"
     },
     "execution_count": 54,
     "metadata": {},
     "output_type": "execute_result"
    }
   ],
   "source": [
    "optimised_sgdr.get_params()"
   ],
   "metadata": {
    "collapsed": false,
    "pycharm": {
     "name": "#%%\n"
    }
   }
  },
  {
   "cell_type": "code",
   "execution_count": 55,
   "outputs": [
    {
     "data": {
      "text/plain": "    mean_fit_time  std_fit_time  mean_score_time  std_score_time  \\\n5        7.988788      0.873798         0.019589        0.004331   \n7        1.091688      0.051659         0.021595        0.003604   \n10       0.531280      0.017666         0.024101        0.001111   \n6        0.602592      0.022102         0.026664        0.002197   \n11       0.510977      0.004297         0.032802        0.001941   \n12       0.563295      0.018415         0.038264        0.001573   \n13       0.586123      0.013636         0.030581        0.004125   \n14       0.596204      0.011068         0.022741        0.001873   \n15       0.519688      0.017809         0.018598        0.002156   \n16       0.497133      0.008160         0.027202        0.001720   \n17       0.652032      0.018433         0.033134        0.001614   \n21       0.492078      0.009488         0.028208        0.003544   \n18       0.701668      0.014035         0.034898        0.003529   \n20       0.500739      0.012362         0.027871        0.002492   \n19       0.638309      0.014798         0.033267        0.004761   \n23       0.508354      0.018951         0.020604        0.003829   \n29       0.526928      0.014308         0.025222        0.003131   \n24       0.517039      0.018650         0.023644        0.004749   \n22       0.510066      0.010362         0.030802        0.001833   \n28       0.541570      0.015546         0.019757        0.001798   \n27       0.482878      0.007919         0.029071        0.001371   \n25       0.544135      0.018848         0.024942        0.005617   \n26       0.496714      0.006099         0.027573        0.004120   \n1        0.414517      0.010176         0.022806        0.002717   \n34       3.253215      2.275280         0.016510        0.003425   \n33       2.452361      1.186804         0.015600        0.002727   \n42       3.249267      2.322339         0.017545        0.002000   \n40       2.951144      1.824510         0.017197        0.002706   \n35       2.814666      1.185954         0.019475        0.003728   \n45       2.688833      1.114237         0.017002        0.002278   \n32       2.623200      1.128231         0.018420        0.002744   \n38       2.770671      1.149385         0.018201        0.003816   \n47       3.290080      1.565327         0.025019        0.008439   \n39       2.746984      1.303795         0.018604        0.002521   \n44       2.924515      1.368393         0.020125        0.002969   \n43       2.948409      1.331017         0.016949        0.002958   \n41       2.829447      1.264029         0.017409        0.003514   \n49       2.633453      1.317471         0.018259        0.002362   \n48       3.032438      1.419197         0.020424        0.003328   \n2       16.667865      3.965409         0.020609        0.003607   \n36       2.057663      0.876528         0.022802        0.003718   \n31       1.809627      0.742335         0.015798        0.001166   \n8        2.006558      0.811653         0.017113        0.003194   \n37       2.488684      1.021271         0.020200        0.003870   \n46       2.349790      1.179401         0.023135        0.004464   \n30       2.470035      1.416515         0.020533        0.003218   \n0        0.922075      0.632174         0.016417        0.001729   \n9        1.549024      0.557375         0.016753        0.003162   \n3        0.563486      0.014549         0.039346        0.004335   \n4        0.793587      0.018022         0.032679        0.002453   \n\n   param_model__alpha param_model__learning_rate            param_model__loss  \\\n5            0.004679                    optimal          epsilon_insensitive   \n7            0.000521                    optimal                        huber   \n10           0.005212                    optimal                        huber   \n6            0.001217                 invscaling                        huber   \n11           0.005657                    optimal                        huber   \n12           0.005945                    optimal                        huber   \n13           0.006148                    optimal                        huber   \n14           0.006302                    optimal                        huber   \n15           0.006403                    optimal                        huber   \n16           0.006475                    optimal                        huber   \n17           0.006542                    optimal                        huber   \n21           0.006721                    optimal                        huber   \n18           0.006633                    optimal                        huber   \n20           0.006694                    optimal                        huber   \n19           0.006666                    optimal                        huber   \n23           0.006779                    optimal                        huber   \n29           0.006796                    optimal                        huber   \n24            0.00674                    optimal                        huber   \n22           0.006809                    optimal                        huber   \n28           0.006801                    optimal                        huber   \n27           0.006771                    optimal                        huber   \n25           0.006819                    optimal                        huber   \n26           0.006822                    optimal                        huber   \n1            0.015379                    optimal                        huber   \n34           0.090539                 invscaling                squared_error   \n33            0.08591                 invscaling                squared_error   \n42           0.094526                 invscaling                squared_error   \n40            0.09548                 invscaling                squared_error   \n35           0.096183                 invscaling                squared_error   \n45            0.09693                 invscaling                squared_error   \n32           0.097427                 invscaling                squared_error   \n38           0.097474                 invscaling                squared_error   \n47                0.1                 invscaling                squared_error   \n39                0.1                 invscaling                squared_error   \n44                0.1                 invscaling                squared_error   \n43                0.1                 invscaling                squared_error   \n41                0.1                 invscaling                squared_error   \n49                0.1                 invscaling                squared_error   \n48                0.1                 invscaling                squared_error   \n2            0.000168                    optimal          epsilon_insensitive   \n36           0.081432                 invscaling                squared_error   \n31           0.075009                 invscaling                squared_error   \n8            0.059895                 invscaling                squared_error   \n37           0.055955                 invscaling                squared_error   \n46           0.055156                 invscaling                squared_error   \n30            0.02902                 invscaling                squared_error   \n0            0.000112                 invscaling                squared_error   \n9            0.000001                 invscaling  squared_epsilon_insensitive   \n3            0.011534                   constant  squared_epsilon_insensitive   \n4            0.009949                   constant  squared_epsilon_insensitive   \n\n   param_model__penalty                                             params  \\\n5            elasticnet  {'model__alpha': 0.0046788604247112444, 'model...   \n7                    l2  {'model__alpha': 0.0005212131190318165, 'model...   \n10                   l2  {'model__alpha': 0.005212004771028612, 'model_...   \n6                    l2  {'model__alpha': 0.0012172976749510152, 'model...   \n11                   l2  {'model__alpha': 0.005657063629115877, 'model_...   \n12                   l2  {'model__alpha': 0.005944698214965892, 'model_...   \n13                   l2  {'model__alpha': 0.0061483292235691815, 'model...   \n14                   l2  {'model__alpha': 0.0063022291343780516, 'model...   \n15                   l2  {'model__alpha': 0.006402514059565198, 'model_...   \n16                   l2  {'model__alpha': 0.006474710761227967, 'model_...   \n17                   l2  {'model__alpha': 0.006542125121762876, 'model_...   \n21                   l2  {'model__alpha': 0.00672115727154622, 'model__...   \n18                   l2  {'model__alpha': 0.006632552543258817, 'model_...   \n20                   l2  {'model__alpha': 0.0066941800852637285, 'model...   \n19                   l2  {'model__alpha': 0.006665592619674893, 'model_...   \n23                   l2  {'model__alpha': 0.006779153903958064, 'model_...   \n29                   l2  {'model__alpha': 0.006795719809120323, 'model_...   \n24                   l2  {'model__alpha': 0.00674032094807148, 'model__...   \n22                   l2  {'model__alpha': 0.006808837063793072, 'model_...   \n28                   l2  {'model__alpha': 0.006800873199363169, 'model_...   \n27                   l2  {'model__alpha': 0.006770508739878338, 'model_...   \n25                   l2  {'model__alpha': 0.006818503502270401, 'model_...   \n26                   l2  {'model__alpha': 0.0068220521531878004, 'model...   \n1                    l2  {'model__alpha': 0.01537948446580078, 'model__...   \n34                   l1  {'model__alpha': 0.09053874977216077, 'model__...   \n33                   l1  {'model__alpha': 0.08591001501142614, 'model__...   \n42                   l1  {'model__alpha': 0.09452561778541527, 'model__...   \n40                   l1  {'model__alpha': 0.09548010044758651, 'model__...   \n35                   l1  {'model__alpha': 0.09618317885719123, 'model__...   \n45                   l1  {'model__alpha': 0.09693004463081469, 'model__...   \n32                   l1  {'model__alpha': 0.09742749541760397, 'model__...   \n38                   l1  {'model__alpha': 0.0974739606502418, 'model__l...   \n47                   l1  {'model__alpha': 0.1, 'model__learning_rate': ...   \n39                   l1  {'model__alpha': 0.1, 'model__learning_rate': ...   \n44                   l1  {'model__alpha': 0.1, 'model__learning_rate': ...   \n43                   l1  {'model__alpha': 0.1, 'model__learning_rate': ...   \n41                   l1  {'model__alpha': 0.1, 'model__learning_rate': ...   \n49                   l1  {'model__alpha': 0.1, 'model__learning_rate': ...   \n48                   l1  {'model__alpha': 0.1, 'model__learning_rate': ...   \n2                    l1  {'model__alpha': 0.00016755699440936588, 'mode...   \n36                   l1  {'model__alpha': 0.08143202044388047, 'model__...   \n31                   l1  {'model__alpha': 0.0750090445768677, 'model__l...   \n8                    l1  {'model__alpha': 0.05989491205267932, 'model__...   \n37                   l1  {'model__alpha': 0.05595465566416238, 'model__...   \n46                   l1  {'model__alpha': 0.05515649965356307, 'model__...   \n30                   l1  {'model__alpha': 0.029020215406375272, 'model_...   \n0                    l1  {'model__alpha': 0.00011233621690895234, 'mode...   \n9                    l1  {'model__alpha': 1.0426811836320545e-06, 'mode...   \n3                    l2  {'model__alpha': 0.011533999859559564, 'model_...   \n4                    l1  {'model__alpha': 0.009948719998234101, 'model_...   \n\n    split0_test_score  split1_test_score  split2_test_score  \\\n5        4.929208e-01       4.833207e-01       4.836285e-01   \n7        4.691575e-01       4.812977e-01       4.947266e-01   \n10       4.788611e-01       4.714036e-01       4.595471e-01   \n6        4.842929e-01       4.674415e-01       4.602012e-01   \n11       4.768305e-01       4.662248e-01       4.564094e-01   \n12       4.756105e-01       4.654055e-01       4.556711e-01   \n13       4.751354e-01       4.644367e-01       4.545819e-01   \n14       4.741176e-01       4.635313e-01       4.543972e-01   \n15       4.739197e-01       4.634077e-01       4.531348e-01   \n16       4.733808e-01       4.632228e-01       4.533969e-01   \n17       4.732269e-01       4.630662e-01       4.527746e-01   \n21       4.727218e-01       4.635634e-01       4.535647e-01   \n18       4.728770e-01       4.622885e-01       4.524201e-01   \n20       4.727484e-01       4.614790e-01       4.534886e-01   \n19       4.732393e-01       4.623017e-01       4.519742e-01   \n23       4.724467e-01       4.615765e-01       4.532585e-01   \n29       4.727003e-01       4.614361e-01       4.533095e-01   \n24       4.726132e-01       4.616638e-01       4.516155e-01   \n22       4.725463e-01       4.616103e-01       4.513248e-01   \n28       4.722343e-01       4.615741e-01       4.520366e-01   \n27       4.724679e-01       4.614389e-01       4.512655e-01   \n25       4.725798e-01       4.615569e-01       4.510700e-01   \n26       4.722605e-01       4.612946e-01       4.513029e-01   \n1        4.489021e-01       4.330747e-01       4.220279e-01   \n34       3.843478e-01       3.729206e-01       3.575500e-01   \n33       3.903647e-01       3.778217e-01       3.320983e-01   \n42       3.787964e-01       3.674801e-01       3.465818e-01   \n40       3.776002e-01       3.664464e-01       3.451354e-01   \n35       3.767612e-01       3.656491e-01       3.280381e-01   \n45       3.757736e-01       3.691941e-01       3.252400e-01   \n32       3.750365e-01       3.684939e-01       3.248988e-01   \n38       3.749619e-01       3.684464e-01       3.248664e-01   \n47       3.714460e-01       3.633382e-01       3.182060e-01   \n39       3.714460e-01       3.633382e-01       3.182060e-01   \n44       3.714460e-01       3.633382e-01       3.182060e-01   \n43       3.714460e-01       3.633382e-01       3.182060e-01   \n41       3.714460e-01       3.633382e-01       3.182060e-01   \n49       3.714460e-01       3.633382e-01       3.182060e-01   \n48       3.714460e-01       3.633382e-01       3.182060e-01   \n2        1.445558e-01       3.482180e-01       3.812067e-01   \n36       3.956215e-01       3.839601e-01      -3.123356e+04   \n31       4.050737e-01       3.938055e-01      -4.164030e+04   \n8        4.310465e-01       4.110119e-01      -7.276764e+04   \n37       4.402953e-01       4.145811e-01      -8.258654e+04   \n46       4.419178e-01       4.155666e-01      -8.467050e+04   \n30       4.898665e-01       4.680102e-01      -1.713414e+05   \n0       -1.338678e+02      -1.391074e+03      -3.130546e+05   \n9       -5.145138e+19      -1.447132e+19      -8.142712e+19   \n3       -2.268355e+24      -1.954568e+24      -2.066342e+24   \n4       -3.028280e+24      -2.267545e+24      -2.135015e+24   \n\n    split3_test_score  split4_test_score  mean_test_score  std_test_score  \\\n5        4.816389e-01       4.435113e-01     4.770041e-01    1.720680e-02   \n7        4.676726e-01       4.339780e-01     4.693665e-01    2.020271e-02   \n10       4.657803e-01       4.219899e-01     4.595164e-01    1.981412e-02   \n6        4.661645e-01       4.163706e-01     4.588942e-01    2.271993e-02   \n11       4.642834e-01       4.171835e-01     4.561863e-01    2.056105e-02   \n12       4.621940e-01       4.154837e-01     4.548729e-01    2.072068e-02   \n13       4.616289e-01       4.139672e-01     4.539500e-01    2.105603e-02   \n14       4.604908e-01       4.137593e-01     4.532592e-01    2.075777e-02   \n15       4.602791e-01       4.132703e-01     4.528023e-01    2.086725e-02   \n16       4.598861e-01       4.126287e-01     4.525030e-01    2.095741e-02   \n17       4.592360e-01       4.125507e-01     4.521709e-01    2.089067e-02   \n21       4.582554e-01       4.120184e-01     4.520248e-01    2.099149e-02   \n18       4.587081e-01       4.124581e-01     4.517504e-01    2.073708e-02   \n20       4.586522e-01       4.122651e-01     4.517267e-01    2.071379e-02   \n19       4.584226e-01       4.119673e-01     4.515810e-01    2.097724e-02   \n23       4.578284e-01       4.119332e-01     4.514087e-01    2.073128e-02   \n29       4.577052e-01       4.114855e-01     4.513273e-01    2.093305e-02   \n24       4.581347e-01       4.120997e-01     4.512254e-01    2.071283e-02   \n22       4.578374e-01       4.117179e-01     4.510074e-01    2.081712e-02   \n28       4.577715e-01       4.112277e-01     4.509689e-01    2.093544e-02   \n27       4.578258e-01       4.113424e-01     4.508681e-01    2.092432e-02   \n25       4.575750e-01       4.115261e-01     4.508615e-01    2.087326e-02   \n26       4.576926e-01       4.117415e-01     4.508584e-01    2.070748e-02   \n1        4.281043e-01       3.850211e-01     4.234260e-01    2.117029e-02   \n34       3.780272e-01       3.740581e-01     3.733808e-01    8.867371e-03   \n33       3.831442e-01       3.792141e-01     3.725286e-01    2.067916e-02   \n42       3.725151e-01       3.862461e-01     3.703239e-01    1.343038e-02   \n40       3.713477e-01       3.853364e-01     3.691732e-01    1.358117e-02   \n35       3.704658e-01       3.846673e-01     3.651163e-01    1.960380e-02   \n45       3.694800e-01       3.839885e-01     3.647352e-01    2.046853e-02   \n32       3.688044e-01       3.835498e-01     3.641566e-01    2.037674e-02   \n38       3.687406e-01       3.835087e-01     3.641048e-01    2.036850e-02   \n47       3.653758e-01       3.813636e-01     3.599459e-01    2.179075e-02   \n39       3.653758e-01       3.813636e-01     3.599459e-01    2.179075e-02   \n44       3.653758e-01       3.813636e-01     3.599459e-01    2.179075e-02   \n43       3.653758e-01       3.813636e-01     3.599459e-01    2.179075e-02   \n41       3.653758e-01       3.813636e-01     3.599459e-01    2.179075e-02   \n49       3.653758e-01       3.813636e-01     3.599459e-01    2.179075e-02   \n48       3.653758e-01       3.813636e-01     3.599459e-01    2.179075e-02   \n2        2.570157e-01       3.462877e-02     2.331250e-01    1.288337e-01   \n36       3.881903e-01       3.834941e-01    -6.246403e+03    1.249358e+04   \n31       3.961276e-01       3.901970e-01    -8.327744e+03    1.665628e+04   \n8        4.145504e-01       4.107090e-01    -1.455319e+04    2.910722e+04   \n37       4.198467e-01       4.162458e-01    -1.651697e+04    3.303479e+04   \n46       4.209449e-01       4.173651e-01    -1.693376e+04    3.386837e+04   \n30       4.668747e-01       4.591493e-01    -3.426790e+04    6.853673e+04   \n0        1.121702e-01       4.578252e-01    -6.291580e+04    1.250705e+05   \n9       -1.143118e+18      -3.468368e+18    -3.039226e+19    3.124717e+19   \n3       -2.838396e+24      -1.724218e+24    -2.170376e+24    3.774396e+23   \n4       -3.026979e+24      -2.516325e+24    -2.594829e+24    3.739894e+23   \n\n    rank_test_score  \n5                 1  \n7                 2  \n10                3  \n6                 4  \n11                5  \n12                6  \n13                7  \n14                8  \n15                9  \n16               10  \n17               11  \n21               12  \n18               13  \n20               14  \n19               15  \n23               16  \n29               17  \n24               18  \n22               19  \n28               20  \n27               21  \n25               22  \n26               23  \n1                24  \n34               25  \n33               26  \n42               27  \n40               28  \n35               29  \n45               30  \n32               31  \n38               32  \n47               33  \n39               33  \n44               33  \n43               33  \n41               33  \n49               33  \n48               33  \n2                40  \n36               41  \n31               42  \n8                43  \n37               44  \n46               45  \n30               46  \n0                47  \n9                48  \n3                49  \n4                50  ",
      "text/html": "<div>\n<style scoped>\n    .dataframe tbody tr th:only-of-type {\n        vertical-align: middle;\n    }\n\n    .dataframe tbody tr th {\n        vertical-align: top;\n    }\n\n    .dataframe thead th {\n        text-align: right;\n    }\n</style>\n<table border=\"1\" class=\"dataframe\">\n  <thead>\n    <tr style=\"text-align: right;\">\n      <th></th>\n      <th>mean_fit_time</th>\n      <th>std_fit_time</th>\n      <th>mean_score_time</th>\n      <th>std_score_time</th>\n      <th>param_model__alpha</th>\n      <th>param_model__learning_rate</th>\n      <th>param_model__loss</th>\n      <th>param_model__penalty</th>\n      <th>params</th>\n      <th>split0_test_score</th>\n      <th>split1_test_score</th>\n      <th>split2_test_score</th>\n      <th>split3_test_score</th>\n      <th>split4_test_score</th>\n      <th>mean_test_score</th>\n      <th>std_test_score</th>\n      <th>rank_test_score</th>\n    </tr>\n  </thead>\n  <tbody>\n    <tr>\n      <th>5</th>\n      <td>7.988788</td>\n      <td>0.873798</td>\n      <td>0.019589</td>\n      <td>0.004331</td>\n      <td>0.004679</td>\n      <td>optimal</td>\n      <td>epsilon_insensitive</td>\n      <td>elasticnet</td>\n      <td>{'model__alpha': 0.0046788604247112444, 'model...</td>\n      <td>4.929208e-01</td>\n      <td>4.833207e-01</td>\n      <td>4.836285e-01</td>\n      <td>4.816389e-01</td>\n      <td>4.435113e-01</td>\n      <td>4.770041e-01</td>\n      <td>1.720680e-02</td>\n      <td>1</td>\n    </tr>\n    <tr>\n      <th>7</th>\n      <td>1.091688</td>\n      <td>0.051659</td>\n      <td>0.021595</td>\n      <td>0.003604</td>\n      <td>0.000521</td>\n      <td>optimal</td>\n      <td>huber</td>\n      <td>l2</td>\n      <td>{'model__alpha': 0.0005212131190318165, 'model...</td>\n      <td>4.691575e-01</td>\n      <td>4.812977e-01</td>\n      <td>4.947266e-01</td>\n      <td>4.676726e-01</td>\n      <td>4.339780e-01</td>\n      <td>4.693665e-01</td>\n      <td>2.020271e-02</td>\n      <td>2</td>\n    </tr>\n    <tr>\n      <th>10</th>\n      <td>0.531280</td>\n      <td>0.017666</td>\n      <td>0.024101</td>\n      <td>0.001111</td>\n      <td>0.005212</td>\n      <td>optimal</td>\n      <td>huber</td>\n      <td>l2</td>\n      <td>{'model__alpha': 0.005212004771028612, 'model_...</td>\n      <td>4.788611e-01</td>\n      <td>4.714036e-01</td>\n      <td>4.595471e-01</td>\n      <td>4.657803e-01</td>\n      <td>4.219899e-01</td>\n      <td>4.595164e-01</td>\n      <td>1.981412e-02</td>\n      <td>3</td>\n    </tr>\n    <tr>\n      <th>6</th>\n      <td>0.602592</td>\n      <td>0.022102</td>\n      <td>0.026664</td>\n      <td>0.002197</td>\n      <td>0.001217</td>\n      <td>invscaling</td>\n      <td>huber</td>\n      <td>l2</td>\n      <td>{'model__alpha': 0.0012172976749510152, 'model...</td>\n      <td>4.842929e-01</td>\n      <td>4.674415e-01</td>\n      <td>4.602012e-01</td>\n      <td>4.661645e-01</td>\n      <td>4.163706e-01</td>\n      <td>4.588942e-01</td>\n      <td>2.271993e-02</td>\n      <td>4</td>\n    </tr>\n    <tr>\n      <th>11</th>\n      <td>0.510977</td>\n      <td>0.004297</td>\n      <td>0.032802</td>\n      <td>0.001941</td>\n      <td>0.005657</td>\n      <td>optimal</td>\n      <td>huber</td>\n      <td>l2</td>\n      <td>{'model__alpha': 0.005657063629115877, 'model_...</td>\n      <td>4.768305e-01</td>\n      <td>4.662248e-01</td>\n      <td>4.564094e-01</td>\n      <td>4.642834e-01</td>\n      <td>4.171835e-01</td>\n      <td>4.561863e-01</td>\n      <td>2.056105e-02</td>\n      <td>5</td>\n    </tr>\n    <tr>\n      <th>12</th>\n      <td>0.563295</td>\n      <td>0.018415</td>\n      <td>0.038264</td>\n      <td>0.001573</td>\n      <td>0.005945</td>\n      <td>optimal</td>\n      <td>huber</td>\n      <td>l2</td>\n      <td>{'model__alpha': 0.005944698214965892, 'model_...</td>\n      <td>4.756105e-01</td>\n      <td>4.654055e-01</td>\n      <td>4.556711e-01</td>\n      <td>4.621940e-01</td>\n      <td>4.154837e-01</td>\n      <td>4.548729e-01</td>\n      <td>2.072068e-02</td>\n      <td>6</td>\n    </tr>\n    <tr>\n      <th>13</th>\n      <td>0.586123</td>\n      <td>0.013636</td>\n      <td>0.030581</td>\n      <td>0.004125</td>\n      <td>0.006148</td>\n      <td>optimal</td>\n      <td>huber</td>\n      <td>l2</td>\n      <td>{'model__alpha': 0.0061483292235691815, 'model...</td>\n      <td>4.751354e-01</td>\n      <td>4.644367e-01</td>\n      <td>4.545819e-01</td>\n      <td>4.616289e-01</td>\n      <td>4.139672e-01</td>\n      <td>4.539500e-01</td>\n      <td>2.105603e-02</td>\n      <td>7</td>\n    </tr>\n    <tr>\n      <th>14</th>\n      <td>0.596204</td>\n      <td>0.011068</td>\n      <td>0.022741</td>\n      <td>0.001873</td>\n      <td>0.006302</td>\n      <td>optimal</td>\n      <td>huber</td>\n      <td>l2</td>\n      <td>{'model__alpha': 0.0063022291343780516, 'model...</td>\n      <td>4.741176e-01</td>\n      <td>4.635313e-01</td>\n      <td>4.543972e-01</td>\n      <td>4.604908e-01</td>\n      <td>4.137593e-01</td>\n      <td>4.532592e-01</td>\n      <td>2.075777e-02</td>\n      <td>8</td>\n    </tr>\n    <tr>\n      <th>15</th>\n      <td>0.519688</td>\n      <td>0.017809</td>\n      <td>0.018598</td>\n      <td>0.002156</td>\n      <td>0.006403</td>\n      <td>optimal</td>\n      <td>huber</td>\n      <td>l2</td>\n      <td>{'model__alpha': 0.006402514059565198, 'model_...</td>\n      <td>4.739197e-01</td>\n      <td>4.634077e-01</td>\n      <td>4.531348e-01</td>\n      <td>4.602791e-01</td>\n      <td>4.132703e-01</td>\n      <td>4.528023e-01</td>\n      <td>2.086725e-02</td>\n      <td>9</td>\n    </tr>\n    <tr>\n      <th>16</th>\n      <td>0.497133</td>\n      <td>0.008160</td>\n      <td>0.027202</td>\n      <td>0.001720</td>\n      <td>0.006475</td>\n      <td>optimal</td>\n      <td>huber</td>\n      <td>l2</td>\n      <td>{'model__alpha': 0.006474710761227967, 'model_...</td>\n      <td>4.733808e-01</td>\n      <td>4.632228e-01</td>\n      <td>4.533969e-01</td>\n      <td>4.598861e-01</td>\n      <td>4.126287e-01</td>\n      <td>4.525030e-01</td>\n      <td>2.095741e-02</td>\n      <td>10</td>\n    </tr>\n    <tr>\n      <th>17</th>\n      <td>0.652032</td>\n      <td>0.018433</td>\n      <td>0.033134</td>\n      <td>0.001614</td>\n      <td>0.006542</td>\n      <td>optimal</td>\n      <td>huber</td>\n      <td>l2</td>\n      <td>{'model__alpha': 0.006542125121762876, 'model_...</td>\n      <td>4.732269e-01</td>\n      <td>4.630662e-01</td>\n      <td>4.527746e-01</td>\n      <td>4.592360e-01</td>\n      <td>4.125507e-01</td>\n      <td>4.521709e-01</td>\n      <td>2.089067e-02</td>\n      <td>11</td>\n    </tr>\n    <tr>\n      <th>21</th>\n      <td>0.492078</td>\n      <td>0.009488</td>\n      <td>0.028208</td>\n      <td>0.003544</td>\n      <td>0.006721</td>\n      <td>optimal</td>\n      <td>huber</td>\n      <td>l2</td>\n      <td>{'model__alpha': 0.00672115727154622, 'model__...</td>\n      <td>4.727218e-01</td>\n      <td>4.635634e-01</td>\n      <td>4.535647e-01</td>\n      <td>4.582554e-01</td>\n      <td>4.120184e-01</td>\n      <td>4.520248e-01</td>\n      <td>2.099149e-02</td>\n      <td>12</td>\n    </tr>\n    <tr>\n      <th>18</th>\n      <td>0.701668</td>\n      <td>0.014035</td>\n      <td>0.034898</td>\n      <td>0.003529</td>\n      <td>0.006633</td>\n      <td>optimal</td>\n      <td>huber</td>\n      <td>l2</td>\n      <td>{'model__alpha': 0.006632552543258817, 'model_...</td>\n      <td>4.728770e-01</td>\n      <td>4.622885e-01</td>\n      <td>4.524201e-01</td>\n      <td>4.587081e-01</td>\n      <td>4.124581e-01</td>\n      <td>4.517504e-01</td>\n      <td>2.073708e-02</td>\n      <td>13</td>\n    </tr>\n    <tr>\n      <th>20</th>\n      <td>0.500739</td>\n      <td>0.012362</td>\n      <td>0.027871</td>\n      <td>0.002492</td>\n      <td>0.006694</td>\n      <td>optimal</td>\n      <td>huber</td>\n      <td>l2</td>\n      <td>{'model__alpha': 0.0066941800852637285, 'model...</td>\n      <td>4.727484e-01</td>\n      <td>4.614790e-01</td>\n      <td>4.534886e-01</td>\n      <td>4.586522e-01</td>\n      <td>4.122651e-01</td>\n      <td>4.517267e-01</td>\n      <td>2.071379e-02</td>\n      <td>14</td>\n    </tr>\n    <tr>\n      <th>19</th>\n      <td>0.638309</td>\n      <td>0.014798</td>\n      <td>0.033267</td>\n      <td>0.004761</td>\n      <td>0.006666</td>\n      <td>optimal</td>\n      <td>huber</td>\n      <td>l2</td>\n      <td>{'model__alpha': 0.006665592619674893, 'model_...</td>\n      <td>4.732393e-01</td>\n      <td>4.623017e-01</td>\n      <td>4.519742e-01</td>\n      <td>4.584226e-01</td>\n      <td>4.119673e-01</td>\n      <td>4.515810e-01</td>\n      <td>2.097724e-02</td>\n      <td>15</td>\n    </tr>\n    <tr>\n      <th>23</th>\n      <td>0.508354</td>\n      <td>0.018951</td>\n      <td>0.020604</td>\n      <td>0.003829</td>\n      <td>0.006779</td>\n      <td>optimal</td>\n      <td>huber</td>\n      <td>l2</td>\n      <td>{'model__alpha': 0.006779153903958064, 'model_...</td>\n      <td>4.724467e-01</td>\n      <td>4.615765e-01</td>\n      <td>4.532585e-01</td>\n      <td>4.578284e-01</td>\n      <td>4.119332e-01</td>\n      <td>4.514087e-01</td>\n      <td>2.073128e-02</td>\n      <td>16</td>\n    </tr>\n    <tr>\n      <th>29</th>\n      <td>0.526928</td>\n      <td>0.014308</td>\n      <td>0.025222</td>\n      <td>0.003131</td>\n      <td>0.006796</td>\n      <td>optimal</td>\n      <td>huber</td>\n      <td>l2</td>\n      <td>{'model__alpha': 0.006795719809120323, 'model_...</td>\n      <td>4.727003e-01</td>\n      <td>4.614361e-01</td>\n      <td>4.533095e-01</td>\n      <td>4.577052e-01</td>\n      <td>4.114855e-01</td>\n      <td>4.513273e-01</td>\n      <td>2.093305e-02</td>\n      <td>17</td>\n    </tr>\n    <tr>\n      <th>24</th>\n      <td>0.517039</td>\n      <td>0.018650</td>\n      <td>0.023644</td>\n      <td>0.004749</td>\n      <td>0.00674</td>\n      <td>optimal</td>\n      <td>huber</td>\n      <td>l2</td>\n      <td>{'model__alpha': 0.00674032094807148, 'model__...</td>\n      <td>4.726132e-01</td>\n      <td>4.616638e-01</td>\n      <td>4.516155e-01</td>\n      <td>4.581347e-01</td>\n      <td>4.120997e-01</td>\n      <td>4.512254e-01</td>\n      <td>2.071283e-02</td>\n      <td>18</td>\n    </tr>\n    <tr>\n      <th>22</th>\n      <td>0.510066</td>\n      <td>0.010362</td>\n      <td>0.030802</td>\n      <td>0.001833</td>\n      <td>0.006809</td>\n      <td>optimal</td>\n      <td>huber</td>\n      <td>l2</td>\n      <td>{'model__alpha': 0.006808837063793072, 'model_...</td>\n      <td>4.725463e-01</td>\n      <td>4.616103e-01</td>\n      <td>4.513248e-01</td>\n      <td>4.578374e-01</td>\n      <td>4.117179e-01</td>\n      <td>4.510074e-01</td>\n      <td>2.081712e-02</td>\n      <td>19</td>\n    </tr>\n    <tr>\n      <th>28</th>\n      <td>0.541570</td>\n      <td>0.015546</td>\n      <td>0.019757</td>\n      <td>0.001798</td>\n      <td>0.006801</td>\n      <td>optimal</td>\n      <td>huber</td>\n      <td>l2</td>\n      <td>{'model__alpha': 0.006800873199363169, 'model_...</td>\n      <td>4.722343e-01</td>\n      <td>4.615741e-01</td>\n      <td>4.520366e-01</td>\n      <td>4.577715e-01</td>\n      <td>4.112277e-01</td>\n      <td>4.509689e-01</td>\n      <td>2.093544e-02</td>\n      <td>20</td>\n    </tr>\n    <tr>\n      <th>27</th>\n      <td>0.482878</td>\n      <td>0.007919</td>\n      <td>0.029071</td>\n      <td>0.001371</td>\n      <td>0.006771</td>\n      <td>optimal</td>\n      <td>huber</td>\n      <td>l2</td>\n      <td>{'model__alpha': 0.006770508739878338, 'model_...</td>\n      <td>4.724679e-01</td>\n      <td>4.614389e-01</td>\n      <td>4.512655e-01</td>\n      <td>4.578258e-01</td>\n      <td>4.113424e-01</td>\n      <td>4.508681e-01</td>\n      <td>2.092432e-02</td>\n      <td>21</td>\n    </tr>\n    <tr>\n      <th>25</th>\n      <td>0.544135</td>\n      <td>0.018848</td>\n      <td>0.024942</td>\n      <td>0.005617</td>\n      <td>0.006819</td>\n      <td>optimal</td>\n      <td>huber</td>\n      <td>l2</td>\n      <td>{'model__alpha': 0.006818503502270401, 'model_...</td>\n      <td>4.725798e-01</td>\n      <td>4.615569e-01</td>\n      <td>4.510700e-01</td>\n      <td>4.575750e-01</td>\n      <td>4.115261e-01</td>\n      <td>4.508615e-01</td>\n      <td>2.087326e-02</td>\n      <td>22</td>\n    </tr>\n    <tr>\n      <th>26</th>\n      <td>0.496714</td>\n      <td>0.006099</td>\n      <td>0.027573</td>\n      <td>0.004120</td>\n      <td>0.006822</td>\n      <td>optimal</td>\n      <td>huber</td>\n      <td>l2</td>\n      <td>{'model__alpha': 0.0068220521531878004, 'model...</td>\n      <td>4.722605e-01</td>\n      <td>4.612946e-01</td>\n      <td>4.513029e-01</td>\n      <td>4.576926e-01</td>\n      <td>4.117415e-01</td>\n      <td>4.508584e-01</td>\n      <td>2.070748e-02</td>\n      <td>23</td>\n    </tr>\n    <tr>\n      <th>1</th>\n      <td>0.414517</td>\n      <td>0.010176</td>\n      <td>0.022806</td>\n      <td>0.002717</td>\n      <td>0.015379</td>\n      <td>optimal</td>\n      <td>huber</td>\n      <td>l2</td>\n      <td>{'model__alpha': 0.01537948446580078, 'model__...</td>\n      <td>4.489021e-01</td>\n      <td>4.330747e-01</td>\n      <td>4.220279e-01</td>\n      <td>4.281043e-01</td>\n      <td>3.850211e-01</td>\n      <td>4.234260e-01</td>\n      <td>2.117029e-02</td>\n      <td>24</td>\n    </tr>\n    <tr>\n      <th>34</th>\n      <td>3.253215</td>\n      <td>2.275280</td>\n      <td>0.016510</td>\n      <td>0.003425</td>\n      <td>0.090539</td>\n      <td>invscaling</td>\n      <td>squared_error</td>\n      <td>l1</td>\n      <td>{'model__alpha': 0.09053874977216077, 'model__...</td>\n      <td>3.843478e-01</td>\n      <td>3.729206e-01</td>\n      <td>3.575500e-01</td>\n      <td>3.780272e-01</td>\n      <td>3.740581e-01</td>\n      <td>3.733808e-01</td>\n      <td>8.867371e-03</td>\n      <td>25</td>\n    </tr>\n    <tr>\n      <th>33</th>\n      <td>2.452361</td>\n      <td>1.186804</td>\n      <td>0.015600</td>\n      <td>0.002727</td>\n      <td>0.08591</td>\n      <td>invscaling</td>\n      <td>squared_error</td>\n      <td>l1</td>\n      <td>{'model__alpha': 0.08591001501142614, 'model__...</td>\n      <td>3.903647e-01</td>\n      <td>3.778217e-01</td>\n      <td>3.320983e-01</td>\n      <td>3.831442e-01</td>\n      <td>3.792141e-01</td>\n      <td>3.725286e-01</td>\n      <td>2.067916e-02</td>\n      <td>26</td>\n    </tr>\n    <tr>\n      <th>42</th>\n      <td>3.249267</td>\n      <td>2.322339</td>\n      <td>0.017545</td>\n      <td>0.002000</td>\n      <td>0.094526</td>\n      <td>invscaling</td>\n      <td>squared_error</td>\n      <td>l1</td>\n      <td>{'model__alpha': 0.09452561778541527, 'model__...</td>\n      <td>3.787964e-01</td>\n      <td>3.674801e-01</td>\n      <td>3.465818e-01</td>\n      <td>3.725151e-01</td>\n      <td>3.862461e-01</td>\n      <td>3.703239e-01</td>\n      <td>1.343038e-02</td>\n      <td>27</td>\n    </tr>\n    <tr>\n      <th>40</th>\n      <td>2.951144</td>\n      <td>1.824510</td>\n      <td>0.017197</td>\n      <td>0.002706</td>\n      <td>0.09548</td>\n      <td>invscaling</td>\n      <td>squared_error</td>\n      <td>l1</td>\n      <td>{'model__alpha': 0.09548010044758651, 'model__...</td>\n      <td>3.776002e-01</td>\n      <td>3.664464e-01</td>\n      <td>3.451354e-01</td>\n      <td>3.713477e-01</td>\n      <td>3.853364e-01</td>\n      <td>3.691732e-01</td>\n      <td>1.358117e-02</td>\n      <td>28</td>\n    </tr>\n    <tr>\n      <th>35</th>\n      <td>2.814666</td>\n      <td>1.185954</td>\n      <td>0.019475</td>\n      <td>0.003728</td>\n      <td>0.096183</td>\n      <td>invscaling</td>\n      <td>squared_error</td>\n      <td>l1</td>\n      <td>{'model__alpha': 0.09618317885719123, 'model__...</td>\n      <td>3.767612e-01</td>\n      <td>3.656491e-01</td>\n      <td>3.280381e-01</td>\n      <td>3.704658e-01</td>\n      <td>3.846673e-01</td>\n      <td>3.651163e-01</td>\n      <td>1.960380e-02</td>\n      <td>29</td>\n    </tr>\n    <tr>\n      <th>45</th>\n      <td>2.688833</td>\n      <td>1.114237</td>\n      <td>0.017002</td>\n      <td>0.002278</td>\n      <td>0.09693</td>\n      <td>invscaling</td>\n      <td>squared_error</td>\n      <td>l1</td>\n      <td>{'model__alpha': 0.09693004463081469, 'model__...</td>\n      <td>3.757736e-01</td>\n      <td>3.691941e-01</td>\n      <td>3.252400e-01</td>\n      <td>3.694800e-01</td>\n      <td>3.839885e-01</td>\n      <td>3.647352e-01</td>\n      <td>2.046853e-02</td>\n      <td>30</td>\n    </tr>\n    <tr>\n      <th>32</th>\n      <td>2.623200</td>\n      <td>1.128231</td>\n      <td>0.018420</td>\n      <td>0.002744</td>\n      <td>0.097427</td>\n      <td>invscaling</td>\n      <td>squared_error</td>\n      <td>l1</td>\n      <td>{'model__alpha': 0.09742749541760397, 'model__...</td>\n      <td>3.750365e-01</td>\n      <td>3.684939e-01</td>\n      <td>3.248988e-01</td>\n      <td>3.688044e-01</td>\n      <td>3.835498e-01</td>\n      <td>3.641566e-01</td>\n      <td>2.037674e-02</td>\n      <td>31</td>\n    </tr>\n    <tr>\n      <th>38</th>\n      <td>2.770671</td>\n      <td>1.149385</td>\n      <td>0.018201</td>\n      <td>0.003816</td>\n      <td>0.097474</td>\n      <td>invscaling</td>\n      <td>squared_error</td>\n      <td>l1</td>\n      <td>{'model__alpha': 0.0974739606502418, 'model__l...</td>\n      <td>3.749619e-01</td>\n      <td>3.684464e-01</td>\n      <td>3.248664e-01</td>\n      <td>3.687406e-01</td>\n      <td>3.835087e-01</td>\n      <td>3.641048e-01</td>\n      <td>2.036850e-02</td>\n      <td>32</td>\n    </tr>\n    <tr>\n      <th>47</th>\n      <td>3.290080</td>\n      <td>1.565327</td>\n      <td>0.025019</td>\n      <td>0.008439</td>\n      <td>0.1</td>\n      <td>invscaling</td>\n      <td>squared_error</td>\n      <td>l1</td>\n      <td>{'model__alpha': 0.1, 'model__learning_rate': ...</td>\n      <td>3.714460e-01</td>\n      <td>3.633382e-01</td>\n      <td>3.182060e-01</td>\n      <td>3.653758e-01</td>\n      <td>3.813636e-01</td>\n      <td>3.599459e-01</td>\n      <td>2.179075e-02</td>\n      <td>33</td>\n    </tr>\n    <tr>\n      <th>39</th>\n      <td>2.746984</td>\n      <td>1.303795</td>\n      <td>0.018604</td>\n      <td>0.002521</td>\n      <td>0.1</td>\n      <td>invscaling</td>\n      <td>squared_error</td>\n      <td>l1</td>\n      <td>{'model__alpha': 0.1, 'model__learning_rate': ...</td>\n      <td>3.714460e-01</td>\n      <td>3.633382e-01</td>\n      <td>3.182060e-01</td>\n      <td>3.653758e-01</td>\n      <td>3.813636e-01</td>\n      <td>3.599459e-01</td>\n      <td>2.179075e-02</td>\n      <td>33</td>\n    </tr>\n    <tr>\n      <th>44</th>\n      <td>2.924515</td>\n      <td>1.368393</td>\n      <td>0.020125</td>\n      <td>0.002969</td>\n      <td>0.1</td>\n      <td>invscaling</td>\n      <td>squared_error</td>\n      <td>l1</td>\n      <td>{'model__alpha': 0.1, 'model__learning_rate': ...</td>\n      <td>3.714460e-01</td>\n      <td>3.633382e-01</td>\n      <td>3.182060e-01</td>\n      <td>3.653758e-01</td>\n      <td>3.813636e-01</td>\n      <td>3.599459e-01</td>\n      <td>2.179075e-02</td>\n      <td>33</td>\n    </tr>\n    <tr>\n      <th>43</th>\n      <td>2.948409</td>\n      <td>1.331017</td>\n      <td>0.016949</td>\n      <td>0.002958</td>\n      <td>0.1</td>\n      <td>invscaling</td>\n      <td>squared_error</td>\n      <td>l1</td>\n      <td>{'model__alpha': 0.1, 'model__learning_rate': ...</td>\n      <td>3.714460e-01</td>\n      <td>3.633382e-01</td>\n      <td>3.182060e-01</td>\n      <td>3.653758e-01</td>\n      <td>3.813636e-01</td>\n      <td>3.599459e-01</td>\n      <td>2.179075e-02</td>\n      <td>33</td>\n    </tr>\n    <tr>\n      <th>41</th>\n      <td>2.829447</td>\n      <td>1.264029</td>\n      <td>0.017409</td>\n      <td>0.003514</td>\n      <td>0.1</td>\n      <td>invscaling</td>\n      <td>squared_error</td>\n      <td>l1</td>\n      <td>{'model__alpha': 0.1, 'model__learning_rate': ...</td>\n      <td>3.714460e-01</td>\n      <td>3.633382e-01</td>\n      <td>3.182060e-01</td>\n      <td>3.653758e-01</td>\n      <td>3.813636e-01</td>\n      <td>3.599459e-01</td>\n      <td>2.179075e-02</td>\n      <td>33</td>\n    </tr>\n    <tr>\n      <th>49</th>\n      <td>2.633453</td>\n      <td>1.317471</td>\n      <td>0.018259</td>\n      <td>0.002362</td>\n      <td>0.1</td>\n      <td>invscaling</td>\n      <td>squared_error</td>\n      <td>l1</td>\n      <td>{'model__alpha': 0.1, 'model__learning_rate': ...</td>\n      <td>3.714460e-01</td>\n      <td>3.633382e-01</td>\n      <td>3.182060e-01</td>\n      <td>3.653758e-01</td>\n      <td>3.813636e-01</td>\n      <td>3.599459e-01</td>\n      <td>2.179075e-02</td>\n      <td>33</td>\n    </tr>\n    <tr>\n      <th>48</th>\n      <td>3.032438</td>\n      <td>1.419197</td>\n      <td>0.020424</td>\n      <td>0.003328</td>\n      <td>0.1</td>\n      <td>invscaling</td>\n      <td>squared_error</td>\n      <td>l1</td>\n      <td>{'model__alpha': 0.1, 'model__learning_rate': ...</td>\n      <td>3.714460e-01</td>\n      <td>3.633382e-01</td>\n      <td>3.182060e-01</td>\n      <td>3.653758e-01</td>\n      <td>3.813636e-01</td>\n      <td>3.599459e-01</td>\n      <td>2.179075e-02</td>\n      <td>33</td>\n    </tr>\n    <tr>\n      <th>2</th>\n      <td>16.667865</td>\n      <td>3.965409</td>\n      <td>0.020609</td>\n      <td>0.003607</td>\n      <td>0.000168</td>\n      <td>optimal</td>\n      <td>epsilon_insensitive</td>\n      <td>l1</td>\n      <td>{'model__alpha': 0.00016755699440936588, 'mode...</td>\n      <td>1.445558e-01</td>\n      <td>3.482180e-01</td>\n      <td>3.812067e-01</td>\n      <td>2.570157e-01</td>\n      <td>3.462877e-02</td>\n      <td>2.331250e-01</td>\n      <td>1.288337e-01</td>\n      <td>40</td>\n    </tr>\n    <tr>\n      <th>36</th>\n      <td>2.057663</td>\n      <td>0.876528</td>\n      <td>0.022802</td>\n      <td>0.003718</td>\n      <td>0.081432</td>\n      <td>invscaling</td>\n      <td>squared_error</td>\n      <td>l1</td>\n      <td>{'model__alpha': 0.08143202044388047, 'model__...</td>\n      <td>3.956215e-01</td>\n      <td>3.839601e-01</td>\n      <td>-3.123356e+04</td>\n      <td>3.881903e-01</td>\n      <td>3.834941e-01</td>\n      <td>-6.246403e+03</td>\n      <td>1.249358e+04</td>\n      <td>41</td>\n    </tr>\n    <tr>\n      <th>31</th>\n      <td>1.809627</td>\n      <td>0.742335</td>\n      <td>0.015798</td>\n      <td>0.001166</td>\n      <td>0.075009</td>\n      <td>invscaling</td>\n      <td>squared_error</td>\n      <td>l1</td>\n      <td>{'model__alpha': 0.0750090445768677, 'model__l...</td>\n      <td>4.050737e-01</td>\n      <td>3.938055e-01</td>\n      <td>-4.164030e+04</td>\n      <td>3.961276e-01</td>\n      <td>3.901970e-01</td>\n      <td>-8.327744e+03</td>\n      <td>1.665628e+04</td>\n      <td>42</td>\n    </tr>\n    <tr>\n      <th>8</th>\n      <td>2.006558</td>\n      <td>0.811653</td>\n      <td>0.017113</td>\n      <td>0.003194</td>\n      <td>0.059895</td>\n      <td>invscaling</td>\n      <td>squared_error</td>\n      <td>l1</td>\n      <td>{'model__alpha': 0.05989491205267932, 'model__...</td>\n      <td>4.310465e-01</td>\n      <td>4.110119e-01</td>\n      <td>-7.276764e+04</td>\n      <td>4.145504e-01</td>\n      <td>4.107090e-01</td>\n      <td>-1.455319e+04</td>\n      <td>2.910722e+04</td>\n      <td>43</td>\n    </tr>\n    <tr>\n      <th>37</th>\n      <td>2.488684</td>\n      <td>1.021271</td>\n      <td>0.020200</td>\n      <td>0.003870</td>\n      <td>0.055955</td>\n      <td>invscaling</td>\n      <td>squared_error</td>\n      <td>l1</td>\n      <td>{'model__alpha': 0.05595465566416238, 'model__...</td>\n      <td>4.402953e-01</td>\n      <td>4.145811e-01</td>\n      <td>-8.258654e+04</td>\n      <td>4.198467e-01</td>\n      <td>4.162458e-01</td>\n      <td>-1.651697e+04</td>\n      <td>3.303479e+04</td>\n      <td>44</td>\n    </tr>\n    <tr>\n      <th>46</th>\n      <td>2.349790</td>\n      <td>1.179401</td>\n      <td>0.023135</td>\n      <td>0.004464</td>\n      <td>0.055156</td>\n      <td>invscaling</td>\n      <td>squared_error</td>\n      <td>l1</td>\n      <td>{'model__alpha': 0.05515649965356307, 'model__...</td>\n      <td>4.419178e-01</td>\n      <td>4.155666e-01</td>\n      <td>-8.467050e+04</td>\n      <td>4.209449e-01</td>\n      <td>4.173651e-01</td>\n      <td>-1.693376e+04</td>\n      <td>3.386837e+04</td>\n      <td>45</td>\n    </tr>\n    <tr>\n      <th>30</th>\n      <td>2.470035</td>\n      <td>1.416515</td>\n      <td>0.020533</td>\n      <td>0.003218</td>\n      <td>0.02902</td>\n      <td>invscaling</td>\n      <td>squared_error</td>\n      <td>l1</td>\n      <td>{'model__alpha': 0.029020215406375272, 'model_...</td>\n      <td>4.898665e-01</td>\n      <td>4.680102e-01</td>\n      <td>-1.713414e+05</td>\n      <td>4.668747e-01</td>\n      <td>4.591493e-01</td>\n      <td>-3.426790e+04</td>\n      <td>6.853673e+04</td>\n      <td>46</td>\n    </tr>\n    <tr>\n      <th>0</th>\n      <td>0.922075</td>\n      <td>0.632174</td>\n      <td>0.016417</td>\n      <td>0.001729</td>\n      <td>0.000112</td>\n      <td>invscaling</td>\n      <td>squared_error</td>\n      <td>l1</td>\n      <td>{'model__alpha': 0.00011233621690895234, 'mode...</td>\n      <td>-1.338678e+02</td>\n      <td>-1.391074e+03</td>\n      <td>-3.130546e+05</td>\n      <td>1.121702e-01</td>\n      <td>4.578252e-01</td>\n      <td>-6.291580e+04</td>\n      <td>1.250705e+05</td>\n      <td>47</td>\n    </tr>\n    <tr>\n      <th>9</th>\n      <td>1.549024</td>\n      <td>0.557375</td>\n      <td>0.016753</td>\n      <td>0.003162</td>\n      <td>0.000001</td>\n      <td>invscaling</td>\n      <td>squared_epsilon_insensitive</td>\n      <td>l1</td>\n      <td>{'model__alpha': 1.0426811836320545e-06, 'mode...</td>\n      <td>-5.145138e+19</td>\n      <td>-1.447132e+19</td>\n      <td>-8.142712e+19</td>\n      <td>-1.143118e+18</td>\n      <td>-3.468368e+18</td>\n      <td>-3.039226e+19</td>\n      <td>3.124717e+19</td>\n      <td>48</td>\n    </tr>\n    <tr>\n      <th>3</th>\n      <td>0.563486</td>\n      <td>0.014549</td>\n      <td>0.039346</td>\n      <td>0.004335</td>\n      <td>0.011534</td>\n      <td>constant</td>\n      <td>squared_epsilon_insensitive</td>\n      <td>l2</td>\n      <td>{'model__alpha': 0.011533999859559564, 'model_...</td>\n      <td>-2.268355e+24</td>\n      <td>-1.954568e+24</td>\n      <td>-2.066342e+24</td>\n      <td>-2.838396e+24</td>\n      <td>-1.724218e+24</td>\n      <td>-2.170376e+24</td>\n      <td>3.774396e+23</td>\n      <td>49</td>\n    </tr>\n    <tr>\n      <th>4</th>\n      <td>0.793587</td>\n      <td>0.018022</td>\n      <td>0.032679</td>\n      <td>0.002453</td>\n      <td>0.009949</td>\n      <td>constant</td>\n      <td>squared_epsilon_insensitive</td>\n      <td>l1</td>\n      <td>{'model__alpha': 0.009948719998234101, 'model_...</td>\n      <td>-3.028280e+24</td>\n      <td>-2.267545e+24</td>\n      <td>-2.135015e+24</td>\n      <td>-3.026979e+24</td>\n      <td>-2.516325e+24</td>\n      <td>-2.594829e+24</td>\n      <td>3.739894e+23</td>\n      <td>50</td>\n    </tr>\n  </tbody>\n</table>\n</div>"
     },
     "execution_count": 55,
     "metadata": {},
     "output_type": "execute_result"
    }
   ],
   "source": [
    "sgdr_grid_search_dataframe = pd.DataFrame(\n",
    "    np.load(\"Dataset_Files/Baseline_Models/Regression/optimised_sgdr_cv_results.npy\", allow_pickle=True).tolist())\n",
    "sgdr_grid_search_dataframe.sort_values(by=[\"rank_test_score\"], inplace=True)\n",
    "sgdr_grid_search_dataframe"
   ],
   "metadata": {
    "collapsed": false,
    "pycharm": {
     "name": "#%%\n"
    }
   }
  },
  {
   "cell_type": "markdown",
   "source": [
    "### Testing"
   ],
   "metadata": {
    "collapsed": false,
    "pycharm": {
     "name": "#%% md\n"
    }
   }
  },
  {
   "cell_type": "code",
   "execution_count": 56,
   "outputs": [
    {
     "name": "stdout",
     "output_type": "stream",
     "text": [
      "Metrics after 1000 bootstrapped samples of size 50\n",
      "--------------------------------------------------------\n",
      "Median Negated-MAE: -2.50 with a 95% confidence interval of [-3.13,-1.95]\n",
      "Median R2: -1.12 with a 95% confidence interval of [-2.85,-0.17]\n"
     ]
    }
   ],
   "source": [
    "get_confidence_intervals(optimised_sgdr, X_test, y_test, 50, \"Regression\")"
   ],
   "metadata": {
    "collapsed": false,
    "pycharm": {
     "name": "#%%\n"
    }
   }
  }
 ],
 "metadata": {
  "kernelspec": {
   "display_name": "Python 3",
   "language": "python",
   "name": "python3"
  },
  "language_info": {
   "codemirror_mode": {
    "name": "ipython",
    "version": 2
   },
   "file_extension": ".py",
   "mimetype": "text/x-python",
   "name": "python",
   "nbconvert_exporter": "python",
   "pygments_lexer": "ipython2",
   "version": "2.7.6"
  }
 },
 "nbformat": 4,
 "nbformat_minor": 0
}