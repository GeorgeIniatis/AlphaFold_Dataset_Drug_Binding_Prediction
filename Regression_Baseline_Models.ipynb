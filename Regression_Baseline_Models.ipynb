{
 "cells": [
  {
   "cell_type": "markdown",
   "source": [
    "# Imports"
   ],
   "metadata": {
    "collapsed": false,
    "pycharm": {
     "name": "#%% md\n"
    }
   }
  },
  {
   "cell_type": "code",
   "execution_count": null,
   "outputs": [],
   "source": [
    "# General Imports\n",
    "from models_utils import *\n",
    "\n",
    "# Regression Models\n",
    "from sklearn.dummy import DummyRegressor\n",
    "from sklearn.neighbors import KNeighborsRegressor\n",
    "from sklearn.linear_model import LinearRegression, SGDRegressor\n",
    "from sklearn.ensemble import RandomForestRegressor\n",
    "from sklearn.tree import DecisionTreeRegressor\n",
    "from sklearn.svm import SVR"
   ],
   "metadata": {
    "collapsed": false,
    "pycharm": {
     "name": "#%%\n"
    }
   }
  },
  {
   "cell_type": "markdown",
   "source": [
    "# Training & Test Sets\n"
   ],
   "metadata": {
    "collapsed": false,
    "pycharm": {
     "name": "#%% md\n"
    }
   }
  },
  {
   "cell_type": "code",
   "execution_count": null,
   "outputs": [],
   "source": [
    "feature_selection_columns = load_from_pickle(\"Training_Test_Sets/Regression/X_train_feature_selection\").loc[:,\n",
    "                            \"MolecularWeight\":].columns"
   ],
   "metadata": {
    "collapsed": false,
    "pycharm": {
     "name": "#%%\n"
    }
   }
  },
  {
   "cell_type": "code",
   "execution_count": null,
   "outputs": [],
   "source": [
    "X_train = load_from_pickle(\"Training_Test_Sets/Regression/X_train_feature_selection\")\n",
    "X_train.drop(columns=[\"Protein_Accession\", \"Drug_CID\", \"Activity_Name\"], inplace=True)\n",
    "X_train = X_train.to_numpy()\n",
    "\n",
    "y_train = load_from_pickle(\"Training_Test_Sets/Regression/y_train\")\n",
    "y_train_binary = y_train.loc[:, \"Activity_Binary\"]\n",
    "y_train.drop(columns=[\"Activity_Binary\"], inplace=True)\n",
    "y_train = y_train.to_numpy()"
   ],
   "metadata": {
    "collapsed": false,
    "pycharm": {
     "name": "#%%\n"
    }
   }
  },
  {
   "cell_type": "code",
   "execution_count": null,
   "outputs": [],
   "source": [
    "X_test = load_from_pickle(\"Training_Test_Sets/Regression/X_test_feature_selection\")\n",
    "X_test.drop(columns=[\"Protein_Accession\", \"Drug_CID\", \"Activity_Name\"], inplace=True)\n",
    "X_test = X_test.to_numpy()\n",
    "\n",
    "y_test = load_from_pickle(\"Training_Test_Sets/Regression/y_test\")\n",
    "y_test_binary = y_test.loc[:, \"Activity_Binary\"]\n",
    "y_test.drop(columns=[\"Activity_Binary\"], inplace=True)\n",
    "y_test = y_test.to_numpy()"
   ],
   "metadata": {
    "collapsed": false,
    "pycharm": {
     "name": "#%%\n"
    }
   }
  },
  {
   "cell_type": "code",
   "execution_count": null,
   "outputs": [],
   "source": [
    "# Useful Information & Sanity Checks\n",
    "print(f\"X_train shape: {X_train.shape}\")\n",
    "print(f\"y_train shape: {y_train.shape[0]} \", end=\"\")\n",
    "print(f\"(Binding Count: {y_train_binary[y_train_binary == 1].shape[0]}, \", end=\"\")\n",
    "print(f\"Non-Binding Count: {y_train_binary[y_train_binary == 0].shape[0]})\")\n",
    "\n",
    "print(f\"X_test shape: {X_test.shape}\")\n",
    "print(f\"y_test shape: {y_test.shape[0]} \", end=\"\")\n",
    "print(f\"(Binding Count: {y_test_binary[y_test_binary == 1].shape[0]}, \", end=\"\")\n",
    "print(f\"Non-Binding Count: {y_test_binary[y_test_binary == 0].shape[0]})\")"
   ],
   "metadata": {
    "collapsed": false,
    "pycharm": {
     "name": "#%%\n"
    }
   }
  },
  {
   "cell_type": "markdown",
   "source": [
    "# Model Training & Testing"
   ],
   "metadata": {
    "collapsed": false,
    "pycharm": {
     "name": "#%% md\n"
    }
   }
  },
  {
   "cell_type": "code",
   "execution_count": null,
   "outputs": [],
   "source": [
    "def on_step(optim_result):\n",
    "    global index\n",
    "    print(f\"Iteration Completed: {index}\")\n",
    "    index += 1"
   ],
   "metadata": {
    "collapsed": false,
    "pycharm": {
     "name": "#%%\n"
    }
   }
  },
  {
   "cell_type": "markdown",
   "source": [
    "## Dummy Regressor (DR)"
   ],
   "metadata": {
    "collapsed": false,
    "pycharm": {
     "name": "#%% md\n"
    }
   }
  },
  {
   "cell_type": "code",
   "execution_count": null,
   "outputs": [],
   "source": [
    "dummy_regressor = Pipeline(\n",
    "    [\n",
    "        ('scale', StandardScaler()),\n",
    "        ('model', DummyRegressor()),\n",
    "    ]\n",
    ")\n",
    "dummy_regressor.get_params()"
   ],
   "metadata": {
    "collapsed": false,
    "pycharm": {
     "name": "#%%\n"
    }
   }
  },
  {
   "cell_type": "markdown",
   "source": [
    "### Training"
   ],
   "metadata": {
    "collapsed": false,
    "pycharm": {
     "name": "#%% md\n"
    }
   }
  },
  {
   "cell_type": "code",
   "execution_count": null,
   "outputs": [],
   "source": [
    "dummy_regressor.fit(X_train, y_train)\n",
    "\n",
    "y_train_pred = dummy_regressor.predict(X_train)\n",
    "calculate_metrics_regression(y_train, y_train_pred)\n",
    "\n",
    "# Save Model\n",
    "dump(dummy_regressor, 'Dataset_Files/Baseline_Models/Regression/dr.joblib')"
   ],
   "metadata": {
    "collapsed": false,
    "pycharm": {
     "name": "#%%\n"
    }
   }
  },
  {
   "cell_type": "code",
   "execution_count": null,
   "outputs": [],
   "source": [
    "# Load Model\n",
    "dummy_regressor = load('Dataset_Files/Baseline_Models/Regression/dr.joblib')"
   ],
   "metadata": {
    "collapsed": false,
    "pycharm": {
     "name": "#%%\n"
    }
   }
  },
  {
   "cell_type": "code",
   "execution_count": null,
   "outputs": [],
   "source": [
    "y_train_pred = dummy_regressor.predict(X_train)\n",
    "calculate_metrics_regression(y_train, y_train_pred)"
   ],
   "metadata": {
    "collapsed": false,
    "pycharm": {
     "name": "#%%\n"
    }
   }
  },
  {
   "cell_type": "markdown",
   "source": [
    "### Testing"
   ],
   "metadata": {
    "collapsed": false,
    "pycharm": {
     "name": "#%% md\n"
    }
   }
  },
  {
   "cell_type": "code",
   "execution_count": null,
   "outputs": [],
   "source": [
    "y_test_pred = dummy_regressor.predict(X_test)\n",
    "calculate_metrics_regression(y_test, y_test_pred)"
   ],
   "metadata": {
    "collapsed": false,
    "pycharm": {
     "name": "#%%\n"
    }
   }
  },
  {
   "cell_type": "markdown",
   "source": [
    "## Linear Regression (LR)"
   ],
   "metadata": {
    "collapsed": false,
    "pycharm": {
     "name": "#%% md\n"
    }
   }
  },
  {
   "cell_type": "code",
   "execution_count": null,
   "outputs": [],
   "source": [
    "linear_regression = Pipeline(\n",
    "    [\n",
    "        ('scale', StandardScaler()),\n",
    "        ('model', LinearRegression(n_jobs=-1))\n",
    "    ]\n",
    ")\n",
    "linear_regression.get_params()"
   ],
   "metadata": {
    "collapsed": false,
    "pycharm": {
     "name": "#%%\n"
    }
   }
  },
  {
   "cell_type": "markdown",
   "source": [
    "### Training"
   ],
   "metadata": {
    "collapsed": false,
    "pycharm": {
     "name": "#%% md\n"
    }
   }
  },
  {
   "cell_type": "code",
   "execution_count": null,
   "outputs": [],
   "source": [
    "linear_regression.fit(X_train, y_train)\n",
    "\n",
    "y_train_pred = linear_regression.predict(X_train)\n",
    "calculate_metrics_regression(y_train, y_train_pred)\n",
    "\n",
    "# Save Model\n",
    "dump(linear_regression, 'Dataset_Files/Baseline_Models/Regression/lr.joblib')"
   ],
   "metadata": {
    "collapsed": false,
    "pycharm": {
     "name": "#%%\n"
    }
   }
  },
  {
   "cell_type": "code",
   "execution_count": null,
   "outputs": [],
   "source": [
    "# Load Model\n",
    "linear_regression = load('Dataset_Files/Baseline_Models/Regression/lr.joblib')"
   ],
   "metadata": {
    "collapsed": false,
    "pycharm": {
     "name": "#%%\n"
    }
   }
  },
  {
   "cell_type": "code",
   "execution_count": null,
   "outputs": [],
   "source": [
    "y_train_pred = linear_regression.predict(X_train)\n",
    "calculate_metrics_regression(y_train, y_train_pred)"
   ],
   "metadata": {
    "collapsed": false,
    "pycharm": {
     "name": "#%%\n"
    }
   }
  },
  {
   "cell_type": "markdown",
   "source": [
    "### Testing"
   ],
   "metadata": {
    "collapsed": false,
    "pycharm": {
     "name": "#%% md\n"
    }
   }
  },
  {
   "cell_type": "code",
   "execution_count": null,
   "outputs": [],
   "source": [
    "y_test_pred = linear_regression.predict(X_test)\n",
    "calculate_metrics_regression(y_test, y_test_pred)"
   ],
   "metadata": {
    "collapsed": false,
    "pycharm": {
     "name": "#%%\n"
    }
   }
  },
  {
   "cell_type": "markdown",
   "source": [
    "## Support Vector Regression (SVR)"
   ],
   "metadata": {
    "collapsed": false,
    "pycharm": {
     "name": "#%% md\n"
    }
   }
  },
  {
   "cell_type": "code",
   "execution_count": null,
   "outputs": [],
   "source": [
    "pipe = Pipeline(\n",
    "    [\n",
    "        ('scale', StandardScaler()),\n",
    "        ('model', SVR())\n",
    "    ]\n",
    ")\n",
    "pipe.get_params()"
   ],
   "metadata": {
    "collapsed": false,
    "pycharm": {
     "name": "#%%\n"
    }
   }
  },
  {
   "cell_type": "code",
   "execution_count": null,
   "outputs": [],
   "source": [
    "model = BayesSearchCV(estimator=pipe,\n",
    "                      search_spaces={\n",
    "                          'model__kernel': Categorical(['linear', 'poly', 'rbf', 'sigmoid', 'precomputed']),\n",
    "                          'model__degree': Integer(2, 8),\n",
    "                          'model_gamma': Categorical(['scale', 'auto']),\n",
    "                      },\n",
    "                      scoring='r2',\n",
    "                      cv=10,\n",
    "                      error_score=np.nan,\n",
    "                      n_jobs=-1,\n",
    "                      pre_dispatch='2*n_jobs',\n",
    "                      random_state=42)"
   ],
   "metadata": {
    "collapsed": false,
    "pycharm": {
     "name": "#%%\n"
    }
   }
  },
  {
   "cell_type": "markdown",
   "source": [
    "### Training"
   ],
   "metadata": {
    "collapsed": false,
    "pycharm": {
     "name": "#%% md\n"
    }
   }
  },
  {
   "cell_type": "code",
   "execution_count": null,
   "outputs": [],
   "source": [
    "index = 1\n",
    "model.fit(X_train, y_train, callback=on_step)\n",
    "\n",
    "optimised_svr = model.best_estimator_\n",
    "\n",
    "y_train_pred = optimised_svr.predict(X_train)\n",
    "calculate_metrics_regression(y_train, y_train_pred)\n",
    "\n",
    "# Save Model & CV Results\n",
    "dump(optimised_svr, 'Dataset_Files/Baseline_Models/Regression/optimised_svr.joblib')\n",
    "np.save(\"Dataset_Files/Baseline_Models/Regression/optimised_svr_cv_results.npy\", model.cv_results_)"
   ],
   "metadata": {
    "collapsed": false,
    "pycharm": {
     "name": "#%%\n"
    }
   }
  },
  {
   "cell_type": "code",
   "execution_count": null,
   "outputs": [],
   "source": [
    "# Load Model\n",
    "optimised_svr = load('Dataset_Files/Baseline_Models/Regression/optimised_svr.joblib')"
   ],
   "metadata": {
    "collapsed": false,
    "pycharm": {
     "name": "#%%\n"
    }
   }
  },
  {
   "cell_type": "code",
   "execution_count": null,
   "outputs": [],
   "source": [
    "y_train_pred = optimised_svr.predict(X_train)\n",
    "calculate_metrics_regression(y_train, y_train_pred)"
   ],
   "metadata": {
    "collapsed": false,
    "pycharm": {
     "name": "#%%\n"
    }
   }
  },
  {
   "cell_type": "code",
   "execution_count": null,
   "outputs": [],
   "source": [
    "optimised_svr.get_params()"
   ],
   "metadata": {
    "collapsed": false,
    "pycharm": {
     "name": "#%%\n"
    }
   }
  },
  {
   "cell_type": "code",
   "execution_count": null,
   "outputs": [],
   "source": [
    "svr_grid_search_dataframe = pd.DataFrame(\n",
    "    np.load(\"Dataset_Files/Baseline_Models/Regression/optimised_svr_cv_results.npy\", allow_pickle=True).tolist())\n",
    "svr_grid_search_dataframe.sort_values(by=[\"rank_test_score\"], inplace=True)\n",
    "svr_grid_search_dataframe"
   ],
   "metadata": {
    "collapsed": false,
    "pycharm": {
     "name": "#%%\n"
    }
   }
  },
  {
   "cell_type": "markdown",
   "source": [
    "### Testing"
   ],
   "metadata": {
    "collapsed": false,
    "pycharm": {
     "name": "#%% md\n"
    }
   }
  },
  {
   "cell_type": "code",
   "execution_count": null,
   "outputs": [],
   "source": [
    "y_test_pred = optimised_svr.predict(X_test)\n",
    "calculate_metrics_regression(y_test, y_test_pred)"
   ],
   "metadata": {
    "collapsed": false,
    "pycharm": {
     "name": "#%%\n"
    }
   }
  },
  {
   "cell_type": "markdown",
   "source": [
    "## K-Nearest Neighbors Regressor (KNNR)"
   ],
   "metadata": {
    "collapsed": false,
    "pycharm": {
     "name": "#%% md\n"
    }
   }
  },
  {
   "cell_type": "code",
   "execution_count": null,
   "outputs": [],
   "source": [
    "pipe = Pipeline(\n",
    "    [\n",
    "        ('scale', StandardScaler()),\n",
    "        ('model', KNeighborsRegressor())\n",
    "    ]\n",
    ")\n",
    "pipe.get_params()"
   ],
   "metadata": {
    "collapsed": false,
    "pycharm": {
     "name": "#%%\n"
    }
   }
  },
  {
   "cell_type": "code",
   "execution_count": null,
   "outputs": [],
   "source": [
    "model = BayesSearchCV(estimator=pipe,\n",
    "                      search_spaces={\n",
    "                          'model__n_neighbors': Integer(4, 20),\n",
    "                          'model__weights': Categorical(['uniform', 'distance']),\n",
    "                          'model__algorithm': Categorical(['auto', 'ball_tree', 'kd_tree', 'brute']),\n",
    "                      },\n",
    "                      scoring='r2',\n",
    "                      cv=10,\n",
    "                      error_score=np.nan,\n",
    "                      n_jobs=-1,\n",
    "                      pre_dispatch='2*n_jobs',\n",
    "                      random_state=42)"
   ],
   "metadata": {
    "collapsed": false,
    "pycharm": {
     "name": "#%%\n"
    }
   }
  },
  {
   "cell_type": "markdown",
   "source": [
    "### Training"
   ],
   "metadata": {
    "collapsed": false,
    "pycharm": {
     "name": "#%% md\n"
    }
   }
  },
  {
   "cell_type": "code",
   "execution_count": null,
   "outputs": [],
   "source": [
    "index = 1\n",
    "model.fit(X_train, y_train, callback=on_step)\n",
    "\n",
    "optimised_knnr = model.best_estimator_\n",
    "\n",
    "y_train_pred = optimised_knnr.predict(X_train)\n",
    "calculate_metrics_regression(y_train, y_train_pred)\n",
    "\n",
    "# Save Model & CV Results\n",
    "dump(optimised_svr, 'Dataset_Files/Baseline_Models/Regression/optimised_knnr.joblib')\n",
    "np.save(\"Dataset_Files/Baseline_Models/Regression/optimised_knnr_cv_results.npy\", model.cv_results_)"
   ],
   "metadata": {
    "collapsed": false,
    "pycharm": {
     "name": "#%%\n"
    }
   }
  },
  {
   "cell_type": "code",
   "execution_count": null,
   "outputs": [],
   "source": [
    "# Load Model\n",
    "optimised_knnr = load('Dataset_Files/Baseline_Models/Regression/optimised_knnr.joblib')"
   ],
   "metadata": {
    "collapsed": false,
    "pycharm": {
     "name": "#%%\n"
    }
   }
  },
  {
   "cell_type": "code",
   "execution_count": null,
   "outputs": [],
   "source": [
    "y_train_pred = optimised_knnr.predict(X_train)\n",
    "calculate_metrics_regression(y_train, y_train_pred)"
   ],
   "metadata": {
    "collapsed": false,
    "pycharm": {
     "name": "#%%\n"
    }
   }
  },
  {
   "cell_type": "code",
   "execution_count": null,
   "outputs": [],
   "source": [
    "optimised_knnr.get_params()"
   ],
   "metadata": {
    "collapsed": false,
    "pycharm": {
     "name": "#%%\n"
    }
   }
  },
  {
   "cell_type": "code",
   "execution_count": null,
   "outputs": [],
   "source": [
    "knnr_grid_search_dataframe = pd.DataFrame(\n",
    "    np.load(\"Dataset_Files/Baseline_Models/Regression/optimised_knnr_cv_results.npy\", allow_pickle=True).tolist())\n",
    "knnr_grid_search_dataframe.sort_values(by=[\"rank_test_score\"], inplace=True)\n",
    "knnr_grid_search_dataframe"
   ],
   "metadata": {
    "collapsed": false,
    "pycharm": {
     "name": "#%%\n"
    }
   }
  },
  {
   "cell_type": "markdown",
   "source": [
    "### Testing"
   ],
   "metadata": {
    "collapsed": false,
    "pycharm": {
     "name": "#%% md\n"
    }
   }
  },
  {
   "cell_type": "code",
   "execution_count": null,
   "outputs": [],
   "source": [
    "y_test_pred = optimised_knnr.predict(X_test)\n",
    "calculate_metrics_regression(y_test, y_test_pred)"
   ],
   "metadata": {
    "collapsed": false,
    "pycharm": {
     "name": "#%%\n"
    }
   }
  },
  {
   "cell_type": "markdown",
   "source": [
    "## Decision Tree Regressor (DTR)"
   ],
   "metadata": {
    "collapsed": false,
    "pycharm": {
     "name": "#%% md\n"
    }
   }
  },
  {
   "cell_type": "code",
   "execution_count": null,
   "outputs": [],
   "source": [
    "pipe = Pipeline(\n",
    "    [\n",
    "        ('scale', StandardScaler()),\n",
    "        ('model', DecisionTreeRegressor(random_state=0))\n",
    "    ]\n",
    ")\n",
    "pipe.get_params()"
   ],
   "metadata": {
    "collapsed": false,
    "pycharm": {
     "name": "#%%\n"
    }
   }
  },
  {
   "cell_type": "code",
   "execution_count": null,
   "outputs": [],
   "source": [
    "model = BayesSearchCV(estimator=pipe,\n",
    "                      search_spaces={\n",
    "                          'model__criterion': Categorical(\n",
    "                              ['squared_error', 'friedman_mse', 'absolute_error', 'poisson']),\n",
    "                          'model__splitter': Categorical(['best', 'random']),\n",
    "                          'model__max_features': Categorical(['auto', 'sqrt', 'log2']),\n",
    "                      },\n",
    "                      scoring='r2',\n",
    "                      cv=10,\n",
    "                      error_score=np.nan,\n",
    "                      n_jobs=-1,\n",
    "                      pre_dispatch='2*n_jobs',\n",
    "                      random_state=42)"
   ],
   "metadata": {
    "collapsed": false,
    "pycharm": {
     "name": "#%%\n"
    }
   }
  },
  {
   "cell_type": "markdown",
   "source": [
    "### Training"
   ],
   "metadata": {
    "collapsed": false,
    "pycharm": {
     "name": "#%% md\n"
    }
   }
  },
  {
   "cell_type": "code",
   "execution_count": null,
   "outputs": [],
   "source": [
    "index = 1\n",
    "model.fit(X_train, y_train, callback=on_step)\n",
    "\n",
    "optimised_dtr = model.best_estimator_\n",
    "\n",
    "y_train_pred = optimised_dtr.predict(X_train)\n",
    "calculate_metrics_regression(y_train, y_train_pred)\n",
    "\n",
    "# Save Model & CV Results\n",
    "dump(optimised_svr, 'Dataset_Files/Baseline_Models/Regression/optimised_dtr.joblib')\n",
    "np.save(\"Dataset_Files/Baseline_Models/Regression/optimised_dtr_cv_results.npy\", model.cv_results_)"
   ],
   "metadata": {
    "collapsed": false,
    "pycharm": {
     "name": "#%%\n"
    }
   }
  },
  {
   "cell_type": "code",
   "execution_count": null,
   "outputs": [],
   "source": [
    "# Load Model\n",
    "optimised_dtr = load('Dataset_Files/Baseline_Models/Regression/optimised_dtr.joblib')"
   ],
   "metadata": {
    "collapsed": false,
    "pycharm": {
     "name": "#%%\n"
    }
   }
  },
  {
   "cell_type": "code",
   "execution_count": null,
   "outputs": [],
   "source": [
    "y_train_pred = optimised_dtr.predict(X_train)\n",
    "calculate_metrics_regression(y_train, y_train_pred)"
   ],
   "metadata": {
    "collapsed": false,
    "pycharm": {
     "name": "#%%\n"
    }
   }
  },
  {
   "cell_type": "code",
   "execution_count": null,
   "outputs": [],
   "source": [
    "optimised_dtr.get_params()"
   ],
   "metadata": {
    "collapsed": false,
    "pycharm": {
     "name": "#%%\n"
    }
   }
  },
  {
   "cell_type": "code",
   "execution_count": null,
   "outputs": [],
   "source": [
    "dtr_grid_search_dataframe = pd.DataFrame(\n",
    "    np.load(\"Dataset_Files/Baseline_Models/Regression/optimised_dtr_cv_results.npy\", allow_pickle=True).tolist())\n",
    "dtr_grid_search_dataframe.sort_values(by=[\"rank_test_score\"], inplace=True)\n",
    "dtr_grid_search_dataframe"
   ],
   "metadata": {
    "collapsed": false,
    "pycharm": {
     "name": "#%%\n"
    }
   }
  },
  {
   "cell_type": "markdown",
   "source": [
    "### Testing"
   ],
   "metadata": {
    "collapsed": false,
    "pycharm": {
     "name": "#%% md\n"
    }
   }
  },
  {
   "cell_type": "code",
   "execution_count": null,
   "outputs": [],
   "source": [
    "y_test_pred = optimised_dtr.predict(X_test)\n",
    "calculate_metrics_regression(y_test, y_test_pred)"
   ],
   "metadata": {
    "collapsed": false,
    "pycharm": {
     "name": "#%%\n"
    }
   }
  },
  {
   "cell_type": "markdown",
   "source": [
    "## Random Forest Regressor (RFR)"
   ],
   "metadata": {
    "collapsed": false,
    "pycharm": {
     "name": "#%% md\n"
    }
   }
  },
  {
   "cell_type": "code",
   "execution_count": null,
   "outputs": [],
   "source": [
    "pipe = Pipeline(\n",
    "    [\n",
    "        ('scale', StandardScaler()),\n",
    "        ('model', RandomForestRegressor(random_state=42))\n",
    "    ]\n",
    ")\n",
    "pipe.get_params()"
   ],
   "metadata": {
    "collapsed": false,
    "pycharm": {
     "name": "#%%\n"
    }
   }
  },
  {
   "cell_type": "code",
   "execution_count": null,
   "outputs": [],
   "source": [
    "model = BayesSearchCV(estimator=pipe,\n",
    "                      search_spaces={\n",
    "                          'model__n_estimators': Integer(10, 600),\n",
    "                          'model__criterion': Categorical(['squared_error', 'absolute_error', 'poisson']),\n",
    "                          'model__max_features': Categorical(['auto', 'sqrt', 'log2']),\n",
    "                      },\n",
    "                      scoring='r2',\n",
    "                      cv=10,\n",
    "                      error_score=np.nan,\n",
    "                      n_jobs=-1,\n",
    "                      pre_dispatch='2*n_jobs',\n",
    "                      random_state=42)"
   ],
   "metadata": {
    "collapsed": false,
    "pycharm": {
     "name": "#%%\n"
    }
   }
  },
  {
   "cell_type": "markdown",
   "source": [
    "### Training"
   ],
   "metadata": {
    "collapsed": false,
    "pycharm": {
     "name": "#%% md\n"
    }
   }
  },
  {
   "cell_type": "code",
   "execution_count": null,
   "outputs": [],
   "source": [
    "index = 1\n",
    "model.fit(X_train, y_train, callback=on_step)\n",
    "\n",
    "optimised_rfr = model.best_estimator_\n",
    "\n",
    "y_train_pred = optimised_rfr.predict(X_train)\n",
    "calculate_metrics_regression(y_train, y_train_pred)\n",
    "\n",
    "# Save Model & CV Results\n",
    "dump(optimised_svr, 'Dataset_Files/Baseline_Models/Regression/optimised_rfr.joblib')\n",
    "np.save(\"Dataset_Files/Baseline_Models/Regression/optimised_rfr_cv_results.npy\", model.cv_results_)"
   ],
   "metadata": {
    "collapsed": false,
    "pycharm": {
     "name": "#%%\n"
    }
   }
  },
  {
   "cell_type": "code",
   "execution_count": null,
   "outputs": [],
   "source": [
    "# Load Model\n",
    "optimised_rfr = load('Dataset_Files/Baseline_Models/Regression/optimised_rfr.joblib')"
   ],
   "metadata": {
    "collapsed": false,
    "pycharm": {
     "name": "#%%\n"
    }
   }
  },
  {
   "cell_type": "code",
   "execution_count": null,
   "outputs": [],
   "source": [
    "y_train_pred = optimised_rfr.predict(X_train)\n",
    "calculate_metrics_regression(y_train, y_train_pred)"
   ],
   "metadata": {
    "collapsed": false,
    "pycharm": {
     "name": "#%%\n"
    }
   }
  },
  {
   "cell_type": "code",
   "execution_count": null,
   "outputs": [],
   "source": [
    "optimised_rfr.get_params()"
   ],
   "metadata": {
    "collapsed": false,
    "pycharm": {
     "name": "#%%\n"
    }
   }
  },
  {
   "cell_type": "code",
   "execution_count": null,
   "outputs": [],
   "source": [
    "rfr_grid_search_dataframe = pd.DataFrame(\n",
    "    np.load(\"Dataset_Files/Baseline_Models/Regression/optimised_rfr_cv_results.npy\", allow_pickle=True).tolist())\n",
    "rfr_grid_search_dataframe.sort_values(by=[\"rank_test_score\"], inplace=True)\n",
    "rfr_grid_search_dataframe"
   ],
   "metadata": {
    "collapsed": false,
    "pycharm": {
     "name": "#%%\n"
    }
   }
  },
  {
   "cell_type": "markdown",
   "source": [
    "### Testing"
   ],
   "metadata": {
    "collapsed": false,
    "pycharm": {
     "name": "#%% md\n"
    }
   }
  },
  {
   "cell_type": "code",
   "execution_count": null,
   "outputs": [],
   "source": [
    "y_test_pred = optimised_rfr.predict(X_test)\n",
    "calculate_metrics_regression(y_test, y_test_pred)"
   ],
   "metadata": {
    "collapsed": false,
    "pycharm": {
     "name": "#%%\n"
    }
   }
  },
  {
   "cell_type": "markdown",
   "source": [
    "## Stochastic Gradient Descent Regressor (SGDR)"
   ],
   "metadata": {
    "collapsed": false,
    "pycharm": {
     "name": "#%% md\n"
    }
   }
  },
  {
   "cell_type": "code",
   "execution_count": null,
   "outputs": [],
   "source": [
    "pipe = Pipeline(\n",
    "    [\n",
    "        ('scale', StandardScaler()),\n",
    "        ('model', SGDRegressor(random_state=42))\n",
    "    ]\n",
    ")\n",
    "pipe.get_params()"
   ],
   "metadata": {
    "collapsed": false,
    "pycharm": {
     "name": "#%%\n"
    }
   }
  },
  {
   "cell_type": "code",
   "execution_count": null,
   "outputs": [],
   "source": [
    "model = BayesSearchCV(estimator=pipe,\n",
    "                      search_spaces={\n",
    "                          'model__loss': Categorical(['squared_error', 'huber', 'epsilon_insensitive', 'squared_epsilon_insensitive']),\n",
    "                          'model__penalty': Categorical(['l2', 'l1', 'elasticnet']),\n",
    "                          'model__alpha': Real(1e-6, 1e-1, prior='log-uniform'),\n",
    "                          'model__learning_rate': Categorical(['constant', 'optimal', 'invscaling', 'adaptive']),\n",
    "                      },\n",
    "                      scoring='r2',\n",
    "                      cv=10,\n",
    "                      error_score=np.nan,\n",
    "                      n_jobs=-1,\n",
    "                      pre_dispatch='2*n_jobs',\n",
    "                      random_state=42)"
   ],
   "metadata": {
    "collapsed": false,
    "pycharm": {
     "name": "#%%\n"
    }
   }
  },
  {
   "cell_type": "markdown",
   "source": [
    "### Training"
   ],
   "metadata": {
    "collapsed": false,
    "pycharm": {
     "name": "#%% md\n"
    }
   }
  },
  {
   "cell_type": "code",
   "execution_count": null,
   "outputs": [],
   "source": [
    "index = 1\n",
    "model.fit(X_train, y_train, callback=on_step)\n",
    "\n",
    "optimised_sgdr = model.best_estimator_\n",
    "\n",
    "y_train_pred = optimised_sgdr.predict(X_train)\n",
    "calculate_metrics_regression(y_train, y_train_pred)\n",
    "\n",
    "# Save Model & CV Results\n",
    "dump(optimised_svr, 'Dataset_Files/Baseline_Models/Regression/optimised_sgdr.joblib')\n",
    "np.save(\"Dataset_Files/Baseline_Models/Regression/optimised_sgdr_cv_results.npy\", model.cv_results_)"
   ],
   "metadata": {
    "collapsed": false,
    "pycharm": {
     "name": "#%%\n"
    }
   }
  },
  {
   "cell_type": "code",
   "execution_count": null,
   "outputs": [],
   "source": [
    "# Load Model\n",
    "optimised_sgdr = load('Dataset_Files/Baseline_Models/Regression/optimised_sgdr.joblib')"
   ],
   "metadata": {
    "collapsed": false,
    "pycharm": {
     "name": "#%%\n"
    }
   }
  },
  {
   "cell_type": "code",
   "execution_count": null,
   "outputs": [],
   "source": [
    "y_train_pred = optimised_sgdr.predict(X_train)\n",
    "calculate_metrics_regression(y_train, y_train_pred)"
   ],
   "metadata": {
    "collapsed": false,
    "pycharm": {
     "name": "#%%\n"
    }
   }
  },
  {
   "cell_type": "code",
   "execution_count": null,
   "outputs": [],
   "source": [
    "optimised_sgdr.get_params()"
   ],
   "metadata": {
    "collapsed": false,
    "pycharm": {
     "name": "#%%\n"
    }
   }
  },
  {
   "cell_type": "code",
   "execution_count": null,
   "outputs": [],
   "source": [
    "sgdr_grid_search_dataframe = pd.DataFrame(\n",
    "    np.load(\"Dataset_Files/Baseline_Models/Regression/optimised_sgdr_cv_results.npy\", allow_pickle=True).tolist())\n",
    "sgdr_grid_search_dataframe.sort_values(by=[\"rank_test_score\"], inplace=True)\n",
    "sgdr_grid_search_dataframe"
   ],
   "metadata": {
    "collapsed": false,
    "pycharm": {
     "name": "#%%\n"
    }
   }
  },
  {
   "cell_type": "markdown",
   "source": [
    "### Testing"
   ],
   "metadata": {
    "collapsed": false,
    "pycharm": {
     "name": "#%% md\n"
    }
   }
  },
  {
   "cell_type": "code",
   "execution_count": null,
   "outputs": [],
   "source": [
    "y_test_pred = optimised_sgdr.predict(X_test)\n",
    "calculate_metrics_regression(y_test, y_test_pred)"
   ],
   "metadata": {
    "collapsed": false,
    "pycharm": {
     "name": "#%%\n"
    }
   }
  }
 ],
 "metadata": {
  "kernelspec": {
   "display_name": "Python 3",
   "language": "python",
   "name": "python3"
  },
  "language_info": {
   "codemirror_mode": {
    "name": "ipython",
    "version": 2
   },
   "file_extension": ".py",
   "mimetype": "text/x-python",
   "name": "python",
   "nbconvert_exporter": "python",
   "pygments_lexer": "ipython2",
   "version": "2.7.6"
  }
 },
 "nbformat": 4,
 "nbformat_minor": 0
}