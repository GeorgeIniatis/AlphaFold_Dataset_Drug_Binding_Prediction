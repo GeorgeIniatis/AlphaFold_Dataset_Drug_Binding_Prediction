{
 "cells": [
  {
   "cell_type": "markdown",
   "source": [
    "# Imports"
   ],
   "metadata": {
    "collapsed": false,
    "pycharm": {
     "name": "#%% md\n"
    }
   }
  },
  {
   "cell_type": "code",
   "execution_count": 1,
   "outputs": [],
   "source": [
    "# General Imports\n",
    "from models_utils import *\n",
    "\n",
    "# Regression Models\n",
    "from sklearn.dummy import DummyRegressor\n",
    "from sklearn.neighbors import KNeighborsRegressor\n",
    "from sklearn.linear_model import LinearRegression, SGDRegressor\n",
    "from sklearn.ensemble import RandomForestRegressor\n",
    "from sklearn.tree import DecisionTreeRegressor\n",
    "from sklearn.svm import LinearSVR"
   ],
   "metadata": {
    "collapsed": false,
    "pycharm": {
     "name": "#%%\n"
    }
   }
  },
  {
   "cell_type": "markdown",
   "source": [
    "# Training & Test Sets\n"
   ],
   "metadata": {
    "collapsed": false,
    "pycharm": {
     "name": "#%% md\n"
    }
   }
  },
  {
   "cell_type": "code",
   "execution_count": 2,
   "outputs": [],
   "source": [
    "feature_selection_columns = load_from_pickle(\"Training_Test_Sets/Regression/X_train_feature_selection\").loc[:,\n",
    "                            \"MolecularWeight\":].columns"
   ],
   "metadata": {
    "collapsed": false,
    "pycharm": {
     "name": "#%%\n"
    }
   }
  },
  {
   "cell_type": "code",
   "execution_count": 3,
   "outputs": [],
   "source": [
    "X_train = load_from_pickle(\"Training_Test_Sets/Regression/X_train_feature_selection\")\n",
    "X_train.drop(columns=[\"Protein_Accession\", \"Drug_CID\", \"Activity_Name\"], inplace=True)\n",
    "X_train = X_train.to_numpy()\n",
    "\n",
    "y_train = load_from_pickle(\"Training_Test_Sets/Regression/y_train\")\n",
    "y_train_binary = y_train.loc[:, \"Activity_Binary\"]\n",
    "y_train.drop(columns=[\"Activity_Binary\"], inplace=True)\n",
    "y_train = y_train.to_numpy().flatten()"
   ],
   "metadata": {
    "collapsed": false,
    "pycharm": {
     "name": "#%%\n"
    }
   }
  },
  {
   "cell_type": "code",
   "execution_count": 4,
   "outputs": [],
   "source": [
    "X_test = load_from_pickle(\"Training_Test_Sets/Regression/X_test_feature_selection\")\n",
    "X_test.drop(columns=[\"Protein_Accession\", \"Drug_CID\", \"Activity_Name\"], inplace=True)\n",
    "X_test = X_test.to_numpy()\n",
    "\n",
    "y_test = load_from_pickle(\"Training_Test_Sets/Regression/y_test\")\n",
    "y_test_binary = y_test.loc[:, \"Activity_Binary\"]\n",
    "y_test.drop(columns=[\"Activity_Binary\"], inplace=True)\n",
    "y_test = y_test.to_numpy().flatten()"
   ],
   "metadata": {
    "collapsed": false,
    "pycharm": {
     "name": "#%%\n"
    }
   }
  },
  {
   "cell_type": "code",
   "execution_count": 5,
   "outputs": [
    {
     "name": "stdout",
     "output_type": "stream",
     "text": [
      "X_train shape: (10956, 693)\n",
      "y_train shape: 10956 (Binding Count: 3796, Non-Binding Count: 7160)\n",
      "X_test shape: (102, 693)\n",
      "y_test shape: 102 (Binding Count: 27, Non-Binding Count: 75)\n"
     ]
    }
   ],
   "source": [
    "# Useful Information & Sanity Checks\n",
    "print(f\"X_train shape: {X_train.shape}\")\n",
    "print(f\"y_train shape: {y_train.shape[0]} \", end=\"\")\n",
    "print(f\"(Binding Count: {y_train_binary[y_train_binary == 1].shape[0]}, \", end=\"\")\n",
    "print(f\"Non-Binding Count: {y_train_binary[y_train_binary == 0].shape[0]})\")\n",
    "\n",
    "print(f\"X_test shape: {X_test.shape}\")\n",
    "print(f\"y_test shape: {y_test.shape[0]} \", end=\"\")\n",
    "print(f\"(Binding Count: {y_test_binary[y_test_binary == 1].shape[0]}, \", end=\"\")\n",
    "print(f\"Non-Binding Count: {y_test_binary[y_test_binary == 0].shape[0]})\")"
   ],
   "metadata": {
    "collapsed": false,
    "pycharm": {
     "name": "#%%\n"
    }
   }
  },
  {
   "cell_type": "markdown",
   "source": [
    "# Model Training & Testing"
   ],
   "metadata": {
    "collapsed": false,
    "pycharm": {
     "name": "#%% md\n"
    }
   }
  },
  {
   "cell_type": "code",
   "execution_count": 6,
   "outputs": [],
   "source": [
    "def on_step(optim_result):\n",
    "    global index\n",
    "    print(f\"Iteration Completed: {index}\")\n",
    "    index += 1"
   ],
   "metadata": {
    "collapsed": false,
    "pycharm": {
     "name": "#%%\n"
    }
   }
  },
  {
   "cell_type": "markdown",
   "source": [
    "## Dummy Regressor (DR)"
   ],
   "metadata": {
    "collapsed": false,
    "pycharm": {
     "name": "#%% md\n"
    }
   }
  },
  {
   "cell_type": "code",
   "execution_count": 35,
   "outputs": [
    {
     "data": {
      "text/plain": "{'memory': None,\n 'steps': [('scale', StandardScaler()), ('model', DummyRegressor())],\n 'verbose': False,\n 'scale': StandardScaler(),\n 'model': DummyRegressor(),\n 'scale__copy': True,\n 'scale__with_mean': True,\n 'scale__with_std': True,\n 'model__constant': None,\n 'model__quantile': None,\n 'model__strategy': 'mean'}"
     },
     "execution_count": 35,
     "metadata": {},
     "output_type": "execute_result"
    }
   ],
   "source": [
    "dummy_regressor = Pipeline(\n",
    "    [\n",
    "        ('scale', StandardScaler()),\n",
    "        ('model', DummyRegressor()),\n",
    "    ]\n",
    ")\n",
    "dummy_regressor.get_params()"
   ],
   "metadata": {
    "collapsed": false,
    "pycharm": {
     "name": "#%%\n"
    }
   }
  },
  {
   "cell_type": "markdown",
   "source": [
    "### Training"
   ],
   "metadata": {
    "collapsed": false,
    "pycharm": {
     "name": "#%% md\n"
    }
   }
  },
  {
   "cell_type": "code",
   "execution_count": 36,
   "outputs": [
    {
     "name": "stdout",
     "output_type": "stream",
     "text": [
      "R2 Score: 0.0\n",
      "Negated Mean Absolute Error: -2.103515625\n"
     ]
    },
    {
     "data": {
      "text/plain": "['Dataset_Files/Baseline_Models/Regression/dr.joblib']"
     },
     "execution_count": 36,
     "metadata": {},
     "output_type": "execute_result"
    }
   ],
   "source": [
    "# dummy_regressor.fit(X_train, y_train)\n",
    "#\n",
    "# y_train_pred = dummy_regressor.predict(X_train)\n",
    "# calculate_metrics_regression(y_train, y_train_pred)\n",
    "#\n",
    "# # Save Model\n",
    "# dump(dummy_regressor, 'Dataset_Files/Baseline_Models/Regression/dr.joblib')"
   ],
   "metadata": {
    "collapsed": false,
    "pycharm": {
     "name": "#%%\n"
    }
   }
  },
  {
   "cell_type": "code",
   "execution_count": 37,
   "outputs": [],
   "source": [
    "# Load Model\n",
    "dummy_regressor = load('Dataset_Files/Baseline_Models/Regression/dr.joblib')"
   ],
   "metadata": {
    "collapsed": false,
    "pycharm": {
     "name": "#%%\n"
    }
   }
  },
  {
   "cell_type": "code",
   "execution_count": 38,
   "outputs": [
    {
     "name": "stdout",
     "output_type": "stream",
     "text": [
      "Metrics after 1000 bootstrapped samples of size 1000\n",
      "--------------------------------------------------------\n",
      "Median Negated-MAE: -2.10 with a 95% confidence interval of [-2.21,-2.01]\n",
      "Median R2: -0.00 with a 95% confidence interval of [-0.01,-0.00]\n"
     ]
    }
   ],
   "source": [
    "get_confidence_intervals(dummy_regressor, X_train, y_train, 1000, \"Regression\")"
   ],
   "metadata": {
    "collapsed": false,
    "pycharm": {
     "name": "#%%\n"
    }
   }
  },
  {
   "cell_type": "markdown",
   "source": [
    "### Testing"
   ],
   "metadata": {
    "collapsed": false,
    "pycharm": {
     "name": "#%% md\n"
    }
   }
  },
  {
   "cell_type": "code",
   "execution_count": 39,
   "outputs": [
    {
     "name": "stdout",
     "output_type": "stream",
     "text": [
      "Metrics after 1000 bootstrapped samples of size 50\n",
      "--------------------------------------------------------\n",
      "Median Negated-MAE: -1.98 with a 95% confidence interval of [-2.34,-1.69]\n",
      "Median R2: -0.03 with a 95% confidence interval of [-0.33,-0.00]\n"
     ]
    }
   ],
   "source": [
    "get_confidence_intervals(dummy_regressor, X_test, y_test, 50, \"Regression\")"
   ],
   "metadata": {
    "collapsed": false,
    "pycharm": {
     "name": "#%%\n"
    }
   }
  },
  {
   "cell_type": "markdown",
   "source": [
    "## Linear Regression (LR)"
   ],
   "metadata": {
    "collapsed": false,
    "pycharm": {
     "name": "#%% md\n"
    }
   }
  },
  {
   "cell_type": "code",
   "execution_count": 40,
   "outputs": [
    {
     "data": {
      "text/plain": "{'memory': None,\n 'steps': [('scale', StandardScaler()),\n  ('model', LinearRegression(n_jobs=-1))],\n 'verbose': False,\n 'scale': StandardScaler(),\n 'model': LinearRegression(n_jobs=-1),\n 'scale__copy': True,\n 'scale__with_mean': True,\n 'scale__with_std': True,\n 'model__copy_X': True,\n 'model__fit_intercept': True,\n 'model__n_jobs': -1,\n 'model__normalize': 'deprecated',\n 'model__positive': False}"
     },
     "execution_count": 40,
     "metadata": {},
     "output_type": "execute_result"
    }
   ],
   "source": [
    "linear_regression = Pipeline(\n",
    "    [\n",
    "        ('scale', StandardScaler()),\n",
    "        ('model', LinearRegression(n_jobs=-1))\n",
    "    ]\n",
    ")\n",
    "linear_regression.get_params()"
   ],
   "metadata": {
    "collapsed": false,
    "pycharm": {
     "name": "#%%\n"
    }
   }
  },
  {
   "cell_type": "markdown",
   "source": [
    "### Training"
   ],
   "metadata": {
    "collapsed": false,
    "pycharm": {
     "name": "#%% md\n"
    }
   }
  },
  {
   "cell_type": "code",
   "execution_count": 41,
   "outputs": [
    {
     "name": "stdout",
     "output_type": "stream",
     "text": [
      "R2 Score: 0.6277162841191646\n",
      "Negated Mean Absolute Error: -1.0437039136886597\n"
     ]
    },
    {
     "data": {
      "text/plain": "['Dataset_Files/Baseline_Models/Regression/lr.joblib']"
     },
     "execution_count": 41,
     "metadata": {},
     "output_type": "execute_result"
    }
   ],
   "source": [
    "# linear_regression.fit(X_train, y_train)\n",
    "#\n",
    "# y_train_pred = linear_regression.predict(X_train)\n",
    "# calculate_metrics_regression(y_train, y_train_pred)\n",
    "#\n",
    "# # Save Model\n",
    "# dump(linear_regression, 'Dataset_Files/Baseline_Models/Regression/lr.joblib')"
   ],
   "metadata": {
    "collapsed": false,
    "pycharm": {
     "name": "#%%\n"
    }
   }
  },
  {
   "cell_type": "code",
   "execution_count": 42,
   "outputs": [],
   "source": [
    "# Load Model\n",
    "linear_regression = load('Dataset_Files/Baseline_Models/Regression/lr.joblib')"
   ],
   "metadata": {
    "collapsed": false,
    "pycharm": {
     "name": "#%%\n"
    }
   }
  },
  {
   "cell_type": "code",
   "execution_count": 43,
   "outputs": [
    {
     "name": "stdout",
     "output_type": "stream",
     "text": [
      "Metrics after 1000 bootstrapped samples of size 1000\n",
      "--------------------------------------------------------\n",
      "Median Negated-MAE: -1.04 with a 95% confidence interval of [-1.12,-0.97]\n",
      "Median R2: 0.63 with a 95% confidence interval of [0.57,0.68]\n"
     ]
    }
   ],
   "source": [
    "get_confidence_intervals(linear_regression, X_train, y_train, 1000, \"Regression\")"
   ],
   "metadata": {
    "collapsed": false,
    "pycharm": {
     "name": "#%%\n"
    }
   }
  },
  {
   "cell_type": "markdown",
   "source": [
    "### Testing"
   ],
   "metadata": {
    "collapsed": false,
    "pycharm": {
     "name": "#%% md\n"
    }
   }
  },
  {
   "cell_type": "code",
   "execution_count": 44,
   "outputs": [
    {
     "name": "stdout",
     "output_type": "stream",
     "text": [
      "Metrics after 1000 bootstrapped samples of size 50\n",
      "--------------------------------------------------------\n",
      "Median Negated-MAE: -3.63 with a 95% confidence interval of [-4.45,-2.85]\n",
      "Median R2: -3.17 with a 95% confidence interval of [-7.08,-1.36]\n"
     ]
    }
   ],
   "source": [
    "get_confidence_intervals(linear_regression, X_test, y_test, 50, \"Regression\")"
   ],
   "metadata": {
    "collapsed": false,
    "pycharm": {
     "name": "#%%\n"
    }
   }
  },
  {
   "cell_type": "markdown",
   "source": [
    "## Linear Support Vector Regression (LSVR)"
   ],
   "metadata": {
    "collapsed": false,
    "pycharm": {
     "name": "#%% md\n"
    }
   }
  },
  {
   "cell_type": "code",
   "execution_count": 45,
   "outputs": [
    {
     "data": {
      "text/plain": "{'memory': None,\n 'steps': [('scale', StandardScaler()), ('model', LinearSVR(random_state=42))],\n 'verbose': False,\n 'scale': StandardScaler(),\n 'model': LinearSVR(random_state=42),\n 'scale__copy': True,\n 'scale__with_mean': True,\n 'scale__with_std': True,\n 'model__C': 1.0,\n 'model__dual': True,\n 'model__epsilon': 0.0,\n 'model__fit_intercept': True,\n 'model__intercept_scaling': 1.0,\n 'model__loss': 'epsilon_insensitive',\n 'model__max_iter': 1000,\n 'model__random_state': 42,\n 'model__tol': 0.0001,\n 'model__verbose': 0}"
     },
     "execution_count": 45,
     "metadata": {},
     "output_type": "execute_result"
    }
   ],
   "source": [
    "pipe = Pipeline(\n",
    "    [\n",
    "        ('scale', StandardScaler()),\n",
    "        ('model', LinearSVR(random_state=42))\n",
    "    ]\n",
    ")\n",
    "pipe.get_params()"
   ],
   "metadata": {
    "collapsed": false,
    "pycharm": {
     "name": "#%%\n"
    }
   }
  },
  {
   "cell_type": "code",
   "execution_count": 46,
   "outputs": [],
   "source": [
    "model = BayesSearchCV(estimator=pipe,\n",
    "                      search_spaces={\n",
    "                          'model__epsilon': Real(1e-6, 1e+2, prior='log-uniform'),\n",
    "                          'model__C': Real(1e-6, 1e+2, prior='log-uniform'),\n",
    "                          'model__loss': Categorical(['epsilon_insensitive','squared_epsilon_insensitive']),\n",
    "                          'model__max_iter': Integer(500, 5000),\n",
    "                      },\n",
    "                      scoring='r2',\n",
    "                      cv=10,\n",
    "                      error_score=np.nan,\n",
    "                      n_jobs=-1,\n",
    "                      pre_dispatch='2*n_jobs',\n",
    "                      random_state=42)"
   ],
   "metadata": {
    "collapsed": false,
    "pycharm": {
     "name": "#%%\n"
    }
   }
  },
  {
   "cell_type": "markdown",
   "source": [
    "### Training"
   ],
   "metadata": {
    "collapsed": false,
    "pycharm": {
     "name": "#%% md\n"
    }
   }
  },
  {
   "cell_type": "code",
   "execution_count": 47,
   "outputs": [
    {
     "name": "stdout",
     "output_type": "stream",
     "text": [
      "Iteration Completed: 1\n",
      "Iteration Completed: 2\n",
      "Iteration Completed: 3\n",
      "Iteration Completed: 4\n",
      "Iteration Completed: 5\n",
      "Iteration Completed: 6\n",
      "Iteration Completed: 7\n",
      "Iteration Completed: 8\n",
      "Iteration Completed: 9\n",
      "Iteration Completed: 10\n",
      "Iteration Completed: 11\n",
      "Iteration Completed: 12\n",
      "Iteration Completed: 13\n",
      "Iteration Completed: 14\n",
      "Iteration Completed: 15\n",
      "Iteration Completed: 16\n",
      "Iteration Completed: 17\n",
      "Iteration Completed: 18\n",
      "Iteration Completed: 19\n",
      "Iteration Completed: 20\n",
      "Iteration Completed: 21\n",
      "Iteration Completed: 22\n",
      "Iteration Completed: 23\n",
      "Iteration Completed: 24\n",
      "Iteration Completed: 25\n",
      "Iteration Completed: 26\n",
      "Iteration Completed: 27\n",
      "Iteration Completed: 28\n",
      "Iteration Completed: 29\n",
      "Iteration Completed: 30\n",
      "Iteration Completed: 31\n",
      "Iteration Completed: 32\n",
      "Iteration Completed: 33\n",
      "Iteration Completed: 34\n",
      "Iteration Completed: 35\n",
      "Iteration Completed: 36\n",
      "Iteration Completed: 37\n",
      "Iteration Completed: 38\n",
      "Iteration Completed: 39\n",
      "Iteration Completed: 40\n",
      "Iteration Completed: 41\n",
      "Iteration Completed: 42\n",
      "Iteration Completed: 43\n",
      "Iteration Completed: 44\n",
      "Iteration Completed: 45\n",
      "Iteration Completed: 46\n",
      "Iteration Completed: 47\n",
      "Iteration Completed: 48\n",
      "Iteration Completed: 49\n",
      "Iteration Completed: 50\n",
      "R2 Score: 0.6175217076707052\n",
      "Negated Mean Absolute Error: -1.0669079066627598\n"
     ]
    }
   ],
   "source": [
    "# index = 1\n",
    "# model.fit(X_train, y_train, callback=on_step)\n",
    "#\n",
    "# optimised_lsvr = model.best_estimator_\n",
    "#\n",
    "# y_train_pred = optimised_lsvr.predict(X_train)\n",
    "# calculate_metrics_regression(y_train, y_train_pred)\n",
    "#\n",
    "# # Save Model & CV Results\n",
    "# dump(optimised_lsvr, 'Dataset_Files/Baseline_Models/Regression/optimised_lsvr.joblib')\n",
    "# np.save(\"Dataset_Files/Baseline_Models/Regression/optimised_lsvr_cv_results.npy\", model.cv_results_)"
   ],
   "metadata": {
    "collapsed": false,
    "pycharm": {
     "name": "#%%\n"
    }
   }
  },
  {
   "cell_type": "code",
   "execution_count": 52,
   "outputs": [],
   "source": [
    "# Load Model\n",
    "optimised_lsvr = load('Dataset_Files/Baseline_Models/Regression/optimised_lsvr.joblib')"
   ],
   "metadata": {
    "collapsed": false,
    "pycharm": {
     "name": "#%%\n"
    }
   }
  },
  {
   "cell_type": "code",
   "execution_count": 54,
   "outputs": [
    {
     "name": "stdout",
     "output_type": "stream",
     "text": [
      "Metrics after 1000 bootstrapped samples of size 1000\n",
      "--------------------------------------------------------\n",
      "Median Negated-MAE: -1.07 with a 95% confidence interval of [-1.14,-0.99]\n",
      "Median R2: 0.62 with a 95% confidence interval of [0.57,0.67]\n"
     ]
    }
   ],
   "source": [
    "get_confidence_intervals(optimised_lsvr, X_train, y_train, 1000, \"Regression\")"
   ],
   "metadata": {
    "collapsed": false,
    "pycharm": {
     "name": "#%%\n"
    }
   }
  },
  {
   "cell_type": "code",
   "execution_count": null,
   "outputs": [],
   "source": [
    "optimised_lsvr.get_params()"
   ],
   "metadata": {
    "collapsed": false,
    "pycharm": {
     "name": "#%%\n"
    }
   }
  },
  {
   "cell_type": "code",
   "execution_count": 55,
   "outputs": [
    {
     "data": {
      "text/plain": "    mean_fit_time  std_fit_time  mean_score_time  std_score_time  \\\n40       5.733414      0.102186         0.017663        0.005012   \n41       4.239263      0.063931         0.018279        0.003125   \n49       9.245845      0.089831         0.015926        0.003097   \n30      10.402666      0.138166         0.018531        0.005813   \n42      10.961124      0.111420         0.017702        0.002064   \n38      15.687170      0.189066         0.020932        0.004362   \n15      20.896913      0.351137         0.020249        0.006604   \n47      29.709077      0.324466         0.014729        0.003889   \n33      37.690242      0.267864         0.015699        0.004270   \n43      42.633819      0.474050         0.014206        0.003699   \n44      27.728605      0.136467         0.018890        0.005083   \n46      48.462662      0.530918         0.015255        0.003377   \n17      59.355126      0.387857         0.018765        0.003642   \n35      28.519219      0.184802         0.016827        0.004671   \n37      78.794699      0.634368         0.015845        0.003891   \n23      77.471398      0.634809         0.014009        0.004464   \n18     239.793010      1.243333         0.015391        0.004752   \n32     251.972028      2.210349         0.015196        0.004195   \n45      28.348914      0.098249         0.015178        0.005835   \n12     279.354803      0.924384         0.017239        0.004157   \n48     281.708149      0.430380         0.021315        0.003058   \n0        3.160318      0.068236         0.022305        0.006289   \n25     273.835645      0.272014         0.017070        0.005146   \n34     275.512031      0.440997         0.016384        0.003766   \n16     270.376943      0.619647         0.020068        0.004929   \n27     274.417214      0.243992         0.015326        0.004842   \n21      15.664688      0.605861         0.014616        0.003905   \n28      26.357410      0.051332         0.017507        0.003000   \n11       6.587121      0.277572         0.017893        0.005270   \n10       2.079035      0.073117         0.019625        0.002222   \n4      200.658481      0.382780         0.013670        0.003765   \n39       1.267853      0.017277         0.017701        0.002867   \n3      207.610131      0.150779         0.017307        0.002862   \n6       51.914737      2.455740         0.018890        0.002797   \n36      28.820696      0.170837         0.018495        0.001780   \n26      47.105084      1.945903         0.014517        0.004502   \n29      85.507126      7.970443         0.014436        0.004728   \n19     252.129008      0.381856         0.015769        0.005222   \n31     233.175072      0.499594         0.013421        0.004116   \n22     116.633446      0.170383         0.016423        0.003361   \n8      137.142215      0.468658         0.018922        0.001924   \n24       1.108363      0.020409         0.017718        0.001772   \n13      34.147898      0.214683         0.017207        0.005460   \n20       1.017536      0.007898         0.019615        0.001351   \n1        0.702597      0.188095         0.016810        0.002885   \n14       0.889397      0.042377         0.018697        0.002327   \n9        0.957579      0.044277         0.023518        0.006953   \n7        0.835760      0.034869         0.021818        0.003290   \n5        0.687194      0.007340         0.020472        0.004153   \n2        0.740976      0.026279         0.020710        0.002586   \n\n   param_model__C param_model__epsilon            param_model__loss  \\\n40       0.002885             0.000049  squared_epsilon_insensitive   \n41       0.002044             0.000021  squared_epsilon_insensitive   \n49       0.004974             0.080372  squared_epsilon_insensitive   \n30       0.006618             0.000026  squared_epsilon_insensitive   \n42       0.006664             0.000164  squared_epsilon_insensitive   \n38       0.009809             0.000004  squared_epsilon_insensitive   \n15       0.012549             0.000011  squared_epsilon_insensitive   \n47       0.019401             0.000793  squared_epsilon_insensitive   \n33       0.024915             0.000103  squared_epsilon_insensitive   \n43       0.027768             0.000002  squared_epsilon_insensitive   \n44       0.033776             0.028793  squared_epsilon_insensitive   \n46       0.035297             0.012445  squared_epsilon_insensitive   \n17       0.039458             0.000004  squared_epsilon_insensitive   \n35       0.045149             0.000352  squared_epsilon_insensitive   \n37       0.051258             0.000001  squared_epsilon_insensitive   \n23       0.053109             0.000024  squared_epsilon_insensitive   \n18       0.160629             0.000002  squared_epsilon_insensitive   \n32       0.176479             0.003365  squared_epsilon_insensitive   \n45       0.130441             0.034497  squared_epsilon_insensitive   \n12       0.297111             0.001494  squared_epsilon_insensitive   \n48       0.345399             0.000033  squared_epsilon_insensitive   \n0        0.001909             0.663447  squared_epsilon_insensitive   \n25       0.431978              0.00844  squared_epsilon_insensitive   \n34       0.374169             0.127245  squared_epsilon_insensitive   \n16       0.617017             0.000013  squared_epsilon_insensitive   \n27         1.1069             0.057317  squared_epsilon_insensitive   \n21       0.023883             0.458624          epsilon_insensitive   \n28       0.178334             0.549816  squared_epsilon_insensitive   \n11       0.007675             1.102823          epsilon_insensitive   \n10       0.000604             0.743695  squared_epsilon_insensitive   \n4        2.491309             0.003193  squared_epsilon_insensitive   \n39       0.000138             0.000029  squared_epsilon_insensitive   \n3        3.156225             0.000024  squared_epsilon_insensitive   \n6        0.086424             1.595567          epsilon_insensitive   \n36       0.392284             0.000004  squared_epsilon_insensitive   \n26       0.012775              0.00021          epsilon_insensitive   \n29       0.040133             0.000011          epsilon_insensitive   \n19       5.958005              0.23636          epsilon_insensitive   \n31       1.986957             0.025791          epsilon_insensitive   \n22       4.692873             0.000001          epsilon_insensitive   \n8       44.037625             0.402691  squared_epsilon_insensitive   \n24       0.000018             0.000001  squared_epsilon_insensitive   \n13          100.0             0.000205  squared_epsilon_insensitive   \n20       0.000001             0.254728  squared_epsilon_insensitive   \n1        5.001576            11.655267          epsilon_insensitive   \n14       0.000001             0.003086          epsilon_insensitive   \n9        0.000001             3.488511  squared_epsilon_insensitive   \n7        0.022245             22.91257          epsilon_insensitive   \n5        0.745116            32.730897          epsilon_insensitive   \n2         0.00362            22.375883          epsilon_insensitive   \n\n   param_model__max_iter                                             params  \\\n40                  5000  {'model__C': 0.002885405558519924, 'model__eps...   \n41                  5000  {'model__C': 0.002043966407929869, 'model__eps...   \n49                  5000  {'model__C': 0.004974197388548909, 'model__eps...   \n30                   500  {'model__C': 0.006617515391390669, 'model__eps...   \n42                  5000  {'model__C': 0.006663895374404001, 'model__eps...   \n38                  5000  {'model__C': 0.009808628650870165, 'model__eps...   \n15                  4257  {'model__C': 0.012549284613691784, 'model__eps...   \n47                  5000  {'model__C': 0.019401398754580638, 'model__eps...   \n33                  5000  {'model__C': 0.0249149079277501, 'model__epsil...   \n43                  5000  {'model__C': 0.02776832535627547, 'model__epsi...   \n44                   500  {'model__C': 0.03377564541770605, 'model__epsi...   \n46                  5000  {'model__C': 0.03529658875984026, 'model__epsi...   \n17                  1174  {'model__C': 0.03945841145519083, 'model__epsi...   \n35                   500  {'model__C': 0.04514932780124539, 'model__epsi...   \n37                  5000  {'model__C': 0.051257770335958346, 'model__eps...   \n23                  5000  {'model__C': 0.053109190637561726, 'model__eps...   \n18                  4459  {'model__C': 0.1606291196847081, 'model__epsil...   \n32                  5000  {'model__C': 0.1764785817870294, 'model__epsil...   \n45                   500  {'model__C': 0.13044074726492733, 'model__epsi...   \n12                  4586  {'model__C': 0.29711106815022537, 'model__epsi...   \n48                  5000  {'model__C': 0.34539907262471287, 'model__epsi...   \n0                   1921  {'model__C': 0.0019091131576909443, 'model__ep...   \n25                  5000  {'model__C': 0.4319779759222822, 'model__epsil...   \n34                  5000  {'model__C': 0.3741690606594561, 'model__epsil...   \n16                  4829  {'model__C': 0.6170173201782495, 'model__epsil...   \n27                  5000  {'model__C': 1.1069001077430445, 'model__epsil...   \n21                  3005  {'model__C': 0.02388290455014305, 'model__epsi...   \n28                   500  {'model__C': 0.1783342282400528, 'model__epsil...   \n11                  3856  {'model__C': 0.007675152069723815, 'model__eps...   \n10                  2094  {'model__C': 0.0006044459226003504, 'model__ep...   \n4                   3721  {'model__C': 2.491308632420524, 'model__epsilo...   \n39                  5000  {'model__C': 0.00013826055578838024, 'model__e...   \n3                   4112  {'model__C': 3.1562246465541888, 'model__epsil...   \n6                   4434  {'model__C': 0.08642410048155082, 'model__epsi...   \n36                   500  {'model__C': 0.39228371014955277, 'model__epsi...   \n26                  4656  {'model__C': 0.012775229913028848, 'model__eps...   \n29                  5000  {'model__C': 0.04013337151436596, 'model__epsi...   \n19                  4667  {'model__C': 5.95800475071254, 'model__epsilon...   \n31                  5000  {'model__C': 1.9869567693114385, 'model__epsil...   \n22                  2207  {'model__C': 4.692872939998899, 'model__epsilo...   \n8                   2371  {'model__C': 44.037625157309144, 'model__epsil...   \n24                  5000  {'model__C': 1.768294595212548e-05, 'model__ep...   \n13                   592  {'model__C': 100.0, 'model__epsilon': 0.000205...   \n20                  1670  {'model__C': 1e-06, 'model__epsilon': 0.254727...   \n1                   4781  {'model__C': 5.001575677983704, 'model__epsilo...   \n14                  2626  {'model__C': 1e-06, 'model__epsilon': 0.003086...   \n9                   1645  {'model__C': 1.0691593986059968e-06, 'model__e...   \n7                   4269  {'model__C': 0.022244596968016832, 'model__eps...   \n5                   1348  {'model__C': 0.7451164370027008, 'model__epsil...   \n2                   2450  {'model__C': 0.003619595990038508, 'model__eps...   \n\n    split0_test_score  split1_test_score  split2_test_score  \\\n40           0.614209           0.546284           0.573572   \n41           0.613314           0.549749           0.572533   \n49           0.613259           0.539382           0.573764   \n30           0.614161           0.535229           0.573827   \n42           0.614152           0.535126           0.573811   \n38           0.613329           0.529397           0.572999   \n15           0.612609           0.525778           0.572172   \n47           0.610956           0.519557           0.570217   \n33           0.609884           0.516140           0.568807   \n43           0.609396           0.514701           0.568142   \n44           0.608088           0.512235           0.566888   \n46           0.608109           0.511606           0.566605   \n17           0.607747           0.510186           0.565835   \n35           0.607018           0.508626           0.564838   \n37           0.606485           0.506978           0.564019   \n23           0.606306           0.506546           0.563773   \n18           0.601676           0.494268           0.556580   \n32           0.601334           0.493303           0.556103   \n45           0.600239           0.491129           0.554862   \n12           0.599970           0.488501           0.553759   \n48           0.599531           0.487059           0.553144   \n0            0.586568           0.528951           0.549454   \n25           0.598865           0.485060           0.552434   \n34           0.596936           0.484402           0.552996   \n16           0.598574           0.482507           0.551522   \n27           0.594773           0.475963           0.549363   \n21           0.588345           0.474999           0.541522   \n28           0.586278           0.470959           0.543954   \n11           0.564542           0.484631           0.533202   \n10           0.549393           0.505286           0.511659   \n4            0.556596           0.427147           0.514784   \n39           0.539430           0.500167           0.499733   \n3            0.558036           0.446013           0.527082   \n6            0.541847           0.445584           0.498635   \n36           0.564416           0.412664           0.490220   \n26           0.544826           0.419839           0.482896   \n29           0.546925           0.386617           0.491320   \n19           0.521153           0.369597           0.482944   \n31           0.509476           0.319347           0.478158   \n22           0.497585           0.316413           0.445047   \n8            0.298951           0.109945           0.127739   \n24           0.222388           0.173730           0.179839   \n13           0.064784          -0.096521          -0.051017   \n20          -0.241563          -0.279934          -0.284028   \n1           -0.350688          -0.423980          -0.388350   \n14          -0.375916          -0.407918          -0.410375   \n9           -0.381667          -0.413162          -0.415773   \n7           -0.413066          -0.443948          -0.445213   \n5           -0.413066          -0.443948          -0.445213   \n2           -0.413066          -0.443948          -0.445213   \n\n    split3_test_score  split4_test_score  split5_test_score  \\\n40           0.535130           0.575398           0.523122   \n41           0.533623           0.573040           0.522517   \n49           0.535391           0.577069           0.522452   \n30           0.537223           0.578651           0.523456   \n42           0.537261           0.578669           0.523454   \n38           0.538012           0.579356           0.523009   \n15           0.538507           0.579609           0.522514   \n47           0.539432           0.579704           0.521245   \n33           0.539970           0.579608           0.520367   \n43           0.540192           0.579518           0.519952   \n44           0.540251           0.579152           0.519076   \n46           0.540564           0.579221           0.518945   \n17           0.540832           0.579113           0.518570   \n35           0.540847           0.578803           0.518383   \n37           0.541170           0.578704           0.517510   \n23           0.541210           0.578636           0.517368   \n18           0.541220           0.576320           0.513779   \n32           0.541125           0.576077           0.513504   \n45           0.538338           0.572937           0.516388   \n12           0.540710           0.574992           0.512568   \n48           0.540645           0.574583           0.512298   \n0            0.500063           0.547620           0.499833   \n25           0.540388           0.573933           0.511813   \n34           0.538740           0.572739           0.510136   \n16           0.540499           0.574212           0.511396   \n27           0.536046           0.570844           0.505914   \n21           0.515398           0.540632           0.517589   \n28           0.516045           0.557426           0.500464   \n11           0.489865           0.517178           0.509957   \n10           0.459927           0.506998           0.470376   \n4            0.510087           0.537887           0.493763   \n39           0.449787           0.491042           0.464822   \n3            0.497994           0.525251           0.471091   \n6            0.458338           0.497522           0.466536   \n36           0.472297           0.515990           0.478480   \n26           0.455930           0.485754           0.484427   \n29           0.441858           0.479340           0.471316   \n19           0.512446           0.504309           0.456003   \n31           0.473121           0.467651           0.433291   \n22           0.454749           0.461810           0.416355   \n8            0.131141           0.190325           0.020279   \n24           0.080096           0.166518           0.151924   \n13           0.046238           0.004363           0.000650   \n20          -0.395918          -0.285905          -0.305676   \n1           -0.538396          -0.380414          -0.464891   \n14          -0.528214          -0.411951          -0.436484   \n9           -0.534455          -0.417937          -0.441438   \n7           -0.566075          -0.446887          -0.472949   \n5           -0.566075          -0.446887          -0.472949   \n2           -0.566075          -0.446887          -0.472949   \n\n    split6_test_score  split7_test_score  split8_test_score  \\\n40           0.571672           0.524606           0.532770   \n41           0.571690           0.524677           0.533332   \n49           0.568998           0.522868           0.531220   \n30           0.567093           0.523218           0.530873   \n42           0.567022           0.523201           0.530841   \n38           0.563026           0.522319           0.529999   \n15           0.560044           0.521751           0.529506   \n47           0.554311           0.520780           0.528656   \n33           0.550916           0.520264           0.528211   \n43           0.549450           0.520015           0.527975   \n44           0.546867           0.519391           0.527674   \n46           0.546278           0.519463           0.527517   \n17           0.544799           0.519315           0.527217   \n35           0.543114           0.518862           0.527064   \n37           0.541546           0.518770           0.526620   \n23           0.541126           0.518695           0.526543   \n18           0.529907           0.515882           0.523609   \n32           0.529137           0.515606           0.523372   \n45           0.527065           0.509729           0.525520   \n12           0.525608           0.514104           0.521987   \n48           0.524585           0.513674           0.521645   \n0            0.550970           0.502549           0.516052   \n25           0.523205           0.513038           0.521126   \n34           0.522370           0.512921           0.521676   \n16           0.521621           0.512140           0.520819   \n27           0.513006           0.510205           0.516314   \n21           0.549334           0.498187           0.513753   \n28           0.505905           0.496165           0.518787   \n11           0.541996           0.491692           0.507361   \n10           0.512926           0.467196           0.490265   \n4            0.469846           0.464846           0.496221   \n39           0.494385           0.456052           0.483327   \n3            0.468735           0.444206           0.450251   \n6            0.500918           0.444689           0.469311   \n36           0.453226           0.444313           0.474391   \n26           0.494047           0.435021           0.472997   \n29           0.478351           0.424487           0.448713   \n19           0.430733           0.391416           0.421540   \n31           0.405143           0.392394           0.393525   \n22           0.352849           0.316801           0.388565   \n8            0.179877           0.192529           0.288192   \n24           0.172491           0.113511           0.204409   \n13           0.229193           0.150326           0.195090   \n20          -0.282604          -0.359786          -0.229394   \n1           -0.408265          -0.465264          -0.348569   \n14          -0.423102          -0.496806          -0.363524   \n9           -0.428426          -0.502849          -0.369333   \n7           -0.463323          -0.535799          -0.400762   \n5           -0.463323          -0.535799          -0.400762   \n2           -0.463323          -0.535799          -0.400762   \n\n    split9_test_score  mean_test_score  std_test_score  rank_test_score  \n40           0.493583         0.549035        0.032963                1  \n41           0.494524         0.548900        0.032444                2  \n49           0.492682         0.547708        0.033267                3  \n30           0.490199         0.547393        0.033874                4  \n42           0.490180         0.547372        0.033878                5  \n38           0.487900         0.545935        0.034242                6  \n15           0.486110         0.544860        0.034495                7  \n47           0.482258         0.542712        0.035011                8  \n33           0.479571         0.541374        0.035380                9  \n43           0.478339         0.540768        0.035554               10  \n44           0.476683         0.539630        0.035682               11  \n46           0.475831         0.539414        0.035869               12  \n17           0.474032         0.538765        0.036175               13  \n35           0.472004         0.537956        0.036431               14  \n37           0.470620         0.537242        0.036691               15  \n23           0.470152         0.537035        0.036762               16  \n18           0.455811         0.530905        0.039232               17  \n32           0.454842         0.530440        0.039414               18  \n45           0.454849         0.529106        0.039039               19  \n12           0.448967         0.528117        0.040611               20  \n48           0.447588         0.527475        0.040893               21  \n0            0.486308         0.526837        0.029821               22  \n25           0.445871         0.526573        0.041240               23  \n34           0.451177         0.526409        0.039861               24  \n16           0.443110         0.525640        0.042030               25  \n27           0.441295         0.521372        0.042152               26  \n21           0.438302         0.517806        0.039514               27  \n28           0.458442         0.515442        0.036769               28  \n11           0.444076         0.508450        0.032096               29  \n10           0.462242         0.493627        0.027374               30  \n4            0.395572         0.486675        0.046470               31  \n39           0.455162         0.483391        0.026242               32  \n3            0.384161         0.477282        0.048287               33  \n6            0.410522         0.473390        0.035360               34  \n36           0.386908         0.469291        0.047605               35  \n26           0.390091         0.466583        0.041250               36  \n29           0.382629         0.455155        0.047149               37  \n19           0.323220         0.441336        0.062796               38  \n31           0.300394         0.417250        0.065347               39  \n22           0.260446         0.391062        0.073196               40  \n8            0.231636         0.177061        0.080147               41  \n24           0.202191         0.166709        0.040726               42  \n13           0.044362         0.058747        0.099457               43  \n20          -0.207188        -0.287200        0.054168               44  \n1           -0.290036        -0.405885        0.067534               45  \n14          -0.329853        -0.418414        0.056061               46  \n9           -0.335127        -0.424017        0.056251               47  \n7           -0.364157        -0.455218        0.057003               48  \n5           -0.364157        -0.455218        0.057003               48  \n2           -0.364157        -0.455218        0.057003               48  ",
      "text/html": "<div>\n<style scoped>\n    .dataframe tbody tr th:only-of-type {\n        vertical-align: middle;\n    }\n\n    .dataframe tbody tr th {\n        vertical-align: top;\n    }\n\n    .dataframe thead th {\n        text-align: right;\n    }\n</style>\n<table border=\"1\" class=\"dataframe\">\n  <thead>\n    <tr style=\"text-align: right;\">\n      <th></th>\n      <th>mean_fit_time</th>\n      <th>std_fit_time</th>\n      <th>mean_score_time</th>\n      <th>std_score_time</th>\n      <th>param_model__C</th>\n      <th>param_model__epsilon</th>\n      <th>param_model__loss</th>\n      <th>param_model__max_iter</th>\n      <th>params</th>\n      <th>split0_test_score</th>\n      <th>split1_test_score</th>\n      <th>split2_test_score</th>\n      <th>split3_test_score</th>\n      <th>split4_test_score</th>\n      <th>split5_test_score</th>\n      <th>split6_test_score</th>\n      <th>split7_test_score</th>\n      <th>split8_test_score</th>\n      <th>split9_test_score</th>\n      <th>mean_test_score</th>\n      <th>std_test_score</th>\n      <th>rank_test_score</th>\n    </tr>\n  </thead>\n  <tbody>\n    <tr>\n      <th>40</th>\n      <td>5.733414</td>\n      <td>0.102186</td>\n      <td>0.017663</td>\n      <td>0.005012</td>\n      <td>0.002885</td>\n      <td>0.000049</td>\n      <td>squared_epsilon_insensitive</td>\n      <td>5000</td>\n      <td>{'model__C': 0.002885405558519924, 'model__eps...</td>\n      <td>0.614209</td>\n      <td>0.546284</td>\n      <td>0.573572</td>\n      <td>0.535130</td>\n      <td>0.575398</td>\n      <td>0.523122</td>\n      <td>0.571672</td>\n      <td>0.524606</td>\n      <td>0.532770</td>\n      <td>0.493583</td>\n      <td>0.549035</td>\n      <td>0.032963</td>\n      <td>1</td>\n    </tr>\n    <tr>\n      <th>41</th>\n      <td>4.239263</td>\n      <td>0.063931</td>\n      <td>0.018279</td>\n      <td>0.003125</td>\n      <td>0.002044</td>\n      <td>0.000021</td>\n      <td>squared_epsilon_insensitive</td>\n      <td>5000</td>\n      <td>{'model__C': 0.002043966407929869, 'model__eps...</td>\n      <td>0.613314</td>\n      <td>0.549749</td>\n      <td>0.572533</td>\n      <td>0.533623</td>\n      <td>0.573040</td>\n      <td>0.522517</td>\n      <td>0.571690</td>\n      <td>0.524677</td>\n      <td>0.533332</td>\n      <td>0.494524</td>\n      <td>0.548900</td>\n      <td>0.032444</td>\n      <td>2</td>\n    </tr>\n    <tr>\n      <th>49</th>\n      <td>9.245845</td>\n      <td>0.089831</td>\n      <td>0.015926</td>\n      <td>0.003097</td>\n      <td>0.004974</td>\n      <td>0.080372</td>\n      <td>squared_epsilon_insensitive</td>\n      <td>5000</td>\n      <td>{'model__C': 0.004974197388548909, 'model__eps...</td>\n      <td>0.613259</td>\n      <td>0.539382</td>\n      <td>0.573764</td>\n      <td>0.535391</td>\n      <td>0.577069</td>\n      <td>0.522452</td>\n      <td>0.568998</td>\n      <td>0.522868</td>\n      <td>0.531220</td>\n      <td>0.492682</td>\n      <td>0.547708</td>\n      <td>0.033267</td>\n      <td>3</td>\n    </tr>\n    <tr>\n      <th>30</th>\n      <td>10.402666</td>\n      <td>0.138166</td>\n      <td>0.018531</td>\n      <td>0.005813</td>\n      <td>0.006618</td>\n      <td>0.000026</td>\n      <td>squared_epsilon_insensitive</td>\n      <td>500</td>\n      <td>{'model__C': 0.006617515391390669, 'model__eps...</td>\n      <td>0.614161</td>\n      <td>0.535229</td>\n      <td>0.573827</td>\n      <td>0.537223</td>\n      <td>0.578651</td>\n      <td>0.523456</td>\n      <td>0.567093</td>\n      <td>0.523218</td>\n      <td>0.530873</td>\n      <td>0.490199</td>\n      <td>0.547393</td>\n      <td>0.033874</td>\n      <td>4</td>\n    </tr>\n    <tr>\n      <th>42</th>\n      <td>10.961124</td>\n      <td>0.111420</td>\n      <td>0.017702</td>\n      <td>0.002064</td>\n      <td>0.006664</td>\n      <td>0.000164</td>\n      <td>squared_epsilon_insensitive</td>\n      <td>5000</td>\n      <td>{'model__C': 0.006663895374404001, 'model__eps...</td>\n      <td>0.614152</td>\n      <td>0.535126</td>\n      <td>0.573811</td>\n      <td>0.537261</td>\n      <td>0.578669</td>\n      <td>0.523454</td>\n      <td>0.567022</td>\n      <td>0.523201</td>\n      <td>0.530841</td>\n      <td>0.490180</td>\n      <td>0.547372</td>\n      <td>0.033878</td>\n      <td>5</td>\n    </tr>\n    <tr>\n      <th>38</th>\n      <td>15.687170</td>\n      <td>0.189066</td>\n      <td>0.020932</td>\n      <td>0.004362</td>\n      <td>0.009809</td>\n      <td>0.000004</td>\n      <td>squared_epsilon_insensitive</td>\n      <td>5000</td>\n      <td>{'model__C': 0.009808628650870165, 'model__eps...</td>\n      <td>0.613329</td>\n      <td>0.529397</td>\n      <td>0.572999</td>\n      <td>0.538012</td>\n      <td>0.579356</td>\n      <td>0.523009</td>\n      <td>0.563026</td>\n      <td>0.522319</td>\n      <td>0.529999</td>\n      <td>0.487900</td>\n      <td>0.545935</td>\n      <td>0.034242</td>\n      <td>6</td>\n    </tr>\n    <tr>\n      <th>15</th>\n      <td>20.896913</td>\n      <td>0.351137</td>\n      <td>0.020249</td>\n      <td>0.006604</td>\n      <td>0.012549</td>\n      <td>0.000011</td>\n      <td>squared_epsilon_insensitive</td>\n      <td>4257</td>\n      <td>{'model__C': 0.012549284613691784, 'model__eps...</td>\n      <td>0.612609</td>\n      <td>0.525778</td>\n      <td>0.572172</td>\n      <td>0.538507</td>\n      <td>0.579609</td>\n      <td>0.522514</td>\n      <td>0.560044</td>\n      <td>0.521751</td>\n      <td>0.529506</td>\n      <td>0.486110</td>\n      <td>0.544860</td>\n      <td>0.034495</td>\n      <td>7</td>\n    </tr>\n    <tr>\n      <th>47</th>\n      <td>29.709077</td>\n      <td>0.324466</td>\n      <td>0.014729</td>\n      <td>0.003889</td>\n      <td>0.019401</td>\n      <td>0.000793</td>\n      <td>squared_epsilon_insensitive</td>\n      <td>5000</td>\n      <td>{'model__C': 0.019401398754580638, 'model__eps...</td>\n      <td>0.610956</td>\n      <td>0.519557</td>\n      <td>0.570217</td>\n      <td>0.539432</td>\n      <td>0.579704</td>\n      <td>0.521245</td>\n      <td>0.554311</td>\n      <td>0.520780</td>\n      <td>0.528656</td>\n      <td>0.482258</td>\n      <td>0.542712</td>\n      <td>0.035011</td>\n      <td>8</td>\n    </tr>\n    <tr>\n      <th>33</th>\n      <td>37.690242</td>\n      <td>0.267864</td>\n      <td>0.015699</td>\n      <td>0.004270</td>\n      <td>0.024915</td>\n      <td>0.000103</td>\n      <td>squared_epsilon_insensitive</td>\n      <td>5000</td>\n      <td>{'model__C': 0.0249149079277501, 'model__epsil...</td>\n      <td>0.609884</td>\n      <td>0.516140</td>\n      <td>0.568807</td>\n      <td>0.539970</td>\n      <td>0.579608</td>\n      <td>0.520367</td>\n      <td>0.550916</td>\n      <td>0.520264</td>\n      <td>0.528211</td>\n      <td>0.479571</td>\n      <td>0.541374</td>\n      <td>0.035380</td>\n      <td>9</td>\n    </tr>\n    <tr>\n      <th>43</th>\n      <td>42.633819</td>\n      <td>0.474050</td>\n      <td>0.014206</td>\n      <td>0.003699</td>\n      <td>0.027768</td>\n      <td>0.000002</td>\n      <td>squared_epsilon_insensitive</td>\n      <td>5000</td>\n      <td>{'model__C': 0.02776832535627547, 'model__epsi...</td>\n      <td>0.609396</td>\n      <td>0.514701</td>\n      <td>0.568142</td>\n      <td>0.540192</td>\n      <td>0.579518</td>\n      <td>0.519952</td>\n      <td>0.549450</td>\n      <td>0.520015</td>\n      <td>0.527975</td>\n      <td>0.478339</td>\n      <td>0.540768</td>\n      <td>0.035554</td>\n      <td>10</td>\n    </tr>\n    <tr>\n      <th>44</th>\n      <td>27.728605</td>\n      <td>0.136467</td>\n      <td>0.018890</td>\n      <td>0.005083</td>\n      <td>0.033776</td>\n      <td>0.028793</td>\n      <td>squared_epsilon_insensitive</td>\n      <td>500</td>\n      <td>{'model__C': 0.03377564541770605, 'model__epsi...</td>\n      <td>0.608088</td>\n      <td>0.512235</td>\n      <td>0.566888</td>\n      <td>0.540251</td>\n      <td>0.579152</td>\n      <td>0.519076</td>\n      <td>0.546867</td>\n      <td>0.519391</td>\n      <td>0.527674</td>\n      <td>0.476683</td>\n      <td>0.539630</td>\n      <td>0.035682</td>\n      <td>11</td>\n    </tr>\n    <tr>\n      <th>46</th>\n      <td>48.462662</td>\n      <td>0.530918</td>\n      <td>0.015255</td>\n      <td>0.003377</td>\n      <td>0.035297</td>\n      <td>0.012445</td>\n      <td>squared_epsilon_insensitive</td>\n      <td>5000</td>\n      <td>{'model__C': 0.03529658875984026, 'model__epsi...</td>\n      <td>0.608109</td>\n      <td>0.511606</td>\n      <td>0.566605</td>\n      <td>0.540564</td>\n      <td>0.579221</td>\n      <td>0.518945</td>\n      <td>0.546278</td>\n      <td>0.519463</td>\n      <td>0.527517</td>\n      <td>0.475831</td>\n      <td>0.539414</td>\n      <td>0.035869</td>\n      <td>12</td>\n    </tr>\n    <tr>\n      <th>17</th>\n      <td>59.355126</td>\n      <td>0.387857</td>\n      <td>0.018765</td>\n      <td>0.003642</td>\n      <td>0.039458</td>\n      <td>0.000004</td>\n      <td>squared_epsilon_insensitive</td>\n      <td>1174</td>\n      <td>{'model__C': 0.03945841145519083, 'model__epsi...</td>\n      <td>0.607747</td>\n      <td>0.510186</td>\n      <td>0.565835</td>\n      <td>0.540832</td>\n      <td>0.579113</td>\n      <td>0.518570</td>\n      <td>0.544799</td>\n      <td>0.519315</td>\n      <td>0.527217</td>\n      <td>0.474032</td>\n      <td>0.538765</td>\n      <td>0.036175</td>\n      <td>13</td>\n    </tr>\n    <tr>\n      <th>35</th>\n      <td>28.519219</td>\n      <td>0.184802</td>\n      <td>0.016827</td>\n      <td>0.004671</td>\n      <td>0.045149</td>\n      <td>0.000352</td>\n      <td>squared_epsilon_insensitive</td>\n      <td>500</td>\n      <td>{'model__C': 0.04514932780124539, 'model__epsi...</td>\n      <td>0.607018</td>\n      <td>0.508626</td>\n      <td>0.564838</td>\n      <td>0.540847</td>\n      <td>0.578803</td>\n      <td>0.518383</td>\n      <td>0.543114</td>\n      <td>0.518862</td>\n      <td>0.527064</td>\n      <td>0.472004</td>\n      <td>0.537956</td>\n      <td>0.036431</td>\n      <td>14</td>\n    </tr>\n    <tr>\n      <th>37</th>\n      <td>78.794699</td>\n      <td>0.634368</td>\n      <td>0.015845</td>\n      <td>0.003891</td>\n      <td>0.051258</td>\n      <td>0.000001</td>\n      <td>squared_epsilon_insensitive</td>\n      <td>5000</td>\n      <td>{'model__C': 0.051257770335958346, 'model__eps...</td>\n      <td>0.606485</td>\n      <td>0.506978</td>\n      <td>0.564019</td>\n      <td>0.541170</td>\n      <td>0.578704</td>\n      <td>0.517510</td>\n      <td>0.541546</td>\n      <td>0.518770</td>\n      <td>0.526620</td>\n      <td>0.470620</td>\n      <td>0.537242</td>\n      <td>0.036691</td>\n      <td>15</td>\n    </tr>\n    <tr>\n      <th>23</th>\n      <td>77.471398</td>\n      <td>0.634809</td>\n      <td>0.014009</td>\n      <td>0.004464</td>\n      <td>0.053109</td>\n      <td>0.000024</td>\n      <td>squared_epsilon_insensitive</td>\n      <td>5000</td>\n      <td>{'model__C': 0.053109190637561726, 'model__eps...</td>\n      <td>0.606306</td>\n      <td>0.506546</td>\n      <td>0.563773</td>\n      <td>0.541210</td>\n      <td>0.578636</td>\n      <td>0.517368</td>\n      <td>0.541126</td>\n      <td>0.518695</td>\n      <td>0.526543</td>\n      <td>0.470152</td>\n      <td>0.537035</td>\n      <td>0.036762</td>\n      <td>16</td>\n    </tr>\n    <tr>\n      <th>18</th>\n      <td>239.793010</td>\n      <td>1.243333</td>\n      <td>0.015391</td>\n      <td>0.004752</td>\n      <td>0.160629</td>\n      <td>0.000002</td>\n      <td>squared_epsilon_insensitive</td>\n      <td>4459</td>\n      <td>{'model__C': 0.1606291196847081, 'model__epsil...</td>\n      <td>0.601676</td>\n      <td>0.494268</td>\n      <td>0.556580</td>\n      <td>0.541220</td>\n      <td>0.576320</td>\n      <td>0.513779</td>\n      <td>0.529907</td>\n      <td>0.515882</td>\n      <td>0.523609</td>\n      <td>0.455811</td>\n      <td>0.530905</td>\n      <td>0.039232</td>\n      <td>17</td>\n    </tr>\n    <tr>\n      <th>32</th>\n      <td>251.972028</td>\n      <td>2.210349</td>\n      <td>0.015196</td>\n      <td>0.004195</td>\n      <td>0.176479</td>\n      <td>0.003365</td>\n      <td>squared_epsilon_insensitive</td>\n      <td>5000</td>\n      <td>{'model__C': 0.1764785817870294, 'model__epsil...</td>\n      <td>0.601334</td>\n      <td>0.493303</td>\n      <td>0.556103</td>\n      <td>0.541125</td>\n      <td>0.576077</td>\n      <td>0.513504</td>\n      <td>0.529137</td>\n      <td>0.515606</td>\n      <td>0.523372</td>\n      <td>0.454842</td>\n      <td>0.530440</td>\n      <td>0.039414</td>\n      <td>18</td>\n    </tr>\n    <tr>\n      <th>45</th>\n      <td>28.348914</td>\n      <td>0.098249</td>\n      <td>0.015178</td>\n      <td>0.005835</td>\n      <td>0.130441</td>\n      <td>0.034497</td>\n      <td>squared_epsilon_insensitive</td>\n      <td>500</td>\n      <td>{'model__C': 0.13044074726492733, 'model__epsi...</td>\n      <td>0.600239</td>\n      <td>0.491129</td>\n      <td>0.554862</td>\n      <td>0.538338</td>\n      <td>0.572937</td>\n      <td>0.516388</td>\n      <td>0.527065</td>\n      <td>0.509729</td>\n      <td>0.525520</td>\n      <td>0.454849</td>\n      <td>0.529106</td>\n      <td>0.039039</td>\n      <td>19</td>\n    </tr>\n    <tr>\n      <th>12</th>\n      <td>279.354803</td>\n      <td>0.924384</td>\n      <td>0.017239</td>\n      <td>0.004157</td>\n      <td>0.297111</td>\n      <td>0.001494</td>\n      <td>squared_epsilon_insensitive</td>\n      <td>4586</td>\n      <td>{'model__C': 0.29711106815022537, 'model__epsi...</td>\n      <td>0.599970</td>\n      <td>0.488501</td>\n      <td>0.553759</td>\n      <td>0.540710</td>\n      <td>0.574992</td>\n      <td>0.512568</td>\n      <td>0.525608</td>\n      <td>0.514104</td>\n      <td>0.521987</td>\n      <td>0.448967</td>\n      <td>0.528117</td>\n      <td>0.040611</td>\n      <td>20</td>\n    </tr>\n    <tr>\n      <th>48</th>\n      <td>281.708149</td>\n      <td>0.430380</td>\n      <td>0.021315</td>\n      <td>0.003058</td>\n      <td>0.345399</td>\n      <td>0.000033</td>\n      <td>squared_epsilon_insensitive</td>\n      <td>5000</td>\n      <td>{'model__C': 0.34539907262471287, 'model__epsi...</td>\n      <td>0.599531</td>\n      <td>0.487059</td>\n      <td>0.553144</td>\n      <td>0.540645</td>\n      <td>0.574583</td>\n      <td>0.512298</td>\n      <td>0.524585</td>\n      <td>0.513674</td>\n      <td>0.521645</td>\n      <td>0.447588</td>\n      <td>0.527475</td>\n      <td>0.040893</td>\n      <td>21</td>\n    </tr>\n    <tr>\n      <th>0</th>\n      <td>3.160318</td>\n      <td>0.068236</td>\n      <td>0.022305</td>\n      <td>0.006289</td>\n      <td>0.001909</td>\n      <td>0.663447</td>\n      <td>squared_epsilon_insensitive</td>\n      <td>1921</td>\n      <td>{'model__C': 0.0019091131576909443, 'model__ep...</td>\n      <td>0.586568</td>\n      <td>0.528951</td>\n      <td>0.549454</td>\n      <td>0.500063</td>\n      <td>0.547620</td>\n      <td>0.499833</td>\n      <td>0.550970</td>\n      <td>0.502549</td>\n      <td>0.516052</td>\n      <td>0.486308</td>\n      <td>0.526837</td>\n      <td>0.029821</td>\n      <td>22</td>\n    </tr>\n    <tr>\n      <th>25</th>\n      <td>273.835645</td>\n      <td>0.272014</td>\n      <td>0.017070</td>\n      <td>0.005146</td>\n      <td>0.431978</td>\n      <td>0.00844</td>\n      <td>squared_epsilon_insensitive</td>\n      <td>5000</td>\n      <td>{'model__C': 0.4319779759222822, 'model__epsil...</td>\n      <td>0.598865</td>\n      <td>0.485060</td>\n      <td>0.552434</td>\n      <td>0.540388</td>\n      <td>0.573933</td>\n      <td>0.511813</td>\n      <td>0.523205</td>\n      <td>0.513038</td>\n      <td>0.521126</td>\n      <td>0.445871</td>\n      <td>0.526573</td>\n      <td>0.041240</td>\n      <td>23</td>\n    </tr>\n    <tr>\n      <th>34</th>\n      <td>275.512031</td>\n      <td>0.440997</td>\n      <td>0.016384</td>\n      <td>0.003766</td>\n      <td>0.374169</td>\n      <td>0.127245</td>\n      <td>squared_epsilon_insensitive</td>\n      <td>5000</td>\n      <td>{'model__C': 0.3741690606594561, 'model__epsil...</td>\n      <td>0.596936</td>\n      <td>0.484402</td>\n      <td>0.552996</td>\n      <td>0.538740</td>\n      <td>0.572739</td>\n      <td>0.510136</td>\n      <td>0.522370</td>\n      <td>0.512921</td>\n      <td>0.521676</td>\n      <td>0.451177</td>\n      <td>0.526409</td>\n      <td>0.039861</td>\n      <td>24</td>\n    </tr>\n    <tr>\n      <th>16</th>\n      <td>270.376943</td>\n      <td>0.619647</td>\n      <td>0.020068</td>\n      <td>0.004929</td>\n      <td>0.617017</td>\n      <td>0.000013</td>\n      <td>squared_epsilon_insensitive</td>\n      <td>4829</td>\n      <td>{'model__C': 0.6170173201782495, 'model__epsil...</td>\n      <td>0.598574</td>\n      <td>0.482507</td>\n      <td>0.551522</td>\n      <td>0.540499</td>\n      <td>0.574212</td>\n      <td>0.511396</td>\n      <td>0.521621</td>\n      <td>0.512140</td>\n      <td>0.520819</td>\n      <td>0.443110</td>\n      <td>0.525640</td>\n      <td>0.042030</td>\n      <td>25</td>\n    </tr>\n    <tr>\n      <th>27</th>\n      <td>274.417214</td>\n      <td>0.243992</td>\n      <td>0.015326</td>\n      <td>0.004842</td>\n      <td>1.1069</td>\n      <td>0.057317</td>\n      <td>squared_epsilon_insensitive</td>\n      <td>5000</td>\n      <td>{'model__C': 1.1069001077430445, 'model__epsil...</td>\n      <td>0.594773</td>\n      <td>0.475963</td>\n      <td>0.549363</td>\n      <td>0.536046</td>\n      <td>0.570844</td>\n      <td>0.505914</td>\n      <td>0.513006</td>\n      <td>0.510205</td>\n      <td>0.516314</td>\n      <td>0.441295</td>\n      <td>0.521372</td>\n      <td>0.042152</td>\n      <td>26</td>\n    </tr>\n    <tr>\n      <th>21</th>\n      <td>15.664688</td>\n      <td>0.605861</td>\n      <td>0.014616</td>\n      <td>0.003905</td>\n      <td>0.023883</td>\n      <td>0.458624</td>\n      <td>epsilon_insensitive</td>\n      <td>3005</td>\n      <td>{'model__C': 0.02388290455014305, 'model__epsi...</td>\n      <td>0.588345</td>\n      <td>0.474999</td>\n      <td>0.541522</td>\n      <td>0.515398</td>\n      <td>0.540632</td>\n      <td>0.517589</td>\n      <td>0.549334</td>\n      <td>0.498187</td>\n      <td>0.513753</td>\n      <td>0.438302</td>\n      <td>0.517806</td>\n      <td>0.039514</td>\n      <td>27</td>\n    </tr>\n    <tr>\n      <th>28</th>\n      <td>26.357410</td>\n      <td>0.051332</td>\n      <td>0.017507</td>\n      <td>0.003000</td>\n      <td>0.178334</td>\n      <td>0.549816</td>\n      <td>squared_epsilon_insensitive</td>\n      <td>500</td>\n      <td>{'model__C': 0.1783342282400528, 'model__epsil...</td>\n      <td>0.586278</td>\n      <td>0.470959</td>\n      <td>0.543954</td>\n      <td>0.516045</td>\n      <td>0.557426</td>\n      <td>0.500464</td>\n      <td>0.505905</td>\n      <td>0.496165</td>\n      <td>0.518787</td>\n      <td>0.458442</td>\n      <td>0.515442</td>\n      <td>0.036769</td>\n      <td>28</td>\n    </tr>\n    <tr>\n      <th>11</th>\n      <td>6.587121</td>\n      <td>0.277572</td>\n      <td>0.017893</td>\n      <td>0.005270</td>\n      <td>0.007675</td>\n      <td>1.102823</td>\n      <td>epsilon_insensitive</td>\n      <td>3856</td>\n      <td>{'model__C': 0.007675152069723815, 'model__eps...</td>\n      <td>0.564542</td>\n      <td>0.484631</td>\n      <td>0.533202</td>\n      <td>0.489865</td>\n      <td>0.517178</td>\n      <td>0.509957</td>\n      <td>0.541996</td>\n      <td>0.491692</td>\n      <td>0.507361</td>\n      <td>0.444076</td>\n      <td>0.508450</td>\n      <td>0.032096</td>\n      <td>29</td>\n    </tr>\n    <tr>\n      <th>10</th>\n      <td>2.079035</td>\n      <td>0.073117</td>\n      <td>0.019625</td>\n      <td>0.002222</td>\n      <td>0.000604</td>\n      <td>0.743695</td>\n      <td>squared_epsilon_insensitive</td>\n      <td>2094</td>\n      <td>{'model__C': 0.0006044459226003504, 'model__ep...</td>\n      <td>0.549393</td>\n      <td>0.505286</td>\n      <td>0.511659</td>\n      <td>0.459927</td>\n      <td>0.506998</td>\n      <td>0.470376</td>\n      <td>0.512926</td>\n      <td>0.467196</td>\n      <td>0.490265</td>\n      <td>0.462242</td>\n      <td>0.493627</td>\n      <td>0.027374</td>\n      <td>30</td>\n    </tr>\n    <tr>\n      <th>4</th>\n      <td>200.658481</td>\n      <td>0.382780</td>\n      <td>0.013670</td>\n      <td>0.003765</td>\n      <td>2.491309</td>\n      <td>0.003193</td>\n      <td>squared_epsilon_insensitive</td>\n      <td>3721</td>\n      <td>{'model__C': 2.491308632420524, 'model__epsilo...</td>\n      <td>0.556596</td>\n      <td>0.427147</td>\n      <td>0.514784</td>\n      <td>0.510087</td>\n      <td>0.537887</td>\n      <td>0.493763</td>\n      <td>0.469846</td>\n      <td>0.464846</td>\n      <td>0.496221</td>\n      <td>0.395572</td>\n      <td>0.486675</td>\n      <td>0.046470</td>\n      <td>31</td>\n    </tr>\n    <tr>\n      <th>39</th>\n      <td>1.267853</td>\n      <td>0.017277</td>\n      <td>0.017701</td>\n      <td>0.002867</td>\n      <td>0.000138</td>\n      <td>0.000029</td>\n      <td>squared_epsilon_insensitive</td>\n      <td>5000</td>\n      <td>{'model__C': 0.00013826055578838024, 'model__e...</td>\n      <td>0.539430</td>\n      <td>0.500167</td>\n      <td>0.499733</td>\n      <td>0.449787</td>\n      <td>0.491042</td>\n      <td>0.464822</td>\n      <td>0.494385</td>\n      <td>0.456052</td>\n      <td>0.483327</td>\n      <td>0.455162</td>\n      <td>0.483391</td>\n      <td>0.026242</td>\n      <td>32</td>\n    </tr>\n    <tr>\n      <th>3</th>\n      <td>207.610131</td>\n      <td>0.150779</td>\n      <td>0.017307</td>\n      <td>0.002862</td>\n      <td>3.156225</td>\n      <td>0.000024</td>\n      <td>squared_epsilon_insensitive</td>\n      <td>4112</td>\n      <td>{'model__C': 3.1562246465541888, 'model__epsil...</td>\n      <td>0.558036</td>\n      <td>0.446013</td>\n      <td>0.527082</td>\n      <td>0.497994</td>\n      <td>0.525251</td>\n      <td>0.471091</td>\n      <td>0.468735</td>\n      <td>0.444206</td>\n      <td>0.450251</td>\n      <td>0.384161</td>\n      <td>0.477282</td>\n      <td>0.048287</td>\n      <td>33</td>\n    </tr>\n    <tr>\n      <th>6</th>\n      <td>51.914737</td>\n      <td>2.455740</td>\n      <td>0.018890</td>\n      <td>0.002797</td>\n      <td>0.086424</td>\n      <td>1.595567</td>\n      <td>epsilon_insensitive</td>\n      <td>4434</td>\n      <td>{'model__C': 0.08642410048155082, 'model__epsi...</td>\n      <td>0.541847</td>\n      <td>0.445584</td>\n      <td>0.498635</td>\n      <td>0.458338</td>\n      <td>0.497522</td>\n      <td>0.466536</td>\n      <td>0.500918</td>\n      <td>0.444689</td>\n      <td>0.469311</td>\n      <td>0.410522</td>\n      <td>0.473390</td>\n      <td>0.035360</td>\n      <td>34</td>\n    </tr>\n    <tr>\n      <th>36</th>\n      <td>28.820696</td>\n      <td>0.170837</td>\n      <td>0.018495</td>\n      <td>0.001780</td>\n      <td>0.392284</td>\n      <td>0.000004</td>\n      <td>squared_epsilon_insensitive</td>\n      <td>500</td>\n      <td>{'model__C': 0.39228371014955277, 'model__epsi...</td>\n      <td>0.564416</td>\n      <td>0.412664</td>\n      <td>0.490220</td>\n      <td>0.472297</td>\n      <td>0.515990</td>\n      <td>0.478480</td>\n      <td>0.453226</td>\n      <td>0.444313</td>\n      <td>0.474391</td>\n      <td>0.386908</td>\n      <td>0.469291</td>\n      <td>0.047605</td>\n      <td>35</td>\n    </tr>\n    <tr>\n      <th>26</th>\n      <td>47.105084</td>\n      <td>1.945903</td>\n      <td>0.014517</td>\n      <td>0.004502</td>\n      <td>0.012775</td>\n      <td>0.00021</td>\n      <td>epsilon_insensitive</td>\n      <td>4656</td>\n      <td>{'model__C': 0.012775229913028848, 'model__eps...</td>\n      <td>0.544826</td>\n      <td>0.419839</td>\n      <td>0.482896</td>\n      <td>0.455930</td>\n      <td>0.485754</td>\n      <td>0.484427</td>\n      <td>0.494047</td>\n      <td>0.435021</td>\n      <td>0.472997</td>\n      <td>0.390091</td>\n      <td>0.466583</td>\n      <td>0.041250</td>\n      <td>36</td>\n    </tr>\n    <tr>\n      <th>29</th>\n      <td>85.507126</td>\n      <td>7.970443</td>\n      <td>0.014436</td>\n      <td>0.004728</td>\n      <td>0.040133</td>\n      <td>0.000011</td>\n      <td>epsilon_insensitive</td>\n      <td>5000</td>\n      <td>{'model__C': 0.04013337151436596, 'model__epsi...</td>\n      <td>0.546925</td>\n      <td>0.386617</td>\n      <td>0.491320</td>\n      <td>0.441858</td>\n      <td>0.479340</td>\n      <td>0.471316</td>\n      <td>0.478351</td>\n      <td>0.424487</td>\n      <td>0.448713</td>\n      <td>0.382629</td>\n      <td>0.455155</td>\n      <td>0.047149</td>\n      <td>37</td>\n    </tr>\n    <tr>\n      <th>19</th>\n      <td>252.129008</td>\n      <td>0.381856</td>\n      <td>0.015769</td>\n      <td>0.005222</td>\n      <td>5.958005</td>\n      <td>0.23636</td>\n      <td>epsilon_insensitive</td>\n      <td>4667</td>\n      <td>{'model__C': 5.95800475071254, 'model__epsilon...</td>\n      <td>0.521153</td>\n      <td>0.369597</td>\n      <td>0.482944</td>\n      <td>0.512446</td>\n      <td>0.504309</td>\n      <td>0.456003</td>\n      <td>0.430733</td>\n      <td>0.391416</td>\n      <td>0.421540</td>\n      <td>0.323220</td>\n      <td>0.441336</td>\n      <td>0.062796</td>\n      <td>38</td>\n    </tr>\n    <tr>\n      <th>31</th>\n      <td>233.175072</td>\n      <td>0.499594</td>\n      <td>0.013421</td>\n      <td>0.004116</td>\n      <td>1.986957</td>\n      <td>0.025791</td>\n      <td>epsilon_insensitive</td>\n      <td>5000</td>\n      <td>{'model__C': 1.9869567693114385, 'model__epsil...</td>\n      <td>0.509476</td>\n      <td>0.319347</td>\n      <td>0.478158</td>\n      <td>0.473121</td>\n      <td>0.467651</td>\n      <td>0.433291</td>\n      <td>0.405143</td>\n      <td>0.392394</td>\n      <td>0.393525</td>\n      <td>0.300394</td>\n      <td>0.417250</td>\n      <td>0.065347</td>\n      <td>39</td>\n    </tr>\n    <tr>\n      <th>22</th>\n      <td>116.633446</td>\n      <td>0.170383</td>\n      <td>0.016423</td>\n      <td>0.003361</td>\n      <td>4.692873</td>\n      <td>0.000001</td>\n      <td>epsilon_insensitive</td>\n      <td>2207</td>\n      <td>{'model__C': 4.692872939998899, 'model__epsilo...</td>\n      <td>0.497585</td>\n      <td>0.316413</td>\n      <td>0.445047</td>\n      <td>0.454749</td>\n      <td>0.461810</td>\n      <td>0.416355</td>\n      <td>0.352849</td>\n      <td>0.316801</td>\n      <td>0.388565</td>\n      <td>0.260446</td>\n      <td>0.391062</td>\n      <td>0.073196</td>\n      <td>40</td>\n    </tr>\n    <tr>\n      <th>8</th>\n      <td>137.142215</td>\n      <td>0.468658</td>\n      <td>0.018922</td>\n      <td>0.001924</td>\n      <td>44.037625</td>\n      <td>0.402691</td>\n      <td>squared_epsilon_insensitive</td>\n      <td>2371</td>\n      <td>{'model__C': 44.037625157309144, 'model__epsil...</td>\n      <td>0.298951</td>\n      <td>0.109945</td>\n      <td>0.127739</td>\n      <td>0.131141</td>\n      <td>0.190325</td>\n      <td>0.020279</td>\n      <td>0.179877</td>\n      <td>0.192529</td>\n      <td>0.288192</td>\n      <td>0.231636</td>\n      <td>0.177061</td>\n      <td>0.080147</td>\n      <td>41</td>\n    </tr>\n    <tr>\n      <th>24</th>\n      <td>1.108363</td>\n      <td>0.020409</td>\n      <td>0.017718</td>\n      <td>0.001772</td>\n      <td>0.000018</td>\n      <td>0.000001</td>\n      <td>squared_epsilon_insensitive</td>\n      <td>5000</td>\n      <td>{'model__C': 1.768294595212548e-05, 'model__ep...</td>\n      <td>0.222388</td>\n      <td>0.173730</td>\n      <td>0.179839</td>\n      <td>0.080096</td>\n      <td>0.166518</td>\n      <td>0.151924</td>\n      <td>0.172491</td>\n      <td>0.113511</td>\n      <td>0.204409</td>\n      <td>0.202191</td>\n      <td>0.166709</td>\n      <td>0.040726</td>\n      <td>42</td>\n    </tr>\n    <tr>\n      <th>13</th>\n      <td>34.147898</td>\n      <td>0.214683</td>\n      <td>0.017207</td>\n      <td>0.005460</td>\n      <td>100.0</td>\n      <td>0.000205</td>\n      <td>squared_epsilon_insensitive</td>\n      <td>592</td>\n      <td>{'model__C': 100.0, 'model__epsilon': 0.000205...</td>\n      <td>0.064784</td>\n      <td>-0.096521</td>\n      <td>-0.051017</td>\n      <td>0.046238</td>\n      <td>0.004363</td>\n      <td>0.000650</td>\n      <td>0.229193</td>\n      <td>0.150326</td>\n      <td>0.195090</td>\n      <td>0.044362</td>\n      <td>0.058747</td>\n      <td>0.099457</td>\n      <td>43</td>\n    </tr>\n    <tr>\n      <th>20</th>\n      <td>1.017536</td>\n      <td>0.007898</td>\n      <td>0.019615</td>\n      <td>0.001351</td>\n      <td>0.000001</td>\n      <td>0.254728</td>\n      <td>squared_epsilon_insensitive</td>\n      <td>1670</td>\n      <td>{'model__C': 1e-06, 'model__epsilon': 0.254727...</td>\n      <td>-0.241563</td>\n      <td>-0.279934</td>\n      <td>-0.284028</td>\n      <td>-0.395918</td>\n      <td>-0.285905</td>\n      <td>-0.305676</td>\n      <td>-0.282604</td>\n      <td>-0.359786</td>\n      <td>-0.229394</td>\n      <td>-0.207188</td>\n      <td>-0.287200</td>\n      <td>0.054168</td>\n      <td>44</td>\n    </tr>\n    <tr>\n      <th>1</th>\n      <td>0.702597</td>\n      <td>0.188095</td>\n      <td>0.016810</td>\n      <td>0.002885</td>\n      <td>5.001576</td>\n      <td>11.655267</td>\n      <td>epsilon_insensitive</td>\n      <td>4781</td>\n      <td>{'model__C': 5.001575677983704, 'model__epsilo...</td>\n      <td>-0.350688</td>\n      <td>-0.423980</td>\n      <td>-0.388350</td>\n      <td>-0.538396</td>\n      <td>-0.380414</td>\n      <td>-0.464891</td>\n      <td>-0.408265</td>\n      <td>-0.465264</td>\n      <td>-0.348569</td>\n      <td>-0.290036</td>\n      <td>-0.405885</td>\n      <td>0.067534</td>\n      <td>45</td>\n    </tr>\n    <tr>\n      <th>14</th>\n      <td>0.889397</td>\n      <td>0.042377</td>\n      <td>0.018697</td>\n      <td>0.002327</td>\n      <td>0.000001</td>\n      <td>0.003086</td>\n      <td>epsilon_insensitive</td>\n      <td>2626</td>\n      <td>{'model__C': 1e-06, 'model__epsilon': 0.003086...</td>\n      <td>-0.375916</td>\n      <td>-0.407918</td>\n      <td>-0.410375</td>\n      <td>-0.528214</td>\n      <td>-0.411951</td>\n      <td>-0.436484</td>\n      <td>-0.423102</td>\n      <td>-0.496806</td>\n      <td>-0.363524</td>\n      <td>-0.329853</td>\n      <td>-0.418414</td>\n      <td>0.056061</td>\n      <td>46</td>\n    </tr>\n    <tr>\n      <th>9</th>\n      <td>0.957579</td>\n      <td>0.044277</td>\n      <td>0.023518</td>\n      <td>0.006953</td>\n      <td>0.000001</td>\n      <td>3.488511</td>\n      <td>squared_epsilon_insensitive</td>\n      <td>1645</td>\n      <td>{'model__C': 1.0691593986059968e-06, 'model__e...</td>\n      <td>-0.381667</td>\n      <td>-0.413162</td>\n      <td>-0.415773</td>\n      <td>-0.534455</td>\n      <td>-0.417937</td>\n      <td>-0.441438</td>\n      <td>-0.428426</td>\n      <td>-0.502849</td>\n      <td>-0.369333</td>\n      <td>-0.335127</td>\n      <td>-0.424017</td>\n      <td>0.056251</td>\n      <td>47</td>\n    </tr>\n    <tr>\n      <th>7</th>\n      <td>0.835760</td>\n      <td>0.034869</td>\n      <td>0.021818</td>\n      <td>0.003290</td>\n      <td>0.022245</td>\n      <td>22.91257</td>\n      <td>epsilon_insensitive</td>\n      <td>4269</td>\n      <td>{'model__C': 0.022244596968016832, 'model__eps...</td>\n      <td>-0.413066</td>\n      <td>-0.443948</td>\n      <td>-0.445213</td>\n      <td>-0.566075</td>\n      <td>-0.446887</td>\n      <td>-0.472949</td>\n      <td>-0.463323</td>\n      <td>-0.535799</td>\n      <td>-0.400762</td>\n      <td>-0.364157</td>\n      <td>-0.455218</td>\n      <td>0.057003</td>\n      <td>48</td>\n    </tr>\n    <tr>\n      <th>5</th>\n      <td>0.687194</td>\n      <td>0.007340</td>\n      <td>0.020472</td>\n      <td>0.004153</td>\n      <td>0.745116</td>\n      <td>32.730897</td>\n      <td>epsilon_insensitive</td>\n      <td>1348</td>\n      <td>{'model__C': 0.7451164370027008, 'model__epsil...</td>\n      <td>-0.413066</td>\n      <td>-0.443948</td>\n      <td>-0.445213</td>\n      <td>-0.566075</td>\n      <td>-0.446887</td>\n      <td>-0.472949</td>\n      <td>-0.463323</td>\n      <td>-0.535799</td>\n      <td>-0.400762</td>\n      <td>-0.364157</td>\n      <td>-0.455218</td>\n      <td>0.057003</td>\n      <td>48</td>\n    </tr>\n    <tr>\n      <th>2</th>\n      <td>0.740976</td>\n      <td>0.026279</td>\n      <td>0.020710</td>\n      <td>0.002586</td>\n      <td>0.00362</td>\n      <td>22.375883</td>\n      <td>epsilon_insensitive</td>\n      <td>2450</td>\n      <td>{'model__C': 0.003619595990038508, 'model__eps...</td>\n      <td>-0.413066</td>\n      <td>-0.443948</td>\n      <td>-0.445213</td>\n      <td>-0.566075</td>\n      <td>-0.446887</td>\n      <td>-0.472949</td>\n      <td>-0.463323</td>\n      <td>-0.535799</td>\n      <td>-0.400762</td>\n      <td>-0.364157</td>\n      <td>-0.455218</td>\n      <td>0.057003</td>\n      <td>48</td>\n    </tr>\n  </tbody>\n</table>\n</div>"
     },
     "execution_count": 55,
     "metadata": {},
     "output_type": "execute_result"
    }
   ],
   "source": [
    "lsvr_grid_search_dataframe = pd.DataFrame(\n",
    "    np.load(\"Dataset_Files/Baseline_Models/Regression/optimised_lsvr_cv_results.npy\", allow_pickle=True).tolist())\n",
    "lsvr_grid_search_dataframe.sort_values(by=[\"rank_test_score\"], inplace=True)\n",
    "lsvr_grid_search_dataframe"
   ],
   "metadata": {
    "collapsed": false,
    "pycharm": {
     "name": "#%%\n"
    }
   }
  },
  {
   "cell_type": "markdown",
   "source": [
    "### Testing"
   ],
   "metadata": {
    "collapsed": false,
    "pycharm": {
     "name": "#%% md\n"
    }
   }
  },
  {
   "cell_type": "code",
   "execution_count": 60,
   "outputs": [
    {
     "name": "stdout",
     "output_type": "stream",
     "text": [
      "Metrics after 1000 bootstrapped samples of size 50\n",
      "--------------------------------------------------------\n",
      "Median Negated-MAE: -2.44 with a 95% confidence interval of [-3.01,-1.92]\n",
      "Median R2: -0.94 with a 95% confidence interval of [-2.82,-0.13]\n"
     ]
    }
   ],
   "source": [
    "get_confidence_intervals(optimised_lsvr, X_test, y_test, 50, \"Regression\")"
   ],
   "metadata": {
    "collapsed": false,
    "pycharm": {
     "name": "#%%\n"
    }
   }
  },
  {
   "cell_type": "markdown",
   "source": [
    "## K-Nearest Neighbors Regressor (KNNR)"
   ],
   "metadata": {
    "collapsed": false,
    "pycharm": {
     "name": "#%% md\n"
    }
   }
  },
  {
   "cell_type": "code",
   "execution_count": 61,
   "outputs": [
    {
     "data": {
      "text/plain": "{'memory': None,\n 'steps': [('scale', StandardScaler()), ('model', KNeighborsRegressor())],\n 'verbose': False,\n 'scale': StandardScaler(),\n 'model': KNeighborsRegressor(),\n 'scale__copy': True,\n 'scale__with_mean': True,\n 'scale__with_std': True,\n 'model__algorithm': 'auto',\n 'model__leaf_size': 30,\n 'model__metric': 'minkowski',\n 'model__metric_params': None,\n 'model__n_jobs': None,\n 'model__n_neighbors': 5,\n 'model__p': 2,\n 'model__weights': 'uniform'}"
     },
     "execution_count": 61,
     "metadata": {},
     "output_type": "execute_result"
    }
   ],
   "source": [
    "pipe = Pipeline(\n",
    "    [\n",
    "        ('scale', StandardScaler()),\n",
    "        ('model', KNeighborsRegressor())\n",
    "    ]\n",
    ")\n",
    "pipe.get_params()"
   ],
   "metadata": {
    "collapsed": false,
    "pycharm": {
     "name": "#%%\n"
    }
   }
  },
  {
   "cell_type": "code",
   "execution_count": 62,
   "outputs": [],
   "source": [
    "model = BayesSearchCV(estimator=pipe,\n",
    "                      search_spaces={\n",
    "                          'model__n_neighbors': Integer(4, 20),\n",
    "                          'model__weights': Categorical(['uniform', 'distance']),\n",
    "                          'model__algorithm': Categorical(['auto', 'ball_tree', 'kd_tree', 'brute']),\n",
    "                      },\n",
    "                      scoring='r2',\n",
    "                      cv=10,\n",
    "                      error_score=np.nan,\n",
    "                      n_jobs=-1,\n",
    "                      pre_dispatch='2*n_jobs',\n",
    "                      random_state=42)"
   ],
   "metadata": {
    "collapsed": false,
    "pycharm": {
     "name": "#%%\n"
    }
   }
  },
  {
   "cell_type": "markdown",
   "source": [
    "### Training"
   ],
   "metadata": {
    "collapsed": false,
    "pycharm": {
     "name": "#%% md\n"
    }
   }
  },
  {
   "cell_type": "code",
   "execution_count": 63,
   "outputs": [
    {
     "name": "stdout",
     "output_type": "stream",
     "text": [
      "Iteration Completed: 1\n",
      "Iteration Completed: 2\n",
      "Iteration Completed: 3\n",
      "Iteration Completed: 4\n",
      "Iteration Completed: 5\n",
      "Iteration Completed: 6\n",
      "Iteration Completed: 7\n",
      "Iteration Completed: 8\n",
      "Iteration Completed: 9\n",
      "Iteration Completed: 10\n",
      "Iteration Completed: 11\n",
      "Iteration Completed: 12\n",
      "Iteration Completed: 13\n",
      "Iteration Completed: 14\n",
      "Iteration Completed: 15\n",
      "Iteration Completed: 16\n",
      "Iteration Completed: 17\n",
      "Iteration Completed: 18\n",
      "Iteration Completed: 19\n",
      "Iteration Completed: 20\n",
      "Iteration Completed: 21\n",
      "Iteration Completed: 22\n",
      "Iteration Completed: 23\n",
      "Iteration Completed: 24\n",
      "Iteration Completed: 25\n",
      "Iteration Completed: 26\n",
      "Iteration Completed: 27\n",
      "Iteration Completed: 28\n",
      "Iteration Completed: 29\n",
      "Iteration Completed: 30\n"
     ]
    },
    {
     "name": "stderr",
     "output_type": "stream",
     "text": [
      "C:\\Users\\jogeo\\anaconda3\\envs\\AlphaFold_Dataset_Drug_Binding_Prediction\\lib\\site-packages\\skopt\\optimizer\\optimizer.py:449: UserWarning: The objective has been evaluated at this point before.\n",
      "  warnings.warn(\"The objective has been evaluated \"\n"
     ]
    },
    {
     "name": "stdout",
     "output_type": "stream",
     "text": [
      "Iteration Completed: 31\n"
     ]
    },
    {
     "name": "stderr",
     "output_type": "stream",
     "text": [
      "C:\\Users\\jogeo\\anaconda3\\envs\\AlphaFold_Dataset_Drug_Binding_Prediction\\lib\\site-packages\\skopt\\optimizer\\optimizer.py:449: UserWarning: The objective has been evaluated at this point before.\n",
      "  warnings.warn(\"The objective has been evaluated \"\n"
     ]
    },
    {
     "name": "stdout",
     "output_type": "stream",
     "text": [
      "Iteration Completed: 32\n",
      "Iteration Completed: 33\n"
     ]
    },
    {
     "name": "stderr",
     "output_type": "stream",
     "text": [
      "C:\\Users\\jogeo\\anaconda3\\envs\\AlphaFold_Dataset_Drug_Binding_Prediction\\lib\\site-packages\\skopt\\optimizer\\optimizer.py:449: UserWarning: The objective has been evaluated at this point before.\n",
      "  warnings.warn(\"The objective has been evaluated \"\n"
     ]
    },
    {
     "name": "stdout",
     "output_type": "stream",
     "text": [
      "Iteration Completed: 34\n",
      "Iteration Completed: 35\n"
     ]
    },
    {
     "name": "stderr",
     "output_type": "stream",
     "text": [
      "C:\\Users\\jogeo\\anaconda3\\envs\\AlphaFold_Dataset_Drug_Binding_Prediction\\lib\\site-packages\\skopt\\optimizer\\optimizer.py:449: UserWarning: The objective has been evaluated at this point before.\n",
      "  warnings.warn(\"The objective has been evaluated \"\n"
     ]
    },
    {
     "name": "stdout",
     "output_type": "stream",
     "text": [
      "Iteration Completed: 36\n",
      "Iteration Completed: 37\n",
      "Iteration Completed: 38\n",
      "Iteration Completed: 39\n"
     ]
    },
    {
     "name": "stderr",
     "output_type": "stream",
     "text": [
      "C:\\Users\\jogeo\\anaconda3\\envs\\AlphaFold_Dataset_Drug_Binding_Prediction\\lib\\site-packages\\skopt\\optimizer\\optimizer.py:449: UserWarning: The objective has been evaluated at this point before.\n",
      "  warnings.warn(\"The objective has been evaluated \"\n"
     ]
    },
    {
     "name": "stdout",
     "output_type": "stream",
     "text": [
      "Iteration Completed: 40\n"
     ]
    },
    {
     "name": "stderr",
     "output_type": "stream",
     "text": [
      "C:\\Users\\jogeo\\anaconda3\\envs\\AlphaFold_Dataset_Drug_Binding_Prediction\\lib\\site-packages\\skopt\\optimizer\\optimizer.py:449: UserWarning: The objective has been evaluated at this point before.\n",
      "  warnings.warn(\"The objective has been evaluated \"\n"
     ]
    },
    {
     "name": "stdout",
     "output_type": "stream",
     "text": [
      "Iteration Completed: 41\n"
     ]
    },
    {
     "name": "stderr",
     "output_type": "stream",
     "text": [
      "C:\\Users\\jogeo\\anaconda3\\envs\\AlphaFold_Dataset_Drug_Binding_Prediction\\lib\\site-packages\\skopt\\optimizer\\optimizer.py:449: UserWarning: The objective has been evaluated at this point before.\n",
      "  warnings.warn(\"The objective has been evaluated \"\n"
     ]
    },
    {
     "name": "stdout",
     "output_type": "stream",
     "text": [
      "Iteration Completed: 42\n",
      "Iteration Completed: 43\n"
     ]
    },
    {
     "name": "stderr",
     "output_type": "stream",
     "text": [
      "C:\\Users\\jogeo\\anaconda3\\envs\\AlphaFold_Dataset_Drug_Binding_Prediction\\lib\\site-packages\\skopt\\optimizer\\optimizer.py:449: UserWarning: The objective has been evaluated at this point before.\n",
      "  warnings.warn(\"The objective has been evaluated \"\n"
     ]
    },
    {
     "name": "stdout",
     "output_type": "stream",
     "text": [
      "Iteration Completed: 44\n",
      "Iteration Completed: 45\n",
      "Iteration Completed: 46\n"
     ]
    },
    {
     "name": "stderr",
     "output_type": "stream",
     "text": [
      "C:\\Users\\jogeo\\anaconda3\\envs\\AlphaFold_Dataset_Drug_Binding_Prediction\\lib\\site-packages\\skopt\\optimizer\\optimizer.py:449: UserWarning: The objective has been evaluated at this point before.\n",
      "  warnings.warn(\"The objective has been evaluated \"\n"
     ]
    },
    {
     "name": "stdout",
     "output_type": "stream",
     "text": [
      "Iteration Completed: 47\n"
     ]
    },
    {
     "name": "stderr",
     "output_type": "stream",
     "text": [
      "C:\\Users\\jogeo\\anaconda3\\envs\\AlphaFold_Dataset_Drug_Binding_Prediction\\lib\\site-packages\\skopt\\optimizer\\optimizer.py:449: UserWarning: The objective has been evaluated at this point before.\n",
      "  warnings.warn(\"The objective has been evaluated \"\n"
     ]
    },
    {
     "name": "stdout",
     "output_type": "stream",
     "text": [
      "Iteration Completed: 48\n"
     ]
    },
    {
     "name": "stderr",
     "output_type": "stream",
     "text": [
      "C:\\Users\\jogeo\\anaconda3\\envs\\AlphaFold_Dataset_Drug_Binding_Prediction\\lib\\site-packages\\skopt\\optimizer\\optimizer.py:449: UserWarning: The objective has been evaluated at this point before.\n",
      "  warnings.warn(\"The objective has been evaluated \"\n"
     ]
    },
    {
     "name": "stdout",
     "output_type": "stream",
     "text": [
      "Iteration Completed: 49\n"
     ]
    },
    {
     "name": "stderr",
     "output_type": "stream",
     "text": [
      "C:\\Users\\jogeo\\anaconda3\\envs\\AlphaFold_Dataset_Drug_Binding_Prediction\\lib\\site-packages\\skopt\\optimizer\\optimizer.py:449: UserWarning: The objective has been evaluated at this point before.\n",
      "  warnings.warn(\"The objective has been evaluated \"\n"
     ]
    },
    {
     "name": "stdout",
     "output_type": "stream",
     "text": [
      "Iteration Completed: 50\n",
      "R2 Score: 1.0\n",
      "Negated Mean Absolute Error: -0.0\n"
     ]
    }
   ],
   "source": [
    "# index = 1\n",
    "# model.fit(X_train, y_train, callback=on_step)\n",
    "#\n",
    "# optimised_knnr = model.best_estimator_\n",
    "#\n",
    "# y_train_pred = optimised_knnr.predict(X_train)\n",
    "# calculate_metrics_regression(y_train, y_train_pred)\n",
    "#\n",
    "# # Save Model & CV Results\n",
    "# dump(optimised_knnr, 'Dataset_Files/Baseline_Models/Regression/optimised_knnr.joblib')\n",
    "# np.save(\"Dataset_Files/Baseline_Models/Regression/optimised_knnr_cv_results.npy\", model.cv_results_)"
   ],
   "metadata": {
    "collapsed": false,
    "pycharm": {
     "name": "#%%\n"
    }
   }
  },
  {
   "cell_type": "code",
   "execution_count": 64,
   "outputs": [],
   "source": [
    "# Load Model\n",
    "optimised_knnr = load('Dataset_Files/Baseline_Models/Regression/optimised_knnr.joblib')"
   ],
   "metadata": {
    "collapsed": false,
    "pycharm": {
     "name": "#%%\n"
    }
   }
  },
  {
   "cell_type": "code",
   "execution_count": 65,
   "outputs": [
    {
     "name": "stdout",
     "output_type": "stream",
     "text": [
      "R2 Score: 1.0\n",
      "Negated Mean Absolute Error: -0.0\n"
     ]
    }
   ],
   "source": [
    "y_train_pred = optimised_knnr.predict(X_train)\n",
    "calculate_metrics_regression(y_train, y_train_pred)"
   ],
   "metadata": {
    "collapsed": false,
    "pycharm": {
     "name": "#%%\n"
    }
   }
  },
  {
   "cell_type": "code",
   "execution_count": 70,
   "outputs": [
    {
     "name": "stdout",
     "output_type": "stream",
     "text": [
      "Metrics after 1000 bootstrapped samples of size 1000\n",
      "--------------------------------------------------------\n",
      "Median Negated-MAE: -0.00 with a 95% confidence interval of [-0.00,0.00]\n",
      "Median R2: 1.00 with a 95% confidence interval of [1.00,1.00]\n"
     ]
    }
   ],
   "source": [
    "if os.path.exists(\"Dataset_Files/Baseline_Models/Regression/optimised_knnr_train_metrics.txt\"):\n",
    "    with open(\"Dataset_Files/Baseline_Models/Regression/optimised_knnr_train_metrics.txt\", \"r\") as file:\n",
    "        print(file.read())\n",
    "else:\n",
    "    get_confidence_intervals(optimised_knnr, X_train, y_train, 1000, \"Regression\", print_iterator=True)"
   ],
   "metadata": {
    "collapsed": false,
    "pycharm": {
     "name": "#%%\n"
    }
   }
  },
  {
   "cell_type": "code",
   "execution_count": null,
   "outputs": [],
   "source": [
    "optimised_knnr.get_params()"
   ],
   "metadata": {
    "collapsed": false,
    "pycharm": {
     "name": "#%%\n"
    }
   }
  },
  {
   "cell_type": "code",
   "execution_count": null,
   "outputs": [],
   "source": [
    "knnr_grid_search_dataframe = pd.DataFrame(\n",
    "    np.load(\"Dataset_Files/Baseline_Models/Regression/optimised_knnr_cv_results.npy\", allow_pickle=True).tolist())\n",
    "knnr_grid_search_dataframe.sort_values(by=[\"rank_test_score\"], inplace=True)\n",
    "knnr_grid_search_dataframe"
   ],
   "metadata": {
    "collapsed": false,
    "pycharm": {
     "name": "#%%\n"
    }
   }
  },
  {
   "cell_type": "markdown",
   "source": [
    "### Testing"
   ],
   "metadata": {
    "collapsed": false,
    "pycharm": {
     "name": "#%% md\n"
    }
   }
  },
  {
   "cell_type": "code",
   "execution_count": 71,
   "outputs": [
    {
     "name": "stdout",
     "output_type": "stream",
     "text": [
      "R2 Score: -0.1380421442413382\n",
      "Negated Mean Absolute Error: -1.5444833534434703\n"
     ]
    }
   ],
   "source": [
    "y_test_pred = optimised_knnr.predict(X_test)\n",
    "calculate_metrics_regression(y_test, y_test_pred)"
   ],
   "metadata": {
    "collapsed": false,
    "pycharm": {
     "name": "#%%\n"
    }
   }
  },
  {
   "cell_type": "code",
   "execution_count": 73,
   "outputs": [
    {
     "name": "stdout",
     "output_type": "stream",
     "text": [
      "Metrics after 1000 bootstrapped samples of size 50\n",
      "--------------------------------------------------------\n",
      "Median Negated-MAE: -1.54 with a 95% confidence interval of [-2.09,-1.06]\n",
      "Median R2: -0.17 with a 95% confidence interval of [-0.52,0.17]\n"
     ]
    }
   ],
   "source": [
    "if os.path.exists(\"Dataset_Files/Baseline_Models/Regression/optimised_knnr_test_metrics.txt\"):\n",
    "    with open(\"Dataset_Files/Baseline_Models/Regression/optimised_knnr_test_metrics.txt\", \"r\") as file:\n",
    "        print(file.read())\n",
    "else:\n",
    "    get_confidence_intervals(optimised_knnr, X_test, y_test, 50, \"Regression\", print_iterator=True)"
   ],
   "metadata": {
    "collapsed": false,
    "pycharm": {
     "name": "#%%\n"
    }
   }
  },
  {
   "cell_type": "markdown",
   "source": [
    "## Decision Tree Regressor (DTR)"
   ],
   "metadata": {
    "collapsed": false,
    "pycharm": {
     "name": "#%% md\n"
    }
   }
  },
  {
   "cell_type": "code",
   "execution_count": 77,
   "outputs": [
    {
     "data": {
      "text/plain": "{'memory': None,\n 'steps': [('scale', StandardScaler()),\n  ('model', DecisionTreeRegressor(random_state=0))],\n 'verbose': False,\n 'scale': StandardScaler(),\n 'model': DecisionTreeRegressor(random_state=0),\n 'scale__copy': True,\n 'scale__with_mean': True,\n 'scale__with_std': True,\n 'model__ccp_alpha': 0.0,\n 'model__criterion': 'squared_error',\n 'model__max_depth': None,\n 'model__max_features': None,\n 'model__max_leaf_nodes': None,\n 'model__min_impurity_decrease': 0.0,\n 'model__min_samples_leaf': 1,\n 'model__min_samples_split': 2,\n 'model__min_weight_fraction_leaf': 0.0,\n 'model__random_state': 0,\n 'model__splitter': 'best'}"
     },
     "execution_count": 77,
     "metadata": {},
     "output_type": "execute_result"
    }
   ],
   "source": [
    "pipe = Pipeline(\n",
    "    [\n",
    "        ('scale', StandardScaler()),\n",
    "        ('model', DecisionTreeRegressor(random_state=0))\n",
    "    ]\n",
    ")\n",
    "pipe.get_params()"
   ],
   "metadata": {
    "collapsed": false,
    "pycharm": {
     "name": "#%%\n"
    }
   }
  },
  {
   "cell_type": "code",
   "execution_count": 78,
   "outputs": [],
   "source": [
    "model = BayesSearchCV(estimator=pipe,\n",
    "                      search_spaces={\n",
    "                          'model__criterion': Categorical(\n",
    "                              ['squared_error', 'friedman_mse', 'absolute_error']),\n",
    "                          'model__splitter': Categorical(['best', 'random']),\n",
    "                          'model__max_features': Categorical([None, 'sqrt', 'log2']),\n",
    "                      },\n",
    "                      scoring='r2',\n",
    "                      cv=10,\n",
    "                      error_score=np.nan,\n",
    "                      n_jobs=-1,\n",
    "                      pre_dispatch='2*n_jobs',\n",
    "                      random_state=42)"
   ],
   "metadata": {
    "collapsed": false,
    "pycharm": {
     "name": "#%%\n"
    }
   }
  },
  {
   "cell_type": "markdown",
   "source": [
    "### Training"
   ],
   "metadata": {
    "collapsed": false,
    "pycharm": {
     "name": "#%% md\n"
    }
   }
  },
  {
   "cell_type": "code",
   "execution_count": 79,
   "outputs": [
    {
     "name": "stdout",
     "output_type": "stream",
     "text": [
      "Iteration Completed: 1\n",
      "Iteration Completed: 2\n",
      "Iteration Completed: 3\n",
      "Iteration Completed: 4\n",
      "Iteration Completed: 5\n",
      "Iteration Completed: 6\n",
      "Iteration Completed: 7\n",
      "Iteration Completed: 8\n",
      "Iteration Completed: 9\n",
      "Iteration Completed: 10\n",
      "Iteration Completed: 11\n",
      "Iteration Completed: 12\n"
     ]
    },
    {
     "name": "stderr",
     "output_type": "stream",
     "text": [
      "C:\\Users\\jogeo\\anaconda3\\envs\\AlphaFold_Dataset_Drug_Binding_Prediction\\lib\\site-packages\\skopt\\optimizer\\optimizer.py:449: UserWarning: The objective has been evaluated at this point before.\n",
      "  warnings.warn(\"The objective has been evaluated \"\n"
     ]
    },
    {
     "name": "stdout",
     "output_type": "stream",
     "text": [
      "Iteration Completed: 13\n",
      "Iteration Completed: 14\n",
      "Iteration Completed: 15\n",
      "Iteration Completed: 16\n",
      "Iteration Completed: 17\n",
      "Iteration Completed: 18\n",
      "Iteration Completed: 19\n",
      "Iteration Completed: 20\n"
     ]
    },
    {
     "name": "stderr",
     "output_type": "stream",
     "text": [
      "C:\\Users\\jogeo\\anaconda3\\envs\\AlphaFold_Dataset_Drug_Binding_Prediction\\lib\\site-packages\\skopt\\optimizer\\optimizer.py:449: UserWarning: The objective has been evaluated at this point before.\n",
      "  warnings.warn(\"The objective has been evaluated \"\n"
     ]
    },
    {
     "name": "stdout",
     "output_type": "stream",
     "text": [
      "Iteration Completed: 21\n",
      "Iteration Completed: 22\n",
      "Iteration Completed: 23\n",
      "Iteration Completed: 24\n"
     ]
    },
    {
     "name": "stderr",
     "output_type": "stream",
     "text": [
      "C:\\Users\\jogeo\\anaconda3\\envs\\AlphaFold_Dataset_Drug_Binding_Prediction\\lib\\site-packages\\skopt\\optimizer\\optimizer.py:449: UserWarning: The objective has been evaluated at this point before.\n",
      "  warnings.warn(\"The objective has been evaluated \"\n"
     ]
    },
    {
     "name": "stdout",
     "output_type": "stream",
     "text": [
      "Iteration Completed: 25\n"
     ]
    },
    {
     "name": "stderr",
     "output_type": "stream",
     "text": [
      "C:\\Users\\jogeo\\anaconda3\\envs\\AlphaFold_Dataset_Drug_Binding_Prediction\\lib\\site-packages\\skopt\\optimizer\\optimizer.py:449: UserWarning: The objective has been evaluated at this point before.\n",
      "  warnings.warn(\"The objective has been evaluated \"\n"
     ]
    },
    {
     "name": "stdout",
     "output_type": "stream",
     "text": [
      "Iteration Completed: 26\n"
     ]
    },
    {
     "name": "stderr",
     "output_type": "stream",
     "text": [
      "C:\\Users\\jogeo\\anaconda3\\envs\\AlphaFold_Dataset_Drug_Binding_Prediction\\lib\\site-packages\\skopt\\optimizer\\optimizer.py:449: UserWarning: The objective has been evaluated at this point before.\n",
      "  warnings.warn(\"The objective has been evaluated \"\n"
     ]
    },
    {
     "name": "stdout",
     "output_type": "stream",
     "text": [
      "Iteration Completed: 27\n"
     ]
    },
    {
     "name": "stderr",
     "output_type": "stream",
     "text": [
      "C:\\Users\\jogeo\\anaconda3\\envs\\AlphaFold_Dataset_Drug_Binding_Prediction\\lib\\site-packages\\skopt\\optimizer\\optimizer.py:449: UserWarning: The objective has been evaluated at this point before.\n",
      "  warnings.warn(\"The objective has been evaluated \"\n"
     ]
    },
    {
     "name": "stdout",
     "output_type": "stream",
     "text": [
      "Iteration Completed: 28\n"
     ]
    },
    {
     "name": "stderr",
     "output_type": "stream",
     "text": [
      "C:\\Users\\jogeo\\anaconda3\\envs\\AlphaFold_Dataset_Drug_Binding_Prediction\\lib\\site-packages\\skopt\\optimizer\\optimizer.py:449: UserWarning: The objective has been evaluated at this point before.\n",
      "  warnings.warn(\"The objective has been evaluated \"\n"
     ]
    },
    {
     "name": "stdout",
     "output_type": "stream",
     "text": [
      "Iteration Completed: 29\n"
     ]
    },
    {
     "name": "stderr",
     "output_type": "stream",
     "text": [
      "C:\\Users\\jogeo\\anaconda3\\envs\\AlphaFold_Dataset_Drug_Binding_Prediction\\lib\\site-packages\\skopt\\optimizer\\optimizer.py:449: UserWarning: The objective has been evaluated at this point before.\n",
      "  warnings.warn(\"The objective has been evaluated \"\n"
     ]
    },
    {
     "name": "stdout",
     "output_type": "stream",
     "text": [
      "Iteration Completed: 30\n"
     ]
    },
    {
     "name": "stderr",
     "output_type": "stream",
     "text": [
      "C:\\Users\\jogeo\\anaconda3\\envs\\AlphaFold_Dataset_Drug_Binding_Prediction\\lib\\site-packages\\skopt\\optimizer\\optimizer.py:449: UserWarning: The objective has been evaluated at this point before.\n",
      "  warnings.warn(\"The objective has been evaluated \"\n"
     ]
    },
    {
     "name": "stdout",
     "output_type": "stream",
     "text": [
      "Iteration Completed: 31\n"
     ]
    },
    {
     "name": "stderr",
     "output_type": "stream",
     "text": [
      "C:\\Users\\jogeo\\anaconda3\\envs\\AlphaFold_Dataset_Drug_Binding_Prediction\\lib\\site-packages\\skopt\\optimizer\\optimizer.py:449: UserWarning: The objective has been evaluated at this point before.\n",
      "  warnings.warn(\"The objective has been evaluated \"\n"
     ]
    },
    {
     "name": "stdout",
     "output_type": "stream",
     "text": [
      "Iteration Completed: 32\n"
     ]
    },
    {
     "name": "stderr",
     "output_type": "stream",
     "text": [
      "C:\\Users\\jogeo\\anaconda3\\envs\\AlphaFold_Dataset_Drug_Binding_Prediction\\lib\\site-packages\\skopt\\optimizer\\optimizer.py:449: UserWarning: The objective has been evaluated at this point before.\n",
      "  warnings.warn(\"The objective has been evaluated \"\n"
     ]
    },
    {
     "name": "stdout",
     "output_type": "stream",
     "text": [
      "Iteration Completed: 33\n"
     ]
    },
    {
     "name": "stderr",
     "output_type": "stream",
     "text": [
      "C:\\Users\\jogeo\\anaconda3\\envs\\AlphaFold_Dataset_Drug_Binding_Prediction\\lib\\site-packages\\skopt\\optimizer\\optimizer.py:449: UserWarning: The objective has been evaluated at this point before.\n",
      "  warnings.warn(\"The objective has been evaluated \"\n"
     ]
    },
    {
     "name": "stdout",
     "output_type": "stream",
     "text": [
      "Iteration Completed: 34\n"
     ]
    },
    {
     "name": "stderr",
     "output_type": "stream",
     "text": [
      "C:\\Users\\jogeo\\anaconda3\\envs\\AlphaFold_Dataset_Drug_Binding_Prediction\\lib\\site-packages\\skopt\\optimizer\\optimizer.py:449: UserWarning: The objective has been evaluated at this point before.\n",
      "  warnings.warn(\"The objective has been evaluated \"\n"
     ]
    },
    {
     "name": "stdout",
     "output_type": "stream",
     "text": [
      "Iteration Completed: 35\n"
     ]
    },
    {
     "name": "stderr",
     "output_type": "stream",
     "text": [
      "C:\\Users\\jogeo\\anaconda3\\envs\\AlphaFold_Dataset_Drug_Binding_Prediction\\lib\\site-packages\\skopt\\optimizer\\optimizer.py:449: UserWarning: The objective has been evaluated at this point before.\n",
      "  warnings.warn(\"The objective has been evaluated \"\n"
     ]
    },
    {
     "name": "stdout",
     "output_type": "stream",
     "text": [
      "Iteration Completed: 36\n"
     ]
    },
    {
     "name": "stderr",
     "output_type": "stream",
     "text": [
      "C:\\Users\\jogeo\\anaconda3\\envs\\AlphaFold_Dataset_Drug_Binding_Prediction\\lib\\site-packages\\skopt\\optimizer\\optimizer.py:449: UserWarning: The objective has been evaluated at this point before.\n",
      "  warnings.warn(\"The objective has been evaluated \"\n"
     ]
    },
    {
     "name": "stdout",
     "output_type": "stream",
     "text": [
      "Iteration Completed: 37\n"
     ]
    },
    {
     "name": "stderr",
     "output_type": "stream",
     "text": [
      "C:\\Users\\jogeo\\anaconda3\\envs\\AlphaFold_Dataset_Drug_Binding_Prediction\\lib\\site-packages\\skopt\\optimizer\\optimizer.py:449: UserWarning: The objective has been evaluated at this point before.\n",
      "  warnings.warn(\"The objective has been evaluated \"\n"
     ]
    },
    {
     "name": "stdout",
     "output_type": "stream",
     "text": [
      "Iteration Completed: 38\n"
     ]
    },
    {
     "name": "stderr",
     "output_type": "stream",
     "text": [
      "C:\\Users\\jogeo\\anaconda3\\envs\\AlphaFold_Dataset_Drug_Binding_Prediction\\lib\\site-packages\\skopt\\optimizer\\optimizer.py:449: UserWarning: The objective has been evaluated at this point before.\n",
      "  warnings.warn(\"The objective has been evaluated \"\n"
     ]
    },
    {
     "name": "stdout",
     "output_type": "stream",
     "text": [
      "Iteration Completed: 39\n"
     ]
    },
    {
     "name": "stderr",
     "output_type": "stream",
     "text": [
      "C:\\Users\\jogeo\\anaconda3\\envs\\AlphaFold_Dataset_Drug_Binding_Prediction\\lib\\site-packages\\skopt\\optimizer\\optimizer.py:449: UserWarning: The objective has been evaluated at this point before.\n",
      "  warnings.warn(\"The objective has been evaluated \"\n"
     ]
    },
    {
     "name": "stdout",
     "output_type": "stream",
     "text": [
      "Iteration Completed: 40\n"
     ]
    },
    {
     "name": "stderr",
     "output_type": "stream",
     "text": [
      "C:\\Users\\jogeo\\anaconda3\\envs\\AlphaFold_Dataset_Drug_Binding_Prediction\\lib\\site-packages\\skopt\\optimizer\\optimizer.py:449: UserWarning: The objective has been evaluated at this point before.\n",
      "  warnings.warn(\"The objective has been evaluated \"\n"
     ]
    },
    {
     "name": "stdout",
     "output_type": "stream",
     "text": [
      "Iteration Completed: 41\n"
     ]
    },
    {
     "name": "stderr",
     "output_type": "stream",
     "text": [
      "C:\\Users\\jogeo\\anaconda3\\envs\\AlphaFold_Dataset_Drug_Binding_Prediction\\lib\\site-packages\\skopt\\optimizer\\optimizer.py:449: UserWarning: The objective has been evaluated at this point before.\n",
      "  warnings.warn(\"The objective has been evaluated \"\n"
     ]
    },
    {
     "name": "stdout",
     "output_type": "stream",
     "text": [
      "Iteration Completed: 42\n"
     ]
    },
    {
     "name": "stderr",
     "output_type": "stream",
     "text": [
      "C:\\Users\\jogeo\\anaconda3\\envs\\AlphaFold_Dataset_Drug_Binding_Prediction\\lib\\site-packages\\skopt\\optimizer\\optimizer.py:449: UserWarning: The objective has been evaluated at this point before.\n",
      "  warnings.warn(\"The objective has been evaluated \"\n"
     ]
    },
    {
     "name": "stdout",
     "output_type": "stream",
     "text": [
      "Iteration Completed: 43\n"
     ]
    },
    {
     "name": "stderr",
     "output_type": "stream",
     "text": [
      "C:\\Users\\jogeo\\anaconda3\\envs\\AlphaFold_Dataset_Drug_Binding_Prediction\\lib\\site-packages\\skopt\\optimizer\\optimizer.py:449: UserWarning: The objective has been evaluated at this point before.\n",
      "  warnings.warn(\"The objective has been evaluated \"\n"
     ]
    },
    {
     "name": "stdout",
     "output_type": "stream",
     "text": [
      "Iteration Completed: 44\n"
     ]
    },
    {
     "name": "stderr",
     "output_type": "stream",
     "text": [
      "C:\\Users\\jogeo\\anaconda3\\envs\\AlphaFold_Dataset_Drug_Binding_Prediction\\lib\\site-packages\\skopt\\optimizer\\optimizer.py:449: UserWarning: The objective has been evaluated at this point before.\n",
      "  warnings.warn(\"The objective has been evaluated \"\n"
     ]
    },
    {
     "name": "stdout",
     "output_type": "stream",
     "text": [
      "Iteration Completed: 45\n"
     ]
    },
    {
     "name": "stderr",
     "output_type": "stream",
     "text": [
      "C:\\Users\\jogeo\\anaconda3\\envs\\AlphaFold_Dataset_Drug_Binding_Prediction\\lib\\site-packages\\skopt\\optimizer\\optimizer.py:449: UserWarning: The objective has been evaluated at this point before.\n",
      "  warnings.warn(\"The objective has been evaluated \"\n"
     ]
    },
    {
     "name": "stdout",
     "output_type": "stream",
     "text": [
      "Iteration Completed: 46\n"
     ]
    },
    {
     "name": "stderr",
     "output_type": "stream",
     "text": [
      "C:\\Users\\jogeo\\anaconda3\\envs\\AlphaFold_Dataset_Drug_Binding_Prediction\\lib\\site-packages\\skopt\\optimizer\\optimizer.py:449: UserWarning: The objective has been evaluated at this point before.\n",
      "  warnings.warn(\"The objective has been evaluated \"\n"
     ]
    },
    {
     "name": "stdout",
     "output_type": "stream",
     "text": [
      "Iteration Completed: 47\n"
     ]
    },
    {
     "name": "stderr",
     "output_type": "stream",
     "text": [
      "C:\\Users\\jogeo\\anaconda3\\envs\\AlphaFold_Dataset_Drug_Binding_Prediction\\lib\\site-packages\\skopt\\optimizer\\optimizer.py:449: UserWarning: The objective has been evaluated at this point before.\n",
      "  warnings.warn(\"The objective has been evaluated \"\n"
     ]
    },
    {
     "name": "stdout",
     "output_type": "stream",
     "text": [
      "Iteration Completed: 48\n"
     ]
    },
    {
     "name": "stderr",
     "output_type": "stream",
     "text": [
      "C:\\Users\\jogeo\\anaconda3\\envs\\AlphaFold_Dataset_Drug_Binding_Prediction\\lib\\site-packages\\skopt\\optimizer\\optimizer.py:449: UserWarning: The objective has been evaluated at this point before.\n",
      "  warnings.warn(\"The objective has been evaluated \"\n"
     ]
    },
    {
     "name": "stdout",
     "output_type": "stream",
     "text": [
      "Iteration Completed: 49\n"
     ]
    },
    {
     "name": "stderr",
     "output_type": "stream",
     "text": [
      "C:\\Users\\jogeo\\anaconda3\\envs\\AlphaFold_Dataset_Drug_Binding_Prediction\\lib\\site-packages\\skopt\\optimizer\\optimizer.py:449: UserWarning: The objective has been evaluated at this point before.\n",
      "  warnings.warn(\"The objective has been evaluated \"\n"
     ]
    },
    {
     "name": "stdout",
     "output_type": "stream",
     "text": [
      "Iteration Completed: 50\n",
      "R2 Score: 1.0\n",
      "Negated Mean Absolute Error: -0.0\n"
     ]
    }
   ],
   "source": [
    "index = 1\n",
    "model.fit(X_train, y_train, callback=on_step)\n",
    "\n",
    "optimised_dtr = model.best_estimator_\n",
    "\n",
    "y_train_pred = optimised_dtr.predict(X_train)\n",
    "calculate_metrics_regression(y_train, y_train_pred)\n",
    "\n",
    "# Save Model & CV Results\n",
    "dump(optimised_dtr, 'Dataset_Files/Baseline_Models/Regression/optimised_dtr.joblib')\n",
    "np.save(\"Dataset_Files/Baseline_Models/Regression/optimised_dtr_cv_results.npy\", model.cv_results_)"
   ],
   "metadata": {
    "collapsed": false,
    "pycharm": {
     "name": "#%%\n"
    }
   }
  },
  {
   "cell_type": "code",
   "execution_count": null,
   "outputs": [],
   "source": [
    "# Load Model\n",
    "optimised_dtr = load('Dataset_Files/Baseline_Models/Regression/optimised_dtr.joblib')"
   ],
   "metadata": {
    "collapsed": false,
    "pycharm": {
     "name": "#%%\n"
    }
   }
  },
  {
   "cell_type": "code",
   "execution_count": 83,
   "outputs": [
    {
     "name": "stdout",
     "output_type": "stream",
     "text": [
      "Metrics after 1000 bootstrapped samples of size 1000\n",
      "--------------------------------------------------------\n",
      "Median Negated-MAE: -0.00 with a 95% confidence interval of [-0.00,0.00]\n",
      "Median R2: 1.00 with a 95% confidence interval of [1.00,1.00]\n"
     ]
    }
   ],
   "source": [
    "get_confidence_intervals(optimised_dtr, X_train, y_train, 1000, \"Regression\")"
   ],
   "metadata": {
    "collapsed": false,
    "pycharm": {
     "name": "#%%\n"
    }
   }
  },
  {
   "cell_type": "code",
   "execution_count": null,
   "outputs": [],
   "source": [
    "optimised_dtr.get_params()"
   ],
   "metadata": {
    "collapsed": false,
    "pycharm": {
     "name": "#%%\n"
    }
   }
  },
  {
   "cell_type": "code",
   "execution_count": null,
   "outputs": [],
   "source": [
    "dtr_grid_search_dataframe = pd.DataFrame(\n",
    "    np.load(\"Dataset_Files/Baseline_Models/Regression/optimised_dtr_cv_results.npy\", allow_pickle=True).tolist())\n",
    "dtr_grid_search_dataframe.sort_values(by=[\"rank_test_score\"], inplace=True)\n",
    "dtr_grid_search_dataframe"
   ],
   "metadata": {
    "collapsed": false,
    "pycharm": {
     "name": "#%%\n"
    }
   }
  },
  {
   "cell_type": "markdown",
   "source": [
    "### Testing"
   ],
   "metadata": {
    "collapsed": false,
    "pycharm": {
     "name": "#%% md\n"
    }
   }
  },
  {
   "cell_type": "code",
   "execution_count": 85,
   "outputs": [
    {
     "name": "stdout",
     "output_type": "stream",
     "text": [
      "Metrics after 1000 bootstrapped samples of size 50\n",
      "--------------------------------------------------------\n",
      "Median Negated-MAE: -3.12 with a 95% confidence interval of [-3.89,-2.35]\n",
      "Median R2: -2.33 with a 95% confidence interval of [-5.80,-0.83]\n"
     ]
    }
   ],
   "source": [
    "get_confidence_intervals(optimised_dtr, X_test, y_test, 50, \"Regression\")"
   ],
   "metadata": {
    "collapsed": false,
    "pycharm": {
     "name": "#%%\n"
    }
   }
  },
  {
   "cell_type": "markdown",
   "source": [
    "## Random Forest Regressor (RFR)"
   ],
   "metadata": {
    "collapsed": false,
    "pycharm": {
     "name": "#%% md\n"
    }
   }
  },
  {
   "cell_type": "code",
   "execution_count": 86,
   "outputs": [
    {
     "data": {
      "text/plain": "{'memory': None,\n 'steps': [('scale', StandardScaler()),\n  ('model', RandomForestRegressor(random_state=42))],\n 'verbose': False,\n 'scale': StandardScaler(),\n 'model': RandomForestRegressor(random_state=42),\n 'scale__copy': True,\n 'scale__with_mean': True,\n 'scale__with_std': True,\n 'model__bootstrap': True,\n 'model__ccp_alpha': 0.0,\n 'model__criterion': 'squared_error',\n 'model__max_depth': None,\n 'model__max_features': 1.0,\n 'model__max_leaf_nodes': None,\n 'model__max_samples': None,\n 'model__min_impurity_decrease': 0.0,\n 'model__min_samples_leaf': 1,\n 'model__min_samples_split': 2,\n 'model__min_weight_fraction_leaf': 0.0,\n 'model__n_estimators': 100,\n 'model__n_jobs': None,\n 'model__oob_score': False,\n 'model__random_state': 42,\n 'model__verbose': 0,\n 'model__warm_start': False}"
     },
     "execution_count": 86,
     "metadata": {},
     "output_type": "execute_result"
    }
   ],
   "source": [
    "pipe = Pipeline(\n",
    "    [\n",
    "        ('scale', StandardScaler()),\n",
    "        ('model', RandomForestRegressor(random_state=42))\n",
    "    ]\n",
    ")\n",
    "pipe.get_params()"
   ],
   "metadata": {
    "collapsed": false,
    "pycharm": {
     "name": "#%%\n"
    }
   }
  },
  {
   "cell_type": "code",
   "execution_count": 87,
   "outputs": [],
   "source": [
    "model = BayesSearchCV(estimator=pipe,\n",
    "                      search_spaces={\n",
    "                          'model__n_estimators': Integer(10, 100),\n",
    "                          'model__criterion': Categorical(['squared_error', 'absolute_error']),\n",
    "                          'model__max_features': Categorical([None, 'sqrt', 'log2']),\n",
    "                      },\n",
    "                      scoring='r2',\n",
    "                      cv=10,\n",
    "                      error_score=np.nan,\n",
    "                      n_jobs=-1,\n",
    "                      pre_dispatch='2*n_jobs',\n",
    "                      random_state=42)"
   ],
   "metadata": {
    "collapsed": false,
    "pycharm": {
     "name": "#%%\n"
    }
   }
  },
  {
   "cell_type": "markdown",
   "source": [
    "### Training"
   ],
   "metadata": {
    "collapsed": false,
    "pycharm": {
     "name": "#%% md\n"
    }
   }
  },
  {
   "cell_type": "code",
   "execution_count": null,
   "outputs": [],
   "source": [
    "index = 1\n",
    "model.fit(X_train, y_train, callback=on_step)\n",
    "\n",
    "optimised_rfr = model.best_estimator_\n",
    "\n",
    "y_train_pred = optimised_rfr.predict(X_train)\n",
    "calculate_metrics_regression(y_train, y_train_pred)\n",
    "\n",
    "# Save Model & CV Results\n",
    "dump(optimised_rfr, 'Dataset_Files/Baseline_Models/Regression/optimised_rfr.joblib')\n",
    "np.save(\"Dataset_Files/Baseline_Models/Regression/optimised_rfr_cv_results.npy\", model.cv_results_)"
   ],
   "metadata": {
    "collapsed": false,
    "pycharm": {
     "name": "#%%\n",
     "is_executing": true
    }
   }
  },
  {
   "cell_type": "code",
   "execution_count": null,
   "outputs": [],
   "source": [
    "# Load Model\n",
    "optimised_rfr = load('Dataset_Files/Baseline_Models/Regression/optimised_rfr.joblib')"
   ],
   "metadata": {
    "collapsed": false,
    "pycharm": {
     "name": "#%%\n"
    }
   }
  },
  {
   "cell_type": "code",
   "execution_count": null,
   "outputs": [],
   "source": [
    "y_train_pred = optimised_rfr.predict(X_train)\n",
    "calculate_metrics_regression(y_train, y_train_pred)"
   ],
   "metadata": {
    "collapsed": false,
    "pycharm": {
     "name": "#%%\n"
    }
   }
  },
  {
   "cell_type": "code",
   "execution_count": null,
   "outputs": [],
   "source": [
    "optimised_rfr.get_params()"
   ],
   "metadata": {
    "collapsed": false,
    "pycharm": {
     "name": "#%%\n"
    }
   }
  },
  {
   "cell_type": "code",
   "execution_count": null,
   "outputs": [],
   "source": [
    "rfr_grid_search_dataframe = pd.DataFrame(\n",
    "    np.load(\"Dataset_Files/Baseline_Models/Regression/optimised_rfr_cv_results.npy\", allow_pickle=True).tolist())\n",
    "rfr_grid_search_dataframe.sort_values(by=[\"rank_test_score\"], inplace=True)\n",
    "rfr_grid_search_dataframe"
   ],
   "metadata": {
    "collapsed": false,
    "pycharm": {
     "name": "#%%\n"
    }
   }
  },
  {
   "cell_type": "markdown",
   "source": [
    "### Testing"
   ],
   "metadata": {
    "collapsed": false,
    "pycharm": {
     "name": "#%% md\n"
    }
   }
  },
  {
   "cell_type": "code",
   "execution_count": null,
   "outputs": [],
   "source": [
    "y_test_pred = optimised_rfr.predict(X_test)\n",
    "calculate_metrics_regression(y_test, y_test_pred)"
   ],
   "metadata": {
    "collapsed": false,
    "pycharm": {
     "name": "#%%\n"
    }
   }
  },
  {
   "cell_type": "markdown",
   "source": [
    "## Stochastic Gradient Descent Regressor (SGDR)"
   ],
   "metadata": {
    "collapsed": false,
    "pycharm": {
     "name": "#%% md\n"
    }
   }
  },
  {
   "cell_type": "code",
   "execution_count": 7,
   "outputs": [
    {
     "data": {
      "text/plain": "{'memory': None,\n 'steps': [('scale', StandardScaler()),\n  ('model', SGDRegressor(random_state=42))],\n 'verbose': False,\n 'scale': StandardScaler(),\n 'model': SGDRegressor(random_state=42),\n 'scale__copy': True,\n 'scale__with_mean': True,\n 'scale__with_std': True,\n 'model__alpha': 0.0001,\n 'model__average': False,\n 'model__early_stopping': False,\n 'model__epsilon': 0.1,\n 'model__eta0': 0.01,\n 'model__fit_intercept': True,\n 'model__l1_ratio': 0.15,\n 'model__learning_rate': 'invscaling',\n 'model__loss': 'squared_error',\n 'model__max_iter': 1000,\n 'model__n_iter_no_change': 5,\n 'model__penalty': 'l2',\n 'model__power_t': 0.25,\n 'model__random_state': 42,\n 'model__shuffle': True,\n 'model__tol': 0.001,\n 'model__validation_fraction': 0.1,\n 'model__verbose': 0,\n 'model__warm_start': False}"
     },
     "execution_count": 7,
     "metadata": {},
     "output_type": "execute_result"
    }
   ],
   "source": [
    "pipe = Pipeline(\n",
    "    [\n",
    "        ('scale', StandardScaler()),\n",
    "        ('model', SGDRegressor(random_state=42))\n",
    "    ]\n",
    ")\n",
    "pipe.get_params()"
   ],
   "metadata": {
    "collapsed": false,
    "pycharm": {
     "name": "#%%\n"
    }
   }
  },
  {
   "cell_type": "code",
   "execution_count": 8,
   "outputs": [],
   "source": [
    "model = BayesSearchCV(estimator=pipe,\n",
    "                      search_spaces={\n",
    "                          'model__loss': Categorical(\n",
    "                              ['squared_error', 'huber', 'epsilon_insensitive', 'squared_epsilon_insensitive']),\n",
    "                          'model__penalty': Categorical(['l2', 'l1', 'elasticnet']),\n",
    "                          'model__alpha': Real(1e-6, 1e-1, prior='log-uniform'),\n",
    "                          'model__learning_rate': Categorical(['constant', 'optimal', 'invscaling', 'adaptive']),\n",
    "                      },\n",
    "                      scoring='r2',\n",
    "                      cv=10,\n",
    "                      error_score=np.nan,\n",
    "                      n_jobs=-1,\n",
    "                      pre_dispatch='2*n_jobs',\n",
    "                      random_state=42)"
   ],
   "metadata": {
    "collapsed": false,
    "pycharm": {
     "name": "#%%\n"
    }
   }
  },
  {
   "cell_type": "markdown",
   "source": [
    "### Training"
   ],
   "metadata": {
    "collapsed": false,
    "pycharm": {
     "name": "#%% md\n"
    }
   }
  },
  {
   "cell_type": "code",
   "execution_count": 9,
   "outputs": [
    {
     "name": "stdout",
     "output_type": "stream",
     "text": [
      "Iteration Completed: 1\n",
      "Iteration Completed: 2\n",
      "Iteration Completed: 3\n",
      "Iteration Completed: 4\n",
      "Iteration Completed: 5\n",
      "Iteration Completed: 6\n",
      "Iteration Completed: 7\n",
      "Iteration Completed: 8\n",
      "Iteration Completed: 9\n",
      "Iteration Completed: 10\n",
      "Iteration Completed: 11\n",
      "Iteration Completed: 12\n",
      "Iteration Completed: 13\n",
      "Iteration Completed: 14\n",
      "Iteration Completed: 15\n",
      "Iteration Completed: 16\n",
      "Iteration Completed: 17\n",
      "Iteration Completed: 18\n",
      "Iteration Completed: 19\n",
      "Iteration Completed: 20\n",
      "Iteration Completed: 21\n",
      "Iteration Completed: 22\n",
      "Iteration Completed: 23\n",
      "Iteration Completed: 24\n",
      "Iteration Completed: 25\n",
      "Iteration Completed: 26\n",
      "Iteration Completed: 27\n",
      "Iteration Completed: 28\n",
      "Iteration Completed: 29\n",
      "Iteration Completed: 30\n",
      "Iteration Completed: 31\n",
      "Iteration Completed: 32\n",
      "Iteration Completed: 33\n",
      "Iteration Completed: 34\n",
      "Iteration Completed: 35\n",
      "Iteration Completed: 36\n",
      "Iteration Completed: 37\n",
      "Iteration Completed: 38\n",
      "Iteration Completed: 39\n",
      "Iteration Completed: 40\n",
      "Iteration Completed: 41\n",
      "Iteration Completed: 42\n"
     ]
    },
    {
     "name": "stderr",
     "output_type": "stream",
     "text": [
      "C:\\Users\\jogeo\\anaconda3\\envs\\AlphaFold_Dataset_Drug_Binding_Prediction\\lib\\site-packages\\skopt\\optimizer\\optimizer.py:449: UserWarning: The objective has been evaluated at this point before.\n",
      "  warnings.warn(\"The objective has been evaluated \"\n"
     ]
    },
    {
     "name": "stdout",
     "output_type": "stream",
     "text": [
      "Iteration Completed: 43\n"
     ]
    },
    {
     "name": "stderr",
     "output_type": "stream",
     "text": [
      "C:\\Users\\jogeo\\anaconda3\\envs\\AlphaFold_Dataset_Drug_Binding_Prediction\\lib\\site-packages\\skopt\\optimizer\\optimizer.py:449: UserWarning: The objective has been evaluated at this point before.\n",
      "  warnings.warn(\"The objective has been evaluated \"\n"
     ]
    },
    {
     "name": "stdout",
     "output_type": "stream",
     "text": [
      "Iteration Completed: 44\n"
     ]
    },
    {
     "name": "stderr",
     "output_type": "stream",
     "text": [
      "C:\\Users\\jogeo\\anaconda3\\envs\\AlphaFold_Dataset_Drug_Binding_Prediction\\lib\\site-packages\\skopt\\optimizer\\optimizer.py:449: UserWarning: The objective has been evaluated at this point before.\n",
      "  warnings.warn(\"The objective has been evaluated \"\n"
     ]
    },
    {
     "name": "stdout",
     "output_type": "stream",
     "text": [
      "Iteration Completed: 45\n"
     ]
    },
    {
     "name": "stderr",
     "output_type": "stream",
     "text": [
      "C:\\Users\\jogeo\\anaconda3\\envs\\AlphaFold_Dataset_Drug_Binding_Prediction\\lib\\site-packages\\skopt\\optimizer\\optimizer.py:449: UserWarning: The objective has been evaluated at this point before.\n",
      "  warnings.warn(\"The objective has been evaluated \"\n"
     ]
    },
    {
     "name": "stdout",
     "output_type": "stream",
     "text": [
      "Iteration Completed: 46\n"
     ]
    },
    {
     "name": "stderr",
     "output_type": "stream",
     "text": [
      "C:\\Users\\jogeo\\anaconda3\\envs\\AlphaFold_Dataset_Drug_Binding_Prediction\\lib\\site-packages\\skopt\\optimizer\\optimizer.py:449: UserWarning: The objective has been evaluated at this point before.\n",
      "  warnings.warn(\"The objective has been evaluated \"\n"
     ]
    },
    {
     "name": "stdout",
     "output_type": "stream",
     "text": [
      "Iteration Completed: 47\n"
     ]
    },
    {
     "name": "stderr",
     "output_type": "stream",
     "text": [
      "C:\\Users\\jogeo\\anaconda3\\envs\\AlphaFold_Dataset_Drug_Binding_Prediction\\lib\\site-packages\\skopt\\optimizer\\optimizer.py:449: UserWarning: The objective has been evaluated at this point before.\n",
      "  warnings.warn(\"The objective has been evaluated \"\n"
     ]
    },
    {
     "name": "stdout",
     "output_type": "stream",
     "text": [
      "Iteration Completed: 48\n"
     ]
    },
    {
     "name": "stderr",
     "output_type": "stream",
     "text": [
      "C:\\Users\\jogeo\\anaconda3\\envs\\AlphaFold_Dataset_Drug_Binding_Prediction\\lib\\site-packages\\skopt\\optimizer\\optimizer.py:449: UserWarning: The objective has been evaluated at this point before.\n",
      "  warnings.warn(\"The objective has been evaluated \"\n"
     ]
    },
    {
     "name": "stdout",
     "output_type": "stream",
     "text": [
      "Iteration Completed: 49\n"
     ]
    },
    {
     "name": "stderr",
     "output_type": "stream",
     "text": [
      "C:\\Users\\jogeo\\anaconda3\\envs\\AlphaFold_Dataset_Drug_Binding_Prediction\\lib\\site-packages\\skopt\\optimizer\\optimizer.py:449: UserWarning: The objective has been evaluated at this point before.\n",
      "  warnings.warn(\"The objective has been evaluated \"\n"
     ]
    },
    {
     "name": "stdout",
     "output_type": "stream",
     "text": [
      "Iteration Completed: 50\n",
      "R2 Score: 0.5435649115986829\n",
      "Negated Mean Absolute Error: -0.9537931845981886\n"
     ]
    }
   ],
   "source": [
    "index = 1\n",
    "model.fit(X_train, y_train, callback=on_step)\n",
    "\n",
    "optimised_sgdr = model.best_estimator_\n",
    "\n",
    "y_train_pred = optimised_sgdr.predict(X_train)\n",
    "calculate_metrics_regression(y_train, y_train_pred)\n",
    "\n",
    "# Save Model & CV Results\n",
    "dump(optimised_sgdr, 'Dataset_Files/Baseline_Models/Regression/optimised_sgdr.joblib')\n",
    "np.save(\"Dataset_Files/Baseline_Models/Regression/optimised_sgdr_cv_results.npy\", model.cv_results_)"
   ],
   "metadata": {
    "collapsed": false,
    "pycharm": {
     "name": "#%%\n"
    }
   }
  },
  {
   "cell_type": "code",
   "execution_count": 10,
   "outputs": [],
   "source": [
    "# Load Model\n",
    "optimised_sgdr = load('Dataset_Files/Baseline_Models/Regression/optimised_sgdr.joblib')"
   ],
   "metadata": {
    "collapsed": false,
    "pycharm": {
     "name": "#%%\n"
    }
   }
  },
  {
   "cell_type": "code",
   "execution_count": 12,
   "outputs": [
    {
     "name": "stdout",
     "output_type": "stream",
     "text": [
      "Metrics after 1000 bootstrapped samples of size 1000\n",
      "--------------------------------------------------------\n",
      "Median Negated-MAE: -0.95 with a 95% confidence interval of [-1.06,-0.86]\n",
      "Median R2: 0.55 with a 95% confidence interval of [0.47,0.61]\n"
     ]
    }
   ],
   "source": [
    "get_confidence_intervals(optimised_sgdr, X_train, y_train, 1000, \"Regression\")"
   ],
   "metadata": {
    "collapsed": false,
    "pycharm": {
     "name": "#%%\n"
    }
   }
  },
  {
   "cell_type": "code",
   "execution_count": null,
   "outputs": [],
   "source": [
    "optimised_sgdr.get_params()"
   ],
   "metadata": {
    "collapsed": false,
    "pycharm": {
     "name": "#%%\n"
    }
   }
  },
  {
   "cell_type": "code",
   "execution_count": null,
   "outputs": [],
   "source": [
    "sgdr_grid_search_dataframe = pd.DataFrame(\n",
    "    np.load(\"Dataset_Files/Baseline_Models/Regression/optimised_sgdr_cv_results.npy\", allow_pickle=True).tolist())\n",
    "sgdr_grid_search_dataframe.sort_values(by=[\"rank_test_score\"], inplace=True)\n",
    "sgdr_grid_search_dataframe"
   ],
   "metadata": {
    "collapsed": false,
    "pycharm": {
     "name": "#%%\n"
    }
   }
  },
  {
   "cell_type": "markdown",
   "source": [
    "### Testing"
   ],
   "metadata": {
    "collapsed": false,
    "pycharm": {
     "name": "#%% md\n"
    }
   }
  },
  {
   "cell_type": "code",
   "execution_count": 14,
   "outputs": [
    {
     "name": "stdout",
     "output_type": "stream",
     "text": [
      "Metrics after 1000 bootstrapped samples of size 50\n",
      "--------------------------------------------------------\n",
      "Median Negated-MAE: -2.58 with a 95% confidence interval of [-3.23,-2.03]\n",
      "Median R2: -1.23 with a 95% confidence interval of [-3.39,-0.29]\n"
     ]
    }
   ],
   "source": [
    "get_confidence_intervals(optimised_sgdr, X_test, y_test, 50, \"Regression\")"
   ],
   "metadata": {
    "collapsed": false,
    "pycharm": {
     "name": "#%%\n"
    }
   }
  }
 ],
 "metadata": {
  "kernelspec": {
   "display_name": "Python 3",
   "language": "python",
   "name": "python3"
  },
  "language_info": {
   "codemirror_mode": {
    "name": "ipython",
    "version": 2
   },
   "file_extension": ".py",
   "mimetype": "text/x-python",
   "name": "python",
   "nbconvert_exporter": "python",
   "pygments_lexer": "ipython2",
   "version": "2.7.6"
  }
 },
 "nbformat": 4,
 "nbformat_minor": 0
}