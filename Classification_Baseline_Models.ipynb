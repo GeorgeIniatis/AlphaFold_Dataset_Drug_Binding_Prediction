{
 "cells": [
  {
   "cell_type": "markdown",
   "source": [
    "# Imports"
   ],
   "metadata": {
    "collapsed": false,
    "pycharm": {
     "name": "#%% md\n"
    }
   }
  },
  {
   "cell_type": "code",
   "execution_count": 76,
   "metadata": {
    "pycharm": {
     "name": "#%%\n"
    }
   },
   "outputs": [],
   "source": [
    "# General Imports\n",
    "from models_utils import *\n",
    "\n",
    "# Classification Models\n",
    "from sklearn.dummy import DummyClassifier\n",
    "from sklearn.neighbors import KNeighborsClassifier\n",
    "from sklearn.linear_model import LogisticRegression, SGDClassifier\n",
    "from sklearn.ensemble import RandomForestClassifier\n",
    "from sklearn.tree import DecisionTreeClassifier\n",
    "from sklearn.svm import LinearSVC"
   ]
  },
  {
   "cell_type": "markdown",
   "metadata": {
    "pycharm": {
     "name": "#%% md\n"
    }
   },
   "source": [
    "# Training & Test Sets"
   ]
  },
  {
   "cell_type": "code",
   "execution_count": 77,
   "outputs": [],
   "source": [
    "feature_selection_columns = load_from_pickle(\"Training_Test_Sets/Classification/X_train_feature_selection\").loc[:,\n",
    "                            \"MolecularWeight\":].columns"
   ],
   "metadata": {
    "collapsed": false,
    "pycharm": {
     "name": "#%%\n"
    }
   }
  },
  {
   "cell_type": "code",
   "execution_count": 78,
   "metadata": {
    "pycharm": {
     "name": "#%%\n"
    }
   },
   "outputs": [],
   "source": [
    "X_train = load_from_pickle(\"Training_Test_Sets/Classification/X_train_feature_selection\")\n",
    "X_train.drop(columns=[\"Drug_CID\", \"Protein_Accession\"], inplace=True)\n",
    "X_train = X_train.to_numpy()\n",
    "\n",
    "y_train = load_from_pickle(\"Training_Test_Sets/Classification/y_train\")\n",
    "y_train = y_train.to_numpy()"
   ]
  },
  {
   "cell_type": "code",
   "execution_count": 79,
   "outputs": [],
   "source": [
    "X_test = load_from_pickle(\"Training_Test_Sets/Classification/X_test_feature_selection\")\n",
    "X_test.drop(columns=[\"Drug_CID\", \"Protein_Accession\"], inplace=True)\n",
    "X_test = X_test.to_numpy()\n",
    "\n",
    "y_test = load_from_pickle(\"Training_Test_Sets/Classification/y_test\")\n",
    "y_test = y_test.to_numpy()"
   ],
   "metadata": {
    "collapsed": false,
    "pycharm": {
     "name": "#%%\n"
    }
   }
  },
  {
   "cell_type": "code",
   "execution_count": 80,
   "metadata": {
    "pycharm": {
     "name": "#%%\n"
    }
   },
   "outputs": [
    {
     "name": "stdout",
     "output_type": "stream",
     "text": [
      "X_train shape: (99705, 388)\n",
      "y_train shape: 99705 (Binding Count: 73498, Non-Binding Count: 26207)\n",
      "X_test shape: (816, 388)\n",
      "y_test shape: 816 (Binding Count: 563, Non-Binding Count: 253)\n"
     ]
    }
   ],
   "source": [
    "# Useful Information & Sanity Checks\n",
    "print(f\"X_train shape: {X_train.shape}\")\n",
    "print(f\"y_train shape: {y_train.shape[0]} \", end=\"\")\n",
    "print(f\"(Binding Count: {y_train[y_train == 1].shape[0]}, \", end=\"\")\n",
    "print(f\"Non-Binding Count: {y_train[y_train == 0].shape[0]})\")\n",
    "\n",
    "print(f\"X_test shape: {X_test.shape}\")\n",
    "print(f\"y_test shape: {y_test.shape[0]} \", end=\"\")\n",
    "print(f\"(Binding Count: {y_test[y_test == 1].shape[0]}, \", end=\"\")\n",
    "print(f\"Non-Binding Count: {y_test[y_test == 0].shape[0]})\")"
   ]
  },
  {
   "cell_type": "markdown",
   "metadata": {
    "pycharm": {
     "name": "#%% md\n"
    }
   },
   "source": [
    "# Model Training & Testing"
   ]
  },
  {
   "cell_type": "code",
   "execution_count": 82,
   "outputs": [],
   "source": [
    "def on_step(optim_result):\n",
    "    global index\n",
    "    print(f\"Iteration Completed: {index}\")\n",
    "    index += 1"
   ],
   "metadata": {
    "collapsed": false,
    "pycharm": {
     "name": "#%%\n"
    }
   }
  },
  {
   "cell_type": "markdown",
   "metadata": {
    "pycharm": {
     "name": "#%% md\n"
    }
   },
   "source": [
    "## Dummy Classifier (DC)"
   ]
  },
  {
   "cell_type": "code",
   "execution_count": 37,
   "metadata": {
    "pycharm": {
     "name": "#%%\n"
    }
   },
   "outputs": [
    {
     "data": {
      "text/plain": "{'memory': None,\n 'steps': [('scale', StandardScaler()),\n  ('model', DummyClassifier(random_state=42))],\n 'verbose': False,\n 'scale': StandardScaler(),\n 'model': DummyClassifier(random_state=42),\n 'scale__copy': True,\n 'scale__with_mean': True,\n 'scale__with_std': True,\n 'model__constant': None,\n 'model__random_state': 42,\n 'model__strategy': 'prior'}"
     },
     "execution_count": 37,
     "metadata": {},
     "output_type": "execute_result"
    }
   ],
   "source": [
    "dummy_classifier = Pipeline(\n",
    "    [\n",
    "        ('scale', StandardScaler()),\n",
    "        ('model', DummyClassifier(random_state=42))\n",
    "    ]\n",
    ")\n",
    "dummy_classifier.get_params()"
   ]
  },
  {
   "cell_type": "markdown",
   "metadata": {
    "pycharm": {
     "name": "#%% md\n"
    }
   },
   "source": [
    "### Training"
   ]
  },
  {
   "cell_type": "code",
   "execution_count": 38,
   "metadata": {
    "pycharm": {
     "name": "#%%\n"
    }
   },
   "outputs": [
    {
     "name": "stdout",
     "output_type": "stream",
     "text": [
      "F1 score: 0.8486919972517797\n",
      "Matthews Correlation Coefficient: 0.0\n",
      "Accuracy score: 0.7371546060879595\n",
      "Recall score: 1.0\n",
      "Precision score: 0.7371546060879595\n"
     ]
    },
    {
     "data": {
      "text/plain": "['Dataset_Files/Baseline_Models/Classification/dc.joblib']"
     },
     "execution_count": 38,
     "metadata": {},
     "output_type": "execute_result"
    }
   ],
   "source": [
    "# dummy_classifier.fit(X_train, y_train)\n",
    "#\n",
    "# y_train_pred = dummy_classifier.predict(X_train)\n",
    "# calculate_metrics_classification(y_train, y_train_pred)\n",
    "#\n",
    "# # Save Model\n",
    "# dump(dummy_classifier, 'Dataset_Files/Baseline_Models/Classification/dc.joblib')"
   ]
  },
  {
   "cell_type": "code",
   "execution_count": null,
   "outputs": [],
   "source": [
    "# Load Model\n",
    "dummy_classifier = load('Dataset_Files/Baseline_Models/Classification/dc.joblib')"
   ],
   "metadata": {
    "collapsed": false,
    "pycharm": {
     "name": "#%%\n"
    }
   }
  },
  {
   "cell_type": "code",
   "execution_count": 41,
   "outputs": [
    {
     "name": "stdout",
     "output_type": "stream",
     "text": [
      "F1 score: 0.8486919972517797\n",
      "Matthews Correlation Coefficient: 0.0\n",
      "Accuracy score: 0.7371546060879595\n",
      "Recall score: 1.0\n",
      "Precision score: 0.7371546060879595\n"
     ]
    }
   ],
   "source": [
    "y_train_pred = dummy_classifier.predict(X_train)\n",
    "calculate_metrics_classification(y_train, y_train_pred)"
   ],
   "metadata": {
    "collapsed": false,
    "pycharm": {
     "name": "#%%\n"
    }
   }
  },
  {
   "cell_type": "markdown",
   "metadata": {
    "pycharm": {
     "name": "#%% md\n"
    }
   },
   "source": [
    "### Testing"
   ]
  },
  {
   "cell_type": "code",
   "execution_count": 43,
   "metadata": {
    "pycharm": {
     "name": "#%%\n"
    }
   },
   "outputs": [
    {
     "name": "stdout",
     "output_type": "stream",
     "text": [
      "F1 score: 0.8165337200870195\n",
      "Matthews Correlation Coefficient: 0.0\n",
      "Accuracy score: 0.6899509803921569\n",
      "Recall score: 1.0\n",
      "Precision score: 0.6899509803921569\n"
     ]
    }
   ],
   "source": [
    "y_test_pred = dummy_classifier.predict(X_test)\n",
    "calculate_metrics_classification(y_test, y_test_pred)"
   ]
  },
  {
   "cell_type": "markdown",
   "metadata": {
    "pycharm": {
     "name": "#%% md\n"
    }
   },
   "source": [
    "## Logistic Regression (LR)"
   ]
  },
  {
   "cell_type": "code",
   "execution_count": 44,
   "metadata": {
    "pycharm": {
     "name": "#%%\n"
    }
   },
   "outputs": [
    {
     "data": {
      "text/plain": "{'memory': None,\n 'steps': [('scale', StandardScaler()),\n  ('model', LogisticRegression(random_state=42))],\n 'verbose': False,\n 'scale': StandardScaler(),\n 'model': LogisticRegression(random_state=42),\n 'scale__copy': True,\n 'scale__with_mean': True,\n 'scale__with_std': True,\n 'model__C': 1.0,\n 'model__class_weight': None,\n 'model__dual': False,\n 'model__fit_intercept': True,\n 'model__intercept_scaling': 1,\n 'model__l1_ratio': None,\n 'model__max_iter': 100,\n 'model__multi_class': 'auto',\n 'model__n_jobs': None,\n 'model__penalty': 'l2',\n 'model__random_state': 42,\n 'model__solver': 'lbfgs',\n 'model__tol': 0.0001,\n 'model__verbose': 0,\n 'model__warm_start': False}"
     },
     "execution_count": 44,
     "metadata": {},
     "output_type": "execute_result"
    }
   ],
   "source": [
    "pipe = Pipeline(\n",
    "    [\n",
    "        ('scale', StandardScaler()),\n",
    "        ('model', LogisticRegression(random_state=42))\n",
    "    ]\n",
    ")\n",
    "pipe.get_params()"
   ]
  },
  {
   "cell_type": "code",
   "execution_count": 45,
   "metadata": {
    "pycharm": {
     "name": "#%%\n"
    }
   },
   "outputs": [],
   "source": [
    "model = BayesSearchCV(estimator=pipe,\n",
    "                      search_spaces=[\n",
    "                          {'model__C': Real(1e-6, 1e+2, prior='log-uniform'),\n",
    "                           'model__solver': Categorical(['newton-cg', 'lbfgs', 'sag']),\n",
    "                           'model__penalty': Categorical(['none', 'l2']),\n",
    "                           'model__max_iter': Integer(50, 5000),\n",
    "                           'model__class_weight': Categorical([None, \"balanced\"])},\n",
    "                          {'model__C': Real(1e-6, 1e+2, prior='log-uniform'),\n",
    "                           'model__solver': Categorical(['liblinear']),\n",
    "                           'model__penalty': Categorical(['l2', 'l1']),\n",
    "                           'model__max_iter': Integer(50, 5000),\n",
    "                           'model__class_weight': Categorical([None, \"balanced\"])},\n",
    "                          {'model__C': Real(1e-6, 1e+2, prior='log-uniform'),\n",
    "                           'model__l1_ratio': Real(0, 1),\n",
    "                           'model__solver': Categorical(['saga']),\n",
    "                           'model__penalty': Categorical(['none', 'l2', 'l1', 'elasticnet']),\n",
    "                           'model__max_iter': Integer(50, 5000),\n",
    "                           'model__class_weight': Categorical([None, \"balanced\"])},\n",
    "                      ],\n",
    "                      scoring='f1',\n",
    "                      cv=5,\n",
    "                      error_score=np.nan,\n",
    "                      n_jobs=-1,\n",
    "                      pre_dispatch='2*n_jobs',\n",
    "                      random_state=42)"
   ]
  },
  {
   "cell_type": "markdown",
   "metadata": {
    "pycharm": {
     "name": "#%% md\n"
    }
   },
   "source": [
    "### Training"
   ]
  },
  {
   "cell_type": "code",
   "execution_count": 46,
   "metadata": {
    "pycharm": {
     "name": "#%%\n"
    }
   },
   "outputs": [
    {
     "name": "stdout",
     "output_type": "stream",
     "text": [
      "Iteration Completed: 1\n",
      "Iteration Completed: 2\n",
      "Iteration Completed: 3\n",
      "Iteration Completed: 4\n",
      "Iteration Completed: 5\n",
      "Iteration Completed: 6\n",
      "Iteration Completed: 7\n",
      "Iteration Completed: 8\n",
      "Iteration Completed: 9\n",
      "Iteration Completed: 10\n",
      "Iteration Completed: 11\n",
      "Iteration Completed: 12\n",
      "Iteration Completed: 13\n",
      "Iteration Completed: 14\n",
      "Iteration Completed: 15\n",
      "Iteration Completed: 16\n",
      "Iteration Completed: 17\n",
      "Iteration Completed: 18\n",
      "Iteration Completed: 19\n",
      "Iteration Completed: 20\n",
      "Iteration Completed: 21\n",
      "Iteration Completed: 22\n",
      "Iteration Completed: 23\n",
      "Iteration Completed: 24\n",
      "Iteration Completed: 25\n",
      "Iteration Completed: 26\n",
      "Iteration Completed: 27\n",
      "Iteration Completed: 28\n",
      "Iteration Completed: 29\n",
      "Iteration Completed: 30\n",
      "Iteration Completed: 31\n",
      "Iteration Completed: 32\n",
      "Iteration Completed: 33\n",
      "Iteration Completed: 34\n",
      "Iteration Completed: 35\n",
      "Iteration Completed: 36\n",
      "Iteration Completed: 37\n",
      "Iteration Completed: 38\n",
      "Iteration Completed: 39\n",
      "Iteration Completed: 40\n",
      "Iteration Completed: 41\n",
      "Iteration Completed: 42\n",
      "Iteration Completed: 43\n",
      "Iteration Completed: 44\n",
      "Iteration Completed: 45\n",
      "Iteration Completed: 46\n",
      "Iteration Completed: 47\n",
      "Iteration Completed: 48\n",
      "Iteration Completed: 49\n",
      "Iteration Completed: 50\n",
      "Iteration Completed: 51\n",
      "Iteration Completed: 52\n",
      "Iteration Completed: 53\n",
      "Iteration Completed: 54\n",
      "Iteration Completed: 55\n",
      "Iteration Completed: 56\n",
      "Iteration Completed: 57\n",
      "Iteration Completed: 58\n",
      "Iteration Completed: 59\n",
      "Iteration Completed: 60\n",
      "Iteration Completed: 61\n",
      "Iteration Completed: 62\n",
      "Iteration Completed: 63\n",
      "Iteration Completed: 64\n",
      "Iteration Completed: 65\n",
      "Iteration Completed: 66\n",
      "Iteration Completed: 67\n",
      "Iteration Completed: 68\n",
      "Iteration Completed: 69\n",
      "Iteration Completed: 70\n",
      "Iteration Completed: 71\n",
      "Iteration Completed: 72\n",
      "Iteration Completed: 73\n",
      "Iteration Completed: 74\n",
      "Iteration Completed: 75\n",
      "Iteration Completed: 76\n",
      "Iteration Completed: 77\n",
      "Iteration Completed: 78\n",
      "Iteration Completed: 79\n",
      "Iteration Completed: 80\n",
      "Iteration Completed: 81\n",
      "Iteration Completed: 82\n",
      "Iteration Completed: 83\n",
      "Iteration Completed: 84\n",
      "Iteration Completed: 85\n",
      "Iteration Completed: 86\n",
      "Iteration Completed: 87\n",
      "Iteration Completed: 88\n",
      "Iteration Completed: 89\n",
      "Iteration Completed: 90\n",
      "Iteration Completed: 91\n",
      "Iteration Completed: 92\n",
      "Iteration Completed: 93\n",
      "Iteration Completed: 94\n",
      "Iteration Completed: 95\n",
      "Iteration Completed: 96\n",
      "Iteration Completed: 97\n",
      "Iteration Completed: 98\n",
      "Iteration Completed: 99\n",
      "Iteration Completed: 100\n",
      "Iteration Completed: 101\n",
      "Iteration Completed: 102\n",
      "Iteration Completed: 103\n",
      "Iteration Completed: 104\n",
      "Iteration Completed: 105\n",
      "Iteration Completed: 106\n",
      "Iteration Completed: 107\n",
      "Iteration Completed: 108\n",
      "Iteration Completed: 109\n",
      "Iteration Completed: 110\n",
      "Iteration Completed: 111\n",
      "Iteration Completed: 112\n",
      "Iteration Completed: 113\n",
      "Iteration Completed: 114\n",
      "Iteration Completed: 115\n",
      "Iteration Completed: 116\n",
      "Iteration Completed: 117\n",
      "Iteration Completed: 118\n",
      "Iteration Completed: 119\n",
      "Iteration Completed: 120\n",
      "Iteration Completed: 121\n",
      "Iteration Completed: 122\n",
      "Iteration Completed: 123\n",
      "Iteration Completed: 124\n",
      "Iteration Completed: 125\n",
      "Iteration Completed: 126\n",
      "Iteration Completed: 127\n",
      "Iteration Completed: 128\n",
      "Iteration Completed: 129\n",
      "Iteration Completed: 130\n",
      "Iteration Completed: 131\n",
      "Iteration Completed: 132\n",
      "Iteration Completed: 133\n",
      "Iteration Completed: 134\n",
      "Iteration Completed: 135\n",
      "Iteration Completed: 136\n",
      "Iteration Completed: 137\n",
      "Iteration Completed: 138\n",
      "Iteration Completed: 139\n",
      "Iteration Completed: 140\n",
      "Iteration Completed: 141\n",
      "Iteration Completed: 142\n",
      "Iteration Completed: 143\n",
      "Iteration Completed: 144\n",
      "Iteration Completed: 145\n",
      "Iteration Completed: 146\n",
      "Iteration Completed: 147\n",
      "Iteration Completed: 148\n",
      "Iteration Completed: 149\n",
      "Iteration Completed: 150\n",
      "F1 score: 0.8822358119123873\n",
      "Matthews Correlation Coefficient: 0.48789256660015523\n",
      "Accuracy score: 0.8167092924126172\n",
      "Recall score: 0.9313722822389725\n",
      "Precision score: 0.8380241170349514\n"
     ]
    }
   ],
   "source": [
    "# index = 1\n",
    "# model.fit(X_train, y_train, callback=on_step)\n",
    "#\n",
    "# optimised_lr = model.best_estimator_\n",
    "#\n",
    "# y_train_pred = optimised_lr.predict(X_train)\n",
    "# calculate_metrics_classification(y_train, y_train_pred)\n",
    "#\n",
    "# # Save Model & CV Results\n",
    "# dump(optimised_lr, 'Dataset_Files/Baseline_Models/Classification/optimised_lr.joblib')\n",
    "# np.save(\"Dataset_Files/Baseline_Models/Classification/optimised_lr_cv_results\", model.cv_results_)"
   ]
  },
  {
   "cell_type": "code",
   "execution_count": 47,
   "outputs": [],
   "source": [
    "# Load Model\n",
    "optimised_lr = load('Dataset_Files/Baseline_Models/Classification/optimised_lr.joblib')"
   ],
   "metadata": {
    "collapsed": false,
    "pycharm": {
     "name": "#%%\n"
    }
   }
  },
  {
   "cell_type": "code",
   "execution_count": 48,
   "outputs": [
    {
     "name": "stdout",
     "output_type": "stream",
     "text": [
      "F1 score: 0.8822358119123873\n",
      "Matthews Correlation Coefficient: 0.48789256660015523\n",
      "Accuracy score: 0.8167092924126172\n",
      "Recall score: 0.9313722822389725\n",
      "Precision score: 0.8380241170349514\n"
     ]
    }
   ],
   "source": [
    "y_train_pred = optimised_lr.predict(X_train)\n",
    "calculate_metrics_classification(y_train, y_train_pred)"
   ],
   "metadata": {
    "collapsed": false,
    "pycharm": {
     "name": "#%%\n"
    }
   }
  },
  {
   "cell_type": "code",
   "execution_count": 50,
   "outputs": [
    {
     "data": {
      "text/plain": "{'memory': None,\n 'steps': [('scale', StandardScaler()),\n  ('model',\n   LogisticRegression(C=0.08691067180260512, max_iter=4439, random_state=42,\n                      solver='liblinear'))],\n 'verbose': False,\n 'scale': StandardScaler(),\n 'model': LogisticRegression(C=0.08691067180260512, max_iter=4439, random_state=42,\n                    solver='liblinear'),\n 'scale__copy': True,\n 'scale__with_mean': True,\n 'scale__with_std': True,\n 'model__C': 0.08691067180260512,\n 'model__class_weight': None,\n 'model__dual': False,\n 'model__fit_intercept': True,\n 'model__intercept_scaling': 1,\n 'model__l1_ratio': None,\n 'model__max_iter': 4439,\n 'model__multi_class': 'auto',\n 'model__n_jobs': None,\n 'model__penalty': 'l2',\n 'model__random_state': 42,\n 'model__solver': 'liblinear',\n 'model__tol': 0.0001,\n 'model__verbose': 0,\n 'model__warm_start': False}"
     },
     "execution_count": 50,
     "metadata": {},
     "output_type": "execute_result"
    }
   ],
   "source": [
    "optimised_lr.get_params()"
   ],
   "metadata": {
    "collapsed": false,
    "pycharm": {
     "name": "#%%\n"
    }
   }
  },
  {
   "cell_type": "code",
   "execution_count": 51,
   "metadata": {
    "pycharm": {
     "name": "#%%\n"
    }
   },
   "outputs": [
    {
     "data": {
      "text/plain": "     mean_fit_time  std_fit_time  mean_score_time  std_score_time  \\\n66       55.793100      2.523845         0.132408        0.043119   \n26     2815.406966      2.884060         0.092576        0.014220   \n110      99.473659     44.479059         0.077112        0.012028   \n70      249.368894     19.934678         0.112724        0.023588   \n148      27.944436      0.060402         0.090997        0.005039   \n..             ...           ...              ...             ...   \n50        5.015475      0.039212         0.204767        0.003667   \n67        3.546709      0.147501         0.118602        0.020674   \n101       2.940660      0.183646         0.072081        0.006645   \n86        2.425969      0.030663         0.182416        0.004853   \n87        2.239574      0.043833         0.172363        0.009425   \n\n    param_model__C param_model__class_weight param_model__max_iter  \\\n66        0.086911                      None                  4439   \n26        0.172047                      None                  5000   \n110       0.458579                      None                  3710   \n70        0.276555                      None                    50   \n148       2.752098                      None                    50   \n..             ...                       ...                   ...   \n50        0.000002                      None                  1273   \n67        0.000001                  balanced                  1764   \n101       0.000016                  balanced                  4596   \n86        0.000009                  balanced                  4473   \n87        0.000001                      None                  2972   \n\n    param_model__penalty param_model__solver param_model__l1_ratio  \\\n66                    l2           liblinear                   NaN   \n26                    l2                 sag                   NaN   \n110                   l1                saga              0.709831   \n70                    l1           liblinear                   NaN   \n148                   l2                saga                   0.0   \n..                   ...                 ...                   ...   \n50                    l2           liblinear                   NaN   \n67                    l2           liblinear                   NaN   \n101                   l1                saga              0.473675   \n86                    l1           liblinear                   NaN   \n87                    l1           liblinear                   NaN   \n\n                                                params  split0_test_score  \\\n66   {'model__C': 0.08691067180260512, 'model__clas...           0.881027   \n26   {'model__C': 0.17204723798386953, 'model__clas...           0.881012   \n110  {'model__C': 0.4585792720221234, 'model__class...           0.880919   \n70   {'model__C': 0.2765547591820871, 'model__class...           0.880999   \n148  {'model__C': 2.7520978985242417, 'model__class...           0.880781   \n..                                                 ...                ...   \n50   {'model__C': 2.195551082864074e-06, 'model__cl...           0.738634   \n67   {'model__C': 1e-06, 'model__class_weight': 'ba...           0.693792   \n101  {'model__C': 1.6285217534593228e-05, 'model__c...           0.000000   \n86   {'model__C': 9.132486222789627e-06, 'model__cl...           0.000000   \n87   {'model__C': 1e-06, 'model__class_weight': Non...           0.000000   \n\n     split1_test_score  split2_test_score  split3_test_score  \\\n66            0.879426           0.882736           0.881267   \n26            0.879418           0.882679           0.881265   \n110           0.879570           0.882601           0.881239   \n70            0.879606           0.882495           0.881154   \n148           0.879539           0.882721           0.881100   \n..                 ...                ...                ...   \n50            0.740038           0.748189           0.743261   \n67            0.693219           0.703228           0.698660   \n101           0.848705           0.848705           0.848672   \n86            0.000000           0.000000           0.000000   \n87            0.000000           0.000000           0.000000   \n\n     split4_test_score  mean_test_score  std_test_score  rank_test_score  \n66            0.880858         0.881063        0.001055                1  \n26            0.880830         0.881041        0.001040                2  \n110           0.880801         0.881026        0.000970                3  \n70            0.880868         0.881024        0.000918                4  \n148           0.880907         0.881010        0.001016                5  \n..                 ...              ...             ...              ...  \n50            0.738875         0.741799        0.003595              146  \n67            0.692990         0.696378        0.004007              147  \n101           0.000000         0.509217        0.415774              148  \n86            0.000000         0.000000        0.000000              149  \n87            0.000000         0.000000        0.000000              149  \n\n[150 rows x 19 columns]",
      "text/html": "<div>\n<style scoped>\n    .dataframe tbody tr th:only-of-type {\n        vertical-align: middle;\n    }\n\n    .dataframe tbody tr th {\n        vertical-align: top;\n    }\n\n    .dataframe thead th {\n        text-align: right;\n    }\n</style>\n<table border=\"1\" class=\"dataframe\">\n  <thead>\n    <tr style=\"text-align: right;\">\n      <th></th>\n      <th>mean_fit_time</th>\n      <th>std_fit_time</th>\n      <th>mean_score_time</th>\n      <th>std_score_time</th>\n      <th>param_model__C</th>\n      <th>param_model__class_weight</th>\n      <th>param_model__max_iter</th>\n      <th>param_model__penalty</th>\n      <th>param_model__solver</th>\n      <th>param_model__l1_ratio</th>\n      <th>params</th>\n      <th>split0_test_score</th>\n      <th>split1_test_score</th>\n      <th>split2_test_score</th>\n      <th>split3_test_score</th>\n      <th>split4_test_score</th>\n      <th>mean_test_score</th>\n      <th>std_test_score</th>\n      <th>rank_test_score</th>\n    </tr>\n  </thead>\n  <tbody>\n    <tr>\n      <th>66</th>\n      <td>55.793100</td>\n      <td>2.523845</td>\n      <td>0.132408</td>\n      <td>0.043119</td>\n      <td>0.086911</td>\n      <td>None</td>\n      <td>4439</td>\n      <td>l2</td>\n      <td>liblinear</td>\n      <td>NaN</td>\n      <td>{'model__C': 0.08691067180260512, 'model__clas...</td>\n      <td>0.881027</td>\n      <td>0.879426</td>\n      <td>0.882736</td>\n      <td>0.881267</td>\n      <td>0.880858</td>\n      <td>0.881063</td>\n      <td>0.001055</td>\n      <td>1</td>\n    </tr>\n    <tr>\n      <th>26</th>\n      <td>2815.406966</td>\n      <td>2.884060</td>\n      <td>0.092576</td>\n      <td>0.014220</td>\n      <td>0.172047</td>\n      <td>None</td>\n      <td>5000</td>\n      <td>l2</td>\n      <td>sag</td>\n      <td>NaN</td>\n      <td>{'model__C': 0.17204723798386953, 'model__clas...</td>\n      <td>0.881012</td>\n      <td>0.879418</td>\n      <td>0.882679</td>\n      <td>0.881265</td>\n      <td>0.880830</td>\n      <td>0.881041</td>\n      <td>0.001040</td>\n      <td>2</td>\n    </tr>\n    <tr>\n      <th>110</th>\n      <td>99.473659</td>\n      <td>44.479059</td>\n      <td>0.077112</td>\n      <td>0.012028</td>\n      <td>0.458579</td>\n      <td>None</td>\n      <td>3710</td>\n      <td>l1</td>\n      <td>saga</td>\n      <td>0.709831</td>\n      <td>{'model__C': 0.4585792720221234, 'model__class...</td>\n      <td>0.880919</td>\n      <td>0.879570</td>\n      <td>0.882601</td>\n      <td>0.881239</td>\n      <td>0.880801</td>\n      <td>0.881026</td>\n      <td>0.000970</td>\n      <td>3</td>\n    </tr>\n    <tr>\n      <th>70</th>\n      <td>249.368894</td>\n      <td>19.934678</td>\n      <td>0.112724</td>\n      <td>0.023588</td>\n      <td>0.276555</td>\n      <td>None</td>\n      <td>50</td>\n      <td>l1</td>\n      <td>liblinear</td>\n      <td>NaN</td>\n      <td>{'model__C': 0.2765547591820871, 'model__class...</td>\n      <td>0.880999</td>\n      <td>0.879606</td>\n      <td>0.882495</td>\n      <td>0.881154</td>\n      <td>0.880868</td>\n      <td>0.881024</td>\n      <td>0.000918</td>\n      <td>4</td>\n    </tr>\n    <tr>\n      <th>148</th>\n      <td>27.944436</td>\n      <td>0.060402</td>\n      <td>0.090997</td>\n      <td>0.005039</td>\n      <td>2.752098</td>\n      <td>None</td>\n      <td>50</td>\n      <td>l2</td>\n      <td>saga</td>\n      <td>0.0</td>\n      <td>{'model__C': 2.7520978985242417, 'model__class...</td>\n      <td>0.880781</td>\n      <td>0.879539</td>\n      <td>0.882721</td>\n      <td>0.881100</td>\n      <td>0.880907</td>\n      <td>0.881010</td>\n      <td>0.001016</td>\n      <td>5</td>\n    </tr>\n    <tr>\n      <th>...</th>\n      <td>...</td>\n      <td>...</td>\n      <td>...</td>\n      <td>...</td>\n      <td>...</td>\n      <td>...</td>\n      <td>...</td>\n      <td>...</td>\n      <td>...</td>\n      <td>...</td>\n      <td>...</td>\n      <td>...</td>\n      <td>...</td>\n      <td>...</td>\n      <td>...</td>\n      <td>...</td>\n      <td>...</td>\n      <td>...</td>\n      <td>...</td>\n    </tr>\n    <tr>\n      <th>50</th>\n      <td>5.015475</td>\n      <td>0.039212</td>\n      <td>0.204767</td>\n      <td>0.003667</td>\n      <td>0.000002</td>\n      <td>None</td>\n      <td>1273</td>\n      <td>l2</td>\n      <td>liblinear</td>\n      <td>NaN</td>\n      <td>{'model__C': 2.195551082864074e-06, 'model__cl...</td>\n      <td>0.738634</td>\n      <td>0.740038</td>\n      <td>0.748189</td>\n      <td>0.743261</td>\n      <td>0.738875</td>\n      <td>0.741799</td>\n      <td>0.003595</td>\n      <td>146</td>\n    </tr>\n    <tr>\n      <th>67</th>\n      <td>3.546709</td>\n      <td>0.147501</td>\n      <td>0.118602</td>\n      <td>0.020674</td>\n      <td>0.000001</td>\n      <td>balanced</td>\n      <td>1764</td>\n      <td>l2</td>\n      <td>liblinear</td>\n      <td>NaN</td>\n      <td>{'model__C': 1e-06, 'model__class_weight': 'ba...</td>\n      <td>0.693792</td>\n      <td>0.693219</td>\n      <td>0.703228</td>\n      <td>0.698660</td>\n      <td>0.692990</td>\n      <td>0.696378</td>\n      <td>0.004007</td>\n      <td>147</td>\n    </tr>\n    <tr>\n      <th>101</th>\n      <td>2.940660</td>\n      <td>0.183646</td>\n      <td>0.072081</td>\n      <td>0.006645</td>\n      <td>0.000016</td>\n      <td>balanced</td>\n      <td>4596</td>\n      <td>l1</td>\n      <td>saga</td>\n      <td>0.473675</td>\n      <td>{'model__C': 1.6285217534593228e-05, 'model__c...</td>\n      <td>0.000000</td>\n      <td>0.848705</td>\n      <td>0.848705</td>\n      <td>0.848672</td>\n      <td>0.000000</td>\n      <td>0.509217</td>\n      <td>0.415774</td>\n      <td>148</td>\n    </tr>\n    <tr>\n      <th>86</th>\n      <td>2.425969</td>\n      <td>0.030663</td>\n      <td>0.182416</td>\n      <td>0.004853</td>\n      <td>0.000009</td>\n      <td>balanced</td>\n      <td>4473</td>\n      <td>l1</td>\n      <td>liblinear</td>\n      <td>NaN</td>\n      <td>{'model__C': 9.132486222789627e-06, 'model__cl...</td>\n      <td>0.000000</td>\n      <td>0.000000</td>\n      <td>0.000000</td>\n      <td>0.000000</td>\n      <td>0.000000</td>\n      <td>0.000000</td>\n      <td>0.000000</td>\n      <td>149</td>\n    </tr>\n    <tr>\n      <th>87</th>\n      <td>2.239574</td>\n      <td>0.043833</td>\n      <td>0.172363</td>\n      <td>0.009425</td>\n      <td>0.000001</td>\n      <td>None</td>\n      <td>2972</td>\n      <td>l1</td>\n      <td>liblinear</td>\n      <td>NaN</td>\n      <td>{'model__C': 1e-06, 'model__class_weight': Non...</td>\n      <td>0.000000</td>\n      <td>0.000000</td>\n      <td>0.000000</td>\n      <td>0.000000</td>\n      <td>0.000000</td>\n      <td>0.000000</td>\n      <td>0.000000</td>\n      <td>149</td>\n    </tr>\n  </tbody>\n</table>\n<p>150 rows × 19 columns</p>\n</div>"
     },
     "execution_count": 51,
     "metadata": {},
     "output_type": "execute_result"
    }
   ],
   "source": [
    "logistic_regression_grid_search_dataframe = pd.DataFrame(\n",
    "    np.load(\"Dataset_Files/Baseline_Models/Classification/optimised_lr_cv_results.npy\", allow_pickle=True).tolist())\n",
    "logistic_regression_grid_search_dataframe.sort_values(by=[\"rank_test_score\"], inplace=True)\n",
    "logistic_regression_grid_search_dataframe"
   ]
  },
  {
   "cell_type": "markdown",
   "metadata": {
    "pycharm": {
     "name": "#%% md\n"
    }
   },
   "source": [
    "### Testing"
   ]
  },
  {
   "cell_type": "code",
   "execution_count": 52,
   "outputs": [
    {
     "name": "stdout",
     "output_type": "stream",
     "text": [
      "F1 score: 0.8147527242246437\n",
      "Matthews Correlation Coefficient: 0.3242109535725276\n",
      "Accuracy score: 0.7291666666666666\n",
      "Recall score: 0.8632326820603907\n",
      "Precision score: 0.7714285714285715\n"
     ]
    }
   ],
   "source": [
    "y_test_pred = optimised_lr.predict(X_test)\n",
    "calculate_metrics_classification(y_test, y_test_pred)"
   ],
   "metadata": {
    "collapsed": false,
    "pycharm": {
     "name": "#%%\n"
    }
   }
  },
  {
   "cell_type": "markdown",
   "source": [
    "## Linear Support Vector Classification (LSVC)"
   ],
   "metadata": {
    "collapsed": false,
    "pycharm": {
     "name": "#%% md\n"
    }
   }
  },
  {
   "cell_type": "code",
   "execution_count": 53,
   "outputs": [
    {
     "data": {
      "text/plain": "{'memory': None,\n 'steps': [('scale', StandardScaler()), ('model', LinearSVC(random_state=42))],\n 'verbose': False,\n 'scale': StandardScaler(),\n 'model': LinearSVC(random_state=42),\n 'scale__copy': True,\n 'scale__with_mean': True,\n 'scale__with_std': True,\n 'model__C': 1.0,\n 'model__class_weight': None,\n 'model__dual': True,\n 'model__fit_intercept': True,\n 'model__intercept_scaling': 1,\n 'model__loss': 'squared_hinge',\n 'model__max_iter': 1000,\n 'model__multi_class': 'ovr',\n 'model__penalty': 'l2',\n 'model__random_state': 42,\n 'model__tol': 0.0001,\n 'model__verbose': 0}"
     },
     "execution_count": 53,
     "metadata": {},
     "output_type": "execute_result"
    }
   ],
   "source": [
    "pipe = Pipeline(\n",
    "    [\n",
    "        ('scale', StandardScaler()),\n",
    "        ('model', LinearSVC(random_state=42, penalty='l2'))\n",
    "    ]\n",
    ")\n",
    "pipe.get_params()"
   ],
   "metadata": {
    "collapsed": false,
    "pycharm": {
     "name": "#%%\n"
    }
   }
  },
  {
   "cell_type": "code",
   "execution_count": 54,
   "outputs": [],
   "source": [
    "model = BayesSearchCV(estimator=pipe,\n",
    "                      search_spaces={'model__loss': Categorical(['hinge', 'squared_hinge']),\n",
    "                                     'model__C': Real(1e-6, 1e+2, prior='log-uniform'),\n",
    "                                     'model__class_weight': Categorical([None, \"balanced\"]),\n",
    "                                     'model__max_iter': Integer(500, 5000)},\n",
    "                      scoring='f1',\n",
    "                      cv=5,\n",
    "                      error_score=np.nan,\n",
    "                      n_jobs=-1,\n",
    "                      pre_dispatch='2*n_jobs',\n",
    "                      random_state=42)"
   ],
   "metadata": {
    "collapsed": false,
    "pycharm": {
     "name": "#%%\n"
    }
   }
  },
  {
   "cell_type": "markdown",
   "source": [
    "### Training"
   ],
   "metadata": {
    "collapsed": false,
    "pycharm": {
     "name": "#%% md\n"
    }
   }
  },
  {
   "cell_type": "code",
   "execution_count": 55,
   "outputs": [
    {
     "name": "stdout",
     "output_type": "stream",
     "text": [
      "Iteration Completed: 1\n",
      "Iteration Completed: 2\n",
      "Iteration Completed: 3\n",
      "Iteration Completed: 4\n",
      "Iteration Completed: 5\n",
      "Iteration Completed: 6\n",
      "Iteration Completed: 7\n",
      "Iteration Completed: 8\n",
      "Iteration Completed: 9\n",
      "Iteration Completed: 10\n",
      "Iteration Completed: 11\n",
      "Iteration Completed: 12\n",
      "Iteration Completed: 13\n",
      "Iteration Completed: 14\n",
      "Iteration Completed: 15\n",
      "Iteration Completed: 16\n",
      "Iteration Completed: 17\n",
      "Iteration Completed: 18\n",
      "Iteration Completed: 19\n",
      "Iteration Completed: 20\n",
      "Iteration Completed: 21\n",
      "Iteration Completed: 22\n",
      "Iteration Completed: 23\n",
      "Iteration Completed: 24\n",
      "Iteration Completed: 25\n",
      "Iteration Completed: 26\n",
      "Iteration Completed: 27\n",
      "Iteration Completed: 28\n",
      "Iteration Completed: 29\n",
      "Iteration Completed: 30\n",
      "Iteration Completed: 31\n",
      "Iteration Completed: 32\n",
      "Iteration Completed: 33\n",
      "Iteration Completed: 34\n",
      "Iteration Completed: 35\n",
      "Iteration Completed: 36\n",
      "Iteration Completed: 37\n",
      "Iteration Completed: 38\n",
      "Iteration Completed: 39\n",
      "Iteration Completed: 40\n",
      "Iteration Completed: 41\n",
      "Iteration Completed: 42\n",
      "Iteration Completed: 43\n",
      "Iteration Completed: 44\n",
      "Iteration Completed: 45\n",
      "Iteration Completed: 46\n",
      "Iteration Completed: 47\n",
      "Iteration Completed: 48\n",
      "Iteration Completed: 49\n",
      "Iteration Completed: 50\n"
     ]
    },
    {
     "name": "stderr",
     "output_type": "stream",
     "text": [
      "C:\\Users\\jogeo\\anaconda3\\envs\\AlphaFold_Dataset_Drug_Binding_Prediction\\lib\\site-packages\\sklearn\\svm\\_base.py:1225: ConvergenceWarning: Liblinear failed to converge, increase the number of iterations.\n",
      "  warnings.warn(\n"
     ]
    },
    {
     "name": "stdout",
     "output_type": "stream",
     "text": [
      "F1 score: 0.8838442525599461\n",
      "Matthews Correlation Coefficient: 0.49138954626923115\n",
      "Accuracy score: 0.8185346772980292\n",
      "Recall score: 0.9365697025769408\n",
      "Precision score: 0.836738911106519\n"
     ]
    }
   ],
   "source": [
    "# index = 1\n",
    "# model.fit(X_train, y_train, callback=on_step)\n",
    "#\n",
    "# optimised_lsvc = model.best_estimator_\n",
    "#\n",
    "# y_train_pred = optimised_lsvc.predict(X_train)\n",
    "# calculate_metrics_classification(y_train, y_train_pred)\n",
    "#\n",
    "# # Save Model & CV Results\n",
    "# dump(optimised_lsvc, 'Dataset_Files/Baseline_Models/Classification/optimised_lsvc.joblib')\n",
    "# np.save(\"Dataset_Files/Baseline_Models/Classification/optimised_lsvc_cv_results.npy\", model.cv_results_)"
   ],
   "metadata": {
    "collapsed": false,
    "pycharm": {
     "name": "#%%\n"
    }
   }
  },
  {
   "cell_type": "code",
   "execution_count": 56,
   "outputs": [],
   "source": [
    "# Load Model\n",
    "optimised_lsvc = load('Dataset_Files/Baseline_Models/Classification/optimised_lsvc.joblib')"
   ],
   "metadata": {
    "collapsed": false,
    "pycharm": {
     "name": "#%%\n"
    }
   }
  },
  {
   "cell_type": "code",
   "execution_count": 57,
   "outputs": [
    {
     "name": "stdout",
     "output_type": "stream",
     "text": [
      "F1 score: 0.8838442525599461\n",
      "Matthews Correlation Coefficient: 0.49138954626923115\n",
      "Accuracy score: 0.8185346772980292\n",
      "Recall score: 0.9365697025769408\n",
      "Precision score: 0.836738911106519\n"
     ]
    }
   ],
   "source": [
    "y_train_pred = optimised_lsvc.predict(X_train)\n",
    "calculate_metrics_classification(y_train, y_train_pred)"
   ],
   "metadata": {
    "collapsed": false,
    "pycharm": {
     "name": "#%%\n"
    }
   }
  },
  {
   "cell_type": "code",
   "execution_count": 58,
   "outputs": [
    {
     "data": {
      "text/plain": "{'memory': None,\n 'steps': [('scale', StandardScaler()),\n  ('model',\n   LinearSVC(C=0.1380447014995764, loss='hinge', max_iter=3709, random_state=42))],\n 'verbose': False,\n 'scale': StandardScaler(),\n 'model': LinearSVC(C=0.1380447014995764, loss='hinge', max_iter=3709, random_state=42),\n 'scale__copy': True,\n 'scale__with_mean': True,\n 'scale__with_std': True,\n 'model__C': 0.1380447014995764,\n 'model__class_weight': None,\n 'model__dual': True,\n 'model__fit_intercept': True,\n 'model__intercept_scaling': 1,\n 'model__loss': 'hinge',\n 'model__max_iter': 3709,\n 'model__multi_class': 'ovr',\n 'model__penalty': 'l2',\n 'model__random_state': 42,\n 'model__tol': 0.0001,\n 'model__verbose': 0}"
     },
     "execution_count": 58,
     "metadata": {},
     "output_type": "execute_result"
    }
   ],
   "source": [
    "optimised_lsvc.get_params()"
   ],
   "metadata": {
    "collapsed": false,
    "pycharm": {
     "name": "#%%\n"
    }
   }
  },
  {
   "cell_type": "code",
   "execution_count": 59,
   "outputs": [
    {
     "data": {
      "text/plain": "    mean_fit_time  std_fit_time  mean_score_time  std_score_time  \\\n36     118.052291      1.109156         0.267848        0.035558   \n27      68.849699      0.879660         0.278061        0.048183   \n47      26.869208      0.263102         0.110933        0.018699   \n35     141.892981      1.392536         0.277655        0.025748   \n37      42.512370      0.342727         0.353301        0.097358   \n44     169.831090      1.389224         0.118468        0.020090   \n11     296.117881      2.094355         0.175879        0.038099   \n14      28.360347      0.292943         0.187140        0.035945   \n28      25.389982      0.158025         0.332762        0.015867   \n15      13.524660      0.224726         0.160166        0.035083   \n13      15.010084      0.233330         0.205424        0.030478   \n39       7.842014      0.063153         0.139061        0.015650   \n45       5.020756      0.054922         0.186843        0.017749   \n25     149.880685      0.310445         0.274437        0.049648   \n48     611.437613     58.544506         0.121409        0.013648   \n20     771.935747      1.368396         0.131113        0.029190   \n21     412.567679      0.981906         0.128559        0.027845   \n26     911.965336      1.507382         0.276249        0.058067   \n33     116.090260     20.056046         0.242836        0.041755   \n23    1023.824014      2.290465         0.286916        0.022857   \n49      85.043209      0.366886         0.121957        0.006294   \n31      22.760233      1.005423         0.236901        0.028053   \n29      14.790688      0.743672         0.251940        0.032489   \n24      13.984725      0.847896         0.249698        0.042019   \n32       9.707024      0.196035         0.281170        0.026580   \n4      590.877874      1.166030         0.123632        0.020106   \n30       7.781186      0.148114         0.270777        0.005686   \n10     100.775869      0.137673         0.206002        0.011858   \n22       6.377747      0.508341         0.106082        0.028090   \n40       3.790051      0.071753         0.182783        0.007246   \n16       4.376968      0.038433         0.198150        0.015893   \n3      694.955791      0.528573         0.108702        0.015464   \n43       3.817455      0.060822         0.195877        0.016906   \n18       5.016402      0.218525         0.169953        0.026093   \n46       3.744259      0.037101         0.160122        0.011777   \n34       5.948197      1.055979         0.246611        0.051239   \n38    1044.583379      0.509100         0.117302        0.028650   \n6       63.761827      0.336938         0.124023        0.025984   \n7       22.498485      0.208984         0.120853        0.016997   \n5      189.953322      1.027424         0.140368        0.023502   \n2       11.072094      0.187763         0.155932        0.020495   \n1      699.235452      1.017112         0.173472        0.031814   \n41     681.326954      1.056109         0.108217        0.016551   \n0       25.624570      1.357725         0.103357        0.013794   \n19     131.597474      0.374998         0.133420        0.012072   \n17     804.989544      0.529906         0.135393        0.018506   \n42       4.285828      0.423871         0.137486        0.013661   \n8      464.071592      0.305549         0.126450        0.022532   \n9        5.212596      0.096365         0.201239        0.028343   \n12       4.057702      0.046689         0.288904        0.033302   \n\n   param_model__C param_model__class_weight param_model__loss  \\\n36       0.138045                      None             hinge   \n27        0.07581                      None             hinge   \n47       0.045751                      None             hinge   \n35       0.172145                      None             hinge   \n37       0.052407                      None             hinge   \n44       0.538708                      None             hinge   \n11       0.743033                      None             hinge   \n14       0.032194                      None             hinge   \n28       0.014692                      None             hinge   \n15       0.013968                      None             hinge   \n13       0.005555                      None             hinge   \n39       0.004797                      None             hinge   \n45       0.003031                      None             hinge   \n25       0.039382                      None     squared_hinge   \n48       0.052175                      None     squared_hinge   \n20       0.264474                      None     squared_hinge   \n21       0.081255                      None     squared_hinge   \n26       0.458997                      None     squared_hinge   \n33       0.006776                      None     squared_hinge   \n23       1.131329                      None     squared_hinge   \n49       0.116385                      None     squared_hinge   \n31       0.001056                      None     squared_hinge   \n29       0.000592                      None     squared_hinge   \n24       0.001381                      None             hinge   \n32       0.000214                      None     squared_hinge   \n4        2.491309                      None     squared_hinge   \n30       0.000097                      None     squared_hinge   \n10       0.350239                      None     squared_hinge   \n22       0.000619                      None             hinge   \n40       0.000062                      None     squared_hinge   \n16       0.000488                      None             hinge   \n3        3.156225                      None     squared_hinge   \n43       0.000037                      None     squared_hinge   \n18       0.000076                      None             hinge   \n46       0.000008                      None     squared_hinge   \n34       0.000032                      None             hinge   \n38      19.190776                      None     squared_hinge   \n6        0.086424                  balanced             hinge   \n7        0.022245                  balanced             hinge   \n5        0.745116                  balanced             hinge   \n2         0.00362                  balanced             hinge   \n1        5.001576                  balanced             hinge   \n41       0.150803                  balanced     squared_hinge   \n0        0.001909                  balanced     squared_hinge   \n19       2.576424                      None             hinge   \n17      99.334634                      None             hinge   \n42       0.000084                  balanced             hinge   \n8       44.037625                  balanced     squared_hinge   \n9        0.000001                  balanced     squared_hinge   \n12       0.000001                      None             hinge   \n\n   param_model__max_iter                                             params  \\\n36                  3709  {'model__C': 0.1380447014995764, 'model__class...   \n27                  2099  {'model__C': 0.07580988177176091, 'model__clas...   \n47                  3711  {'model__C': 0.045751052954376946, 'model__cla...   \n35                  4946  {'model__C': 0.1721453720296977, 'model__class...   \n37                   500  {'model__C': 0.052407004122209624, 'model__cla...   \n44                  5000  {'model__C': 0.5387084648932836, 'model__class...   \n11                  4770  {'model__C': 0.7430332959877312, 'model__class...   \n14                  5000  {'model__C': 0.03219377091560028, 'model__clas...   \n28                  2867  {'model__C': 0.01469227089101338, 'model__clas...   \n15                   513  {'model__C': 0.013967868241974836, 'model__cla...   \n13                  4936  {'model__C': 0.00555534437946428, 'model__clas...   \n39                  1614  {'model__C': 0.004797305476167124, 'model__cla...   \n45                   500  {'model__C': 0.0030308919904399726, 'model__cl...   \n25                   500  {'model__C': 0.03938209697001779, 'model__clas...   \n48                  5000  {'model__C': 0.05217478142578604, 'model__clas...   \n20                  5000  {'model__C': 0.2644743677880158, 'model__class...   \n21                  2521  {'model__C': 0.08125487389127094, 'model__clas...   \n26                  3060  {'model__C': 0.4589969036051254, 'model__class...   \n33                  5000  {'model__C': 0.006776175185943892, 'model__cla...   \n23                  5000  {'model__C': 1.1313292661182266, 'model__class...   \n49                   500  {'model__C': 0.11638526459687938, 'model__clas...   \n31                   500  {'model__C': 0.0010556527784712365, 'model__cl...   \n29                  5000  {'model__C': 0.0005921590488276713, 'model__cl...   \n24                  2703  {'model__C': 0.001380765290289825, 'model__cla...   \n32                  2735  {'model__C': 0.00021382241224399877, 'model__c...   \n4                   3721  {'model__C': 2.491308632420524, 'model__class_...   \n30                   500  {'model__C': 9.657669098785221e-05, 'model__cl...   \n10                   500  {'model__C': 0.3502393891414413, 'model__class...   \n22                  5000  {'model__C': 0.0006187840005129989, 'model__cl...   \n40                  5000  {'model__C': 6.213259856244187e-05, 'model__cl...   \n16                   500  {'model__C': 0.00048761423845638266, 'model__c...   \n3                   4112  {'model__C': 3.1562246465541888, 'model__class...   \n43                  2685  {'model__C': 3.6685285478109704e-05, 'model__c...   \n18                  4856  {'model__C': 7.605225223648453e-05, 'model__cl...   \n46                   519  {'model__C': 8.435601353254293e-06, 'model__cl...   \n34                   500  {'model__C': 3.1953755780018515e-05, 'model__c...   \n38                  4991  {'model__C': 19.190776178531312, 'model__class...   \n6                   4434  {'model__C': 0.08642410048155082, 'model__clas...   \n7                   4269  {'model__C': 0.022244596968016832, 'model__cla...   \n5                   1348  {'model__C': 0.7451164370027008, 'model__class...   \n2                   2450  {'model__C': 0.003619595990038508, 'model__cla...   \n1                   4781  {'model__C': 5.001575677983704, 'model__class_...   \n41                  4246  {'model__C': 0.15080272165641095, 'model__clas...   \n0                   1921  {'model__C': 0.0019091131576909443, 'model__cl...   \n19                   513  {'model__C': 2.576423799733396, 'model__class_...   \n17                  4103  {'model__C': 99.33463392847965, 'model__class_...   \n42                   571  {'model__C': 8.405612361362026e-05, 'model__cl...   \n8                   2371  {'model__C': 44.037625157309144, 'model__class...   \n9                   1645  {'model__C': 1.0691593986059968e-06, 'model__c...   \n12                  4849  {'model__C': 1e-06, 'model__class_weight': Non...   \n\n    split0_test_score  split1_test_score  split2_test_score  \\\n36           0.881801           0.882608           0.882870   \n27           0.882007           0.882444           0.882729   \n47           0.882002           0.882623           0.882730   \n35           0.881786           0.882472           0.882821   \n37           0.881790           0.882557           0.882779   \n44           0.881716           0.882493           0.882793   \n11           0.881729           0.882506           0.882689   \n14           0.881711           0.882211           0.882432   \n28           0.881939           0.882255           0.882100   \n15           0.881718           0.882234           0.882013   \n13           0.881632           0.881261           0.881776   \n39           0.881427           0.880790           0.881694   \n45           0.880872           0.880126           0.881705   \n25           0.879051           0.880041           0.881728   \n48           0.879023           0.880005           0.881636   \n20           0.879046           0.880013           0.881628   \n21           0.878938           0.880005           0.881636   \n26           0.879023           0.879985           0.881620   \n33           0.879418           0.879749           0.881596   \n23           0.878925           0.879879           0.881598   \n49           0.879050           0.879956           0.881494   \n31           0.879447           0.879621           0.881020   \n29           0.879857           0.879317           0.880737   \n24           0.879288           0.878618           0.880529   \n32           0.878524           0.878848           0.880143   \n4            0.879086           0.877277           0.878736   \n30           0.876841           0.877268           0.878548   \n10           0.877201           0.878223           0.876580   \n22           0.875837           0.876274           0.878091   \n40           0.876036           0.876538           0.877747   \n16           0.874725           0.874901           0.877304   \n3            0.875531           0.873759           0.875420   \n43           0.872764           0.874067           0.876078   \n18           0.861732           0.861345           0.864796   \n46           0.860740           0.861583           0.865152   \n34           0.855093           0.854795           0.858568   \n38           0.825028           0.838569           0.827313   \n6            0.831175           0.832855           0.831931   \n7            0.831413           0.832437           0.832425   \n5            0.831197           0.830718           0.832438   \n2            0.830317           0.831122           0.832127   \n1            0.827334           0.830760           0.829129   \n41           0.825051           0.827224           0.828343   \n0            0.825322           0.827007           0.827450   \n19           0.831415           0.818033           0.822409   \n17           0.812772           0.812948           0.806522   \n42           0.802268           0.801766           0.803975   \n8            0.792139           0.763830           0.814554   \n9            0.723185           0.724696           0.731959   \n12           0.712968           0.711833           0.723109   \n\n    split3_test_score  split4_test_score  mean_test_score  std_test_score  \\\n36           0.882889           0.883740         0.882782        0.000621   \n27           0.882889           0.883684         0.882750        0.000554   \n47           0.882790           0.883463         0.882722        0.000465   \n35           0.882866           0.883576         0.882704        0.000583   \n37           0.882911           0.883441         0.882696        0.000538   \n44           0.882941           0.883478         0.882684        0.000580   \n11           0.882601           0.883685         0.882642        0.000623   \n14           0.882820           0.883478         0.882531        0.000594   \n28           0.882593           0.883252         0.882428        0.000465   \n15           0.882680           0.883210         0.882371        0.000524   \n13           0.882463           0.883121         0.882051        0.000662   \n39           0.882300           0.882908         0.881824        0.000728   \n45           0.882056           0.881743         0.881300        0.000706   \n25           0.880627           0.881239         0.880537        0.000935   \n48           0.880627           0.881231         0.880504        0.000924   \n20           0.880612           0.881187         0.880497        0.000906   \n21           0.880591           0.881231         0.880480        0.000950   \n26           0.880311           0.881216         0.880431        0.000919   \n33           0.880429           0.880928         0.880424        0.000787   \n23           0.880355           0.880854         0.880322        0.000901   \n49           0.880370           0.880630         0.880300        0.000802   \n31           0.880116           0.880540         0.880149        0.000580   \n29           0.879695           0.880200         0.879961        0.000481   \n24           0.880923           0.879353         0.879742        0.000853   \n32           0.878466           0.878882         0.878972        0.000609   \n4            0.877208           0.878434         0.878148        0.000768   \n30           0.877579           0.877966         0.877640        0.000585   \n10           0.878403           0.875174         0.877116        0.001179   \n22           0.877464           0.877598         0.877053        0.000852   \n40           0.876619           0.877756         0.876939        0.000693   \n16           0.877044           0.877003         0.876195        0.001135   \n3            0.876503           0.875322         0.875307        0.000882   \n43           0.874636           0.875807         0.874670        0.001206   \n18           0.863012           0.862944         0.862766        0.001208   \n46           0.861862           0.864009         0.862669        0.001644   \n34           0.855336           0.856430         0.856044        0.001377   \n38           0.839358           0.834100         0.832874        0.005805   \n6            0.830593           0.831549         0.831621        0.000759   \n7            0.830435           0.830939         0.831530        0.000798   \n5            0.829093           0.830200         0.830729        0.001104   \n2            0.829261           0.829518         0.830469        0.001055   \n1            0.827239           0.828813         0.828655        0.001299   \n41           0.823516           0.823768         0.825581        0.001906   \n0            0.823443           0.823646         0.825374        0.001655   \n19           0.816078           0.825342         0.822655        0.005452   \n17           0.804379           0.801151         0.807554        0.004658   \n42           0.800688           0.797680         0.801275        0.002087   \n8            0.756638           0.809883         0.787409        0.023525   \n9            0.725389           0.721253         0.725296        0.003621   \n12           0.718041           0.713101         0.715810        0.004231   \n\n    rank_test_score  \n36                1  \n27                2  \n47                3  \n35                4  \n37                5  \n44                6  \n11                7  \n14                8  \n28                9  \n15               10  \n13               11  \n39               12  \n45               13  \n25               14  \n48               15  \n20               16  \n21               17  \n26               18  \n33               19  \n23               20  \n49               21  \n31               22  \n29               23  \n24               24  \n32               25  \n4                26  \n30               27  \n10               28  \n22               29  \n40               30  \n16               31  \n3                32  \n43               33  \n18               34  \n46               35  \n34               36  \n38               37  \n6                38  \n7                39  \n5                40  \n2                41  \n1                42  \n41               43  \n0                44  \n19               45  \n17               46  \n42               47  \n8                48  \n9                49  \n12               50  ",
      "text/html": "<div>\n<style scoped>\n    .dataframe tbody tr th:only-of-type {\n        vertical-align: middle;\n    }\n\n    .dataframe tbody tr th {\n        vertical-align: top;\n    }\n\n    .dataframe thead th {\n        text-align: right;\n    }\n</style>\n<table border=\"1\" class=\"dataframe\">\n  <thead>\n    <tr style=\"text-align: right;\">\n      <th></th>\n      <th>mean_fit_time</th>\n      <th>std_fit_time</th>\n      <th>mean_score_time</th>\n      <th>std_score_time</th>\n      <th>param_model__C</th>\n      <th>param_model__class_weight</th>\n      <th>param_model__loss</th>\n      <th>param_model__max_iter</th>\n      <th>params</th>\n      <th>split0_test_score</th>\n      <th>split1_test_score</th>\n      <th>split2_test_score</th>\n      <th>split3_test_score</th>\n      <th>split4_test_score</th>\n      <th>mean_test_score</th>\n      <th>std_test_score</th>\n      <th>rank_test_score</th>\n    </tr>\n  </thead>\n  <tbody>\n    <tr>\n      <th>36</th>\n      <td>118.052291</td>\n      <td>1.109156</td>\n      <td>0.267848</td>\n      <td>0.035558</td>\n      <td>0.138045</td>\n      <td>None</td>\n      <td>hinge</td>\n      <td>3709</td>\n      <td>{'model__C': 0.1380447014995764, 'model__class...</td>\n      <td>0.881801</td>\n      <td>0.882608</td>\n      <td>0.882870</td>\n      <td>0.882889</td>\n      <td>0.883740</td>\n      <td>0.882782</td>\n      <td>0.000621</td>\n      <td>1</td>\n    </tr>\n    <tr>\n      <th>27</th>\n      <td>68.849699</td>\n      <td>0.879660</td>\n      <td>0.278061</td>\n      <td>0.048183</td>\n      <td>0.07581</td>\n      <td>None</td>\n      <td>hinge</td>\n      <td>2099</td>\n      <td>{'model__C': 0.07580988177176091, 'model__clas...</td>\n      <td>0.882007</td>\n      <td>0.882444</td>\n      <td>0.882729</td>\n      <td>0.882889</td>\n      <td>0.883684</td>\n      <td>0.882750</td>\n      <td>0.000554</td>\n      <td>2</td>\n    </tr>\n    <tr>\n      <th>47</th>\n      <td>26.869208</td>\n      <td>0.263102</td>\n      <td>0.110933</td>\n      <td>0.018699</td>\n      <td>0.045751</td>\n      <td>None</td>\n      <td>hinge</td>\n      <td>3711</td>\n      <td>{'model__C': 0.045751052954376946, 'model__cla...</td>\n      <td>0.882002</td>\n      <td>0.882623</td>\n      <td>0.882730</td>\n      <td>0.882790</td>\n      <td>0.883463</td>\n      <td>0.882722</td>\n      <td>0.000465</td>\n      <td>3</td>\n    </tr>\n    <tr>\n      <th>35</th>\n      <td>141.892981</td>\n      <td>1.392536</td>\n      <td>0.277655</td>\n      <td>0.025748</td>\n      <td>0.172145</td>\n      <td>None</td>\n      <td>hinge</td>\n      <td>4946</td>\n      <td>{'model__C': 0.1721453720296977, 'model__class...</td>\n      <td>0.881786</td>\n      <td>0.882472</td>\n      <td>0.882821</td>\n      <td>0.882866</td>\n      <td>0.883576</td>\n      <td>0.882704</td>\n      <td>0.000583</td>\n      <td>4</td>\n    </tr>\n    <tr>\n      <th>37</th>\n      <td>42.512370</td>\n      <td>0.342727</td>\n      <td>0.353301</td>\n      <td>0.097358</td>\n      <td>0.052407</td>\n      <td>None</td>\n      <td>hinge</td>\n      <td>500</td>\n      <td>{'model__C': 0.052407004122209624, 'model__cla...</td>\n      <td>0.881790</td>\n      <td>0.882557</td>\n      <td>0.882779</td>\n      <td>0.882911</td>\n      <td>0.883441</td>\n      <td>0.882696</td>\n      <td>0.000538</td>\n      <td>5</td>\n    </tr>\n    <tr>\n      <th>44</th>\n      <td>169.831090</td>\n      <td>1.389224</td>\n      <td>0.118468</td>\n      <td>0.020090</td>\n      <td>0.538708</td>\n      <td>None</td>\n      <td>hinge</td>\n      <td>5000</td>\n      <td>{'model__C': 0.5387084648932836, 'model__class...</td>\n      <td>0.881716</td>\n      <td>0.882493</td>\n      <td>0.882793</td>\n      <td>0.882941</td>\n      <td>0.883478</td>\n      <td>0.882684</td>\n      <td>0.000580</td>\n      <td>6</td>\n    </tr>\n    <tr>\n      <th>11</th>\n      <td>296.117881</td>\n      <td>2.094355</td>\n      <td>0.175879</td>\n      <td>0.038099</td>\n      <td>0.743033</td>\n      <td>None</td>\n      <td>hinge</td>\n      <td>4770</td>\n      <td>{'model__C': 0.7430332959877312, 'model__class...</td>\n      <td>0.881729</td>\n      <td>0.882506</td>\n      <td>0.882689</td>\n      <td>0.882601</td>\n      <td>0.883685</td>\n      <td>0.882642</td>\n      <td>0.000623</td>\n      <td>7</td>\n    </tr>\n    <tr>\n      <th>14</th>\n      <td>28.360347</td>\n      <td>0.292943</td>\n      <td>0.187140</td>\n      <td>0.035945</td>\n      <td>0.032194</td>\n      <td>None</td>\n      <td>hinge</td>\n      <td>5000</td>\n      <td>{'model__C': 0.03219377091560028, 'model__clas...</td>\n      <td>0.881711</td>\n      <td>0.882211</td>\n      <td>0.882432</td>\n      <td>0.882820</td>\n      <td>0.883478</td>\n      <td>0.882531</td>\n      <td>0.000594</td>\n      <td>8</td>\n    </tr>\n    <tr>\n      <th>28</th>\n      <td>25.389982</td>\n      <td>0.158025</td>\n      <td>0.332762</td>\n      <td>0.015867</td>\n      <td>0.014692</td>\n      <td>None</td>\n      <td>hinge</td>\n      <td>2867</td>\n      <td>{'model__C': 0.01469227089101338, 'model__clas...</td>\n      <td>0.881939</td>\n      <td>0.882255</td>\n      <td>0.882100</td>\n      <td>0.882593</td>\n      <td>0.883252</td>\n      <td>0.882428</td>\n      <td>0.000465</td>\n      <td>9</td>\n    </tr>\n    <tr>\n      <th>15</th>\n      <td>13.524660</td>\n      <td>0.224726</td>\n      <td>0.160166</td>\n      <td>0.035083</td>\n      <td>0.013968</td>\n      <td>None</td>\n      <td>hinge</td>\n      <td>513</td>\n      <td>{'model__C': 0.013967868241974836, 'model__cla...</td>\n      <td>0.881718</td>\n      <td>0.882234</td>\n      <td>0.882013</td>\n      <td>0.882680</td>\n      <td>0.883210</td>\n      <td>0.882371</td>\n      <td>0.000524</td>\n      <td>10</td>\n    </tr>\n    <tr>\n      <th>13</th>\n      <td>15.010084</td>\n      <td>0.233330</td>\n      <td>0.205424</td>\n      <td>0.030478</td>\n      <td>0.005555</td>\n      <td>None</td>\n      <td>hinge</td>\n      <td>4936</td>\n      <td>{'model__C': 0.00555534437946428, 'model__clas...</td>\n      <td>0.881632</td>\n      <td>0.881261</td>\n      <td>0.881776</td>\n      <td>0.882463</td>\n      <td>0.883121</td>\n      <td>0.882051</td>\n      <td>0.000662</td>\n      <td>11</td>\n    </tr>\n    <tr>\n      <th>39</th>\n      <td>7.842014</td>\n      <td>0.063153</td>\n      <td>0.139061</td>\n      <td>0.015650</td>\n      <td>0.004797</td>\n      <td>None</td>\n      <td>hinge</td>\n      <td>1614</td>\n      <td>{'model__C': 0.004797305476167124, 'model__cla...</td>\n      <td>0.881427</td>\n      <td>0.880790</td>\n      <td>0.881694</td>\n      <td>0.882300</td>\n      <td>0.882908</td>\n      <td>0.881824</td>\n      <td>0.000728</td>\n      <td>12</td>\n    </tr>\n    <tr>\n      <th>45</th>\n      <td>5.020756</td>\n      <td>0.054922</td>\n      <td>0.186843</td>\n      <td>0.017749</td>\n      <td>0.003031</td>\n      <td>None</td>\n      <td>hinge</td>\n      <td>500</td>\n      <td>{'model__C': 0.0030308919904399726, 'model__cl...</td>\n      <td>0.880872</td>\n      <td>0.880126</td>\n      <td>0.881705</td>\n      <td>0.882056</td>\n      <td>0.881743</td>\n      <td>0.881300</td>\n      <td>0.000706</td>\n      <td>13</td>\n    </tr>\n    <tr>\n      <th>25</th>\n      <td>149.880685</td>\n      <td>0.310445</td>\n      <td>0.274437</td>\n      <td>0.049648</td>\n      <td>0.039382</td>\n      <td>None</td>\n      <td>squared_hinge</td>\n      <td>500</td>\n      <td>{'model__C': 0.03938209697001779, 'model__clas...</td>\n      <td>0.879051</td>\n      <td>0.880041</td>\n      <td>0.881728</td>\n      <td>0.880627</td>\n      <td>0.881239</td>\n      <td>0.880537</td>\n      <td>0.000935</td>\n      <td>14</td>\n    </tr>\n    <tr>\n      <th>48</th>\n      <td>611.437613</td>\n      <td>58.544506</td>\n      <td>0.121409</td>\n      <td>0.013648</td>\n      <td>0.052175</td>\n      <td>None</td>\n      <td>squared_hinge</td>\n      <td>5000</td>\n      <td>{'model__C': 0.05217478142578604, 'model__clas...</td>\n      <td>0.879023</td>\n      <td>0.880005</td>\n      <td>0.881636</td>\n      <td>0.880627</td>\n      <td>0.881231</td>\n      <td>0.880504</td>\n      <td>0.000924</td>\n      <td>15</td>\n    </tr>\n    <tr>\n      <th>20</th>\n      <td>771.935747</td>\n      <td>1.368396</td>\n      <td>0.131113</td>\n      <td>0.029190</td>\n      <td>0.264474</td>\n      <td>None</td>\n      <td>squared_hinge</td>\n      <td>5000</td>\n      <td>{'model__C': 0.2644743677880158, 'model__class...</td>\n      <td>0.879046</td>\n      <td>0.880013</td>\n      <td>0.881628</td>\n      <td>0.880612</td>\n      <td>0.881187</td>\n      <td>0.880497</td>\n      <td>0.000906</td>\n      <td>16</td>\n    </tr>\n    <tr>\n      <th>21</th>\n      <td>412.567679</td>\n      <td>0.981906</td>\n      <td>0.128559</td>\n      <td>0.027845</td>\n      <td>0.081255</td>\n      <td>None</td>\n      <td>squared_hinge</td>\n      <td>2521</td>\n      <td>{'model__C': 0.08125487389127094, 'model__clas...</td>\n      <td>0.878938</td>\n      <td>0.880005</td>\n      <td>0.881636</td>\n      <td>0.880591</td>\n      <td>0.881231</td>\n      <td>0.880480</td>\n      <td>0.000950</td>\n      <td>17</td>\n    </tr>\n    <tr>\n      <th>26</th>\n      <td>911.965336</td>\n      <td>1.507382</td>\n      <td>0.276249</td>\n      <td>0.058067</td>\n      <td>0.458997</td>\n      <td>None</td>\n      <td>squared_hinge</td>\n      <td>3060</td>\n      <td>{'model__C': 0.4589969036051254, 'model__class...</td>\n      <td>0.879023</td>\n      <td>0.879985</td>\n      <td>0.881620</td>\n      <td>0.880311</td>\n      <td>0.881216</td>\n      <td>0.880431</td>\n      <td>0.000919</td>\n      <td>18</td>\n    </tr>\n    <tr>\n      <th>33</th>\n      <td>116.090260</td>\n      <td>20.056046</td>\n      <td>0.242836</td>\n      <td>0.041755</td>\n      <td>0.006776</td>\n      <td>None</td>\n      <td>squared_hinge</td>\n      <td>5000</td>\n      <td>{'model__C': 0.006776175185943892, 'model__cla...</td>\n      <td>0.879418</td>\n      <td>0.879749</td>\n      <td>0.881596</td>\n      <td>0.880429</td>\n      <td>0.880928</td>\n      <td>0.880424</td>\n      <td>0.000787</td>\n      <td>19</td>\n    </tr>\n    <tr>\n      <th>23</th>\n      <td>1023.824014</td>\n      <td>2.290465</td>\n      <td>0.286916</td>\n      <td>0.022857</td>\n      <td>1.131329</td>\n      <td>None</td>\n      <td>squared_hinge</td>\n      <td>5000</td>\n      <td>{'model__C': 1.1313292661182266, 'model__class...</td>\n      <td>0.878925</td>\n      <td>0.879879</td>\n      <td>0.881598</td>\n      <td>0.880355</td>\n      <td>0.880854</td>\n      <td>0.880322</td>\n      <td>0.000901</td>\n      <td>20</td>\n    </tr>\n    <tr>\n      <th>49</th>\n      <td>85.043209</td>\n      <td>0.366886</td>\n      <td>0.121957</td>\n      <td>0.006294</td>\n      <td>0.116385</td>\n      <td>None</td>\n      <td>squared_hinge</td>\n      <td>500</td>\n      <td>{'model__C': 0.11638526459687938, 'model__clas...</td>\n      <td>0.879050</td>\n      <td>0.879956</td>\n      <td>0.881494</td>\n      <td>0.880370</td>\n      <td>0.880630</td>\n      <td>0.880300</td>\n      <td>0.000802</td>\n      <td>21</td>\n    </tr>\n    <tr>\n      <th>31</th>\n      <td>22.760233</td>\n      <td>1.005423</td>\n      <td>0.236901</td>\n      <td>0.028053</td>\n      <td>0.001056</td>\n      <td>None</td>\n      <td>squared_hinge</td>\n      <td>500</td>\n      <td>{'model__C': 0.0010556527784712365, 'model__cl...</td>\n      <td>0.879447</td>\n      <td>0.879621</td>\n      <td>0.881020</td>\n      <td>0.880116</td>\n      <td>0.880540</td>\n      <td>0.880149</td>\n      <td>0.000580</td>\n      <td>22</td>\n    </tr>\n    <tr>\n      <th>29</th>\n      <td>14.790688</td>\n      <td>0.743672</td>\n      <td>0.251940</td>\n      <td>0.032489</td>\n      <td>0.000592</td>\n      <td>None</td>\n      <td>squared_hinge</td>\n      <td>5000</td>\n      <td>{'model__C': 0.0005921590488276713, 'model__cl...</td>\n      <td>0.879857</td>\n      <td>0.879317</td>\n      <td>0.880737</td>\n      <td>0.879695</td>\n      <td>0.880200</td>\n      <td>0.879961</td>\n      <td>0.000481</td>\n      <td>23</td>\n    </tr>\n    <tr>\n      <th>24</th>\n      <td>13.984725</td>\n      <td>0.847896</td>\n      <td>0.249698</td>\n      <td>0.042019</td>\n      <td>0.001381</td>\n      <td>None</td>\n      <td>hinge</td>\n      <td>2703</td>\n      <td>{'model__C': 0.001380765290289825, 'model__cla...</td>\n      <td>0.879288</td>\n      <td>0.878618</td>\n      <td>0.880529</td>\n      <td>0.880923</td>\n      <td>0.879353</td>\n      <td>0.879742</td>\n      <td>0.000853</td>\n      <td>24</td>\n    </tr>\n    <tr>\n      <th>32</th>\n      <td>9.707024</td>\n      <td>0.196035</td>\n      <td>0.281170</td>\n      <td>0.026580</td>\n      <td>0.000214</td>\n      <td>None</td>\n      <td>squared_hinge</td>\n      <td>2735</td>\n      <td>{'model__C': 0.00021382241224399877, 'model__c...</td>\n      <td>0.878524</td>\n      <td>0.878848</td>\n      <td>0.880143</td>\n      <td>0.878466</td>\n      <td>0.878882</td>\n      <td>0.878972</td>\n      <td>0.000609</td>\n      <td>25</td>\n    </tr>\n    <tr>\n      <th>4</th>\n      <td>590.877874</td>\n      <td>1.166030</td>\n      <td>0.123632</td>\n      <td>0.020106</td>\n      <td>2.491309</td>\n      <td>None</td>\n      <td>squared_hinge</td>\n      <td>3721</td>\n      <td>{'model__C': 2.491308632420524, 'model__class_...</td>\n      <td>0.879086</td>\n      <td>0.877277</td>\n      <td>0.878736</td>\n      <td>0.877208</td>\n      <td>0.878434</td>\n      <td>0.878148</td>\n      <td>0.000768</td>\n      <td>26</td>\n    </tr>\n    <tr>\n      <th>30</th>\n      <td>7.781186</td>\n      <td>0.148114</td>\n      <td>0.270777</td>\n      <td>0.005686</td>\n      <td>0.000097</td>\n      <td>None</td>\n      <td>squared_hinge</td>\n      <td>500</td>\n      <td>{'model__C': 9.657669098785221e-05, 'model__cl...</td>\n      <td>0.876841</td>\n      <td>0.877268</td>\n      <td>0.878548</td>\n      <td>0.877579</td>\n      <td>0.877966</td>\n      <td>0.877640</td>\n      <td>0.000585</td>\n      <td>27</td>\n    </tr>\n    <tr>\n      <th>10</th>\n      <td>100.775869</td>\n      <td>0.137673</td>\n      <td>0.206002</td>\n      <td>0.011858</td>\n      <td>0.350239</td>\n      <td>None</td>\n      <td>squared_hinge</td>\n      <td>500</td>\n      <td>{'model__C': 0.3502393891414413, 'model__class...</td>\n      <td>0.877201</td>\n      <td>0.878223</td>\n      <td>0.876580</td>\n      <td>0.878403</td>\n      <td>0.875174</td>\n      <td>0.877116</td>\n      <td>0.001179</td>\n      <td>28</td>\n    </tr>\n    <tr>\n      <th>22</th>\n      <td>6.377747</td>\n      <td>0.508341</td>\n      <td>0.106082</td>\n      <td>0.028090</td>\n      <td>0.000619</td>\n      <td>None</td>\n      <td>hinge</td>\n      <td>5000</td>\n      <td>{'model__C': 0.0006187840005129989, 'model__cl...</td>\n      <td>0.875837</td>\n      <td>0.876274</td>\n      <td>0.878091</td>\n      <td>0.877464</td>\n      <td>0.877598</td>\n      <td>0.877053</td>\n      <td>0.000852</td>\n      <td>29</td>\n    </tr>\n    <tr>\n      <th>40</th>\n      <td>3.790051</td>\n      <td>0.071753</td>\n      <td>0.182783</td>\n      <td>0.007246</td>\n      <td>0.000062</td>\n      <td>None</td>\n      <td>squared_hinge</td>\n      <td>5000</td>\n      <td>{'model__C': 6.213259856244187e-05, 'model__cl...</td>\n      <td>0.876036</td>\n      <td>0.876538</td>\n      <td>0.877747</td>\n      <td>0.876619</td>\n      <td>0.877756</td>\n      <td>0.876939</td>\n      <td>0.000693</td>\n      <td>30</td>\n    </tr>\n    <tr>\n      <th>16</th>\n      <td>4.376968</td>\n      <td>0.038433</td>\n      <td>0.198150</td>\n      <td>0.015893</td>\n      <td>0.000488</td>\n      <td>None</td>\n      <td>hinge</td>\n      <td>500</td>\n      <td>{'model__C': 0.00048761423845638266, 'model__c...</td>\n      <td>0.874725</td>\n      <td>0.874901</td>\n      <td>0.877304</td>\n      <td>0.877044</td>\n      <td>0.877003</td>\n      <td>0.876195</td>\n      <td>0.001135</td>\n      <td>31</td>\n    </tr>\n    <tr>\n      <th>3</th>\n      <td>694.955791</td>\n      <td>0.528573</td>\n      <td>0.108702</td>\n      <td>0.015464</td>\n      <td>3.156225</td>\n      <td>None</td>\n      <td>squared_hinge</td>\n      <td>4112</td>\n      <td>{'model__C': 3.1562246465541888, 'model__class...</td>\n      <td>0.875531</td>\n      <td>0.873759</td>\n      <td>0.875420</td>\n      <td>0.876503</td>\n      <td>0.875322</td>\n      <td>0.875307</td>\n      <td>0.000882</td>\n      <td>32</td>\n    </tr>\n    <tr>\n      <th>43</th>\n      <td>3.817455</td>\n      <td>0.060822</td>\n      <td>0.195877</td>\n      <td>0.016906</td>\n      <td>0.000037</td>\n      <td>None</td>\n      <td>squared_hinge</td>\n      <td>2685</td>\n      <td>{'model__C': 3.6685285478109704e-05, 'model__c...</td>\n      <td>0.872764</td>\n      <td>0.874067</td>\n      <td>0.876078</td>\n      <td>0.874636</td>\n      <td>0.875807</td>\n      <td>0.874670</td>\n      <td>0.001206</td>\n      <td>33</td>\n    </tr>\n    <tr>\n      <th>18</th>\n      <td>5.016402</td>\n      <td>0.218525</td>\n      <td>0.169953</td>\n      <td>0.026093</td>\n      <td>0.000076</td>\n      <td>None</td>\n      <td>hinge</td>\n      <td>4856</td>\n      <td>{'model__C': 7.605225223648453e-05, 'model__cl...</td>\n      <td>0.861732</td>\n      <td>0.861345</td>\n      <td>0.864796</td>\n      <td>0.863012</td>\n      <td>0.862944</td>\n      <td>0.862766</td>\n      <td>0.001208</td>\n      <td>34</td>\n    </tr>\n    <tr>\n      <th>46</th>\n      <td>3.744259</td>\n      <td>0.037101</td>\n      <td>0.160122</td>\n      <td>0.011777</td>\n      <td>0.000008</td>\n      <td>None</td>\n      <td>squared_hinge</td>\n      <td>519</td>\n      <td>{'model__C': 8.435601353254293e-06, 'model__cl...</td>\n      <td>0.860740</td>\n      <td>0.861583</td>\n      <td>0.865152</td>\n      <td>0.861862</td>\n      <td>0.864009</td>\n      <td>0.862669</td>\n      <td>0.001644</td>\n      <td>35</td>\n    </tr>\n    <tr>\n      <th>34</th>\n      <td>5.948197</td>\n      <td>1.055979</td>\n      <td>0.246611</td>\n      <td>0.051239</td>\n      <td>0.000032</td>\n      <td>None</td>\n      <td>hinge</td>\n      <td>500</td>\n      <td>{'model__C': 3.1953755780018515e-05, 'model__c...</td>\n      <td>0.855093</td>\n      <td>0.854795</td>\n      <td>0.858568</td>\n      <td>0.855336</td>\n      <td>0.856430</td>\n      <td>0.856044</td>\n      <td>0.001377</td>\n      <td>36</td>\n    </tr>\n    <tr>\n      <th>38</th>\n      <td>1044.583379</td>\n      <td>0.509100</td>\n      <td>0.117302</td>\n      <td>0.028650</td>\n      <td>19.190776</td>\n      <td>None</td>\n      <td>squared_hinge</td>\n      <td>4991</td>\n      <td>{'model__C': 19.190776178531312, 'model__class...</td>\n      <td>0.825028</td>\n      <td>0.838569</td>\n      <td>0.827313</td>\n      <td>0.839358</td>\n      <td>0.834100</td>\n      <td>0.832874</td>\n      <td>0.005805</td>\n      <td>37</td>\n    </tr>\n    <tr>\n      <th>6</th>\n      <td>63.761827</td>\n      <td>0.336938</td>\n      <td>0.124023</td>\n      <td>0.025984</td>\n      <td>0.086424</td>\n      <td>balanced</td>\n      <td>hinge</td>\n      <td>4434</td>\n      <td>{'model__C': 0.08642410048155082, 'model__clas...</td>\n      <td>0.831175</td>\n      <td>0.832855</td>\n      <td>0.831931</td>\n      <td>0.830593</td>\n      <td>0.831549</td>\n      <td>0.831621</td>\n      <td>0.000759</td>\n      <td>38</td>\n    </tr>\n    <tr>\n      <th>7</th>\n      <td>22.498485</td>\n      <td>0.208984</td>\n      <td>0.120853</td>\n      <td>0.016997</td>\n      <td>0.022245</td>\n      <td>balanced</td>\n      <td>hinge</td>\n      <td>4269</td>\n      <td>{'model__C': 0.022244596968016832, 'model__cla...</td>\n      <td>0.831413</td>\n      <td>0.832437</td>\n      <td>0.832425</td>\n      <td>0.830435</td>\n      <td>0.830939</td>\n      <td>0.831530</td>\n      <td>0.000798</td>\n      <td>39</td>\n    </tr>\n    <tr>\n      <th>5</th>\n      <td>189.953322</td>\n      <td>1.027424</td>\n      <td>0.140368</td>\n      <td>0.023502</td>\n      <td>0.745116</td>\n      <td>balanced</td>\n      <td>hinge</td>\n      <td>1348</td>\n      <td>{'model__C': 0.7451164370027008, 'model__class...</td>\n      <td>0.831197</td>\n      <td>0.830718</td>\n      <td>0.832438</td>\n      <td>0.829093</td>\n      <td>0.830200</td>\n      <td>0.830729</td>\n      <td>0.001104</td>\n      <td>40</td>\n    </tr>\n    <tr>\n      <th>2</th>\n      <td>11.072094</td>\n      <td>0.187763</td>\n      <td>0.155932</td>\n      <td>0.020495</td>\n      <td>0.00362</td>\n      <td>balanced</td>\n      <td>hinge</td>\n      <td>2450</td>\n      <td>{'model__C': 0.003619595990038508, 'model__cla...</td>\n      <td>0.830317</td>\n      <td>0.831122</td>\n      <td>0.832127</td>\n      <td>0.829261</td>\n      <td>0.829518</td>\n      <td>0.830469</td>\n      <td>0.001055</td>\n      <td>41</td>\n    </tr>\n    <tr>\n      <th>1</th>\n      <td>699.235452</td>\n      <td>1.017112</td>\n      <td>0.173472</td>\n      <td>0.031814</td>\n      <td>5.001576</td>\n      <td>balanced</td>\n      <td>hinge</td>\n      <td>4781</td>\n      <td>{'model__C': 5.001575677983704, 'model__class_...</td>\n      <td>0.827334</td>\n      <td>0.830760</td>\n      <td>0.829129</td>\n      <td>0.827239</td>\n      <td>0.828813</td>\n      <td>0.828655</td>\n      <td>0.001299</td>\n      <td>42</td>\n    </tr>\n    <tr>\n      <th>41</th>\n      <td>681.326954</td>\n      <td>1.056109</td>\n      <td>0.108217</td>\n      <td>0.016551</td>\n      <td>0.150803</td>\n      <td>balanced</td>\n      <td>squared_hinge</td>\n      <td>4246</td>\n      <td>{'model__C': 0.15080272165641095, 'model__clas...</td>\n      <td>0.825051</td>\n      <td>0.827224</td>\n      <td>0.828343</td>\n      <td>0.823516</td>\n      <td>0.823768</td>\n      <td>0.825581</td>\n      <td>0.001906</td>\n      <td>43</td>\n    </tr>\n    <tr>\n      <th>0</th>\n      <td>25.624570</td>\n      <td>1.357725</td>\n      <td>0.103357</td>\n      <td>0.013794</td>\n      <td>0.001909</td>\n      <td>balanced</td>\n      <td>squared_hinge</td>\n      <td>1921</td>\n      <td>{'model__C': 0.0019091131576909443, 'model__cl...</td>\n      <td>0.825322</td>\n      <td>0.827007</td>\n      <td>0.827450</td>\n      <td>0.823443</td>\n      <td>0.823646</td>\n      <td>0.825374</td>\n      <td>0.001655</td>\n      <td>44</td>\n    </tr>\n    <tr>\n      <th>19</th>\n      <td>131.597474</td>\n      <td>0.374998</td>\n      <td>0.133420</td>\n      <td>0.012072</td>\n      <td>2.576424</td>\n      <td>None</td>\n      <td>hinge</td>\n      <td>513</td>\n      <td>{'model__C': 2.576423799733396, 'model__class_...</td>\n      <td>0.831415</td>\n      <td>0.818033</td>\n      <td>0.822409</td>\n      <td>0.816078</td>\n      <td>0.825342</td>\n      <td>0.822655</td>\n      <td>0.005452</td>\n      <td>45</td>\n    </tr>\n    <tr>\n      <th>17</th>\n      <td>804.989544</td>\n      <td>0.529906</td>\n      <td>0.135393</td>\n      <td>0.018506</td>\n      <td>99.334634</td>\n      <td>None</td>\n      <td>hinge</td>\n      <td>4103</td>\n      <td>{'model__C': 99.33463392847965, 'model__class_...</td>\n      <td>0.812772</td>\n      <td>0.812948</td>\n      <td>0.806522</td>\n      <td>0.804379</td>\n      <td>0.801151</td>\n      <td>0.807554</td>\n      <td>0.004658</td>\n      <td>46</td>\n    </tr>\n    <tr>\n      <th>42</th>\n      <td>4.285828</td>\n      <td>0.423871</td>\n      <td>0.137486</td>\n      <td>0.013661</td>\n      <td>0.000084</td>\n      <td>balanced</td>\n      <td>hinge</td>\n      <td>571</td>\n      <td>{'model__C': 8.405612361362026e-05, 'model__cl...</td>\n      <td>0.802268</td>\n      <td>0.801766</td>\n      <td>0.803975</td>\n      <td>0.800688</td>\n      <td>0.797680</td>\n      <td>0.801275</td>\n      <td>0.002087</td>\n      <td>47</td>\n    </tr>\n    <tr>\n      <th>8</th>\n      <td>464.071592</td>\n      <td>0.305549</td>\n      <td>0.126450</td>\n      <td>0.022532</td>\n      <td>44.037625</td>\n      <td>balanced</td>\n      <td>squared_hinge</td>\n      <td>2371</td>\n      <td>{'model__C': 44.037625157309144, 'model__class...</td>\n      <td>0.792139</td>\n      <td>0.763830</td>\n      <td>0.814554</td>\n      <td>0.756638</td>\n      <td>0.809883</td>\n      <td>0.787409</td>\n      <td>0.023525</td>\n      <td>48</td>\n    </tr>\n    <tr>\n      <th>9</th>\n      <td>5.212596</td>\n      <td>0.096365</td>\n      <td>0.201239</td>\n      <td>0.028343</td>\n      <td>0.000001</td>\n      <td>balanced</td>\n      <td>squared_hinge</td>\n      <td>1645</td>\n      <td>{'model__C': 1.0691593986059968e-06, 'model__c...</td>\n      <td>0.723185</td>\n      <td>0.724696</td>\n      <td>0.731959</td>\n      <td>0.725389</td>\n      <td>0.721253</td>\n      <td>0.725296</td>\n      <td>0.003621</td>\n      <td>49</td>\n    </tr>\n    <tr>\n      <th>12</th>\n      <td>4.057702</td>\n      <td>0.046689</td>\n      <td>0.288904</td>\n      <td>0.033302</td>\n      <td>0.000001</td>\n      <td>None</td>\n      <td>hinge</td>\n      <td>4849</td>\n      <td>{'model__C': 1e-06, 'model__class_weight': Non...</td>\n      <td>0.712968</td>\n      <td>0.711833</td>\n      <td>0.723109</td>\n      <td>0.718041</td>\n      <td>0.713101</td>\n      <td>0.715810</td>\n      <td>0.004231</td>\n      <td>50</td>\n    </tr>\n  </tbody>\n</table>\n</div>"
     },
     "execution_count": 59,
     "metadata": {},
     "output_type": "execute_result"
    }
   ],
   "source": [
    "lsvc_grid_search_dataframe = pd.DataFrame(\n",
    "    np.load(\"Dataset_Files/Baseline_Models/Classification/optimised_lsvc_cv_results.npy\", allow_pickle=True).tolist())\n",
    "lsvc_grid_search_dataframe.sort_values(by=[\"rank_test_score\"], inplace=True)\n",
    "lsvc_grid_search_dataframe"
   ],
   "metadata": {
    "collapsed": false,
    "pycharm": {
     "name": "#%%\n"
    }
   }
  },
  {
   "cell_type": "markdown",
   "source": [
    "### Testing"
   ],
   "metadata": {
    "collapsed": false,
    "pycharm": {
     "name": "#%% md\n"
    }
   }
  },
  {
   "cell_type": "code",
   "execution_count": 60,
   "outputs": [
    {
     "name": "stdout",
     "output_type": "stream",
     "text": [
      "F1 score: 0.82\n",
      "Matthews Correlation Coefficient: 0.33616222528740924\n",
      "Accuracy score: 0.7352941176470589\n",
      "Recall score: 0.8738898756660746\n",
      "Precision score: 0.7723704866562009\n"
     ]
    }
   ],
   "source": [
    "y_test_pred = optimised_lsvc.predict(X_test)\n",
    "calculate_metrics_classification(y_test, y_test_pred)"
   ],
   "metadata": {
    "collapsed": false,
    "pycharm": {
     "name": "#%%\n"
    }
   }
  },
  {
   "cell_type": "markdown",
   "source": [
    "## K-Nearest Neighbors Classifier (KNNC)"
   ],
   "metadata": {
    "collapsed": false,
    "pycharm": {
     "name": "#%% md\n"
    }
   }
  },
  {
   "cell_type": "code",
   "execution_count": 61,
   "outputs": [
    {
     "data": {
      "text/plain": "{'memory': None,\n 'steps': [('scale', StandardScaler()), ('model', KNeighborsClassifier())],\n 'verbose': False,\n 'scale': StandardScaler(),\n 'model': KNeighborsClassifier(),\n 'scale__copy': True,\n 'scale__with_mean': True,\n 'scale__with_std': True,\n 'model__algorithm': 'auto',\n 'model__leaf_size': 30,\n 'model__metric': 'minkowski',\n 'model__metric_params': None,\n 'model__n_jobs': None,\n 'model__n_neighbors': 5,\n 'model__p': 2,\n 'model__weights': 'uniform'}"
     },
     "execution_count": 61,
     "metadata": {},
     "output_type": "execute_result"
    }
   ],
   "source": [
    "pipe = Pipeline(\n",
    "    [\n",
    "        ('scale', StandardScaler()),\n",
    "        ('model', KNeighborsClassifier())\n",
    "    ]\n",
    ")\n",
    "pipe.get_params()"
   ],
   "metadata": {
    "collapsed": false,
    "pycharm": {
     "name": "#%%\n"
    }
   }
  },
  {
   "cell_type": "code",
   "execution_count": 62,
   "outputs": [],
   "source": [
    "model = BayesSearchCV(estimator=pipe,\n",
    "                      search_spaces=\n",
    "                      {'model__n_neighbors': Integer(4, 20),\n",
    "                       'model__weights': Categorical(['uniform', 'distance']),\n",
    "                       'model__algorithm': Categorical(['auto', 'ball_tree', 'kd_tree', 'brute']),\n",
    "                       },\n",
    "                      scoring='f1',\n",
    "                      cv=5,\n",
    "                      error_score=np.nan,\n",
    "                      n_jobs=-1,\n",
    "                      pre_dispatch='2*n_jobs',\n",
    "                      random_state=42)"
   ],
   "metadata": {
    "collapsed": false,
    "pycharm": {
     "name": "#%%\n"
    }
   }
  },
  {
   "cell_type": "markdown",
   "source": [
    "### Training"
   ],
   "metadata": {
    "collapsed": false,
    "pycharm": {
     "name": "#%% md\n"
    }
   }
  },
  {
   "cell_type": "code",
   "execution_count": 63,
   "outputs": [
    {
     "name": "stdout",
     "output_type": "stream",
     "text": [
      "Iteration Completed: 1\n",
      "Iteration Completed: 2\n",
      "Iteration Completed: 3\n",
      "Iteration Completed: 4\n",
      "Iteration Completed: 5\n",
      "Iteration Completed: 6\n",
      "Iteration Completed: 7\n",
      "Iteration Completed: 8\n",
      "Iteration Completed: 9\n",
      "Iteration Completed: 10\n",
      "Iteration Completed: 11\n",
      "Iteration Completed: 12\n",
      "Iteration Completed: 13\n",
      "Iteration Completed: 14\n",
      "Iteration Completed: 15\n",
      "Iteration Completed: 16\n",
      "Iteration Completed: 17\n",
      "Iteration Completed: 18\n",
      "Iteration Completed: 19\n",
      "Iteration Completed: 20\n"
     ]
    },
    {
     "name": "stderr",
     "output_type": "stream",
     "text": [
      "C:\\Users\\jogeo\\anaconda3\\envs\\AlphaFold_Dataset_Drug_Binding_Prediction\\lib\\site-packages\\skopt\\optimizer\\optimizer.py:449: UserWarning: The objective has been evaluated at this point before.\n",
      "  warnings.warn(\"The objective has been evaluated \"\n"
     ]
    },
    {
     "name": "stdout",
     "output_type": "stream",
     "text": [
      "Iteration Completed: 21\n",
      "Iteration Completed: 22\n",
      "Iteration Completed: 23\n",
      "Iteration Completed: 24\n",
      "Iteration Completed: 25\n",
      "Iteration Completed: 26\n",
      "Iteration Completed: 27\n",
      "Iteration Completed: 28\n",
      "Iteration Completed: 29\n",
      "Iteration Completed: 30\n",
      "Iteration Completed: 31\n",
      "Iteration Completed: 32\n",
      "Iteration Completed: 33\n"
     ]
    },
    {
     "name": "stderr",
     "output_type": "stream",
     "text": [
      "C:\\Users\\jogeo\\anaconda3\\envs\\AlphaFold_Dataset_Drug_Binding_Prediction\\lib\\site-packages\\skopt\\optimizer\\optimizer.py:449: UserWarning: The objective has been evaluated at this point before.\n",
      "  warnings.warn(\"The objective has been evaluated \"\n"
     ]
    },
    {
     "name": "stdout",
     "output_type": "stream",
     "text": [
      "Iteration Completed: 34\n",
      "Iteration Completed: 35\n"
     ]
    },
    {
     "name": "stderr",
     "output_type": "stream",
     "text": [
      "C:\\Users\\jogeo\\anaconda3\\envs\\AlphaFold_Dataset_Drug_Binding_Prediction\\lib\\site-packages\\skopt\\optimizer\\optimizer.py:449: UserWarning: The objective has been evaluated at this point before.\n",
      "  warnings.warn(\"The objective has been evaluated \"\n"
     ]
    },
    {
     "name": "stdout",
     "output_type": "stream",
     "text": [
      "Iteration Completed: 36\n"
     ]
    },
    {
     "name": "stderr",
     "output_type": "stream",
     "text": [
      "C:\\Users\\jogeo\\anaconda3\\envs\\AlphaFold_Dataset_Drug_Binding_Prediction\\lib\\site-packages\\skopt\\optimizer\\optimizer.py:449: UserWarning: The objective has been evaluated at this point before.\n",
      "  warnings.warn(\"The objective has been evaluated \"\n"
     ]
    },
    {
     "name": "stdout",
     "output_type": "stream",
     "text": [
      "Iteration Completed: 37\n",
      "Iteration Completed: 38\n",
      "Iteration Completed: 39\n",
      "Iteration Completed: 40\n",
      "Iteration Completed: 41\n",
      "Iteration Completed: 42\n",
      "Iteration Completed: 43\n"
     ]
    },
    {
     "name": "stderr",
     "output_type": "stream",
     "text": [
      "C:\\Users\\jogeo\\anaconda3\\envs\\AlphaFold_Dataset_Drug_Binding_Prediction\\lib\\site-packages\\skopt\\optimizer\\optimizer.py:449: UserWarning: The objective has been evaluated at this point before.\n",
      "  warnings.warn(\"The objective has been evaluated \"\n"
     ]
    },
    {
     "name": "stdout",
     "output_type": "stream",
     "text": [
      "Iteration Completed: 44\n"
     ]
    },
    {
     "name": "stderr",
     "output_type": "stream",
     "text": [
      "C:\\Users\\jogeo\\anaconda3\\envs\\AlphaFold_Dataset_Drug_Binding_Prediction\\lib\\site-packages\\skopt\\optimizer\\optimizer.py:449: UserWarning: The objective has been evaluated at this point before.\n",
      "  warnings.warn(\"The objective has been evaluated \"\n"
     ]
    },
    {
     "name": "stdout",
     "output_type": "stream",
     "text": [
      "Iteration Completed: 45\n"
     ]
    },
    {
     "name": "stderr",
     "output_type": "stream",
     "text": [
      "C:\\Users\\jogeo\\anaconda3\\envs\\AlphaFold_Dataset_Drug_Binding_Prediction\\lib\\site-packages\\skopt\\optimizer\\optimizer.py:449: UserWarning: The objective has been evaluated at this point before.\n",
      "  warnings.warn(\"The objective has been evaluated \"\n"
     ]
    },
    {
     "name": "stdout",
     "output_type": "stream",
     "text": [
      "Iteration Completed: 46\n",
      "Iteration Completed: 47\n"
     ]
    },
    {
     "name": "stderr",
     "output_type": "stream",
     "text": [
      "C:\\Users\\jogeo\\anaconda3\\envs\\AlphaFold_Dataset_Drug_Binding_Prediction\\lib\\site-packages\\skopt\\optimizer\\optimizer.py:449: UserWarning: The objective has been evaluated at this point before.\n",
      "  warnings.warn(\"The objective has been evaluated \"\n"
     ]
    },
    {
     "name": "stdout",
     "output_type": "stream",
     "text": [
      "Iteration Completed: 48\n"
     ]
    },
    {
     "name": "stderr",
     "output_type": "stream",
     "text": [
      "C:\\Users\\jogeo\\anaconda3\\envs\\AlphaFold_Dataset_Drug_Binding_Prediction\\lib\\site-packages\\skopt\\optimizer\\optimizer.py:449: UserWarning: The objective has been evaluated at this point before.\n",
      "  warnings.warn(\"The objective has been evaluated \"\n"
     ]
    },
    {
     "name": "stdout",
     "output_type": "stream",
     "text": [
      "Iteration Completed: 49\n"
     ]
    },
    {
     "name": "stderr",
     "output_type": "stream",
     "text": [
      "C:\\Users\\jogeo\\anaconda3\\envs\\AlphaFold_Dataset_Drug_Binding_Prediction\\lib\\site-packages\\skopt\\optimizer\\optimizer.py:449: UserWarning: The objective has been evaluated at this point before.\n",
      "  warnings.warn(\"The objective has been evaluated \"\n"
     ]
    },
    {
     "name": "stdout",
     "output_type": "stream",
     "text": [
      "Iteration Completed: 50\n",
      "F1 score: 0.9999795908648712\n",
      "Matthews Correlation Coefficient: 0.9999223605385762\n",
      "Accuracy score: 0.9999699112381526\n",
      "Recall score: 0.9999591825627908\n",
      "Precision score: 1.0\n"
     ]
    }
   ],
   "source": [
    "# index = 1\n",
    "# model.fit(X_train, y_train, callback=on_step)\n",
    "#\n",
    "# optimised_knnc = model.best_estimator_\n",
    "#\n",
    "# y_train_pred = optimised_knnc.predict(X_train)\n",
    "# calculate_metrics_classification(y_train, y_train_pred)\n",
    "#\n",
    "# # Save Model & CV Results\n",
    "# dump(optimised_knnc, 'Dataset_Files/Baseline_Models/Classification/optimised_knnc.joblib')\n",
    "# np.save(\"Dataset_Files/Baseline_Models/Classification/optimised_knnc_cv_results.npy\", model.cv_results_)"
   ],
   "metadata": {
    "collapsed": false,
    "pycharm": {
     "name": "#%%\n"
    }
   }
  },
  {
   "cell_type": "code",
   "execution_count": 64,
   "outputs": [],
   "source": [
    "# Load Model\n",
    "optimised_knnc = load('Dataset_Files/Baseline_Models/Classification/optimised_knnc.joblib')"
   ],
   "metadata": {
    "collapsed": false,
    "pycharm": {
     "name": "#%%\n"
    }
   }
  },
  {
   "cell_type": "code",
   "execution_count": 65,
   "outputs": [
    {
     "name": "stdout",
     "output_type": "stream",
     "text": [
      "F1 score: 0.9999795908648712\n",
      "Matthews Correlation Coefficient: 0.9999223605385762\n",
      "Accuracy score: 0.9999699112381526\n",
      "Recall score: 0.9999591825627908\n",
      "Precision score: 1.0\n"
     ]
    }
   ],
   "source": [
    "if os.path.exists(\"Dataset_Files/Baseline_Models/Classification/optimised_knnc_y_train_pred.npy\"):\n",
    "    y_train_pred = np.load(\"Dataset_Files/Baseline_Models/Classification/optimised_knnc_y_train_pred.npy\")\n",
    "else:\n",
    "    y_train_pred = optimised_knnc.predict(X_train)\n",
    "    np.save(\"Dataset_Files/Baseline_Models/Classification/optimised_knnc_y_train_pred.npy\", y_train_pred)\n",
    "\n",
    "calculate_metrics_classification(y_train, y_train_pred)"
   ],
   "metadata": {
    "collapsed": false,
    "pycharm": {
     "name": "#%%\n"
    }
   }
  },
  {
   "cell_type": "code",
   "execution_count": 105,
   "outputs": [
    {
     "data": {
      "text/plain": "{'memory': None,\n 'steps': [('scale', StandardScaler()),\n  ('model', KNeighborsClassifier(algorithm='kd_tree', n_neighbors=19))],\n 'verbose': False,\n 'scale': StandardScaler(),\n 'model': KNeighborsClassifier(algorithm='kd_tree', n_neighbors=19),\n 'scale__copy': True,\n 'scale__with_mean': True,\n 'scale__with_std': True,\n 'model__algorithm': 'kd_tree',\n 'model__leaf_size': 30,\n 'model__metric': 'minkowski',\n 'model__metric_params': None,\n 'model__n_jobs': None,\n 'model__n_neighbors': 19,\n 'model__p': 2,\n 'model__weights': 'uniform'}"
     },
     "execution_count": 105,
     "metadata": {},
     "output_type": "execute_result"
    }
   ],
   "source": [
    "optimised_knnc.get_params()"
   ],
   "metadata": {
    "collapsed": false,
    "pycharm": {
     "name": "#%%\n"
    }
   }
  },
  {
   "cell_type": "code",
   "execution_count": 106,
   "outputs": [
    {
     "data": {
      "text/plain": "    mean_fit_time  std_fit_time  mean_score_time  std_score_time  \\\n49       1.825007      0.138253       102.614121        2.309688   \n31       1.844019      0.216043        98.452453        2.959144   \n33      14.516480      1.234510      3757.279202       56.727425   \n21       1.781852      0.093442       101.883838        3.232928   \n20      14.251192      1.246291      3743.388045       62.238347   \n35       1.799546      0.096984       102.924750        2.300177   \n39      14.346333      1.081688      3742.341087       62.568789   \n40       1.830748      0.055993       103.154682        2.611640   \n48      14.333448      1.225579      3749.428631       66.386132   \n42       1.818891      0.178948       104.319416        2.326520   \n41      14.306463      1.093862      3763.444921       80.109547   \n43      14.295309      0.934671      3753.423650       58.733971   \n44       1.800851      0.162132       103.969656        3.110699   \n46      14.174914      1.150560      3755.087472       70.293988   \n47       1.811226      0.047670       102.300603        2.868270   \n30      13.958093      1.397008      3687.379374       58.935445   \n9        1.782238      0.053209       103.371918        2.005358   \n16      14.230393      1.259353      3752.186221       63.472729   \n17      14.219305      1.351063      3721.638380       54.569061   \n13       1.842718      0.156020        99.549855        2.675356   \n8       13.869795      0.878132      3651.436053       74.221413   \n11       1.812795      0.139382        99.640589        3.127036   \n7        1.813489      0.137259       103.544663        3.025954   \n5        1.845054      0.181520       100.737041        2.931996   \n2       11.461694      1.616361      3216.781299       61.985352   \n34      14.302307      1.472437      3646.562833       79.892789   \n0       11.492615      1.344725      3228.804890       54.172663   \n1       14.150175      0.840913      3736.080605       65.062142   \n12      14.446822      1.419192      3712.440244       66.693273   \n6        1.814672      0.145173        98.788106        2.925725   \n10       1.783206      0.071534       102.994628        2.833292   \n19       1.816370      0.139564       102.354986        3.105385   \n4        1.764788      0.146153       103.951367        2.653526   \n28      14.117047      1.205675      3694.903660       68.258087   \n26      14.287930      1.298458      3669.608126       81.206642   \n23       1.846018      0.145629       103.280411        2.256956   \n45      14.345019      1.068271      3595.033449      106.377286   \n18      14.302728      1.396304      3656.589431       82.433230   \n25       1.684549      0.146992       102.462734        1.885456   \n22      14.227297      1.316684      3608.156000       79.170523   \n36      13.991987      0.699625      3618.451149       96.384387   \n15       1.816430      0.163455       102.486250        2.354157   \n3        1.830992      0.103546       103.841131        2.972111   \n32       1.767159      0.055459       103.519351        2.768840   \n27      14.242055      1.501146      3569.998473      102.171962   \n38       1.768144      0.052040       103.810248        2.765241   \n29      14.239766      1.170573      3464.224122      135.101857   \n24      14.410035      1.124410      3518.906880      113.678860   \n37       1.839953      0.060127       103.409545        2.729209   \n14       1.779191      0.060088       103.252801        2.750959   \n\n   param_model__algorithm param_model__n_neighbors param_model__weights  \\\n49                   auto                       19              uniform   \n31                   auto                       19              uniform   \n33                kd_tree                       19              uniform   \n21                   auto                       19              uniform   \n20                kd_tree                       19              uniform   \n35                   auto                       19              uniform   \n39                kd_tree                       19              uniform   \n40                   auto                       19              uniform   \n48                kd_tree                       19              uniform   \n42                   auto                       19              uniform   \n41                kd_tree                       19              uniform   \n43                kd_tree                       19              uniform   \n44                   auto                       19              uniform   \n46                kd_tree                       19              uniform   \n47                   auto                       19              uniform   \n30                kd_tree                       19              uniform   \n9                    auto                       17              uniform   \n16                kd_tree                       20              uniform   \n17                kd_tree                       20              uniform   \n13                   auto                       18              uniform   \n8                 kd_tree                       15              uniform   \n11                  brute                       20             distance   \n7                   brute                       19             distance   \n5                   brute                       19             distance   \n2               ball_tree                       19             distance   \n34                kd_tree                       13              uniform   \n0               ball_tree                       16              uniform   \n1                 kd_tree                       18             distance   \n12                kd_tree                       17             distance   \n6                   brute                       16             distance   \n10                   auto                       14              uniform   \n19                   auto                       15             distance   \n4                   brute                       11              uniform   \n28                kd_tree                       14             distance   \n26                kd_tree                       13             distance   \n23                   auto                       12              uniform   \n45                kd_tree                        9              uniform   \n18                kd_tree                       12             distance   \n25                   auto                       11             distance   \n22                kd_tree                       10              uniform   \n36                kd_tree                       10             distance   \n15                   auto                        9             distance   \n3                   brute                        7              uniform   \n32                   auto                        8             distance   \n27                kd_tree                        8              uniform   \n38                   auto                        7             distance   \n29                kd_tree                        5              uniform   \n24                kd_tree                        6             distance   \n37                   auto                        6              uniform   \n14                   auto                        4             distance   \n\n                                               params  split0_test_score  \\\n49  {'model__algorithm': 'auto', 'model__n_neighbo...           0.616333   \n31  {'model__algorithm': 'auto', 'model__n_neighbo...           0.616333   \n33  {'model__algorithm': 'kd_tree', 'model__n_neig...           0.616333   \n21  {'model__algorithm': 'auto', 'model__n_neighbo...           0.616333   \n20  {'model__algorithm': 'kd_tree', 'model__n_neig...           0.616333   \n35  {'model__algorithm': 'auto', 'model__n_neighbo...           0.616333   \n39  {'model__algorithm': 'kd_tree', 'model__n_neig...           0.616333   \n40  {'model__algorithm': 'auto', 'model__n_neighbo...           0.616333   \n48  {'model__algorithm': 'kd_tree', 'model__n_neig...           0.616333   \n42  {'model__algorithm': 'auto', 'model__n_neighbo...           0.616333   \n41  {'model__algorithm': 'kd_tree', 'model__n_neig...           0.616333   \n43  {'model__algorithm': 'kd_tree', 'model__n_neig...           0.616333   \n44  {'model__algorithm': 'auto', 'model__n_neighbo...           0.616333   \n46  {'model__algorithm': 'kd_tree', 'model__n_neig...           0.616333   \n47  {'model__algorithm': 'auto', 'model__n_neighbo...           0.616333   \n30  {'model__algorithm': 'kd_tree', 'model__n_neig...           0.616333   \n9   {'model__algorithm': 'auto', 'model__n_neighbo...           0.611845   \n16  {'model__algorithm': 'kd_tree', 'model__n_neig...           0.609682   \n17  {'model__algorithm': 'kd_tree', 'model__n_neig...           0.609682   \n13  {'model__algorithm': 'auto', 'model__n_neighbo...           0.604911   \n8   {'model__algorithm': 'kd_tree', 'model__n_neig...           0.607823   \n11  {'model__algorithm': 'brute', 'model__n_neighb...           0.609680   \n7   {'model__algorithm': 'brute', 'model__n_neighb...           0.606385   \n5   {'model__algorithm': 'brute', 'model__n_neighb...           0.606385   \n2   {'model__algorithm': 'ball_tree', 'model__n_ne...           0.606385   \n34  {'model__algorithm': 'kd_tree', 'model__n_neig...           0.602333   \n0   {'model__algorithm': 'ball_tree', 'model__n_ne...           0.599859   \n1   {'model__algorithm': 'kd_tree', 'model__n_neig...           0.605707   \n12  {'model__algorithm': 'kd_tree', 'model__n_neig...           0.604347   \n6   {'model__algorithm': 'brute', 'model__n_neighb...           0.603068   \n10  {'model__algorithm': 'auto', 'model__n_neighbo...           0.593171   \n19  {'model__algorithm': 'auto', 'model__n_neighbo...           0.600332   \n4   {'model__algorithm': 'brute', 'model__n_neighb...           0.598843   \n28  {'model__algorithm': 'kd_tree', 'model__n_neig...           0.597876   \n26  {'model__algorithm': 'kd_tree', 'model__n_neig...           0.593788   \n23  {'model__algorithm': 'auto', 'model__n_neighbo...           0.586396   \n45  {'model__algorithm': 'kd_tree', 'model__n_neig...           0.594812   \n18  {'model__algorithm': 'kd_tree', 'model__n_neig...           0.593605   \n25  {'model__algorithm': 'auto', 'model__n_neighbo...           0.591228   \n22  {'model__algorithm': 'kd_tree', 'model__n_neig...           0.582630   \n36  {'model__algorithm': 'kd_tree', 'model__n_neig...           0.589548   \n15  {'model__algorithm': 'auto', 'model__n_neighbo...           0.585751   \n3   {'model__algorithm': 'brute', 'model__n_neighb...           0.584140   \n32  {'model__algorithm': 'auto', 'model__n_neighbo...           0.581864   \n27  {'model__algorithm': 'kd_tree', 'model__n_neig...           0.570206   \n38  {'model__algorithm': 'auto', 'model__n_neighbo...           0.577250   \n29  {'model__algorithm': 'kd_tree', 'model__n_neig...           0.569493   \n24  {'model__algorithm': 'kd_tree', 'model__n_neig...           0.568275   \n37  {'model__algorithm': 'auto', 'model__n_neighbo...           0.547991   \n14  {'model__algorithm': 'auto', 'model__n_neighbo...           0.534100   \n\n    split1_test_score  split2_test_score  split3_test_score  \\\n49           0.509407           0.618646           0.677035   \n31           0.509407           0.618646           0.677035   \n33           0.509407           0.618646           0.677035   \n21           0.509407           0.618646           0.677035   \n20           0.509407           0.618646           0.677035   \n35           0.509407           0.618646           0.677035   \n39           0.509407           0.618646           0.677035   \n40           0.509407           0.618646           0.677035   \n48           0.509407           0.618646           0.677035   \n42           0.509407           0.618646           0.677035   \n41           0.509407           0.618646           0.677035   \n43           0.509407           0.618646           0.677035   \n44           0.509407           0.618646           0.677035   \n46           0.509407           0.618646           0.677035   \n47           0.509407           0.618646           0.677035   \n30           0.509407           0.618646           0.677035   \n9            0.504074           0.609972           0.671583   \n16           0.496633           0.612388           0.669548   \n17           0.496633           0.612388           0.669548   \n13           0.488972           0.601900           0.663330   \n8            0.490294           0.596624           0.656744   \n11           0.485862           0.589406           0.655119   \n7            0.484056           0.586383           0.653153   \n5            0.484056           0.586383           0.653153   \n2            0.484056           0.586383           0.653153   \n34           0.479902           0.583770           0.645856   \n0            0.476396           0.589047           0.648388   \n1            0.477385           0.577642           0.645910   \n12           0.474180           0.573264           0.643739   \n6            0.469801           0.563847           0.635355   \n10           0.464998           0.575001           0.635876   \n19           0.466570           0.560126           0.633723   \n4            0.467158           0.564928           0.632506   \n28           0.458842           0.550065           0.622713   \n26           0.454251           0.546962           0.619302   \n23           0.449684           0.555653           0.620522   \n45           0.446520           0.536994           0.613378   \n18           0.443002           0.531795           0.607558   \n25           0.437391           0.527126           0.603224   \n22           0.426219           0.527703           0.599191   \n36           0.425301           0.511581           0.589176   \n15           0.416127           0.506548           0.582197   \n3            0.409955           0.507998           0.581718   \n32           0.396113           0.490125           0.559411   \n27           0.389744           0.495964           0.565639   \n38           0.386213           0.486033           0.555629   \n29           0.372177           0.479046           0.552236   \n24           0.360343           0.462038           0.539477   \n37           0.351002           0.463765           0.534225   \n14           0.322999           0.417491           0.507491   \n\n    split4_test_score  mean_test_score  std_test_score  rank_test_score  \n49           0.792526         0.642789        0.092377                1  \n31           0.792526         0.642789        0.092377                1  \n33           0.792526         0.642789        0.092377                1  \n21           0.792526         0.642789        0.092377                1  \n20           0.792526         0.642789        0.092377                1  \n35           0.792526         0.642789        0.092377                1  \n39           0.792526         0.642789        0.092377                1  \n40           0.792526         0.642789        0.092377                1  \n48           0.792526         0.642789        0.092377                1  \n42           0.792526         0.642789        0.092377                1  \n41           0.792526         0.642789        0.092377                1  \n43           0.792526         0.642789        0.092377                1  \n44           0.792526         0.642789        0.092377                1  \n46           0.792526         0.642789        0.092377                1  \n47           0.792526         0.642789        0.092377                1  \n30           0.792526         0.642789        0.092377                1  \n9            0.790920         0.637679        0.093721               17  \n16           0.788411         0.635333        0.094895               18  \n17           0.788411         0.635333        0.094895               18  \n13           0.785888         0.629000        0.096659               20  \n8            0.790197         0.628337        0.097456               21  \n11           0.791023         0.626218        0.099322               22  \n7            0.791804         0.624356        0.100317               23  \n5            0.791804         0.624356        0.100317               23  \n2            0.791804         0.624356        0.100317               23  \n34           0.787865         0.619945        0.100099               26  \n0            0.784058         0.619549        0.099705               27  \n1            0.790100         0.619349        0.101922               28  \n12           0.790253         0.617157        0.103152               29  \n6            0.788827         0.612180        0.104338               30  \n10           0.782520         0.610313        0.102923               31  \n19           0.789493         0.610049        0.105767               32  \n4            0.785982         0.609883        0.103958               33  \n28           0.786797         0.603259        0.107498               34  \n26           0.787143         0.600289        0.109077               35  \n23           0.778839         0.598219        0.106897               36  \n45           0.780335         0.594408        0.109632               37  \n18           0.785310         0.592254        0.112640               38  \n25           0.785408         0.588876        0.114540               39  \n22           0.770818         0.581312        0.112394               40  \n36           0.779935         0.579108        0.117268               41  \n15           0.779486         0.574022        0.119920               42  \n3            0.773665         0.571495        0.119385               43  \n32           0.773722         0.560247        0.124817               44  \n27           0.762601         0.556831        0.121836               45  \n38           0.772725         0.555570        0.127392               46  \n29           0.764827         0.547556        0.128966               47  \n24           0.764678         0.538962        0.133887               48  \n37           0.749602         0.529317        0.130377               49  \n14           0.758697         0.508156        0.145566               50  ",
      "text/html": "<div>\n<style scoped>\n    .dataframe tbody tr th:only-of-type {\n        vertical-align: middle;\n    }\n\n    .dataframe tbody tr th {\n        vertical-align: top;\n    }\n\n    .dataframe thead th {\n        text-align: right;\n    }\n</style>\n<table border=\"1\" class=\"dataframe\">\n  <thead>\n    <tr style=\"text-align: right;\">\n      <th></th>\n      <th>mean_fit_time</th>\n      <th>std_fit_time</th>\n      <th>mean_score_time</th>\n      <th>std_score_time</th>\n      <th>param_model__algorithm</th>\n      <th>param_model__n_neighbors</th>\n      <th>param_model__weights</th>\n      <th>params</th>\n      <th>split0_test_score</th>\n      <th>split1_test_score</th>\n      <th>split2_test_score</th>\n      <th>split3_test_score</th>\n      <th>split4_test_score</th>\n      <th>mean_test_score</th>\n      <th>std_test_score</th>\n      <th>rank_test_score</th>\n    </tr>\n  </thead>\n  <tbody>\n    <tr>\n      <th>49</th>\n      <td>1.825007</td>\n      <td>0.138253</td>\n      <td>102.614121</td>\n      <td>2.309688</td>\n      <td>auto</td>\n      <td>19</td>\n      <td>uniform</td>\n      <td>{'model__algorithm': 'auto', 'model__n_neighbo...</td>\n      <td>0.616333</td>\n      <td>0.509407</td>\n      <td>0.618646</td>\n      <td>0.677035</td>\n      <td>0.792526</td>\n      <td>0.642789</td>\n      <td>0.092377</td>\n      <td>1</td>\n    </tr>\n    <tr>\n      <th>31</th>\n      <td>1.844019</td>\n      <td>0.216043</td>\n      <td>98.452453</td>\n      <td>2.959144</td>\n      <td>auto</td>\n      <td>19</td>\n      <td>uniform</td>\n      <td>{'model__algorithm': 'auto', 'model__n_neighbo...</td>\n      <td>0.616333</td>\n      <td>0.509407</td>\n      <td>0.618646</td>\n      <td>0.677035</td>\n      <td>0.792526</td>\n      <td>0.642789</td>\n      <td>0.092377</td>\n      <td>1</td>\n    </tr>\n    <tr>\n      <th>33</th>\n      <td>14.516480</td>\n      <td>1.234510</td>\n      <td>3757.279202</td>\n      <td>56.727425</td>\n      <td>kd_tree</td>\n      <td>19</td>\n      <td>uniform</td>\n      <td>{'model__algorithm': 'kd_tree', 'model__n_neig...</td>\n      <td>0.616333</td>\n      <td>0.509407</td>\n      <td>0.618646</td>\n      <td>0.677035</td>\n      <td>0.792526</td>\n      <td>0.642789</td>\n      <td>0.092377</td>\n      <td>1</td>\n    </tr>\n    <tr>\n      <th>21</th>\n      <td>1.781852</td>\n      <td>0.093442</td>\n      <td>101.883838</td>\n      <td>3.232928</td>\n      <td>auto</td>\n      <td>19</td>\n      <td>uniform</td>\n      <td>{'model__algorithm': 'auto', 'model__n_neighbo...</td>\n      <td>0.616333</td>\n      <td>0.509407</td>\n      <td>0.618646</td>\n      <td>0.677035</td>\n      <td>0.792526</td>\n      <td>0.642789</td>\n      <td>0.092377</td>\n      <td>1</td>\n    </tr>\n    <tr>\n      <th>20</th>\n      <td>14.251192</td>\n      <td>1.246291</td>\n      <td>3743.388045</td>\n      <td>62.238347</td>\n      <td>kd_tree</td>\n      <td>19</td>\n      <td>uniform</td>\n      <td>{'model__algorithm': 'kd_tree', 'model__n_neig...</td>\n      <td>0.616333</td>\n      <td>0.509407</td>\n      <td>0.618646</td>\n      <td>0.677035</td>\n      <td>0.792526</td>\n      <td>0.642789</td>\n      <td>0.092377</td>\n      <td>1</td>\n    </tr>\n    <tr>\n      <th>35</th>\n      <td>1.799546</td>\n      <td>0.096984</td>\n      <td>102.924750</td>\n      <td>2.300177</td>\n      <td>auto</td>\n      <td>19</td>\n      <td>uniform</td>\n      <td>{'model__algorithm': 'auto', 'model__n_neighbo...</td>\n      <td>0.616333</td>\n      <td>0.509407</td>\n      <td>0.618646</td>\n      <td>0.677035</td>\n      <td>0.792526</td>\n      <td>0.642789</td>\n      <td>0.092377</td>\n      <td>1</td>\n    </tr>\n    <tr>\n      <th>39</th>\n      <td>14.346333</td>\n      <td>1.081688</td>\n      <td>3742.341087</td>\n      <td>62.568789</td>\n      <td>kd_tree</td>\n      <td>19</td>\n      <td>uniform</td>\n      <td>{'model__algorithm': 'kd_tree', 'model__n_neig...</td>\n      <td>0.616333</td>\n      <td>0.509407</td>\n      <td>0.618646</td>\n      <td>0.677035</td>\n      <td>0.792526</td>\n      <td>0.642789</td>\n      <td>0.092377</td>\n      <td>1</td>\n    </tr>\n    <tr>\n      <th>40</th>\n      <td>1.830748</td>\n      <td>0.055993</td>\n      <td>103.154682</td>\n      <td>2.611640</td>\n      <td>auto</td>\n      <td>19</td>\n      <td>uniform</td>\n      <td>{'model__algorithm': 'auto', 'model__n_neighbo...</td>\n      <td>0.616333</td>\n      <td>0.509407</td>\n      <td>0.618646</td>\n      <td>0.677035</td>\n      <td>0.792526</td>\n      <td>0.642789</td>\n      <td>0.092377</td>\n      <td>1</td>\n    </tr>\n    <tr>\n      <th>48</th>\n      <td>14.333448</td>\n      <td>1.225579</td>\n      <td>3749.428631</td>\n      <td>66.386132</td>\n      <td>kd_tree</td>\n      <td>19</td>\n      <td>uniform</td>\n      <td>{'model__algorithm': 'kd_tree', 'model__n_neig...</td>\n      <td>0.616333</td>\n      <td>0.509407</td>\n      <td>0.618646</td>\n      <td>0.677035</td>\n      <td>0.792526</td>\n      <td>0.642789</td>\n      <td>0.092377</td>\n      <td>1</td>\n    </tr>\n    <tr>\n      <th>42</th>\n      <td>1.818891</td>\n      <td>0.178948</td>\n      <td>104.319416</td>\n      <td>2.326520</td>\n      <td>auto</td>\n      <td>19</td>\n      <td>uniform</td>\n      <td>{'model__algorithm': 'auto', 'model__n_neighbo...</td>\n      <td>0.616333</td>\n      <td>0.509407</td>\n      <td>0.618646</td>\n      <td>0.677035</td>\n      <td>0.792526</td>\n      <td>0.642789</td>\n      <td>0.092377</td>\n      <td>1</td>\n    </tr>\n    <tr>\n      <th>41</th>\n      <td>14.306463</td>\n      <td>1.093862</td>\n      <td>3763.444921</td>\n      <td>80.109547</td>\n      <td>kd_tree</td>\n      <td>19</td>\n      <td>uniform</td>\n      <td>{'model__algorithm': 'kd_tree', 'model__n_neig...</td>\n      <td>0.616333</td>\n      <td>0.509407</td>\n      <td>0.618646</td>\n      <td>0.677035</td>\n      <td>0.792526</td>\n      <td>0.642789</td>\n      <td>0.092377</td>\n      <td>1</td>\n    </tr>\n    <tr>\n      <th>43</th>\n      <td>14.295309</td>\n      <td>0.934671</td>\n      <td>3753.423650</td>\n      <td>58.733971</td>\n      <td>kd_tree</td>\n      <td>19</td>\n      <td>uniform</td>\n      <td>{'model__algorithm': 'kd_tree', 'model__n_neig...</td>\n      <td>0.616333</td>\n      <td>0.509407</td>\n      <td>0.618646</td>\n      <td>0.677035</td>\n      <td>0.792526</td>\n      <td>0.642789</td>\n      <td>0.092377</td>\n      <td>1</td>\n    </tr>\n    <tr>\n      <th>44</th>\n      <td>1.800851</td>\n      <td>0.162132</td>\n      <td>103.969656</td>\n      <td>3.110699</td>\n      <td>auto</td>\n      <td>19</td>\n      <td>uniform</td>\n      <td>{'model__algorithm': 'auto', 'model__n_neighbo...</td>\n      <td>0.616333</td>\n      <td>0.509407</td>\n      <td>0.618646</td>\n      <td>0.677035</td>\n      <td>0.792526</td>\n      <td>0.642789</td>\n      <td>0.092377</td>\n      <td>1</td>\n    </tr>\n    <tr>\n      <th>46</th>\n      <td>14.174914</td>\n      <td>1.150560</td>\n      <td>3755.087472</td>\n      <td>70.293988</td>\n      <td>kd_tree</td>\n      <td>19</td>\n      <td>uniform</td>\n      <td>{'model__algorithm': 'kd_tree', 'model__n_neig...</td>\n      <td>0.616333</td>\n      <td>0.509407</td>\n      <td>0.618646</td>\n      <td>0.677035</td>\n      <td>0.792526</td>\n      <td>0.642789</td>\n      <td>0.092377</td>\n      <td>1</td>\n    </tr>\n    <tr>\n      <th>47</th>\n      <td>1.811226</td>\n      <td>0.047670</td>\n      <td>102.300603</td>\n      <td>2.868270</td>\n      <td>auto</td>\n      <td>19</td>\n      <td>uniform</td>\n      <td>{'model__algorithm': 'auto', 'model__n_neighbo...</td>\n      <td>0.616333</td>\n      <td>0.509407</td>\n      <td>0.618646</td>\n      <td>0.677035</td>\n      <td>0.792526</td>\n      <td>0.642789</td>\n      <td>0.092377</td>\n      <td>1</td>\n    </tr>\n    <tr>\n      <th>30</th>\n      <td>13.958093</td>\n      <td>1.397008</td>\n      <td>3687.379374</td>\n      <td>58.935445</td>\n      <td>kd_tree</td>\n      <td>19</td>\n      <td>uniform</td>\n      <td>{'model__algorithm': 'kd_tree', 'model__n_neig...</td>\n      <td>0.616333</td>\n      <td>0.509407</td>\n      <td>0.618646</td>\n      <td>0.677035</td>\n      <td>0.792526</td>\n      <td>0.642789</td>\n      <td>0.092377</td>\n      <td>1</td>\n    </tr>\n    <tr>\n      <th>9</th>\n      <td>1.782238</td>\n      <td>0.053209</td>\n      <td>103.371918</td>\n      <td>2.005358</td>\n      <td>auto</td>\n      <td>17</td>\n      <td>uniform</td>\n      <td>{'model__algorithm': 'auto', 'model__n_neighbo...</td>\n      <td>0.611845</td>\n      <td>0.504074</td>\n      <td>0.609972</td>\n      <td>0.671583</td>\n      <td>0.790920</td>\n      <td>0.637679</td>\n      <td>0.093721</td>\n      <td>17</td>\n    </tr>\n    <tr>\n      <th>16</th>\n      <td>14.230393</td>\n      <td>1.259353</td>\n      <td>3752.186221</td>\n      <td>63.472729</td>\n      <td>kd_tree</td>\n      <td>20</td>\n      <td>uniform</td>\n      <td>{'model__algorithm': 'kd_tree', 'model__n_neig...</td>\n      <td>0.609682</td>\n      <td>0.496633</td>\n      <td>0.612388</td>\n      <td>0.669548</td>\n      <td>0.788411</td>\n      <td>0.635333</td>\n      <td>0.094895</td>\n      <td>18</td>\n    </tr>\n    <tr>\n      <th>17</th>\n      <td>14.219305</td>\n      <td>1.351063</td>\n      <td>3721.638380</td>\n      <td>54.569061</td>\n      <td>kd_tree</td>\n      <td>20</td>\n      <td>uniform</td>\n      <td>{'model__algorithm': 'kd_tree', 'model__n_neig...</td>\n      <td>0.609682</td>\n      <td>0.496633</td>\n      <td>0.612388</td>\n      <td>0.669548</td>\n      <td>0.788411</td>\n      <td>0.635333</td>\n      <td>0.094895</td>\n      <td>18</td>\n    </tr>\n    <tr>\n      <th>13</th>\n      <td>1.842718</td>\n      <td>0.156020</td>\n      <td>99.549855</td>\n      <td>2.675356</td>\n      <td>auto</td>\n      <td>18</td>\n      <td>uniform</td>\n      <td>{'model__algorithm': 'auto', 'model__n_neighbo...</td>\n      <td>0.604911</td>\n      <td>0.488972</td>\n      <td>0.601900</td>\n      <td>0.663330</td>\n      <td>0.785888</td>\n      <td>0.629000</td>\n      <td>0.096659</td>\n      <td>20</td>\n    </tr>\n    <tr>\n      <th>8</th>\n      <td>13.869795</td>\n      <td>0.878132</td>\n      <td>3651.436053</td>\n      <td>74.221413</td>\n      <td>kd_tree</td>\n      <td>15</td>\n      <td>uniform</td>\n      <td>{'model__algorithm': 'kd_tree', 'model__n_neig...</td>\n      <td>0.607823</td>\n      <td>0.490294</td>\n      <td>0.596624</td>\n      <td>0.656744</td>\n      <td>0.790197</td>\n      <td>0.628337</td>\n      <td>0.097456</td>\n      <td>21</td>\n    </tr>\n    <tr>\n      <th>11</th>\n      <td>1.812795</td>\n      <td>0.139382</td>\n      <td>99.640589</td>\n      <td>3.127036</td>\n      <td>brute</td>\n      <td>20</td>\n      <td>distance</td>\n      <td>{'model__algorithm': 'brute', 'model__n_neighb...</td>\n      <td>0.609680</td>\n      <td>0.485862</td>\n      <td>0.589406</td>\n      <td>0.655119</td>\n      <td>0.791023</td>\n      <td>0.626218</td>\n      <td>0.099322</td>\n      <td>22</td>\n    </tr>\n    <tr>\n      <th>7</th>\n      <td>1.813489</td>\n      <td>0.137259</td>\n      <td>103.544663</td>\n      <td>3.025954</td>\n      <td>brute</td>\n      <td>19</td>\n      <td>distance</td>\n      <td>{'model__algorithm': 'brute', 'model__n_neighb...</td>\n      <td>0.606385</td>\n      <td>0.484056</td>\n      <td>0.586383</td>\n      <td>0.653153</td>\n      <td>0.791804</td>\n      <td>0.624356</td>\n      <td>0.100317</td>\n      <td>23</td>\n    </tr>\n    <tr>\n      <th>5</th>\n      <td>1.845054</td>\n      <td>0.181520</td>\n      <td>100.737041</td>\n      <td>2.931996</td>\n      <td>brute</td>\n      <td>19</td>\n      <td>distance</td>\n      <td>{'model__algorithm': 'brute', 'model__n_neighb...</td>\n      <td>0.606385</td>\n      <td>0.484056</td>\n      <td>0.586383</td>\n      <td>0.653153</td>\n      <td>0.791804</td>\n      <td>0.624356</td>\n      <td>0.100317</td>\n      <td>23</td>\n    </tr>\n    <tr>\n      <th>2</th>\n      <td>11.461694</td>\n      <td>1.616361</td>\n      <td>3216.781299</td>\n      <td>61.985352</td>\n      <td>ball_tree</td>\n      <td>19</td>\n      <td>distance</td>\n      <td>{'model__algorithm': 'ball_tree', 'model__n_ne...</td>\n      <td>0.606385</td>\n      <td>0.484056</td>\n      <td>0.586383</td>\n      <td>0.653153</td>\n      <td>0.791804</td>\n      <td>0.624356</td>\n      <td>0.100317</td>\n      <td>23</td>\n    </tr>\n    <tr>\n      <th>34</th>\n      <td>14.302307</td>\n      <td>1.472437</td>\n      <td>3646.562833</td>\n      <td>79.892789</td>\n      <td>kd_tree</td>\n      <td>13</td>\n      <td>uniform</td>\n      <td>{'model__algorithm': 'kd_tree', 'model__n_neig...</td>\n      <td>0.602333</td>\n      <td>0.479902</td>\n      <td>0.583770</td>\n      <td>0.645856</td>\n      <td>0.787865</td>\n      <td>0.619945</td>\n      <td>0.100099</td>\n      <td>26</td>\n    </tr>\n    <tr>\n      <th>0</th>\n      <td>11.492615</td>\n      <td>1.344725</td>\n      <td>3228.804890</td>\n      <td>54.172663</td>\n      <td>ball_tree</td>\n      <td>16</td>\n      <td>uniform</td>\n      <td>{'model__algorithm': 'ball_tree', 'model__n_ne...</td>\n      <td>0.599859</td>\n      <td>0.476396</td>\n      <td>0.589047</td>\n      <td>0.648388</td>\n      <td>0.784058</td>\n      <td>0.619549</td>\n      <td>0.099705</td>\n      <td>27</td>\n    </tr>\n    <tr>\n      <th>1</th>\n      <td>14.150175</td>\n      <td>0.840913</td>\n      <td>3736.080605</td>\n      <td>65.062142</td>\n      <td>kd_tree</td>\n      <td>18</td>\n      <td>distance</td>\n      <td>{'model__algorithm': 'kd_tree', 'model__n_neig...</td>\n      <td>0.605707</td>\n      <td>0.477385</td>\n      <td>0.577642</td>\n      <td>0.645910</td>\n      <td>0.790100</td>\n      <td>0.619349</td>\n      <td>0.101922</td>\n      <td>28</td>\n    </tr>\n    <tr>\n      <th>12</th>\n      <td>14.446822</td>\n      <td>1.419192</td>\n      <td>3712.440244</td>\n      <td>66.693273</td>\n      <td>kd_tree</td>\n      <td>17</td>\n      <td>distance</td>\n      <td>{'model__algorithm': 'kd_tree', 'model__n_neig...</td>\n      <td>0.604347</td>\n      <td>0.474180</td>\n      <td>0.573264</td>\n      <td>0.643739</td>\n      <td>0.790253</td>\n      <td>0.617157</td>\n      <td>0.103152</td>\n      <td>29</td>\n    </tr>\n    <tr>\n      <th>6</th>\n      <td>1.814672</td>\n      <td>0.145173</td>\n      <td>98.788106</td>\n      <td>2.925725</td>\n      <td>brute</td>\n      <td>16</td>\n      <td>distance</td>\n      <td>{'model__algorithm': 'brute', 'model__n_neighb...</td>\n      <td>0.603068</td>\n      <td>0.469801</td>\n      <td>0.563847</td>\n      <td>0.635355</td>\n      <td>0.788827</td>\n      <td>0.612180</td>\n      <td>0.104338</td>\n      <td>30</td>\n    </tr>\n    <tr>\n      <th>10</th>\n      <td>1.783206</td>\n      <td>0.071534</td>\n      <td>102.994628</td>\n      <td>2.833292</td>\n      <td>auto</td>\n      <td>14</td>\n      <td>uniform</td>\n      <td>{'model__algorithm': 'auto', 'model__n_neighbo...</td>\n      <td>0.593171</td>\n      <td>0.464998</td>\n      <td>0.575001</td>\n      <td>0.635876</td>\n      <td>0.782520</td>\n      <td>0.610313</td>\n      <td>0.102923</td>\n      <td>31</td>\n    </tr>\n    <tr>\n      <th>19</th>\n      <td>1.816370</td>\n      <td>0.139564</td>\n      <td>102.354986</td>\n      <td>3.105385</td>\n      <td>auto</td>\n      <td>15</td>\n      <td>distance</td>\n      <td>{'model__algorithm': 'auto', 'model__n_neighbo...</td>\n      <td>0.600332</td>\n      <td>0.466570</td>\n      <td>0.560126</td>\n      <td>0.633723</td>\n      <td>0.789493</td>\n      <td>0.610049</td>\n      <td>0.105767</td>\n      <td>32</td>\n    </tr>\n    <tr>\n      <th>4</th>\n      <td>1.764788</td>\n      <td>0.146153</td>\n      <td>103.951367</td>\n      <td>2.653526</td>\n      <td>brute</td>\n      <td>11</td>\n      <td>uniform</td>\n      <td>{'model__algorithm': 'brute', 'model__n_neighb...</td>\n      <td>0.598843</td>\n      <td>0.467158</td>\n      <td>0.564928</td>\n      <td>0.632506</td>\n      <td>0.785982</td>\n      <td>0.609883</td>\n      <td>0.103958</td>\n      <td>33</td>\n    </tr>\n    <tr>\n      <th>28</th>\n      <td>14.117047</td>\n      <td>1.205675</td>\n      <td>3694.903660</td>\n      <td>68.258087</td>\n      <td>kd_tree</td>\n      <td>14</td>\n      <td>distance</td>\n      <td>{'model__algorithm': 'kd_tree', 'model__n_neig...</td>\n      <td>0.597876</td>\n      <td>0.458842</td>\n      <td>0.550065</td>\n      <td>0.622713</td>\n      <td>0.786797</td>\n      <td>0.603259</td>\n      <td>0.107498</td>\n      <td>34</td>\n    </tr>\n    <tr>\n      <th>26</th>\n      <td>14.287930</td>\n      <td>1.298458</td>\n      <td>3669.608126</td>\n      <td>81.206642</td>\n      <td>kd_tree</td>\n      <td>13</td>\n      <td>distance</td>\n      <td>{'model__algorithm': 'kd_tree', 'model__n_neig...</td>\n      <td>0.593788</td>\n      <td>0.454251</td>\n      <td>0.546962</td>\n      <td>0.619302</td>\n      <td>0.787143</td>\n      <td>0.600289</td>\n      <td>0.109077</td>\n      <td>35</td>\n    </tr>\n    <tr>\n      <th>23</th>\n      <td>1.846018</td>\n      <td>0.145629</td>\n      <td>103.280411</td>\n      <td>2.256956</td>\n      <td>auto</td>\n      <td>12</td>\n      <td>uniform</td>\n      <td>{'model__algorithm': 'auto', 'model__n_neighbo...</td>\n      <td>0.586396</td>\n      <td>0.449684</td>\n      <td>0.555653</td>\n      <td>0.620522</td>\n      <td>0.778839</td>\n      <td>0.598219</td>\n      <td>0.106897</td>\n      <td>36</td>\n    </tr>\n    <tr>\n      <th>45</th>\n      <td>14.345019</td>\n      <td>1.068271</td>\n      <td>3595.033449</td>\n      <td>106.377286</td>\n      <td>kd_tree</td>\n      <td>9</td>\n      <td>uniform</td>\n      <td>{'model__algorithm': 'kd_tree', 'model__n_neig...</td>\n      <td>0.594812</td>\n      <td>0.446520</td>\n      <td>0.536994</td>\n      <td>0.613378</td>\n      <td>0.780335</td>\n      <td>0.594408</td>\n      <td>0.109632</td>\n      <td>37</td>\n    </tr>\n    <tr>\n      <th>18</th>\n      <td>14.302728</td>\n      <td>1.396304</td>\n      <td>3656.589431</td>\n      <td>82.433230</td>\n      <td>kd_tree</td>\n      <td>12</td>\n      <td>distance</td>\n      <td>{'model__algorithm': 'kd_tree', 'model__n_neig...</td>\n      <td>0.593605</td>\n      <td>0.443002</td>\n      <td>0.531795</td>\n      <td>0.607558</td>\n      <td>0.785310</td>\n      <td>0.592254</td>\n      <td>0.112640</td>\n      <td>38</td>\n    </tr>\n    <tr>\n      <th>25</th>\n      <td>1.684549</td>\n      <td>0.146992</td>\n      <td>102.462734</td>\n      <td>1.885456</td>\n      <td>auto</td>\n      <td>11</td>\n      <td>distance</td>\n      <td>{'model__algorithm': 'auto', 'model__n_neighbo...</td>\n      <td>0.591228</td>\n      <td>0.437391</td>\n      <td>0.527126</td>\n      <td>0.603224</td>\n      <td>0.785408</td>\n      <td>0.588876</td>\n      <td>0.114540</td>\n      <td>39</td>\n    </tr>\n    <tr>\n      <th>22</th>\n      <td>14.227297</td>\n      <td>1.316684</td>\n      <td>3608.156000</td>\n      <td>79.170523</td>\n      <td>kd_tree</td>\n      <td>10</td>\n      <td>uniform</td>\n      <td>{'model__algorithm': 'kd_tree', 'model__n_neig...</td>\n      <td>0.582630</td>\n      <td>0.426219</td>\n      <td>0.527703</td>\n      <td>0.599191</td>\n      <td>0.770818</td>\n      <td>0.581312</td>\n      <td>0.112394</td>\n      <td>40</td>\n    </tr>\n    <tr>\n      <th>36</th>\n      <td>13.991987</td>\n      <td>0.699625</td>\n      <td>3618.451149</td>\n      <td>96.384387</td>\n      <td>kd_tree</td>\n      <td>10</td>\n      <td>distance</td>\n      <td>{'model__algorithm': 'kd_tree', 'model__n_neig...</td>\n      <td>0.589548</td>\n      <td>0.425301</td>\n      <td>0.511581</td>\n      <td>0.589176</td>\n      <td>0.779935</td>\n      <td>0.579108</td>\n      <td>0.117268</td>\n      <td>41</td>\n    </tr>\n    <tr>\n      <th>15</th>\n      <td>1.816430</td>\n      <td>0.163455</td>\n      <td>102.486250</td>\n      <td>2.354157</td>\n      <td>auto</td>\n      <td>9</td>\n      <td>distance</td>\n      <td>{'model__algorithm': 'auto', 'model__n_neighbo...</td>\n      <td>0.585751</td>\n      <td>0.416127</td>\n      <td>0.506548</td>\n      <td>0.582197</td>\n      <td>0.779486</td>\n      <td>0.574022</td>\n      <td>0.119920</td>\n      <td>42</td>\n    </tr>\n    <tr>\n      <th>3</th>\n      <td>1.830992</td>\n      <td>0.103546</td>\n      <td>103.841131</td>\n      <td>2.972111</td>\n      <td>brute</td>\n      <td>7</td>\n      <td>uniform</td>\n      <td>{'model__algorithm': 'brute', 'model__n_neighb...</td>\n      <td>0.584140</td>\n      <td>0.409955</td>\n      <td>0.507998</td>\n      <td>0.581718</td>\n      <td>0.773665</td>\n      <td>0.571495</td>\n      <td>0.119385</td>\n      <td>43</td>\n    </tr>\n    <tr>\n      <th>32</th>\n      <td>1.767159</td>\n      <td>0.055459</td>\n      <td>103.519351</td>\n      <td>2.768840</td>\n      <td>auto</td>\n      <td>8</td>\n      <td>distance</td>\n      <td>{'model__algorithm': 'auto', 'model__n_neighbo...</td>\n      <td>0.581864</td>\n      <td>0.396113</td>\n      <td>0.490125</td>\n      <td>0.559411</td>\n      <td>0.773722</td>\n      <td>0.560247</td>\n      <td>0.124817</td>\n      <td>44</td>\n    </tr>\n    <tr>\n      <th>27</th>\n      <td>14.242055</td>\n      <td>1.501146</td>\n      <td>3569.998473</td>\n      <td>102.171962</td>\n      <td>kd_tree</td>\n      <td>8</td>\n      <td>uniform</td>\n      <td>{'model__algorithm': 'kd_tree', 'model__n_neig...</td>\n      <td>0.570206</td>\n      <td>0.389744</td>\n      <td>0.495964</td>\n      <td>0.565639</td>\n      <td>0.762601</td>\n      <td>0.556831</td>\n      <td>0.121836</td>\n      <td>45</td>\n    </tr>\n    <tr>\n      <th>38</th>\n      <td>1.768144</td>\n      <td>0.052040</td>\n      <td>103.810248</td>\n      <td>2.765241</td>\n      <td>auto</td>\n      <td>7</td>\n      <td>distance</td>\n      <td>{'model__algorithm': 'auto', 'model__n_neighbo...</td>\n      <td>0.577250</td>\n      <td>0.386213</td>\n      <td>0.486033</td>\n      <td>0.555629</td>\n      <td>0.772725</td>\n      <td>0.555570</td>\n      <td>0.127392</td>\n      <td>46</td>\n    </tr>\n    <tr>\n      <th>29</th>\n      <td>14.239766</td>\n      <td>1.170573</td>\n      <td>3464.224122</td>\n      <td>135.101857</td>\n      <td>kd_tree</td>\n      <td>5</td>\n      <td>uniform</td>\n      <td>{'model__algorithm': 'kd_tree', 'model__n_neig...</td>\n      <td>0.569493</td>\n      <td>0.372177</td>\n      <td>0.479046</td>\n      <td>0.552236</td>\n      <td>0.764827</td>\n      <td>0.547556</td>\n      <td>0.128966</td>\n      <td>47</td>\n    </tr>\n    <tr>\n      <th>24</th>\n      <td>14.410035</td>\n      <td>1.124410</td>\n      <td>3518.906880</td>\n      <td>113.678860</td>\n      <td>kd_tree</td>\n      <td>6</td>\n      <td>distance</td>\n      <td>{'model__algorithm': 'kd_tree', 'model__n_neig...</td>\n      <td>0.568275</td>\n      <td>0.360343</td>\n      <td>0.462038</td>\n      <td>0.539477</td>\n      <td>0.764678</td>\n      <td>0.538962</td>\n      <td>0.133887</td>\n      <td>48</td>\n    </tr>\n    <tr>\n      <th>37</th>\n      <td>1.839953</td>\n      <td>0.060127</td>\n      <td>103.409545</td>\n      <td>2.729209</td>\n      <td>auto</td>\n      <td>6</td>\n      <td>uniform</td>\n      <td>{'model__algorithm': 'auto', 'model__n_neighbo...</td>\n      <td>0.547991</td>\n      <td>0.351002</td>\n      <td>0.463765</td>\n      <td>0.534225</td>\n      <td>0.749602</td>\n      <td>0.529317</td>\n      <td>0.130377</td>\n      <td>49</td>\n    </tr>\n    <tr>\n      <th>14</th>\n      <td>1.779191</td>\n      <td>0.060088</td>\n      <td>103.252801</td>\n      <td>2.750959</td>\n      <td>auto</td>\n      <td>4</td>\n      <td>distance</td>\n      <td>{'model__algorithm': 'auto', 'model__n_neighbo...</td>\n      <td>0.534100</td>\n      <td>0.322999</td>\n      <td>0.417491</td>\n      <td>0.507491</td>\n      <td>0.758697</td>\n      <td>0.508156</td>\n      <td>0.145566</td>\n      <td>50</td>\n    </tr>\n  </tbody>\n</table>\n</div>"
     },
     "execution_count": 106,
     "metadata": {},
     "output_type": "execute_result"
    }
   ],
   "source": [
    "knnc_grid_search_dataframe = pd.DataFrame(\n",
    "    np.load(\"Dataset_Files/Baseline_Models/Classification/optimised_knnc_cv_results.npy\", allow_pickle=True).tolist())\n",
    "knnc_grid_search_dataframe.sort_values(by=[\"rank_test_score\"], inplace=True)\n",
    "knnc_grid_search_dataframe"
   ],
   "metadata": {
    "collapsed": false,
    "pycharm": {
     "name": "#%%\n"
    }
   }
  },
  {
   "cell_type": "markdown",
   "source": [
    "### Testing"
   ],
   "metadata": {
    "collapsed": false,
    "pycharm": {
     "name": "#%% md\n"
    }
   }
  },
  {
   "cell_type": "code",
   "execution_count": 66,
   "outputs": [
    {
     "name": "stdout",
     "output_type": "stream",
     "text": [
      "F1 score: 0.8232189973614776\n",
      "Matthews Correlation Coefficient: 0.4174960141149641\n",
      "Accuracy score: 0.7536764705882353\n",
      "Recall score: 0.8312611012433393\n",
      "Precision score: 0.8153310104529616\n"
     ]
    }
   ],
   "source": [
    "if os.path.exists(\"Dataset_Files/Baseline_Models/Classification/optimised_knnc_y_test_pred.npy\"):\n",
    "    y_test_pred = np.load(\"Dataset_Files/Baseline_Models/Classification/optimised_knnc_y_test_pred.npy\")\n",
    "else:\n",
    "    y_test_pred = optimised_knnc.predict(X_test)\n",
    "    np.save(\"Dataset_Files/Baseline_Models/Classification/optimised_knnc_y_test_pred.npy\", y_test_pred)\n",
    "\n",
    "calculate_metrics_classification(y_test, y_test_pred)"
   ],
   "metadata": {
    "collapsed": false,
    "pycharm": {
     "name": "#%%\n"
    }
   }
  },
  {
   "cell_type": "markdown",
   "source": [
    "## Decision Tree Classifier (DTC)"
   ],
   "metadata": {
    "collapsed": false,
    "pycharm": {
     "name": "#%% md\n"
    }
   }
  },
  {
   "cell_type": "code",
   "execution_count": 67,
   "outputs": [
    {
     "data": {
      "text/plain": "{'memory': None,\n 'steps': [('scale', StandardScaler()),\n  ('model', DecisionTreeClassifier(random_state=42))],\n 'verbose': False,\n 'scale': StandardScaler(),\n 'model': DecisionTreeClassifier(random_state=42),\n 'scale__copy': True,\n 'scale__with_mean': True,\n 'scale__with_std': True,\n 'model__ccp_alpha': 0.0,\n 'model__class_weight': None,\n 'model__criterion': 'gini',\n 'model__max_depth': None,\n 'model__max_features': None,\n 'model__max_leaf_nodes': None,\n 'model__min_impurity_decrease': 0.0,\n 'model__min_samples_leaf': 1,\n 'model__min_samples_split': 2,\n 'model__min_weight_fraction_leaf': 0.0,\n 'model__random_state': 42,\n 'model__splitter': 'best'}"
     },
     "execution_count": 67,
     "metadata": {},
     "output_type": "execute_result"
    }
   ],
   "source": [
    "pipe = Pipeline(\n",
    "    [\n",
    "        ('scale', StandardScaler()),\n",
    "        ('model', DecisionTreeClassifier(random_state=42))\n",
    "    ]\n",
    ")\n",
    "pipe.get_params()"
   ],
   "metadata": {
    "collapsed": false,
    "pycharm": {
     "name": "#%%\n"
    }
   }
  },
  {
   "cell_type": "code",
   "execution_count": 68,
   "outputs": [],
   "source": [
    "model = BayesSearchCV(estimator=pipe,\n",
    "                      search_spaces=\n",
    "                      {'model__criterion': Categorical(['gini', 'entropy']),\n",
    "                       'model__splitter': Categorical(['best', 'random']),\n",
    "                       'model__max_features': Categorical([None, 'sqrt', 'log2']),\n",
    "                       'model__class_weight': Categorical([None, 'balanced'])\n",
    "                       },\n",
    "                      scoring='f1',\n",
    "                      cv=5,\n",
    "                      error_score=np.nan,\n",
    "                      n_jobs=-1,\n",
    "                      pre_dispatch='2*n_jobs',\n",
    "                      random_state=42)"
   ],
   "metadata": {
    "collapsed": false,
    "pycharm": {
     "name": "#%%\n"
    }
   }
  },
  {
   "cell_type": "markdown",
   "source": [
    "### Training"
   ],
   "metadata": {
    "collapsed": false,
    "pycharm": {
     "name": "#%% md\n"
    }
   }
  },
  {
   "cell_type": "code",
   "execution_count": 69,
   "outputs": [
    {
     "name": "stdout",
     "output_type": "stream",
     "text": [
      "Iteration Completed: 1\n",
      "Iteration Completed: 2\n",
      "Iteration Completed: 3\n",
      "Iteration Completed: 4\n",
      "Iteration Completed: 5\n",
      "Iteration Completed: 6\n",
      "Iteration Completed: 7\n",
      "Iteration Completed: 8\n",
      "Iteration Completed: 9\n",
      "Iteration Completed: 10\n",
      "Iteration Completed: 11\n",
      "Iteration Completed: 12\n",
      "Iteration Completed: 13\n",
      "Iteration Completed: 14\n",
      "Iteration Completed: 15\n",
      "Iteration Completed: 16\n"
     ]
    },
    {
     "name": "stderr",
     "output_type": "stream",
     "text": [
      "C:\\Users\\jogeo\\anaconda3\\envs\\AlphaFold_Dataset_Drug_Binding_Prediction\\lib\\site-packages\\skopt\\optimizer\\optimizer.py:449: UserWarning: The objective has been evaluated at this point before.\n",
      "  warnings.warn(\"The objective has been evaluated \"\n"
     ]
    },
    {
     "name": "stdout",
     "output_type": "stream",
     "text": [
      "Iteration Completed: 17\n",
      "Iteration Completed: 18\n",
      "Iteration Completed: 19\n"
     ]
    },
    {
     "name": "stderr",
     "output_type": "stream",
     "text": [
      "C:\\Users\\jogeo\\anaconda3\\envs\\AlphaFold_Dataset_Drug_Binding_Prediction\\lib\\site-packages\\skopt\\optimizer\\optimizer.py:449: UserWarning: The objective has been evaluated at this point before.\n",
      "  warnings.warn(\"The objective has been evaluated \"\n"
     ]
    },
    {
     "name": "stdout",
     "output_type": "stream",
     "text": [
      "Iteration Completed: 20\n",
      "Iteration Completed: 21\n",
      "Iteration Completed: 22\n",
      "Iteration Completed: 23\n"
     ]
    },
    {
     "name": "stderr",
     "output_type": "stream",
     "text": [
      "C:\\Users\\jogeo\\anaconda3\\envs\\AlphaFold_Dataset_Drug_Binding_Prediction\\lib\\site-packages\\skopt\\optimizer\\optimizer.py:449: UserWarning: The objective has been evaluated at this point before.\n",
      "  warnings.warn(\"The objective has been evaluated \"\n"
     ]
    },
    {
     "name": "stdout",
     "output_type": "stream",
     "text": [
      "Iteration Completed: 24\n",
      "Iteration Completed: 25\n",
      "Iteration Completed: 26\n",
      "Iteration Completed: 27\n"
     ]
    },
    {
     "name": "stderr",
     "output_type": "stream",
     "text": [
      "C:\\Users\\jogeo\\anaconda3\\envs\\AlphaFold_Dataset_Drug_Binding_Prediction\\lib\\site-packages\\skopt\\optimizer\\optimizer.py:449: UserWarning: The objective has been evaluated at this point before.\n",
      "  warnings.warn(\"The objective has been evaluated \"\n"
     ]
    },
    {
     "name": "stdout",
     "output_type": "stream",
     "text": [
      "Iteration Completed: 28\n",
      "Iteration Completed: 29\n",
      "Iteration Completed: 30\n",
      "Iteration Completed: 31\n"
     ]
    },
    {
     "name": "stderr",
     "output_type": "stream",
     "text": [
      "C:\\Users\\jogeo\\anaconda3\\envs\\AlphaFold_Dataset_Drug_Binding_Prediction\\lib\\site-packages\\skopt\\optimizer\\optimizer.py:449: UserWarning: The objective has been evaluated at this point before.\n",
      "  warnings.warn(\"The objective has been evaluated \"\n"
     ]
    },
    {
     "name": "stdout",
     "output_type": "stream",
     "text": [
      "Iteration Completed: 32\n"
     ]
    },
    {
     "name": "stderr",
     "output_type": "stream",
     "text": [
      "C:\\Users\\jogeo\\anaconda3\\envs\\AlphaFold_Dataset_Drug_Binding_Prediction\\lib\\site-packages\\skopt\\optimizer\\optimizer.py:449: UserWarning: The objective has been evaluated at this point before.\n",
      "  warnings.warn(\"The objective has been evaluated \"\n"
     ]
    },
    {
     "name": "stdout",
     "output_type": "stream",
     "text": [
      "Iteration Completed: 33\n"
     ]
    },
    {
     "name": "stderr",
     "output_type": "stream",
     "text": [
      "C:\\Users\\jogeo\\anaconda3\\envs\\AlphaFold_Dataset_Drug_Binding_Prediction\\lib\\site-packages\\skopt\\optimizer\\optimizer.py:449: UserWarning: The objective has been evaluated at this point before.\n",
      "  warnings.warn(\"The objective has been evaluated \"\n"
     ]
    },
    {
     "name": "stdout",
     "output_type": "stream",
     "text": [
      "Iteration Completed: 34\n"
     ]
    },
    {
     "name": "stderr",
     "output_type": "stream",
     "text": [
      "C:\\Users\\jogeo\\anaconda3\\envs\\AlphaFold_Dataset_Drug_Binding_Prediction\\lib\\site-packages\\skopt\\optimizer\\optimizer.py:449: UserWarning: The objective has been evaluated at this point before.\n",
      "  warnings.warn(\"The objective has been evaluated \"\n"
     ]
    },
    {
     "name": "stdout",
     "output_type": "stream",
     "text": [
      "Iteration Completed: 35\n"
     ]
    },
    {
     "name": "stderr",
     "output_type": "stream",
     "text": [
      "C:\\Users\\jogeo\\anaconda3\\envs\\AlphaFold_Dataset_Drug_Binding_Prediction\\lib\\site-packages\\skopt\\optimizer\\optimizer.py:449: UserWarning: The objective has been evaluated at this point before.\n",
      "  warnings.warn(\"The objective has been evaluated \"\n"
     ]
    },
    {
     "name": "stdout",
     "output_type": "stream",
     "text": [
      "Iteration Completed: 36\n"
     ]
    },
    {
     "name": "stderr",
     "output_type": "stream",
     "text": [
      "C:\\Users\\jogeo\\anaconda3\\envs\\AlphaFold_Dataset_Drug_Binding_Prediction\\lib\\site-packages\\skopt\\optimizer\\optimizer.py:449: UserWarning: The objective has been evaluated at this point before.\n",
      "  warnings.warn(\"The objective has been evaluated \"\n"
     ]
    },
    {
     "name": "stdout",
     "output_type": "stream",
     "text": [
      "Iteration Completed: 37\n"
     ]
    },
    {
     "name": "stderr",
     "output_type": "stream",
     "text": [
      "C:\\Users\\jogeo\\anaconda3\\envs\\AlphaFold_Dataset_Drug_Binding_Prediction\\lib\\site-packages\\skopt\\optimizer\\optimizer.py:449: UserWarning: The objective has been evaluated at this point before.\n",
      "  warnings.warn(\"The objective has been evaluated \"\n"
     ]
    },
    {
     "name": "stdout",
     "output_type": "stream",
     "text": [
      "Iteration Completed: 38\n"
     ]
    },
    {
     "name": "stderr",
     "output_type": "stream",
     "text": [
      "C:\\Users\\jogeo\\anaconda3\\envs\\AlphaFold_Dataset_Drug_Binding_Prediction\\lib\\site-packages\\skopt\\optimizer\\optimizer.py:449: UserWarning: The objective has been evaluated at this point before.\n",
      "  warnings.warn(\"The objective has been evaluated \"\n"
     ]
    },
    {
     "name": "stdout",
     "output_type": "stream",
     "text": [
      "Iteration Completed: 39\n"
     ]
    },
    {
     "name": "stderr",
     "output_type": "stream",
     "text": [
      "C:\\Users\\jogeo\\anaconda3\\envs\\AlphaFold_Dataset_Drug_Binding_Prediction\\lib\\site-packages\\skopt\\optimizer\\optimizer.py:449: UserWarning: The objective has been evaluated at this point before.\n",
      "  warnings.warn(\"The objective has been evaluated \"\n"
     ]
    },
    {
     "name": "stdout",
     "output_type": "stream",
     "text": [
      "Iteration Completed: 40\n"
     ]
    },
    {
     "name": "stderr",
     "output_type": "stream",
     "text": [
      "C:\\Users\\jogeo\\anaconda3\\envs\\AlphaFold_Dataset_Drug_Binding_Prediction\\lib\\site-packages\\skopt\\optimizer\\optimizer.py:449: UserWarning: The objective has been evaluated at this point before.\n",
      "  warnings.warn(\"The objective has been evaluated \"\n"
     ]
    },
    {
     "name": "stdout",
     "output_type": "stream",
     "text": [
      "Iteration Completed: 41\n"
     ]
    },
    {
     "name": "stderr",
     "output_type": "stream",
     "text": [
      "C:\\Users\\jogeo\\anaconda3\\envs\\AlphaFold_Dataset_Drug_Binding_Prediction\\lib\\site-packages\\skopt\\optimizer\\optimizer.py:449: UserWarning: The objective has been evaluated at this point before.\n",
      "  warnings.warn(\"The objective has been evaluated \"\n"
     ]
    },
    {
     "name": "stdout",
     "output_type": "stream",
     "text": [
      "Iteration Completed: 42\n"
     ]
    },
    {
     "name": "stderr",
     "output_type": "stream",
     "text": [
      "C:\\Users\\jogeo\\anaconda3\\envs\\AlphaFold_Dataset_Drug_Binding_Prediction\\lib\\site-packages\\skopt\\optimizer\\optimizer.py:449: UserWarning: The objective has been evaluated at this point before.\n",
      "  warnings.warn(\"The objective has been evaluated \"\n"
     ]
    },
    {
     "name": "stdout",
     "output_type": "stream",
     "text": [
      "Iteration Completed: 43\n"
     ]
    },
    {
     "name": "stderr",
     "output_type": "stream",
     "text": [
      "C:\\Users\\jogeo\\anaconda3\\envs\\AlphaFold_Dataset_Drug_Binding_Prediction\\lib\\site-packages\\skopt\\optimizer\\optimizer.py:449: UserWarning: The objective has been evaluated at this point before.\n",
      "  warnings.warn(\"The objective has been evaluated \"\n"
     ]
    },
    {
     "name": "stdout",
     "output_type": "stream",
     "text": [
      "Iteration Completed: 44\n"
     ]
    },
    {
     "name": "stderr",
     "output_type": "stream",
     "text": [
      "C:\\Users\\jogeo\\anaconda3\\envs\\AlphaFold_Dataset_Drug_Binding_Prediction\\lib\\site-packages\\skopt\\optimizer\\optimizer.py:449: UserWarning: The objective has been evaluated at this point before.\n",
      "  warnings.warn(\"The objective has been evaluated \"\n"
     ]
    },
    {
     "name": "stdout",
     "output_type": "stream",
     "text": [
      "Iteration Completed: 45\n"
     ]
    },
    {
     "name": "stderr",
     "output_type": "stream",
     "text": [
      "C:\\Users\\jogeo\\anaconda3\\envs\\AlphaFold_Dataset_Drug_Binding_Prediction\\lib\\site-packages\\skopt\\optimizer\\optimizer.py:449: UserWarning: The objective has been evaluated at this point before.\n",
      "  warnings.warn(\"The objective has been evaluated \"\n"
     ]
    },
    {
     "name": "stdout",
     "output_type": "stream",
     "text": [
      "Iteration Completed: 46\n"
     ]
    },
    {
     "name": "stderr",
     "output_type": "stream",
     "text": [
      "C:\\Users\\jogeo\\anaconda3\\envs\\AlphaFold_Dataset_Drug_Binding_Prediction\\lib\\site-packages\\skopt\\optimizer\\optimizer.py:449: UserWarning: The objective has been evaluated at this point before.\n",
      "  warnings.warn(\"The objective has been evaluated \"\n"
     ]
    },
    {
     "name": "stdout",
     "output_type": "stream",
     "text": [
      "Iteration Completed: 47\n"
     ]
    },
    {
     "name": "stderr",
     "output_type": "stream",
     "text": [
      "C:\\Users\\jogeo\\anaconda3\\envs\\AlphaFold_Dataset_Drug_Binding_Prediction\\lib\\site-packages\\skopt\\optimizer\\optimizer.py:449: UserWarning: The objective has been evaluated at this point before.\n",
      "  warnings.warn(\"The objective has been evaluated \"\n"
     ]
    },
    {
     "name": "stdout",
     "output_type": "stream",
     "text": [
      "Iteration Completed: 48\n"
     ]
    },
    {
     "name": "stderr",
     "output_type": "stream",
     "text": [
      "C:\\Users\\jogeo\\anaconda3\\envs\\AlphaFold_Dataset_Drug_Binding_Prediction\\lib\\site-packages\\skopt\\optimizer\\optimizer.py:449: UserWarning: The objective has been evaluated at this point before.\n",
      "  warnings.warn(\"The objective has been evaluated \"\n"
     ]
    },
    {
     "name": "stdout",
     "output_type": "stream",
     "text": [
      "Iteration Completed: 49\n"
     ]
    },
    {
     "name": "stderr",
     "output_type": "stream",
     "text": [
      "C:\\Users\\jogeo\\anaconda3\\envs\\AlphaFold_Dataset_Drug_Binding_Prediction\\lib\\site-packages\\skopt\\optimizer\\optimizer.py:449: UserWarning: The objective has been evaluated at this point before.\n",
      "  warnings.warn(\"The objective has been evaluated \"\n"
     ]
    },
    {
     "name": "stdout",
     "output_type": "stream",
     "text": [
      "Iteration Completed: 50\n",
      "F1 score: 0.9999795908648712\n",
      "Matthews Correlation Coefficient: 0.9999223605385762\n",
      "Accuracy score: 0.9999699112381526\n",
      "Recall score: 0.9999591825627908\n",
      "Precision score: 1.0\n"
     ]
    }
   ],
   "source": [
    "# index = 1\n",
    "# model.fit(X_train, y_train, callback=on_step)\n",
    "#\n",
    "# optimised_dtc = model.best_estimator_\n",
    "#\n",
    "# y_train_pred = optimised_dtc.predict(X_train)\n",
    "# calculate_metrics_classification(y_train, y_train_pred)\n",
    "#\n",
    "# # Save Model & CV Results\n",
    "# dump(optimised_dtc, 'Dataset_Files/Baseline_Models/Classification/optimised_dtc.joblib')\n",
    "# np.save(\"Dataset_Files/Baseline_Models/Classification/optimised_dtc_cv_results.npy\", model.cv_results_)"
   ],
   "metadata": {
    "collapsed": false,
    "pycharm": {
     "name": "#%%\n"
    }
   }
  },
  {
   "cell_type": "code",
   "execution_count": 111,
   "outputs": [],
   "source": [
    "# Load Model\n",
    "optimised_dtc = load('Dataset_Files/Baseline_Models/Classification/optimised_dtc.joblib')"
   ],
   "metadata": {
    "collapsed": false,
    "pycharm": {
     "name": "#%%\n"
    }
   }
  },
  {
   "cell_type": "code",
   "execution_count": 112,
   "outputs": [
    {
     "name": "stdout",
     "output_type": "stream",
     "text": [
      "F1 score: 0.9999949373497026\n",
      "Matthews Correlation Coefficient: 0.9999810376365187\n",
      "Accuracy score: 0.9999925779684415\n",
      "Recall score: 0.9999898747506657\n",
      "Precision score: 1.0\n"
     ]
    }
   ],
   "source": [
    "y_train_pred = optimised_dtc.predict(X_train)\n",
    "calculate_metrics_classification(y_train, y_train_pred)"
   ],
   "metadata": {
    "collapsed": false,
    "pycharm": {
     "name": "#%%\n"
    }
   }
  },
  {
   "cell_type": "code",
   "execution_count": 113,
   "outputs": [
    {
     "data": {
      "text/plain": "{'memory': None,\n 'steps': [('scale', StandardScaler()),\n  ('model',\n   DecisionTreeClassifier(criterion='entropy', max_features='log2',\n                          random_state=42, splitter='random'))],\n 'verbose': False,\n 'scale': StandardScaler(),\n 'model': DecisionTreeClassifier(criterion='entropy', max_features='log2',\n                        random_state=42, splitter='random'),\n 'scale__copy': True,\n 'scale__with_mean': True,\n 'scale__with_std': True,\n 'model__ccp_alpha': 0.0,\n 'model__class_weight': None,\n 'model__criterion': 'entropy',\n 'model__max_depth': None,\n 'model__max_features': 'log2',\n 'model__max_leaf_nodes': None,\n 'model__min_impurity_decrease': 0.0,\n 'model__min_samples_leaf': 1,\n 'model__min_samples_split': 2,\n 'model__min_weight_fraction_leaf': 0.0,\n 'model__random_state': 42,\n 'model__splitter': 'random'}"
     },
     "execution_count": 113,
     "metadata": {},
     "output_type": "execute_result"
    }
   ],
   "source": [
    "optimised_dtc.get_params()"
   ],
   "metadata": {
    "collapsed": false,
    "pycharm": {
     "name": "#%%\n"
    }
   }
  },
  {
   "cell_type": "code",
   "execution_count": 114,
   "outputs": [
    {
     "data": {
      "text/plain": "    mean_fit_time  std_fit_time  mean_score_time  std_score_time  \\\n49       1.962907      0.027542         0.125217        0.004432   \n29       1.970825      0.101165         0.108212        0.005262   \n32       2.004859      0.097391         0.109537        0.005384   \n27       1.951181      0.061655         0.112754        0.007601   \n33       1.962594      0.060569         0.111840        0.006574   \n34       1.991534      0.099330         0.107633        0.005263   \n48       1.968533      0.065223         0.107409        0.003843   \n23       1.952895      0.110128         0.107195        0.005618   \n35       1.959555      0.079155         0.106977        0.006517   \n36       1.980895      0.089248         0.108180        0.002840   \n19       1.957150      0.100456         0.107685        0.004826   \n37       1.958696      0.065690         0.111068        0.005039   \n38       1.979734      0.101258         0.108615        0.002746   \n16       1.970621      0.081201         0.109789        0.007874   \n30       1.938794      0.112745         0.105952        0.004439   \n39       1.962883      0.079714         0.107889        0.004034   \n13       1.994907      0.096426         0.107008        0.003427   \n40       1.958054      0.098806         0.105435        0.003987   \n41       1.980248      0.093649         0.108138        0.006390   \n42       1.976135      0.063238         0.109187        0.006838   \n43       1.948182      0.092001         0.106417        0.003536   \n44       1.973704      0.105006         0.106641        0.003981   \n45       1.955567      0.094565         0.107183        0.004728   \n46       1.939752      0.081932         0.108016        0.004841   \n47       1.958396      0.067662         0.109023        0.004645   \n31       1.977939      0.057453         0.109187        0.003562   \n11       1.965158      0.101631         0.107167        0.005087   \n4        2.295109      0.095115         0.107455        0.003841   \n3        2.288378      0.101195         0.106746        0.004953   \n10       2.282531      0.119547         0.103371        0.002696   \n20       1.971083      0.076358         0.107129        0.003886   \n14       1.993735      0.103340         0.108694        0.006552   \n24       2.284555      0.068756         0.105548        0.005187   \n1        2.271139      0.108069         0.100664        0.003632   \n7        2.297010      0.107825         0.102210        0.001920   \n6        2.235590      0.076924         0.103689        0.005821   \n26      19.788040      1.663488         0.098589        0.003560   \n12      14.398538      0.686880         0.096694        0.002435   \n21      15.032422      0.843449         0.095562        0.003625   \n17      28.506263      3.758931         0.100126        0.004136   \n5       55.766035      8.423692         0.095556        0.001751   \n15      33.671793      0.641665         0.098117        0.002125   \n28      36.316064      2.132752         0.095526        0.003236   \n2       83.505183      8.126882         0.100278        0.006887   \n18       2.688566      0.120304         0.101286        0.001647   \n25       2.930778      0.152839         0.099705        0.002622   \n9        3.319754      0.209657         0.099168        0.004189   \n8        2.099065      0.081623         0.101873        0.003493   \n22       2.112915      0.107157         0.102402        0.005184   \n0        2.151113      0.041985         0.110634        0.002044   \n\n   param_model__class_weight param_model__criterion param_model__max_features  \\\n49                      None                entropy                      log2   \n29                      None                entropy                      log2   \n32                      None                entropy                      log2   \n27                      None                entropy                      log2   \n33                      None                entropy                      log2   \n34                      None                entropy                      log2   \n48                      None                entropy                      log2   \n23                      None                entropy                      log2   \n35                      None                entropy                      log2   \n36                      None                entropy                      log2   \n19                      None                entropy                      log2   \n37                      None                entropy                      log2   \n38                      None                entropy                      log2   \n16                      None                entropy                      log2   \n30                      None                entropy                      log2   \n39                      None                entropy                      log2   \n13                      None                entropy                      log2   \n40                      None                entropy                      log2   \n41                      None                entropy                      log2   \n42                      None                entropy                      log2   \n43                      None                entropy                      log2   \n44                      None                entropy                      log2   \n45                      None                entropy                      log2   \n46                      None                entropy                      log2   \n47                      None                entropy                      log2   \n31                      None                entropy                      log2   \n11                  balanced                entropy                      log2   \n4                   balanced                entropy                      sqrt   \n3                   balanced                entropy                      sqrt   \n10                      None                entropy                      sqrt   \n20                  balanced                   gini                      log2   \n14                      None                   gini                      log2   \n24                      None                   gini                      sqrt   \n1                   balanced                   gini                      sqrt   \n7                   balanced                   gini                      sqrt   \n6                   balanced                   gini                      sqrt   \n26                  balanced                   gini                      None   \n12                  balanced                entropy                      None   \n21                      None                entropy                      None   \n17                      None                   gini                      None   \n5                   balanced                   gini                      None   \n15                  balanced                entropy                      None   \n28                      None                entropy                      None   \n2                       None                   gini                      None   \n18                  balanced                entropy                      sqrt   \n25                  balanced                   gini                      sqrt   \n9                       None                   gini                      sqrt   \n8                   balanced                   gini                      log2   \n22                      None                entropy                      log2   \n0                       None                   gini                      log2   \n\n   param_model__splitter                                             params  \\\n49                random  {'model__class_weight': None, 'model__criterio...   \n29                random  {'model__class_weight': None, 'model__criterio...   \n32                random  {'model__class_weight': None, 'model__criterio...   \n27                random  {'model__class_weight': None, 'model__criterio...   \n33                random  {'model__class_weight': None, 'model__criterio...   \n34                random  {'model__class_weight': None, 'model__criterio...   \n48                random  {'model__class_weight': None, 'model__criterio...   \n23                random  {'model__class_weight': None, 'model__criterio...   \n35                random  {'model__class_weight': None, 'model__criterio...   \n36                random  {'model__class_weight': None, 'model__criterio...   \n19                random  {'model__class_weight': None, 'model__criterio...   \n37                random  {'model__class_weight': None, 'model__criterio...   \n38                random  {'model__class_weight': None, 'model__criterio...   \n16                random  {'model__class_weight': None, 'model__criterio...   \n30                random  {'model__class_weight': None, 'model__criterio...   \n39                random  {'model__class_weight': None, 'model__criterio...   \n13                random  {'model__class_weight': None, 'model__criterio...   \n40                random  {'model__class_weight': None, 'model__criterio...   \n41                random  {'model__class_weight': None, 'model__criterio...   \n42                random  {'model__class_weight': None, 'model__criterio...   \n43                random  {'model__class_weight': None, 'model__criterio...   \n44                random  {'model__class_weight': None, 'model__criterio...   \n45                random  {'model__class_weight': None, 'model__criterio...   \n46                random  {'model__class_weight': None, 'model__criterio...   \n47                random  {'model__class_weight': None, 'model__criterio...   \n31                random  {'model__class_weight': None, 'model__criterio...   \n11                random  {'model__class_weight': 'balanced', 'model__cr...   \n4                 random  {'model__class_weight': 'balanced', 'model__cr...   \n3                 random  {'model__class_weight': 'balanced', 'model__cr...   \n10                random  {'model__class_weight': None, 'model__criterio...   \n20                random  {'model__class_weight': 'balanced', 'model__cr...   \n14                random  {'model__class_weight': None, 'model__criterio...   \n24                random  {'model__class_weight': None, 'model__criterio...   \n1                 random  {'model__class_weight': 'balanced', 'model__cr...   \n7                 random  {'model__class_weight': 'balanced', 'model__cr...   \n6                 random  {'model__class_weight': 'balanced', 'model__cr...   \n26                random  {'model__class_weight': 'balanced', 'model__cr...   \n12                random  {'model__class_weight': 'balanced', 'model__cr...   \n21                random  {'model__class_weight': None, 'model__criterio...   \n17                random  {'model__class_weight': None, 'model__criterio...   \n5                   best  {'model__class_weight': 'balanced', 'model__cr...   \n15                  best  {'model__class_weight': 'balanced', 'model__cr...   \n28                  best  {'model__class_weight': None, 'model__criterio...   \n2                   best  {'model__class_weight': None, 'model__criterio...   \n18                  best  {'model__class_weight': 'balanced', 'model__cr...   \n25                  best  {'model__class_weight': 'balanced', 'model__cr...   \n9                   best  {'model__class_weight': None, 'model__criterio...   \n8                   best  {'model__class_weight': 'balanced', 'model__cr...   \n22                  best  {'model__class_weight': None, 'model__criterio...   \n0                   best  {'model__class_weight': None, 'model__criterio...   \n\n    split0_test_score  split1_test_score  split2_test_score  \\\n49           0.570013           0.615882           0.531489   \n29           0.570013           0.615882           0.531489   \n32           0.570013           0.615882           0.531489   \n27           0.570013           0.615882           0.531489   \n33           0.570013           0.615882           0.531489   \n34           0.570013           0.615882           0.531489   \n48           0.570013           0.615882           0.531489   \n23           0.570013           0.615882           0.531489   \n35           0.570013           0.615882           0.531489   \n36           0.570013           0.615882           0.531489   \n19           0.570013           0.615882           0.531489   \n37           0.570013           0.615882           0.531489   \n38           0.570013           0.615882           0.531489   \n16           0.570013           0.615882           0.531489   \n30           0.570013           0.615882           0.531489   \n39           0.570013           0.615882           0.531489   \n13           0.570013           0.615882           0.531489   \n40           0.570013           0.615882           0.531489   \n41           0.570013           0.615882           0.531489   \n42           0.570013           0.615882           0.531489   \n43           0.570013           0.615882           0.531489   \n44           0.570013           0.615882           0.531489   \n45           0.570013           0.615882           0.531489   \n46           0.570013           0.615882           0.531489   \n47           0.570013           0.615882           0.531489   \n31           0.570013           0.615882           0.531489   \n11           0.649844           0.493372           0.548092   \n4            0.605404           0.423562           0.568090   \n3            0.605404           0.423562           0.568090   \n10           0.594467           0.423065           0.591581   \n20           0.609902           0.473608           0.480957   \n14           0.576779           0.483367           0.508926   \n24           0.520758           0.493382           0.516404   \n1            0.526253           0.411991           0.528280   \n7            0.526253           0.411991           0.528280   \n6            0.526253           0.411991           0.528280   \n26           0.522375           0.357573           0.496318   \n12           0.470040           0.350154           0.487366   \n21           0.484880           0.389581           0.456675   \n17           0.496733           0.463051           0.374939   \n5            0.491453           0.352835           0.437139   \n15           0.496841           0.320606           0.409619   \n28           0.469557           0.305681           0.393417   \n2            0.483756           0.244391           0.387797   \n18           0.460532           0.263985           0.349664   \n25           0.447495           0.243137           0.382657   \n9            0.424130           0.237196           0.405706   \n8            0.426732           0.235310           0.328169   \n22           0.433667           0.196714           0.302856   \n0            0.419516           0.201187           0.332947   \n\n    split3_test_score  split4_test_score  mean_test_score  std_test_score  \\\n49           0.615077           0.750259         0.616544        0.073867   \n29           0.615077           0.750259         0.616544        0.073867   \n32           0.615077           0.750259         0.616544        0.073867   \n27           0.615077           0.750259         0.616544        0.073867   \n33           0.615077           0.750259         0.616544        0.073867   \n34           0.615077           0.750259         0.616544        0.073867   \n48           0.615077           0.750259         0.616544        0.073867   \n23           0.615077           0.750259         0.616544        0.073867   \n35           0.615077           0.750259         0.616544        0.073867   \n36           0.615077           0.750259         0.616544        0.073867   \n19           0.615077           0.750259         0.616544        0.073867   \n37           0.615077           0.750259         0.616544        0.073867   \n38           0.615077           0.750259         0.616544        0.073867   \n16           0.615077           0.750259         0.616544        0.073867   \n30           0.615077           0.750259         0.616544        0.073867   \n39           0.615077           0.750259         0.616544        0.073867   \n13           0.615077           0.750259         0.616544        0.073867   \n40           0.615077           0.750259         0.616544        0.073867   \n41           0.615077           0.750259         0.616544        0.073867   \n42           0.615077           0.750259         0.616544        0.073867   \n43           0.615077           0.750259         0.616544        0.073867   \n44           0.615077           0.750259         0.616544        0.073867   \n45           0.615077           0.750259         0.616544        0.073867   \n46           0.615077           0.750259         0.616544        0.073867   \n47           0.615077           0.750259         0.616544        0.073867   \n31           0.615077           0.750259         0.616544        0.073867   \n11           0.591511           0.757075         0.607979        0.090526   \n4            0.605385           0.749520         0.590392        0.104021   \n3            0.605385           0.749520         0.590392        0.104021   \n10           0.593140           0.731695         0.586790        0.097904   \n20           0.625528           0.724406         0.582880        0.094771   \n14           0.599928           0.717171         0.577234        0.081945   \n24           0.549524           0.741554         0.564325        0.090395   \n1            0.578117           0.729421         0.554812        0.102907   \n7            0.578117           0.729421         0.554812        0.102907   \n6            0.578117           0.729421         0.554812        0.102907   \n26           0.523620           0.750109         0.529999        0.126026   \n12           0.509828           0.762781         0.516034        0.135186   \n21           0.490318           0.756549         0.515601        0.125692   \n17           0.492208           0.723938         0.510174        0.115505   \n5            0.504825           0.739645         0.505179        0.128842   \n15           0.519669           0.741087         0.497564        0.140600   \n28           0.457569           0.748143         0.474873        0.148503   \n2            0.493083           0.740242         0.469854        0.162117   \n18           0.479719           0.744189         0.459618        0.162325   \n25           0.454495           0.739285         0.453414        0.161853   \n9            0.437570           0.732460         0.447412        0.159888   \n8            0.400084           0.721069         0.422273        0.163464   \n22           0.425701           0.730311         0.417850        0.178924   \n0            0.406210           0.715399         0.415052        0.168989   \n\n    rank_test_score  \n49                1  \n29                1  \n32                1  \n27                1  \n33                1  \n34                1  \n48                1  \n23                1  \n35                1  \n36                1  \n19                1  \n37                1  \n38                1  \n16                1  \n30                1  \n39                1  \n13                1  \n40                1  \n41                1  \n42                1  \n43                1  \n44                1  \n45                1  \n46                1  \n47                1  \n31                1  \n11               27  \n4                28  \n3                28  \n10               30  \n20               31  \n14               32  \n24               33  \n1                34  \n7                34  \n6                34  \n26               37  \n12               38  \n21               39  \n17               40  \n5                41  \n15               42  \n28               43  \n2                44  \n18               45  \n25               46  \n9                47  \n8                48  \n22               49  \n0                50  ",
      "text/html": "<div>\n<style scoped>\n    .dataframe tbody tr th:only-of-type {\n        vertical-align: middle;\n    }\n\n    .dataframe tbody tr th {\n        vertical-align: top;\n    }\n\n    .dataframe thead th {\n        text-align: right;\n    }\n</style>\n<table border=\"1\" class=\"dataframe\">\n  <thead>\n    <tr style=\"text-align: right;\">\n      <th></th>\n      <th>mean_fit_time</th>\n      <th>std_fit_time</th>\n      <th>mean_score_time</th>\n      <th>std_score_time</th>\n      <th>param_model__class_weight</th>\n      <th>param_model__criterion</th>\n      <th>param_model__max_features</th>\n      <th>param_model__splitter</th>\n      <th>params</th>\n      <th>split0_test_score</th>\n      <th>split1_test_score</th>\n      <th>split2_test_score</th>\n      <th>split3_test_score</th>\n      <th>split4_test_score</th>\n      <th>mean_test_score</th>\n      <th>std_test_score</th>\n      <th>rank_test_score</th>\n    </tr>\n  </thead>\n  <tbody>\n    <tr>\n      <th>49</th>\n      <td>1.962907</td>\n      <td>0.027542</td>\n      <td>0.125217</td>\n      <td>0.004432</td>\n      <td>None</td>\n      <td>entropy</td>\n      <td>log2</td>\n      <td>random</td>\n      <td>{'model__class_weight': None, 'model__criterio...</td>\n      <td>0.570013</td>\n      <td>0.615882</td>\n      <td>0.531489</td>\n      <td>0.615077</td>\n      <td>0.750259</td>\n      <td>0.616544</td>\n      <td>0.073867</td>\n      <td>1</td>\n    </tr>\n    <tr>\n      <th>29</th>\n      <td>1.970825</td>\n      <td>0.101165</td>\n      <td>0.108212</td>\n      <td>0.005262</td>\n      <td>None</td>\n      <td>entropy</td>\n      <td>log2</td>\n      <td>random</td>\n      <td>{'model__class_weight': None, 'model__criterio...</td>\n      <td>0.570013</td>\n      <td>0.615882</td>\n      <td>0.531489</td>\n      <td>0.615077</td>\n      <td>0.750259</td>\n      <td>0.616544</td>\n      <td>0.073867</td>\n      <td>1</td>\n    </tr>\n    <tr>\n      <th>32</th>\n      <td>2.004859</td>\n      <td>0.097391</td>\n      <td>0.109537</td>\n      <td>0.005384</td>\n      <td>None</td>\n      <td>entropy</td>\n      <td>log2</td>\n      <td>random</td>\n      <td>{'model__class_weight': None, 'model__criterio...</td>\n      <td>0.570013</td>\n      <td>0.615882</td>\n      <td>0.531489</td>\n      <td>0.615077</td>\n      <td>0.750259</td>\n      <td>0.616544</td>\n      <td>0.073867</td>\n      <td>1</td>\n    </tr>\n    <tr>\n      <th>27</th>\n      <td>1.951181</td>\n      <td>0.061655</td>\n      <td>0.112754</td>\n      <td>0.007601</td>\n      <td>None</td>\n      <td>entropy</td>\n      <td>log2</td>\n      <td>random</td>\n      <td>{'model__class_weight': None, 'model__criterio...</td>\n      <td>0.570013</td>\n      <td>0.615882</td>\n      <td>0.531489</td>\n      <td>0.615077</td>\n      <td>0.750259</td>\n      <td>0.616544</td>\n      <td>0.073867</td>\n      <td>1</td>\n    </tr>\n    <tr>\n      <th>33</th>\n      <td>1.962594</td>\n      <td>0.060569</td>\n      <td>0.111840</td>\n      <td>0.006574</td>\n      <td>None</td>\n      <td>entropy</td>\n      <td>log2</td>\n      <td>random</td>\n      <td>{'model__class_weight': None, 'model__criterio...</td>\n      <td>0.570013</td>\n      <td>0.615882</td>\n      <td>0.531489</td>\n      <td>0.615077</td>\n      <td>0.750259</td>\n      <td>0.616544</td>\n      <td>0.073867</td>\n      <td>1</td>\n    </tr>\n    <tr>\n      <th>34</th>\n      <td>1.991534</td>\n      <td>0.099330</td>\n      <td>0.107633</td>\n      <td>0.005263</td>\n      <td>None</td>\n      <td>entropy</td>\n      <td>log2</td>\n      <td>random</td>\n      <td>{'model__class_weight': None, 'model__criterio...</td>\n      <td>0.570013</td>\n      <td>0.615882</td>\n      <td>0.531489</td>\n      <td>0.615077</td>\n      <td>0.750259</td>\n      <td>0.616544</td>\n      <td>0.073867</td>\n      <td>1</td>\n    </tr>\n    <tr>\n      <th>48</th>\n      <td>1.968533</td>\n      <td>0.065223</td>\n      <td>0.107409</td>\n      <td>0.003843</td>\n      <td>None</td>\n      <td>entropy</td>\n      <td>log2</td>\n      <td>random</td>\n      <td>{'model__class_weight': None, 'model__criterio...</td>\n      <td>0.570013</td>\n      <td>0.615882</td>\n      <td>0.531489</td>\n      <td>0.615077</td>\n      <td>0.750259</td>\n      <td>0.616544</td>\n      <td>0.073867</td>\n      <td>1</td>\n    </tr>\n    <tr>\n      <th>23</th>\n      <td>1.952895</td>\n      <td>0.110128</td>\n      <td>0.107195</td>\n      <td>0.005618</td>\n      <td>None</td>\n      <td>entropy</td>\n      <td>log2</td>\n      <td>random</td>\n      <td>{'model__class_weight': None, 'model__criterio...</td>\n      <td>0.570013</td>\n      <td>0.615882</td>\n      <td>0.531489</td>\n      <td>0.615077</td>\n      <td>0.750259</td>\n      <td>0.616544</td>\n      <td>0.073867</td>\n      <td>1</td>\n    </tr>\n    <tr>\n      <th>35</th>\n      <td>1.959555</td>\n      <td>0.079155</td>\n      <td>0.106977</td>\n      <td>0.006517</td>\n      <td>None</td>\n      <td>entropy</td>\n      <td>log2</td>\n      <td>random</td>\n      <td>{'model__class_weight': None, 'model__criterio...</td>\n      <td>0.570013</td>\n      <td>0.615882</td>\n      <td>0.531489</td>\n      <td>0.615077</td>\n      <td>0.750259</td>\n      <td>0.616544</td>\n      <td>0.073867</td>\n      <td>1</td>\n    </tr>\n    <tr>\n      <th>36</th>\n      <td>1.980895</td>\n      <td>0.089248</td>\n      <td>0.108180</td>\n      <td>0.002840</td>\n      <td>None</td>\n      <td>entropy</td>\n      <td>log2</td>\n      <td>random</td>\n      <td>{'model__class_weight': None, 'model__criterio...</td>\n      <td>0.570013</td>\n      <td>0.615882</td>\n      <td>0.531489</td>\n      <td>0.615077</td>\n      <td>0.750259</td>\n      <td>0.616544</td>\n      <td>0.073867</td>\n      <td>1</td>\n    </tr>\n    <tr>\n      <th>19</th>\n      <td>1.957150</td>\n      <td>0.100456</td>\n      <td>0.107685</td>\n      <td>0.004826</td>\n      <td>None</td>\n      <td>entropy</td>\n      <td>log2</td>\n      <td>random</td>\n      <td>{'model__class_weight': None, 'model__criterio...</td>\n      <td>0.570013</td>\n      <td>0.615882</td>\n      <td>0.531489</td>\n      <td>0.615077</td>\n      <td>0.750259</td>\n      <td>0.616544</td>\n      <td>0.073867</td>\n      <td>1</td>\n    </tr>\n    <tr>\n      <th>37</th>\n      <td>1.958696</td>\n      <td>0.065690</td>\n      <td>0.111068</td>\n      <td>0.005039</td>\n      <td>None</td>\n      <td>entropy</td>\n      <td>log2</td>\n      <td>random</td>\n      <td>{'model__class_weight': None, 'model__criterio...</td>\n      <td>0.570013</td>\n      <td>0.615882</td>\n      <td>0.531489</td>\n      <td>0.615077</td>\n      <td>0.750259</td>\n      <td>0.616544</td>\n      <td>0.073867</td>\n      <td>1</td>\n    </tr>\n    <tr>\n      <th>38</th>\n      <td>1.979734</td>\n      <td>0.101258</td>\n      <td>0.108615</td>\n      <td>0.002746</td>\n      <td>None</td>\n      <td>entropy</td>\n      <td>log2</td>\n      <td>random</td>\n      <td>{'model__class_weight': None, 'model__criterio...</td>\n      <td>0.570013</td>\n      <td>0.615882</td>\n      <td>0.531489</td>\n      <td>0.615077</td>\n      <td>0.750259</td>\n      <td>0.616544</td>\n      <td>0.073867</td>\n      <td>1</td>\n    </tr>\n    <tr>\n      <th>16</th>\n      <td>1.970621</td>\n      <td>0.081201</td>\n      <td>0.109789</td>\n      <td>0.007874</td>\n      <td>None</td>\n      <td>entropy</td>\n      <td>log2</td>\n      <td>random</td>\n      <td>{'model__class_weight': None, 'model__criterio...</td>\n      <td>0.570013</td>\n      <td>0.615882</td>\n      <td>0.531489</td>\n      <td>0.615077</td>\n      <td>0.750259</td>\n      <td>0.616544</td>\n      <td>0.073867</td>\n      <td>1</td>\n    </tr>\n    <tr>\n      <th>30</th>\n      <td>1.938794</td>\n      <td>0.112745</td>\n      <td>0.105952</td>\n      <td>0.004439</td>\n      <td>None</td>\n      <td>entropy</td>\n      <td>log2</td>\n      <td>random</td>\n      <td>{'model__class_weight': None, 'model__criterio...</td>\n      <td>0.570013</td>\n      <td>0.615882</td>\n      <td>0.531489</td>\n      <td>0.615077</td>\n      <td>0.750259</td>\n      <td>0.616544</td>\n      <td>0.073867</td>\n      <td>1</td>\n    </tr>\n    <tr>\n      <th>39</th>\n      <td>1.962883</td>\n      <td>0.079714</td>\n      <td>0.107889</td>\n      <td>0.004034</td>\n      <td>None</td>\n      <td>entropy</td>\n      <td>log2</td>\n      <td>random</td>\n      <td>{'model__class_weight': None, 'model__criterio...</td>\n      <td>0.570013</td>\n      <td>0.615882</td>\n      <td>0.531489</td>\n      <td>0.615077</td>\n      <td>0.750259</td>\n      <td>0.616544</td>\n      <td>0.073867</td>\n      <td>1</td>\n    </tr>\n    <tr>\n      <th>13</th>\n      <td>1.994907</td>\n      <td>0.096426</td>\n      <td>0.107008</td>\n      <td>0.003427</td>\n      <td>None</td>\n      <td>entropy</td>\n      <td>log2</td>\n      <td>random</td>\n      <td>{'model__class_weight': None, 'model__criterio...</td>\n      <td>0.570013</td>\n      <td>0.615882</td>\n      <td>0.531489</td>\n      <td>0.615077</td>\n      <td>0.750259</td>\n      <td>0.616544</td>\n      <td>0.073867</td>\n      <td>1</td>\n    </tr>\n    <tr>\n      <th>40</th>\n      <td>1.958054</td>\n      <td>0.098806</td>\n      <td>0.105435</td>\n      <td>0.003987</td>\n      <td>None</td>\n      <td>entropy</td>\n      <td>log2</td>\n      <td>random</td>\n      <td>{'model__class_weight': None, 'model__criterio...</td>\n      <td>0.570013</td>\n      <td>0.615882</td>\n      <td>0.531489</td>\n      <td>0.615077</td>\n      <td>0.750259</td>\n      <td>0.616544</td>\n      <td>0.073867</td>\n      <td>1</td>\n    </tr>\n    <tr>\n      <th>41</th>\n      <td>1.980248</td>\n      <td>0.093649</td>\n      <td>0.108138</td>\n      <td>0.006390</td>\n      <td>None</td>\n      <td>entropy</td>\n      <td>log2</td>\n      <td>random</td>\n      <td>{'model__class_weight': None, 'model__criterio...</td>\n      <td>0.570013</td>\n      <td>0.615882</td>\n      <td>0.531489</td>\n      <td>0.615077</td>\n      <td>0.750259</td>\n      <td>0.616544</td>\n      <td>0.073867</td>\n      <td>1</td>\n    </tr>\n    <tr>\n      <th>42</th>\n      <td>1.976135</td>\n      <td>0.063238</td>\n      <td>0.109187</td>\n      <td>0.006838</td>\n      <td>None</td>\n      <td>entropy</td>\n      <td>log2</td>\n      <td>random</td>\n      <td>{'model__class_weight': None, 'model__criterio...</td>\n      <td>0.570013</td>\n      <td>0.615882</td>\n      <td>0.531489</td>\n      <td>0.615077</td>\n      <td>0.750259</td>\n      <td>0.616544</td>\n      <td>0.073867</td>\n      <td>1</td>\n    </tr>\n    <tr>\n      <th>43</th>\n      <td>1.948182</td>\n      <td>0.092001</td>\n      <td>0.106417</td>\n      <td>0.003536</td>\n      <td>None</td>\n      <td>entropy</td>\n      <td>log2</td>\n      <td>random</td>\n      <td>{'model__class_weight': None, 'model__criterio...</td>\n      <td>0.570013</td>\n      <td>0.615882</td>\n      <td>0.531489</td>\n      <td>0.615077</td>\n      <td>0.750259</td>\n      <td>0.616544</td>\n      <td>0.073867</td>\n      <td>1</td>\n    </tr>\n    <tr>\n      <th>44</th>\n      <td>1.973704</td>\n      <td>0.105006</td>\n      <td>0.106641</td>\n      <td>0.003981</td>\n      <td>None</td>\n      <td>entropy</td>\n      <td>log2</td>\n      <td>random</td>\n      <td>{'model__class_weight': None, 'model__criterio...</td>\n      <td>0.570013</td>\n      <td>0.615882</td>\n      <td>0.531489</td>\n      <td>0.615077</td>\n      <td>0.750259</td>\n      <td>0.616544</td>\n      <td>0.073867</td>\n      <td>1</td>\n    </tr>\n    <tr>\n      <th>45</th>\n      <td>1.955567</td>\n      <td>0.094565</td>\n      <td>0.107183</td>\n      <td>0.004728</td>\n      <td>None</td>\n      <td>entropy</td>\n      <td>log2</td>\n      <td>random</td>\n      <td>{'model__class_weight': None, 'model__criterio...</td>\n      <td>0.570013</td>\n      <td>0.615882</td>\n      <td>0.531489</td>\n      <td>0.615077</td>\n      <td>0.750259</td>\n      <td>0.616544</td>\n      <td>0.073867</td>\n      <td>1</td>\n    </tr>\n    <tr>\n      <th>46</th>\n      <td>1.939752</td>\n      <td>0.081932</td>\n      <td>0.108016</td>\n      <td>0.004841</td>\n      <td>None</td>\n      <td>entropy</td>\n      <td>log2</td>\n      <td>random</td>\n      <td>{'model__class_weight': None, 'model__criterio...</td>\n      <td>0.570013</td>\n      <td>0.615882</td>\n      <td>0.531489</td>\n      <td>0.615077</td>\n      <td>0.750259</td>\n      <td>0.616544</td>\n      <td>0.073867</td>\n      <td>1</td>\n    </tr>\n    <tr>\n      <th>47</th>\n      <td>1.958396</td>\n      <td>0.067662</td>\n      <td>0.109023</td>\n      <td>0.004645</td>\n      <td>None</td>\n      <td>entropy</td>\n      <td>log2</td>\n      <td>random</td>\n      <td>{'model__class_weight': None, 'model__criterio...</td>\n      <td>0.570013</td>\n      <td>0.615882</td>\n      <td>0.531489</td>\n      <td>0.615077</td>\n      <td>0.750259</td>\n      <td>0.616544</td>\n      <td>0.073867</td>\n      <td>1</td>\n    </tr>\n    <tr>\n      <th>31</th>\n      <td>1.977939</td>\n      <td>0.057453</td>\n      <td>0.109187</td>\n      <td>0.003562</td>\n      <td>None</td>\n      <td>entropy</td>\n      <td>log2</td>\n      <td>random</td>\n      <td>{'model__class_weight': None, 'model__criterio...</td>\n      <td>0.570013</td>\n      <td>0.615882</td>\n      <td>0.531489</td>\n      <td>0.615077</td>\n      <td>0.750259</td>\n      <td>0.616544</td>\n      <td>0.073867</td>\n      <td>1</td>\n    </tr>\n    <tr>\n      <th>11</th>\n      <td>1.965158</td>\n      <td>0.101631</td>\n      <td>0.107167</td>\n      <td>0.005087</td>\n      <td>balanced</td>\n      <td>entropy</td>\n      <td>log2</td>\n      <td>random</td>\n      <td>{'model__class_weight': 'balanced', 'model__cr...</td>\n      <td>0.649844</td>\n      <td>0.493372</td>\n      <td>0.548092</td>\n      <td>0.591511</td>\n      <td>0.757075</td>\n      <td>0.607979</td>\n      <td>0.090526</td>\n      <td>27</td>\n    </tr>\n    <tr>\n      <th>4</th>\n      <td>2.295109</td>\n      <td>0.095115</td>\n      <td>0.107455</td>\n      <td>0.003841</td>\n      <td>balanced</td>\n      <td>entropy</td>\n      <td>sqrt</td>\n      <td>random</td>\n      <td>{'model__class_weight': 'balanced', 'model__cr...</td>\n      <td>0.605404</td>\n      <td>0.423562</td>\n      <td>0.568090</td>\n      <td>0.605385</td>\n      <td>0.749520</td>\n      <td>0.590392</td>\n      <td>0.104021</td>\n      <td>28</td>\n    </tr>\n    <tr>\n      <th>3</th>\n      <td>2.288378</td>\n      <td>0.101195</td>\n      <td>0.106746</td>\n      <td>0.004953</td>\n      <td>balanced</td>\n      <td>entropy</td>\n      <td>sqrt</td>\n      <td>random</td>\n      <td>{'model__class_weight': 'balanced', 'model__cr...</td>\n      <td>0.605404</td>\n      <td>0.423562</td>\n      <td>0.568090</td>\n      <td>0.605385</td>\n      <td>0.749520</td>\n      <td>0.590392</td>\n      <td>0.104021</td>\n      <td>28</td>\n    </tr>\n    <tr>\n      <th>10</th>\n      <td>2.282531</td>\n      <td>0.119547</td>\n      <td>0.103371</td>\n      <td>0.002696</td>\n      <td>None</td>\n      <td>entropy</td>\n      <td>sqrt</td>\n      <td>random</td>\n      <td>{'model__class_weight': None, 'model__criterio...</td>\n      <td>0.594467</td>\n      <td>0.423065</td>\n      <td>0.591581</td>\n      <td>0.593140</td>\n      <td>0.731695</td>\n      <td>0.586790</td>\n      <td>0.097904</td>\n      <td>30</td>\n    </tr>\n    <tr>\n      <th>20</th>\n      <td>1.971083</td>\n      <td>0.076358</td>\n      <td>0.107129</td>\n      <td>0.003886</td>\n      <td>balanced</td>\n      <td>gini</td>\n      <td>log2</td>\n      <td>random</td>\n      <td>{'model__class_weight': 'balanced', 'model__cr...</td>\n      <td>0.609902</td>\n      <td>0.473608</td>\n      <td>0.480957</td>\n      <td>0.625528</td>\n      <td>0.724406</td>\n      <td>0.582880</td>\n      <td>0.094771</td>\n      <td>31</td>\n    </tr>\n    <tr>\n      <th>14</th>\n      <td>1.993735</td>\n      <td>0.103340</td>\n      <td>0.108694</td>\n      <td>0.006552</td>\n      <td>None</td>\n      <td>gini</td>\n      <td>log2</td>\n      <td>random</td>\n      <td>{'model__class_weight': None, 'model__criterio...</td>\n      <td>0.576779</td>\n      <td>0.483367</td>\n      <td>0.508926</td>\n      <td>0.599928</td>\n      <td>0.717171</td>\n      <td>0.577234</td>\n      <td>0.081945</td>\n      <td>32</td>\n    </tr>\n    <tr>\n      <th>24</th>\n      <td>2.284555</td>\n      <td>0.068756</td>\n      <td>0.105548</td>\n      <td>0.005187</td>\n      <td>None</td>\n      <td>gini</td>\n      <td>sqrt</td>\n      <td>random</td>\n      <td>{'model__class_weight': None, 'model__criterio...</td>\n      <td>0.520758</td>\n      <td>0.493382</td>\n      <td>0.516404</td>\n      <td>0.549524</td>\n      <td>0.741554</td>\n      <td>0.564325</td>\n      <td>0.090395</td>\n      <td>33</td>\n    </tr>\n    <tr>\n      <th>1</th>\n      <td>2.271139</td>\n      <td>0.108069</td>\n      <td>0.100664</td>\n      <td>0.003632</td>\n      <td>balanced</td>\n      <td>gini</td>\n      <td>sqrt</td>\n      <td>random</td>\n      <td>{'model__class_weight': 'balanced', 'model__cr...</td>\n      <td>0.526253</td>\n      <td>0.411991</td>\n      <td>0.528280</td>\n      <td>0.578117</td>\n      <td>0.729421</td>\n      <td>0.554812</td>\n      <td>0.102907</td>\n      <td>34</td>\n    </tr>\n    <tr>\n      <th>7</th>\n      <td>2.297010</td>\n      <td>0.107825</td>\n      <td>0.102210</td>\n      <td>0.001920</td>\n      <td>balanced</td>\n      <td>gini</td>\n      <td>sqrt</td>\n      <td>random</td>\n      <td>{'model__class_weight': 'balanced', 'model__cr...</td>\n      <td>0.526253</td>\n      <td>0.411991</td>\n      <td>0.528280</td>\n      <td>0.578117</td>\n      <td>0.729421</td>\n      <td>0.554812</td>\n      <td>0.102907</td>\n      <td>34</td>\n    </tr>\n    <tr>\n      <th>6</th>\n      <td>2.235590</td>\n      <td>0.076924</td>\n      <td>0.103689</td>\n      <td>0.005821</td>\n      <td>balanced</td>\n      <td>gini</td>\n      <td>sqrt</td>\n      <td>random</td>\n      <td>{'model__class_weight': 'balanced', 'model__cr...</td>\n      <td>0.526253</td>\n      <td>0.411991</td>\n      <td>0.528280</td>\n      <td>0.578117</td>\n      <td>0.729421</td>\n      <td>0.554812</td>\n      <td>0.102907</td>\n      <td>34</td>\n    </tr>\n    <tr>\n      <th>26</th>\n      <td>19.788040</td>\n      <td>1.663488</td>\n      <td>0.098589</td>\n      <td>0.003560</td>\n      <td>balanced</td>\n      <td>gini</td>\n      <td>None</td>\n      <td>random</td>\n      <td>{'model__class_weight': 'balanced', 'model__cr...</td>\n      <td>0.522375</td>\n      <td>0.357573</td>\n      <td>0.496318</td>\n      <td>0.523620</td>\n      <td>0.750109</td>\n      <td>0.529999</td>\n      <td>0.126026</td>\n      <td>37</td>\n    </tr>\n    <tr>\n      <th>12</th>\n      <td>14.398538</td>\n      <td>0.686880</td>\n      <td>0.096694</td>\n      <td>0.002435</td>\n      <td>balanced</td>\n      <td>entropy</td>\n      <td>None</td>\n      <td>random</td>\n      <td>{'model__class_weight': 'balanced', 'model__cr...</td>\n      <td>0.470040</td>\n      <td>0.350154</td>\n      <td>0.487366</td>\n      <td>0.509828</td>\n      <td>0.762781</td>\n      <td>0.516034</td>\n      <td>0.135186</td>\n      <td>38</td>\n    </tr>\n    <tr>\n      <th>21</th>\n      <td>15.032422</td>\n      <td>0.843449</td>\n      <td>0.095562</td>\n      <td>0.003625</td>\n      <td>None</td>\n      <td>entropy</td>\n      <td>None</td>\n      <td>random</td>\n      <td>{'model__class_weight': None, 'model__criterio...</td>\n      <td>0.484880</td>\n      <td>0.389581</td>\n      <td>0.456675</td>\n      <td>0.490318</td>\n      <td>0.756549</td>\n      <td>0.515601</td>\n      <td>0.125692</td>\n      <td>39</td>\n    </tr>\n    <tr>\n      <th>17</th>\n      <td>28.506263</td>\n      <td>3.758931</td>\n      <td>0.100126</td>\n      <td>0.004136</td>\n      <td>None</td>\n      <td>gini</td>\n      <td>None</td>\n      <td>random</td>\n      <td>{'model__class_weight': None, 'model__criterio...</td>\n      <td>0.496733</td>\n      <td>0.463051</td>\n      <td>0.374939</td>\n      <td>0.492208</td>\n      <td>0.723938</td>\n      <td>0.510174</td>\n      <td>0.115505</td>\n      <td>40</td>\n    </tr>\n    <tr>\n      <th>5</th>\n      <td>55.766035</td>\n      <td>8.423692</td>\n      <td>0.095556</td>\n      <td>0.001751</td>\n      <td>balanced</td>\n      <td>gini</td>\n      <td>None</td>\n      <td>best</td>\n      <td>{'model__class_weight': 'balanced', 'model__cr...</td>\n      <td>0.491453</td>\n      <td>0.352835</td>\n      <td>0.437139</td>\n      <td>0.504825</td>\n      <td>0.739645</td>\n      <td>0.505179</td>\n      <td>0.128842</td>\n      <td>41</td>\n    </tr>\n    <tr>\n      <th>15</th>\n      <td>33.671793</td>\n      <td>0.641665</td>\n      <td>0.098117</td>\n      <td>0.002125</td>\n      <td>balanced</td>\n      <td>entropy</td>\n      <td>None</td>\n      <td>best</td>\n      <td>{'model__class_weight': 'balanced', 'model__cr...</td>\n      <td>0.496841</td>\n      <td>0.320606</td>\n      <td>0.409619</td>\n      <td>0.519669</td>\n      <td>0.741087</td>\n      <td>0.497564</td>\n      <td>0.140600</td>\n      <td>42</td>\n    </tr>\n    <tr>\n      <th>28</th>\n      <td>36.316064</td>\n      <td>2.132752</td>\n      <td>0.095526</td>\n      <td>0.003236</td>\n      <td>None</td>\n      <td>entropy</td>\n      <td>None</td>\n      <td>best</td>\n      <td>{'model__class_weight': None, 'model__criterio...</td>\n      <td>0.469557</td>\n      <td>0.305681</td>\n      <td>0.393417</td>\n      <td>0.457569</td>\n      <td>0.748143</td>\n      <td>0.474873</td>\n      <td>0.148503</td>\n      <td>43</td>\n    </tr>\n    <tr>\n      <th>2</th>\n      <td>83.505183</td>\n      <td>8.126882</td>\n      <td>0.100278</td>\n      <td>0.006887</td>\n      <td>None</td>\n      <td>gini</td>\n      <td>None</td>\n      <td>best</td>\n      <td>{'model__class_weight': None, 'model__criterio...</td>\n      <td>0.483756</td>\n      <td>0.244391</td>\n      <td>0.387797</td>\n      <td>0.493083</td>\n      <td>0.740242</td>\n      <td>0.469854</td>\n      <td>0.162117</td>\n      <td>44</td>\n    </tr>\n    <tr>\n      <th>18</th>\n      <td>2.688566</td>\n      <td>0.120304</td>\n      <td>0.101286</td>\n      <td>0.001647</td>\n      <td>balanced</td>\n      <td>entropy</td>\n      <td>sqrt</td>\n      <td>best</td>\n      <td>{'model__class_weight': 'balanced', 'model__cr...</td>\n      <td>0.460532</td>\n      <td>0.263985</td>\n      <td>0.349664</td>\n      <td>0.479719</td>\n      <td>0.744189</td>\n      <td>0.459618</td>\n      <td>0.162325</td>\n      <td>45</td>\n    </tr>\n    <tr>\n      <th>25</th>\n      <td>2.930778</td>\n      <td>0.152839</td>\n      <td>0.099705</td>\n      <td>0.002622</td>\n      <td>balanced</td>\n      <td>gini</td>\n      <td>sqrt</td>\n      <td>best</td>\n      <td>{'model__class_weight': 'balanced', 'model__cr...</td>\n      <td>0.447495</td>\n      <td>0.243137</td>\n      <td>0.382657</td>\n      <td>0.454495</td>\n      <td>0.739285</td>\n      <td>0.453414</td>\n      <td>0.161853</td>\n      <td>46</td>\n    </tr>\n    <tr>\n      <th>9</th>\n      <td>3.319754</td>\n      <td>0.209657</td>\n      <td>0.099168</td>\n      <td>0.004189</td>\n      <td>None</td>\n      <td>gini</td>\n      <td>sqrt</td>\n      <td>best</td>\n      <td>{'model__class_weight': None, 'model__criterio...</td>\n      <td>0.424130</td>\n      <td>0.237196</td>\n      <td>0.405706</td>\n      <td>0.437570</td>\n      <td>0.732460</td>\n      <td>0.447412</td>\n      <td>0.159888</td>\n      <td>47</td>\n    </tr>\n    <tr>\n      <th>8</th>\n      <td>2.099065</td>\n      <td>0.081623</td>\n      <td>0.101873</td>\n      <td>0.003493</td>\n      <td>balanced</td>\n      <td>gini</td>\n      <td>log2</td>\n      <td>best</td>\n      <td>{'model__class_weight': 'balanced', 'model__cr...</td>\n      <td>0.426732</td>\n      <td>0.235310</td>\n      <td>0.328169</td>\n      <td>0.400084</td>\n      <td>0.721069</td>\n      <td>0.422273</td>\n      <td>0.163464</td>\n      <td>48</td>\n    </tr>\n    <tr>\n      <th>22</th>\n      <td>2.112915</td>\n      <td>0.107157</td>\n      <td>0.102402</td>\n      <td>0.005184</td>\n      <td>None</td>\n      <td>entropy</td>\n      <td>log2</td>\n      <td>best</td>\n      <td>{'model__class_weight': None, 'model__criterio...</td>\n      <td>0.433667</td>\n      <td>0.196714</td>\n      <td>0.302856</td>\n      <td>0.425701</td>\n      <td>0.730311</td>\n      <td>0.417850</td>\n      <td>0.178924</td>\n      <td>49</td>\n    </tr>\n    <tr>\n      <th>0</th>\n      <td>2.151113</td>\n      <td>0.041985</td>\n      <td>0.110634</td>\n      <td>0.002044</td>\n      <td>None</td>\n      <td>gini</td>\n      <td>log2</td>\n      <td>best</td>\n      <td>{'model__class_weight': None, 'model__criterio...</td>\n      <td>0.419516</td>\n      <td>0.201187</td>\n      <td>0.332947</td>\n      <td>0.406210</td>\n      <td>0.715399</td>\n      <td>0.415052</td>\n      <td>0.168989</td>\n      <td>50</td>\n    </tr>\n  </tbody>\n</table>\n</div>"
     },
     "execution_count": 114,
     "metadata": {},
     "output_type": "execute_result"
    }
   ],
   "source": [
    "dtc_grid_search_dataframe = pd.DataFrame(\n",
    "    np.load(\"Dataset_Files/Baseline_Models/Classification/optimised_dtc_cv_results.npy\", allow_pickle=True).tolist())\n",
    "dtc_grid_search_dataframe.sort_values(by=[\"rank_test_score\"], inplace=True)\n",
    "dtc_grid_search_dataframe"
   ],
   "metadata": {
    "collapsed": false,
    "pycharm": {
     "name": "#%%\n"
    }
   }
  },
  {
   "cell_type": "markdown",
   "source": [
    "### Testing"
   ],
   "metadata": {
    "collapsed": false,
    "pycharm": {
     "name": "#%% md\n"
    }
   }
  },
  {
   "cell_type": "code",
   "execution_count": 115,
   "outputs": [
    {
     "name": "stdout",
     "output_type": "stream",
     "text": [
      "F1 score: 0.924736055099914\n",
      "Matthews Correlation Coefficient: 0.7190178962152716\n",
      "Accuracy score: 0.8897846786768853\n",
      "Recall score: 0.9275942002636244\n",
      "Precision score: 0.9218954691240909\n"
     ]
    }
   ],
   "source": [
    "y_test_pred = optimised_dtc.predict(X_test)\n",
    "calculate_metrics_classification(y_test, y_test_pred)"
   ],
   "metadata": {
    "collapsed": false,
    "pycharm": {
     "name": "#%%\n"
    }
   }
  },
  {
   "cell_type": "markdown",
   "metadata": {
    "pycharm": {
     "name": "#%% md\n"
    }
   },
   "source": [
    "## Random Forest Classifier (RFC)"
   ]
  },
  {
   "cell_type": "code",
   "execution_count": 70,
   "metadata": {
    "pycharm": {
     "name": "#%%\n"
    }
   },
   "outputs": [
    {
     "data": {
      "text/plain": "{'memory': None,\n 'steps': [('scale', StandardScaler()),\n  ('model', RandomForestClassifier(random_state=42))],\n 'verbose': False,\n 'scale': StandardScaler(),\n 'model': RandomForestClassifier(random_state=42),\n 'scale__copy': True,\n 'scale__with_mean': True,\n 'scale__with_std': True,\n 'model__bootstrap': True,\n 'model__ccp_alpha': 0.0,\n 'model__class_weight': None,\n 'model__criterion': 'gini',\n 'model__max_depth': None,\n 'model__max_features': 'sqrt',\n 'model__max_leaf_nodes': None,\n 'model__max_samples': None,\n 'model__min_impurity_decrease': 0.0,\n 'model__min_samples_leaf': 1,\n 'model__min_samples_split': 2,\n 'model__min_weight_fraction_leaf': 0.0,\n 'model__n_estimators': 100,\n 'model__n_jobs': None,\n 'model__oob_score': False,\n 'model__random_state': 42,\n 'model__verbose': 0,\n 'model__warm_start': False}"
     },
     "execution_count": 70,
     "metadata": {},
     "output_type": "execute_result"
    }
   ],
   "source": [
    "pipe = Pipeline(\n",
    "    [\n",
    "        ('scale', StandardScaler()),\n",
    "        ('model', RandomForestClassifier(random_state=42))\n",
    "    ]\n",
    ")\n",
    "pipe.get_params()"
   ]
  },
  {
   "cell_type": "code",
   "execution_count": 71,
   "metadata": {
    "pycharm": {
     "name": "#%%\n"
    }
   },
   "outputs": [],
   "source": [
    "model = BayesSearchCV(estimator=pipe,\n",
    "                      search_spaces=\n",
    "                      {'model__n_estimators': Integer(100, 800),\n",
    "                       'model__criterion': Categorical(['gini', 'entropy', 'log_loss']),\n",
    "                       'model__max_features': Categorical([None, 'sqrt', 'log2']),\n",
    "                       'model__class_weight': Categorical([None, 'balanced', 'balanced_subsample'])\n",
    "                       },\n",
    "                      scoring='f1',\n",
    "                      cv=5,\n",
    "                      error_score=np.nan,\n",
    "                      n_jobs=-1,\n",
    "                      pre_dispatch='2*n_jobs',\n",
    "                      random_state=42)"
   ]
  },
  {
   "cell_type": "markdown",
   "source": [
    "### Training"
   ],
   "metadata": {
    "collapsed": false,
    "pycharm": {
     "name": "#%% md\n"
    }
   }
  },
  {
   "cell_type": "code",
   "execution_count": 72,
   "metadata": {
    "pycharm": {
     "name": "#%%\n"
    }
   },
   "outputs": [
    {
     "name": "stdout",
     "output_type": "stream",
     "text": [
      "Iteration Completed: 1\n",
      "Iteration Completed: 2\n",
      "Iteration Completed: 3\n",
      "Iteration Completed: 4\n",
      "Iteration Completed: 5\n",
      "Iteration Completed: 6\n",
      "Iteration Completed: 7\n",
      "Iteration Completed: 8\n",
      "Iteration Completed: 9\n",
      "Iteration Completed: 10\n",
      "Iteration Completed: 11\n",
      "Iteration Completed: 12\n",
      "Iteration Completed: 13\n",
      "Iteration Completed: 14\n",
      "Iteration Completed: 15\n",
      "Iteration Completed: 16\n",
      "Iteration Completed: 17\n",
      "Iteration Completed: 18\n",
      "Iteration Completed: 19\n"
     ]
    },
    {
     "name": "stderr",
     "output_type": "stream",
     "text": [
      "C:\\Users\\jogeo\\anaconda3\\envs\\AlphaFold_Dataset_Drug_Binding_Prediction\\lib\\site-packages\\skopt\\optimizer\\optimizer.py:449: UserWarning: The objective has been evaluated at this point before.\n",
      "  warnings.warn(\"The objective has been evaluated \"\n"
     ]
    },
    {
     "name": "stdout",
     "output_type": "stream",
     "text": [
      "Iteration Completed: 20\n",
      "Iteration Completed: 21\n",
      "Iteration Completed: 22\n",
      "Iteration Completed: 23\n"
     ]
    },
    {
     "name": "stderr",
     "output_type": "stream",
     "text": [
      "C:\\Users\\jogeo\\anaconda3\\envs\\AlphaFold_Dataset_Drug_Binding_Prediction\\lib\\site-packages\\skopt\\optimizer\\optimizer.py:449: UserWarning: The objective has been evaluated at this point before.\n",
      "  warnings.warn(\"The objective has been evaluated \"\n"
     ]
    },
    {
     "name": "stdout",
     "output_type": "stream",
     "text": [
      "Iteration Completed: 24\n",
      "Iteration Completed: 25\n",
      "Iteration Completed: 26\n",
      "Iteration Completed: 27\n",
      "Iteration Completed: 28\n",
      "Iteration Completed: 29\n",
      "Iteration Completed: 30\n",
      "Iteration Completed: 31\n",
      "Iteration Completed: 32\n",
      "Iteration Completed: 33\n"
     ]
    },
    {
     "name": "stderr",
     "output_type": "stream",
     "text": [
      "C:\\Users\\jogeo\\anaconda3\\envs\\AlphaFold_Dataset_Drug_Binding_Prediction\\lib\\site-packages\\skopt\\optimizer\\optimizer.py:449: UserWarning: The objective has been evaluated at this point before.\n",
      "  warnings.warn(\"The objective has been evaluated \"\n"
     ]
    },
    {
     "name": "stdout",
     "output_type": "stream",
     "text": [
      "Iteration Completed: 34\n"
     ]
    },
    {
     "name": "stderr",
     "output_type": "stream",
     "text": [
      "C:\\Users\\jogeo\\anaconda3\\envs\\AlphaFold_Dataset_Drug_Binding_Prediction\\lib\\site-packages\\skopt\\optimizer\\optimizer.py:449: UserWarning: The objective has been evaluated at this point before.\n",
      "  warnings.warn(\"The objective has been evaluated \"\n"
     ]
    },
    {
     "name": "stdout",
     "output_type": "stream",
     "text": [
      "Iteration Completed: 35\n",
      "Iteration Completed: 36\n"
     ]
    },
    {
     "name": "stderr",
     "output_type": "stream",
     "text": [
      "C:\\Users\\jogeo\\anaconda3\\envs\\AlphaFold_Dataset_Drug_Binding_Prediction\\lib\\site-packages\\skopt\\optimizer\\optimizer.py:449: UserWarning: The objective has been evaluated at this point before.\n",
      "  warnings.warn(\"The objective has been evaluated \"\n"
     ]
    },
    {
     "name": "stdout",
     "output_type": "stream",
     "text": [
      "Iteration Completed: 37\n"
     ]
    },
    {
     "name": "stderr",
     "output_type": "stream",
     "text": [
      "C:\\Users\\jogeo\\anaconda3\\envs\\AlphaFold_Dataset_Drug_Binding_Prediction\\lib\\site-packages\\skopt\\optimizer\\optimizer.py:449: UserWarning: The objective has been evaluated at this point before.\n",
      "  warnings.warn(\"The objective has been evaluated \"\n"
     ]
    },
    {
     "name": "stdout",
     "output_type": "stream",
     "text": [
      "Iteration Completed: 38\n",
      "Iteration Completed: 39\n"
     ]
    },
    {
     "name": "stderr",
     "output_type": "stream",
     "text": [
      "C:\\Users\\jogeo\\anaconda3\\envs\\AlphaFold_Dataset_Drug_Binding_Prediction\\lib\\site-packages\\skopt\\optimizer\\optimizer.py:449: UserWarning: The objective has been evaluated at this point before.\n",
      "  warnings.warn(\"The objective has been evaluated \"\n"
     ]
    },
    {
     "name": "stdout",
     "output_type": "stream",
     "text": [
      "Iteration Completed: 40\n",
      "Iteration Completed: 41\n",
      "Iteration Completed: 42\n",
      "Iteration Completed: 43\n",
      "Iteration Completed: 44\n"
     ]
    },
    {
     "name": "stderr",
     "output_type": "stream",
     "text": [
      "C:\\Users\\jogeo\\anaconda3\\envs\\AlphaFold_Dataset_Drug_Binding_Prediction\\lib\\site-packages\\skopt\\optimizer\\optimizer.py:449: UserWarning: The objective has been evaluated at this point before.\n",
      "  warnings.warn(\"The objective has been evaluated \"\n"
     ]
    },
    {
     "name": "stdout",
     "output_type": "stream",
     "text": [
      "Iteration Completed: 45\n"
     ]
    },
    {
     "name": "stderr",
     "output_type": "stream",
     "text": [
      "C:\\Users\\jogeo\\anaconda3\\envs\\AlphaFold_Dataset_Drug_Binding_Prediction\\lib\\site-packages\\skopt\\optimizer\\optimizer.py:449: UserWarning: The objective has been evaluated at this point before.\n",
      "  warnings.warn(\"The objective has been evaluated \"\n"
     ]
    },
    {
     "name": "stdout",
     "output_type": "stream",
     "text": [
      "Iteration Completed: 46\n",
      "Iteration Completed: 47\n"
     ]
    },
    {
     "name": "stderr",
     "output_type": "stream",
     "text": [
      "C:\\Users\\jogeo\\anaconda3\\envs\\AlphaFold_Dataset_Drug_Binding_Prediction\\lib\\site-packages\\skopt\\optimizer\\optimizer.py:449: UserWarning: The objective has been evaluated at this point before.\n",
      "  warnings.warn(\"The objective has been evaluated \"\n"
     ]
    },
    {
     "name": "stdout",
     "output_type": "stream",
     "text": [
      "Iteration Completed: 48\n"
     ]
    },
    {
     "name": "stderr",
     "output_type": "stream",
     "text": [
      "C:\\Users\\jogeo\\anaconda3\\envs\\AlphaFold_Dataset_Drug_Binding_Prediction\\lib\\site-packages\\skopt\\optimizer\\optimizer.py:449: UserWarning: The objective has been evaluated at this point before.\n",
      "  warnings.warn(\"The objective has been evaluated \"\n"
     ]
    },
    {
     "name": "stdout",
     "output_type": "stream",
     "text": [
      "Iteration Completed: 49\n"
     ]
    },
    {
     "name": "stderr",
     "output_type": "stream",
     "text": [
      "C:\\Users\\jogeo\\anaconda3\\envs\\AlphaFold_Dataset_Drug_Binding_Prediction\\lib\\site-packages\\skopt\\optimizer\\optimizer.py:449: UserWarning: The objective has been evaluated at this point before.\n",
      "  warnings.warn(\"The objective has been evaluated \"\n"
     ]
    },
    {
     "name": "stdout",
     "output_type": "stream",
     "text": [
      "Iteration Completed: 50\n",
      "F1 score: 0.999979591420233\n",
      "Matthews Correlation Coefficient: 0.9999223540469564\n",
      "Accuracy score: 0.9999699112381526\n",
      "Recall score: 0.9999863941875969\n",
      "Precision score: 0.9999727887454251\n"
     ]
    }
   ],
   "source": [
    "# index = 1\n",
    "# model.fit(X_train, y_train, callback=on_step)\n",
    "#\n",
    "# optimised_rfc = model.best_estimator_\n",
    "#\n",
    "# y_train_pred = optimised_rfc.predict(X_train)\n",
    "# calculate_metrics_classification(y_train, y_train_pred)\n",
    "#\n",
    "# # Save Model\n",
    "# dump(optimised_rfc, 'Dataset_Files/Baseline_Models/Classification/optimised_rfc.joblib')\n",
    "# np.save(\"Dataset_Files/Baseline_Models/Classification/optimised_rfc_cv_results.npy\", model.cv_results_)"
   ]
  },
  {
   "cell_type": "code",
   "execution_count": 83,
   "outputs": [],
   "source": [
    "# Load Model\n",
    "optimised_rfc = load('Dataset_Files/Baseline_Models/Classification/optimised_rfc.joblib')"
   ],
   "metadata": {
    "collapsed": false,
    "pycharm": {
     "name": "#%%\n"
    }
   }
  },
  {
   "cell_type": "code",
   "execution_count": 84,
   "outputs": [
    {
     "name": "stdout",
     "output_type": "stream",
     "text": [
      "F1 score: 0.999979591420233\n",
      "Matthews Correlation Coefficient: 0.9999223540469564\n",
      "Accuracy score: 0.9999699112381526\n",
      "Recall score: 0.9999863941875969\n",
      "Precision score: 0.9999727887454251\n"
     ]
    }
   ],
   "source": [
    "y_train_pred = optimised_rfc.predict(X_train)\n",
    "calculate_metrics_classification(y_train, y_train_pred)"
   ],
   "metadata": {
    "collapsed": false,
    "pycharm": {
     "name": "#%%\n"
    }
   }
  },
  {
   "cell_type": "code",
   "execution_count": null,
   "outputs": [],
   "source": [
    "optimised_rfc.get_params()"
   ],
   "metadata": {
    "collapsed": false,
    "pycharm": {
     "name": "#%%\n"
    }
   }
  },
  {
   "cell_type": "code",
   "execution_count": null,
   "outputs": [],
   "source": [
    "rfc_grid_search_dataframe = pd.DataFrame(\n",
    "    np.load(\"Dataset_Files/Baseline_Models/Classification/optimised_rfc_cv_results.npy\", allow_pickle=True).tolist())\n",
    "rfc_grid_search_dataframe.sort_values(by=[\"rank_test_score\"], inplace=True)\n",
    "rfc_grid_search_dataframe"
   ],
   "metadata": {
    "collapsed": false,
    "pycharm": {
     "name": "#%%\n"
    }
   }
  },
  {
   "cell_type": "markdown",
   "source": [
    "### Testing"
   ],
   "metadata": {
    "collapsed": false,
    "pycharm": {
     "name": "#%% md\n"
    }
   }
  },
  {
   "cell_type": "code",
   "execution_count": 87,
   "outputs": [
    {
     "name": "stdout",
     "output_type": "stream",
     "text": [
      "F1 score: 0.8366533864541833\n",
      "Matthews Correlation Coefficient: 0.3509927517677628\n",
      "Accuracy score: 0.7487745098039216\n",
      "Recall score: 0.9325044404973357\n",
      "Precision score: 0.7586705202312138\n"
     ]
    }
   ],
   "source": [
    "y_test_pred = optimised_rfc.predict(X_test)\n",
    "calculate_metrics_classification(y_test, y_test_pred)"
   ],
   "metadata": {
    "collapsed": false,
    "pycharm": {
     "name": "#%%\n"
    }
   }
  },
  {
   "cell_type": "markdown",
   "source": [
    "## Stochastic Gradient Descent Classifier (SGDC)"
   ],
   "metadata": {
    "collapsed": false,
    "pycharm": {
     "name": "#%% md\n"
    }
   }
  },
  {
   "cell_type": "code",
   "execution_count": 88,
   "outputs": [
    {
     "data": {
      "text/plain": "{'memory': None,\n 'steps': [('scale', StandardScaler()),\n  ('model', SGDClassifier(random_state=42))],\n 'verbose': False,\n 'scale': StandardScaler(),\n 'model': SGDClassifier(random_state=42),\n 'scale__copy': True,\n 'scale__with_mean': True,\n 'scale__with_std': True,\n 'model__alpha': 0.0001,\n 'model__average': False,\n 'model__class_weight': None,\n 'model__early_stopping': False,\n 'model__epsilon': 0.1,\n 'model__eta0': 0.0,\n 'model__fit_intercept': True,\n 'model__l1_ratio': 0.15,\n 'model__learning_rate': 'optimal',\n 'model__loss': 'hinge',\n 'model__max_iter': 1000,\n 'model__n_iter_no_change': 5,\n 'model__n_jobs': None,\n 'model__penalty': 'l2',\n 'model__power_t': 0.5,\n 'model__random_state': 42,\n 'model__shuffle': True,\n 'model__tol': 0.001,\n 'model__validation_fraction': 0.1,\n 'model__verbose': 0,\n 'model__warm_start': False}"
     },
     "execution_count": 88,
     "metadata": {},
     "output_type": "execute_result"
    }
   ],
   "source": [
    "pipe = Pipeline(\n",
    "    [\n",
    "        ('scale', StandardScaler()),\n",
    "        ('model', SGDClassifier(random_state=42))\n",
    "    ]\n",
    ")\n",
    "pipe.get_params()"
   ],
   "metadata": {
    "collapsed": false,
    "pycharm": {
     "name": "#%%\n"
    }
   }
  },
  {
   "cell_type": "code",
   "execution_count": 92,
   "outputs": [],
   "source": [
    "model = BayesSearchCV(estimator=pipe,\n",
    "                      search_spaces=\n",
    "                      {'model__loss': Categorical(\n",
    "                          ['hinge', 'log_loss', 'modified_huber', 'squared_hinge', 'perceptron', 'squared_error',\n",
    "                           'huber', 'epsilon_insensitive', 'squared_epsilon_insensitive']),\n",
    "                          'model__penalty': Categorical(['l2', 'l1', 'elasticnet']),\n",
    "                          'model__alpha': Real(1e-6, 1e-1, prior='log-uniform'),\n",
    "                          'model__learning_rate': Categorical(['constant', 'optimal', 'invscaling', 'adaptive']),\n",
    "                          'model__eta0': Real(1e-6, 1e-1, prior='log-uniform'),\n",
    "                          'model__class_weight': Categorical([None, 'balanced'])\n",
    "                      },\n",
    "                      scoring='f1',\n",
    "                      cv=5,\n",
    "                      error_score=np.nan,\n",
    "                      n_jobs=-1,\n",
    "                      pre_dispatch='2*n_jobs',\n",
    "                      random_state=42)"
   ],
   "metadata": {
    "collapsed": false,
    "pycharm": {
     "name": "#%%\n"
    }
   }
  },
  {
   "cell_type": "markdown",
   "source": [
    "### Training"
   ],
   "metadata": {
    "collapsed": false,
    "pycharm": {
     "name": "#%% md\n"
    }
   }
  },
  {
   "cell_type": "code",
   "execution_count": 93,
   "outputs": [
    {
     "name": "stdout",
     "output_type": "stream",
     "text": [
      "Iteration Completed: 1\n",
      "Iteration Completed: 2\n",
      "Iteration Completed: 3\n",
      "Iteration Completed: 4\n",
      "Iteration Completed: 5\n",
      "Iteration Completed: 6\n",
      "Iteration Completed: 7\n",
      "Iteration Completed: 8\n",
      "Iteration Completed: 9\n",
      "Iteration Completed: 10\n",
      "Iteration Completed: 11\n",
      "Iteration Completed: 12\n",
      "Iteration Completed: 13\n",
      "Iteration Completed: 14\n",
      "Iteration Completed: 15\n",
      "Iteration Completed: 16\n",
      "Iteration Completed: 17\n",
      "Iteration Completed: 18\n",
      "Iteration Completed: 19\n",
      "Iteration Completed: 20\n",
      "Iteration Completed: 21\n",
      "Iteration Completed: 22\n",
      "Iteration Completed: 23\n",
      "Iteration Completed: 24\n",
      "Iteration Completed: 25\n",
      "Iteration Completed: 26\n",
      "Iteration Completed: 27\n",
      "Iteration Completed: 28\n",
      "Iteration Completed: 29\n",
      "Iteration Completed: 30\n",
      "Iteration Completed: 31\n",
      "Iteration Completed: 32\n",
      "Iteration Completed: 33\n",
      "Iteration Completed: 34\n",
      "Iteration Completed: 35\n",
      "Iteration Completed: 36\n",
      "Iteration Completed: 37\n",
      "Iteration Completed: 38\n",
      "Iteration Completed: 39\n",
      "Iteration Completed: 40\n",
      "Iteration Completed: 41\n",
      "Iteration Completed: 42\n",
      "Iteration Completed: 43\n",
      "Iteration Completed: 44\n",
      "Iteration Completed: 45\n",
      "Iteration Completed: 46\n",
      "Iteration Completed: 47\n",
      "Iteration Completed: 48\n",
      "Iteration Completed: 49\n",
      "Iteration Completed: 50\n",
      "F1 score: 0.8824109461906819\n",
      "Matthews Correlation Coefficient: 0.4888642293368735\n",
      "Accuracy score: 0.8170101800310917\n",
      "Recall score: 0.9314130996761817\n",
      "Precision score: 0.8383071478429116\n"
     ]
    }
   ],
   "source": [
    "index = 1\n",
    "model.fit(X_train, y_train, callback=on_step)\n",
    "\n",
    "optimised_sgdc = model.best_estimator_\n",
    "\n",
    "y_train_pred = optimised_sgdc.predict(X_train)\n",
    "calculate_metrics_classification(y_train, y_train_pred)\n",
    "\n",
    "# Save Model\n",
    "dump(optimised_sgdc, 'Dataset_Files/Baseline_Models/Classification/optimised_sgdc.joblib')\n",
    "np.save(\"Dataset_Files/Baseline_Models/Classification/optimised_sgdc_cv_results.npy\", model.cv_results_)"
   ],
   "metadata": {
    "collapsed": false,
    "pycharm": {
     "name": "#%%\n"
    }
   }
  },
  {
   "cell_type": "code",
   "execution_count": 94,
   "outputs": [],
   "source": [
    "# Load Model\n",
    "optimised_sgdc = load('Dataset_Files/Baseline_Models/Classification/optimised_sgdc.joblib')"
   ],
   "metadata": {
    "collapsed": false,
    "pycharm": {
     "name": "#%%\n"
    }
   }
  },
  {
   "cell_type": "code",
   "execution_count": 95,
   "outputs": [
    {
     "name": "stdout",
     "output_type": "stream",
     "text": [
      "F1 score: 0.8824109461906819\n",
      "Matthews Correlation Coefficient: 0.4888642293368735\n",
      "Accuracy score: 0.8170101800310917\n",
      "Recall score: 0.9314130996761817\n",
      "Precision score: 0.8383071478429116\n"
     ]
    }
   ],
   "source": [
    "y_train_pred = optimised_sgdc.predict(X_train)\n",
    "calculate_metrics_classification(y_train, y_train_pred)"
   ],
   "metadata": {
    "collapsed": false,
    "pycharm": {
     "name": "#%%\n"
    }
   }
  },
  {
   "cell_type": "code",
   "execution_count": 96,
   "outputs": [
    {
     "data": {
      "text/plain": "{'memory': None,\n 'steps': [('scale', StandardScaler()),\n  ('model',\n   SGDClassifier(alpha=1e-06, eta0=0.0009866506104658564, learning_rate='adaptive',\n                 loss='log_loss', penalty='elasticnet', random_state=42))],\n 'verbose': False,\n 'scale': StandardScaler(),\n 'model': SGDClassifier(alpha=1e-06, eta0=0.0009866506104658564, learning_rate='adaptive',\n               loss='log_loss', penalty='elasticnet', random_state=42),\n 'scale__copy': True,\n 'scale__with_mean': True,\n 'scale__with_std': True,\n 'model__alpha': 1e-06,\n 'model__average': False,\n 'model__class_weight': None,\n 'model__early_stopping': False,\n 'model__epsilon': 0.1,\n 'model__eta0': 0.0009866506104658564,\n 'model__fit_intercept': True,\n 'model__l1_ratio': 0.15,\n 'model__learning_rate': 'adaptive',\n 'model__loss': 'log_loss',\n 'model__max_iter': 1000,\n 'model__n_iter_no_change': 5,\n 'model__n_jobs': None,\n 'model__penalty': 'elasticnet',\n 'model__power_t': 0.5,\n 'model__random_state': 42,\n 'model__shuffle': True,\n 'model__tol': 0.001,\n 'model__validation_fraction': 0.1,\n 'model__verbose': 0,\n 'model__warm_start': False}"
     },
     "execution_count": 96,
     "metadata": {},
     "output_type": "execute_result"
    }
   ],
   "source": [
    "optimised_sgdc.get_params()"
   ],
   "metadata": {
    "collapsed": false,
    "pycharm": {
     "name": "#%%\n"
    }
   }
  },
  {
   "cell_type": "code",
   "execution_count": null,
   "outputs": [],
   "source": [
    "sgdc_grid_search_dataframe = pd.DataFrame(\n",
    "    np.load(\"Dataset_Files/Baseline_Models/Classification/optimised_sgdc_cv_results.npy\", allow_pickle=True).tolist())\n",
    "sgdc_grid_search_dataframe.sort_values(by=[\"rank_test_score\"], inplace=True)\n",
    "sgdc_grid_search_dataframe"
   ],
   "metadata": {
    "collapsed": false,
    "pycharm": {
     "name": "#%%\n"
    }
   }
  },
  {
   "cell_type": "markdown",
   "source": [
    "### Testing"
   ],
   "metadata": {
    "collapsed": false,
    "pycharm": {
     "name": "#%% md\n"
    }
   }
  },
  {
   "cell_type": "code",
   "execution_count": 97,
   "outputs": [
    {
     "name": "stdout",
     "output_type": "stream",
     "text": [
      "F1 score: 0.8147527242246437\n",
      "Matthews Correlation Coefficient: 0.3242109535725276\n",
      "Accuracy score: 0.7291666666666666\n",
      "Recall score: 0.8632326820603907\n",
      "Precision score: 0.7714285714285715\n"
     ]
    }
   ],
   "source": [
    "y_test_pred = optimised_sgdc.predict(X_test)\n",
    "calculate_metrics_classification(y_test, y_test_pred)"
   ],
   "metadata": {
    "collapsed": false,
    "pycharm": {
     "name": "#%%\n"
    }
   }
  }
 ],
 "metadata": {
  "kernelspec": {
   "display_name": "AlphaFold Project Environment",
   "language": "python",
   "name": "alphafold_dataset_drug_binding_prediction"
  },
  "language_info": {
   "codemirror_mode": {
    "name": "ipython",
    "version": 3
   },
   "file_extension": ".py",
   "mimetype": "text/x-python",
   "name": "python",
   "nbconvert_exporter": "python",
   "pygments_lexer": "ipython3",
   "version": "3.9.13"
  }
 },
 "nbformat": 4,
 "nbformat_minor": 1
}